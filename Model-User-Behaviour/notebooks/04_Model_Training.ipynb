{
 "cells": [
  {
   "attachments": {},
   "cell_type": "markdown",
   "metadata": {},
   "source": [
    "# Model Training\n",
    "Die Daten werden geladen, vorverarbeitet und trainiert"
   ]
  },
  {
   "attachments": {},
   "cell_type": "markdown",
   "metadata": {},
   "source": [
    "### Allgemeines Setup"
   ]
  },
  {
   "cell_type": "code",
   "execution_count": 37,
   "metadata": {},
   "outputs": [],
   "source": [
    "## for data\n",
    "import pandas as pd\n",
    "import numpy as np\n",
    "## for plotting\n",
    "import matplotlib.pyplot as plt\n",
    "import seaborn as sns\n",
    "## for statistical tests\n",
    "import scipy\n",
    "import statsmodels.formula.api as smf\n",
    "## for machine learning\n",
    "from sklearn import model_selection, preprocessing, feature_selection, ensemble, linear_model\n",
    "from sklearn.ensemble import GradientBoostingClassifier\n",
    "## for explainer\n",
    "from lime import lime_tabular\n",
    "from sklearn.utils import shuffle\n",
    "from sklearn.preprocessing import StandardScaler\n",
    "from sklearn.model_selection import train_test_split\n",
    "\n",
    "from sklearn.ensemble import RandomForestClassifier\n",
    "from numpy import mean\n",
    "from numpy import std\n",
    "from sklearn.datasets import make_classification\n",
    "from sklearn.model_selection import cross_val_score\n",
    "from sklearn.model_selection import RepeatedStratifiedKFold\n",
    "from sklearn.metrics import precision_score, recall_score, f1_score, accuracy_score, matthews_corrcoef, confusion_matrix, roc_auc_score\n",
    "from sklearn.neighbors import KNeighborsClassifier\n",
    "from sklearn.linear_model import LogisticRegression\n",
    "from sklearn import svm\n",
    "from sklearn.ensemble import GradientBoostingClassifier\n",
    "from sklearn.naive_bayes import GaussianNB\n",
    "\n",
    "from sklearn.preprocessing import RobustScaler\n",
    "from sklearn.preprocessing import MinMaxScaler\n",
    "\n",
    "from sklearn.model_selection import GridSearchCV\n",
    "from sklearn.metrics import roc_auc_score\n",
    "from sklearn.metrics import plot_roc_curve\n",
    "\n",
    "from sklearn.datasets import make_classification\n",
    "from sklearn.discriminant_analysis import LinearDiscriminantAnalysis\n",
    "\n",
    "from sklearn.datasets import make_classification\n",
    "from sklearn.discriminant_analysis import LinearDiscriminantAnalysis\n",
    "\n",
    "from sklearn.model_selection import RepeatedStratifiedKFold\n",
    "from sklearn.model_selection import cross_val_score\n"
   ]
  },
  {
   "attachments": {},
   "cell_type": "markdown",
   "metadata": {},
   "source": [
    "## 1.1 Duration und alle Events"
   ]
  },
  {
   "attachments": {},
   "cell_type": "markdown",
   "metadata": {},
   "source": [
    "##### 1.2 Lade die Sessions"
   ]
  },
  {
   "cell_type": "code",
   "execution_count": 3,
   "metadata": {},
   "outputs": [],
   "source": [
    "df_count = pd.read_pickle('../resources/SortedBySessions.pkl')"
   ]
  },
  {
   "attachments": {},
   "cell_type": "markdown",
   "metadata": {},
   "source": [
    "Hier wird ein neues Dataframe kreiert mit der unten gezeigten Struktur."
   ]
  },
  {
   "cell_type": "code",
   "execution_count": 4,
   "metadata": {},
   "outputs": [
    {
     "data": {
      "text/html": [
       "<div>\n",
       "<style scoped>\n",
       "    .dataframe tbody tr th:only-of-type {\n",
       "        vertical-align: middle;\n",
       "    }\n",
       "\n",
       "    .dataframe tbody tr th {\n",
       "        vertical-align: top;\n",
       "    }\n",
       "\n",
       "    .dataframe thead th {\n",
       "        text-align: right;\n",
       "    }\n",
       "</style>\n",
       "<table border=\"1\" class=\"dataframe\">\n",
       "  <thead>\n",
       "    <tr style=\"text-align: right;\">\n",
       "      <th></th>\n",
       "      <th>duration</th>\n",
       "      <th>siteName</th>\n",
       "      <th>total_counts</th>\n",
       "    </tr>\n",
       "  </thead>\n",
       "  <tbody>\n",
       "    <tr>\n",
       "      <th>0</th>\n",
       "      <td>136.831</td>\n",
       "      <td>1</td>\n",
       "      <td>159</td>\n",
       "    </tr>\n",
       "    <tr>\n",
       "      <th>1</th>\n",
       "      <td>33.249</td>\n",
       "      <td>1</td>\n",
       "      <td>3</td>\n",
       "    </tr>\n",
       "    <tr>\n",
       "      <th>2</th>\n",
       "      <td>230.175</td>\n",
       "      <td>1</td>\n",
       "      <td>130</td>\n",
       "    </tr>\n",
       "    <tr>\n",
       "      <th>3</th>\n",
       "      <td>20.563</td>\n",
       "      <td>0</td>\n",
       "      <td>19</td>\n",
       "    </tr>\n",
       "    <tr>\n",
       "      <th>4</th>\n",
       "      <td>17.076</td>\n",
       "      <td>0</td>\n",
       "      <td>24</td>\n",
       "    </tr>\n",
       "  </tbody>\n",
       "</table>\n",
       "</div>"
      ],
      "text/plain": [
       "   duration  siteName  total_counts\n",
       "0   136.831         1           159\n",
       "1    33.249         1             3\n",
       "2   230.175         1           130\n",
       "3    20.563         0            19\n",
       "4    17.076         0            24"
      ]
     },
     "execution_count": 4,
     "metadata": {},
     "output_type": "execute_result"
    }
   ],
   "source": [
    "columns_of_interest = [\"count_mouseover\", \"count_mouseout\", \"count_click\", \"count_blur\", \"count_focus\", \"count_keydown\"]\n",
    "df_count[\"total_counts\"] = df_count[columns_of_interest].sum(axis=1)\n",
    "df_count = df_count.drop([\"count_mouseover\", \"count_mouseout\", \"count_click\", \"count_blur\", \"count_focus\", \"count_keydown\", 'height', 'width', 'session'], axis=1)\n",
    "df_count.head()"
   ]
  },
  {
   "attachments": {},
   "cell_type": "markdown",
   "metadata": {},
   "source": [
    "Hier werden die 'duration' und 'total_counts' als Merkmale zum Trainieren eingesetzt. Die Zielvariable ist der 'siteName'."
   ]
  },
  {
   "cell_type": "code",
   "execution_count": 6,
   "metadata": {},
   "outputs": [],
   "source": [
    "X_count = df_count[['duration', 'total_counts']]\n",
    "Y_count = df_count['siteName']\n",
    "\n",
    "X_count = StandardScaler().fit_transform(X_count)\n",
    "\n",
    "X_count_Train, X_count_Test, Y_count_Train, Y_count_Test = train_test_split(X_count, Y_count, test_size = 0.30, \n",
    "                                                    random_state = 101)"
   ]
  },
  {
   "attachments": {},
   "cell_type": "markdown",
   "metadata": {},
   "source": [
    "##### 1.3 Random Forest\n",
    "Mit einem n__estimators = 250 und random_state=42 erreicht das Modell, die gleichen Werte wie Duration mit allen types (siehe 2.1). Mit einer höheren Einstellung ist das Modell allerdings noch besser. "
   ]
  },
  {
   "cell_type": "code",
   "execution_count": 7,
   "metadata": {},
   "outputs": [],
   "source": [
    "forest_model_count= RandomForestClassifier(n_estimators=1000, random_state=101)\n",
    "forest_model_count.fit(X_count_Train,Y_count_Train)\n",
    "y_count_forest_pred=forest_model_count.predict(X_count_Test)"
   ]
  },
  {
   "cell_type": "code",
   "execution_count": 8,
   "metadata": {},
   "outputs": [
    {
     "name": "stdout",
     "output_type": "stream",
     "text": [
      "Accuracy: 1.000\n",
      "Precision: 1.000\n",
      "Recall: 1.000\n",
      "Confusion Matrix: [[15  0]\n",
      " [ 0 21]]\n",
      "AUC Score: 1.000\n",
      "MCC Score: 1.000\n",
      "F1 Score: 1.000\n"
     ]
    }
   ],
   "source": [
    "def printEvaluation(Y_session_Test, y_session_pred): \n",
    "    print('Accuracy: %.3f' % accuracy_score(Y_session_Test, y_session_pred))\n",
    "    print('Precision: %.3f' % precision_score(Y_session_Test, y_session_pred))\n",
    "    print('Recall: %.3f' % recall_score(Y_session_Test, y_session_pred))\n",
    "    print('Confusion Matrix:', confusion_matrix(Y_session_Test, y_session_pred))\n",
    "    print('AUC Score: %.3f' % roc_auc_score(Y_session_Test, y_session_pred))\n",
    "    print('MCC Score: %.3f' % matthews_corrcoef(Y_session_Test, y_session_pred))\n",
    "    print('F1 Score: %.3f' % f1_score(Y_session_Test, y_session_pred))\n",
    "\n",
    "printEvaluation(Y_count_Test, y_count_forest_pred)"
   ]
  },
  {
   "attachments": {},
   "cell_type": "markdown",
   "metadata": {},
   "source": [
    "##### 1.3 kNN"
   ]
  },
  {
   "cell_type": "code",
   "execution_count": 482,
   "metadata": {},
   "outputs": [
    {
     "name": "stdout",
     "output_type": "stream",
     "text": [
      "Accuracy: 1.000\n",
      "Precision: 1.000\n",
      "Recall: 1.000\n",
      "Confusion Matrix: [[15  0]\n",
      " [ 0 21]]\n",
      "AUC Score: 1.000\n",
      "MCC Score: 1.000\n",
      "F1 Score: 1.000\n"
     ]
    }
   ],
   "source": [
    "knn_model_count = KNeighborsClassifier(n_neighbors=3)\n",
    "knn_model_count.fit(X_count_Train, Y_count_Train)\n",
    "y_knn_count_pred = knn_model_count.predict(X_count_Test) \n",
    "printEvaluation(Y_count_Test, y_count_forest_pred)"
   ]
  },
  {
   "attachments": {},
   "cell_type": "markdown",
   "metadata": {},
   "source": [
    "##### 1.4 Logistic Regression\n"
   ]
  },
  {
   "cell_type": "code",
   "execution_count": 483,
   "metadata": {},
   "outputs": [
    {
     "name": "stdout",
     "output_type": "stream",
     "text": [
      "Accuracy: 0.833\n",
      "Precision: 1.000\n",
      "Recall: 0.714\n",
      "Confusion Matrix: [[15  0]\n",
      " [ 6 15]]\n",
      "AUC Score: 0.857\n",
      "MCC Score: 0.714\n",
      "F1 Score: 0.833\n"
     ]
    }
   ],
   "source": [
    "logreg_model_count = LogisticRegression(random_state=16)\n",
    "logreg_model_count.fit(X_count_Train, Y_count_Train)\n",
    "y_logreg_pred_count = logreg_model_count.predict(X_count_Test)\n",
    "printEvaluation(Y_count_Test, y_logreg_pred_count)"
   ]
  },
  {
   "attachments": {},
   "cell_type": "markdown",
   "metadata": {},
   "source": [
    "##### 1.5 Support Vector Machine"
   ]
  },
  {
   "cell_type": "code",
   "execution_count": 12,
   "metadata": {},
   "outputs": [
    {
     "name": "stdout",
     "output_type": "stream",
     "text": [
      "Accuracy: 0.806\n",
      "Precision: 1.000\n",
      "Recall: 0.667\n",
      "Confusion Matrix: [[15  0]\n",
      " [ 7 14]]\n",
      "AUC Score: 0.833\n",
      "MCC Score: 0.674\n",
      "F1 Score: 0.800\n"
     ]
    }
   ],
   "source": [
    "svm_model_count = svm.SVC(kernel='linear')\n",
    "svm_model_count.fit(X_count_Train, Y_count_Train)\n",
    "y_svm_pred_count = svm_model_count.predict(X_count_Test)\n",
    "printEvaluation(Y_count_Test, y_svm_pred_count)"
   ]
  },
  {
   "attachments": {},
   "cell_type": "markdown",
   "metadata": {},
   "source": [
    "##### 1.6 Gradient Boosting"
   ]
  },
  {
   "cell_type": "code",
   "execution_count": 10,
   "metadata": {},
   "outputs": [
    {
     "name": "stdout",
     "output_type": "stream",
     "text": [
      "Accuracy: 0.944\n",
      "Precision: 0.952\n",
      "Recall: 0.952\n",
      "Confusion Matrix: [[14  1]\n",
      " [ 1 20]]\n",
      "AUC Score: 0.943\n",
      "MCC Score: 0.886\n",
      "F1 Score: 0.952\n"
     ]
    }
   ],
   "source": [
    "gradient_booster_model_count = GradientBoostingClassifier(learning_rate=0.1)\n",
    "gradient_booster_model_count.fit(X_count_Train,Y_count_Train)\n",
    "y_gradient_pred_count = gradient_booster_model_count.predict(X_count_Test)\n",
    "printEvaluation(Y_count_Test, y_gradient_pred_count)"
   ]
  },
  {
   "attachments": {},
   "cell_type": "markdown",
   "metadata": {},
   "source": [
    "# 2.1 Duration und Anzahl der types"
   ]
  },
  {
   "cell_type": "code",
   "execution_count": 13,
   "metadata": {},
   "outputs": [],
   "source": [
    "df_types = pd.read_pickle('../resources/SortedBySessions.pkl')"
   ]
  },
  {
   "cell_type": "code",
   "execution_count": 15,
   "metadata": {},
   "outputs": [
    {
     "data": {
      "text/html": [
       "<div>\n",
       "<style scoped>\n",
       "    .dataframe tbody tr th:only-of-type {\n",
       "        vertical-align: middle;\n",
       "    }\n",
       "\n",
       "    .dataframe tbody tr th {\n",
       "        vertical-align: top;\n",
       "    }\n",
       "\n",
       "    .dataframe thead th {\n",
       "        text-align: right;\n",
       "    }\n",
       "</style>\n",
       "<table border=\"1\" class=\"dataframe\">\n",
       "  <thead>\n",
       "    <tr style=\"text-align: right;\">\n",
       "      <th></th>\n",
       "      <th>session</th>\n",
       "      <th>count_mouseover</th>\n",
       "      <th>count_mouseout</th>\n",
       "      <th>count_click</th>\n",
       "      <th>count_blur</th>\n",
       "      <th>count_focus</th>\n",
       "      <th>count_keydown</th>\n",
       "      <th>duration</th>\n",
       "      <th>height</th>\n",
       "      <th>width</th>\n",
       "      <th>siteName</th>\n",
       "    </tr>\n",
       "  </thead>\n",
       "  <tbody>\n",
       "    <tr>\n",
       "      <th>0</th>\n",
       "      <td>515</td>\n",
       "      <td>32</td>\n",
       "      <td>32</td>\n",
       "      <td>14</td>\n",
       "      <td>26</td>\n",
       "      <td>28</td>\n",
       "      <td>27</td>\n",
       "      <td>136.831</td>\n",
       "      <td>1312.0</td>\n",
       "      <td>1479.0</td>\n",
       "      <td>1</td>\n",
       "    </tr>\n",
       "    <tr>\n",
       "      <th>1</th>\n",
       "      <td>519</td>\n",
       "      <td>1</td>\n",
       "      <td>0</td>\n",
       "      <td>0</td>\n",
       "      <td>1</td>\n",
       "      <td>1</td>\n",
       "      <td>0</td>\n",
       "      <td>33.249</td>\n",
       "      <td>669.0</td>\n",
       "      <td>390.0</td>\n",
       "      <td>1</td>\n",
       "    </tr>\n",
       "    <tr>\n",
       "      <th>2</th>\n",
       "      <td>524</td>\n",
       "      <td>42</td>\n",
       "      <td>42</td>\n",
       "      <td>8</td>\n",
       "      <td>17</td>\n",
       "      <td>16</td>\n",
       "      <td>5</td>\n",
       "      <td>230.175</td>\n",
       "      <td>878.0</td>\n",
       "      <td>1920.0</td>\n",
       "      <td>1</td>\n",
       "    </tr>\n",
       "    <tr>\n",
       "      <th>3</th>\n",
       "      <td>528</td>\n",
       "      <td>4</td>\n",
       "      <td>3</td>\n",
       "      <td>0</td>\n",
       "      <td>6</td>\n",
       "      <td>6</td>\n",
       "      <td>0</td>\n",
       "      <td>20.563</td>\n",
       "      <td>1217.0</td>\n",
       "      <td>1440.0</td>\n",
       "      <td>0</td>\n",
       "    </tr>\n",
       "    <tr>\n",
       "      <th>4</th>\n",
       "      <td>554</td>\n",
       "      <td>6</td>\n",
       "      <td>6</td>\n",
       "      <td>0</td>\n",
       "      <td>6</td>\n",
       "      <td>6</td>\n",
       "      <td>0</td>\n",
       "      <td>17.076</td>\n",
       "      <td>715.0</td>\n",
       "      <td>414.0</td>\n",
       "      <td>0</td>\n",
       "    </tr>\n",
       "  </tbody>\n",
       "</table>\n",
       "</div>"
      ],
      "text/plain": [
       "   session  count_mouseover  count_mouseout  count_click  count_blur  \\\n",
       "0      515               32              32           14          26   \n",
       "1      519                1               0            0           1   \n",
       "2      524               42              42            8          17   \n",
       "3      528                4               3            0           6   \n",
       "4      554                6               6            0           6   \n",
       "\n",
       "   count_focus  count_keydown  duration  height   width  siteName  \n",
       "0           28             27   136.831  1312.0  1479.0         1  \n",
       "1            1              0    33.249   669.0   390.0         1  \n",
       "2           16              5   230.175   878.0  1920.0         1  \n",
       "3            6              0    20.563  1217.0  1440.0         0  \n",
       "4            6              0    17.076   715.0   414.0         0  "
      ]
     },
     "execution_count": 15,
     "metadata": {},
     "output_type": "execute_result"
    }
   ],
   "source": [
    "df_types.head()"
   ]
  },
  {
   "attachments": {},
   "cell_type": "markdown",
   "metadata": {},
   "source": [
    "##### Anmerkung\n",
    "In diesem Code werden zunächst alle Types in das Training aufgenommen. Im späteren Verlauf werden sich auf einzelne Types fokussiert, allerdings nicht in diesem Code dargestellt, da dies zu viel Platz verbrauchen würde. Zur Kontrolle können die Types einfach aus den X_types entfernt werden. "
   ]
  },
  {
   "cell_type": "code",
   "execution_count": 16,
   "metadata": {},
   "outputs": [],
   "source": [
    "X_types = df_types[['count_mouseover','count_mouseout','count_focus','count_blur', 'count_click','count_keydown', 'duration']]\n",
    "Y_types = df_types['siteName']\n",
    "\n",
    "X_types = StandardScaler().fit_transform(X_types)\n",
    "\n",
    "X_types_Train, X_types_Test, Y_types_Train, Y_types_Test = train_test_split(X_types, Y_types, test_size = 0.30, \n",
    "                                                    random_state = 101)"
   ]
  },
  {
   "attachments": {},
   "cell_type": "markdown",
   "metadata": {},
   "source": [
    "##### 2.2 Random Forest\n",
    "Hier macht es keinen Unterschied ob man die Parameter n_estimators oder random_state ändert. Das Ergebnis bleibt gleich"
   ]
  },
  {
   "cell_type": "code",
   "execution_count": 64,
   "metadata": {},
   "outputs": [
    {
     "name": "stdout",
     "output_type": "stream",
     "text": [
      "Accuracy: 0.972\n",
      "Precision: 1.000\n",
      "Recall: 0.952\n",
      "Confusion Matrix: [[15  0]\n",
      " [ 1 20]]\n",
      "AUC Score: 0.976\n",
      "MCC Score: 0.945\n",
      "F1 Score: 0.976\n"
     ]
    }
   ],
   "source": [
    "forest_model=RandomForestClassifier(n_estimators=250, random_state=42)\n",
    "forest_model.fit(X_types_Train,Y_types_Train)\n",
    "y_types_pred=forest_model.predict(X_types_Test)\n",
    "printEvaluation(Y_types_Test, y_types_pred)"
   ]
  },
  {
   "cell_type": "code",
   "execution_count": 23,
   "metadata": {},
   "outputs": [
    {
     "name": "stderr",
     "output_type": "stream",
     "text": [
      "/Users/ingaglotzbach/opt/anaconda3/lib/python3.8/site-packages/sklearn/utils/deprecation.py:87: FutureWarning: Function plot_roc_curve is deprecated; Function :func:`plot_roc_curve` is deprecated in 1.0 and will be removed in 1.2. Use one of the class methods: :meth:`sklearn.metrics.RocCurveDisplay.from_predictions` or :meth:`sklearn.metrics.RocCurveDisplay.from_estimator`.\n",
      "  warnings.warn(msg, category=FutureWarning)\n"
     ]
    },
    {
     "data": {
      "image/png": "[encoded data removed]",
      "text/plain": [
       "<Figure size 432x288 with 1 Axes>"
      ]
     },
     "metadata": {
      "needs_background": "light"
     },
     "output_type": "display_data"
    }
   ],
   "source": [
    "plot_roc_curve(forest_model, X_types_Test, Y_types_Test)\n",
    "plt.show()"
   ]
  },
  {
   "attachments": {},
   "cell_type": "markdown",
   "metadata": {},
   "source": [
    "#### Verbessere den Random Forest mit Hyperparameter"
   ]
  },
  {
   "cell_type": "code",
   "execution_count": 24,
   "metadata": {},
   "outputs": [],
   "source": [
    "rfc_model = RandomForestClassifier()\n",
    "\n",
    "parameters = {\n",
    "    \"n_estimators\":[5,10,50,100,250],\n",
    "    \"max_depth\":[2,4,8,16,32,None]\n",
    "    \n",
    "}"
   ]
  },
  {
   "cell_type": "code",
   "execution_count": 25,
   "metadata": {},
   "outputs": [
    {
     "data": {
      "text/html": [
       "<style>#sk-container-id-1 {color: black;background-color: white;}#sk-container-id-1 pre{padding: 0;}#sk-container-id-1 div.sk-toggleable {background-color: white;}#sk-container-id-1 label.sk-toggleable__label {cursor: pointer;display: block;width: 100%;margin-bottom: 0;padding: 0.3em;box-sizing: border-box;text-align: center;}#sk-container-id-1 label.sk-toggleable__label-arrow:before {content: \"▸\";float: left;margin-right: 0.25em;color: #696969;}#sk-container-id-1 label.sk-toggleable__label-arrow:hover:before {color: black;}#sk-container-id-1 div.sk-estimator:hover label.sk-toggleable__label-arrow:before {color: black;}#sk-container-id-1 div.sk-toggleable__content {max-height: 0;max-width: 0;overflow: hidden;text-align: left;background-color: #f0f8ff;}#sk-container-id-1 div.sk-toggleable__content pre {margin: 0.2em;color: black;border-radius: 0.25em;background-color: #f0f8ff;}#sk-container-id-1 input.sk-toggleable__control:checked~div.sk-toggleable__content {max-height: 200px;max-width: 100%;overflow: auto;}#sk-container-id-1 input.sk-toggleable__control:checked~label.sk-toggleable__label-arrow:before {content: \"▾\";}#sk-container-id-1 div.sk-estimator input.sk-toggleable__control:checked~label.sk-toggleable__label {background-color: #d4ebff;}#sk-container-id-1 div.sk-label input.sk-toggleable__control:checked~label.sk-toggleable__label {background-color: #d4ebff;}#sk-container-id-1 input.sk-hidden--visually {border: 0;clip: rect(1px 1px 1px 1px);clip: rect(1px, 1px, 1px, 1px);height: 1px;margin: -1px;overflow: hidden;padding: 0;position: absolute;width: 1px;}#sk-container-id-1 div.sk-estimator {font-family: monospace;background-color: #f0f8ff;border: 1px dotted black;border-radius: 0.25em;box-sizing: border-box;margin-bottom: 0.5em;}#sk-container-id-1 div.sk-estimator:hover {background-color: #d4ebff;}#sk-container-id-1 div.sk-parallel-item::after {content: \"\";width: 100%;border-bottom: 1px solid gray;flex-grow: 1;}#sk-container-id-1 div.sk-label:hover label.sk-toggleable__label {background-color: #d4ebff;}#sk-container-id-1 div.sk-serial::before {content: \"\";position: absolute;border-left: 1px solid gray;box-sizing: border-box;top: 0;bottom: 0;left: 50%;z-index: 0;}#sk-container-id-1 div.sk-serial {display: flex;flex-direction: column;align-items: center;background-color: white;padding-right: 0.2em;padding-left: 0.2em;position: relative;}#sk-container-id-1 div.sk-item {position: relative;z-index: 1;}#sk-container-id-1 div.sk-parallel {display: flex;align-items: stretch;justify-content: center;background-color: white;position: relative;}#sk-container-id-1 div.sk-item::before, #sk-container-id-1 div.sk-parallel-item::before {content: \"\";position: absolute;border-left: 1px solid gray;box-sizing: border-box;top: 0;bottom: 0;left: 50%;z-index: -1;}#sk-container-id-1 div.sk-parallel-item {display: flex;flex-direction: column;z-index: 1;position: relative;background-color: white;}#sk-container-id-1 div.sk-parallel-item:first-child::after {align-self: flex-end;width: 50%;}#sk-container-id-1 div.sk-parallel-item:last-child::after {align-self: flex-start;width: 50%;}#sk-container-id-1 div.sk-parallel-item:only-child::after {width: 0;}#sk-container-id-1 div.sk-dashed-wrapped {border: 1px dashed gray;margin: 0 0.4em 0.5em 0.4em;box-sizing: border-box;padding-bottom: 0.4em;background-color: white;}#sk-container-id-1 div.sk-label label {font-family: monospace;font-weight: bold;display: inline-block;line-height: 1.2em;}#sk-container-id-1 div.sk-label-container {text-align: center;}#sk-container-id-1 div.sk-container {/* jupyter's `normalize.less` sets `[hidden] { display: none; }` but bootstrap.min.css set `[hidden] { display: none !important; }` so we also need the `!important` here to be able to override the default hidden behavior on the sphinx rendered scikit-learn.org. See: https://github.com/scikit-learn/scikit-learn/issues/21755 */display: inline-block !important;position: relative;}#sk-container-id-1 div.sk-text-repr-fallback {display: none;}</style><div id=\"sk-container-id-1\" class=\"sk-top-container\"><div class=\"sk-text-repr-fallback\"><pre>GridSearchCV(cv=5, estimator=RandomForestClassifier(),\n",
       "             param_grid={&#x27;max_depth&#x27;: [2, 4, 8, 16, 32, None],\n",
       "                         &#x27;n_estimators&#x27;: [5, 10, 50, 100, 250]})</pre><b>In a Jupyter environment, please rerun this cell to show the HTML representation or trust the notebook. <br />On GitHub, the HTML representation is unable to render, please try loading this page with nbviewer.org.</b></div><div class=\"sk-container\" hidden><div class=\"sk-item sk-dashed-wrapped\"><div class=\"sk-label-container\"><div class=\"sk-label sk-toggleable\"><input class=\"sk-toggleable__control sk-hidden--visually\" id=\"sk-estimator-id-1\" type=\"checkbox\" ><label for=\"sk-estimator-id-1\" class=\"sk-toggleable__label sk-toggleable__label-arrow\">GridSearchCV</label><div class=\"sk-toggleable__content\"><pre>GridSearchCV(cv=5, estimator=RandomForestClassifier(),\n",
       "             param_grid={&#x27;max_depth&#x27;: [2, 4, 8, 16, 32, None],\n",
       "                         &#x27;n_estimators&#x27;: [5, 10, 50, 100, 250]})</pre></div></div></div><div class=\"sk-parallel\"><div class=\"sk-parallel-item\"><div class=\"sk-item\"><div class=\"sk-label-container\"><div class=\"sk-label sk-toggleable\"><input class=\"sk-toggleable__control sk-hidden--visually\" id=\"sk-estimator-id-2\" type=\"checkbox\" ><label for=\"sk-estimator-id-2\" class=\"sk-toggleable__label sk-toggleable__label-arrow\">estimator: RandomForestClassifier</label><div class=\"sk-toggleable__content\"><pre>RandomForestClassifier()</pre></div></div></div><div class=\"sk-serial\"><div class=\"sk-item\"><div class=\"sk-estimator sk-toggleable\"><input class=\"sk-toggleable__control sk-hidden--visually\" id=\"sk-estimator-id-3\" type=\"checkbox\" ><label for=\"sk-estimator-id-3\" class=\"sk-toggleable__label sk-toggleable__label-arrow\">RandomForestClassifier</label><div class=\"sk-toggleable__content\"><pre>RandomForestClassifier()</pre></div></div></div></div></div></div></div></div></div></div>"
      ],
      "text/plain": [
       "GridSearchCV(cv=5, estimator=RandomForestClassifier(),\n",
       "             param_grid={'max_depth': [2, 4, 8, 16, 32, None],\n",
       "                         'n_estimators': [5, 10, 50, 100, 250]})"
      ]
     },
     "execution_count": 25,
     "metadata": {},
     "output_type": "execute_result"
    }
   ],
   "source": [
    "from sklearn.model_selection import GridSearchCV\n",
    "cv_grid = GridSearchCV(rfc_model,parameters,cv=5)\n",
    "cv_grid.fit(X_types, Y_types.values.ravel())"
   ]
  },
  {
   "cell_type": "code",
   "execution_count": 26,
   "metadata": {},
   "outputs": [],
   "source": [
    "def display(results):\n",
    "    print(f'Best parameters are: {results.best_params_}')\n",
    "    print(\"\\n\")\n",
    "    mean_score = results.cv_results_['mean_test_score']\n",
    "    std_score = results.cv_results_['std_test_score']\n",
    "    params = results.cv_results_['params']\n",
    "    for mean,std,params in zip(mean_score,std_score,params):\n",
    "        print(f'{round(mean,3)} + or -{round(std,3)} for the {params}')"
   ]
  },
  {
   "cell_type": "code",
   "execution_count": 27,
   "metadata": {},
   "outputs": [
    {
     "name": "stdout",
     "output_type": "stream",
     "text": [
      "Best parameters are: {'max_depth': None, 'n_estimators': 50}\n",
      "\n",
      "\n",
      "0.908 + or -0.049 for the {'max_depth': 2, 'n_estimators': 5}\n",
      "0.933 + or -0.057 for the {'max_depth': 2, 'n_estimators': 10}\n",
      "0.908 + or -0.017 for the {'max_depth': 2, 'n_estimators': 50}\n",
      "0.917 + or -0.026 for the {'max_depth': 2, 'n_estimators': 100}\n",
      "0.925 + or -0.031 for the {'max_depth': 2, 'n_estimators': 250}\n",
      "0.925 + or -0.031 for the {'max_depth': 4, 'n_estimators': 5}\n",
      "0.933 + or -0.05 for the {'max_depth': 4, 'n_estimators': 10}\n",
      "0.95 + or -0.017 for the {'max_depth': 4, 'n_estimators': 50}\n",
      "0.967 + or -0.017 for the {'max_depth': 4, 'n_estimators': 100}\n",
      "0.958 + or -0.026 for the {'max_depth': 4, 'n_estimators': 250}\n",
      "0.925 + or -0.041 for the {'max_depth': 8, 'n_estimators': 5}\n",
      "0.95 + or -0.031 for the {'max_depth': 8, 'n_estimators': 10}\n",
      "0.958 + or -0.0 for the {'max_depth': 8, 'n_estimators': 50}\n",
      "0.958 + or -0.0 for the {'max_depth': 8, 'n_estimators': 100}\n",
      "0.967 + or -0.017 for the {'max_depth': 8, 'n_estimators': 250}\n",
      "0.95 + or -0.031 for the {'max_depth': 16, 'n_estimators': 5}\n",
      "0.967 + or -0.017 for the {'max_depth': 16, 'n_estimators': 10}\n",
      "0.958 + or -0.026 for the {'max_depth': 16, 'n_estimators': 50}\n",
      "0.967 + or -0.017 for the {'max_depth': 16, 'n_estimators': 100}\n",
      "0.967 + or -0.017 for the {'max_depth': 16, 'n_estimators': 250}\n",
      "0.95 + or -0.017 for the {'max_depth': 32, 'n_estimators': 5}\n",
      "0.942 + or -0.033 for the {'max_depth': 32, 'n_estimators': 10}\n",
      "0.967 + or -0.031 for the {'max_depth': 32, 'n_estimators': 50}\n",
      "0.958 + or -0.0 for the {'max_depth': 32, 'n_estimators': 100}\n",
      "0.967 + or -0.017 for the {'max_depth': 32, 'n_estimators': 250}\n",
      "0.942 + or -0.062 for the {'max_depth': None, 'n_estimators': 5}\n",
      "0.933 + or -0.033 for the {'max_depth': None, 'n_estimators': 10}\n",
      "0.967 + or -0.017 for the {'max_depth': None, 'n_estimators': 50}\n",
      "0.967 + or -0.017 for the {'max_depth': None, 'n_estimators': 100}\n",
      "0.958 + or -0.0 for the {'max_depth': None, 'n_estimators': 250}\n"
     ]
    }
   ],
   "source": [
    "display(cv_grid)"
   ]
  },
  {
   "attachments": {},
   "cell_type": "markdown",
   "metadata": {},
   "source": [
    "##### 2.3 kNN"
   ]
  },
  {
   "cell_type": "code",
   "execution_count": 28,
   "metadata": {},
   "outputs": [
    {
     "name": "stdout",
     "output_type": "stream",
     "text": [
      "Accuracy: 0.972\n",
      "Precision: 1.000\n",
      "Recall: 0.952\n",
      "Confusion Matrix: [[15  0]\n",
      " [ 1 20]]\n",
      "AUC Score: 0.976\n",
      "MCC Score: 0.945\n",
      "F1 Score: 0.976\n"
     ]
    }
   ],
   "source": [
    "knn_model = KNeighborsClassifier(n_neighbors=3)\n",
    "knn_model.fit(X_types_Train, Y_types_Train)\n",
    "y_knn_pred_types = knn_model.predict(X_types_Test)\n",
    "printEvaluation(Y_types_Test, y_knn_pred_types)"
   ]
  },
  {
   "attachments": {},
   "cell_type": "markdown",
   "metadata": {},
   "source": [
    "Hier werden die Daten nochmal mit einem MinMaxScaler ausgestattet, allerdings hat dies keine weitere Verbesserung des Modells gebracht. "
   ]
  },
  {
   "cell_type": "code",
   "execution_count": 30,
   "metadata": {},
   "outputs": [
    {
     "name": "stdout",
     "output_type": "stream",
     "text": [
      "Accuracy: 0.972\n",
      "Precision: 1.000\n",
      "Recall: 0.952\n",
      "Confusion Matrix: [[15  0]\n",
      " [ 1 20]]\n",
      "AUC Score: 0.976\n",
      "MCC Score: 0.945\n",
      "F1 Score: 0.976\n"
     ]
    }
   ],
   "source": [
    "scaler = MinMaxScaler()\n",
    "\n",
    "X_session_robust = df_types[['count_mouseover', 'count_mouseout','count_click','count_blur','count_keydown','count_focus','duration']]\n",
    "Y_session_robust = df_types['siteName']\n",
    "\n",
    "X_session_robust = scaler.fit_transform(X_session_robust)\n",
    "\n",
    "X_session_robust_Train, X_session_robust_Test, Y_session_robust_Train, Y_session_robust_Test = train_test_split(X_session_robust, Y_session_robust, test_size = 0.30, random_state = 101)\n",
    "\n",
    "knn_robust = KNeighborsClassifier()\n",
    "knn_robust.fit(X_session_robust_Train, Y_session_robust_Train)\n",
    "y_knn_pred_robust_types = knn_robust.predict(X_session_robust_Test)\n",
    "printEvaluation(Y_types_Test, y_knn_pred_robust_types)"
   ]
  },
  {
   "attachments": {},
   "cell_type": "markdown",
   "metadata": {},
   "source": [
    "##### 2.4 Linear Discriminat Analysis"
   ]
  },
  {
   "cell_type": "code",
   "execution_count": 33,
   "metadata": {},
   "outputs": [
    {
     "data": {
      "text/html": [
       "<style>#sk-container-id-2 {color: black;background-color: white;}#sk-container-id-2 pre{padding: 0;}#sk-container-id-2 div.sk-toggleable {background-color: white;}#sk-container-id-2 label.sk-toggleable__label {cursor: pointer;display: block;width: 100%;margin-bottom: 0;padding: 0.3em;box-sizing: border-box;text-align: center;}#sk-container-id-2 label.sk-toggleable__label-arrow:before {content: \"▸\";float: left;margin-right: 0.25em;color: #696969;}#sk-container-id-2 label.sk-toggleable__label-arrow:hover:before {color: black;}#sk-container-id-2 div.sk-estimator:hover label.sk-toggleable__label-arrow:before {color: black;}#sk-container-id-2 div.sk-toggleable__content {max-height: 0;max-width: 0;overflow: hidden;text-align: left;background-color: #f0f8ff;}#sk-container-id-2 div.sk-toggleable__content pre {margin: 0.2em;color: black;border-radius: 0.25em;background-color: #f0f8ff;}#sk-container-id-2 input.sk-toggleable__control:checked~div.sk-toggleable__content {max-height: 200px;max-width: 100%;overflow: auto;}#sk-container-id-2 input.sk-toggleable__control:checked~label.sk-toggleable__label-arrow:before {content: \"▾\";}#sk-container-id-2 div.sk-estimator input.sk-toggleable__control:checked~label.sk-toggleable__label {background-color: #d4ebff;}#sk-container-id-2 div.sk-label input.sk-toggleable__control:checked~label.sk-toggleable__label {background-color: #d4ebff;}#sk-container-id-2 input.sk-hidden--visually {border: 0;clip: rect(1px 1px 1px 1px);clip: rect(1px, 1px, 1px, 1px);height: 1px;margin: -1px;overflow: hidden;padding: 0;position: absolute;width: 1px;}#sk-container-id-2 div.sk-estimator {font-family: monospace;background-color: #f0f8ff;border: 1px dotted black;border-radius: 0.25em;box-sizing: border-box;margin-bottom: 0.5em;}#sk-container-id-2 div.sk-estimator:hover {background-color: #d4ebff;}#sk-container-id-2 div.sk-parallel-item::after {content: \"\";width: 100%;border-bottom: 1px solid gray;flex-grow: 1;}#sk-container-id-2 div.sk-label:hover label.sk-toggleable__label {background-color: #d4ebff;}#sk-container-id-2 div.sk-serial::before {content: \"\";position: absolute;border-left: 1px solid gray;box-sizing: border-box;top: 0;bottom: 0;left: 50%;z-index: 0;}#sk-container-id-2 div.sk-serial {display: flex;flex-direction: column;align-items: center;background-color: white;padding-right: 0.2em;padding-left: 0.2em;position: relative;}#sk-container-id-2 div.sk-item {position: relative;z-index: 1;}#sk-container-id-2 div.sk-parallel {display: flex;align-items: stretch;justify-content: center;background-color: white;position: relative;}#sk-container-id-2 div.sk-item::before, #sk-container-id-2 div.sk-parallel-item::before {content: \"\";position: absolute;border-left: 1px solid gray;box-sizing: border-box;top: 0;bottom: 0;left: 50%;z-index: -1;}#sk-container-id-2 div.sk-parallel-item {display: flex;flex-direction: column;z-index: 1;position: relative;background-color: white;}#sk-container-id-2 div.sk-parallel-item:first-child::after {align-self: flex-end;width: 50%;}#sk-container-id-2 div.sk-parallel-item:last-child::after {align-self: flex-start;width: 50%;}#sk-container-id-2 div.sk-parallel-item:only-child::after {width: 0;}#sk-container-id-2 div.sk-dashed-wrapped {border: 1px dashed gray;margin: 0 0.4em 0.5em 0.4em;box-sizing: border-box;padding-bottom: 0.4em;background-color: white;}#sk-container-id-2 div.sk-label label {font-family: monospace;font-weight: bold;display: inline-block;line-height: 1.2em;}#sk-container-id-2 div.sk-label-container {text-align: center;}#sk-container-id-2 div.sk-container {/* jupyter's `normalize.less` sets `[hidden] { display: none; }` but bootstrap.min.css set `[hidden] { display: none !important; }` so we also need the `!important` here to be able to override the default hidden behavior on the sphinx rendered scikit-learn.org. See: https://github.com/scikit-learn/scikit-learn/issues/21755 */display: inline-block !important;position: relative;}#sk-container-id-2 div.sk-text-repr-fallback {display: none;}</style><div id=\"sk-container-id-2\" class=\"sk-top-container\"><div class=\"sk-text-repr-fallback\"><pre>LinearDiscriminantAnalysis()</pre><b>In a Jupyter environment, please rerun this cell to show the HTML representation or trust the notebook. <br />On GitHub, the HTML representation is unable to render, please try loading this page with nbviewer.org.</b></div><div class=\"sk-container\" hidden><div class=\"sk-item\"><div class=\"sk-estimator sk-toggleable\"><input class=\"sk-toggleable__control sk-hidden--visually\" id=\"sk-estimator-id-4\" type=\"checkbox\" checked><label for=\"sk-estimator-id-4\" class=\"sk-toggleable__label sk-toggleable__label-arrow\">LinearDiscriminantAnalysis</label><div class=\"sk-toggleable__content\"><pre>LinearDiscriminantAnalysis()</pre></div></div></div></div></div>"
      ],
      "text/plain": [
       "LinearDiscriminantAnalysis()"
      ]
     },
     "execution_count": 33,
     "metadata": {},
     "output_type": "execute_result"
    }
   ],
   "source": [
    "lda_model = LinearDiscriminantAnalysis()\n",
    "lda_model.fit(X_types_Train, Y_types_Train)"
   ]
  },
  {
   "cell_type": "code",
   "execution_count": 34,
   "metadata": {},
   "outputs": [
    {
     "name": "stdout",
     "output_type": "stream",
     "text": [
      "0.8444444444444443\n"
     ]
    }
   ],
   "source": [
    "cv = RepeatedStratifiedKFold(n_splits=10, n_repeats=3, random_state=1)\n",
    "\n",
    "scores = cross_val_score(lda_model, X_types, Y_types, scoring='accuracy', cv=cv, n_jobs=-1)\n",
    "print(np.mean(scores)) "
   ]
  },
  {
   "attachments": {},
   "cell_type": "markdown",
   "metadata": {},
   "source": [
    "##### 2.5 Logistic Regression"
   ]
  },
  {
   "cell_type": "code",
   "execution_count": 35,
   "metadata": {},
   "outputs": [
    {
     "name": "stdout",
     "output_type": "stream",
     "text": [
      "Accuracy: 0.861\n",
      "Precision: 1.000\n",
      "Recall: 0.762\n",
      "Confusion Matrix: [[15  0]\n",
      " [ 5 16]]\n",
      "AUC Score: 0.881\n",
      "MCC Score: 0.756\n",
      "F1 Score: 0.865\n"
     ]
    }
   ],
   "source": [
    "logreg_model_types = LogisticRegression(random_state=16)\n",
    "logreg_model_types.fit(X_types_Train, Y_types_Train)\n",
    "y_logreg_pred_types = logreg_model_types.predict(X_types_Test)\n",
    "printEvaluation(Y_types_Test, y_logreg_pred_types)"
   ]
  },
  {
   "attachments": {},
   "cell_type": "markdown",
   "metadata": {},
   "source": [
    "##### 2.6 Naive Bayes"
   ]
  },
  {
   "cell_type": "code",
   "execution_count": 38,
   "metadata": {},
   "outputs": [
    {
     "name": "stdout",
     "output_type": "stream",
     "text": [
      "Accuracy: 0.861\n",
      "Precision: 0.944\n",
      "Recall: 0.810\n",
      "Confusion Matrix: [[14  1]\n",
      " [ 4 17]]\n",
      "AUC Score: 0.871\n",
      "MCC Score: 0.732\n",
      "F1 Score: 0.872\n"
     ]
    }
   ],
   "source": [
    "gnb_model = GaussianNB()\n",
    "gnb_model.fit(X_types_Train, Y_types_Train)\n",
    "y_gnb_pred = gnb_model.predict(X_types_Test)\n",
    "printEvaluation(Y_types_Test, y_gnb_pred)"
   ]
  },
  {
   "attachments": {},
   "cell_type": "markdown",
   "metadata": {},
   "source": [
    "##### 2.7 Support Vector Machine"
   ]
  },
  {
   "cell_type": "code",
   "execution_count": 39,
   "metadata": {},
   "outputs": [
    {
     "name": "stdout",
     "output_type": "stream",
     "text": [
      "Accuracy: 0.861\n",
      "Precision: 1.000\n",
      "Recall: 0.762\n",
      "Confusion Matrix: [[15  0]\n",
      " [ 5 16]]\n",
      "AUC Score: 0.881\n",
      "MCC Score: 0.756\n",
      "F1 Score: 0.865\n"
     ]
    }
   ],
   "source": [
    "svm_model_types = svm.SVC(kernel='linear') # Linear Kernel\n",
    "svm_model_types.fit(X_types_Train, Y_types_Train)\n",
    "y_svm_pred_types = svm_model_types.predict(X_types_Test)\n",
    "printEvaluation(Y_types_Test, y_svm_pred_types)"
   ]
  },
  {
   "attachments": {},
   "cell_type": "markdown",
   "metadata": {},
   "source": [
    "##### 2.8 Gradient Boosting"
   ]
  },
  {
   "cell_type": "code",
   "execution_count": 40,
   "metadata": {},
   "outputs": [
    {
     "name": "stdout",
     "output_type": "stream",
     "text": [
      "Accuracy: 0.944\n",
      "Precision: 0.952\n",
      "Recall: 0.952\n",
      "Confusion Matrix: [[14  1]\n",
      " [ 1 20]]\n",
      "AUC Score: 0.943\n",
      "MCC Score: 0.886\n",
      "F1 Score: 0.952\n"
     ]
    }
   ],
   "source": [
    "gradient_booster_model_types = GradientBoostingClassifier(learning_rate=0.1)\n",
    "gradient_booster_model_types.fit(X_types_Train,Y_types_Train)\n",
    "y_gradient_pred_types = gradient_booster_model_types.predict(X_types_Test)\n",
    "printEvaluation(Y_types_Test, y_gradient_pred_types)"
   ]
  },
  {
   "attachments": {},
   "cell_type": "markdown",
   "metadata": {},
   "source": [
    "#### 2.9 ANN / Multi-Layer-Perceptron\n",
    "Es wurde sich auch an einem NN versucht, allerdings konnte hier kein wesentlich besseres Ergebnis als die anderen Modelle erbracht werden."
   ]
  },
  {
   "cell_type": "code",
   "execution_count": 41,
   "metadata": {},
   "outputs": [],
   "source": [
    "from sklearn.neural_network import MLPClassifier\n",
    "from sklearn.neural_network import MLPRegressor\n",
    "from sklearn.metrics import mean_squared_error\n",
    "from math import sqrt\n",
    "from sklearn.metrics import r2_score\n",
    "import tensorflow as tf"
   ]
  },
  {
   "cell_type": "code",
   "execution_count": 42,
   "metadata": {},
   "outputs": [
    {
     "name": "stdout",
     "output_type": "stream",
     "text": [
      "Epoch 1/50\n",
      "3/3 [==============================] - 1s 2ms/step - loss: 0.2333 - accuracy: 0.6548\n",
      "Epoch 2/50\n",
      "3/3 [==============================] - 0s 2ms/step - loss: 0.2313 - accuracy: 0.6667\n",
      "Epoch 3/50\n",
      "3/3 [==============================] - 0s 2ms/step - loss: 0.2293 - accuracy: 0.6667\n",
      "Epoch 4/50\n",
      "3/3 [==============================] - 0s 2ms/step - loss: 0.2276 - accuracy: 0.6667\n",
      "Epoch 5/50\n",
      "3/3 [==============================] - 0s 2ms/step - loss: 0.2256 - accuracy: 0.6667\n",
      "Epoch 6/50\n",
      "3/3 [==============================] - 0s 3ms/step - loss: 0.2236 - accuracy: 0.6905\n",
      "Epoch 7/50\n",
      "3/3 [==============================] - 0s 2ms/step - loss: 0.2217 - accuracy: 0.6905\n",
      "Epoch 8/50\n",
      "3/3 [==============================] - 0s 2ms/step - loss: 0.2198 - accuracy: 0.6905\n",
      "Epoch 9/50\n",
      "3/3 [==============================] - 0s 3ms/step - loss: 0.2176 - accuracy: 0.6905\n",
      "Epoch 10/50\n",
      "3/3 [==============================] - 0s 3ms/step - loss: 0.2154 - accuracy: 0.6905\n",
      "Epoch 11/50\n",
      "3/3 [==============================] - 0s 4ms/step - loss: 0.2136 - accuracy: 0.6905\n",
      "Epoch 12/50\n",
      "3/3 [==============================] - 0s 4ms/step - loss: 0.2114 - accuracy: 0.7024\n",
      "Epoch 13/50\n",
      "3/3 [==============================] - 0s 16ms/step - loss: 0.2092 - accuracy: 0.7024\n",
      "Epoch 14/50\n",
      "3/3 [==============================] - 0s 10ms/step - loss: 0.2071 - accuracy: 0.7143\n",
      "Epoch 15/50\n",
      "3/3 [==============================] - 0s 4ms/step - loss: 0.2051 - accuracy: 0.7262\n",
      "Epoch 16/50\n",
      "3/3 [==============================] - 0s 3ms/step - loss: 0.2029 - accuracy: 0.7262\n",
      "Epoch 17/50\n",
      "3/3 [==============================] - 0s 2ms/step - loss: 0.2006 - accuracy: 0.7500\n",
      "Epoch 18/50\n",
      "3/3 [==============================] - 0s 2ms/step - loss: 0.1986 - accuracy: 0.7738\n",
      "Epoch 19/50\n",
      "3/3 [==============================] - 0s 3ms/step - loss: 0.1966 - accuracy: 0.7857\n",
      "Epoch 20/50\n",
      "3/3 [==============================] - 0s 3ms/step - loss: 0.1944 - accuracy: 0.7857\n",
      "Epoch 21/50\n",
      "3/3 [==============================] - 0s 3ms/step - loss: 0.1924 - accuracy: 0.7857\n",
      "Epoch 22/50\n",
      "3/3 [==============================] - 0s 2ms/step - loss: 0.1903 - accuracy: 0.7857\n",
      "Epoch 23/50\n",
      "3/3 [==============================] - 0s 2ms/step - loss: 0.1884 - accuracy: 0.7976\n",
      "Epoch 24/50\n",
      "3/3 [==============================] - 0s 2ms/step - loss: 0.1864 - accuracy: 0.7976\n",
      "Epoch 25/50\n",
      "3/3 [==============================] - 0s 2ms/step - loss: 0.1846 - accuracy: 0.7976\n",
      "Epoch 26/50\n",
      "3/3 [==============================] - 0s 2ms/step - loss: 0.1827 - accuracy: 0.7976\n",
      "Epoch 27/50\n",
      "3/3 [==============================] - 0s 3ms/step - loss: 0.1809 - accuracy: 0.7976\n",
      "Epoch 28/50\n",
      "3/3 [==============================] - 0s 2ms/step - loss: 0.1790 - accuracy: 0.7976\n",
      "Epoch 29/50\n",
      "3/3 [==============================] - 0s 3ms/step - loss: 0.1774 - accuracy: 0.7976\n",
      "Epoch 30/50\n",
      "3/3 [==============================] - 0s 3ms/step - loss: 0.1757 - accuracy: 0.7976\n",
      "Epoch 31/50\n",
      "3/3 [==============================] - 0s 2ms/step - loss: 0.1741 - accuracy: 0.7976\n",
      "Epoch 32/50\n",
      "3/3 [==============================] - 0s 3ms/step - loss: 0.1724 - accuracy: 0.7976\n",
      "Epoch 33/50\n",
      "3/3 [==============================] - 0s 2ms/step - loss: 0.1709 - accuracy: 0.7976\n",
      "Epoch 34/50\n",
      "3/3 [==============================] - 0s 3ms/step - loss: 0.1695 - accuracy: 0.7976\n",
      "Epoch 35/50\n",
      "3/3 [==============================] - 0s 2ms/step - loss: 0.1681 - accuracy: 0.7976\n",
      "Epoch 36/50\n",
      "3/3 [==============================] - 0s 2ms/step - loss: 0.1665 - accuracy: 0.7976\n",
      "Epoch 37/50\n",
      "3/3 [==============================] - 0s 5ms/step - loss: 0.1652 - accuracy: 0.7976\n",
      "Epoch 38/50\n",
      "3/3 [==============================] - 0s 4ms/step - loss: 0.1639 - accuracy: 0.7976\n",
      "Epoch 39/50\n",
      "3/3 [==============================] - 0s 4ms/step - loss: 0.1624 - accuracy: 0.7976\n",
      "Epoch 40/50\n",
      "3/3 [==============================] - 0s 3ms/step - loss: 0.1612 - accuracy: 0.7976\n",
      "Epoch 41/50\n",
      "3/3 [==============================] - 0s 2ms/step - loss: 0.1600 - accuracy: 0.8095\n",
      "Epoch 42/50\n",
      "3/3 [==============================] - 0s 3ms/step - loss: 0.1588 - accuracy: 0.8214\n",
      "Epoch 43/50\n",
      "3/3 [==============================] - 0s 3ms/step - loss: 0.1577 - accuracy: 0.8214\n",
      "Epoch 44/50\n",
      "3/3 [==============================] - 0s 3ms/step - loss: 0.1565 - accuracy: 0.8214\n",
      "Epoch 45/50\n",
      "3/3 [==============================] - 0s 4ms/step - loss: 0.1555 - accuracy: 0.8214\n",
      "Epoch 46/50\n",
      "3/3 [==============================] - 0s 3ms/step - loss: 0.1544 - accuracy: 0.8214\n",
      "Epoch 47/50\n",
      "3/3 [==============================] - 0s 3ms/step - loss: 0.1534 - accuracy: 0.8214\n",
      "Epoch 48/50\n",
      "3/3 [==============================] - 0s 3ms/step - loss: 0.1525 - accuracy: 0.8333\n",
      "Epoch 49/50\n",
      "3/3 [==============================] - 0s 3ms/step - loss: 0.1516 - accuracy: 0.8333\n",
      "Epoch 50/50\n",
      "3/3 [==============================] - 0s 3ms/step - loss: 0.1507 - accuracy: 0.8333\n",
      "2/2 [==============================] - 0s 2ms/step\n"
     ]
    }
   ],
   "source": [
    "ann_model_types = tf.keras.models.Sequential()\n",
    "ann_model_types.add(tf.keras.layers.Dense(units=4,activation=\"relu\"))\n",
    "ann_model_types.add(tf.keras.layers.Dense(units=4,activation=\"relu\"))\n",
    "ann_model_types.add(tf.keras.layers.Dense(units=1,activation=\"sigmoid\"))\n",
    "ann_model_types.compile(optimizer=\"adam\",loss=\"mean_squared_error\",metrics=['accuracy'])\n",
    "ann_model_types.fit(X_types_Train,Y_types_Train,batch_size=32,epochs = 50)\n",
    "\n",
    "y_ann_pred_types=ann_model_types.predict(X_types_Test)"
   ]
  },
  {
   "attachments": {},
   "cell_type": "markdown",
   "metadata": {},
   "source": [
    "# 3.1 Duration und focus/blur"
   ]
  },
  {
   "attachments": {},
   "cell_type": "markdown",
   "metadata": {},
   "source": [
    "Hier wird ein neues Dataframe kreiert. Dabei werden alle Events mit focus/blur extrahiert"
   ]
  },
  {
   "cell_type": "code",
   "execution_count": 53,
   "metadata": {},
   "outputs": [],
   "source": [
    "df_focus = pd.read_pickle('../resources/CleanedDataWithIds.pkl') \n",
    "df_focus = df_focus.drop([ 'height', 'width', 'clientX', 'clientY', 'timeStamp' ], axis=1)\n",
    "df_focus= df_focus.sort_values(by=['date', 'session'], ascending=[True, False])\n",
    "df_focus = df_focus.loc[(df_focus['type'] == 'focus') | (df_focus['type'] == 'blur')]\n",
    "df_focus = df_focus.loc[(df_focus['elementId'] != 'window')]"
   ]
  },
  {
   "attachments": {},
   "cell_type": "markdown",
   "metadata": {},
   "source": [
    "#### 3.2 Dieser Teil gehört zur Sektion 4.1.4.3 (S. 50), da hier bewiesen wird, dass windows die meisten blur Events auslösen"
   ]
  },
  {
   "attachments": {},
   "cell_type": "markdown",
   "metadata": {},
   "source": [
    "##### 3.2.1 Anzahl der focus/blur Events im ganzen Datensatz ohne window"
   ]
  },
  {
   "cell_type": "code",
   "execution_count": 54,
   "metadata": {},
   "outputs": [
    {
     "data": {
      "text/plain": [
       "focus    1205\n",
       "blur     1194\n",
       "Name: type, dtype: int64"
      ]
     },
     "execution_count": 54,
     "metadata": {},
     "output_type": "execute_result"
    }
   ],
   "source": [
    "# Anzahl der focus/blur Events im ganzen Datensatz ohne window\n",
    "focus_count = df_focus['type'].value_counts()\n",
    "focus_count.head()"
   ]
  },
  {
   "cell_type": "code",
   "execution_count": 55,
   "metadata": {},
   "outputs": [
    {
     "data": {
      "text/plain": [
       "focus    372\n",
       "blur     372\n",
       "Name: type, dtype: int64"
      ]
     },
     "execution_count": 55,
     "metadata": {},
     "output_type": "execute_result"
    }
   ],
   "source": [
    "focus_count_einfach = df_focus.loc[(df_focus['siteName'] == 0)]\n",
    "focus_count_einfach = focus_count_einfach['type'].value_counts()\n",
    "focus_count_einfach.head()"
   ]
  },
  {
   "cell_type": "code",
   "execution_count": 50,
   "metadata": {},
   "outputs": [
    {
     "data": {
      "text/plain": [
       "focus    833\n",
       "blur     822\n",
       "Name: type, dtype: int64"
      ]
     },
     "execution_count": 50,
     "metadata": {},
     "output_type": "execute_result"
    }
   ],
   "source": [
    "focus_count_schwer = df_focus.loc[(df_focus['siteName'] == 1)]\n",
    "focus_count_schwer = focus_count_schwer['type'].value_counts()\n",
    "focus_count_schwer.head()"
   ]
  },
  {
   "attachments": {},
   "cell_type": "markdown",
   "metadata": {},
   "source": [
    "##### 3.2.2 Anzahl der focus/blur Events im ganzen Datensatz mit window"
   ]
  },
  {
   "cell_type": "code",
   "execution_count": 52,
   "metadata": {},
   "outputs": [],
   "source": [
    "df_focus_window = pd.read_pickle('../resources/CleanedDataWithIds.pkl') \n",
    "df_focus_window = df_focus_window.drop([ 'height', 'width', 'clientX', 'clientY', 'timeStamp' ], axis=1)\n",
    "df_focus_window= df_focus_window.sort_values(by=['date', 'session'], ascending=[True, False])\n",
    "df_focus_window = df_focus_window.loc[(df_focus_window['type'] == 'focus') | (df_focus_window['type'] == 'blur')]"
   ]
  },
  {
   "cell_type": "code",
   "execution_count": 58,
   "metadata": {},
   "outputs": [
    {
     "data": {
      "text/plain": [
       "blur     1399\n",
       "focus    1371\n",
       "Name: type, dtype: int64"
      ]
     },
     "execution_count": 58,
     "metadata": {},
     "output_type": "execute_result"
    }
   ],
   "source": [
    "# Anzahl der focus/blur Events im ganzen Datensatz mit window\n",
    "focus_count = df_focus_window['type'].value_counts()\n",
    "focus_count.head()"
   ]
  },
  {
   "cell_type": "code",
   "execution_count": 61,
   "metadata": {},
   "outputs": [
    {
     "data": {
      "text/plain": [
       "blur     375\n",
       "focus    374\n",
       "Name: type, dtype: int64"
      ]
     },
     "execution_count": 61,
     "metadata": {},
     "output_type": "execute_result"
    }
   ],
   "source": [
    "focus_count_einfach = df_focus_window.loc[(df_focus_window['siteName'] == 0)]\n",
    "focus_count_einfach = focus_count_einfach['type'].value_counts()\n",
    "focus_count_einfach.head()"
   ]
  },
  {
   "cell_type": "code",
   "execution_count": 62,
   "metadata": {},
   "outputs": [
    {
     "data": {
      "text/plain": [
       "blur     1024\n",
       "focus     997\n",
       "Name: type, dtype: int64"
      ]
     },
     "execution_count": 62,
     "metadata": {},
     "output_type": "execute_result"
    }
   ],
   "source": [
    "focus_count_schwer = df_focus_window.loc[(df_focus_window['siteName'] == 1)]\n",
    "focus_count_schwer = focus_count_schwer['type'].value_counts()\n",
    "focus_count_schwer.head()"
   ]
  },
  {
   "attachments": {},
   "cell_type": "markdown",
   "metadata": {},
   "source": [
    "Hier wird das eigentliche Dataframe mit focus/blur gesetzt"
   ]
  },
  {
   "cell_type": "code",
   "execution_count": 63,
   "metadata": {},
   "outputs": [
    {
     "name": "stderr",
     "output_type": "stream",
     "text": [
      "<ipython-input-63-0a0f470e2f5b>:4: FutureWarning: The default value of numeric_only in DataFrameGroupBy.sum is deprecated. In a future version, numeric_only will default to False. Either specify numeric_only or select only columns which should be valid for the function.\n",
      "  df_result = df_result.groupby(['siteName', 'session']).sum()\n"
     ]
    },
    {
     "data": {
      "text/html": [
       "<div>\n",
       "<style scoped>\n",
       "    .dataframe tbody tr th:only-of-type {\n",
       "        vertical-align: middle;\n",
       "    }\n",
       "\n",
       "    .dataframe tbody tr th {\n",
       "        vertical-align: top;\n",
       "    }\n",
       "\n",
       "    .dataframe thead th {\n",
       "        text-align: right;\n",
       "    }\n",
       "</style>\n",
       "<table border=\"1\" class=\"dataframe\">\n",
       "  <thead>\n",
       "    <tr style=\"text-align: right;\">\n",
       "      <th></th>\n",
       "      <th>siteName</th>\n",
       "      <th>session</th>\n",
       "      <th>event_count focus/blur</th>\n",
       "      <th>duration</th>\n",
       "    </tr>\n",
       "  </thead>\n",
       "  <tbody>\n",
       "    <tr>\n",
       "      <th>0</th>\n",
       "      <td>0</td>\n",
       "      <td>110</td>\n",
       "      <td>14</td>\n",
       "      <td>45.536</td>\n",
       "    </tr>\n",
       "    <tr>\n",
       "      <th>1</th>\n",
       "      <td>0</td>\n",
       "      <td>116</td>\n",
       "      <td>2</td>\n",
       "      <td>3.896</td>\n",
       "    </tr>\n",
       "    <tr>\n",
       "      <th>2</th>\n",
       "      <td>0</td>\n",
       "      <td>120</td>\n",
       "      <td>6</td>\n",
       "      <td>7.034</td>\n",
       "    </tr>\n",
       "    <tr>\n",
       "      <th>3</th>\n",
       "      <td>0</td>\n",
       "      <td>127</td>\n",
       "      <td>14</td>\n",
       "      <td>22.744</td>\n",
       "    </tr>\n",
       "    <tr>\n",
       "      <th>4</th>\n",
       "      <td>0</td>\n",
       "      <td>138</td>\n",
       "      <td>12</td>\n",
       "      <td>38.160</td>\n",
       "    </tr>\n",
       "  </tbody>\n",
       "</table>\n",
       "</div>"
      ],
      "text/plain": [
       "   siteName  session  event_count focus/blur  duration\n",
       "0         0      110                      14    45.536\n",
       "1         0      116                       2     3.896\n",
       "2         0      120                       6     7.034\n",
       "3         0      127                      14    22.744\n",
       "4         0      138                      12    38.160"
      ]
     },
     "execution_count": 63,
     "metadata": {},
     "output_type": "execute_result"
    }
   ],
   "source": [
    "df_focus['date'] = pd.to_datetime(df_focus['date'])\n",
    "df_focus['duration'] = df_focus.groupby(['elementId', 'session'])['date'].diff().dt.total_seconds()\n",
    "df_result = df_focus.groupby(['siteName', 'session', 'type'])['duration'].agg(['sum', 'size']).reset_index()\n",
    "df_result = df_result.groupby(['siteName', 'session']).sum()\n",
    "df_result = df_result.rename(columns={'sum': 'duration', 'size': 'event_count focus/blur'})\n",
    "df_result = df_result[['event_count focus/blur', 'duration']]\n",
    "df_result = df_result.reset_index()\n",
    "df_result.head()"
   ]
  },
  {
   "attachments": {},
   "cell_type": "markdown",
   "metadata": {},
   "source": [
    "Teile in Trainings-/Testdaten"
   ]
  },
  {
   "cell_type": "code",
   "execution_count": 74,
   "metadata": {},
   "outputs": [],
   "source": [
    "X_focus = df_result[['event_count focus/blur', 'duration']]\n",
    "Y_focus = df_result['siteName']\n",
    "\n",
    "X_focus = StandardScaler().fit_transform(X_focus)\n",
    "\n",
    "X_focus_Train, X_focus_Test, Y_focus_Train, Y_focus_Test = train_test_split(X_focus, Y_focus, test_size = 0.30, \n",
    "                                                    random_state = 101)"
   ]
  },
  {
   "attachments": {},
   "cell_type": "markdown",
   "metadata": {},
   "source": [
    "##### 3.3 Random Forest"
   ]
  },
  {
   "cell_type": "code",
   "execution_count": 78,
   "metadata": {},
   "outputs": [
    {
     "name": "stdout",
     "output_type": "stream",
     "text": [
      "Accuracy: 0.865\n",
      "Precision: 0.850\n",
      "Recall: 0.895\n",
      "Confusion Matrix: [[15  3]\n",
      " [ 2 17]]\n",
      "AUC Score: 0.864\n",
      "MCC Score: 0.730\n",
      "F1 Score: 0.872\n"
     ]
    }
   ],
   "source": [
    "forest_focus_model=RandomForestClassifier(n_estimators=250, random_state=42)\n",
    "forest_focus_model.fit(X_focus_Train,Y_focus_Train)\n",
    "y_focus_pred=forest_focus_model.predict(X_focus_Test)\n",
    "printEvaluation(Y_focus_Test, y_focus_pred)"
   ]
  },
  {
   "attachments": {},
   "cell_type": "markdown",
   "metadata": {},
   "source": [
    "##### 3.4 kNN"
   ]
  },
  {
   "cell_type": "code",
   "execution_count": 80,
   "metadata": {},
   "outputs": [
    {
     "name": "stdout",
     "output_type": "stream",
     "text": [
      "Accuracy: 0.865\n",
      "Precision: 0.938\n",
      "Recall: 0.789\n",
      "Confusion Matrix: [[17  1]\n",
      " [ 4 15]]\n",
      "AUC Score: 0.867\n",
      "MCC Score: 0.740\n",
      "F1 Score: 0.857\n"
     ]
    }
   ],
   "source": [
    "knn_model_focus = KNeighborsClassifier(n_neighbors=3)\n",
    "knn_model_focus.fit(X_focus_Train, Y_focus_Train)\n",
    "y_knn_focus_pred = knn_model_focus.predict(X_focus_Test) \n",
    "printEvaluation(Y_focus_Test, y_knn_focus_pred)"
   ]
  },
  {
   "attachments": {},
   "cell_type": "markdown",
   "metadata": {},
   "source": [
    "##### 3.5 Logistic Regression"
   ]
  },
  {
   "cell_type": "code",
   "execution_count": 81,
   "metadata": {},
   "outputs": [
    {
     "name": "stdout",
     "output_type": "stream",
     "text": [
      "Accuracy: 0.838\n",
      "Precision: 0.933\n",
      "Recall: 0.737\n",
      "Confusion Matrix: [[17  1]\n",
      " [ 5 14]]\n",
      "AUC Score: 0.841\n",
      "MCC Score: 0.694\n",
      "F1 Score: 0.824\n"
     ]
    }
   ],
   "source": [
    "logreg_model_focus = LogisticRegression(random_state=16)\n",
    "logreg_model_focus.fit(X_count_Train, Y_count_Train)\n",
    "y_logreg_pred_focus = logreg_model_focus.predict(X_focus_Test)\n",
    "printEvaluation(Y_focus_Test, y_logreg_pred_focus)"
   ]
  },
  {
   "attachments": {},
   "cell_type": "markdown",
   "metadata": {},
   "source": [
    "##### 3.6 Support Vector Machine"
   ]
  },
  {
   "cell_type": "code",
   "execution_count": 82,
   "metadata": {},
   "outputs": [
    {
     "name": "stdout",
     "output_type": "stream",
     "text": [
      "Accuracy: 0.730\n",
      "Precision: 1.000\n",
      "Recall: 0.474\n",
      "Confusion Matrix: [[18  0]\n",
      " [10  9]]\n",
      "AUC Score: 0.737\n",
      "MCC Score: 0.552\n",
      "F1 Score: 0.643\n"
     ]
    }
   ],
   "source": [
    "svm_model_focus = svm.SVC(kernel='linear')\n",
    "svm_model_focus.fit(X_focus_Train, Y_focus_Train)\n",
    "y_svm_pred_focus = svm_model_focus.predict(X_focus_Test)\n",
    "printEvaluation(Y_focus_Test, y_svm_pred_focus)"
   ]
  },
  {
   "attachments": {},
   "cell_type": "markdown",
   "metadata": {},
   "source": [
    "##### 3.7 Gradient Boosting"
   ]
  },
  {
   "cell_type": "code",
   "execution_count": 83,
   "metadata": {},
   "outputs": [
    {
     "name": "stdout",
     "output_type": "stream",
     "text": [
      "Accuracy: 0.865\n",
      "Precision: 0.850\n",
      "Recall: 0.895\n",
      "Confusion Matrix: [[15  3]\n",
      " [ 2 17]]\n",
      "AUC Score: 0.864\n",
      "MCC Score: 0.730\n",
      "F1 Score: 0.872\n"
     ]
    }
   ],
   "source": [
    "gradient_booster_model_focus = GradientBoostingClassifier(learning_rate=0.1)\n",
    "gradient_booster_model_focus.fit(X_focus_Train,Y_focus_Train)\n",
    "y_gradient_pred_focus = gradient_booster_model_focus.predict(X_focus_Test)\n",
    "printEvaluation(Y_focus_Test, y_gradient_pred_focus)"
   ]
  },
  {
   "attachments": {},
   "cell_type": "markdown",
   "metadata": {},
   "source": [
    "# 4.1 Duration und mouseover/mouseout\n",
    "Hier wird ein neues Dataframe kreiert. Dabei werden alle Events mit focus/blur extrahiert"
   ]
  },
  {
   "cell_type": "code",
   "execution_count": 92,
   "metadata": {},
   "outputs": [
    {
     "name": "stderr",
     "output_type": "stream",
     "text": [
      "<ipython-input-92-601dd8aaee2e>:10: FutureWarning: The default value of numeric_only in DataFrameGroupBy.sum is deprecated. In a future version, numeric_only will default to False. Either specify numeric_only or select only columns which should be valid for the function.\n",
      "  df_result_mouse = df_result_mouse.groupby(['siteName', 'session']).sum()\n"
     ]
    },
    {
     "data": {
      "text/html": [
       "<div>\n",
       "<style scoped>\n",
       "    .dataframe tbody tr th:only-of-type {\n",
       "        vertical-align: middle;\n",
       "    }\n",
       "\n",
       "    .dataframe tbody tr th {\n",
       "        vertical-align: top;\n",
       "    }\n",
       "\n",
       "    .dataframe thead th {\n",
       "        text-align: right;\n",
       "    }\n",
       "</style>\n",
       "<table border=\"1\" class=\"dataframe\">\n",
       "  <thead>\n",
       "    <tr style=\"text-align: right;\">\n",
       "      <th></th>\n",
       "      <th>siteName</th>\n",
       "      <th>session</th>\n",
       "      <th>event_count mouseover/mouseout</th>\n",
       "      <th>duration</th>\n",
       "    </tr>\n",
       "  </thead>\n",
       "  <tbody>\n",
       "    <tr>\n",
       "      <th>0</th>\n",
       "      <td>0</td>\n",
       "      <td>110</td>\n",
       "      <td>12</td>\n",
       "      <td>45.539</td>\n",
       "    </tr>\n",
       "    <tr>\n",
       "      <th>1</th>\n",
       "      <td>0</td>\n",
       "      <td>116</td>\n",
       "      <td>2</td>\n",
       "      <td>3.896</td>\n",
       "    </tr>\n",
       "    <tr>\n",
       "      <th>2</th>\n",
       "      <td>0</td>\n",
       "      <td>120</td>\n",
       "      <td>16</td>\n",
       "      <td>8.866</td>\n",
       "    </tr>\n",
       "    <tr>\n",
       "      <th>3</th>\n",
       "      <td>0</td>\n",
       "      <td>127</td>\n",
       "      <td>14</td>\n",
       "      <td>22.814</td>\n",
       "    </tr>\n",
       "    <tr>\n",
       "      <th>4</th>\n",
       "      <td>0</td>\n",
       "      <td>138</td>\n",
       "      <td>34</td>\n",
       "      <td>144.909</td>\n",
       "    </tr>\n",
       "  </tbody>\n",
       "</table>\n",
       "</div>"
      ],
      "text/plain": [
       "   siteName  session  event_count mouseover/mouseout  duration\n",
       "0         0      110                              12    45.539\n",
       "1         0      116                               2     3.896\n",
       "2         0      120                              16     8.866\n",
       "3         0      127                              14    22.814\n",
       "4         0      138                              34   144.909"
      ]
     },
     "execution_count": 92,
     "metadata": {},
     "output_type": "execute_result"
    }
   ],
   "source": [
    "df_mouse = pd.read_pickle('../resources/CleanedDataWithIds.pkl') \n",
    "df_mouse = df_mouse.drop([ 'height', 'width', 'clientX', 'clientY', 'timeStamp' ], axis=1)\n",
    "df_mouse = df_mouse.sort_values(by=['date', 'session'], ascending=[True, False])\n",
    "df_mouse = df_mouse.loc[(df_mouse['type'] == 'mouseover') | (df_mouse['type'] == 'mouseout')]\n",
    "df_mouse = df_mouse.loc[(df_mouse['elementId'] != 'window')]\n",
    "\n",
    "df_mouse['date'] = pd.to_datetime(df_mouse['date'])\n",
    "df_mouse['duration'] = df_mouse.groupby(['elementId', 'session'])['date'].diff().dt.total_seconds()\n",
    "df_result_mouse = df_mouse.groupby(['siteName', 'session', 'type'])['duration'].agg(['sum', 'size']).reset_index()\n",
    "df_result_mouse = df_result_mouse.groupby(['siteName', 'session']).sum()\n",
    "df_result_mouse = df_result_mouse.rename(columns={'sum': 'duration', 'size': 'event_count mouseover/mouseout'})\n",
    "df_result_mouse = df_result_mouse[['event_count mouseover/mouseout', 'duration']]\n",
    "\n",
    "df_result_mouse = df_result_mouse.reset_index()\n",
    "df_result_mouse.head()"
   ]
  },
  {
   "cell_type": "code",
   "execution_count": 93,
   "metadata": {},
   "outputs": [],
   "source": [
    "X_mouse = df_result_mouse[['event_count mouseover/mouseout', 'duration']]\n",
    "Y_mouse = df_result_mouse['siteName']\n",
    "\n",
    "X_mouse = StandardScaler().fit_transform(X_mouse)\n",
    "\n",
    "X_mouse_Train, X_mouse_Test, Y_mouse_Train, Y_mouse_Test = train_test_split(X_mouse, Y_mouse, test_size = 0.30, \n",
    "                                                    random_state = 101)"
   ]
  },
  {
   "attachments": {},
   "cell_type": "markdown",
   "metadata": {},
   "source": [
    "##### 4.2 Random Forest"
   ]
  },
  {
   "cell_type": "code",
   "execution_count": 96,
   "metadata": {},
   "outputs": [
    {
     "name": "stdout",
     "output_type": "stream",
     "text": [
      "Accuracy: 0.750\n",
      "Precision: 0.750\n",
      "Recall: 0.750\n",
      "Confusion Matrix: [[15  5]\n",
      " [ 5 15]]\n",
      "AUC Score: 0.750\n",
      "MCC Score: 0.500\n",
      "F1 Score: 0.750\n"
     ]
    }
   ],
   "source": [
    "forest_mouse_model=RandomForestClassifier(n_estimators=250, random_state=42)\n",
    "forest_mouse_model.fit(X_mouse_Train,Y_mouse_Train)\n",
    "y_mouse_pred=forest_mouse_model.predict(X_mouse_Test)\n",
    "printEvaluation(Y_mouse_Test, y_mouse_pred)"
   ]
  },
  {
   "attachments": {},
   "cell_type": "markdown",
   "metadata": {},
   "source": [
    "##### 4.3 kNN"
   ]
  },
  {
   "cell_type": "code",
   "execution_count": 97,
   "metadata": {},
   "outputs": [
    {
     "name": "stdout",
     "output_type": "stream",
     "text": [
      "Accuracy: 0.825\n",
      "Precision: 0.882\n",
      "Recall: 0.750\n",
      "Confusion Matrix: [[18  2]\n",
      " [ 5 15]]\n",
      "AUC Score: 0.825\n",
      "MCC Score: 0.657\n",
      "F1 Score: 0.811\n"
     ]
    }
   ],
   "source": [
    "knn_model_mouse = KNeighborsClassifier(n_neighbors=3)\n",
    "knn_model_mouse.fit(X_mouse_Train, Y_mouse_Train)\n",
    "y_knn_mouse_pred = knn_model_mouse.predict(X_mouse_Test) \n",
    "printEvaluation(Y_mouse_Test, y_knn_mouse_pred)"
   ]
  },
  {
   "attachments": {},
   "cell_type": "markdown",
   "metadata": {},
   "source": [
    "##### 4.4 Logistic Regression"
   ]
  },
  {
   "cell_type": "code",
   "execution_count": 98,
   "metadata": {},
   "outputs": [
    {
     "name": "stdout",
     "output_type": "stream",
     "text": [
      "Accuracy: 0.725\n",
      "Precision: 0.909\n",
      "Recall: 0.500\n",
      "Confusion Matrix: [[19  1]\n",
      " [10 10]]\n",
      "AUC Score: 0.725\n",
      "MCC Score: 0.504\n",
      "F1 Score: 0.645\n"
     ]
    }
   ],
   "source": [
    "logreg_model_mouse = LogisticRegression(random_state=16)\n",
    "logreg_model_mouse.fit(X_mouse_Train, Y_mouse_Train)\n",
    "y_logreg_pred_mouse = logreg_model_focus.predict(X_mouse_Test)\n",
    "printEvaluation(Y_mouse_Test, y_logreg_pred_mouse)"
   ]
  },
  {
   "attachments": {},
   "cell_type": "markdown",
   "metadata": {},
   "source": [
    "##### 4.5 Support Vector Machine"
   ]
  },
  {
   "cell_type": "code",
   "execution_count": 100,
   "metadata": {},
   "outputs": [
    {
     "name": "stdout",
     "output_type": "stream",
     "text": [
      "Accuracy: 0.725\n",
      "Precision: 1.000\n",
      "Recall: 0.450\n",
      "Confusion Matrix: [[20  0]\n",
      " [11  9]]\n",
      "AUC Score: 0.725\n",
      "MCC Score: 0.539\n",
      "F1 Score: 0.621\n"
     ]
    }
   ],
   "source": [
    "svm_model_mouse = svm.SVC(kernel='linear')\n",
    "svm_model_mouse.fit(X_mouse_Train, Y_mouse_Train)\n",
    "y_svm_pred_mouse = svm_model_mouse.predict(X_mouse_Test)\n",
    "printEvaluation(Y_mouse_Test, y_svm_pred_mouse)"
   ]
  },
  {
   "attachments": {},
   "cell_type": "markdown",
   "metadata": {},
   "source": [
    "##### 4.6 Gradient Boosting"
   ]
  },
  {
   "cell_type": "code",
   "execution_count": 101,
   "metadata": {},
   "outputs": [
    {
     "name": "stdout",
     "output_type": "stream",
     "text": [
      "Accuracy: 0.775\n",
      "Precision: 0.762\n",
      "Recall: 0.800\n",
      "Confusion Matrix: [[15  5]\n",
      " [ 4 16]]\n",
      "AUC Score: 0.775\n",
      "MCC Score: 0.551\n",
      "F1 Score: 0.780\n"
     ]
    }
   ],
   "source": [
    "gradient_booster_model_mouse = GradientBoostingClassifier(learning_rate=0.1)\n",
    "gradient_booster_model_mouse.fit(X_mouse_Train,Y_mouse_Train)\n",
    "y_gradient_pred_mouse = gradient_booster_model_mouse.predict(X_mouse_Test)\n",
    "printEvaluation(Y_mouse_Test, y_gradient_pred_mouse)"
   ]
  },
  {
   "attachments": {},
   "cell_type": "markdown",
   "metadata": {},
   "source": [
    "# 5.1 RNN-Versuch\n",
    "Hier wurde anhand der sequentiellen Daten versucht, valide Ergebnisse zur Klassifikation erbringen. Allerdings hat sich die Accurancy über die Zeit nicht verbessern können, obwohl eine Dropout-Schicht und Regulator mit dabei ist. "
   ]
  },
  {
   "cell_type": "code",
   "execution_count": 103,
   "metadata": {},
   "outputs": [],
   "source": [
    "df_seq = pd.read_pickle('../resources/CleanedDataWithIds.pkl') \n",
    "df_seq['date'] = df_seq['date'].astype('datetime64[ns]')"
   ]
  },
  {
   "attachments": {},
   "cell_type": "markdown",
   "metadata": {},
   "source": [
    "Sortiert wurde hierbei anhand des timeStamps und session (Datum nicht, da dieser nicht skaliert ist im Vergleich zum timeStamp)"
   ]
  },
  {
   "cell_type": "code",
   "execution_count": 112,
   "metadata": {},
   "outputs": [],
   "source": [
    "from keras.models import Sequential\n",
    "from keras.layers import LSTM, Dense, Dropout\n",
    "\n",
    "df_encoded = df_seq.sort_values(by=['session', 'timeStamp'])"
   ]
  },
  {
   "cell_type": "code",
   "execution_count": 113,
   "metadata": {},
   "outputs": [],
   "source": [
    "from sklearn.preprocessing import LabelEncoder\n",
    "from sklearn.model_selection import train_test_split\n",
    "from keras.models import Sequential\n",
    "from keras.layers import LSTM, Dense\n",
    "\n",
    "le = LabelEncoder()\n",
    "df_encoded['siteName'] = le.fit_transform(df_encoded['siteName'])\n"
   ]
  },
  {
   "cell_type": "code",
   "execution_count": 114,
   "metadata": {},
   "outputs": [],
   "source": [
    "#one-hot-encoding\n",
    "df_encoded = pd.get_dummies(df_encoded, columns=['type'])"
   ]
  },
  {
   "cell_type": "code",
   "execution_count": 115,
   "metadata": {},
   "outputs": [
    {
     "data": {
      "text/html": [
       "<div>\n",
       "<style scoped>\n",
       "    .dataframe tbody tr th:only-of-type {\n",
       "        vertical-align: middle;\n",
       "    }\n",
       "\n",
       "    .dataframe tbody tr th {\n",
       "        vertical-align: top;\n",
       "    }\n",
       "\n",
       "    .dataframe thead th {\n",
       "        text-align: right;\n",
       "    }\n",
       "</style>\n",
       "<table border=\"1\" class=\"dataframe\">\n",
       "  <thead>\n",
       "    <tr style=\"text-align: right;\">\n",
       "      <th></th>\n",
       "      <th>timeStamp</th>\n",
       "      <th>siteName</th>\n",
       "      <th>clientX</th>\n",
       "      <th>clientY</th>\n",
       "      <th>session</th>\n",
       "      <th>height</th>\n",
       "      <th>width</th>\n",
       "      <th>type_blur</th>\n",
       "      <th>type_click</th>\n",
       "      <th>type_focus</th>\n",
       "      <th>type_keydown</th>\n",
       "      <th>type_mouseout</th>\n",
       "      <th>type_mouseover</th>\n",
       "    </tr>\n",
       "  </thead>\n",
       "  <tbody>\n",
       "    <tr>\n",
       "      <th>18052</th>\n",
       "      <td>587.0</td>\n",
       "      <td>1</td>\n",
       "      <td>1389.0</td>\n",
       "      <td>465.0</td>\n",
       "      <td>102</td>\n",
       "      <td>1279.0</td>\n",
       "      <td>3440.0</td>\n",
       "      <td>0</td>\n",
       "      <td>0</td>\n",
       "      <td>0</td>\n",
       "      <td>0</td>\n",
       "      <td>0</td>\n",
       "      <td>1</td>\n",
       "    </tr>\n",
       "    <tr>\n",
       "      <th>18051</th>\n",
       "      <td>605.0</td>\n",
       "      <td>1</td>\n",
       "      <td>1385.0</td>\n",
       "      <td>428.0</td>\n",
       "      <td>102</td>\n",
       "      <td>1279.0</td>\n",
       "      <td>3440.0</td>\n",
       "      <td>0</td>\n",
       "      <td>0</td>\n",
       "      <td>0</td>\n",
       "      <td>0</td>\n",
       "      <td>1</td>\n",
       "      <td>0</td>\n",
       "    </tr>\n",
       "    <tr>\n",
       "      <th>18054</th>\n",
       "      <td>704.0</td>\n",
       "      <td>1</td>\n",
       "      <td>1395.0</td>\n",
       "      <td>316.0</td>\n",
       "      <td>102</td>\n",
       "      <td>1279.0</td>\n",
       "      <td>3440.0</td>\n",
       "      <td>0</td>\n",
       "      <td>0</td>\n",
       "      <td>0</td>\n",
       "      <td>0</td>\n",
       "      <td>0</td>\n",
       "      <td>1</td>\n",
       "    </tr>\n",
       "    <tr>\n",
       "      <th>18053</th>\n",
       "      <td>755.0</td>\n",
       "      <td>1</td>\n",
       "      <td>1416.0</td>\n",
       "      <td>285.0</td>\n",
       "      <td>102</td>\n",
       "      <td>1279.0</td>\n",
       "      <td>3440.0</td>\n",
       "      <td>0</td>\n",
       "      <td>0</td>\n",
       "      <td>0</td>\n",
       "      <td>0</td>\n",
       "      <td>1</td>\n",
       "      <td>0</td>\n",
       "    </tr>\n",
       "    <tr>\n",
       "      <th>18055</th>\n",
       "      <td>1057.0</td>\n",
       "      <td>1</td>\n",
       "      <td>1416.0</td>\n",
       "      <td>286.0</td>\n",
       "      <td>102</td>\n",
       "      <td>1279.0</td>\n",
       "      <td>3440.0</td>\n",
       "      <td>0</td>\n",
       "      <td>0</td>\n",
       "      <td>0</td>\n",
       "      <td>0</td>\n",
       "      <td>0</td>\n",
       "      <td>1</td>\n",
       "    </tr>\n",
       "  </tbody>\n",
       "</table>\n",
       "</div>"
      ],
      "text/plain": [
       "       timeStamp  siteName  clientX  clientY  session  height   width  \\\n",
       "18052      587.0         1   1389.0    465.0      102  1279.0  3440.0   \n",
       "18051      605.0         1   1385.0    428.0      102  1279.0  3440.0   \n",
       "18054      704.0         1   1395.0    316.0      102  1279.0  3440.0   \n",
       "18053      755.0         1   1416.0    285.0      102  1279.0  3440.0   \n",
       "18055     1057.0         1   1416.0    286.0      102  1279.0  3440.0   \n",
       "\n",
       "       type_blur  type_click  type_focus  type_keydown  type_mouseout  \\\n",
       "18052          0           0           0             0              0   \n",
       "18051          0           0           0             0              1   \n",
       "18054          0           0           0             0              0   \n",
       "18053          0           0           0             0              1   \n",
       "18055          0           0           0             0              0   \n",
       "\n",
       "       type_mouseover  \n",
       "18052               1  \n",
       "18051               0  \n",
       "18054               1  \n",
       "18053               0  \n",
       "18055               1  "
      ]
     },
     "execution_count": 115,
     "metadata": {},
     "output_type": "execute_result"
    }
   ],
   "source": [
    "df_encoded.head()"
   ]
  },
  {
   "cell_type": "code",
   "execution_count": 116,
   "metadata": {},
   "outputs": [],
   "source": [
    "X = df_encoded.drop(['siteName'], axis=1)\n",
    "y = df_encoded['siteName']"
   ]
  },
  {
   "cell_type": "code",
   "execution_count": 117,
   "metadata": {},
   "outputs": [
    {
     "name": "stdout",
     "output_type": "stream",
     "text": [
      "Epoch 1/20\n",
      "222/222 [==============================] - 4s 3ms/step - loss: 4.2209 - accuracy: 0.8198\n",
      "Epoch 2/20\n",
      "222/222 [==============================] - 1s 3ms/step - loss: 3.3692 - accuracy: 0.8198\n",
      "Epoch 3/20\n",
      "222/222 [==============================] - 1s 3ms/step - loss: 3.0990 - accuracy: 0.8198\n",
      "Epoch 4/20\n",
      "222/222 [==============================] - 1s 3ms/step - loss: 2.9312 - accuracy: 0.8198\n",
      "Epoch 5/20\n",
      "222/222 [==============================] - 1s 4ms/step - loss: 2.8348 - accuracy: 0.8198\n",
      "Epoch 6/20\n",
      "222/222 [==============================] - 1s 3ms/step - loss: 2.7845 - accuracy: 0.8198\n",
      "Epoch 7/20\n",
      "222/222 [==============================] - 1s 3ms/step - loss: 2.7612 - accuracy: 0.8198\n",
      "Epoch 8/20\n",
      "222/222 [==============================] - 1s 4ms/step - loss: 2.7518 - accuracy: 0.8198\n",
      "Epoch 9/20\n",
      "222/222 [==============================] - 1s 3ms/step - loss: 2.7486 - accuracy: 0.8198\n",
      "Epoch 10/20\n",
      "222/222 [==============================] - 1s 3ms/step - loss: 2.7476 - accuracy: 0.8198\n",
      "Epoch 11/20\n",
      "222/222 [==============================] - 1s 3ms/step - loss: 2.7474 - accuracy: 0.8198\n",
      "Epoch 12/20\n",
      "222/222 [==============================] - 1s 3ms/step - loss: 2.7473 - accuracy: 0.8198\n",
      "Epoch 13/20\n",
      "222/222 [==============================] - 1s 3ms/step - loss: 2.7473 - accuracy: 0.8198\n",
      "Epoch 14/20\n",
      "222/222 [==============================] - 1s 4ms/step - loss: 2.7473 - accuracy: 0.8198\n",
      "Epoch 15/20\n",
      "222/222 [==============================] - 1s 3ms/step - loss: 2.7473 - accuracy: 0.8198\n",
      "Epoch 16/20\n",
      "222/222 [==============================] - 1s 3ms/step - loss: 2.7473 - accuracy: 0.8198\n",
      "Epoch 17/20\n",
      "222/222 [==============================] - 1s 3ms/step - loss: 2.7473 - accuracy: 0.8198\n",
      "Epoch 18/20\n",
      "222/222 [==============================] - 1s 3ms/step - loss: 2.7473 - accuracy: 0.8198\n",
      "Epoch 19/20\n",
      "222/222 [==============================] - 1s 3ms/step - loss: 2.7473 - accuracy: 0.8198\n",
      "Epoch 20/20\n",
      "222/222 [==============================] - 1s 3ms/step - loss: 2.7473 - accuracy: 0.8198\n"
     ]
    },
    {
     "data": {
      "text/plain": [
       "<keras.callbacks.History at 0x7f8681d5a5b0>"
      ]
     },
     "execution_count": 117,
     "metadata": {},
     "output_type": "execute_result"
    }
   ],
   "source": [
    "from keras.optimizers import Adam\n",
    "from sklearn.model_selection import KFold\n",
    "# define and fit model\n",
    "from keras import regularizers\n",
    "\n",
    "# split into train and test sets\n",
    "X_train, X_test, y_train, y_test = train_test_split(X, y, test_size=0.2, random_state=0)\n",
    "\n",
    "# reshape data for LSTM\n",
    "X_train = np.reshape(X_train.values, (X_train.shape[0], 1, X_train.shape[1]))\n",
    "X_test = np.reshape(X_test.values, (X_test.shape[0], 1, X_test.shape[1]))\n",
    "\n",
    "\n",
    "model = Sequential()\n",
    "model.add(LSTM(64, return_sequences=True, kernel_regularizer=regularizers.l2(0.01), recurrent_regularizer=regularizers.l2(0.01), bias_regularizer=regularizers.l2(0.01), input_shape=(X_train.shape[1], X_train.shape[2])))\n",
    "model.add(Dropout(0.5))\n",
    "model.add(LSTM(64, return_sequences=True, kernel_regularizer=regularizers.l2(0.01), recurrent_regularizer=regularizers.l2(0.01), bias_regularizer=regularizers.l2(0.01), input_shape=(X_train.shape[1], X_train.shape[2])))\n",
    "model.add(Dropout(0.5))\n",
    "model.add(Dense(1, activation='softmax'))\n",
    "model.compile(loss='binary_crossentropy', optimizer='adam', metrics=['accuracy'])\n",
    "\n",
    "# Train the model with increased number of epochs\n",
    "model.fit(X_train, y_train, epochs=20, shuffle=False)"
   ]
  },
  {
   "cell_type": "code",
   "execution_count": 118,
   "metadata": {},
   "outputs": [
    {
     "name": "stdout",
     "output_type": "stream",
     "text": [
      "Test loss: 2.82584810256958\n",
      "Test accuracy: 0.8146892786026001\n"
     ]
    }
   ],
   "source": [
    "# evaluate the model\n",
    "score = model.evaluate(X_test, y_test, verbose=0)\n",
    "print(\"Test loss:\", score[0])\n",
    "print(\"Test accuracy:\", score[1])\n"
   ]
  }
 ],
 "metadata": {
  "kernelspec": {
   "display_name": "Python 3.8.5 ('base')",
   "language": "python",
   "name": "python3"
  },
  "language_info": {
   "codemirror_mode": {
    "name": "ipython",
    "version": 3
   },
   "file_extension": ".py",
   "mimetype": "text/x-python",
   "name": "python",
   "nbconvert_exporter": "python",
   "pygments_lexer": "ipython3",
   "version": "3.8.5"
  },
  "orig_nbformat": 4,
  "vscode": {
   "interpreter": {
    "hash": "72affea882e652da3862626e8de1ded8e3db67911e489535711f40448414c376"
   }
  }
 },
 "nbformat": 4,
 "nbformat_minor": 2
}

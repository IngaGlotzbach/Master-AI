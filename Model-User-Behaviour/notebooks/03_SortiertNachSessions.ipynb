{
 "cells": [
  {
   "attachments": {},
   "cell_type": "markdown",
   "metadata": {},
   "source": [
    "# Sortiert nach Session (Neues Dataframe)\n",
    "Hier werden die Daten transformiert und in ein neues Dataframe umgewandelt. Dabei lässt sich eine Session in einer Row darstellen."
   ]
  },
  {
   "attachments": {},
   "cell_type": "markdown",
   "metadata": {},
   "source": [
    "### Allgemeines Setup\n"
   ]
  },
  {
   "cell_type": "code",
   "execution_count": 2,
   "metadata": {},
   "outputs": [
    {
     "name": "stderr",
     "output_type": "stream",
     "text": [
      "/Users/ingaglotzbach/opt/anaconda3/lib/python3.8/site-packages/pandas/core/computation/expressions.py:20: UserWarning: Pandas requires version '2.7.3' or newer of 'numexpr' (version '2.7.1' currently installed).\n",
      "  from pandas.core.computation.check import NUMEXPR_INSTALLED\n"
     ]
    }
   ],
   "source": [
    "import numpy as np\n",
    "import matplotlib.pyplot as plt\n",
    "import json\n",
    "import pandas as pd\n",
    "from pandas import read_csv\n",
    "from sklearn.utils import shuffle\n",
    "from datetime import datetime"
   ]
  },
  {
   "attachments": {},
   "cell_type": "markdown",
   "metadata": {},
   "source": [
    "#### 1.0 Lade Daten"
   ]
  },
  {
   "cell_type": "code",
   "execution_count": 3,
   "metadata": {},
   "outputs": [],
   "source": [
    "df_data = pd.read_pickle('../resources/CleanedDataWithIds.pkl') "
   ]
  },
  {
   "attachments": {},
   "cell_type": "markdown",
   "metadata": {},
   "source": [
    "#### 1.1 Dateien werden nach session und date sortiert"
   ]
  },
  {
   "cell_type": "code",
   "execution_count": 4,
   "metadata": {},
   "outputs": [],
   "source": [
    "df_replaced_together = df_data.sort_values(by=['session','date'], ascending=[False, True])"
   ]
  },
  {
   "cell_type": "code",
   "execution_count": 5,
   "metadata": {},
   "outputs": [
    {
     "name": "stdout",
     "output_type": "stream",
     "text": [
      "[515, 519, 524, 528, 554, 569, 571, 573, 574, 579, 583, 594, 595, 605, 608, 102, 618, 110, 623, 112, 626, 116, 120, 633, 634, 127, 640, 136, 650, 138, 141, 144, 657, 660, 157, 158, 161, 680, 691, 695, 698, 701, 190, 703, 194, 196, 199, 201, 205, 211, 728, 226, 227, 743, 749, 239, 242, 243, 245, 758, 759, 253, 254, 260, 782, 783, 273, 279, 797, 798, 286, 288, 285, 802, 290, 297, 813, 823, 313, 314, 833, 324, 837, 845, 338, 851, 852, 345, 867, 869, 359, 360, 368, 371, 889, 891, 896, 384, 898, 388, 389, 905, 395, 398, 408, 921, 922, 413, 927, 929, 419, 934, 423, 940, 428, 949, 438, 439, 440, 960, 454, 457, 461, 976, 472, 992, 480, 994, 995, 483, 504, 510]\n"
     ]
    }
   ],
   "source": [
    "#get all new id numbers \n",
    "sessionId = df_replaced_together['session']\n",
    "df_replaced_together['is_duplicated'] = df_replaced_together.duplicated('session')\n",
    "#86 ids auf Seite Einfach\n",
    "numbers1 = set(sessionId)\n",
    "numbers = list(numbers1)\n",
    "\n",
    "print(numbers)"
   ]
  },
  {
   "attachments": {},
   "cell_type": "markdown",
   "metadata": {},
   "source": [
    "#### 1.2 Hier wird ein neues Dataframe kreiert"
   ]
  },
  {
   "cell_type": "code",
   "execution_count": 6,
   "metadata": {},
   "outputs": [],
   "source": [
    "session = pd.DataFrame(numbers, columns=[\"session\"])\n",
    "arrMouseover = []\n",
    "arrMouseout = []\n",
    "arrClick = []\n",
    "arrBlur = []\n",
    "arrFocus = []\n",
    "arrKeydown = []\n",
    "arrDate = []\n",
    "arrHeight = []\n",
    "arrWidth = []\n",
    "arrSiteName = []\n",
    "arrClientX = []\n",
    "arrClientY = []\n",
    "arrCount = []\n",
    "\n",
    "for i in range(len(numbers)):\n",
    "    new = df_replaced_together.loc[df_replaced_together['session'] == numbers[i]]\n",
    "    date = (new['date'].iloc[-1] - (new['date'].iloc[0])).total_seconds()\n",
    "    arrDate.append(date)\n",
    "\n",
    "    height = new['height'].iloc[0]\n",
    "    arrHeight.append(height)\n",
    "\n",
    "    width = new['width'].iloc[0]\n",
    "    arrWidth.append(width)\n",
    "\n",
    "    siteName = new['siteName'].iloc[0]\n",
    "    arrSiteName.append(siteName)\n",
    "\n",
    "    clientX = new['clientX'].iloc[0]\n",
    "    arrClientX.append(clientX)\n",
    "\n",
    "    clientY = new['clientY'].iloc[0]\n",
    "    arrClientY.append(clientY)\n",
    "\n",
    "    new2 = (len(new.loc[new['type']=='mouseover']))\n",
    "    arrMouseover.append(new2)\n",
    "\n",
    "    new3 = (len(new.loc[new['type'] =='mouseout']))\n",
    "    arrMouseout.append(new3)\n",
    "\n",
    "    new4 = (len(new.loc[new['type'] =='click']))\n",
    "    arrClick.append(new4)\n",
    "\n",
    "    new5 = (len(new.loc[new['type'] =='blur']))\n",
    "    arrBlur.append(new5)\n",
    "\n",
    "    new6 = (len(new.loc[new['type'] =='focus']))\n",
    "    arrFocus.append(new6)\n",
    "\n",
    "    new7 = (len(new.loc[new['type'] =='keydown']))\n",
    "    arrKeydown.append(new7)\n",
    "    \n",
    "    counted = new2 + new3 + new4 + new5 + new6 + new7\n",
    "    count = arrCount.append(counted)\n",
    "\n",
    "session['count_mouseover'] = arrMouseover\n",
    "session['count_mouseout'] = arrMouseout\n",
    "session['count_click'] = arrClick\n",
    "session['count_blur'] = arrBlur\n",
    "session['count_focus'] = arrFocus\n",
    "session['count_keydown'] = arrKeydown\n",
    "session['count_all'] = arrCount\n",
    "session['duration'] = arrDate\n",
    "session['height'] = arrHeight\n",
    "session['width'] = arrWidth\n",
    "session['siteName'] = arrSiteName\n",
    "session['clientX'] = arrClientX\n",
    "session['clientY'] = arrClientY"
   ]
  },
  {
   "attachments": {},
   "cell_type": "markdown",
   "metadata": {},
   "source": [
    "###### Iterationen sind einfacher in Typescript. Entschuldigung für den Code, es war leider keine Zeit mehr zum refactoren, aber es funktioniert."
   ]
  },
  {
   "attachments": {},
   "cell_type": "markdown",
   "metadata": {},
   "source": [
    "#### 1.3 Alle Sessions die eine Duration über 2000 sec, kürzer als 5 sec und weniger oder nur ein focus Event haben werden aus dem Datensatz gelöscht"
   ]
  },
  {
   "cell_type": "code",
   "execution_count": 7,
   "metadata": {},
   "outputs": [],
   "source": [
    "session = session.loc[(session['duration'] < 2000) & (session['duration'] > 5) & (session['count_focus'] >= 1)]"
   ]
  }
 ],
 "metadata": {
  "kernelspec": {
   "display_name": "Python 3.8.5 ('base')",
   "language": "python",
   "name": "python3"
  },
  "language_info": {
   "codemirror_mode": {
    "name": "ipython",
    "version": 3
   },
   "file_extension": ".py",
   "mimetype": "text/x-python",
   "name": "python",
   "nbconvert_exporter": "python",
   "pygments_lexer": "ipython3",
   "version": "3.8.5"
  },
  "orig_nbformat": 4,
  "vscode": {
   "interpreter": {
    "hash": "72affea882e652da3862626e8de1ded8e3db67911e489535711f40448414c376"
   }
  }
 },
 "nbformat": 4,
 "nbformat_minor": 2
}

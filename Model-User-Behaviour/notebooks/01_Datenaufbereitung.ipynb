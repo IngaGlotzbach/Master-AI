{
 "cells": [
  {
   "attachments": {},
   "cell_type": "markdown",
   "metadata": {},
   "source": [
    "# Datenaufbereitung\n",
    "Es werden Daten geladen und aufbereitet, näheres dazu lässt sich in der Arbeit lesen"
   ]
  },
  {
   "attachments": {},
   "cell_type": "markdown",
   "metadata": {},
   "source": [
    "#### Allgemeines Setup des Notebooks"
   ]
  },
  {
   "cell_type": "code",
   "execution_count": 63,
   "metadata": {},
   "outputs": [],
   "source": [
    "import numpy as np\n",
    "import matplotlib.pyplot as plt\n",
    "import json\n",
    "import pandas as pd\n",
    "from pandas import read_csv\n",
    "from sklearn.utils import shuffle\n",
    "from datetime import datetime\n",
    "from pandas.core.computation.check import NUMEXPR_INSTALLED\n",
    "import seaborn as sns"
   ]
  },
  {
   "attachments": {},
   "cell_type": "markdown",
   "metadata": {},
   "source": [
    "### 1. Daten werden geladen und in ein Dataframe umgewandelt"
   ]
  },
  {
   "cell_type": "code",
   "execution_count": 64,
   "metadata": {},
   "outputs": [],
   "source": [
    "with open('../resources/fullData.json') as dataJson:\n",
    "    data = json.load(dataJson)"
   ]
  },
  {
   "cell_type": "code",
   "execution_count": 65,
   "metadata": {},
   "outputs": [
    {
     "data": {
      "text/html": [
       "<div>\n",
       "<style scoped>\n",
       "    .dataframe tbody tr th:only-of-type {\n",
       "        vertical-align: middle;\n",
       "    }\n",
       "\n",
       "    .dataframe tbody tr th {\n",
       "        vertical-align: top;\n",
       "    }\n",
       "\n",
       "    .dataframe thead th {\n",
       "        text-align: right;\n",
       "    }\n",
       "</style>\n",
       "<table border=\"1\" class=\"dataframe\">\n",
       "  <thead>\n",
       "    <tr style=\"text-align: right;\">\n",
       "      <th></th>\n",
       "      <th>clientId</th>\n",
       "      <th>elementId</th>\n",
       "      <th>timeStamp</th>\n",
       "      <th>type</th>\n",
       "      <th>siteName</th>\n",
       "      <th>date</th>\n",
       "      <th>clientX</th>\n",
       "      <th>clientY</th>\n",
       "      <th>session</th>\n",
       "      <th>height</th>\n",
       "      <th>width</th>\n",
       "      <th>browser</th>\n",
       "      <th>key</th>\n",
       "    </tr>\n",
       "  </thead>\n",
       "  <tbody>\n",
       "    <tr>\n",
       "      <th>339</th>\n",
       "      <td>2567c85a-ad16</td>\n",
       "      <td>inputPet</td>\n",
       "      <td>824.2999999988824</td>\n",
       "      <td>mouseover</td>\n",
       "      <td>TestEinfach</td>\n",
       "      <td>2022-10-17T13:35:24.171Z</td>\n",
       "      <td>673</td>\n",
       "      <td>363</td>\n",
       "      <td>1ff12350-5d06-5a07-9f0d-96a9a3942adb</td>\n",
       "      <td>944</td>\n",
       "      <td>1920</td>\n",
       "      <td>NaN</td>\n",
       "      <td>NaN</td>\n",
       "    </tr>\n",
       "    <tr>\n",
       "      <th>340</th>\n",
       "      <td>2567c85a-ad16</td>\n",
       "      <td>inputPet</td>\n",
       "      <td>858.2999999988824</td>\n",
       "      <td>mouseout</td>\n",
       "      <td>TestEinfach</td>\n",
       "      <td>2022-10-17T13:35:24.205Z</td>\n",
       "      <td>772</td>\n",
       "      <td>333</td>\n",
       "      <td>1ff12350-5d06-5a07-9f0d-96a9a3942adb</td>\n",
       "      <td>944</td>\n",
       "      <td>1920</td>\n",
       "      <td>NaN</td>\n",
       "      <td>NaN</td>\n",
       "    </tr>\n",
       "    <tr>\n",
       "      <th>341</th>\n",
       "      <td>2567c85a-ad16</td>\n",
       "      <td>inputCountry</td>\n",
       "      <td>2005.2999999988824</td>\n",
       "      <td>mouseover</td>\n",
       "      <td>TestEinfach</td>\n",
       "      <td>2022-10-17T13:35:25.361Z</td>\n",
       "      <td>796</td>\n",
       "      <td>266</td>\n",
       "      <td>1ff12350-5d06-5a07-9f0d-96a9a3942adb</td>\n",
       "      <td>944</td>\n",
       "      <td>1920</td>\n",
       "      <td>NaN</td>\n",
       "      <td>NaN</td>\n",
       "    </tr>\n",
       "    <tr>\n",
       "      <th>342</th>\n",
       "      <td>2567c85a-ad16</td>\n",
       "      <td>inputCountry</td>\n",
       "      <td>2296.5</td>\n",
       "      <td>focus</td>\n",
       "      <td>TestEinfach</td>\n",
       "      <td>2022-10-17T13:35:25.652Z</td>\n",
       "      <td>NaN</td>\n",
       "      <td>NaN</td>\n",
       "      <td>1ff12350-5d06-5a07-9f0d-96a9a3942adb</td>\n",
       "      <td>944</td>\n",
       "      <td>1920</td>\n",
       "      <td>Chrome</td>\n",
       "      <td>NaN</td>\n",
       "    </tr>\n",
       "    <tr>\n",
       "      <th>343</th>\n",
       "      <td>2567c85a-ad16</td>\n",
       "      <td>inputHouse</td>\n",
       "      <td>2875.2999999988824</td>\n",
       "      <td>mouseover</td>\n",
       "      <td>TestEinfach</td>\n",
       "      <td>2022-10-17T13:35:26.230Z</td>\n",
       "      <td>995</td>\n",
       "      <td>264</td>\n",
       "      <td>1ff12350-5d06-5a07-9f0d-96a9a3942adb</td>\n",
       "      <td>944</td>\n",
       "      <td>1920</td>\n",
       "      <td>NaN</td>\n",
       "      <td>NaN</td>\n",
       "    </tr>\n",
       "  </tbody>\n",
       "</table>\n",
       "</div>"
      ],
      "text/plain": [
       "          clientId     elementId           timeStamp       type     siteName  \\\n",
       "339  2567c85a-ad16      inputPet   824.2999999988824  mouseover  TestEinfach   \n",
       "340  2567c85a-ad16      inputPet   858.2999999988824   mouseout  TestEinfach   \n",
       "341  2567c85a-ad16  inputCountry  2005.2999999988824  mouseover  TestEinfach   \n",
       "342  2567c85a-ad16  inputCountry              2296.5      focus  TestEinfach   \n",
       "343  2567c85a-ad16    inputHouse  2875.2999999988824  mouseover  TestEinfach   \n",
       "\n",
       "                         date clientX clientY  \\\n",
       "339  2022-10-17T13:35:24.171Z     673     363   \n",
       "340  2022-10-17T13:35:24.205Z     772     333   \n",
       "341  2022-10-17T13:35:25.361Z     796     266   \n",
       "342  2022-10-17T13:35:25.652Z     NaN     NaN   \n",
       "343  2022-10-17T13:35:26.230Z     995     264   \n",
       "\n",
       "                                  session height width browser  key  \n",
       "339  1ff12350-5d06-5a07-9f0d-96a9a3942adb    944  1920     NaN  NaN  \n",
       "340  1ff12350-5d06-5a07-9f0d-96a9a3942adb    944  1920     NaN  NaN  \n",
       "341  1ff12350-5d06-5a07-9f0d-96a9a3942adb    944  1920     NaN  NaN  \n",
       "342  1ff12350-5d06-5a07-9f0d-96a9a3942adb    944  1920  Chrome  NaN  \n",
       "343  1ff12350-5d06-5a07-9f0d-96a9a3942adb    944  1920     NaN  NaN  "
      ]
     },
     "execution_count": 65,
     "metadata": {},
     "output_type": "execute_result"
    }
   ],
   "source": [
    "df_data = pd.DataFrame(data)\n",
    "#lösche alle Sessions raus die keine session_id haben \n",
    "df = df_data[df_data['session'].notna()]\n",
    "df.head()"
   ]
  },
  {
   "attachments": {},
   "cell_type": "markdown",
   "metadata": {},
   "source": [
    "### 2. Bereinigung der Daten"
   ]
  },
  {
   "attachments": {},
   "cell_type": "markdown",
   "metadata": {},
   "source": [
    "#### 2.1 Alle Ereignisse abrufen, die sich tatsächlich in TestSchwer befinden"
   ]
  },
  {
   "cell_type": "code",
   "execution_count": 66,
   "metadata": {},
   "outputs": [],
   "source": [
    "array_input_schwer = ['inputHobby','inputCancelor','inputTemperature','inputDays','inputRiver', 'inputDifficultQuestion', 'clickHere', 'buttonYes', 'alibiClick']\n",
    "\n",
    "df_einfach_without_schwerInput = df[~df['elementId'].isin(array_input_schwer)]\n",
    "df_schwer_without_einfachInput = df[df['elementId'].isin(array_input_schwer)]\n",
    "\n",
    "df_actually_schwer = df_einfach_without_schwerInput.loc[df_einfach_without_schwerInput['siteName'] == 'TestSchwer']\n",
    "df_easy = df_actually_schwer.assign(sitename='TestSchwer')\n",
    "\n",
    "df_einfach = df_einfach_without_schwerInput.loc[~(df_einfach_without_schwerInput['siteName'] == 'TestSchwer')]\n",
    "df_schwer = pd.concat([df_easy, df_schwer_without_einfachInput])\n",
    "df_schwer['siteName'] = 'TestSchwer'\n",
    "\n",
    "pd.set_option('display.max_columns', 20)\n",
    "pd.set_option('display.max_rows', 20)"
   ]
  },
  {
   "attachments": {},
   "cell_type": "markdown",
   "metadata": {},
   "source": [
    "#### 2.2 Gleich viele Sessions bei TestSchwer & TestEinfach"
   ]
  },
  {
   "cell_type": "code",
   "execution_count": 67,
   "metadata": {},
   "outputs": [
    {
     "name": "stdout",
     "output_type": "stream",
     "text": [
      "89\n",
      "70\n"
     ]
    },
    {
     "name": "stderr",
     "output_type": "stream",
     "text": [
      "<ipython-input-67-2d14dad677d7>:4: SettingWithCopyWarning: \n",
      "A value is trying to be set on a copy of a slice from a DataFrame.\n",
      "Try using .loc[row_indexer,col_indexer] = value instead\n",
      "\n",
      "See the caveats in the documentation: https://pandas.pydata.org/pandas-docs/stable/user_guide/indexing.html#returning-a-view-versus-a-copy\n",
      "  df_einfach['is_duplicated'] = df_einfach.duplicated('session')\n"
     ]
    }
   ],
   "source": [
    "sessionIdSchwer = df_schwer['session']\n",
    "sessionIdEinfach = df_einfach['session']\n",
    "\n",
    "df_einfach['is_duplicated'] = df_einfach.duplicated('session')\n",
    "#89 ids auf Seite Einfach\n",
    "setEinfach = set(sessionIdEinfach)\n",
    "length = len(setEinfach)\n",
    "print(length)\n",
    "\n",
    "#70 ids auf Seite Schwer\n",
    "df_schwer['is_duplicated'] = df_schwer.duplicated('session')\n",
    "setSchwer = set(sessionIdSchwer)\n",
    "lengthSchwer = len(setSchwer)\n",
    "print(lengthSchwer)"
   ]
  },
  {
   "attachments": {},
   "cell_type": "markdown",
   "metadata": {},
   "source": [
    "Es werden alle Sessions gelöscht die nicht auf beiden Seiten vorhanden sind"
   ]
  },
  {
   "cell_type": "code",
   "execution_count": 68,
   "metadata": {},
   "outputs": [
    {
     "name": "stdout",
     "output_type": "stream",
     "text": [
      "Anzahl der Session-Ids bei einfach 66\n",
      "Anzahl der Session-Ids bei schwer 66\n"
     ]
    }
   ],
   "source": [
    "in_schwer_but_not_in_einfach = setSchwer - setEinfach\n",
    "in_einfach_but_not_in_schwer = setEinfach - setSchwer\n",
    "\n",
    "array_einfach = list(in_einfach_but_not_in_schwer)\n",
    "array_schwer = list(in_schwer_but_not_in_einfach)\n",
    "\n",
    "df_einfach_without_ids = df_einfach[~df_einfach['session'].isin(array_einfach)]\n",
    "df_schwer_without_ids = df_schwer[~df_schwer['session'].isin(array_schwer)]\n",
    "\n",
    "df_einfach_final = df_einfach_without_ids.drop(['clientId', 'is_duplicated'], axis=1)\n",
    "df_schwer_final = df_schwer_without_ids.drop(['clientId', 'is_duplicated'], axis=1)\n",
    "\n",
    "print(\"Anzahl der Session-Ids bei einfach\", 89 - len(array_einfach))\n",
    "print(\"Anzahl der Session-Ids bei schwer\",70 - len(array_schwer))"
   ]
  },
  {
   "attachments": {},
   "cell_type": "markdown",
   "metadata": {},
   "source": [
    "Hier wird die jeweilige Anzahl der Seiten betrachtet. "
   ]
  },
  {
   "cell_type": "code",
   "execution_count": 69,
   "metadata": {},
   "outputs": [
    {
     "name": "stdout",
     "output_type": "stream",
     "text": [
      "Anzahl der Events: 35164\n"
     ]
    }
   ],
   "source": [
    "df_concat_data = pd.concat([df_schwer_final, df_einfach_final])\n",
    "df_concat_data['session'].value_counts()\n",
    "print('Anzahl der Events:',len(df_concat_data))"
   ]
  },
  {
   "cell_type": "code",
   "execution_count": 70,
   "metadata": {},
   "outputs": [
    {
     "name": "stdout",
     "output_type": "stream",
     "text": [
      "69e36b9c-46ec-e499-4a8c-9590b2ca8695    595\n",
      "6c81bd46-f25a-08fe-9f88-6652cefdf249    275\n",
      "ea50816c-8d4f-5629-a078-c048513d4fd6    253\n",
      "2e506528-adcc-8870-92ab-5c8d36f84add    226\n",
      "849db5c6-9138-0fdc-1a4b-86e89ab9acd3    214\n",
      "                                       ... \n",
      "efb4f373-decb-6b63-194f-b7acb93cf94d     18\n",
      "bbf7e1d0-6d9a-2025-fce7-45a86117014a     16\n",
      "fd6c4243-c30d-f1ff-f22e-c2f56b2cf901     14\n",
      "a42e916e-1d9b-51f0-19ed-f4262b0d1c70     10\n",
      "da1c188a-f46a-25bf-af34-c8e3afa30304      2\n",
      "Name: session, Length: 66, dtype: int64\n",
      "Anzahl der Events von TestSchwer: 4086\n"
     ]
    }
   ],
   "source": [
    "print(df_einfach_final['session'].value_counts())\n",
    "print('Anzahl der Events von TestSchwer:',len(df_einfach_final))"
   ]
  },
  {
   "cell_type": "code",
   "execution_count": 71,
   "metadata": {},
   "outputs": [
    {
     "name": "stdout",
     "output_type": "stream",
     "text": [
      "2e506528-adcc-8870-92ab-5c8d36f84add    4338\n",
      "b721640b-042e-77a9-9864-28c0ce5264fb    2780\n",
      "6c81bd46-f25a-08fe-9f88-6652cefdf249    2263\n",
      "69e4a6b4-0c82-f9be-c9d2-ea959fb5ac90    1678\n",
      "90ab4d9b-1f2b-12d8-0607-da60d299f472    1591\n",
      "                                        ... \n",
      "bbf7e1d0-6d9a-2025-fce7-45a86117014a       9\n",
      "da1c188a-f46a-25bf-af34-c8e3afa30304       7\n",
      "a2182a9f-b55f-ad7c-0744-9c3106331d5d       6\n",
      "24027ad1-57b0-1b05-d2b4-55d6d4e1bf65       5\n",
      "35e42b1c-1ae0-9ab7-b1cb-9bc03f17b034       4\n",
      "Name: session, Length: 66, dtype: int64\n",
      "Anzahl der Events von TestSchwer: 31078\n"
     ]
    }
   ],
   "source": [
    "print(df_schwer_final['session'].value_counts())\n",
    "print('Anzahl der Events von TestSchwer:',len(df_schwer_final))"
   ]
  },
  {
   "attachments": {},
   "cell_type": "markdown",
   "metadata": {},
   "source": [
    "#### 2.3 Diskrepanz der Daten analysieren"
   ]
  },
  {
   "cell_type": "code",
   "execution_count": 72,
   "metadata": {},
   "outputs": [
    {
     "data": {
      "text/plain": [
       "Text(0.5, 1.0, 'Count for Events')"
      ]
     },
     "execution_count": 72,
     "metadata": {},
     "output_type": "execute_result"
    },
    {
     "data": {
      "image/png": "[encoded data removed]",
      "text/plain": [
       "<Figure size 648x504 with 1 Axes>"
      ]
     },
     "metadata": {
      "needs_background": "light"
     },
     "output_type": "display_data"
    }
   ],
   "source": [
    "# Figure size\n",
    "plt.figure(figsize=(9,7))\n",
    "# Count plot\n",
    "ax = sns.countplot(x = 'siteName', data = df_concat_data, palette=\"coolwarm_r\")\n",
    "# Add title\n",
    "plt.title('Count for Events', fontsize=18)"
   ]
  },
  {
   "cell_type": "code",
   "execution_count": 73,
   "metadata": {},
   "outputs": [
    {
     "data": {
      "text/plain": [
       "<AxesSubplot: xlabel='type', ylabel='count'>"
      ]
     },
     "execution_count": 73,
     "metadata": {},
     "output_type": "execute_result"
    },
    {
     "data": {
      "image/png": "[encoded data removed]",
      "text/plain": [
       "<Figure size 2160x576 with 2 Axes>"
      ]
     },
     "metadata": {
      "needs_background": "light"
     },
     "output_type": "display_data"
    }
   ],
   "source": [
    "fig2, axs2 = plt.subplots(1,2, figsize=(30,8), sharey=True)\n",
    "\n",
    "# Count plot\n",
    "sns.countplot(x = 'type', data = df_einfach_final, palette=\"coolwarm_r\", ax=axs2[0])\n",
    "sns.countplot(x = 'type', data = df_schwer_final, palette=\"coolwarm_r\", ax=axs2[1])"
   ]
  },
  {
   "attachments": {},
   "cell_type": "markdown",
   "metadata": {},
   "source": [
    "Dadurch, dass der scroll-type viele Events enthält, kaum auf der einfachen Seite vertreten ist und der Datensatz ungleichmäßig verteilt, wird der scroll-type gelöscht"
   ]
  },
  {
   "cell_type": "code",
   "execution_count": 74,
   "metadata": {},
   "outputs": [],
   "source": [
    "df_einfach_final = df_einfach_final.loc[df_einfach_final[\"type\"] !=\"scroll\"]\n",
    "df_schwer_final = df_schwer_final.loc[df_schwer_final[\"type\"] !=\"scroll\"]"
   ]
  },
  {
   "cell_type": "code",
   "execution_count": 75,
   "metadata": {},
   "outputs": [
    {
     "name": "stdout",
     "output_type": "stream",
     "text": [
      "Anzahl der Events ohne Scroll von TestEinfach: 1603\n",
      "Anzahl der Events ohne Scroll von TestSchwer: 7279\n"
     ]
    }
   ],
   "source": [
    "print('Anzahl der Events ohne Scroll von TestEinfach:',len(df_einfach_final))\n",
    "print('Anzahl der Events ohne Scroll von TestSchwer:',len(df_schwer_final))"
   ]
  },
  {
   "attachments": {},
   "cell_type": "markdown",
   "metadata": {},
   "source": [
    "#### 2.4 Werte in float umwandeln"
   ]
  },
  {
   "cell_type": "code",
   "execution_count": 76,
   "metadata": {},
   "outputs": [],
   "source": [
    "array_of_properties = ['timeStamp', 'clientX', 'clientY', 'height', 'width']"
   ]
  },
  {
   "cell_type": "code",
   "execution_count": 77,
   "metadata": {},
   "outputs": [],
   "source": [
    "def toFloat(test, array):\n",
    "    for x in range(5): \n",
    "        test[array[x]] = test[array[x]].astype(float)\n",
    "    test['date'] = test['date'].astype('datetime64[ns]')\n",
    "\n",
    "toFloat(df_einfach_final, array_of_properties)\n",
    "toFloat(df_schwer_final, array_of_properties)"
   ]
  },
  {
   "attachments": {},
   "cell_type": "markdown",
   "metadata": {},
   "source": [
    "#### 2.5 Fehlende Werte analysieren und entfernen"
   ]
  },
  {
   "attachments": {},
   "cell_type": "markdown",
   "metadata": {},
   "source": [
    "In der Grafik werden die fehlenden Werte visualisiert. Wenn ein Wert fehlt wird er auf 'True' gesetzt, falls nicht wird er auf 'False' gesetzt. "
   ]
  },
  {
   "cell_type": "code",
   "execution_count": 78,
   "metadata": {},
   "outputs": [
    {
     "name": "stderr",
     "output_type": "stream",
     "text": [
      "/Users/ingaglotzbach/opt/anaconda3/lib/python3.8/site-packages/seaborn/distributions.py:238: FutureWarning: In a future version, `df.iloc[:, i] = newvals` will attempt to set the values inplace instead of always setting a new array. To retain the old behavior, use either `df[df.columns[i]] = newvals` or, if columns are non-unique, `df.isetitem(i, newvals)`\n",
      "  curves.iloc[:, cols] = (curves\n",
      "/Users/ingaglotzbach/opt/anaconda3/lib/python3.8/site-packages/seaborn/distributions.py:243: FutureWarning: In a future version, `df.iloc[:, i] = newvals` will attempt to set the values inplace instead of always setting a new array. To retain the old behavior, use either `df[df.columns[i]] = newvals` or, if columns are non-unique, `df.isetitem(i, newvals)`\n",
      "  baselines.iloc[:, cols] = (curves\n"
     ]
    },
    {
     "data": {
      "text/plain": [
       "<Figure size 720x432 with 0 Axes>"
      ]
     },
     "metadata": {},
     "output_type": "display_data"
    },
    {
     "data": {
      "image/png": "[encoded data removed]",
      "text/plain": [
       "<Figure size 511.25x360 with 1 Axes>"
      ]
     },
     "metadata": {
      "needs_background": "light"
     },
     "output_type": "display_data"
    }
   ],
   "source": [
    "plt.figure(figsize=(10,6))\n",
    "sns.displot(\n",
    "    data=df_concat_data.isna().melt(value_name=\"missing\"),\n",
    "    y=\"variable\",\n",
    "    hue=\"missing\",\n",
    "    multiple=\"fill\",\n",
    "    aspect=1.25\n",
    ")\n",
    "plt.savefig(\"visualizing_missing_data_with_barplot_Seaborn_distplot.png\", dpi=100)"
   ]
  },
  {
   "cell_type": "code",
   "execution_count": 79,
   "metadata": {},
   "outputs": [],
   "source": [
    "#löschen der key & browser Spalte\n",
    "df_einfach_final = df_einfach_final.drop(['key', 'browser'], axis=1)\n",
    "df_schwer_final = df_schwer_final.drop(['key', 'browser', 'sitename'], axis=1)"
   ]
  },
  {
   "attachments": {},
   "cell_type": "markdown",
   "metadata": {},
   "source": [
    "Es wird der Median für clienX & clientX gesetzt."
   ]
  },
  {
   "cell_type": "code",
   "execution_count": 80,
   "metadata": {},
   "outputs": [],
   "source": [
    "df_einfach_final['clientX'].fillna((df_einfach_final['clientX'].mean()), inplace=True)\n",
    "df_einfach_final['clientY'].fillna((df_einfach_final['clientY'].mean()), inplace=True)\n",
    "\n",
    "df_schwer_final['clientX'].fillna((df_schwer_final['clientX'].mean()), inplace=True)\n",
    "df_schwer_final['clientY'].fillna((df_schwer_final['clientY'].mean()), inplace=True)"
   ]
  },
  {
   "cell_type": "code",
   "execution_count": 81,
   "metadata": {},
   "outputs": [],
   "source": [
    "df_concat_data = pd.concat([df_einfach_final, df_schwer_final])"
   ]
  },
  {
   "cell_type": "code",
   "execution_count": 82,
   "metadata": {},
   "outputs": [
    {
     "name": "stderr",
     "output_type": "stream",
     "text": [
      "/Users/ingaglotzbach/opt/anaconda3/lib/python3.8/site-packages/seaborn/distributions.py:238: FutureWarning: In a future version, `df.iloc[:, i] = newvals` will attempt to set the values inplace instead of always setting a new array. To retain the old behavior, use either `df[df.columns[i]] = newvals` or, if columns are non-unique, `df.isetitem(i, newvals)`\n",
      "  curves.iloc[:, cols] = (curves\n",
      "/Users/ingaglotzbach/opt/anaconda3/lib/python3.8/site-packages/seaborn/distributions.py:243: FutureWarning: In a future version, `df.iloc[:, i] = newvals` will attempt to set the values inplace instead of always setting a new array. To retain the old behavior, use either `df[df.columns[i]] = newvals` or, if columns are non-unique, `df.isetitem(i, newvals)`\n",
      "  baselines.iloc[:, cols] = (curves\n"
     ]
    },
    {
     "data": {
      "text/plain": [
       "<seaborn.axisgrid.FacetGrid at 0x7febb9922d60>"
      ]
     },
     "execution_count": 82,
     "metadata": {},
     "output_type": "execute_result"
    },
    {
     "data": {
      "text/plain": [
       "<Figure size 720x432 with 0 Axes>"
      ]
     },
     "metadata": {},
     "output_type": "display_data"
    },
    {
     "data": {
      "image/png": "[encoded data removed]",
      "text/plain": [
       "<Figure size 511.25x360 with 1 Axes>"
      ]
     },
     "metadata": {
      "needs_background": "light"
     },
     "output_type": "display_data"
    }
   ],
   "source": [
    "#test if something is missing \n",
    "plt.figure(figsize=(10,6))\n",
    "sns.displot(\n",
    "    data=df_concat_data.isna().melt(value_name=\"missing\"),\n",
    "    y=\"variable\",\n",
    "    hue=\"missing\",\n",
    "    multiple=\"fill\",\n",
    "    aspect=1.25\n",
    ")"
   ]
  },
  {
   "cell_type": "code",
   "execution_count": 83,
   "metadata": {},
   "outputs": [],
   "source": [
    "#Setze numerische Werte für die Spalte 'siteName'\n",
    "df_einfach_final['siteName'] = 0\n",
    "df_schwer_final['siteName'] = 1\n",
    "\n",
    "df_concat_data = pd.concat([df_einfach_final, df_schwer_final])"
   ]
  },
  {
   "attachments": {},
   "cell_type": "markdown",
   "metadata": {},
   "source": [
    "Es werden alle Werte gelöscht die eine höhere Duration von 3000000 haben"
   ]
  },
  {
   "cell_type": "code",
   "execution_count": 84,
   "metadata": {},
   "outputs": [],
   "source": [
    "df_schwer_final = df_schwer_final.loc[(df_schwer_final['timeStamp'] < 3000000)]"
   ]
  },
  {
   "attachments": {},
   "cell_type": "markdown",
   "metadata": {},
   "source": [
    "#### 2.6 Neue Ids"
   ]
  },
  {
   "attachments": {},
   "cell_type": "markdown",
   "metadata": {},
   "source": [
    "Hier werden neue Ids vergeben, damit jede Session unabhängig voneinander behandelt werden kann. Dafür wird ihr eine dreistellige Zahl zugeteilt. "
   ]
  },
  {
   "cell_type": "code",
   "execution_count": 85,
   "metadata": {},
   "outputs": [],
   "source": [
    "# new sessionId \n",
    "import random\n",
    "from random import choice\n",
    "import collections\n",
    "\n",
    "array_of_ids_einfach = df_einfach_final['session'].value_counts().index.tolist()\n",
    "array_of_ids_schwer = df_schwer_final['session'].value_counts().index.tolist()\n",
    "numbers_schwer = []\n",
    "\n",
    "random_numbers_ids_einfach = random.sample(range(101,1000), len(array_of_ids_einfach))\n",
    "for i in range(len(random_numbers_ids_einfach)):\n",
    "    random_numbers_ids_schwer = random.choice([i for i in range(101, 1000) if i not in random_numbers_ids_einfach])\n",
    "    numbers_schwer.append(random_numbers_ids_schwer)\n",
    "\n",
    "numbers = random_numbers_ids_einfach + numbers_schwer\n",
    "\n",
    "df_einfach_final['session'] = df_einfach_final['session'].replace(array_of_ids_einfach, random_numbers_ids_einfach)\n",
    "df_schwer_final['session'] = df_schwer_final['session'].replace(array_of_ids_schwer, numbers_schwer)"
   ]
  },
  {
   "attachments": {},
   "cell_type": "markdown",
   "metadata": {},
   "source": [
    "Zu diesem Zeitpunkt wurde dann die bereinigten Daten in ein pickle umgewandelt, damit dieses auch in anderen Files verwendet werden kann und sich nicht dauernd die Ids verändern. \n",
    "Der Command dazu lautet:\n",
    "df_concat_data = pd.read_pickle('CleanedDataWithIds.pkl')"
   ]
  },
  {
   "attachments": {},
   "cell_type": "markdown",
   "metadata": {},
   "source": [
    "### 2.7 Analyse des Parameters 'windows'"
   ]
  },
  {
   "cell_type": "code",
   "execution_count": 86,
   "metadata": {},
   "outputs": [],
   "source": [
    "#Laden der bereinigten Daten\n",
    "df_concat_data = pd.read_pickle('../resources/CleanedDataWithIds.pkl')\n",
    "\n",
    "#Extraction in zwei Dataframes\n",
    "df_einfach_final = df_concat_data.loc[df_concat_data['siteName'] == 0]\n",
    "df_schwer_final = df_concat_data.loc[df_concat_data['siteName'] == 1]"
   ]
  },
  {
   "cell_type": "code",
   "execution_count": 87,
   "metadata": {},
   "outputs": [
    {
     "data": {
      "text/plain": [
       "mouseover    380\n",
       "mouseout     379\n",
       "blur         375\n",
       "focus        374\n",
       "keydown       91\n",
       "click          4\n",
       "Name: type, dtype: int64"
      ]
     },
     "execution_count": 87,
     "metadata": {},
     "output_type": "execute_result"
    }
   ],
   "source": [
    "df_einfach_final['type'].value_counts()"
   ]
  },
  {
   "cell_type": "code",
   "execution_count": 88,
   "metadata": {},
   "outputs": [
    {
     "data": {
      "text/plain": [
       "mouseover    1698\n",
       "mouseout     1688\n",
       "keydown      1219\n",
       "blur         1024\n",
       "focus         997\n",
       "click         618\n",
       "Name: type, dtype: int64"
      ]
     },
     "execution_count": 88,
     "metadata": {},
     "output_type": "execute_result"
    }
   ],
   "source": [
    "df_schwer_final['type'].value_counts()"
   ]
  },
  {
   "cell_type": "code",
   "execution_count": 89,
   "metadata": {},
   "outputs": [
    {
     "name": "stdout",
     "output_type": "stream",
     "text": [
      "Anzahl der blur Elemente mit window als elementId: 202\n"
     ]
    }
   ],
   "source": [
    "df_blur = df_schwer_final.loc[(df_schwer_final['elementId'] == 'window') & (df_schwer_final['type'] == 'blur')]\n",
    "print('Anzahl der blur Elemente mit window als elementId auf der schweren Seite:',len(df_blur['elementId']))"
   ]
  },
  {
   "cell_type": "code",
   "execution_count": 93,
   "metadata": {},
   "outputs": [
    {
     "name": "stdout",
     "output_type": "stream",
     "text": [
      "Anzahl der blur Elemente mit window als elementId auf der einfachen Seite: 3\n"
     ]
    }
   ],
   "source": [
    "df_blur = df_einfach_final.loc[(df_einfach_final['elementId'] == 'window') & (df_einfach_final['type'] == 'blur')]\n",
    "print('Anzahl der blur Elemente mit window als elementId auf der einfachen Seite:',len(df_blur['elementId']))"
   ]
  },
  {
   "attachments": {},
   "cell_type": "markdown",
   "metadata": {},
   "source": [
    "Die Analyse der anderen Parameter zum windows-Event wurden weiter geführt. Nähere Informationen über das window-Event können in der Masterarbeit in Kapitel 4.1.3 (S. 48) betrachtet werden."
   ]
  }
 ],
 "metadata": {
  "kernelspec": {
   "display_name": "Python 3.8.5 ('base')",
   "language": "python",
   "name": "python3"
  },
  "language_info": {
   "codemirror_mode": {
    "name": "ipython",
    "version": 3
   },
   "file_extension": ".py",
   "mimetype": "text/x-python",
   "name": "python",
   "nbconvert_exporter": "python",
   "pygments_lexer": "ipython3",
   "version": "3.8.5 (default, Sep  4 2020, 02:22:02) \n[Clang 10.0.0 ]"
  },
  "orig_nbformat": 4,
  "vscode": {
   "interpreter": {
    "hash": "72affea882e652da3862626e8de1ded8e3db67911e489535711f40448414c376"
   }
  }
 },
 "nbformat": 4,
 "nbformat_minor": 2
}

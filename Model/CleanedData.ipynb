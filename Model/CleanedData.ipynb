{
 "cells": [
  {
   "cell_type": "code",
   "execution_count": 348,
   "metadata": {},
   "outputs": [],
   "source": [
    "import numpy as np\n",
    "import matplotlib.pyplot as plt\n",
    "import json\n",
    "import pandas as pd\n",
    "from pandas import read_csv\n",
    "from sklearn.utils import shuffle\n",
    "from datetime import datetime\n",
    "from pandas.core.computation.check import NUMEXPR_INSTALLED"
   ]
  },
  {
   "cell_type": "markdown",
   "metadata": {},
   "source": [
    "### Cleaned Data without changes"
   ]
  },
  {
   "cell_type": "code",
   "execution_count": 349,
   "metadata": {},
   "outputs": [],
   "source": [
    "#lade einfache Daten und wandle in einen Dataframe um\n",
    "with open('fullData.json') as dataJson:\n",
    "    data = json.load(dataJson)"
   ]
  },
  {
   "cell_type": "code",
   "execution_count": 350,
   "metadata": {},
   "outputs": [
    {
     "data": {
      "text/html": [
       "<div>\n",
       "<style scoped>\n",
       "    .dataframe tbody tr th:only-of-type {\n",
       "        vertical-align: middle;\n",
       "    }\n",
       "\n",
       "    .dataframe tbody tr th {\n",
       "        vertical-align: top;\n",
       "    }\n",
       "\n",
       "    .dataframe thead th {\n",
       "        text-align: right;\n",
       "    }\n",
       "</style>\n",
       "<table border=\"1\" class=\"dataframe\">\n",
       "  <thead>\n",
       "    <tr style=\"text-align: right;\">\n",
       "      <th></th>\n",
       "      <th>clientId</th>\n",
       "      <th>elementId</th>\n",
       "      <th>timeStamp</th>\n",
       "      <th>type</th>\n",
       "      <th>siteName</th>\n",
       "      <th>date</th>\n",
       "      <th>clientX</th>\n",
       "      <th>clientY</th>\n",
       "      <th>session</th>\n",
       "      <th>height</th>\n",
       "      <th>width</th>\n",
       "      <th>browser</th>\n",
       "      <th>key</th>\n",
       "    </tr>\n",
       "  </thead>\n",
       "  <tbody>\n",
       "    <tr>\n",
       "      <th>339</th>\n",
       "      <td>2567c85a-ad16</td>\n",
       "      <td>inputPet</td>\n",
       "      <td>824.2999999988824</td>\n",
       "      <td>mouseover</td>\n",
       "      <td>TestEinfach</td>\n",
       "      <td>2022-10-17T13:35:24.171Z</td>\n",
       "      <td>673</td>\n",
       "      <td>363</td>\n",
       "      <td>1ff12350-5d06-5a07-9f0d-96a9a3942adb</td>\n",
       "      <td>944</td>\n",
       "      <td>1920</td>\n",
       "      <td>NaN</td>\n",
       "      <td>NaN</td>\n",
       "    </tr>\n",
       "    <tr>\n",
       "      <th>340</th>\n",
       "      <td>2567c85a-ad16</td>\n",
       "      <td>inputPet</td>\n",
       "      <td>858.2999999988824</td>\n",
       "      <td>mouseout</td>\n",
       "      <td>TestEinfach</td>\n",
       "      <td>2022-10-17T13:35:24.205Z</td>\n",
       "      <td>772</td>\n",
       "      <td>333</td>\n",
       "      <td>1ff12350-5d06-5a07-9f0d-96a9a3942adb</td>\n",
       "      <td>944</td>\n",
       "      <td>1920</td>\n",
       "      <td>NaN</td>\n",
       "      <td>NaN</td>\n",
       "    </tr>\n",
       "    <tr>\n",
       "      <th>341</th>\n",
       "      <td>2567c85a-ad16</td>\n",
       "      <td>inputCountry</td>\n",
       "      <td>2005.2999999988824</td>\n",
       "      <td>mouseover</td>\n",
       "      <td>TestEinfach</td>\n",
       "      <td>2022-10-17T13:35:25.361Z</td>\n",
       "      <td>796</td>\n",
       "      <td>266</td>\n",
       "      <td>1ff12350-5d06-5a07-9f0d-96a9a3942adb</td>\n",
       "      <td>944</td>\n",
       "      <td>1920</td>\n",
       "      <td>NaN</td>\n",
       "      <td>NaN</td>\n",
       "    </tr>\n",
       "    <tr>\n",
       "      <th>342</th>\n",
       "      <td>2567c85a-ad16</td>\n",
       "      <td>inputCountry</td>\n",
       "      <td>2296.5</td>\n",
       "      <td>focus</td>\n",
       "      <td>TestEinfach</td>\n",
       "      <td>2022-10-17T13:35:25.652Z</td>\n",
       "      <td>NaN</td>\n",
       "      <td>NaN</td>\n",
       "      <td>1ff12350-5d06-5a07-9f0d-96a9a3942adb</td>\n",
       "      <td>944</td>\n",
       "      <td>1920</td>\n",
       "      <td>Chrome</td>\n",
       "      <td>NaN</td>\n",
       "    </tr>\n",
       "    <tr>\n",
       "      <th>343</th>\n",
       "      <td>2567c85a-ad16</td>\n",
       "      <td>inputHouse</td>\n",
       "      <td>2875.2999999988824</td>\n",
       "      <td>mouseover</td>\n",
       "      <td>TestEinfach</td>\n",
       "      <td>2022-10-17T13:35:26.230Z</td>\n",
       "      <td>995</td>\n",
       "      <td>264</td>\n",
       "      <td>1ff12350-5d06-5a07-9f0d-96a9a3942adb</td>\n",
       "      <td>944</td>\n",
       "      <td>1920</td>\n",
       "      <td>NaN</td>\n",
       "      <td>NaN</td>\n",
       "    </tr>\n",
       "  </tbody>\n",
       "</table>\n",
       "</div>"
      ],
      "text/plain": [
       "          clientId     elementId           timeStamp       type     siteName  \\\n",
       "339  2567c85a-ad16      inputPet   824.2999999988824  mouseover  TestEinfach   \n",
       "340  2567c85a-ad16      inputPet   858.2999999988824   mouseout  TestEinfach   \n",
       "341  2567c85a-ad16  inputCountry  2005.2999999988824  mouseover  TestEinfach   \n",
       "342  2567c85a-ad16  inputCountry              2296.5      focus  TestEinfach   \n",
       "343  2567c85a-ad16    inputHouse  2875.2999999988824  mouseover  TestEinfach   \n",
       "\n",
       "                         date clientX clientY  \\\n",
       "339  2022-10-17T13:35:24.171Z     673     363   \n",
       "340  2022-10-17T13:35:24.205Z     772     333   \n",
       "341  2022-10-17T13:35:25.361Z     796     266   \n",
       "342  2022-10-17T13:35:25.652Z     NaN     NaN   \n",
       "343  2022-10-17T13:35:26.230Z     995     264   \n",
       "\n",
       "                                  session height width browser  key  \n",
       "339  1ff12350-5d06-5a07-9f0d-96a9a3942adb    944  1920     NaN  NaN  \n",
       "340  1ff12350-5d06-5a07-9f0d-96a9a3942adb    944  1920     NaN  NaN  \n",
       "341  1ff12350-5d06-5a07-9f0d-96a9a3942adb    944  1920     NaN  NaN  \n",
       "342  1ff12350-5d06-5a07-9f0d-96a9a3942adb    944  1920  Chrome  NaN  \n",
       "343  1ff12350-5d06-5a07-9f0d-96a9a3942adb    944  1920     NaN  NaN  "
      ]
     },
     "execution_count": 350,
     "metadata": {},
     "output_type": "execute_result"
    }
   ],
   "source": [
    "df_data = pd.DataFrame(data)\n",
    "df = df_data[df_data['session'].notna()]\n",
    "\n",
    "df.head()"
   ]
  },
  {
   "cell_type": "code",
   "execution_count": 351,
   "metadata": {},
   "outputs": [],
   "source": [
    "#get all events which are actually in TestSchwer\n",
    "array_input_schwer = ['inputHobby','inputCancelor','inputTemperature','inputDays','inputRiver', 'inputDifficultQuestion', 'clickHere', 'buttonYes', 'alibiClick']\n",
    "\n",
    "df_einfach_without_schwerInput = df[~df['elementId'].isin(array_input_schwer)]\n",
    "df_schwer_without_einfachInput = df[df['elementId'].isin(array_input_schwer)]\n",
    "\n",
    "df_actually_schwer = df_einfach_without_schwerInput.loc[df_einfach_without_schwerInput['siteName'] == 'TestSchwer']\n",
    "df_easy = df_actually_schwer.assign(sitename='TestSchwer')\n",
    "\n",
    "df_einfach = df_einfach_without_schwerInput.loc[~(df_einfach_without_schwerInput['siteName'] == 'TestSchwer')]\n",
    "df_schwer = pd.concat([df_easy, df_schwer_without_einfachInput])\n",
    "\n",
    "pd.set_option('display.max_columns', None)\n",
    "pd.set_option('display.max_rows', None)"
   ]
  },
  {
   "cell_type": "code",
   "execution_count": 352,
   "metadata": {},
   "outputs": [],
   "source": [
    "df_schwer['siteName'] = 'TestSchwer'"
   ]
  },
  {
   "cell_type": "code",
   "execution_count": 313,
   "metadata": {},
   "outputs": [
    {
     "name": "stdout",
     "output_type": "stream",
     "text": [
      "89\n",
      "70\n"
     ]
    },
    {
     "name": "stderr",
     "output_type": "stream",
     "text": [
      "<ipython-input-313-e5deec7b960a>:5: SettingWithCopyWarning: \n",
      "A value is trying to be set on a copy of a slice from a DataFrame.\n",
      "Try using .loc[row_indexer,col_indexer] = value instead\n",
      "\n",
      "See the caveats in the documentation: https://pandas.pydata.org/pandas-docs/stable/user_guide/indexing.html#returning-a-view-versus-a-copy\n",
      "  df_einfach['is_duplicated'] = df_einfach.duplicated('session')\n"
     ]
    }
   ],
   "source": [
    "#Gleich viele sessions bei TestSchwer und TestEinfach\n",
    "sessionIdSchwer = df_schwer['session']\n",
    "sessionIdEinfach = df_einfach['session']\n",
    "\n",
    "df_einfach['is_duplicated'] = df_einfach.duplicated('session')\n",
    "#89 ids auf Seite Einfach\n",
    "setEinfach = set(sessionIdEinfach)\n",
    "length = len(setEinfach)\n",
    "print(length)\n",
    "\n",
    "#70 ids auf Seite Schwer\n",
    "df_schwer['is_duplicated'] = df_schwer.duplicated('session')\n",
    "setSchwer = set(sessionIdSchwer)\n",
    "lengthSchwer = len(setSchwer)\n",
    "print(lengthSchwer)"
   ]
  },
  {
   "cell_type": "code",
   "execution_count": 314,
   "metadata": {},
   "outputs": [
    {
     "name": "stdout",
     "output_type": "stream",
     "text": [
      "Anzahl der Session-Ids bei einfach 66\n",
      "Anzahl der Session-Ids bei schwer 66\n"
     ]
    }
   ],
   "source": [
    "in_schwer_but_not_in_einfach = setSchwer - setEinfach\n",
    "in_einfach_but_not_in_schwer = setEinfach - setSchwer\n",
    "\n",
    "array_einfach = list(in_einfach_but_not_in_schwer)\n",
    "array_schwer = list(in_schwer_but_not_in_einfach)\n",
    "\n",
    "#66 Teilnehmer bzw. Sessions\n",
    "df_einfach_without_ids = df_einfach[~df_einfach['session'].isin(array_einfach)]\n",
    "df_schwer_without_ids = df_schwer[~df_schwer['session'].isin(array_schwer)]\n",
    "\n",
    "df_einfach_final = df_einfach_without_ids.drop(['clientId', 'is_duplicated'], axis=1)\n",
    "df_schwer_final = df_schwer_without_ids.drop(['clientId', 'is_duplicated'], axis=1)\n",
    "\n",
    "print(\"Anzahl der Session-Ids bei einfach\", 89 - len(array_einfach))\n",
    "print(\"Anzahl der Session-Ids bei schwer\",70 - len(array_schwer))"
   ]
  },
  {
   "cell_type": "code",
   "execution_count": 393,
   "metadata": {},
   "outputs": [
    {
     "name": "stdout",
     "output_type": "stream",
     "text": [
      "       elementId           timeStamp   type     siteName  \\\n",
      "364   nextButton  18874.400000000373  click  TestEinfach   \n",
      "540   nextButton               59121  click  TestEinfach   \n",
      "1036  nextButton               19187  click  TestEinfach   \n",
      "1070  nextButton               13679  click  TestEinfach   \n",
      "\n",
      "                          date clientX clientY  session height width browser  \\\n",
      "364   2022-10-17T13:35:42.223Z     NaN     NaN      699    944  1920  Chrome   \n",
      "540   2022-10-17T13:41:41.254Z     NaN     NaN      192    990  1792  Safari   \n",
      "1036  2022-10-17T13:52:05.111Z     NaN     NaN      830    990  1792  Safari   \n",
      "1070  2022-10-17T13:52:35.059Z     NaN     NaN      293    395   390  Safari   \n",
      "\n",
      "      key  \n",
      "364   NaN  \n",
      "540   NaN  \n",
      "1036  NaN  \n",
      "1070  NaN  \n"
     ]
    }
   ],
   "source": [
    "#next Button wurde anscheinend nicht immer übertragen lol --> deswegen müssen wir schauen ob die gleich adresse auf der anderne Seite ist \n",
    "df_test = df_einfach_final.loc[df_einfach_final['elementId'] == 'nextButton']\n",
    "print(df_test)"
   ]
  },
  {
   "cell_type": "code",
   "execution_count": 411,
   "metadata": {},
   "outputs": [
    {
     "data": {
      "text/plain": [
       "c84ddb60-e23a-cd84-ab83-ba030d4c4a73    39\n",
       "5db6c1c8-a5d3-37a1-848e-71c29c4dd002    27\n",
       "ce22d53f-16a7-8e19-de32-641cffee9cae    25\n",
       "f3a6d5da-7857-ab9a-bcaf-ffa678540500    13\n",
       "c9f551e4-927d-b2bf-aa77-6c49231d51df    10\n",
       "fba8ac2f-02c2-130b-254f-3bcebe67d451     8\n",
       "0a0fdcc9-ebf8-371b-40bf-efe88d97e22e     5\n",
       "c2fccaf4-aa23-d3bb-291b-2ce8e083512a     5\n",
       "8abf06f5-52ae-6b8a-2203-b8e5967621d3     4\n",
       "62c1e7a3-3ae8-ea78-a6fa-5b0c8e6a4b90     4\n",
       "edeac185-2198-1a32-1bf4-dd0816811064     4\n",
       "047b635d-224e-f897-c995-3a9cac2df78a     3\n",
       "f090c908-bb4c-fdca-942d-6ae02b4019b0     3\n",
       "a8edf9d6-fb31-5690-e4be-3fa68ae2ff4a     2\n",
       "0eb0e508-a337-0a7e-490d-5bb67ea8605a     2\n",
       "7e78ac93-8a2f-39d2-26a1-c41c7804b2e2     2\n",
       "7fe95a48-d9bd-2059-b731-0da1e54a4618     2\n",
       "f4fd1505-cec6-5f69-18de-bceac07666e6     2\n",
       "d6e55e9b-a662-53a8-a261-4a0a362e30c3     1\n",
       "06d4d87e-940f-973f-a09f-74fff7d0b83a     1\n",
       "b66c82e2-5869-5ecc-0d81-1c7d55671ec8     1\n",
       "cde8b105-35ba-2b75-2f62-7d2d538c9dca     1\n",
       "Name: session, dtype: int64"
      ]
     },
     "execution_count": 411,
     "metadata": {},
     "output_type": "execute_result"
    }
   ],
   "source": [
    "array_session_einfach = ['f3a6d5da-7857-ab9a-bcaf-ffa678540500', '0eb0e508-a337-0a7e-490d-5bb67ea8605a', '7e78ac93-8a2f-39d2-26a1-c41c7804b2e2', 'c9f551e4-927d-b2bf-aa77-6c49231d51df', 'edeac185-2198-1a32-1bf4-dd0816811064', 'd6e55e9b-a662-53a8-a261-4a0a362e30c3', '06d4d87e-940f-973f-a09f-74fff7d0b83a', '8abf06f5-52ae-6b8a-2203-b8e5967621d3', '51f4db5a-4b60-df29-b773-12ad99d4781e', '0a0fdcc9-ebf8-371b-40bf-efe88d97e22e', 'f4fd1505-cec6-5f69-18de-bceac07666e6', 'c84ddb60-e23a-cd84-ab83-ba030d4c4a73', 'fba8ac2f-02c2-130b-254f-3bcebe67d451', 'f090c908-bb4c-fdca-942d-6ae02b4019b0', '62c1e7a3-3ae8-ea78-a6fa-5b0c8e6a4b90', 'a8edf9d6-fb31-5690-e4be-3fa68ae2ff4a', 'ce22d53f-16a7-8e19-de32-641cffee9cae', 'c2fccaf4-aa23-d3bb-291b-2ce8e083512a', 'cde8b105-35ba-2b75-2f62-7d2d538c9dca', '047b635d-224e-f897-c995-3a9cac2df78a', '5db6c1c8-a5d3-37a1-848e-71c29c4dd002', 'b66c82e2-5869-5ecc-0d81-1c7d55671ec8', '7fe95a48-d9bd-2059-b731-0da1e54a4618']\n",
    "df_click_einfach = df_einfach[df_einfach['session'].isin(array_session_einfach)]\n",
    "\n",
    "#df_click_einfach['session'].value_counts()\n",
    "\n",
    "df_click_einfach.loc[df_click_einfach['elementId'] == 'inputEasyQuestion']\n",
    "df_click_einfach.sort_values(['session', 'timeStamp'])\n",
    "df_sroll = df_click_einfach.loc[df_click_einfach[\"type\"] !=\"scroll\"]\n",
    "\n",
    "df_sroll['session'].value_counts()\n",
    "\n",
    "\n",
    "# df_click_einfach.sort_values(['session', 'timeStamp'])\n",
    "# df = df_click_einfach.loc[df_click_einfach['elementId'] == 'inputEasyQuestion']"
   ]
  },
  {
   "cell_type": "code",
   "execution_count": 410,
   "metadata": {},
   "outputs": [
    {
     "data": {
      "text/plain": [
       "192    51\n",
       "202    43\n",
       "840    42\n",
       "513    42\n",
       "771    39\n",
       "918    38\n",
       "930    37\n",
       "753    32\n",
       "384    32\n",
       "325    32\n",
       "442    31\n",
       "830    31\n",
       "189    30\n",
       "320    30\n",
       "294    28\n",
       "897    28\n",
       "576    27\n",
       "151    26\n",
       "654    26\n",
       "699    26\n",
       "483    26\n",
       "884    26\n",
       "945    26\n",
       "176    26\n",
       "881    26\n",
       "348    25\n",
       "746    25\n",
       "129    25\n",
       "293    25\n",
       "703    24\n",
       "311    24\n",
       "234    24\n",
       "742    24\n",
       "444    24\n",
       "744    24\n",
       "604    24\n",
       "845    24\n",
       "185    24\n",
       "489    24\n",
       "359    23\n",
       "644    22\n",
       "894    22\n",
       "821    22\n",
       "297    22\n",
       "775    22\n",
       "707    20\n",
       "468    20\n",
       "263    20\n",
       "133    20\n",
       "527    20\n",
       "750    19\n",
       "193    19\n",
       "673    19\n",
       "777    19\n",
       "314    19\n",
       "857    18\n",
       "175    18\n",
       "659    18\n",
       "177    18\n",
       "482    16\n",
       "999    14\n",
       "475    10\n",
       "243     8\n",
       "559     8\n",
       "525     4\n",
       "584     2\n",
       "Name: session, dtype: int64"
      ]
     },
     "execution_count": 410,
     "metadata": {},
     "output_type": "execute_result"
    }
   ],
   "source": [
    "df_einfach_final['session'].value_counts()"
   ]
  },
  {
   "cell_type": "code",
   "execution_count": 315,
   "metadata": {},
   "outputs": [],
   "source": [
    "df_schwer_final['siteName'] = 'TestSchwer'"
   ]
  },
  {
   "cell_type": "code",
   "execution_count": 425,
   "metadata": {},
   "outputs": [
    {
     "data": {
      "text/plain": [
       "544    197\n",
       "985     86\n",
       "337     76\n",
       "365     72\n",
       "650     63\n",
       "488     53\n",
       "389     48\n",
       "191     48\n",
       "664     47\n",
       "395     43\n",
       "853     42\n",
       "205     38\n",
       "803     35\n",
       "932     33\n",
       "288     29\n",
       "546     27\n",
       "983     24\n",
       "274     23\n",
       "138     20\n",
       "786     20\n",
       "451     19\n",
       "456     19\n",
       "739     17\n",
       "341     16\n",
       "884     15\n",
       "134     13\n",
       "479     11\n",
       "517      9\n",
       "979      7\n",
       "128      7\n",
       "910      7\n",
       "553      7\n",
       "200      6\n",
       "921      6\n",
       "299      5\n",
       "542      5\n",
       "781      5\n",
       "855      5\n",
       "434      4\n",
       "744      4\n",
       "691      4\n",
       "631      4\n",
       "468      2\n",
       "904      1\n",
       "Name: session, dtype: int64"
      ]
     },
     "execution_count": 425,
     "metadata": {},
     "output_type": "execute_result"
    }
   ],
   "source": [
    "schwero = pd.read_pickle('CleanedDataWithIds.pkl')\n",
    "\n",
    "schwer = schwero.loc[schwero['siteName'] == 'TestSchwer']\n",
    "schwer_click = schwer.loc[schwer['elementId'] == 'clickHere']\n",
    "schwer_nextButton = schwer.loc[schwer['elementId'] == 'nextButton']\n",
    "schwer_key = schwer.loc[schwer['type'] == 'keydown']\n",
    "\n",
    "#schwer_click['session'].value_counts()\n",
    "#schwer_nextButton['session'].value_counts()\n",
    "schwer_key['session'].value_counts()\n",
    "\n"
   ]
  },
  {
   "cell_type": "code",
   "execution_count": 426,
   "metadata": {},
   "outputs": [
    {
     "data": {
      "text/plain": [
       "91"
      ]
     },
     "execution_count": 426,
     "metadata": {},
     "output_type": "execute_result"
    }
   ],
   "source": [
    "einfach = schwero.loc[schwero['siteName'] == 'TestEinfach']\n",
    "einfach_key = einfach.loc[einfach['type'] == 'keydown']\n",
    "\n",
    "einfach_key['session'].count()"
   ]
  },
  {
   "cell_type": "code",
   "execution_count": 316,
   "metadata": {},
   "outputs": [],
   "source": [
    "df_data_without_scroll = pd.concat([df_einfach_final, df_schwer_final])\n",
    "df_data_without_scroll = df_data_without_scroll.loc[df_data_without_scroll[\"type\"] !=\"scroll\"]\n",
    "df_tmp = shuffle(df_data_without_scroll)\n",
    "#df_tmp.to_pickle('CleanedDataWithoutChange.pkl')"
   ]
  },
  {
   "cell_type": "code",
   "execution_count": 317,
   "metadata": {},
   "outputs": [
    {
     "name": "stderr",
     "output_type": "stream",
     "text": [
      "/Users/ingaglotzbach/opt/anaconda3/lib/python3.8/site-packages/seaborn/distributions.py:238: FutureWarning: In a future version, `df.iloc[:, i] = newvals` will attempt to set the values inplace instead of always setting a new array. To retain the old behavior, use either `df[df.columns[i]] = newvals` or, if columns are non-unique, `df.isetitem(i, newvals)`\n",
      "  curves.iloc[:, cols] = (curves\n",
      "/Users/ingaglotzbach/opt/anaconda3/lib/python3.8/site-packages/seaborn/distributions.py:243: FutureWarning: In a future version, `df.iloc[:, i] = newvals` will attempt to set the values inplace instead of always setting a new array. To retain the old behavior, use either `df[df.columns[i]] = newvals` or, if columns are non-unique, `df.isetitem(i, newvals)`\n",
      "  baselines.iloc[:, cols] = (curves\n"
     ]
    },
    {
     "data": {
      "text/plain": [
       "<Figure size 720x432 with 0 Axes>"
      ]
     },
     "metadata": {},
     "output_type": "display_data"
    },
    {
     "data": {
      "image/png": "[encoded data removed]",
      "text/plain": [
       "<Figure size 511.25x360 with 1 Axes>"
      ]
     },
     "metadata": {
      "needs_background": "light"
     },
     "output_type": "display_data"
    }
   ],
   "source": [
    "import seaborn as sns\n",
    "\n",
    "plt.figure(figsize=(10,6))\n",
    "sns.displot(\n",
    "    data=df_data_without_scroll.isna().melt(value_name=\"missing\"),\n",
    "    y=\"variable\",\n",
    "    hue=\"missing\",\n",
    "    multiple=\"fill\",\n",
    "    aspect=1.25\n",
    ")\n",
    "plt.savefig(\"visualizing_missing_data_with_barplot_Seaborn_distplot.png\", dpi=100)"
   ]
  },
  {
   "cell_type": "code",
   "execution_count": 318,
   "metadata": {},
   "outputs": [
    {
     "data": {
      "text/plain": [
       "TestSchwer     7279\n",
       "TestEinfach    1603\n",
       "Name: siteName, dtype: int64"
      ]
     },
     "execution_count": 318,
     "metadata": {},
     "output_type": "execute_result"
    }
   ],
   "source": [
    "df_data_without_scroll['siteName'].value_counts()"
   ]
  },
  {
   "cell_type": "code",
   "execution_count": 319,
   "metadata": {},
   "outputs": [
    {
     "data": {
      "text/plain": [
       "Text(0.5, 1.0, 'Counts for Types')"
      ]
     },
     "execution_count": 319,
     "metadata": {},
     "output_type": "execute_result"
    },
    {
     "data": {
      "image/png": "[encoded data removed]",
      "text/plain": [
       "<Figure size 648x504 with 1 Axes>"
      ]
     },
     "metadata": {
      "needs_background": "light"
     },
     "output_type": "display_data"
    }
   ],
   "source": [
    "# Figure size\n",
    "plt.figure(figsize=(9,7))\n",
    "# Count plot\n",
    "ax = sns.countplot(x = 'siteName', data = df_data_without_scroll, palette=\"coolwarm_r\")\n",
    "# Add title\n",
    "plt.title('Counts for Types', fontsize=18)"
   ]
  },
  {
   "cell_type": "code",
   "execution_count": 320,
   "metadata": {},
   "outputs": [
    {
     "data": {
      "text/plain": [
       "scroll       2483\n",
       "mouseover     380\n",
       "mouseout      379\n",
       "blur          375\n",
       "focus         374\n",
       "keydown        91\n",
       "click           4\n",
       "Name: type, dtype: int64"
      ]
     },
     "execution_count": 320,
     "metadata": {},
     "output_type": "execute_result"
    }
   ],
   "source": [
    "df_einfach_final['type'].value_counts()"
   ]
  },
  {
   "cell_type": "code",
   "execution_count": 321,
   "metadata": {},
   "outputs": [
    {
     "data": {
      "text/plain": [
       "Text(0.5, 1.0, 'Counts for Types')"
      ]
     },
     "execution_count": 321,
     "metadata": {},
     "output_type": "execute_result"
    },
    {
     "data": {
      "image/png": "[encoded data removed]",
      "text/plain": [
       "<Figure size 648x504 with 1 Axes>"
      ]
     },
     "metadata": {
      "needs_background": "light"
     },
     "output_type": "display_data"
    }
   ],
   "source": [
    "#count of easy\n",
    "# Figure size\n",
    "plt.figure(figsize=(9,7))\n",
    "# Count plot\n",
    "ax = sns.countplot(x = 'type', data = df_einfach_final, palette=\"coolwarm_r\")\n",
    "# Add title\n",
    "plt.title('Counts for Types', fontsize=18)"
   ]
  },
  {
   "cell_type": "code",
   "execution_count": 322,
   "metadata": {},
   "outputs": [
    {
     "data": {
      "text/plain": [
       "scroll       23799\n",
       "mouseover     1706\n",
       "mouseout      1696\n",
       "keydown       1222\n",
       "blur          1028\n",
       "focus         1002\n",
       "click          625\n",
       "Name: type, dtype: int64"
      ]
     },
     "execution_count": 322,
     "metadata": {},
     "output_type": "execute_result"
    }
   ],
   "source": [
    "df_schwer_final['type'].value_counts()"
   ]
  },
  {
   "cell_type": "code",
   "execution_count": 323,
   "metadata": {},
   "outputs": [
    {
     "data": {
      "text/plain": [
       "Text(0.5, 1.0, 'Counts for Types')"
      ]
     },
     "execution_count": 323,
     "metadata": {},
     "output_type": "execute_result"
    },
    {
     "data": {
      "image/png": "[encoded data removed]",
      "text/plain": [
       "<Figure size 648x504 with 1 Axes>"
      ]
     },
     "metadata": {
      "needs_background": "light"
     },
     "output_type": "display_data"
    }
   ],
   "source": [
    "#count of easy\n",
    "# Figure size\n",
    "plt.figure(figsize=(9,7))\n",
    "# Count plot\n",
    "ax = sns.countplot(x = 'type', data = df_schwer_final, palette=\"coolwarm_r\")\n",
    "# Add title\n",
    "plt.title('Counts for Types', fontsize=18)"
   ]
  },
  {
   "cell_type": "code",
   "execution_count": 324,
   "metadata": {},
   "outputs": [],
   "source": [
    "df_schwer_final = df_schwer_final.loc[df_schwer_final[\"type\"] !=\"scroll\"]\n",
    "df_einfach_final = df_einfach_final.loc[df_einfach_final[\"type\"] !=\"scroll\"]"
   ]
  },
  {
   "cell_type": "code",
   "execution_count": 325,
   "metadata": {},
   "outputs": [],
   "source": [
    "# df2 = df_einfach_final.sort_values(['session', 'date'],\n",
    "#               ascending = [True, True])"
   ]
  },
  {
   "cell_type": "code",
   "execution_count": 326,
   "metadata": {},
   "outputs": [],
   "source": [
    "# print(len(df_einfach_final))\n",
    "# print(len(df_schwer_final))\n",
    "\n",
    "# df_einfach_final['type'].value_counts()\n"
   ]
  },
  {
   "cell_type": "code",
   "execution_count": 327,
   "metadata": {},
   "outputs": [],
   "source": [
    "# df_schwer_final['type'].value_counts()"
   ]
  },
  {
   "cell_type": "code",
   "execution_count": 328,
   "metadata": {},
   "outputs": [],
   "source": [
    "df_data_without_scroll = df_data_without_scroll.loc[df_data_without_scroll[\"type\"] !=\"scroll\"]\n",
    "df_data_without_scroll['siteName'] = df_data_without_scroll['siteName'].replace('TestSchwer', 1)\n",
    "df_data_without_scroll['siteName'] = df_data_without_scroll['siteName'].replace('TestEinfach', 0)"
   ]
  },
  {
   "cell_type": "markdown",
   "metadata": {},
   "source": [
    "### Cleaned Data with other session Ids"
   ]
  },
  {
   "cell_type": "code",
   "execution_count": 329,
   "metadata": {},
   "outputs": [
    {
     "name": "stdout",
     "output_type": "stream",
     "text": [
      "[108, 947, 863, 303, 110]\n"
     ]
    }
   ],
   "source": [
    "# new sessionId \n",
    "import random\n",
    "from random import choice\n",
    "import collections\n",
    "\n",
    "array_of_ids_einfach = df_einfach_final['session'].value_counts().index.tolist()\n",
    "array_of_ids_schwer = df_schwer_final['session'].value_counts().index.tolist()\n",
    "numbers_schwer = []\n",
    "\n",
    "random_numbers_ids_einfach = random.sample(range(101,1000), len(array_of_ids_einfach))\n",
    "for i in range(len(random_numbers_ids_einfach)):\n",
    "    random_numbers_ids_schwer = random.choice([i for i in range(101, 1000) if i not in random_numbers_ids_einfach])\n",
    "    numbers_schwer.append(random_numbers_ids_schwer)\n",
    "\n",
    "numbers = random_numbers_ids_einfach + numbers_schwer\n",
    "\n",
    "df_einfach_final['session'] = df_einfach_final['session'].replace(array_of_ids_einfach, random_numbers_ids_einfach)\n",
    "df_schwer_final['session'] = df_schwer_final['session'].replace(array_of_ids_schwer, numbers_schwer)\n",
    "\n",
    "print([item for item, count in collections.Counter(numbers).items() if count > 1])"
   ]
  },
  {
   "cell_type": "code",
   "execution_count": 330,
   "metadata": {},
   "outputs": [],
   "source": [
    "df_new_ids = pd.concat([df_einfach_final, df_schwer_final])"
   ]
  },
  {
   "cell_type": "code",
   "execution_count": 331,
   "metadata": {},
   "outputs": [],
   "source": [
    "#df_new_ids.to_pickle('CleanedDataWithIds.pkl')"
   ]
  },
  {
   "cell_type": "code",
   "execution_count": 332,
   "metadata": {},
   "outputs": [
    {
     "name": "stdout",
     "output_type": "stream",
     "text": [
      "0.9.1\n"
     ]
    }
   ],
   "source": [
    "import imblearn\n",
    "print(imblearn.__version__)"
   ]
  },
  {
   "cell_type": "code",
   "execution_count": 333,
   "metadata": {},
   "outputs": [],
   "source": [
    "df_sessions = pd.read_pickle('SortedBySessions.pkl')"
   ]
  },
  {
   "cell_type": "code",
   "execution_count": 334,
   "metadata": {},
   "outputs": [
    {
     "data": {
      "text/html": [
       "<div>\n",
       "<style scoped>\n",
       "    .dataframe tbody tr th:only-of-type {\n",
       "        vertical-align: middle;\n",
       "    }\n",
       "\n",
       "    .dataframe tbody tr th {\n",
       "        vertical-align: top;\n",
       "    }\n",
       "\n",
       "    .dataframe thead th {\n",
       "        text-align: right;\n",
       "    }\n",
       "</style>\n",
       "<table border=\"1\" class=\"dataframe\">\n",
       "  <thead>\n",
       "    <tr style=\"text-align: right;\">\n",
       "      <th></th>\n",
       "      <th>session</th>\n",
       "      <th>count_mouseover</th>\n",
       "      <th>count_mouseout</th>\n",
       "      <th>count_click</th>\n",
       "      <th>count_blur</th>\n",
       "      <th>count_focus</th>\n",
       "      <th>count_keydown</th>\n",
       "      <th>duration</th>\n",
       "      <th>height</th>\n",
       "      <th>width</th>\n",
       "      <th>siteName</th>\n",
       "    </tr>\n",
       "  </thead>\n",
       "  <tbody>\n",
       "    <tr>\n",
       "      <th>0</th>\n",
       "      <td>517</td>\n",
       "      <td>13</td>\n",
       "      <td>13</td>\n",
       "      <td>4</td>\n",
       "      <td>23</td>\n",
       "      <td>22</td>\n",
       "      <td>9</td>\n",
       "      <td>528.129</td>\n",
       "      <td>661</td>\n",
       "      <td>360</td>\n",
       "      <td>TestSchwer</td>\n",
       "    </tr>\n",
       "    <tr>\n",
       "      <th>1</th>\n",
       "      <td>534</td>\n",
       "      <td>5</td>\n",
       "      <td>5</td>\n",
       "      <td>0</td>\n",
       "      <td>6</td>\n",
       "      <td>6</td>\n",
       "      <td>2</td>\n",
       "      <td>12.241</td>\n",
       "      <td>664</td>\n",
       "      <td>390</td>\n",
       "      <td>TestEinfach</td>\n",
       "    </tr>\n",
       "    <tr>\n",
       "      <th>3</th>\n",
       "      <td>543</td>\n",
       "      <td>6</td>\n",
       "      <td>6</td>\n",
       "      <td>0</td>\n",
       "      <td>6</td>\n",
       "      <td>6</td>\n",
       "      <td>4</td>\n",
       "      <td>19.673</td>\n",
       "      <td>669</td>\n",
       "      <td>390</td>\n",
       "      <td>TestEinfach</td>\n",
       "    </tr>\n",
       "    <tr>\n",
       "      <th>4</th>\n",
       "      <td>544</td>\n",
       "      <td>256</td>\n",
       "      <td>256</td>\n",
       "      <td>33</td>\n",
       "      <td>117</td>\n",
       "      <td>116</td>\n",
       "      <td>197</td>\n",
       "      <td>1270.171</td>\n",
       "      <td>962</td>\n",
       "      <td>1724</td>\n",
       "      <td>TestSchwer</td>\n",
       "    </tr>\n",
       "    <tr>\n",
       "      <th>5</th>\n",
       "      <td>546</td>\n",
       "      <td>32</td>\n",
       "      <td>32</td>\n",
       "      <td>7</td>\n",
       "      <td>26</td>\n",
       "      <td>28</td>\n",
       "      <td>27</td>\n",
       "      <td>135.360</td>\n",
       "      <td>1312</td>\n",
       "      <td>1479</td>\n",
       "      <td>TestSchwer</td>\n",
       "    </tr>\n",
       "  </tbody>\n",
       "</table>\n",
       "</div>"
      ],
      "text/plain": [
       "   session  count_mouseover  count_mouseout  count_click  count_blur  \\\n",
       "0      517               13              13            4          23   \n",
       "1      534                5               5            0           6   \n",
       "3      543                6               6            0           6   \n",
       "4      544              256             256           33         117   \n",
       "5      546               32              32            7          26   \n",
       "\n",
       "   count_focus  count_keydown  duration height width     siteName  \n",
       "0           22              9   528.129    661   360   TestSchwer  \n",
       "1            6              2    12.241    664   390  TestEinfach  \n",
       "3            6              4    19.673    669   390  TestEinfach  \n",
       "4          116            197  1270.171    962  1724   TestSchwer  \n",
       "5           28             27   135.360   1312  1479   TestSchwer  "
      ]
     },
     "execution_count": 334,
     "metadata": {},
     "output_type": "execute_result"
    }
   ],
   "source": [
    "df_sessions.head()"
   ]
  },
  {
   "cell_type": "code",
   "execution_count": 335,
   "metadata": {},
   "outputs": [],
   "source": [
    "df_cleaned = pd.read_pickle('CleanedDataWithIds.pkl')\n"
   ]
  },
  {
   "cell_type": "code",
   "execution_count": 336,
   "metadata": {},
   "outputs": [],
   "source": [
    "one_hot_encoded_data = pd.get_dummies(df_cleaned, columns = ['elementId', 'type'])"
   ]
  },
  {
   "cell_type": "code",
   "execution_count": 337,
   "metadata": {},
   "outputs": [],
   "source": [
    "# import seaborn as sns\n",
    "# sns.scatterplot(data=df_cleaned, x=\"type\", y=\"timeStamp\", hue=\"siteName\")"
   ]
  },
  {
   "cell_type": "code",
   "execution_count": 338,
   "metadata": {},
   "outputs": [],
   "source": [
    "# sns.scatterplot(data=df_data_without_scroll, x=\"timeStamp\", y=\"type\", hue=\"siteName\")"
   ]
  },
  {
   "cell_type": "code",
   "execution_count": 339,
   "metadata": {},
   "outputs": [],
   "source": [
    "# einfach = df_data_without_scroll.loc[df_data_without_scroll['siteName'] == 0]\n",
    "# schwer = df_data_without_scroll.loc[df_data_without_scroll['siteName'] == 1]"
   ]
  },
  {
   "cell_type": "code",
   "execution_count": 340,
   "metadata": {},
   "outputs": [],
   "source": [
    "# sns.scatterplot(data=df_data_without_scroll, x='timeStamp', y=\"type\", hue=\"siteName\")"
   ]
  },
  {
   "cell_type": "code",
   "execution_count": 341,
   "metadata": {},
   "outputs": [],
   "source": [
    "# plt.figure(figsize=(10,6))\n",
    "# sns.scatterplot(data=df_data_without_scroll, x='timeStamp', y=\"type\", hue=\"siteName\", palette=\"Set2\")"
   ]
  },
  {
   "cell_type": "code",
   "execution_count": 342,
   "metadata": {},
   "outputs": [
    {
     "data": {
      "text/html": [
       "<div>\n",
       "<style scoped>\n",
       "    .dataframe tbody tr th:only-of-type {\n",
       "        vertical-align: middle;\n",
       "    }\n",
       "\n",
       "    .dataframe tbody tr th {\n",
       "        vertical-align: top;\n",
       "    }\n",
       "\n",
       "    .dataframe thead th {\n",
       "        text-align: right;\n",
       "    }\n",
       "</style>\n",
       "<table border=\"1\" class=\"dataframe\">\n",
       "  <thead>\n",
       "    <tr style=\"text-align: right;\">\n",
       "      <th></th>\n",
       "      <th>session</th>\n",
       "      <th>count_mouseover</th>\n",
       "      <th>count_mouseout</th>\n",
       "      <th>count_click</th>\n",
       "      <th>count_blur</th>\n",
       "      <th>count_focus</th>\n",
       "      <th>count_keydown</th>\n",
       "      <th>duration</th>\n",
       "    </tr>\n",
       "  </thead>\n",
       "  <tbody>\n",
       "    <tr>\n",
       "      <th>count</th>\n",
       "      <td>129.000000</td>\n",
       "      <td>129.000000</td>\n",
       "      <td>129.000000</td>\n",
       "      <td>129.000000</td>\n",
       "      <td>129.000000</td>\n",
       "      <td>129.000000</td>\n",
       "      <td>129.000000</td>\n",
       "      <td>129.000000</td>\n",
       "    </tr>\n",
       "    <tr>\n",
       "      <th>mean</th>\n",
       "      <td>577.372093</td>\n",
       "      <td>15.806202</td>\n",
       "      <td>15.720930</td>\n",
       "      <td>3.674419</td>\n",
       "      <td>10.581395</td>\n",
       "      <td>10.372093</td>\n",
       "      <td>10.093023</td>\n",
       "      <td>131.255326</td>\n",
       "    </tr>\n",
       "    <tr>\n",
       "      <th>std</th>\n",
       "      <td>263.755926</td>\n",
       "      <td>28.734528</td>\n",
       "      <td>28.762491</td>\n",
       "      <td>8.687422</td>\n",
       "      <td>13.189542</td>\n",
       "      <td>13.130398</td>\n",
       "      <td>23.580130</td>\n",
       "      <td>233.926732</td>\n",
       "    </tr>\n",
       "    <tr>\n",
       "      <th>min</th>\n",
       "      <td>109.000000</td>\n",
       "      <td>1.000000</td>\n",
       "      <td>0.000000</td>\n",
       "      <td>0.000000</td>\n",
       "      <td>0.000000</td>\n",
       "      <td>0.000000</td>\n",
       "      <td>0.000000</td>\n",
       "      <td>0.005000</td>\n",
       "    </tr>\n",
       "    <tr>\n",
       "      <th>25%</th>\n",
       "      <td>341.000000</td>\n",
       "      <td>4.000000</td>\n",
       "      <td>4.000000</td>\n",
       "      <td>0.000000</td>\n",
       "      <td>6.000000</td>\n",
       "      <td>6.000000</td>\n",
       "      <td>0.000000</td>\n",
       "      <td>16.756000</td>\n",
       "    </tr>\n",
       "    <tr>\n",
       "      <th>50%</th>\n",
       "      <td>597.000000</td>\n",
       "      <td>6.000000</td>\n",
       "      <td>6.000000</td>\n",
       "      <td>0.000000</td>\n",
       "      <td>6.000000</td>\n",
       "      <td>6.000000</td>\n",
       "      <td>1.000000</td>\n",
       "      <td>25.472000</td>\n",
       "    </tr>\n",
       "    <tr>\n",
       "      <th>75%</th>\n",
       "      <td>786.000000</td>\n",
       "      <td>15.000000</td>\n",
       "      <td>15.000000</td>\n",
       "      <td>3.000000</td>\n",
       "      <td>12.000000</td>\n",
       "      <td>12.000000</td>\n",
       "      <td>7.000000</td>\n",
       "      <td>190.533000</td>\n",
       "    </tr>\n",
       "    <tr>\n",
       "      <th>max</th>\n",
       "      <td>998.000000</td>\n",
       "      <td>256.000000</td>\n",
       "      <td>256.000000</td>\n",
       "      <td>63.000000</td>\n",
       "      <td>117.000000</td>\n",
       "      <td>116.000000</td>\n",
       "      <td>197.000000</td>\n",
       "      <td>1623.542000</td>\n",
       "    </tr>\n",
       "  </tbody>\n",
       "</table>\n",
       "</div>"
      ],
      "text/plain": [
       "          session  count_mouseover  count_mouseout  count_click  count_blur  \\\n",
       "count  129.000000       129.000000      129.000000   129.000000  129.000000   \n",
       "mean   577.372093        15.806202       15.720930     3.674419   10.581395   \n",
       "std    263.755926        28.734528       28.762491     8.687422   13.189542   \n",
       "min    109.000000         1.000000        0.000000     0.000000    0.000000   \n",
       "25%    341.000000         4.000000        4.000000     0.000000    6.000000   \n",
       "50%    597.000000         6.000000        6.000000     0.000000    6.000000   \n",
       "75%    786.000000        15.000000       15.000000     3.000000   12.000000   \n",
       "max    998.000000       256.000000      256.000000    63.000000  117.000000   \n",
       "\n",
       "       count_focus  count_keydown     duration  \n",
       "count   129.000000     129.000000   129.000000  \n",
       "mean     10.372093      10.093023   131.255326  \n",
       "std      13.130398      23.580130   233.926732  \n",
       "min       0.000000       0.000000     0.005000  \n",
       "25%       6.000000       0.000000    16.756000  \n",
       "50%       6.000000       1.000000    25.472000  \n",
       "75%      12.000000       7.000000   190.533000  \n",
       "max     116.000000     197.000000  1623.542000  "
      ]
     },
     "execution_count": 342,
     "metadata": {},
     "output_type": "execute_result"
    }
   ],
   "source": [
    "df_sessions.describe()"
   ]
  },
  {
   "cell_type": "code",
   "execution_count": 343,
   "metadata": {},
   "outputs": [],
   "source": [
    "df_session_einfach = df_sessions.loc[df_sessions[\"siteName\"] == \"TestEinfach\"]\n",
    "df_session_schwer = df_sessions.loc[df_sessions[\"siteName\"] == \"TestSchwer\"]"
   ]
  },
  {
   "cell_type": "code",
   "execution_count": 346,
   "metadata": {},
   "outputs": [
    {
     "data": {
      "text/html": [
       "<div>\n",
       "<style scoped>\n",
       "    .dataframe tbody tr th:only-of-type {\n",
       "        vertical-align: middle;\n",
       "    }\n",
       "\n",
       "    .dataframe tbody tr th {\n",
       "        vertical-align: top;\n",
       "    }\n",
       "\n",
       "    .dataframe thead th {\n",
       "        text-align: right;\n",
       "    }\n",
       "</style>\n",
       "<table border=\"1\" class=\"dataframe\">\n",
       "  <thead>\n",
       "    <tr style=\"text-align: right;\">\n",
       "      <th></th>\n",
       "      <th>session</th>\n",
       "      <th>count_mouseover</th>\n",
       "      <th>count_mouseout</th>\n",
       "      <th>count_click</th>\n",
       "      <th>count_blur</th>\n",
       "      <th>count_focus</th>\n",
       "      <th>count_keydown</th>\n",
       "      <th>duration</th>\n",
       "    </tr>\n",
       "  </thead>\n",
       "  <tbody>\n",
       "    <tr>\n",
       "      <th>count</th>\n",
       "      <td>66.000000</td>\n",
       "      <td>66.000000</td>\n",
       "      <td>66.000000</td>\n",
       "      <td>66.000000</td>\n",
       "      <td>66.000000</td>\n",
       "      <td>66.000000</td>\n",
       "      <td>66.000000</td>\n",
       "      <td>66.000000</td>\n",
       "    </tr>\n",
       "    <tr>\n",
       "      <th>mean</th>\n",
       "      <td>601.469697</td>\n",
       "      <td>5.757576</td>\n",
       "      <td>5.742424</td>\n",
       "      <td>0.060606</td>\n",
       "      <td>5.681818</td>\n",
       "      <td>5.666667</td>\n",
       "      <td>1.378788</td>\n",
       "      <td>20.652530</td>\n",
       "    </tr>\n",
       "    <tr>\n",
       "      <th>std</th>\n",
       "      <td>258.191296</td>\n",
       "      <td>3.210850</td>\n",
       "      <td>3.221613</td>\n",
       "      <td>0.240435</td>\n",
       "      <td>1.737895</td>\n",
       "      <td>1.721657</td>\n",
       "      <td>2.292229</td>\n",
       "      <td>13.537414</td>\n",
       "    </tr>\n",
       "    <tr>\n",
       "      <th>min</th>\n",
       "      <td>109.000000</td>\n",
       "      <td>1.000000</td>\n",
       "      <td>1.000000</td>\n",
       "      <td>0.000000</td>\n",
       "      <td>0.000000</td>\n",
       "      <td>0.000000</td>\n",
       "      <td>0.000000</td>\n",
       "      <td>0.005000</td>\n",
       "    </tr>\n",
       "    <tr>\n",
       "      <th>25%</th>\n",
       "      <td>387.750000</td>\n",
       "      <td>4.000000</td>\n",
       "      <td>3.250000</td>\n",
       "      <td>0.000000</td>\n",
       "      <td>6.000000</td>\n",
       "      <td>6.000000</td>\n",
       "      <td>0.000000</td>\n",
       "      <td>13.826750</td>\n",
       "    </tr>\n",
       "    <tr>\n",
       "      <th>50%</th>\n",
       "      <td>636.500000</td>\n",
       "      <td>6.000000</td>\n",
       "      <td>6.000000</td>\n",
       "      <td>0.000000</td>\n",
       "      <td>6.000000</td>\n",
       "      <td>6.000000</td>\n",
       "      <td>0.000000</td>\n",
       "      <td>18.071000</td>\n",
       "    </tr>\n",
       "    <tr>\n",
       "      <th>75%</th>\n",
       "      <td>820.500000</td>\n",
       "      <td>6.000000</td>\n",
       "      <td>6.000000</td>\n",
       "      <td>0.000000</td>\n",
       "      <td>6.000000</td>\n",
       "      <td>6.000000</td>\n",
       "      <td>2.000000</td>\n",
       "      <td>23.394000</td>\n",
       "    </tr>\n",
       "    <tr>\n",
       "      <th>max</th>\n",
       "      <td>998.000000</td>\n",
       "      <td>17.000000</td>\n",
       "      <td>17.000000</td>\n",
       "      <td>1.000000</td>\n",
       "      <td>8.000000</td>\n",
       "      <td>8.000000</td>\n",
       "      <td>11.000000</td>\n",
       "      <td>79.181000</td>\n",
       "    </tr>\n",
       "  </tbody>\n",
       "</table>\n",
       "</div>"
      ],
      "text/plain": [
       "          session  count_mouseover  count_mouseout  count_click  count_blur  \\\n",
       "count   66.000000        66.000000       66.000000    66.000000   66.000000   \n",
       "mean   601.469697         5.757576        5.742424     0.060606    5.681818   \n",
       "std    258.191296         3.210850        3.221613     0.240435    1.737895   \n",
       "min    109.000000         1.000000        1.000000     0.000000    0.000000   \n",
       "25%    387.750000         4.000000        3.250000     0.000000    6.000000   \n",
       "50%    636.500000         6.000000        6.000000     0.000000    6.000000   \n",
       "75%    820.500000         6.000000        6.000000     0.000000    6.000000   \n",
       "max    998.000000        17.000000       17.000000     1.000000    8.000000   \n",
       "\n",
       "       count_focus  count_keydown   duration  \n",
       "count    66.000000      66.000000  66.000000  \n",
       "mean      5.666667       1.378788  20.652530  \n",
       "std       1.721657       2.292229  13.537414  \n",
       "min       0.000000       0.000000   0.005000  \n",
       "25%       6.000000       0.000000  13.826750  \n",
       "50%       6.000000       0.000000  18.071000  \n",
       "75%       6.000000       2.000000  23.394000  \n",
       "max       8.000000      11.000000  79.181000  "
      ]
     },
     "execution_count": 346,
     "metadata": {},
     "output_type": "execute_result"
    }
   ],
   "source": [
    "df_session_einfach.describe()"
   ]
  },
  {
   "cell_type": "code",
   "execution_count": 345,
   "metadata": {},
   "outputs": [
    {
     "data": {
      "text/html": [
       "<div>\n",
       "<style scoped>\n",
       "    .dataframe tbody tr th:only-of-type {\n",
       "        vertical-align: middle;\n",
       "    }\n",
       "\n",
       "    .dataframe tbody tr th {\n",
       "        vertical-align: top;\n",
       "    }\n",
       "\n",
       "    .dataframe thead th {\n",
       "        text-align: right;\n",
       "    }\n",
       "</style>\n",
       "<table border=\"1\" class=\"dataframe\">\n",
       "  <thead>\n",
       "    <tr style=\"text-align: right;\">\n",
       "      <th></th>\n",
       "      <th>session</th>\n",
       "      <th>count_mouseover</th>\n",
       "      <th>count_mouseout</th>\n",
       "      <th>count_click</th>\n",
       "      <th>count_blur</th>\n",
       "      <th>count_focus</th>\n",
       "      <th>count_keydown</th>\n",
       "      <th>duration</th>\n",
       "    </tr>\n",
       "  </thead>\n",
       "  <tbody>\n",
       "    <tr>\n",
       "      <th>count</th>\n",
       "      <td>63.000000</td>\n",
       "      <td>63.000000</td>\n",
       "      <td>63.000000</td>\n",
       "      <td>63.000000</td>\n",
       "      <td>63.000000</td>\n",
       "      <td>63.000000</td>\n",
       "      <td>63.000000</td>\n",
       "      <td>63.000000</td>\n",
       "    </tr>\n",
       "    <tr>\n",
       "      <th>mean</th>\n",
       "      <td>552.126984</td>\n",
       "      <td>26.333333</td>\n",
       "      <td>26.174603</td>\n",
       "      <td>7.460317</td>\n",
       "      <td>15.714286</td>\n",
       "      <td>15.301587</td>\n",
       "      <td>19.222222</td>\n",
       "      <td>247.124921</td>\n",
       "    </tr>\n",
       "    <tr>\n",
       "      <th>std</th>\n",
       "      <td>269.199680</td>\n",
       "      <td>38.388926</td>\n",
       "      <td>38.470994</td>\n",
       "      <td>11.282052</td>\n",
       "      <td>17.425814</td>\n",
       "      <td>17.451902</td>\n",
       "      <td>31.255164</td>\n",
       "      <td>293.457366</td>\n",
       "    </tr>\n",
       "    <tr>\n",
       "      <th>min</th>\n",
       "      <td>128.000000</td>\n",
       "      <td>1.000000</td>\n",
       "      <td>0.000000</td>\n",
       "      <td>0.000000</td>\n",
       "      <td>0.000000</td>\n",
       "      <td>0.000000</td>\n",
       "      <td>0.000000</td>\n",
       "      <td>5.786000</td>\n",
       "    </tr>\n",
       "    <tr>\n",
       "      <th>25%</th>\n",
       "      <td>318.000000</td>\n",
       "      <td>5.500000</td>\n",
       "      <td>5.500000</td>\n",
       "      <td>0.000000</td>\n",
       "      <td>5.000000</td>\n",
       "      <td>4.500000</td>\n",
       "      <td>0.000000</td>\n",
       "      <td>37.243500</td>\n",
       "    </tr>\n",
       "    <tr>\n",
       "      <th>50%</th>\n",
       "      <td>544.000000</td>\n",
       "      <td>15.000000</td>\n",
       "      <td>15.000000</td>\n",
       "      <td>4.000000</td>\n",
       "      <td>12.000000</td>\n",
       "      <td>12.000000</td>\n",
       "      <td>7.000000</td>\n",
       "      <td>195.613000</td>\n",
       "    </tr>\n",
       "    <tr>\n",
       "      <th>75%</th>\n",
       "      <td>762.500000</td>\n",
       "      <td>35.000000</td>\n",
       "      <td>35.000000</td>\n",
       "      <td>8.500000</td>\n",
       "      <td>22.000000</td>\n",
       "      <td>21.500000</td>\n",
       "      <td>25.500000</td>\n",
       "      <td>300.721500</td>\n",
       "    </tr>\n",
       "    <tr>\n",
       "      <th>max</th>\n",
       "      <td>985.000000</td>\n",
       "      <td>256.000000</td>\n",
       "      <td>256.000000</td>\n",
       "      <td>63.000000</td>\n",
       "      <td>117.000000</td>\n",
       "      <td>116.000000</td>\n",
       "      <td>197.000000</td>\n",
       "      <td>1623.542000</td>\n",
       "    </tr>\n",
       "  </tbody>\n",
       "</table>\n",
       "</div>"
      ],
      "text/plain": [
       "          session  count_mouseover  count_mouseout  count_click  count_blur  \\\n",
       "count   63.000000        63.000000       63.000000    63.000000   63.000000   \n",
       "mean   552.126984        26.333333       26.174603     7.460317   15.714286   \n",
       "std    269.199680        38.388926       38.470994    11.282052   17.425814   \n",
       "min    128.000000         1.000000        0.000000     0.000000    0.000000   \n",
       "25%    318.000000         5.500000        5.500000     0.000000    5.000000   \n",
       "50%    544.000000        15.000000       15.000000     4.000000   12.000000   \n",
       "75%    762.500000        35.000000       35.000000     8.500000   22.000000   \n",
       "max    985.000000       256.000000      256.000000    63.000000  117.000000   \n",
       "\n",
       "       count_focus  count_keydown     duration  \n",
       "count    63.000000      63.000000    63.000000  \n",
       "mean     15.301587      19.222222   247.124921  \n",
       "std      17.451902      31.255164   293.457366  \n",
       "min       0.000000       0.000000     5.786000  \n",
       "25%       4.500000       0.000000    37.243500  \n",
       "50%      12.000000       7.000000   195.613000  \n",
       "75%      21.500000      25.500000   300.721500  \n",
       "max     116.000000     197.000000  1623.542000  "
      ]
     },
     "execution_count": 345,
     "metadata": {},
     "output_type": "execute_result"
    }
   ],
   "source": [
    "df_session_schwer.describe()"
   ]
  }
 ],
 "metadata": {
  "kernelspec": {
   "display_name": "Python 3.8.5 ('base')",
   "language": "python",
   "name": "python3"
  },
  "language_info": {
   "codemirror_mode": {
    "name": "ipython",
    "version": 3
   },
   "file_extension": ".py",
   "mimetype": "text/x-python",
   "name": "python",
   "nbconvert_exporter": "python",
   "pygments_lexer": "ipython3",
   "version": "3.8.5"
  },
  "orig_nbformat": 4,
  "vscode": {
   "interpreter": {
    "hash": "72affea882e652da3862626e8de1ded8e3db67911e489535711f40448414c376"
   }
  }
 },
 "nbformat": 4,
 "nbformat_minor": 2
}

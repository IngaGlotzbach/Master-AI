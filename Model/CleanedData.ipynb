{
 "cells": [
  {
   "cell_type": "code",
   "execution_count": 4,
   "metadata": {},
   "outputs": [],
   "source": [
    "import numpy as np\n",
    "import matplotlib.pyplot as plt\n",
    "import json\n",
    "import pandas as pd\n",
    "from pandas import read_csv\n",
    "from sklearn.utils import shuffle\n",
    "from datetime import datetime\n",
    "from pandas.core.computation.check import NUMEXPR_INSTALLED"
   ]
  },
  {
   "cell_type": "markdown",
   "metadata": {},
   "source": [
    "### Cleaned Data without changes"
   ]
  },
  {
   "cell_type": "code",
   "execution_count": 304,
   "metadata": {},
   "outputs": [],
   "source": [
    "#lade einfache Daten und wandle in einen Dataframe um\n",
    "with open('fullData.json') as dataJson:\n",
    "    data = json.load(dataJson)"
   ]
  },
  {
   "cell_type": "code",
   "execution_count": 305,
   "metadata": {},
   "outputs": [
    {
     "data": {
      "text/html": [
       "<div>\n",
       "<style scoped>\n",
       "    .dataframe tbody tr th:only-of-type {\n",
       "        vertical-align: middle;\n",
       "    }\n",
       "\n",
       "    .dataframe tbody tr th {\n",
       "        vertical-align: top;\n",
       "    }\n",
       "\n",
       "    .dataframe thead th {\n",
       "        text-align: right;\n",
       "    }\n",
       "</style>\n",
       "<table border=\"1\" class=\"dataframe\">\n",
       "  <thead>\n",
       "    <tr style=\"text-align: right;\">\n",
       "      <th></th>\n",
       "      <th>clientId</th>\n",
       "      <th>elementId</th>\n",
       "      <th>timeStamp</th>\n",
       "      <th>type</th>\n",
       "      <th>siteName</th>\n",
       "      <th>date</th>\n",
       "      <th>clientX</th>\n",
       "      <th>clientY</th>\n",
       "      <th>session</th>\n",
       "      <th>height</th>\n",
       "      <th>width</th>\n",
       "      <th>browser</th>\n",
       "      <th>key</th>\n",
       "    </tr>\n",
       "  </thead>\n",
       "  <tbody>\n",
       "    <tr>\n",
       "      <th>339</th>\n",
       "      <td>2567c85a-ad16</td>\n",
       "      <td>inputPet</td>\n",
       "      <td>824.2999999988824</td>\n",
       "      <td>mouseover</td>\n",
       "      <td>TestEinfach</td>\n",
       "      <td>2022-10-17T13:35:24.171Z</td>\n",
       "      <td>673</td>\n",
       "      <td>363</td>\n",
       "      <td>1ff12350-5d06-5a07-9f0d-96a9a3942adb</td>\n",
       "      <td>944</td>\n",
       "      <td>1920</td>\n",
       "      <td>NaN</td>\n",
       "      <td>NaN</td>\n",
       "    </tr>\n",
       "    <tr>\n",
       "      <th>340</th>\n",
       "      <td>2567c85a-ad16</td>\n",
       "      <td>inputPet</td>\n",
       "      <td>858.2999999988824</td>\n",
       "      <td>mouseout</td>\n",
       "      <td>TestEinfach</td>\n",
       "      <td>2022-10-17T13:35:24.205Z</td>\n",
       "      <td>772</td>\n",
       "      <td>333</td>\n",
       "      <td>1ff12350-5d06-5a07-9f0d-96a9a3942adb</td>\n",
       "      <td>944</td>\n",
       "      <td>1920</td>\n",
       "      <td>NaN</td>\n",
       "      <td>NaN</td>\n",
       "    </tr>\n",
       "    <tr>\n",
       "      <th>341</th>\n",
       "      <td>2567c85a-ad16</td>\n",
       "      <td>inputCountry</td>\n",
       "      <td>2005.2999999988824</td>\n",
       "      <td>mouseover</td>\n",
       "      <td>TestEinfach</td>\n",
       "      <td>2022-10-17T13:35:25.361Z</td>\n",
       "      <td>796</td>\n",
       "      <td>266</td>\n",
       "      <td>1ff12350-5d06-5a07-9f0d-96a9a3942adb</td>\n",
       "      <td>944</td>\n",
       "      <td>1920</td>\n",
       "      <td>NaN</td>\n",
       "      <td>NaN</td>\n",
       "    </tr>\n",
       "    <tr>\n",
       "      <th>342</th>\n",
       "      <td>2567c85a-ad16</td>\n",
       "      <td>inputCountry</td>\n",
       "      <td>2296.5</td>\n",
       "      <td>focus</td>\n",
       "      <td>TestEinfach</td>\n",
       "      <td>2022-10-17T13:35:25.652Z</td>\n",
       "      <td>NaN</td>\n",
       "      <td>NaN</td>\n",
       "      <td>1ff12350-5d06-5a07-9f0d-96a9a3942adb</td>\n",
       "      <td>944</td>\n",
       "      <td>1920</td>\n",
       "      <td>Chrome</td>\n",
       "      <td>NaN</td>\n",
       "    </tr>\n",
       "    <tr>\n",
       "      <th>343</th>\n",
       "      <td>2567c85a-ad16</td>\n",
       "      <td>inputHouse</td>\n",
       "      <td>2875.2999999988824</td>\n",
       "      <td>mouseover</td>\n",
       "      <td>TestEinfach</td>\n",
       "      <td>2022-10-17T13:35:26.230Z</td>\n",
       "      <td>995</td>\n",
       "      <td>264</td>\n",
       "      <td>1ff12350-5d06-5a07-9f0d-96a9a3942adb</td>\n",
       "      <td>944</td>\n",
       "      <td>1920</td>\n",
       "      <td>NaN</td>\n",
       "      <td>NaN</td>\n",
       "    </tr>\n",
       "  </tbody>\n",
       "</table>\n",
       "</div>"
      ],
      "text/plain": [
       "          clientId     elementId           timeStamp       type     siteName  \\\n",
       "339  2567c85a-ad16      inputPet   824.2999999988824  mouseover  TestEinfach   \n",
       "340  2567c85a-ad16      inputPet   858.2999999988824   mouseout  TestEinfach   \n",
       "341  2567c85a-ad16  inputCountry  2005.2999999988824  mouseover  TestEinfach   \n",
       "342  2567c85a-ad16  inputCountry              2296.5      focus  TestEinfach   \n",
       "343  2567c85a-ad16    inputHouse  2875.2999999988824  mouseover  TestEinfach   \n",
       "\n",
       "                         date clientX clientY  \\\n",
       "339  2022-10-17T13:35:24.171Z     673     363   \n",
       "340  2022-10-17T13:35:24.205Z     772     333   \n",
       "341  2022-10-17T13:35:25.361Z     796     266   \n",
       "342  2022-10-17T13:35:25.652Z     NaN     NaN   \n",
       "343  2022-10-17T13:35:26.230Z     995     264   \n",
       "\n",
       "                                  session height width browser  key  \n",
       "339  1ff12350-5d06-5a07-9f0d-96a9a3942adb    944  1920     NaN  NaN  \n",
       "340  1ff12350-5d06-5a07-9f0d-96a9a3942adb    944  1920     NaN  NaN  \n",
       "341  1ff12350-5d06-5a07-9f0d-96a9a3942adb    944  1920     NaN  NaN  \n",
       "342  1ff12350-5d06-5a07-9f0d-96a9a3942adb    944  1920  Chrome  NaN  \n",
       "343  1ff12350-5d06-5a07-9f0d-96a9a3942adb    944  1920     NaN  NaN  "
      ]
     },
     "execution_count": 305,
     "metadata": {},
     "output_type": "execute_result"
    }
   ],
   "source": [
    "df_data = pd.DataFrame(data)\n",
    "df = df_data[df_data['session'].notna()]\n",
    "\n",
    "df.head()"
   ]
  },
  {
   "cell_type": "code",
   "execution_count": 306,
   "metadata": {},
   "outputs": [],
   "source": [
    "#get all events which are actually in TestSchwer\n",
    "array_input_schwer = ['inputHobby','inputCancelor','inputTemperature','inputDays','inputRiver', 'inputDifficultQuestion', 'clickHere', 'buttonYes', 'alibiClick']\n",
    "\n",
    "df_einfach_without_schwerInput = df[~df['elementId'].isin(array_input_schwer)]\n",
    "df_schwer_without_einfachInput = df[df['elementId'].isin(array_input_schwer)]\n",
    "\n",
    "df_actually_schwer = df_einfach_without_schwerInput.loc[df_einfach_without_schwerInput['siteName'] == 'TestSchwer']\n",
    "df_easy = df_actually_schwer.assign(sitename='TestSchwer')\n",
    "\n",
    "df_einfach = df_einfach_without_schwerInput.loc[~(df_einfach_without_schwerInput['siteName'] == 'TestSchwer')]\n",
    "df_schwer = pd.concat([df_easy, df_schwer_without_einfachInput])\n",
    "\n",
    "pd.set_option('display.max_columns', None)\n",
    "pd.set_option('display.max_rows', None)"
   ]
  },
  {
   "cell_type": "code",
   "execution_count": 307,
   "metadata": {},
   "outputs": [
    {
     "name": "stdout",
     "output_type": "stream",
     "text": [
      "23\n",
      "4\n"
     ]
    },
    {
     "name": "stderr",
     "output_type": "stream",
     "text": [
      "<ipython-input-307-8a7767e40469>:5: SettingWithCopyWarning: \n",
      "A value is trying to be set on a copy of a slice from a DataFrame.\n",
      "Try using .loc[row_indexer,col_indexer] = value instead\n",
      "\n",
      "See the caveats in the documentation: https://pandas.pydata.org/pandas-docs/stable/user_guide/indexing.html#returning-a-view-versus-a-copy\n",
      "  df_einfach['is_duplicated'] = df_einfach.duplicated('session')\n"
     ]
    }
   ],
   "source": [
    "#Gleich viele sessions bei TestSchwer und TestEinfach\n",
    "sessionIdSchwer = df_schwer['session']\n",
    "sessionIdEinfach = df_einfach['session']\n",
    "\n",
    "df_einfach['is_duplicated'] = df_einfach.duplicated('session')\n",
    "#86 ids auf Seite Einfach\n",
    "setEinfach = set(sessionIdEinfach)\n",
    "length = len(setEinfach)\n",
    "\n",
    "#59 ids auf Seite Schwer\n",
    "df_schwer['is_duplicated'] = df_schwer.duplicated('session')\n",
    "setSchwer = set(sessionIdSchwer)\n",
    "lengthSchwer = len(setSchwer)\n",
    "\n",
    "in_schwer_but_not_in_einfach = setSchwer - setEinfach\n",
    "in_einfach_but_not_in_schwer = setEinfach - setSchwer\n",
    "\n",
    "array_einfach = list(in_einfach_but_not_in_schwer)\n",
    "array_schwer = list(in_schwer_but_not_in_einfach)\n",
    "\n",
    "#66 Teilnehmer bzw. Sessions?\n",
    "df_einfach_without_ids = df_einfach[~df_einfach['session'].isin(array_einfach)]\n",
    "df_schwer_without_ids = df_schwer[~df_schwer['session'].isin(array_schwer)]\n",
    "\n",
    "df_einfach_final = df_einfach_without_ids.drop(['clientId', 'is_duplicated'], axis=1)\n",
    "df_schwer_final = df_schwer_without_ids.drop(['clientId', 'is_duplicated'], axis=1)\n",
    "\n",
    "print(len(array_einfach))\n",
    "print(len(array_schwer))"
   ]
  },
  {
   "cell_type": "code",
   "execution_count": 308,
   "metadata": {},
   "outputs": [],
   "source": [
    "df_first = pd.concat([df_einfach_final, df_schwer_final])\n",
    "df_tmp = shuffle(df_first)\n",
    "df_first_cleaned_data = df_tmp.loc[df[\"type\"] !=\"scroll\"]\n",
    "df_first_cleaned_data.to_pickle('CleanedDataWithoutChange.pkl')"
   ]
  },
  {
   "cell_type": "code",
   "execution_count": 309,
   "metadata": {},
   "outputs": [],
   "source": [
    "df_schwer_final = df_schwer_final.loc[df_schwer_final[\"type\"] !=\"scroll\"]\n",
    "df_einfach_final = df_einfach_final.loc[df_einfach_final[\"type\"] !=\"scroll\"]"
   ]
  },
  {
   "cell_type": "markdown",
   "metadata": {},
   "source": [
    "### Cleaned Data with other session Ids"
   ]
  },
  {
   "cell_type": "code",
   "execution_count": 310,
   "metadata": {},
   "outputs": [
    {
     "name": "stdout",
     "output_type": "stream",
     "text": [
      "[]\n"
     ]
    }
   ],
   "source": [
    "# new sessionId \n",
    "import random\n",
    "from random import choice\n",
    "import collections\n",
    "\n",
    "array_of_ids_einfach = df_einfach_final['session'].value_counts().index.tolist()\n",
    "array_of_ids_schwer = df_schwer_final['session'].value_counts().index.tolist()\n",
    "numbers_schwer = []\n",
    "\n",
    "random_numbers_ids_einfach = random.sample(range(101,1000), len(array_of_ids_einfach))\n",
    "for i in range(len(random_numbers_ids_einfach)):\n",
    "    random_numbers_ids_schwer = random.choice([i for i in range(101, 1000) if i not in random_numbers_ids_einfach])\n",
    "    numbers_schwer.append(random_numbers_ids_schwer)\n",
    "\n",
    "numbers = random_numbers_ids_einfach + numbers_schwer\n",
    "\n",
    "df_einfach_final['session'] = df_einfach_final['session'].replace(array_of_ids_einfach, random_numbers_ids_einfach)\n",
    "df_schwer_final['session'] = df_schwer_final['session'].replace(array_of_ids_schwer, numbers_schwer)\n",
    "\n",
    "print([item for item, count in collections.Counter(numbers).items() if count > 1])"
   ]
  },
  {
   "cell_type": "code",
   "execution_count": 311,
   "metadata": {},
   "outputs": [],
   "source": [
    "df_new_ids = pd.concat([df_einfach_final, df_schwer_final])"
   ]
  },
  {
   "cell_type": "code",
   "execution_count": 315,
   "metadata": {},
   "outputs": [],
   "source": [
    "df_new_ids['siteName'] = df_new_ids['siteName'].replace('TestEinfach', 0)\n",
    "df_new_ids['siteName'] = df_new_ids['siteName'].replace('TestSchwer', 1)"
   ]
  },
  {
   "cell_type": "markdown",
   "metadata": {},
   "source": [
    "### Replace all values\n"
   ]
  }
 ],
 "metadata": {
  "kernelspec": {
   "display_name": "Python 3.8.5 ('base')",
   "language": "python",
   "name": "python3"
  },
  "language_info": {
   "codemirror_mode": {
    "name": "ipython",
    "version": 3
   },
   "file_extension": ".py",
   "mimetype": "text/x-python",
   "name": "python",
   "nbconvert_exporter": "python",
   "pygments_lexer": "ipython3",
   "version": "3.8.5"
  },
  "orig_nbformat": 4,
  "vscode": {
   "interpreter": {
    "hash": "72affea882e652da3862626e8de1ded8e3db67911e489535711f40448414c376"
   }
  }
 },
 "nbformat": 4,
 "nbformat_minor": 2
}

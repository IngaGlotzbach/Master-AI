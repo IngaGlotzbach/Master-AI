{
 "cells": [
  {
   "cell_type": "code",
   "execution_count": 863,
   "metadata": {},
   "outputs": [],
   "source": [
    "import numpy as np\n",
    "import matplotlib.pyplot as plt\n",
    "import json\n",
    "import pandas as pd\n",
    "from pandas import read_csv\n",
    "from sklearn.utils import shuffle\n",
    "from datetime import datetime\n",
    "from pandas.core.computation.check import NUMEXPR_INSTALLED\n",
    "import seaborn as sns"
   ]
  },
  {
   "cell_type": "markdown",
   "metadata": {},
   "source": [
    "### Cleaned Data without changes"
   ]
  },
  {
   "attachments": {},
   "cell_type": "markdown",
   "metadata": {},
   "source": [
    "### 1. Daten werden geladen"
   ]
  },
  {
   "cell_type": "code",
   "execution_count": 864,
   "metadata": {},
   "outputs": [],
   "source": [
    "#lade einfache Daten und wandle in einen Dataframe um\n",
    "with open('fullData.json') as dataJson:\n",
    "    data = json.load(dataJson)"
   ]
  },
  {
   "cell_type": "code",
   "execution_count": 865,
   "metadata": {},
   "outputs": [
    {
     "data": {
      "text/html": [
       "<div>\n",
       "<style scoped>\n",
       "    .dataframe tbody tr th:only-of-type {\n",
       "        vertical-align: middle;\n",
       "    }\n",
       "\n",
       "    .dataframe tbody tr th {\n",
       "        vertical-align: top;\n",
       "    }\n",
       "\n",
       "    .dataframe thead th {\n",
       "        text-align: right;\n",
       "    }\n",
       "</style>\n",
       "<table border=\"1\" class=\"dataframe\">\n",
       "  <thead>\n",
       "    <tr style=\"text-align: right;\">\n",
       "      <th></th>\n",
       "      <th>clientId</th>\n",
       "      <th>elementId</th>\n",
       "      <th>timeStamp</th>\n",
       "      <th>type</th>\n",
       "      <th>siteName</th>\n",
       "      <th>date</th>\n",
       "      <th>clientX</th>\n",
       "      <th>clientY</th>\n",
       "      <th>session</th>\n",
       "      <th>height</th>\n",
       "      <th>width</th>\n",
       "      <th>browser</th>\n",
       "      <th>key</th>\n",
       "    </tr>\n",
       "  </thead>\n",
       "  <tbody>\n",
       "    <tr>\n",
       "      <th>339</th>\n",
       "      <td>2567c85a-ad16</td>\n",
       "      <td>inputPet</td>\n",
       "      <td>824.2999999988824</td>\n",
       "      <td>mouseover</td>\n",
       "      <td>TestEinfach</td>\n",
       "      <td>2022-10-17T13:35:24.171Z</td>\n",
       "      <td>673</td>\n",
       "      <td>363</td>\n",
       "      <td>1ff12350-5d06-5a07-9f0d-96a9a3942adb</td>\n",
       "      <td>944</td>\n",
       "      <td>1920</td>\n",
       "      <td>NaN</td>\n",
       "      <td>NaN</td>\n",
       "    </tr>\n",
       "    <tr>\n",
       "      <th>340</th>\n",
       "      <td>2567c85a-ad16</td>\n",
       "      <td>inputPet</td>\n",
       "      <td>858.2999999988824</td>\n",
       "      <td>mouseout</td>\n",
       "      <td>TestEinfach</td>\n",
       "      <td>2022-10-17T13:35:24.205Z</td>\n",
       "      <td>772</td>\n",
       "      <td>333</td>\n",
       "      <td>1ff12350-5d06-5a07-9f0d-96a9a3942adb</td>\n",
       "      <td>944</td>\n",
       "      <td>1920</td>\n",
       "      <td>NaN</td>\n",
       "      <td>NaN</td>\n",
       "    </tr>\n",
       "    <tr>\n",
       "      <th>341</th>\n",
       "      <td>2567c85a-ad16</td>\n",
       "      <td>inputCountry</td>\n",
       "      <td>2005.2999999988824</td>\n",
       "      <td>mouseover</td>\n",
       "      <td>TestEinfach</td>\n",
       "      <td>2022-10-17T13:35:25.361Z</td>\n",
       "      <td>796</td>\n",
       "      <td>266</td>\n",
       "      <td>1ff12350-5d06-5a07-9f0d-96a9a3942adb</td>\n",
       "      <td>944</td>\n",
       "      <td>1920</td>\n",
       "      <td>NaN</td>\n",
       "      <td>NaN</td>\n",
       "    </tr>\n",
       "    <tr>\n",
       "      <th>342</th>\n",
       "      <td>2567c85a-ad16</td>\n",
       "      <td>inputCountry</td>\n",
       "      <td>2296.5</td>\n",
       "      <td>focus</td>\n",
       "      <td>TestEinfach</td>\n",
       "      <td>2022-10-17T13:35:25.652Z</td>\n",
       "      <td>NaN</td>\n",
       "      <td>NaN</td>\n",
       "      <td>1ff12350-5d06-5a07-9f0d-96a9a3942adb</td>\n",
       "      <td>944</td>\n",
       "      <td>1920</td>\n",
       "      <td>Chrome</td>\n",
       "      <td>NaN</td>\n",
       "    </tr>\n",
       "    <tr>\n",
       "      <th>343</th>\n",
       "      <td>2567c85a-ad16</td>\n",
       "      <td>inputHouse</td>\n",
       "      <td>2875.2999999988824</td>\n",
       "      <td>mouseover</td>\n",
       "      <td>TestEinfach</td>\n",
       "      <td>2022-10-17T13:35:26.230Z</td>\n",
       "      <td>995</td>\n",
       "      <td>264</td>\n",
       "      <td>1ff12350-5d06-5a07-9f0d-96a9a3942adb</td>\n",
       "      <td>944</td>\n",
       "      <td>1920</td>\n",
       "      <td>NaN</td>\n",
       "      <td>NaN</td>\n",
       "    </tr>\n",
       "  </tbody>\n",
       "</table>\n",
       "</div>"
      ],
      "text/plain": [
       "          clientId     elementId           timeStamp       type     siteName  \\\n",
       "339  2567c85a-ad16      inputPet   824.2999999988824  mouseover  TestEinfach   \n",
       "340  2567c85a-ad16      inputPet   858.2999999988824   mouseout  TestEinfach   \n",
       "341  2567c85a-ad16  inputCountry  2005.2999999988824  mouseover  TestEinfach   \n",
       "342  2567c85a-ad16  inputCountry              2296.5      focus  TestEinfach   \n",
       "343  2567c85a-ad16    inputHouse  2875.2999999988824  mouseover  TestEinfach   \n",
       "\n",
       "                         date clientX clientY  \\\n",
       "339  2022-10-17T13:35:24.171Z     673     363   \n",
       "340  2022-10-17T13:35:24.205Z     772     333   \n",
       "341  2022-10-17T13:35:25.361Z     796     266   \n",
       "342  2022-10-17T13:35:25.652Z     NaN     NaN   \n",
       "343  2022-10-17T13:35:26.230Z     995     264   \n",
       "\n",
       "                                  session height width browser  key  \n",
       "339  1ff12350-5d06-5a07-9f0d-96a9a3942adb    944  1920     NaN  NaN  \n",
       "340  1ff12350-5d06-5a07-9f0d-96a9a3942adb    944  1920     NaN  NaN  \n",
       "341  1ff12350-5d06-5a07-9f0d-96a9a3942adb    944  1920     NaN  NaN  \n",
       "342  1ff12350-5d06-5a07-9f0d-96a9a3942adb    944  1920  Chrome  NaN  \n",
       "343  1ff12350-5d06-5a07-9f0d-96a9a3942adb    944  1920     NaN  NaN  "
      ]
     },
     "execution_count": 865,
     "metadata": {},
     "output_type": "execute_result"
    }
   ],
   "source": [
    "df_data = pd.DataFrame(data)\n",
    "df = df_data[df_data['session'].notna()]\n",
    "\n",
    "df.head()"
   ]
  },
  {
   "attachments": {},
   "cell_type": "markdown",
   "metadata": {},
   "source": [
    "### 2. Bereinigung der Daten"
   ]
  },
  {
   "attachments": {},
   "cell_type": "markdown",
   "metadata": {},
   "source": [
    "#### 2.1 Alle Ereignisse abrufen, die sich tatsächlich in TestSchwer befinden"
   ]
  },
  {
   "cell_type": "code",
   "execution_count": 866,
   "metadata": {},
   "outputs": [],
   "source": [
    "#get all events which are actually in TestSchwer\n",
    "array_input_schwer = ['inputHobby','inputCancelor','inputTemperature','inputDays','inputRiver', 'inputDifficultQuestion', 'clickHere', 'buttonYes', 'alibiClick']\n",
    "\n",
    "df_einfach_without_schwerInput = df[~df['elementId'].isin(array_input_schwer)]\n",
    "df_schwer_without_einfachInput = df[df['elementId'].isin(array_input_schwer)]\n",
    "\n",
    "df_actually_schwer = df_einfach_without_schwerInput.loc[df_einfach_without_schwerInput['siteName'] == 'TestSchwer']\n",
    "df_easy = df_actually_schwer.assign(sitename='TestSchwer')\n",
    "\n",
    "df_einfach = df_einfach_without_schwerInput.loc[~(df_einfach_without_schwerInput['siteName'] == 'TestSchwer')]\n",
    "df_schwer = pd.concat([df_easy, df_schwer_without_einfachInput])\n",
    "df_schwer['siteName'] = 'TestSchwer'\n",
    "\n",
    "pd.set_option('display.max_columns', 20)\n",
    "pd.set_option('display.max_rows', 20)"
   ]
  },
  {
   "attachments": {},
   "cell_type": "markdown",
   "metadata": {},
   "source": [
    "#### 2.2 Gleich viele Sessions bei TestSchwer & TestEinfach"
   ]
  },
  {
   "cell_type": "code",
   "execution_count": 867,
   "metadata": {},
   "outputs": [
    {
     "name": "stdout",
     "output_type": "stream",
     "text": [
      "89\n",
      "70\n"
     ]
    },
    {
     "name": "stderr",
     "output_type": "stream",
     "text": [
      "<ipython-input-867-2d14dad677d7>:4: SettingWithCopyWarning: \n",
      "A value is trying to be set on a copy of a slice from a DataFrame.\n",
      "Try using .loc[row_indexer,col_indexer] = value instead\n",
      "\n",
      "See the caveats in the documentation: https://pandas.pydata.org/pandas-docs/stable/user_guide/indexing.html#returning-a-view-versus-a-copy\n",
      "  df_einfach['is_duplicated'] = df_einfach.duplicated('session')\n"
     ]
    }
   ],
   "source": [
    "sessionIdSchwer = df_schwer['session']\n",
    "sessionIdEinfach = df_einfach['session']\n",
    "\n",
    "df_einfach['is_duplicated'] = df_einfach.duplicated('session')\n",
    "#89 ids auf Seite Einfach\n",
    "setEinfach = set(sessionIdEinfach)\n",
    "length = len(setEinfach)\n",
    "print(length)\n",
    "\n",
    "#70 ids auf Seite Schwer\n",
    "df_schwer['is_duplicated'] = df_schwer.duplicated('session')\n",
    "setSchwer = set(sessionIdSchwer)\n",
    "lengthSchwer = len(setSchwer)\n",
    "print(lengthSchwer)"
   ]
  },
  {
   "cell_type": "code",
   "execution_count": 868,
   "metadata": {},
   "outputs": [
    {
     "name": "stdout",
     "output_type": "stream",
     "text": [
      "Anzahl der Session-Ids bei einfach 66\n",
      "Anzahl der Session-Ids bei schwer 66\n"
     ]
    }
   ],
   "source": [
    "in_schwer_but_not_in_einfach = setSchwer - setEinfach\n",
    "in_einfach_but_not_in_schwer = setEinfach - setSchwer\n",
    "\n",
    "array_einfach = list(in_einfach_but_not_in_schwer)\n",
    "array_schwer = list(in_schwer_but_not_in_einfach)\n",
    "\n",
    "#66 Teilnehmer bzw. Sessions\n",
    "df_einfach_without_ids = df_einfach[~df_einfach['session'].isin(array_einfach)]\n",
    "df_schwer_without_ids = df_schwer[~df_schwer['session'].isin(array_schwer)]\n",
    "\n",
    "df_einfach_final = df_einfach_without_ids.drop(['clientId', 'is_duplicated'], axis=1)\n",
    "df_schwer_final = df_schwer_without_ids.drop(['clientId', 'is_duplicated'], axis=1)\n",
    "\n",
    "print(\"Anzahl der Session-Ids bei einfach\", 89 - len(array_einfach))\n",
    "print(\"Anzahl der Session-Ids bei schwer\",70 - len(array_schwer))"
   ]
  },
  {
   "cell_type": "code",
   "execution_count": 869,
   "metadata": {},
   "outputs": [
    {
     "name": "stdout",
     "output_type": "stream",
     "text": [
      "69e36b9c-46ec-e499-4a8c-9590b2ca8695    595\n",
      "6c81bd46-f25a-08fe-9f88-6652cefdf249    275\n",
      "ea50816c-8d4f-5629-a078-c048513d4fd6    253\n",
      "2e506528-adcc-8870-92ab-5c8d36f84add    226\n",
      "849db5c6-9138-0fdc-1a4b-86e89ab9acd3    214\n",
      "                                       ... \n",
      "efb4f373-decb-6b63-194f-b7acb93cf94d     18\n",
      "bbf7e1d0-6d9a-2025-fce7-45a86117014a     16\n",
      "fd6c4243-c30d-f1ff-f22e-c2f56b2cf901     14\n",
      "a42e916e-1d9b-51f0-19ed-f4262b0d1c70     10\n",
      "da1c188a-f46a-25bf-af34-c8e3afa30304      2\n",
      "Name: session, Length: 66, dtype: int64\n",
      "Anzahl der Events von TestEinfach: 4086\n"
     ]
    }
   ],
   "source": [
    "print(df_einfach_final['session'].value_counts())\n",
    "print('Anzahl der Events von TestEinfach:',len(df_einfach_final))"
   ]
  },
  {
   "cell_type": "code",
   "execution_count": 870,
   "metadata": {},
   "outputs": [
    {
     "name": "stdout",
     "output_type": "stream",
     "text": [
      "2e506528-adcc-8870-92ab-5c8d36f84add    4338\n",
      "b721640b-042e-77a9-9864-28c0ce5264fb    2780\n",
      "6c81bd46-f25a-08fe-9f88-6652cefdf249    2263\n",
      "69e4a6b4-0c82-f9be-c9d2-ea959fb5ac90    1678\n",
      "90ab4d9b-1f2b-12d8-0607-da60d299f472    1591\n",
      "                                        ... \n",
      "bbf7e1d0-6d9a-2025-fce7-45a86117014a       9\n",
      "da1c188a-f46a-25bf-af34-c8e3afa30304       7\n",
      "a2182a9f-b55f-ad7c-0744-9c3106331d5d       6\n",
      "24027ad1-57b0-1b05-d2b4-55d6d4e1bf65       5\n",
      "35e42b1c-1ae0-9ab7-b1cb-9bc03f17b034       4\n",
      "Name: session, Length: 66, dtype: int64\n",
      "Anzahl der Events von TestSchwer: 31078\n"
     ]
    }
   ],
   "source": [
    "print(df_schwer_final['session'].value_counts())\n",
    "print('Anzahl der Events von TestSchwer:',len(df_schwer_final))"
   ]
  },
  {
   "attachments": {},
   "cell_type": "markdown",
   "metadata": {},
   "source": [
    "#### 2.3 Diskrepanz der Daten analysieren"
   ]
  },
  {
   "cell_type": "code",
   "execution_count": 871,
   "metadata": {},
   "outputs": [],
   "source": [
    "df_concat_data = pd.concat([df_schwer_final, df_einfach_final])"
   ]
  },
  {
   "cell_type": "code",
   "execution_count": 872,
   "metadata": {},
   "outputs": [
    {
     "data": {
      "text/plain": [
       "Text(0.5, 1.0, 'Count for Events')"
      ]
     },
     "execution_count": 872,
     "metadata": {},
     "output_type": "execute_result"
    },
    {
     "data": {
      "image/png": "[encoded data removed]",
      "text/plain": [
       "<Figure size 648x504 with 1 Axes>"
      ]
     },
     "metadata": {
      "needs_background": "light"
     },
     "output_type": "display_data"
    }
   ],
   "source": [
    "# Figure size\n",
    "plt.figure(figsize=(9,7))\n",
    "# Count plot\n",
    "ax = sns.countplot(x = 'siteName', data = df_concat_data, palette=\"coolwarm_r\")\n",
    "# Add title\n",
    "plt.title('Count for Events', fontsize=18)"
   ]
  },
  {
   "cell_type": "code",
   "execution_count": 873,
   "metadata": {},
   "outputs": [
    {
     "data": {
      "text/plain": [
       "Text(0.5, 1.0, 'Counts for Types')"
      ]
     },
     "execution_count": 873,
     "metadata": {},
     "output_type": "execute_result"
    },
    {
     "data": {
      "image/png": "[encoded data removed]",
      "text/plain": [
       "<Figure size 648x504 with 1 Axes>"
      ]
     },
     "metadata": {
      "needs_background": "light"
     },
     "output_type": "display_data"
    }
   ],
   "source": [
    "# Figure size\n",
    "plt.figure(figsize=(9,7))\n",
    "# Count plot\n",
    "ax = sns.countplot(x = 'type', data = df_concat_data, palette=\"coolwarm_r\")\n",
    "# Add title\n",
    "plt.title('Counts for Types', fontsize=18)"
   ]
  },
  {
   "cell_type": "code",
   "execution_count": 874,
   "metadata": {},
   "outputs": [],
   "source": [
    "df_einfach_final = df_einfach_final.loc[df_einfach_final[\"type\"] !=\"scroll\"]\n",
    "df_schwer_final = df_schwer_final.loc[df_schwer_final[\"type\"] !=\"scroll\"]"
   ]
  },
  {
   "cell_type": "code",
   "execution_count": 875,
   "metadata": {},
   "outputs": [
    {
     "name": "stdout",
     "output_type": "stream",
     "text": [
      "Anzahl der Events ohne Scroll von TestEinfach: 1603\n",
      "Anzahl der Events ohne Scroll von TestSchwer: 7279\n"
     ]
    }
   ],
   "source": [
    "print('Anzahl der Events ohne Scroll von TestEinfach:',len(df_einfach_final))\n",
    "print('Anzahl der Events ohne Scroll von TestSchwer:',len(df_schwer_final))"
   ]
  },
  {
   "attachments": {},
   "cell_type": "markdown",
   "metadata": {},
   "source": [
    "#### 2.4 Werte in float umwandeln"
   ]
  },
  {
   "cell_type": "code",
   "execution_count": 876,
   "metadata": {},
   "outputs": [],
   "source": [
    "array_of_properties = ['timeStamp', 'clientX', 'clientY', 'height', 'width']"
   ]
  },
  {
   "cell_type": "code",
   "execution_count": 877,
   "metadata": {},
   "outputs": [],
   "source": [
    "def toFloat(test, array):\n",
    "    for x in range(5): \n",
    "        test[array[x]] = test[array[x]].astype(float)\n",
    "    test['date'] = test['date'].astype('datetime64[ns]')\n",
    "\n",
    "toFloat(df_einfach_final, array_of_properties)\n",
    "toFloat(df_schwer_final, array_of_properties)"
   ]
  },
  {
   "attachments": {},
   "cell_type": "markdown",
   "metadata": {},
   "source": [
    "#### 2.5 Fehlende Werte entfernen"
   ]
  },
  {
   "cell_type": "code",
   "execution_count": 878,
   "metadata": {},
   "outputs": [
    {
     "name": "stderr",
     "output_type": "stream",
     "text": [
      "/Users/ingaglotzbach/opt/anaconda3/lib/python3.8/site-packages/seaborn/distributions.py:238: FutureWarning: In a future version, `df.iloc[:, i] = newvals` will attempt to set the values inplace instead of always setting a new array. To retain the old behavior, use either `df[df.columns[i]] = newvals` or, if columns are non-unique, `df.isetitem(i, newvals)`\n",
      "  curves.iloc[:, cols] = (curves\n",
      "/Users/ingaglotzbach/opt/anaconda3/lib/python3.8/site-packages/seaborn/distributions.py:243: FutureWarning: In a future version, `df.iloc[:, i] = newvals` will attempt to set the values inplace instead of always setting a new array. To retain the old behavior, use either `df[df.columns[i]] = newvals` or, if columns are non-unique, `df.isetitem(i, newvals)`\n",
      "  baselines.iloc[:, cols] = (curves\n"
     ]
    },
    {
     "data": {
      "text/plain": [
       "<Figure size 720x432 with 0 Axes>"
      ]
     },
     "metadata": {},
     "output_type": "display_data"
    },
    {
     "data": {
      "image/png": "[encoded data removed]",
      "text/plain": [
       "<Figure size 511.25x360 with 1 Axes>"
      ]
     },
     "metadata": {
      "needs_background": "light"
     },
     "output_type": "display_data"
    }
   ],
   "source": [
    "plt.figure(figsize=(10,6))\n",
    "sns.displot(\n",
    "    data=df_concat_data.isna().melt(value_name=\"missing\"),\n",
    "    y=\"variable\",\n",
    "    hue=\"missing\",\n",
    "    multiple=\"fill\",\n",
    "    aspect=1.25\n",
    ")\n",
    "plt.savefig(\"visualizing_missing_data_with_barplot_Seaborn_distplot.png\", dpi=100)"
   ]
  },
  {
   "cell_type": "code",
   "execution_count": 879,
   "metadata": {},
   "outputs": [],
   "source": [
    "df_einfach_final = df_einfach_final.drop(['key', 'browser'], axis=1)\n",
    "df_schwer_final = df_schwer_final.drop(['key', 'browser', 'sitename'], axis=1)"
   ]
  },
  {
   "cell_type": "code",
   "execution_count": 880,
   "metadata": {},
   "outputs": [],
   "source": [
    "df_einfach_final['clientX'].fillna((df_einfach_final['clientX'].mean()), inplace=True)\n",
    "df_einfach_final['clientY'].fillna((df_einfach_final['clientY'].mean()), inplace=True)\n",
    "\n",
    "df_schwer_final['clientX'].fillna((df_schwer_final['clientX'].mean()), inplace=True)\n",
    "df_schwer_final['clientY'].fillna((df_schwer_final['clientY'].mean()), inplace=True)"
   ]
  },
  {
   "cell_type": "code",
   "execution_count": 881,
   "metadata": {},
   "outputs": [
    {
     "data": {
      "text/html": [
       "<div>\n",
       "<style scoped>\n",
       "    .dataframe tbody tr th:only-of-type {\n",
       "        vertical-align: middle;\n",
       "    }\n",
       "\n",
       "    .dataframe tbody tr th {\n",
       "        vertical-align: top;\n",
       "    }\n",
       "\n",
       "    .dataframe thead th {\n",
       "        text-align: right;\n",
       "    }\n",
       "</style>\n",
       "<table border=\"1\" class=\"dataframe\">\n",
       "  <thead>\n",
       "    <tr style=\"text-align: right;\">\n",
       "      <th></th>\n",
       "      <th>elementId</th>\n",
       "      <th>timeStamp</th>\n",
       "      <th>type</th>\n",
       "      <th>siteName</th>\n",
       "      <th>date</th>\n",
       "      <th>clientX</th>\n",
       "      <th>clientY</th>\n",
       "      <th>session</th>\n",
       "      <th>height</th>\n",
       "      <th>width</th>\n",
       "    </tr>\n",
       "  </thead>\n",
       "  <tbody>\n",
       "    <tr>\n",
       "      <th>365</th>\n",
       "      <td>window</td>\n",
       "      <td>1393.7</td>\n",
       "      <td>blur</td>\n",
       "      <td>TestSchwer</td>\n",
       "      <td>2022-10-17 13:38:09.616</td>\n",
       "      <td>634.657848</td>\n",
       "      <td>460.161082</td>\n",
       "      <td>1ff12350-5d06-5a07-9f0d-96a9a3942adb</td>\n",
       "      <td>944.0</td>\n",
       "      <td>1920.0</td>\n",
       "    </tr>\n",
       "    <tr>\n",
       "      <th>366</th>\n",
       "      <td>window</td>\n",
       "      <td>10036.7</td>\n",
       "      <td>focus</td>\n",
       "      <td>TestSchwer</td>\n",
       "      <td>2022-10-17 13:38:18.235</td>\n",
       "      <td>634.657848</td>\n",
       "      <td>460.161082</td>\n",
       "      <td>1ff12350-5d06-5a07-9f0d-96a9a3942adb</td>\n",
       "      <td>944.0</td>\n",
       "      <td>1920.0</td>\n",
       "    </tr>\n",
       "    <tr>\n",
       "      <th>389</th>\n",
       "      <td>nextButton</td>\n",
       "      <td>42607.6</td>\n",
       "      <td>click</td>\n",
       "      <td>TestSchwer</td>\n",
       "      <td>2022-10-17 13:38:50.803</td>\n",
       "      <td>634.657848</td>\n",
       "      <td>460.161082</td>\n",
       "      <td>1ff12350-5d06-5a07-9f0d-96a9a3942adb</td>\n",
       "      <td>944.0</td>\n",
       "      <td>1920.0</td>\n",
       "    </tr>\n",
       "    <tr>\n",
       "      <th>458</th>\n",
       "      <td>nextButton</td>\n",
       "      <td>59546.7</td>\n",
       "      <td>click</td>\n",
       "      <td>TestSchwer</td>\n",
       "      <td>2022-10-17 13:39:07.740</td>\n",
       "      <td>634.657848</td>\n",
       "      <td>460.161082</td>\n",
       "      <td>1ff12350-5d06-5a07-9f0d-96a9a3942adb</td>\n",
       "      <td>944.0</td>\n",
       "      <td>1920.0</td>\n",
       "    </tr>\n",
       "    <tr>\n",
       "      <th>489</th>\n",
       "      <td>window</td>\n",
       "      <td>71937.0</td>\n",
       "      <td>blur</td>\n",
       "      <td>TestSchwer</td>\n",
       "      <td>2022-10-17 13:39:20.129</td>\n",
       "      <td>634.657848</td>\n",
       "      <td>460.161082</td>\n",
       "      <td>1ff12350-5d06-5a07-9f0d-96a9a3942adb</td>\n",
       "      <td>944.0</td>\n",
       "      <td>1920.0</td>\n",
       "    </tr>\n",
       "  </tbody>\n",
       "</table>\n",
       "</div>"
      ],
      "text/plain": [
       "      elementId  timeStamp   type    siteName                    date  \\\n",
       "365      window     1393.7   blur  TestSchwer 2022-10-17 13:38:09.616   \n",
       "366      window    10036.7  focus  TestSchwer 2022-10-17 13:38:18.235   \n",
       "389  nextButton    42607.6  click  TestSchwer 2022-10-17 13:38:50.803   \n",
       "458  nextButton    59546.7  click  TestSchwer 2022-10-17 13:39:07.740   \n",
       "489      window    71937.0   blur  TestSchwer 2022-10-17 13:39:20.129   \n",
       "\n",
       "        clientX     clientY                               session  height  \\\n",
       "365  634.657848  460.161082  1ff12350-5d06-5a07-9f0d-96a9a3942adb   944.0   \n",
       "366  634.657848  460.161082  1ff12350-5d06-5a07-9f0d-96a9a3942adb   944.0   \n",
       "389  634.657848  460.161082  1ff12350-5d06-5a07-9f0d-96a9a3942adb   944.0   \n",
       "458  634.657848  460.161082  1ff12350-5d06-5a07-9f0d-96a9a3942adb   944.0   \n",
       "489  634.657848  460.161082  1ff12350-5d06-5a07-9f0d-96a9a3942adb   944.0   \n",
       "\n",
       "      width  \n",
       "365  1920.0  \n",
       "366  1920.0  \n",
       "389  1920.0  \n",
       "458  1920.0  \n",
       "489  1920.0  "
      ]
     },
     "execution_count": 881,
     "metadata": {},
     "output_type": "execute_result"
    }
   ],
   "source": [
    "df_schwer_final.head()"
   ]
  },
  {
   "cell_type": "code",
   "execution_count": 882,
   "metadata": {},
   "outputs": [],
   "source": [
    "df_concat_data = pd.concat([df_einfach_final, df_schwer_final])"
   ]
  },
  {
   "cell_type": "code",
   "execution_count": 883,
   "metadata": {},
   "outputs": [
    {
     "name": "stderr",
     "output_type": "stream",
     "text": [
      "/Users/ingaglotzbach/opt/anaconda3/lib/python3.8/site-packages/seaborn/distributions.py:238: FutureWarning: In a future version, `df.iloc[:, i] = newvals` will attempt to set the values inplace instead of always setting a new array. To retain the old behavior, use either `df[df.columns[i]] = newvals` or, if columns are non-unique, `df.isetitem(i, newvals)`\n",
      "  curves.iloc[:, cols] = (curves\n",
      "/Users/ingaglotzbach/opt/anaconda3/lib/python3.8/site-packages/seaborn/distributions.py:243: FutureWarning: In a future version, `df.iloc[:, i] = newvals` will attempt to set the values inplace instead of always setting a new array. To retain the old behavior, use either `df[df.columns[i]] = newvals` or, if columns are non-unique, `df.isetitem(i, newvals)`\n",
      "  baselines.iloc[:, cols] = (curves\n"
     ]
    },
    {
     "data": {
      "text/plain": [
       "<Figure size 720x432 with 0 Axes>"
      ]
     },
     "metadata": {},
     "output_type": "display_data"
    },
    {
     "data": {
      "image/png": "[encoded data removed]",
      "text/plain": [
       "<Figure size 511.25x360 with 1 Axes>"
      ]
     },
     "metadata": {
      "needs_background": "light"
     },
     "output_type": "display_data"
    }
   ],
   "source": [
    "#test if something is missing \n",
    "plt.figure(figsize=(10,6))\n",
    "sns.displot(\n",
    "    data=df_concat_data.isna().melt(value_name=\"missing\"),\n",
    "    y=\"variable\",\n",
    "    hue=\"missing\",\n",
    "    multiple=\"fill\",\n",
    "    aspect=1.25\n",
    ")\n",
    "plt.savefig(\"visualizing_missing_data_with_barplot_Seaborn_distplot.png\", dpi=100)"
   ]
  },
  {
   "cell_type": "code",
   "execution_count": 884,
   "metadata": {},
   "outputs": [
    {
     "data": {
      "text/plain": [
       "c84ddb60-e23a-cd84-ab83-ba030d4c4a73    39\n",
       "5db6c1c8-a5d3-37a1-848e-71c29c4dd002    27\n",
       "ce22d53f-16a7-8e19-de32-641cffee9cae    25\n",
       "f3a6d5da-7857-ab9a-bcaf-ffa678540500    13\n",
       "c9f551e4-927d-b2bf-aa77-6c49231d51df    10\n",
       "                                        ..\n",
       "f4fd1505-cec6-5f69-18de-bceac07666e6     2\n",
       "d6e55e9b-a662-53a8-a261-4a0a362e30c3     1\n",
       "06d4d87e-940f-973f-a09f-74fff7d0b83a     1\n",
       "b66c82e2-5869-5ecc-0d81-1c7d55671ec8     1\n",
       "cde8b105-35ba-2b75-2f62-7d2d538c9dca     1\n",
       "Name: session, Length: 22, dtype: int64"
      ]
     },
     "execution_count": 884,
     "metadata": {},
     "output_type": "execute_result"
    }
   ],
   "source": [
    "array_session_einfach = ['f3a6d5da-7857-ab9a-bcaf-ffa678540500', '0eb0e508-a337-0a7e-490d-5bb67ea8605a', '7e78ac93-8a2f-39d2-26a1-c41c7804b2e2', 'c9f551e4-927d-b2bf-aa77-6c49231d51df', 'edeac185-2198-1a32-1bf4-dd0816811064', 'd6e55e9b-a662-53a8-a261-4a0a362e30c3', '06d4d87e-940f-973f-a09f-74fff7d0b83a', '8abf06f5-52ae-6b8a-2203-b8e5967621d3', '51f4db5a-4b60-df29-b773-12ad99d4781e', '0a0fdcc9-ebf8-371b-40bf-efe88d97e22e', 'f4fd1505-cec6-5f69-18de-bceac07666e6', 'c84ddb60-e23a-cd84-ab83-ba030d4c4a73', 'fba8ac2f-02c2-130b-254f-3bcebe67d451', 'f090c908-bb4c-fdca-942d-6ae02b4019b0', '62c1e7a3-3ae8-ea78-a6fa-5b0c8e6a4b90', 'a8edf9d6-fb31-5690-e4be-3fa68ae2ff4a', 'ce22d53f-16a7-8e19-de32-641cffee9cae', 'c2fccaf4-aa23-d3bb-291b-2ce8e083512a', 'cde8b105-35ba-2b75-2f62-7d2d538c9dca', '047b635d-224e-f897-c995-3a9cac2df78a', '5db6c1c8-a5d3-37a1-848e-71c29c4dd002', 'b66c82e2-5869-5ecc-0d81-1c7d55671ec8', '7fe95a48-d9bd-2059-b731-0da1e54a4618']\n",
    "df_click_einfach = df_einfach[df_einfach['session'].isin(array_session_einfach)]\n",
    "\n",
    "#df_click_einfach['session'].value_counts()\n",
    "\n",
    "df_click_einfach.loc[df_click_einfach['elementId'] == 'inputEasyQuestion']\n",
    "df_click_einfach.sort_values(['session', 'timeStamp'])\n",
    "df_sroll = df_click_einfach.loc[df_click_einfach[\"type\"] !=\"scroll\"]\n",
    "\n",
    "df_sroll['session'].value_counts()\n",
    "\n",
    "\n",
    "# df_click_einfach.sort_values(['session', 'timeStamp'])\n",
    "# df = df_click_einfach.loc[df_click_einfach['elementId'] == 'inputEasyQuestion']"
   ]
  },
  {
   "cell_type": "code",
   "execution_count": 885,
   "metadata": {},
   "outputs": [
    {
     "data": {
      "text/plain": [
       "544    197\n",
       "985     86\n",
       "337     76\n",
       "365     72\n",
       "650     63\n",
       "      ... \n",
       "744      4\n",
       "691      4\n",
       "631      4\n",
       "468      2\n",
       "904      1\n",
       "Name: session, Length: 44, dtype: int64"
      ]
     },
     "execution_count": 885,
     "metadata": {},
     "output_type": "execute_result"
    }
   ],
   "source": [
    "schwero = pd.read_pickle('CleanedDataWithIds.pkl')\n",
    "\n",
    "schwer = schwero.loc[schwero['siteName'] == 'TestSchwer']\n",
    "schwer_click = schwer.loc[schwer['elementId'] == 'clickHere']\n",
    "schwer_nextButton = schwer.loc[schwer['elementId'] == 'nextButton']\n",
    "schwer_key = schwer.loc[schwer['type'] == 'keydown']\n",
    "\n",
    "#schwer_click['session'].value_counts()\n",
    "#schwer_nextButton['session'].value_counts()\n",
    "schwer_key['session'].value_counts()\n",
    "\n"
   ]
  },
  {
   "cell_type": "code",
   "execution_count": 886,
   "metadata": {},
   "outputs": [
    {
     "data": {
      "text/plain": [
       "91"
      ]
     },
     "execution_count": 886,
     "metadata": {},
     "output_type": "execute_result"
    }
   ],
   "source": [
    "einfach = schwero.loc[schwero['siteName'] == 'TestEinfach']\n",
    "einfach_key = einfach.loc[einfach['type'] == 'keydown']\n",
    "\n",
    "einfach_key['session'].count()"
   ]
  },
  {
   "cell_type": "code",
   "execution_count": 887,
   "metadata": {},
   "outputs": [],
   "source": [
    "df_data_without_scroll = pd.concat([df_einfach_final, df_schwer_final])\n",
    "df_data_without_scroll = df_data_without_scroll.loc[df_data_without_scroll[\"type\"] !=\"scroll\"]\n",
    "df_tmp = shuffle(df_data_without_scroll)\n",
    "#df_tmp.to_pickle('CleanedDataWithoutChange.pkl')"
   ]
  },
  {
   "cell_type": "code",
   "execution_count": 888,
   "metadata": {},
   "outputs": [
    {
     "name": "stderr",
     "output_type": "stream",
     "text": [
      "/Users/ingaglotzbach/opt/anaconda3/lib/python3.8/site-packages/seaborn/distributions.py:238: FutureWarning: In a future version, `df.iloc[:, i] = newvals` will attempt to set the values inplace instead of always setting a new array. To retain the old behavior, use either `df[df.columns[i]] = newvals` or, if columns are non-unique, `df.isetitem(i, newvals)`\n",
      "  curves.iloc[:, cols] = (curves\n",
      "/Users/ingaglotzbach/opt/anaconda3/lib/python3.8/site-packages/seaborn/distributions.py:243: FutureWarning: In a future version, `df.iloc[:, i] = newvals` will attempt to set the values inplace instead of always setting a new array. To retain the old behavior, use either `df[df.columns[i]] = newvals` or, if columns are non-unique, `df.isetitem(i, newvals)`\n",
      "  baselines.iloc[:, cols] = (curves\n"
     ]
    },
    {
     "data": {
      "text/plain": [
       "<Figure size 720x432 with 0 Axes>"
      ]
     },
     "metadata": {},
     "output_type": "display_data"
    },
    {
     "data": {
      "image/png": "[encoded data removed]",
      "text/plain": [
       "<Figure size 511.25x360 with 1 Axes>"
      ]
     },
     "metadata": {
      "needs_background": "light"
     },
     "output_type": "display_data"
    }
   ],
   "source": [
    "plt.figure(figsize=(10,6))\n",
    "sns.displot(\n",
    "    data=df_data_without_scroll.isna().melt(value_name=\"missing\"),\n",
    "    y=\"variable\",\n",
    "    hue=\"missing\",\n",
    "    multiple=\"fill\",\n",
    "    aspect=1.25\n",
    ")\n",
    "plt.savefig(\"visualizing_missing_data_with_barplot_Seaborn_distplot.png\", dpi=100)"
   ]
  },
  {
   "cell_type": "code",
   "execution_count": 889,
   "metadata": {},
   "outputs": [
    {
     "data": {
      "text/plain": [
       "mouseover    380\n",
       "mouseout     379\n",
       "blur         375\n",
       "focus        374\n",
       "keydown       91\n",
       "click          4\n",
       "Name: type, dtype: int64"
      ]
     },
     "execution_count": 889,
     "metadata": {},
     "output_type": "execute_result"
    }
   ],
   "source": [
    "df_einfach_final['type'].value_counts()"
   ]
  },
  {
   "cell_type": "code",
   "execution_count": 890,
   "metadata": {},
   "outputs": [
    {
     "data": {
      "text/plain": [
       "Text(0.5, 1.0, 'Counts for Types')"
      ]
     },
     "execution_count": 890,
     "metadata": {},
     "output_type": "execute_result"
    },
    {
     "data": {
      "image/png": "[encoded data removed]",
      "text/plain": [
       "<Figure size 648x504 with 1 Axes>"
      ]
     },
     "metadata": {
      "needs_background": "light"
     },
     "output_type": "display_data"
    }
   ],
   "source": [
    "#count of easy\n",
    "# Figure size\n",
    "plt.figure(figsize=(9,7))\n",
    "# Count plot\n",
    "ax = sns.countplot(x = 'type', data = df_einfach_final, palette=\"coolwarm_r\")\n",
    "# Add title\n",
    "plt.title('Counts for Types', fontsize=18)"
   ]
  },
  {
   "cell_type": "code",
   "execution_count": 891,
   "metadata": {},
   "outputs": [
    {
     "data": {
      "text/plain": [
       "mouseover    1706\n",
       "mouseout     1696\n",
       "keydown      1222\n",
       "blur         1028\n",
       "focus        1002\n",
       "click         625\n",
       "Name: type, dtype: int64"
      ]
     },
     "execution_count": 891,
     "metadata": {},
     "output_type": "execute_result"
    }
   ],
   "source": [
    "df_schwer_final['type'].value_counts()"
   ]
  },
  {
   "cell_type": "code",
   "execution_count": 892,
   "metadata": {},
   "outputs": [
    {
     "data": {
      "text/plain": [
       "Text(0.5, 1.0, 'Counts for Types')"
      ]
     },
     "execution_count": 892,
     "metadata": {},
     "output_type": "execute_result"
    },
    {
     "data": {
      "image/png": "[encoded data removed]",
      "text/plain": [
       "<Figure size 648x504 with 1 Axes>"
      ]
     },
     "metadata": {
      "needs_background": "light"
     },
     "output_type": "display_data"
    }
   ],
   "source": [
    "#count of easy\n",
    "# Figure size\n",
    "plt.figure(figsize=(9,7))\n",
    "# Count plot\n",
    "ax = sns.countplot(x = 'type', data = df_schwer_final, palette=\"coolwarm_r\")\n",
    "# Add title\n",
    "plt.title('Counts for Types', fontsize=18)"
   ]
  },
  {
   "cell_type": "code",
   "execution_count": 893,
   "metadata": {},
   "outputs": [],
   "source": [
    "df_schwer_final = df_schwer_final.loc[df_schwer_final[\"type\"] !=\"scroll\"]\n",
    "df_einfach_final = df_einfach_final.loc[df_einfach_final[\"type\"] !=\"scroll\"]"
   ]
  },
  {
   "cell_type": "code",
   "execution_count": 894,
   "metadata": {},
   "outputs": [],
   "source": [
    "# df2 = df_einfach_final.sort_values(['session', 'date'],\n",
    "#               ascending = [True, True])"
   ]
  },
  {
   "cell_type": "code",
   "execution_count": 895,
   "metadata": {},
   "outputs": [],
   "source": [
    "# print(len(df_einfach_final))\n",
    "# print(len(df_schwer_final))\n",
    "\n",
    "# df_einfach_final['type'].value_counts()\n"
   ]
  },
  {
   "cell_type": "code",
   "execution_count": 896,
   "metadata": {},
   "outputs": [],
   "source": [
    "# df_schwer_final['type'].value_counts()"
   ]
  },
  {
   "cell_type": "code",
   "execution_count": 897,
   "metadata": {},
   "outputs": [],
   "source": [
    "df_data_without_scroll = df_data_without_scroll.loc[df_data_without_scroll[\"type\"] !=\"scroll\"]\n",
    "df_data_without_scroll['siteName'] = df_data_without_scroll['siteName'].replace('TestSchwer', 1)\n",
    "df_data_without_scroll['siteName'] = df_data_without_scroll['siteName'].replace('TestEinfach', 0)"
   ]
  },
  {
   "cell_type": "markdown",
   "metadata": {},
   "source": [
    "### Cleaned Data with other session Ids"
   ]
  },
  {
   "cell_type": "code",
   "execution_count": 898,
   "metadata": {},
   "outputs": [
    {
     "name": "stdout",
     "output_type": "stream",
     "text": [
      "[593, 252, 352, 647]\n"
     ]
    }
   ],
   "source": [
    "# new sessionId \n",
    "import random\n",
    "from random import choice\n",
    "import collections\n",
    "\n",
    "array_of_ids_einfach = df_einfach_final['session'].value_counts().index.tolist()\n",
    "array_of_ids_schwer = df_schwer_final['session'].value_counts().index.tolist()\n",
    "numbers_schwer = []\n",
    "\n",
    "random_numbers_ids_einfach = random.sample(range(101,1000), len(array_of_ids_einfach))\n",
    "for i in range(len(random_numbers_ids_einfach)):\n",
    "    random_numbers_ids_schwer = random.choice([i for i in range(101, 1000) if i not in random_numbers_ids_einfach])\n",
    "    numbers_schwer.append(random_numbers_ids_schwer)\n",
    "\n",
    "numbers = random_numbers_ids_einfach + numbers_schwer\n",
    "\n",
    "df_einfach_final['session'] = df_einfach_final['session'].replace(array_of_ids_einfach, random_numbers_ids_einfach)\n",
    "df_schwer_final['session'] = df_schwer_final['session'].replace(array_of_ids_schwer, numbers_schwer)\n",
    "\n",
    "print([item for item, count in collections.Counter(numbers).items() if count > 1])"
   ]
  },
  {
   "cell_type": "code",
   "execution_count": 899,
   "metadata": {},
   "outputs": [],
   "source": [
    "df_new_ids = pd.concat([df_einfach_final, df_schwer_final])"
   ]
  },
  {
   "cell_type": "code",
   "execution_count": 900,
   "metadata": {},
   "outputs": [],
   "source": [
    "#df_new_ids.to_pickle('CleanedDataWithIds.pkl')"
   ]
  },
  {
   "cell_type": "code",
   "execution_count": 901,
   "metadata": {},
   "outputs": [
    {
     "name": "stdout",
     "output_type": "stream",
     "text": [
      "0.9.1\n"
     ]
    }
   ],
   "source": [
    "import imblearn\n",
    "print(imblearn.__version__)"
   ]
  },
  {
   "cell_type": "code",
   "execution_count": 902,
   "metadata": {},
   "outputs": [],
   "source": [
    "df_sessions = pd.read_pickle('SortedBySessions.pkl')"
   ]
  },
  {
   "cell_type": "code",
   "execution_count": 903,
   "metadata": {},
   "outputs": [
    {
     "data": {
      "text/html": [
       "<div>\n",
       "<style scoped>\n",
       "    .dataframe tbody tr th:only-of-type {\n",
       "        vertical-align: middle;\n",
       "    }\n",
       "\n",
       "    .dataframe tbody tr th {\n",
       "        vertical-align: top;\n",
       "    }\n",
       "\n",
       "    .dataframe thead th {\n",
       "        text-align: right;\n",
       "    }\n",
       "</style>\n",
       "<table border=\"1\" class=\"dataframe\">\n",
       "  <thead>\n",
       "    <tr style=\"text-align: right;\">\n",
       "      <th></th>\n",
       "      <th>session</th>\n",
       "      <th>count_mouseover</th>\n",
       "      <th>count_mouseout</th>\n",
       "      <th>count_click</th>\n",
       "      <th>count_blur</th>\n",
       "      <th>count_focus</th>\n",
       "      <th>count_keydown</th>\n",
       "      <th>duration</th>\n",
       "      <th>height</th>\n",
       "      <th>width</th>\n",
       "      <th>siteName</th>\n",
       "    </tr>\n",
       "  </thead>\n",
       "  <tbody>\n",
       "    <tr>\n",
       "      <th>0</th>\n",
       "      <td>517</td>\n",
       "      <td>13</td>\n",
       "      <td>13</td>\n",
       "      <td>4</td>\n",
       "      <td>23</td>\n",
       "      <td>22</td>\n",
       "      <td>9</td>\n",
       "      <td>528.129</td>\n",
       "      <td>661</td>\n",
       "      <td>360</td>\n",
       "      <td>TestSchwer</td>\n",
       "    </tr>\n",
       "    <tr>\n",
       "      <th>1</th>\n",
       "      <td>534</td>\n",
       "      <td>5</td>\n",
       "      <td>5</td>\n",
       "      <td>0</td>\n",
       "      <td>6</td>\n",
       "      <td>6</td>\n",
       "      <td>2</td>\n",
       "      <td>12.241</td>\n",
       "      <td>664</td>\n",
       "      <td>390</td>\n",
       "      <td>TestEinfach</td>\n",
       "    </tr>\n",
       "    <tr>\n",
       "      <th>3</th>\n",
       "      <td>543</td>\n",
       "      <td>6</td>\n",
       "      <td>6</td>\n",
       "      <td>0</td>\n",
       "      <td>6</td>\n",
       "      <td>6</td>\n",
       "      <td>4</td>\n",
       "      <td>19.673</td>\n",
       "      <td>669</td>\n",
       "      <td>390</td>\n",
       "      <td>TestEinfach</td>\n",
       "    </tr>\n",
       "    <tr>\n",
       "      <th>4</th>\n",
       "      <td>544</td>\n",
       "      <td>256</td>\n",
       "      <td>256</td>\n",
       "      <td>33</td>\n",
       "      <td>117</td>\n",
       "      <td>116</td>\n",
       "      <td>197</td>\n",
       "      <td>1270.171</td>\n",
       "      <td>962</td>\n",
       "      <td>1724</td>\n",
       "      <td>TestSchwer</td>\n",
       "    </tr>\n",
       "    <tr>\n",
       "      <th>5</th>\n",
       "      <td>546</td>\n",
       "      <td>32</td>\n",
       "      <td>32</td>\n",
       "      <td>7</td>\n",
       "      <td>26</td>\n",
       "      <td>28</td>\n",
       "      <td>27</td>\n",
       "      <td>135.360</td>\n",
       "      <td>1312</td>\n",
       "      <td>1479</td>\n",
       "      <td>TestSchwer</td>\n",
       "    </tr>\n",
       "  </tbody>\n",
       "</table>\n",
       "</div>"
      ],
      "text/plain": [
       "   session  count_mouseover  count_mouseout  count_click  count_blur  \\\n",
       "0      517               13              13            4          23   \n",
       "1      534                5               5            0           6   \n",
       "3      543                6               6            0           6   \n",
       "4      544              256             256           33         117   \n",
       "5      546               32              32            7          26   \n",
       "\n",
       "   count_focus  count_keydown  duration height width     siteName  \n",
       "0           22              9   528.129    661   360   TestSchwer  \n",
       "1            6              2    12.241    664   390  TestEinfach  \n",
       "3            6              4    19.673    669   390  TestEinfach  \n",
       "4          116            197  1270.171    962  1724   TestSchwer  \n",
       "5           28             27   135.360   1312  1479   TestSchwer  "
      ]
     },
     "execution_count": 903,
     "metadata": {},
     "output_type": "execute_result"
    }
   ],
   "source": [
    "df_sessions.head()"
   ]
  },
  {
   "cell_type": "code",
   "execution_count": 904,
   "metadata": {},
   "outputs": [],
   "source": [
    "df_cleaned = pd.read_pickle('CleanedDataWithIds.pkl')\n"
   ]
  },
  {
   "cell_type": "code",
   "execution_count": 905,
   "metadata": {},
   "outputs": [],
   "source": [
    "one_hot_encoded_data = pd.get_dummies(df_cleaned, columns = ['elementId', 'type'])"
   ]
  },
  {
   "cell_type": "code",
   "execution_count": 906,
   "metadata": {},
   "outputs": [],
   "source": [
    "# import seaborn as sns\n",
    "# sns.scatterplot(data=df_cleaned, x=\"type\", y=\"timeStamp\", hue=\"siteName\")"
   ]
  },
  {
   "cell_type": "code",
   "execution_count": 907,
   "metadata": {},
   "outputs": [],
   "source": [
    "# sns.scatterplot(data=df_data_without_scroll, x=\"timeStamp\", y=\"type\", hue=\"siteName\")"
   ]
  },
  {
   "cell_type": "code",
   "execution_count": 908,
   "metadata": {},
   "outputs": [],
   "source": [
    "# einfach = df_data_without_scroll.loc[df_data_without_scroll['siteName'] == 0]\n",
    "# schwer = df_data_without_scroll.loc[df_data_without_scroll['siteName'] == 1]"
   ]
  },
  {
   "cell_type": "code",
   "execution_count": 909,
   "metadata": {},
   "outputs": [],
   "source": [
    "# sns.scatterplot(data=df_data_without_scroll, x='timeStamp', y=\"type\", hue=\"siteName\")"
   ]
  },
  {
   "cell_type": "code",
   "execution_count": 910,
   "metadata": {},
   "outputs": [],
   "source": [
    "# plt.figure(figsize=(10,6))\n",
    "# sns.scatterplot(data=df_data_without_scroll, x='timeStamp', y=\"type\", hue=\"siteName\", palette=\"Set2\")"
   ]
  },
  {
   "cell_type": "code",
   "execution_count": 911,
   "metadata": {},
   "outputs": [
    {
     "data": {
      "text/plain": [
       "<bound method NDFrame.head of      session  count_mouseover  count_mouseout  count_click  count_blur  \\\n",
       "0        517               13              13            4          23   \n",
       "1        534                5               5            0           6   \n",
       "3        543                6               6            0           6   \n",
       "4        544              256             256           33         117   \n",
       "5        546               32              32            7          26   \n",
       "..       ...              ...             ...          ...         ...   \n",
       "124      985               27              26           18          38   \n",
       "125      474               15              15            0           6   \n",
       "127      479               14              14            2          14   \n",
       "128      998                6               6            0           6   \n",
       "129      488              104             104           23          44   \n",
       "\n",
       "     count_focus  count_keydown  duration height width     siteName  \n",
       "0             22              9   528.129    661   360   TestSchwer  \n",
       "1              6              2    12.241    664   390  TestEinfach  \n",
       "3              6              4    19.673    669   390  TestEinfach  \n",
       "4            116            197  1270.171    962  1724   TestSchwer  \n",
       "5             28             27   135.360   1312  1479   TestSchwer  \n",
       "..           ...            ...       ...    ...   ...          ...  \n",
       "124           37             86  1049.317    827   412   TestSchwer  \n",
       "125            6              0    23.514   1304  2117  TestEinfach  \n",
       "127           14             11   287.571    856  1680   TestSchwer  \n",
       "128            6              1    21.957    620   360  TestEinfach  \n",
       "129           44             53   572.328   1328  2560   TestSchwer  \n",
       "\n",
       "[114 rows x 11 columns]>"
      ]
     },
     "execution_count": 911,
     "metadata": {},
     "output_type": "execute_result"
    }
   ],
   "source": [
    "df_sessions.head"
   ]
  },
  {
   "cell_type": "code",
   "execution_count": 912,
   "metadata": {},
   "outputs": [],
   "source": [
    "df_session_einfach = df_sessions.loc[df_sessions[\"siteName\"] == \"TestEinfach\"]\n",
    "df_session_schwer = df_sessions.loc[df_sessions[\"siteName\"] == \"TestSchwer\"]"
   ]
  },
  {
   "cell_type": "code",
   "execution_count": 913,
   "metadata": {},
   "outputs": [
    {
     "data": {
      "text/html": [
       "<div>\n",
       "<style scoped>\n",
       "    .dataframe tbody tr th:only-of-type {\n",
       "        vertical-align: middle;\n",
       "    }\n",
       "\n",
       "    .dataframe tbody tr th {\n",
       "        vertical-align: top;\n",
       "    }\n",
       "\n",
       "    .dataframe thead th {\n",
       "        text-align: right;\n",
       "    }\n",
       "</style>\n",
       "<table border=\"1\" class=\"dataframe\">\n",
       "  <thead>\n",
       "    <tr style=\"text-align: right;\">\n",
       "      <th></th>\n",
       "      <th>session</th>\n",
       "      <th>count_mouseover</th>\n",
       "      <th>count_mouseout</th>\n",
       "      <th>count_click</th>\n",
       "      <th>count_blur</th>\n",
       "      <th>count_focus</th>\n",
       "      <th>count_keydown</th>\n",
       "      <th>duration</th>\n",
       "    </tr>\n",
       "  </thead>\n",
       "  <tbody>\n",
       "    <tr>\n",
       "      <th>count</th>\n",
       "      <td>57.000000</td>\n",
       "      <td>57.000000</td>\n",
       "      <td>57.000000</td>\n",
       "      <td>57.000000</td>\n",
       "      <td>57.000000</td>\n",
       "      <td>57.000000</td>\n",
       "      <td>57.000000</td>\n",
       "      <td>57.000000</td>\n",
       "    </tr>\n",
       "    <tr>\n",
       "      <th>mean</th>\n",
       "      <td>607.561404</td>\n",
       "      <td>6.070175</td>\n",
       "      <td>6.052632</td>\n",
       "      <td>0.070175</td>\n",
       "      <td>6.228070</td>\n",
       "      <td>6.210526</td>\n",
       "      <td>1.596491</td>\n",
       "      <td>23.239491</td>\n",
       "    </tr>\n",
       "    <tr>\n",
       "      <th>std</th>\n",
       "      <td>257.836120</td>\n",
       "      <td>3.189602</td>\n",
       "      <td>3.203910</td>\n",
       "      <td>0.257713</td>\n",
       "      <td>0.681845</td>\n",
       "      <td>0.647436</td>\n",
       "      <td>2.396870</td>\n",
       "      <td>12.724174</td>\n",
       "    </tr>\n",
       "    <tr>\n",
       "      <th>min</th>\n",
       "      <td>109.000000</td>\n",
       "      <td>1.000000</td>\n",
       "      <td>1.000000</td>\n",
       "      <td>0.000000</td>\n",
       "      <td>4.000000</td>\n",
       "      <td>4.000000</td>\n",
       "      <td>0.000000</td>\n",
       "      <td>8.030000</td>\n",
       "    </tr>\n",
       "    <tr>\n",
       "      <th>25%</th>\n",
       "      <td>390.000000</td>\n",
       "      <td>4.000000</td>\n",
       "      <td>4.000000</td>\n",
       "      <td>0.000000</td>\n",
       "      <td>6.000000</td>\n",
       "      <td>6.000000</td>\n",
       "      <td>0.000000</td>\n",
       "      <td>17.076000</td>\n",
       "    </tr>\n",
       "    <tr>\n",
       "      <th>50%</th>\n",
       "      <td>633.000000</td>\n",
       "      <td>6.000000</td>\n",
       "      <td>6.000000</td>\n",
       "      <td>0.000000</td>\n",
       "      <td>6.000000</td>\n",
       "      <td>6.000000</td>\n",
       "      <td>0.000000</td>\n",
       "      <td>18.556000</td>\n",
       "    </tr>\n",
       "    <tr>\n",
       "      <th>75%</th>\n",
       "      <td>833.000000</td>\n",
       "      <td>6.000000</td>\n",
       "      <td>6.000000</td>\n",
       "      <td>0.000000</td>\n",
       "      <td>6.000000</td>\n",
       "      <td>6.000000</td>\n",
       "      <td>3.000000</td>\n",
       "      <td>25.193000</td>\n",
       "    </tr>\n",
       "    <tr>\n",
       "      <th>max</th>\n",
       "      <td>998.000000</td>\n",
       "      <td>17.000000</td>\n",
       "      <td>17.000000</td>\n",
       "      <td>1.000000</td>\n",
       "      <td>8.000000</td>\n",
       "      <td>8.000000</td>\n",
       "      <td>11.000000</td>\n",
       "      <td>79.181000</td>\n",
       "    </tr>\n",
       "  </tbody>\n",
       "</table>\n",
       "</div>"
      ],
      "text/plain": [
       "          session  count_mouseover  count_mouseout  count_click  count_blur  \\\n",
       "count   57.000000        57.000000       57.000000    57.000000   57.000000   \n",
       "mean   607.561404         6.070175        6.052632     0.070175    6.228070   \n",
       "std    257.836120         3.189602        3.203910     0.257713    0.681845   \n",
       "min    109.000000         1.000000        1.000000     0.000000    4.000000   \n",
       "25%    390.000000         4.000000        4.000000     0.000000    6.000000   \n",
       "50%    633.000000         6.000000        6.000000     0.000000    6.000000   \n",
       "75%    833.000000         6.000000        6.000000     0.000000    6.000000   \n",
       "max    998.000000        17.000000       17.000000     1.000000    8.000000   \n",
       "\n",
       "       count_focus  count_keydown   duration  \n",
       "count    57.000000      57.000000  57.000000  \n",
       "mean      6.210526       1.596491  23.239491  \n",
       "std       0.647436       2.396870  12.724174  \n",
       "min       4.000000       0.000000   8.030000  \n",
       "25%       6.000000       0.000000  17.076000  \n",
       "50%       6.000000       0.000000  18.556000  \n",
       "75%       6.000000       3.000000  25.193000  \n",
       "max       8.000000      11.000000  79.181000  "
      ]
     },
     "execution_count": 913,
     "metadata": {},
     "output_type": "execute_result"
    }
   ],
   "source": [
    "df_session_einfach.describe()"
   ]
  },
  {
   "cell_type": "code",
   "execution_count": 914,
   "metadata": {},
   "outputs": [
    {
     "data": {
      "text/html": [
       "<div>\n",
       "<style scoped>\n",
       "    .dataframe tbody tr th:only-of-type {\n",
       "        vertical-align: middle;\n",
       "    }\n",
       "\n",
       "    .dataframe tbody tr th {\n",
       "        vertical-align: top;\n",
       "    }\n",
       "\n",
       "    .dataframe thead th {\n",
       "        text-align: right;\n",
       "    }\n",
       "</style>\n",
       "<table border=\"1\" class=\"dataframe\">\n",
       "  <thead>\n",
       "    <tr style=\"text-align: right;\">\n",
       "      <th></th>\n",
       "      <th>session</th>\n",
       "      <th>count_mouseover</th>\n",
       "      <th>count_mouseout</th>\n",
       "      <th>count_click</th>\n",
       "      <th>count_blur</th>\n",
       "      <th>count_focus</th>\n",
       "      <th>count_keydown</th>\n",
       "      <th>duration</th>\n",
       "    </tr>\n",
       "  </thead>\n",
       "  <tbody>\n",
       "    <tr>\n",
       "      <th>count</th>\n",
       "      <td>57.000000</td>\n",
       "      <td>57.000000</td>\n",
       "      <td>57.000000</td>\n",
       "      <td>57.000000</td>\n",
       "      <td>57.000000</td>\n",
       "      <td>57.000000</td>\n",
       "      <td>57.000000</td>\n",
       "      <td>57.000000</td>\n",
       "    </tr>\n",
       "    <tr>\n",
       "      <th>mean</th>\n",
       "      <td>549.508772</td>\n",
       "      <td>28.719298</td>\n",
       "      <td>28.543860</td>\n",
       "      <td>8.228070</td>\n",
       "      <td>17.263158</td>\n",
       "      <td>16.877193</td>\n",
       "      <td>21.245614</td>\n",
       "      <td>271.991123</td>\n",
       "    </tr>\n",
       "    <tr>\n",
       "      <th>std</th>\n",
       "      <td>265.732688</td>\n",
       "      <td>39.630325</td>\n",
       "      <td>39.729024</td>\n",
       "      <td>11.602059</td>\n",
       "      <td>17.621544</td>\n",
       "      <td>17.625134</td>\n",
       "      <td>32.214837</td>\n",
       "      <td>297.877191</td>\n",
       "    </tr>\n",
       "    <tr>\n",
       "      <th>min</th>\n",
       "      <td>128.000000</td>\n",
       "      <td>1.000000</td>\n",
       "      <td>0.000000</td>\n",
       "      <td>0.000000</td>\n",
       "      <td>1.000000</td>\n",
       "      <td>1.000000</td>\n",
       "      <td>0.000000</td>\n",
       "      <td>8.900000</td>\n",
       "    </tr>\n",
       "    <tr>\n",
       "      <th>25%</th>\n",
       "      <td>337.000000</td>\n",
       "      <td>8.000000</td>\n",
       "      <td>7.000000</td>\n",
       "      <td>1.000000</td>\n",
       "      <td>7.000000</td>\n",
       "      <td>6.000000</td>\n",
       "      <td>0.000000</td>\n",
       "      <td>78.159000</td>\n",
       "    </tr>\n",
       "    <tr>\n",
       "      <th>50%</th>\n",
       "      <td>544.000000</td>\n",
       "      <td>17.000000</td>\n",
       "      <td>17.000000</td>\n",
       "      <td>4.000000</td>\n",
       "      <td>14.000000</td>\n",
       "      <td>14.000000</td>\n",
       "      <td>7.000000</td>\n",
       "      <td>210.760000</td>\n",
       "    </tr>\n",
       "    <tr>\n",
       "      <th>75%</th>\n",
       "      <td>744.000000</td>\n",
       "      <td>39.000000</td>\n",
       "      <td>39.000000</td>\n",
       "      <td>9.000000</td>\n",
       "      <td>24.000000</td>\n",
       "      <td>23.000000</td>\n",
       "      <td>29.000000</td>\n",
       "      <td>340.030000</td>\n",
       "    </tr>\n",
       "    <tr>\n",
       "      <th>max</th>\n",
       "      <td>985.000000</td>\n",
       "      <td>256.000000</td>\n",
       "      <td>256.000000</td>\n",
       "      <td>63.000000</td>\n",
       "      <td>117.000000</td>\n",
       "      <td>116.000000</td>\n",
       "      <td>197.000000</td>\n",
       "      <td>1623.542000</td>\n",
       "    </tr>\n",
       "  </tbody>\n",
       "</table>\n",
       "</div>"
      ],
      "text/plain": [
       "          session  count_mouseover  count_mouseout  count_click  count_blur  \\\n",
       "count   57.000000        57.000000       57.000000    57.000000   57.000000   \n",
       "mean   549.508772        28.719298       28.543860     8.228070   17.263158   \n",
       "std    265.732688        39.630325       39.729024    11.602059   17.621544   \n",
       "min    128.000000         1.000000        0.000000     0.000000    1.000000   \n",
       "25%    337.000000         8.000000        7.000000     1.000000    7.000000   \n",
       "50%    544.000000        17.000000       17.000000     4.000000   14.000000   \n",
       "75%    744.000000        39.000000       39.000000     9.000000   24.000000   \n",
       "max    985.000000       256.000000      256.000000    63.000000  117.000000   \n",
       "\n",
       "       count_focus  count_keydown     duration  \n",
       "count    57.000000      57.000000    57.000000  \n",
       "mean     16.877193      21.245614   271.991123  \n",
       "std      17.625134      32.214837   297.877191  \n",
       "min       1.000000       0.000000     8.900000  \n",
       "25%       6.000000       0.000000    78.159000  \n",
       "50%      14.000000       7.000000   210.760000  \n",
       "75%      23.000000      29.000000   340.030000  \n",
       "max     116.000000     197.000000  1623.542000  "
      ]
     },
     "execution_count": 914,
     "metadata": {},
     "output_type": "execute_result"
    }
   ],
   "source": [
    "df_session_schwer.describe()"
   ]
  },
  {
   "cell_type": "code",
   "execution_count": 915,
   "metadata": {},
   "outputs": [],
   "source": [
    "# #next Button wurde anscheinend nicht immer übertragen lol --> deswegen müssen wir schauen ob die gleich adresse auf der anderne Seite ist \n",
    "# df_test = df_einfach_final.loc[df_einfach_final['elementId'] == 'nextButton']\n",
    "# print(df_test)"
   ]
  }
 ],
 "metadata": {
  "kernelspec": {
   "display_name": "Python 3.8.5 ('base')",
   "language": "python",
   "name": "python3"
  },
  "language_info": {
   "codemirror_mode": {
    "name": "ipython",
    "version": 3
   },
   "file_extension": ".py",
   "mimetype": "text/x-python",
   "name": "python",
   "nbconvert_exporter": "python",
   "pygments_lexer": "ipython3",
   "version": "3.8.5"
  },
  "orig_nbformat": 4,
  "vscode": {
   "interpreter": {
    "hash": "72affea882e652da3862626e8de1ded8e3db67911e489535711f40448414c376"
   }
  }
 },
 "nbformat": 4,
 "nbformat_minor": 2
}

{
 "cells": [
  {
   "cell_type": "code",
   "execution_count": 249,
   "metadata": {},
   "outputs": [],
   "source": [
    "## for data\n",
    "import pandas as pd\n",
    "import numpy as np\n",
    "## for plotting\n",
    "import matplotlib.pyplot as plt\n",
    "import seaborn as sns\n",
    "## for statistical tests\n",
    "import scipy\n",
    "import statsmodels.formula.api as smf\n",
    "## for machine learning\n",
    "from sklearn import model_selection, preprocessing, feature_selection, ensemble, linear_model\n",
    "from sklearn.ensemble import GradientBoostingClassifier\n",
    "## for explainer\n",
    "from lime import lime_tabular\n",
    "from sklearn.utils import shuffle\n",
    "from sklearn.preprocessing import StandardScaler\n",
    "from sklearn.model_selection import train_test_split\n"
   ]
  },
  {
   "cell_type": "code",
   "execution_count": 250,
   "metadata": {},
   "outputs": [],
   "source": [
    "df_data = pd.read_pickle('fullCleanedData.pkl')"
   ]
  },
  {
   "cell_type": "code",
   "execution_count": 251,
   "metadata": {},
   "outputs": [],
   "source": [
    "pd.set_option('display.max_columns', None)\n",
    "pd.set_option('display.max_rows', None)"
   ]
  },
  {
   "cell_type": "code",
   "execution_count": 252,
   "metadata": {},
   "outputs": [
    {
     "data": {
      "text/html": [
       "<div>\n",
       "<style scoped>\n",
       "    .dataframe tbody tr th:only-of-type {\n",
       "        vertical-align: middle;\n",
       "    }\n",
       "\n",
       "    .dataframe tbody tr th {\n",
       "        vertical-align: top;\n",
       "    }\n",
       "\n",
       "    .dataframe thead th {\n",
       "        text-align: right;\n",
       "    }\n",
       "</style>\n",
       "<table border=\"1\" class=\"dataframe\">\n",
       "  <thead>\n",
       "    <tr style=\"text-align: right;\">\n",
       "      <th></th>\n",
       "      <th>elementId</th>\n",
       "      <th>timeStamp</th>\n",
       "      <th>type</th>\n",
       "      <th>siteName</th>\n",
       "      <th>clientX</th>\n",
       "      <th>clientY</th>\n",
       "      <th>session</th>\n",
       "      <th>height</th>\n",
       "      <th>width</th>\n",
       "      <th>browser</th>\n",
       "      <th>key</th>\n",
       "      <th>sitename</th>\n",
       "      <th>real_date</th>\n",
       "    </tr>\n",
       "  </thead>\n",
       "  <tbody>\n",
       "    <tr>\n",
       "      <th>31206</th>\n",
       "      <td>12</td>\n",
       "      <td>0.0</td>\n",
       "      <td>514</td>\n",
       "      <td>TestEinfach</td>\n",
       "      <td>614.857006</td>\n",
       "      <td>614.857006</td>\n",
       "      <td>f8b87dd1-ee10-f939-8561-a8622504f872</td>\n",
       "      <td>635.0</td>\n",
       "      <td>375</td>\n",
       "      <td>NaN</td>\n",
       "      <td>Backspace</td>\n",
       "      <td>NaN</td>\n",
       "      <td>4.783890</td>\n",
       "    </tr>\n",
       "    <tr>\n",
       "      <th>26125</th>\n",
       "      <td>11</td>\n",
       "      <td>424832.5</td>\n",
       "      <td>510</td>\n",
       "      <td>TestSchwer</td>\n",
       "      <td>194.000000</td>\n",
       "      <td>194.000000</td>\n",
       "      <td>41f22727-0a74-d41b-d6c2-29936806a037</td>\n",
       "      <td>358.0</td>\n",
       "      <td>360</td>\n",
       "      <td>NaN</td>\n",
       "      <td>NaN</td>\n",
       "      <td>NaN</td>\n",
       "      <td>4.755718</td>\n",
       "    </tr>\n",
       "    <tr>\n",
       "      <th>8443</th>\n",
       "      <td>11</td>\n",
       "      <td>219164.7</td>\n",
       "      <td>514</td>\n",
       "      <td>TestEinfach</td>\n",
       "      <td>614.857006</td>\n",
       "      <td>614.857006</td>\n",
       "      <td>67cc623a-295c-f6e0-67bc-c6f312d942ce</td>\n",
       "      <td>1304.0</td>\n",
       "      <td>2117</td>\n",
       "      <td>NaN</td>\n",
       "      <td>Backspace</td>\n",
       "      <td>NaN</td>\n",
       "      <td>1.701700</td>\n",
       "    </tr>\n",
       "    <tr>\n",
       "      <th>14138</th>\n",
       "      <td>17</td>\n",
       "      <td>94014.0</td>\n",
       "      <td>512</td>\n",
       "      <td>TestSchwer</td>\n",
       "      <td>614.857006</td>\n",
       "      <td>614.857006</td>\n",
       "      <td>36e6c57d-0872-8c05-e643-b2491fe5c9cd</td>\n",
       "      <td>1217.0</td>\n",
       "      <td>1440</td>\n",
       "      <td>Chrome</td>\n",
       "      <td>NaN</td>\n",
       "      <td>TestSchwer</td>\n",
       "      <td>1.937664</td>\n",
       "    </tr>\n",
       "    <tr>\n",
       "      <th>10550</th>\n",
       "      <td>12</td>\n",
       "      <td>976685.0</td>\n",
       "      <td>511</td>\n",
       "      <td>TestSchwer</td>\n",
       "      <td>418.000000</td>\n",
       "      <td>418.000000</td>\n",
       "      <td>90ab4d9b-1f2b-12d8-0607-da60d299f472</td>\n",
       "      <td>866.0</td>\n",
       "      <td>1439</td>\n",
       "      <td>NaN</td>\n",
       "      <td>NaN</td>\n",
       "      <td>NaN</td>\n",
       "      <td>1.714962</td>\n",
       "    </tr>\n",
       "  </tbody>\n",
       "</table>\n",
       "</div>"
      ],
      "text/plain": [
       "       elementId  timeStamp  type     siteName     clientX     clientY  \\\n",
       "31206         12        0.0   514  TestEinfach  614.857006  614.857006   \n",
       "26125         11   424832.5   510   TestSchwer  194.000000  194.000000   \n",
       "8443          11   219164.7   514  TestEinfach  614.857006  614.857006   \n",
       "14138         17    94014.0   512   TestSchwer  614.857006  614.857006   \n",
       "10550         12   976685.0   511   TestSchwer  418.000000  418.000000   \n",
       "\n",
       "                                    session  height width browser        key  \\\n",
       "31206  f8b87dd1-ee10-f939-8561-a8622504f872   635.0   375     NaN  Backspace   \n",
       "26125  41f22727-0a74-d41b-d6c2-29936806a037   358.0   360     NaN        NaN   \n",
       "8443   67cc623a-295c-f6e0-67bc-c6f312d942ce  1304.0  2117     NaN  Backspace   \n",
       "14138  36e6c57d-0872-8c05-e643-b2491fe5c9cd  1217.0  1440  Chrome        NaN   \n",
       "10550  90ab4d9b-1f2b-12d8-0607-da60d299f472   866.0  1439     NaN        NaN   \n",
       "\n",
       "         sitename  real_date  \n",
       "31206         NaN   4.783890  \n",
       "26125         NaN   4.755718  \n",
       "8443          NaN   1.701700  \n",
       "14138  TestSchwer   1.937664  \n",
       "10550         NaN   1.714962  "
      ]
     },
     "execution_count": 252,
     "metadata": {},
     "output_type": "execute_result"
    }
   ],
   "source": [
    "#remove scroll\n",
    "df_data_without_scroll = df_data.loc[df_data[\"type\"] !=\"scroll\"]\n",
    "df_data_without_scroll.head()"
   ]
  },
  {
   "cell_type": "code",
   "execution_count": 253,
   "metadata": {},
   "outputs": [],
   "source": [
    "df_einfach = pd.DataFrame(df_data_without_scroll.loc[df_data_without_scroll['siteName']=='TestEinfach'])\n",
    "df_schwer = pd.DataFrame(df_data_without_scroll.loc[df_data_without_scroll['siteName']=='TestSchwer'])"
   ]
  },
  {
   "cell_type": "code",
   "execution_count": 254,
   "metadata": {},
   "outputs": [
    {
     "data": {
      "text/html": [
       "<div>\n",
       "<style scoped>\n",
       "    .dataframe tbody tr th:only-of-type {\n",
       "        vertical-align: middle;\n",
       "    }\n",
       "\n",
       "    .dataframe tbody tr th {\n",
       "        vertical-align: top;\n",
       "    }\n",
       "\n",
       "    .dataframe thead th {\n",
       "        text-align: right;\n",
       "    }\n",
       "</style>\n",
       "<table border=\"1\" class=\"dataframe\">\n",
       "  <thead>\n",
       "    <tr style=\"text-align: right;\">\n",
       "      <th></th>\n",
       "      <th>elementId</th>\n",
       "      <th>timeStamp</th>\n",
       "      <th>type</th>\n",
       "      <th>siteName</th>\n",
       "      <th>clientX</th>\n",
       "      <th>clientY</th>\n",
       "      <th>session</th>\n",
       "      <th>height</th>\n",
       "      <th>width</th>\n",
       "      <th>browser</th>\n",
       "      <th>key</th>\n",
       "      <th>sitename</th>\n",
       "      <th>real_date</th>\n",
       "    </tr>\n",
       "  </thead>\n",
       "  <tbody>\n",
       "    <tr>\n",
       "      <th>31206</th>\n",
       "      <td>12</td>\n",
       "      <td>0.0</td>\n",
       "      <td>514</td>\n",
       "      <td>TestEinfach</td>\n",
       "      <td>614.857006</td>\n",
       "      <td>614.857006</td>\n",
       "      <td>f8b87dd1-ee10-f939-8561-a8622504f872</td>\n",
       "      <td>635.0</td>\n",
       "      <td>375</td>\n",
       "      <td>NaN</td>\n",
       "      <td>Backspace</td>\n",
       "      <td>NaN</td>\n",
       "      <td>4.783890</td>\n",
       "    </tr>\n",
       "    <tr>\n",
       "      <th>8443</th>\n",
       "      <td>11</td>\n",
       "      <td>219164.7</td>\n",
       "      <td>514</td>\n",
       "      <td>TestEinfach</td>\n",
       "      <td>614.857006</td>\n",
       "      <td>614.857006</td>\n",
       "      <td>67cc623a-295c-f6e0-67bc-c6f312d942ce</td>\n",
       "      <td>1304.0</td>\n",
       "      <td>2117</td>\n",
       "      <td>NaN</td>\n",
       "      <td>Backspace</td>\n",
       "      <td>NaN</td>\n",
       "      <td>1.701700</td>\n",
       "    </tr>\n",
       "    <tr>\n",
       "      <th>14701</th>\n",
       "      <td>11</td>\n",
       "      <td>96130.5</td>\n",
       "      <td>514</td>\n",
       "      <td>TestEinfach</td>\n",
       "      <td>614.857006</td>\n",
       "      <td>614.857006</td>\n",
       "      <td>d5c86034-0991-2594-ca59-fa08c4fb3112</td>\n",
       "      <td>1304.0</td>\n",
       "      <td>3440</td>\n",
       "      <td>NaN</td>\n",
       "      <td>Backspace</td>\n",
       "      <td>NaN</td>\n",
       "      <td>1.960783</td>\n",
       "    </tr>\n",
       "    <tr>\n",
       "      <th>9132</th>\n",
       "      <td>12</td>\n",
       "      <td>39193.6</td>\n",
       "      <td>514</td>\n",
       "      <td>TestEinfach</td>\n",
       "      <td>614.857006</td>\n",
       "      <td>614.857006</td>\n",
       "      <td>b0c22fd2-b15b-4344-eaa2-634377cb1ff9</td>\n",
       "      <td>1295.0</td>\n",
       "      <td>2171</td>\n",
       "      <td>NaN</td>\n",
       "      <td>Backspace</td>\n",
       "      <td>NaN</td>\n",
       "      <td>1.705816</td>\n",
       "    </tr>\n",
       "    <tr>\n",
       "      <th>7436</th>\n",
       "      <td>19</td>\n",
       "      <td>994045.5</td>\n",
       "      <td>514</td>\n",
       "      <td>TestEinfach</td>\n",
       "      <td>614.857006</td>\n",
       "      <td>614.857006</td>\n",
       "      <td>69e4a6b4-0c82-f9be-c9d2-ea959fb5ac90</td>\n",
       "      <td>962.0</td>\n",
       "      <td>1724</td>\n",
       "      <td>NaN</td>\n",
       "      <td>Backspace</td>\n",
       "      <td>NaN</td>\n",
       "      <td>1.050133</td>\n",
       "    </tr>\n",
       "  </tbody>\n",
       "</table>\n",
       "</div>"
      ],
      "text/plain": [
       "       elementId  timeStamp  type     siteName     clientX     clientY  \\\n",
       "31206         12        0.0   514  TestEinfach  614.857006  614.857006   \n",
       "8443          11   219164.7   514  TestEinfach  614.857006  614.857006   \n",
       "14701         11    96130.5   514  TestEinfach  614.857006  614.857006   \n",
       "9132          12    39193.6   514  TestEinfach  614.857006  614.857006   \n",
       "7436          19   994045.5   514  TestEinfach  614.857006  614.857006   \n",
       "\n",
       "                                    session  height width browser        key  \\\n",
       "31206  f8b87dd1-ee10-f939-8561-a8622504f872   635.0   375     NaN  Backspace   \n",
       "8443   67cc623a-295c-f6e0-67bc-c6f312d942ce  1304.0  2117     NaN  Backspace   \n",
       "14701  d5c86034-0991-2594-ca59-fa08c4fb3112  1304.0  3440     NaN  Backspace   \n",
       "9132   b0c22fd2-b15b-4344-eaa2-634377cb1ff9  1295.0  2171     NaN  Backspace   \n",
       "7436   69e4a6b4-0c82-f9be-c9d2-ea959fb5ac90   962.0  1724     NaN  Backspace   \n",
       "\n",
       "      sitename  real_date  \n",
       "31206      NaN   4.783890  \n",
       "8443       NaN   1.701700  \n",
       "14701      NaN   1.960783  \n",
       "9132       NaN   1.705816  \n",
       "7436       NaN   1.050133  "
      ]
     },
     "execution_count": 254,
     "metadata": {},
     "output_type": "execute_result"
    }
   ],
   "source": [
    "df_einfach.head()"
   ]
  },
  {
   "cell_type": "code",
   "execution_count": 255,
   "metadata": {},
   "outputs": [
    {
     "name": "stdout",
     "output_type": "stream",
     "text": [
      "[425, 540, 930, 807]\n"
     ]
    }
   ],
   "source": [
    "# new sessionId \n",
    "import random\n",
    "from random import choice\n",
    "import collections\n",
    "\n",
    "array_of_ids_einfach = df_einfach['session'].value_counts().index.tolist()\n",
    "array_of_ids_schwer = df_schwer['session'].value_counts().index.tolist()\n",
    "numbers_schwer = []\n",
    "\n",
    "random_numbers_ids_einfach = random.sample(range(101,1000), len(array_of_ids_einfach))\n",
    "for i in range(len(random_numbers_ids_einfach)):\n",
    "    random_numbers_ids_schwer = random.choice([i for i in range(101, 1000) if i not in random_numbers_ids_einfach])\n",
    "    numbers_schwer.append(random_numbers_ids_schwer)\n",
    "\n",
    "numbers = random_numbers_ids_einfach + numbers_schwer\n",
    "\n",
    "df_einfach['session'] = df_einfach['session'].replace(array_of_ids_einfach, random_numbers_ids_einfach)\n",
    "df_schwer['session'] = df_schwer['session'].replace(array_of_ids_schwer, numbers_schwer)\n",
    "\n",
    "print([item for item, count in collections.Counter(numbers).items() if count > 1])"
   ]
  },
  {
   "cell_type": "code",
   "execution_count": 256,
   "metadata": {},
   "outputs": [],
   "source": [
    "df_data = pd.concat([df_einfach, df_schwer])"
   ]
  },
  {
   "cell_type": "code",
   "execution_count": 257,
   "metadata": {},
   "outputs": [],
   "source": [
    "df_data['siteName'] = df_data['siteName'].replace('TestEinfach', 0)\n",
    "df_data['siteName'] = df_data['siteName'].replace('TestSchwer', 1)"
   ]
  },
  {
   "cell_type": "code",
   "execution_count": 258,
   "metadata": {},
   "outputs": [],
   "source": [
    "df_data = df_data.drop(['sitename', 'key', 'browser', 'elementId'], axis=1)"
   ]
  },
  {
   "cell_type": "code",
   "execution_count": 259,
   "metadata": {},
   "outputs": [],
   "source": [
    "from sklearn.utils import shuffle\n",
    "df_data = shuffle(df_data)"
   ]
  },
  {
   "cell_type": "code",
   "execution_count": 260,
   "metadata": {},
   "outputs": [],
   "source": [
    "df_data.reset_index(inplace=True)"
   ]
  },
  {
   "cell_type": "code",
   "execution_count": 261,
   "metadata": {},
   "outputs": [
    {
     "data": {
      "text/html": [
       "<div>\n",
       "<style scoped>\n",
       "    .dataframe tbody tr th:only-of-type {\n",
       "        vertical-align: middle;\n",
       "    }\n",
       "\n",
       "    .dataframe tbody tr th {\n",
       "        vertical-align: top;\n",
       "    }\n",
       "\n",
       "    .dataframe thead th {\n",
       "        text-align: right;\n",
       "    }\n",
       "</style>\n",
       "<table border=\"1\" class=\"dataframe\">\n",
       "  <thead>\n",
       "    <tr style=\"text-align: right;\">\n",
       "      <th></th>\n",
       "      <th>index</th>\n",
       "      <th>timeStamp</th>\n",
       "      <th>type</th>\n",
       "      <th>siteName</th>\n",
       "      <th>clientX</th>\n",
       "      <th>clientY</th>\n",
       "      <th>session</th>\n",
       "      <th>height</th>\n",
       "      <th>width</th>\n",
       "      <th>real_date</th>\n",
       "    </tr>\n",
       "  </thead>\n",
       "  <tbody>\n",
       "    <tr>\n",
       "      <th>0</th>\n",
       "      <td>14909</td>\n",
       "      <td>142695.1</td>\n",
       "      <td>510</td>\n",
       "      <td>1</td>\n",
       "      <td>683.000000</td>\n",
       "      <td>683.000000</td>\n",
       "      <td>639</td>\n",
       "      <td>878.0</td>\n",
       "      <td>1920</td>\n",
       "      <td>2.003124</td>\n",
       "    </tr>\n",
       "    <tr>\n",
       "      <th>1</th>\n",
       "      <td>16091</td>\n",
       "      <td>96683.0</td>\n",
       "      <td>510</td>\n",
       "      <td>1</td>\n",
       "      <td>491.000000</td>\n",
       "      <td>491.000000</td>\n",
       "      <td>390</td>\n",
       "      <td>877.0</td>\n",
       "      <td>1627</td>\n",
       "      <td>2.112858</td>\n",
       "    </tr>\n",
       "    <tr>\n",
       "      <th>2</th>\n",
       "      <td>12237</td>\n",
       "      <td>335785.0</td>\n",
       "      <td>515</td>\n",
       "      <td>1</td>\n",
       "      <td>614.857006</td>\n",
       "      <td>614.857006</td>\n",
       "      <td>760</td>\n",
       "      <td>967.0</td>\n",
       "      <td>1291</td>\n",
       "      <td>1.728335</td>\n",
       "    </tr>\n",
       "    <tr>\n",
       "      <th>3</th>\n",
       "      <td>9760</td>\n",
       "      <td>97137.0</td>\n",
       "      <td>513</td>\n",
       "      <td>1</td>\n",
       "      <td>614.857006</td>\n",
       "      <td>614.857006</td>\n",
       "      <td>997</td>\n",
       "      <td>975.0</td>\n",
       "      <td>1920</td>\n",
       "      <td>1.710167</td>\n",
       "    </tr>\n",
       "    <tr>\n",
       "      <th>4</th>\n",
       "      <td>9915</td>\n",
       "      <td>265175.0</td>\n",
       "      <td>510</td>\n",
       "      <td>1</td>\n",
       "      <td>1226.000000</td>\n",
       "      <td>1226.000000</td>\n",
       "      <td>997</td>\n",
       "      <td>975.0</td>\n",
       "      <td>1920</td>\n",
       "      <td>1.712114</td>\n",
       "    </tr>\n",
       "  </tbody>\n",
       "</table>\n",
       "</div>"
      ],
      "text/plain": [
       "   index  timeStamp  type  siteName      clientX      clientY  session  \\\n",
       "0  14909   142695.1   510         1   683.000000   683.000000      639   \n",
       "1  16091    96683.0   510         1   491.000000   491.000000      390   \n",
       "2  12237   335785.0   515         1   614.857006   614.857006      760   \n",
       "3   9760    97137.0   513         1   614.857006   614.857006      997   \n",
       "4   9915   265175.0   510         1  1226.000000  1226.000000      997   \n",
       "\n",
       "   height width  real_date  \n",
       "0   878.0  1920   2.003124  \n",
       "1   877.0  1627   2.112858  \n",
       "2   967.0  1291   1.728335  \n",
       "3   975.0  1920   1.710167  \n",
       "4   975.0  1920   1.712114  "
      ]
     },
     "execution_count": 261,
     "metadata": {},
     "output_type": "execute_result"
    }
   ],
   "source": [
    "df_data.head()\n",
    "# Das Ding ist, wir können nicht auf elementId predichten bzw. denen unterschiedliche Nummern geben, weil wir ja schon wissen ob ein Element auf der einen oder anderen Seite ist. Das heißt wir müssen alle elementIds entfernen "
   ]
  },
  {
   "cell_type": "code",
   "execution_count": 262,
   "metadata": {},
   "outputs": [],
   "source": [
    "df_data.to_pickle('modelTrainingDataSet.pkl')"
   ]
  },
  {
   "cell_type": "code",
   "execution_count": 263,
   "metadata": {},
   "outputs": [],
   "source": [
    "dataset = pd.read_pickle('modelTrainingDataSet.pkl')"
   ]
  },
  {
   "cell_type": "code",
   "execution_count": 264,
   "metadata": {},
   "outputs": [],
   "source": [
    "siteName = 'siteName'"
   ]
  },
  {
   "cell_type": "code",
   "execution_count": 265,
   "metadata": {},
   "outputs": [
    {
     "ename": "KeyError",
     "evalue": "\"['elementId'] not found in axis\"",
     "output_type": "error",
     "traceback": [
      "\u001b[0;31m---------------------------------------------------------------------------\u001b[0m",
      "\u001b[0;31mKeyError\u001b[0m                                  Traceback (most recent call last)",
      "\u001b[0;32m<ipython-input-265-bad2ed98f048>\u001b[0m in \u001b[0;36m<module>\u001b[0;34m\u001b[0m\n\u001b[0;32m----> 1\u001b[0;31m \u001b[0mdataset\u001b[0m \u001b[0;34m=\u001b[0m \u001b[0mdataset\u001b[0m\u001b[0;34m.\u001b[0m\u001b[0mdrop\u001b[0m\u001b[0;34m(\u001b[0m\u001b[0;34m[\u001b[0m\u001b[0;34m'elementId'\u001b[0m\u001b[0;34m]\u001b[0m\u001b[0;34m,\u001b[0m \u001b[0maxis\u001b[0m\u001b[0;34m=\u001b[0m\u001b[0;36m1\u001b[0m\u001b[0;34m)\u001b[0m\u001b[0;34m\u001b[0m\u001b[0;34m\u001b[0m\u001b[0m\n\u001b[0m",
      "\u001b[0;32m~/opt/anaconda3/lib/python3.8/site-packages/pandas/util/_decorators.py\u001b[0m in \u001b[0;36mwrapper\u001b[0;34m(*args, **kwargs)\u001b[0m\n\u001b[1;32m    329\u001b[0m                     \u001b[0mstacklevel\u001b[0m\u001b[0;34m=\u001b[0m\u001b[0mfind_stack_level\u001b[0m\u001b[0;34m(\u001b[0m\u001b[0;34m)\u001b[0m\u001b[0;34m,\u001b[0m\u001b[0;34m\u001b[0m\u001b[0;34m\u001b[0m\u001b[0m\n\u001b[1;32m    330\u001b[0m                 )\n\u001b[0;32m--> 331\u001b[0;31m             \u001b[0;32mreturn\u001b[0m \u001b[0mfunc\u001b[0m\u001b[0;34m(\u001b[0m\u001b[0;34m*\u001b[0m\u001b[0margs\u001b[0m\u001b[0;34m,\u001b[0m \u001b[0;34m**\u001b[0m\u001b[0mkwargs\u001b[0m\u001b[0;34m)\u001b[0m\u001b[0;34m\u001b[0m\u001b[0;34m\u001b[0m\u001b[0m\n\u001b[0m\u001b[1;32m    332\u001b[0m \u001b[0;34m\u001b[0m\u001b[0m\n\u001b[1;32m    333\u001b[0m         \u001b[0;31m# error: \"Callable[[VarArg(Any), KwArg(Any)], Any]\" has no\u001b[0m\u001b[0;34m\u001b[0m\u001b[0;34m\u001b[0m\u001b[0;34m\u001b[0m\u001b[0m\n",
      "\u001b[0;32m~/opt/anaconda3/lib/python3.8/site-packages/pandas/core/frame.py\u001b[0m in \u001b[0;36mdrop\u001b[0;34m(self, labels, axis, index, columns, level, inplace, errors)\u001b[0m\n\u001b[1;32m   5394\u001b[0m                 \u001b[0mweight\u001b[0m  \u001b[0;36m1.0\u001b[0m     \u001b[0;36m0.8\u001b[0m\u001b[0;34m\u001b[0m\u001b[0;34m\u001b[0m\u001b[0m\n\u001b[1;32m   5395\u001b[0m         \"\"\"\n\u001b[0;32m-> 5396\u001b[0;31m         return super().drop(\n\u001b[0m\u001b[1;32m   5397\u001b[0m             \u001b[0mlabels\u001b[0m\u001b[0;34m=\u001b[0m\u001b[0mlabels\u001b[0m\u001b[0;34m,\u001b[0m\u001b[0;34m\u001b[0m\u001b[0;34m\u001b[0m\u001b[0m\n\u001b[1;32m   5398\u001b[0m             \u001b[0maxis\u001b[0m\u001b[0;34m=\u001b[0m\u001b[0maxis\u001b[0m\u001b[0;34m,\u001b[0m\u001b[0;34m\u001b[0m\u001b[0;34m\u001b[0m\u001b[0m\n",
      "\u001b[0;32m~/opt/anaconda3/lib/python3.8/site-packages/pandas/util/_decorators.py\u001b[0m in \u001b[0;36mwrapper\u001b[0;34m(*args, **kwargs)\u001b[0m\n\u001b[1;32m    329\u001b[0m                     \u001b[0mstacklevel\u001b[0m\u001b[0;34m=\u001b[0m\u001b[0mfind_stack_level\u001b[0m\u001b[0;34m(\u001b[0m\u001b[0;34m)\u001b[0m\u001b[0;34m,\u001b[0m\u001b[0;34m\u001b[0m\u001b[0;34m\u001b[0m\u001b[0m\n\u001b[1;32m    330\u001b[0m                 )\n\u001b[0;32m--> 331\u001b[0;31m             \u001b[0;32mreturn\u001b[0m \u001b[0mfunc\u001b[0m\u001b[0;34m(\u001b[0m\u001b[0;34m*\u001b[0m\u001b[0margs\u001b[0m\u001b[0;34m,\u001b[0m \u001b[0;34m**\u001b[0m\u001b[0mkwargs\u001b[0m\u001b[0;34m)\u001b[0m\u001b[0;34m\u001b[0m\u001b[0;34m\u001b[0m\u001b[0m\n\u001b[0m\u001b[1;32m    332\u001b[0m \u001b[0;34m\u001b[0m\u001b[0m\n\u001b[1;32m    333\u001b[0m         \u001b[0;31m# error: \"Callable[[VarArg(Any), KwArg(Any)], Any]\" has no\u001b[0m\u001b[0;34m\u001b[0m\u001b[0;34m\u001b[0m\u001b[0;34m\u001b[0m\u001b[0m\n",
      "\u001b[0;32m~/opt/anaconda3/lib/python3.8/site-packages/pandas/core/generic.py\u001b[0m in \u001b[0;36mdrop\u001b[0;34m(self, labels, axis, index, columns, level, inplace, errors)\u001b[0m\n\u001b[1;32m   4503\u001b[0m         \u001b[0;32mfor\u001b[0m \u001b[0maxis\u001b[0m\u001b[0;34m,\u001b[0m \u001b[0mlabels\u001b[0m \u001b[0;32min\u001b[0m \u001b[0maxes\u001b[0m\u001b[0;34m.\u001b[0m\u001b[0mitems\u001b[0m\u001b[0;34m(\u001b[0m\u001b[0;34m)\u001b[0m\u001b[0;34m:\u001b[0m\u001b[0;34m\u001b[0m\u001b[0;34m\u001b[0m\u001b[0m\n\u001b[1;32m   4504\u001b[0m             \u001b[0;32mif\u001b[0m \u001b[0mlabels\u001b[0m \u001b[0;32mis\u001b[0m \u001b[0;32mnot\u001b[0m \u001b[0;32mNone\u001b[0m\u001b[0;34m:\u001b[0m\u001b[0;34m\u001b[0m\u001b[0;34m\u001b[0m\u001b[0m\n\u001b[0;32m-> 4505\u001b[0;31m                 \u001b[0mobj\u001b[0m \u001b[0;34m=\u001b[0m \u001b[0mobj\u001b[0m\u001b[0;34m.\u001b[0m\u001b[0m_drop_axis\u001b[0m\u001b[0;34m(\u001b[0m\u001b[0mlabels\u001b[0m\u001b[0;34m,\u001b[0m \u001b[0maxis\u001b[0m\u001b[0;34m,\u001b[0m \u001b[0mlevel\u001b[0m\u001b[0;34m=\u001b[0m\u001b[0mlevel\u001b[0m\u001b[0;34m,\u001b[0m \u001b[0merrors\u001b[0m\u001b[0;34m=\u001b[0m\u001b[0merrors\u001b[0m\u001b[0;34m)\u001b[0m\u001b[0;34m\u001b[0m\u001b[0;34m\u001b[0m\u001b[0m\n\u001b[0m\u001b[1;32m   4506\u001b[0m \u001b[0;34m\u001b[0m\u001b[0m\n\u001b[1;32m   4507\u001b[0m         \u001b[0;32mif\u001b[0m \u001b[0minplace\u001b[0m\u001b[0;34m:\u001b[0m\u001b[0;34m\u001b[0m\u001b[0;34m\u001b[0m\u001b[0m\n",
      "\u001b[0;32m~/opt/anaconda3/lib/python3.8/site-packages/pandas/core/generic.py\u001b[0m in \u001b[0;36m_drop_axis\u001b[0;34m(self, labels, axis, level, errors, only_slice)\u001b[0m\n\u001b[1;32m   4544\u001b[0m                 \u001b[0mnew_axis\u001b[0m \u001b[0;34m=\u001b[0m \u001b[0maxis\u001b[0m\u001b[0;34m.\u001b[0m\u001b[0mdrop\u001b[0m\u001b[0;34m(\u001b[0m\u001b[0mlabels\u001b[0m\u001b[0;34m,\u001b[0m \u001b[0mlevel\u001b[0m\u001b[0;34m=\u001b[0m\u001b[0mlevel\u001b[0m\u001b[0;34m,\u001b[0m \u001b[0merrors\u001b[0m\u001b[0;34m=\u001b[0m\u001b[0merrors\u001b[0m\u001b[0;34m)\u001b[0m\u001b[0;34m\u001b[0m\u001b[0;34m\u001b[0m\u001b[0m\n\u001b[1;32m   4545\u001b[0m             \u001b[0;32melse\u001b[0m\u001b[0;34m:\u001b[0m\u001b[0;34m\u001b[0m\u001b[0;34m\u001b[0m\u001b[0m\n\u001b[0;32m-> 4546\u001b[0;31m                 \u001b[0mnew_axis\u001b[0m \u001b[0;34m=\u001b[0m \u001b[0maxis\u001b[0m\u001b[0;34m.\u001b[0m\u001b[0mdrop\u001b[0m\u001b[0;34m(\u001b[0m\u001b[0mlabels\u001b[0m\u001b[0;34m,\u001b[0m \u001b[0merrors\u001b[0m\u001b[0;34m=\u001b[0m\u001b[0merrors\u001b[0m\u001b[0;34m)\u001b[0m\u001b[0;34m\u001b[0m\u001b[0;34m\u001b[0m\u001b[0m\n\u001b[0m\u001b[1;32m   4547\u001b[0m             \u001b[0mindexer\u001b[0m \u001b[0;34m=\u001b[0m \u001b[0maxis\u001b[0m\u001b[0;34m.\u001b[0m\u001b[0mget_indexer\u001b[0m\u001b[0;34m(\u001b[0m\u001b[0mnew_axis\u001b[0m\u001b[0;34m)\u001b[0m\u001b[0;34m\u001b[0m\u001b[0;34m\u001b[0m\u001b[0m\n\u001b[1;32m   4548\u001b[0m \u001b[0;34m\u001b[0m\u001b[0m\n",
      "\u001b[0;32m~/opt/anaconda3/lib/python3.8/site-packages/pandas/core/indexes/base.py\u001b[0m in \u001b[0;36mdrop\u001b[0;34m(self, labels, errors)\u001b[0m\n\u001b[1;32m   6975\u001b[0m         \u001b[0;32mif\u001b[0m \u001b[0mmask\u001b[0m\u001b[0;34m.\u001b[0m\u001b[0many\u001b[0m\u001b[0;34m(\u001b[0m\u001b[0;34m)\u001b[0m\u001b[0;34m:\u001b[0m\u001b[0;34m\u001b[0m\u001b[0;34m\u001b[0m\u001b[0m\n\u001b[1;32m   6976\u001b[0m             \u001b[0;32mif\u001b[0m \u001b[0merrors\u001b[0m \u001b[0;34m!=\u001b[0m \u001b[0;34m\"ignore\"\u001b[0m\u001b[0;34m:\u001b[0m\u001b[0;34m\u001b[0m\u001b[0;34m\u001b[0m\u001b[0m\n\u001b[0;32m-> 6977\u001b[0;31m                 \u001b[0;32mraise\u001b[0m \u001b[0mKeyError\u001b[0m\u001b[0;34m(\u001b[0m\u001b[0;34mf\"{list(labels[mask])} not found in axis\"\u001b[0m\u001b[0;34m)\u001b[0m\u001b[0;34m\u001b[0m\u001b[0;34m\u001b[0m\u001b[0m\n\u001b[0m\u001b[1;32m   6978\u001b[0m             \u001b[0mindexer\u001b[0m \u001b[0;34m=\u001b[0m \u001b[0mindexer\u001b[0m\u001b[0;34m[\u001b[0m\u001b[0;34m~\u001b[0m\u001b[0mmask\u001b[0m\u001b[0;34m]\u001b[0m\u001b[0;34m\u001b[0m\u001b[0;34m\u001b[0m\u001b[0m\n\u001b[1;32m   6979\u001b[0m         \u001b[0;32mreturn\u001b[0m \u001b[0mself\u001b[0m\u001b[0;34m.\u001b[0m\u001b[0mdelete\u001b[0m\u001b[0;34m(\u001b[0m\u001b[0mindexer\u001b[0m\u001b[0;34m)\u001b[0m\u001b[0;34m\u001b[0m\u001b[0;34m\u001b[0m\u001b[0m\n",
      "\u001b[0;31mKeyError\u001b[0m: \"['elementId'] not found in axis\""
     ]
    }
   ],
   "source": [
    "dataset = dataset.drop(['elementId'], axis=1)"
   ]
  },
  {
   "cell_type": "code",
   "execution_count": null,
   "metadata": {},
   "outputs": [
    {
     "name": "stdout",
     "output_type": "stream",
     "text": [
      "X_train shape: (6217, 9) | X_test shape: (2665, 9)\n",
      "y_train mean: 0.68 | y_test mean: 0.68\n",
      "10 features: ['index', 'timeStamp', 'type', 'clientX', 'clientY', 'session', 'height', 'width', 'real_date']\n"
     ]
    }
   ],
   "source": [
    "dtf_train, dtf_test = model_selection.train_test_split(dataset,test_size=0.3)## print info\n",
    "print(\"X_train shape:\", dtf_train.drop(\"siteName\",axis=1).shape, \"| X_test shape:\", dtf_test.drop(\"siteName\",axis=1).shape)\n",
    "print(\"y_train mean:\", round(np.mean(dtf_train[\"siteName\"]),2), \"| y_test mean:\", round(np.mean(dtf_test[\"siteName\"]),2))\n",
    "print(dtf_train.shape[1], \"features:\", dtf_train.drop(\"siteName\",axis=1).columns.to_list())\n"
   ]
  },
  {
   "cell_type": "code",
   "execution_count": null,
   "metadata": {},
   "outputs": [],
   "source": [
    "from numpy import array\n",
    "type_array = dtf_train['type']\n",
    "values = array(type_array)"
   ]
  },
  {
   "cell_type": "code",
   "execution_count": null,
   "metadata": {},
   "outputs": [
    {
     "name": "stdout",
     "output_type": "stream",
     "text": [
      "      type  type_511  type_512  type_513  type_514  type_515\n",
      "3121   511         1         0         0         0         0\n",
      "6868   514         0         0         0         1         0\n",
      "3832   510         0         0         0         0         0\n",
      "216    512         0         1         0         0         0\n",
      "6890   514         0         0         0         1         0\n"
     ]
    }
   ],
   "source": [
    "dummy = pd.get_dummies(dtf_train[\"type\"], prefix=\"type\",drop_first=True)\n",
    "dtf_train= pd.concat([dtf_train, dummy], axis=1)\n",
    "print( dtf_train.filter(like=\"type\", axis=1).head())\n",
    "columndtf = dtf_train.drop(\"type\", axis=1)"
   ]
  },
  {
   "cell_type": "code",
   "execution_count": null,
   "metadata": {},
   "outputs": [
    {
     "data": {
      "text/html": [
       "<div>\n",
       "<style scoped>\n",
       "    .dataframe tbody tr th:only-of-type {\n",
       "        vertical-align: middle;\n",
       "    }\n",
       "\n",
       "    .dataframe tbody tr th {\n",
       "        vertical-align: top;\n",
       "    }\n",
       "\n",
       "    .dataframe thead th {\n",
       "        text-align: right;\n",
       "    }\n",
       "</style>\n",
       "<table border=\"1\" class=\"dataframe\">\n",
       "  <thead>\n",
       "    <tr style=\"text-align: right;\">\n",
       "      <th></th>\n",
       "      <th>index</th>\n",
       "      <th>timeStamp</th>\n",
       "      <th>type</th>\n",
       "      <th>clientX</th>\n",
       "      <th>clientY</th>\n",
       "      <th>session</th>\n",
       "      <th>height</th>\n",
       "      <th>width</th>\n",
       "      <th>real_date</th>\n",
       "      <th>type_511</th>\n",
       "      <th>type_512</th>\n",
       "      <th>type_513</th>\n",
       "      <th>type_514</th>\n",
       "      <th>type_515</th>\n",
       "      <th>siteName</th>\n",
       "    </tr>\n",
       "  </thead>\n",
       "  <tbody>\n",
       "    <tr>\n",
       "      <th>3121</th>\n",
       "      <td>0.351351</td>\n",
       "      <td>0.001158</td>\n",
       "      <td>0.2</td>\n",
       "      <td>0.493112</td>\n",
       "      <td>0.493112</td>\n",
       "      <td>0.650901</td>\n",
       "      <td>0.660920</td>\n",
       "      <td>0.363312</td>\n",
       "      <td>0.094016</td>\n",
       "      <td>1.0</td>\n",
       "      <td>0.0</td>\n",
       "      <td>0.0</td>\n",
       "      <td>0.0</td>\n",
       "      <td>0.0</td>\n",
       "      <td>1</td>\n",
       "    </tr>\n",
       "    <tr>\n",
       "      <th>6868</th>\n",
       "      <td>0.773311</td>\n",
       "      <td>0.123893</td>\n",
       "      <td>0.8</td>\n",
       "      <td>0.275467</td>\n",
       "      <td>0.275467</td>\n",
       "      <td>0.331081</td>\n",
       "      <td>0.097701</td>\n",
       "      <td>0.016883</td>\n",
       "      <td>0.460007</td>\n",
       "      <td>0.0</td>\n",
       "      <td>0.0</td>\n",
       "      <td>0.0</td>\n",
       "      <td>1.0</td>\n",
       "      <td>0.0</td>\n",
       "      <td>0</td>\n",
       "    </tr>\n",
       "    <tr>\n",
       "      <th>3832</th>\n",
       "      <td>0.431419</td>\n",
       "      <td>0.013095</td>\n",
       "      <td>0.0</td>\n",
       "      <td>0.265558</td>\n",
       "      <td>0.265558</td>\n",
       "      <td>0.650901</td>\n",
       "      <td>0.660920</td>\n",
       "      <td>0.363312</td>\n",
       "      <td>0.093990</td>\n",
       "      <td>0.0</td>\n",
       "      <td>0.0</td>\n",
       "      <td>0.0</td>\n",
       "      <td>0.0</td>\n",
       "      <td>0.0</td>\n",
       "      <td>1</td>\n",
       "    </tr>\n",
       "    <tr>\n",
       "      <th>216</th>\n",
       "      <td>0.024212</td>\n",
       "      <td>0.004652</td>\n",
       "      <td>0.4</td>\n",
       "      <td>0.275467</td>\n",
       "      <td>0.275467</td>\n",
       "      <td>0.862613</td>\n",
       "      <td>0.383780</td>\n",
       "      <td>0.506494</td>\n",
       "      <td>0.193710</td>\n",
       "      <td>0.0</td>\n",
       "      <td>1.0</td>\n",
       "      <td>0.0</td>\n",
       "      <td>0.0</td>\n",
       "      <td>0.0</td>\n",
       "      <td>1</td>\n",
       "    </tr>\n",
       "    <tr>\n",
       "      <th>6890</th>\n",
       "      <td>0.775788</td>\n",
       "      <td>0.029595</td>\n",
       "      <td>0.8</td>\n",
       "      <td>0.275467</td>\n",
       "      <td>0.275467</td>\n",
       "      <td>0.147523</td>\n",
       "      <td>0.650064</td>\n",
       "      <td>0.587987</td>\n",
       "      <td>0.165234</td>\n",
       "      <td>0.0</td>\n",
       "      <td>0.0</td>\n",
       "      <td>0.0</td>\n",
       "      <td>1.0</td>\n",
       "      <td>0.0</td>\n",
       "      <td>0</td>\n",
       "    </tr>\n",
       "  </tbody>\n",
       "</table>\n",
       "</div>"
      ],
      "text/plain": [
       "         index  timeStamp  type   clientX   clientY   session    height  \\\n",
       "3121  0.351351   0.001158   0.2  0.493112  0.493112  0.650901  0.660920   \n",
       "6868  0.773311   0.123893   0.8  0.275467  0.275467  0.331081  0.097701   \n",
       "3832  0.431419   0.013095   0.0  0.265558  0.265558  0.650901  0.660920   \n",
       "216   0.024212   0.004652   0.4  0.275467  0.275467  0.862613  0.383780   \n",
       "6890  0.775788   0.029595   0.8  0.275467  0.275467  0.147523  0.650064   \n",
       "\n",
       "         width  real_date  type_511  type_512  type_513  type_514  type_515  \\\n",
       "3121  0.363312   0.094016       1.0       0.0       0.0       0.0       0.0   \n",
       "6868  0.016883   0.460007       0.0       0.0       0.0       1.0       0.0   \n",
       "3832  0.363312   0.093990       0.0       0.0       0.0       0.0       0.0   \n",
       "216   0.506494   0.193710       0.0       1.0       0.0       0.0       0.0   \n",
       "6890  0.587987   0.165234       0.0       0.0       0.0       1.0       0.0   \n",
       "\n",
       "      siteName  \n",
       "3121         1  \n",
       "6868         0  \n",
       "3832         1  \n",
       "216          1  \n",
       "6890         0  "
      ]
     },
     "execution_count": 12,
     "metadata": {},
     "output_type": "execute_result"
    }
   ],
   "source": [
    "#die features skalieren bessere Verteilung\n",
    "scaler = preprocessing.MinMaxScaler(feature_range=(0,1))\n",
    "X = scaler.fit_transform(dtf_train.drop(\"siteName\", axis=1))\n",
    "dtf_scaled= pd.DataFrame(X, columns=dtf_train.drop(\"siteName\", axis=1).columns, index=dtf_train.index)\n",
    "dtf_scaled[\"siteName\"] = dtf_train[\"siteName\"]\n",
    "dtf_scaled.head()\n"
   ]
  },
  {
   "cell_type": "code",
   "execution_count": null,
   "metadata": {},
   "outputs": [
    {
     "data": {
      "image/png": "[encoded data removed]",
      "text/plain": [
       "<Figure size 432x288 with 2 Axes>"
      ]
     },
     "metadata": {
      "needs_background": "light"
     },
     "output_type": "display_data"
    }
   ],
   "source": [
    "#die helleren Stellen können interessant sein, da der Pearson Wert recht niedrig ist\n",
    "corr_matrix = dataset.copy()\n",
    "for col in corr_matrix.columns:    \n",
    "    if corr_matrix[col].dtype == \"O\":         \n",
    "        corr_matrix[col] = corr_matrix[col].factorize(sort=True)[0]\n",
    "        corr_matrix = corr_matrix.corr(method=\"pearson\")\n",
    "        sns.heatmap(corr_matrix, vmin=-1., vmax=1., annot=True, fmt='.2f', cmap=\"YlGnBu\", cbar=True, linewidths=0.5)\n",
    "        plt.title(\"pearson correlation\")"
   ]
  },
  {
   "cell_type": "code",
   "execution_count": null,
   "metadata": {},
   "outputs": [],
   "source": [
    "X = dtf_train.drop(\"Y\", axis=1).valuesy = dtf_train[\"Y\"].valuesfeature_names = dtf_train.drop(\"Y\", axis=1).columns.tolist()## Importancemodel = ensemble.RandomForestClassifier(n_estimators=100,                      criterion=\"entropy\", random_state=0)model.fit(X,y)importances = model.feature_importances_## Put in a pandas dtfdtf_importances = pd.DataFrame({\"IMPORTANCE\":importances,             \"VARIABLE\":feature_names}).sort_values(\"IMPORTANCE\",             ascending=False)dtf_importances['cumsum'] =              dtf_importances['IMPORTANCE'].cumsum(axis=0)dtf_importances = dtf_importances.set_index(\"VARIABLE\")    ## Plotfig, ax = plt.subplots(nrows=1, ncols=2, sharex=False, sharey=False)fig.suptitle(\"Features Importance\", fontsize=20)ax[0].title.set_text('variables')    dtf_importances[[\"IMPORTANCE\"]].sort_values(by=\"IMPORTANCE\").plot(                kind=\"barh\", legend=False, ax=ax[0]).grid(axis=\"x\")ax[0].set(ylabel=\"\")ax[1].title.set_text('cumulative')dtf_importances[[\"cumsum\"]].plot(kind=\"line\", linewidth=4,                                  legend=False, ax=ax[1])ax[1].set(xlabel=\"\", xticks=np.arange(len(dtf_importances)),           xticklabels=dtf_importances.index)plt.xticks(rotation=70)plt.grid(axis='both')plt.show()\n"
   ]
  },
  {
   "cell_type": "markdown",
   "metadata": {},
   "source": [
    "### Random Forest"
   ]
  },
  {
   "cell_type": "code",
   "execution_count": null,
   "metadata": {},
   "outputs": [
    {
     "ename": "NameError",
     "evalue": "name 'dataset' is not defined",
     "output_type": "error",
     "traceback": [
      "\u001b[0;31m---------------------------------------------------------------------------\u001b[0m",
      "\u001b[0;31mNameError\u001b[0m                                 Traceback (most recent call last)",
      "\u001b[0;32m<ipython-input-248-bda955a94dab>\u001b[0m in \u001b[0;36m<module>\u001b[0;34m\u001b[0m\n\u001b[1;32m      3\u001b[0m \u001b[0;32mfrom\u001b[0m \u001b[0msklearn\u001b[0m\u001b[0;34m.\u001b[0m\u001b[0mmodel_selection\u001b[0m \u001b[0;32mimport\u001b[0m \u001b[0mtrain_test_split\u001b[0m\u001b[0;34m\u001b[0m\u001b[0;34m\u001b[0m\u001b[0m\n\u001b[1;32m      4\u001b[0m \u001b[0;34m\u001b[0m\u001b[0m\n\u001b[0;32m----> 5\u001b[0;31m \u001b[0mX\u001b[0m \u001b[0;34m=\u001b[0m \u001b[0mdataset\u001b[0m\u001b[0;34m[\u001b[0m\u001b[0;34m[\u001b[0m\u001b[0;34m'type'\u001b[0m\u001b[0;34m,\u001b[0m \u001b[0;34m'timeStamp'\u001b[0m\u001b[0;34m,\u001b[0m\u001b[0;34m'height'\u001b[0m\u001b[0;34m,\u001b[0m \u001b[0;34m'width'\u001b[0m\u001b[0;34m]\u001b[0m\u001b[0;34m]\u001b[0m\u001b[0;34m\u001b[0m\u001b[0;34m\u001b[0m\u001b[0m\n\u001b[0m\u001b[1;32m      6\u001b[0m \u001b[0mY\u001b[0m \u001b[0;34m=\u001b[0m \u001b[0mdataset\u001b[0m\u001b[0;34m[\u001b[0m\u001b[0;34m'siteName'\u001b[0m\u001b[0;34m]\u001b[0m\u001b[0;34m\u001b[0m\u001b[0;34m\u001b[0m\u001b[0m\n\u001b[1;32m      7\u001b[0m \u001b[0;34m\u001b[0m\u001b[0m\n",
      "\u001b[0;31mNameError\u001b[0m: name 'dataset' is not defined"
     ]
    }
   ],
   "source": [
    "import pandas as pd\n",
    "from sklearn.preprocessing import StandardScaler\n",
    "from sklearn.model_selection import train_test_split\n",
    "\n",
    "X = dataset[['type', 'timeStamp','height', 'width']]\n",
    "Y = dataset['siteName']\n",
    "\n",
    "X = StandardScaler().fit_transform(X)\n",
    "\n",
    "X_Train, X_Test, Y_Train, Y_Test = train_test_split(X, Y, test_size = 0.30, \n",
    "                                                    random_state = 42)"
   ]
  },
  {
   "cell_type": "code",
   "execution_count": null,
   "metadata": {},
   "outputs": [],
   "source": [
    "#Import Random Forest Model\n",
    "from sklearn.ensemble import RandomForestClassifier\n",
    "\n",
    "#Create a Gaussian Classifier\n",
    "clf=RandomForestClassifier(n_estimators=100)\n",
    "\n",
    "#Train the model using the training sets y_pred=clf.predict(X_test)\n",
    "clf.fit(X_Train,Y_Train)\n",
    "\n",
    "y_pred=clf.predict(X_Test)"
   ]
  },
  {
   "cell_type": "code",
   "execution_count": null,
   "metadata": {},
   "outputs": [
    {
     "name": "stdout",
     "output_type": "stream",
     "text": [
      "Accuracy: 0.9369606003752345\n"
     ]
    }
   ],
   "source": [
    "#Import scikit-learn metrics module for accuracy calculation\n",
    "from sklearn import metrics\n",
    "# Model Accuracy, how often is the classifier correct?\n",
    "print(\"Accuracy:\",metrics.accuracy_score(Y_Test, y_pred))"
   ]
  },
  {
   "cell_type": "code",
   "execution_count": null,
   "metadata": {},
   "outputs": [
    {
     "data": {
      "text/plain": [
       "array([1])"
      ]
     },
     "execution_count": 18,
     "metadata": {},
     "output_type": "execute_result"
    }
   ],
   "source": [
    "# das ist ja dann eigentlich nur ein Event, das wollen wir ja nicht predicten sondern eine Session\n",
    "clf.predict([[510, 0, 920, 200]])"
   ]
  },
  {
   "cell_type": "markdown",
   "metadata": {},
   "source": []
  },
  {
   "cell_type": "markdown",
   "metadata": {},
   "source": [
    "### SVM"
   ]
  },
  {
   "cell_type": "code",
   "execution_count": null,
   "metadata": {},
   "outputs": [],
   "source": [
    "#Import svm model\n",
    "from sklearn import svm\n",
    "\n",
    "#Create a svm Classifier\n",
    "clf = svm.SVC(kernel='linear') # Linear Kernel\n",
    "\n",
    "#Train the model using the training sets\n",
    "clf.fit(X_Train, Y_Train)\n",
    "\n",
    "#Predict the response for test dataset\n",
    "y_pred = clf.predict(X_Test)"
   ]
  },
  {
   "cell_type": "code",
   "execution_count": null,
   "metadata": {},
   "outputs": [
    {
     "ename": "NameError",
     "evalue": "name 'X_Train' is not defined",
     "output_type": "error",
     "traceback": [
      "\u001b[0;31m---------------------------------------------------------------------------\u001b[0m",
      "\u001b[0;31mNameError\u001b[0m                                 Traceback (most recent call last)",
      "\u001b[0;32m<ipython-input-1-738f2355583d>\u001b[0m in \u001b[0;36m<module>\u001b[0;34m\u001b[0m\n\u001b[1;32m      3\u001b[0m \u001b[0mclf2\u001b[0m \u001b[0;34m=\u001b[0m \u001b[0mLinearSVC\u001b[0m\u001b[0;34m(\u001b[0m\u001b[0mC\u001b[0m\u001b[0;34m=\u001b[0m\u001b[0;36m1.0\u001b[0m\u001b[0;34m,\u001b[0m \u001b[0mloss\u001b[0m\u001b[0;34m=\u001b[0m\u001b[0;34m'hinge'\u001b[0m\u001b[0;34m,\u001b[0m \u001b[0mclass_weight\u001b[0m\u001b[0;34m=\u001b[0m\u001b[0;34m'balanced'\u001b[0m\u001b[0;34m)\u001b[0m\u001b[0;34m\u001b[0m\u001b[0;34m\u001b[0m\u001b[0m\n\u001b[1;32m      4\u001b[0m \u001b[0;34m\u001b[0m\u001b[0m\n\u001b[0;32m----> 5\u001b[0;31m \u001b[0mclf2\u001b[0m\u001b[0;34m.\u001b[0m\u001b[0mfit\u001b[0m\u001b[0;34m(\u001b[0m\u001b[0mX_Train\u001b[0m\u001b[0;34m,\u001b[0m \u001b[0mY_Train\u001b[0m\u001b[0;34m)\u001b[0m\u001b[0;34m\u001b[0m\u001b[0;34m\u001b[0m\u001b[0m\n\u001b[0m\u001b[1;32m      6\u001b[0m \u001b[0;34m\u001b[0m\u001b[0m\n\u001b[1;32m      7\u001b[0m \u001b[0mprint\u001b[0m\u001b[0;34m(\u001b[0m\u001b[0;34m'Done'\u001b[0m\u001b[0;34m)\u001b[0m\u001b[0;34m\u001b[0m\u001b[0;34m\u001b[0m\u001b[0m\n",
      "\u001b[0;31mNameError\u001b[0m: name 'X_Train' is not defined"
     ]
    }
   ],
   "source": [
    "from sklearn.svm import LinearSVC\n",
    "\n",
    "clf2 = LinearSVC(C=1.0, loss='hinge', class_weight='balanced')\n",
    "\n",
    "clf2.fit(X_Train, Y_Train)\n",
    "\n",
    "print('Done')"
   ]
  },
  {
   "cell_type": "code",
   "execution_count": null,
   "metadata": {},
   "outputs": [],
   "source": [
    "from sklearn.metrics import accuracy_score\n",
    "\n",
    "y_test_pred = clf.predict(X_Test)\n",
    "y_train_pred = clf.predict(X_Train)\n",
    "\n",
    "print(f'Classifier: {clf.__class__}\\n')\n",
    "\n",
    "print('Accuracy Summary')\n",
    "print('================')\n",
    "\n",
    "print(f'Test:    {accuracy_score(Y_Test, y_test_pred)*100:6.2f}%')\n",
    "print(f'Train:   {accuracy_score(Y_Train, y_train_pred)*100:6.2f}%')"
   ]
  },
  {
   "cell_type": "code",
   "execution_count": null,
   "metadata": {},
   "outputs": [
    {
     "name": "stdout",
     "output_type": "stream",
     "text": [
      "Accuracy: 0.7215759849906191\n"
     ]
    }
   ],
   "source": [
    "#Import scikit-learn metrics module for accuracy calculation\n",
    "from sklearn import metrics\n",
    "\n",
    "# Model Accuracy: how often is the classifier correct?\n",
    "print(\"Accuracy:\",metrics.accuracy_score(Y_Test, y_pred))"
   ]
  },
  {
   "cell_type": "code",
   "execution_count": null,
   "metadata": {},
   "outputs": [
    {
     "name": "stdout",
     "output_type": "stream",
     "text": [
      "Precision: 0.77947932618683\n",
      "Recall: 0.8312465977136636\n"
     ]
    }
   ],
   "source": [
    "# Model Precision: what percentage of positive tuples are labeled as such?\n",
    "print(\"Precision:\",metrics.precision_score(Y_Test, y_pred))\n",
    "\n",
    "# Model Recall: what percentage of positive tuples are labelled as such?\n",
    "print(\"Recall:\",metrics.recall_score(Y_Test, y_pred))"
   ]
  },
  {
   "cell_type": "markdown",
   "metadata": {},
   "source": [
    "# Sessions"
   ]
  },
  {
   "cell_type": "code",
   "execution_count": 392,
   "metadata": {},
   "outputs": [],
   "source": [
    "df_sessions = pd.read_pickle('SortedBySessions2.pkl')"
   ]
  },
  {
   "cell_type": "code",
   "execution_count": 393,
   "metadata": {},
   "outputs": [
    {
     "data": {
      "text/html": [
       "<div>\n",
       "<style scoped>\n",
       "    .dataframe tbody tr th:only-of-type {\n",
       "        vertical-align: middle;\n",
       "    }\n",
       "\n",
       "    .dataframe tbody tr th {\n",
       "        vertical-align: top;\n",
       "    }\n",
       "\n",
       "    .dataframe thead th {\n",
       "        text-align: right;\n",
       "    }\n",
       "</style>\n",
       "<table border=\"1\" class=\"dataframe\">\n",
       "  <thead>\n",
       "    <tr style=\"text-align: right;\">\n",
       "      <th></th>\n",
       "      <th>session</th>\n",
       "      <th>count_mouseover</th>\n",
       "      <th>count_mouseout</th>\n",
       "      <th>count_click</th>\n",
       "      <th>count_blur</th>\n",
       "      <th>count_focus</th>\n",
       "      <th>count_keydown</th>\n",
       "      <th>count_all</th>\n",
       "      <th>duration</th>\n",
       "      <th>height</th>\n",
       "      <th>width</th>\n",
       "      <th>siteName</th>\n",
       "      <th>clientX</th>\n",
       "      <th>clientY</th>\n",
       "    </tr>\n",
       "  </thead>\n",
       "  <tbody>\n",
       "    <tr>\n",
       "      <th>0</th>\n",
       "      <td>515</td>\n",
       "      <td>32</td>\n",
       "      <td>32</td>\n",
       "      <td>14</td>\n",
       "      <td>26</td>\n",
       "      <td>28</td>\n",
       "      <td>27</td>\n",
       "      <td>159</td>\n",
       "      <td>136.831</td>\n",
       "      <td>1312.0</td>\n",
       "      <td>1479.0</td>\n",
       "      <td>1</td>\n",
       "      <td>359.0</td>\n",
       "      <td>320.0</td>\n",
       "    </tr>\n",
       "    <tr>\n",
       "      <th>1</th>\n",
       "      <td>519</td>\n",
       "      <td>1</td>\n",
       "      <td>0</td>\n",
       "      <td>0</td>\n",
       "      <td>1</td>\n",
       "      <td>1</td>\n",
       "      <td>0</td>\n",
       "      <td>3</td>\n",
       "      <td>33.249</td>\n",
       "      <td>669.0</td>\n",
       "      <td>390.0</td>\n",
       "      <td>1</td>\n",
       "      <td>266.0</td>\n",
       "      <td>282.0</td>\n",
       "    </tr>\n",
       "    <tr>\n",
       "      <th>2</th>\n",
       "      <td>524</td>\n",
       "      <td>42</td>\n",
       "      <td>42</td>\n",
       "      <td>8</td>\n",
       "      <td>17</td>\n",
       "      <td>16</td>\n",
       "      <td>5</td>\n",
       "      <td>130</td>\n",
       "      <td>230.175</td>\n",
       "      <td>878.0</td>\n",
       "      <td>1920.0</td>\n",
       "      <td>1</td>\n",
       "      <td>674.0</td>\n",
       "      <td>468.0</td>\n",
       "    </tr>\n",
       "    <tr>\n",
       "      <th>3</th>\n",
       "      <td>528</td>\n",
       "      <td>4</td>\n",
       "      <td>3</td>\n",
       "      <td>0</td>\n",
       "      <td>6</td>\n",
       "      <td>6</td>\n",
       "      <td>0</td>\n",
       "      <td>19</td>\n",
       "      <td>20.563</td>\n",
       "      <td>1217.0</td>\n",
       "      <td>1440.0</td>\n",
       "      <td>0</td>\n",
       "      <td>397.0</td>\n",
       "      <td>469.0</td>\n",
       "    </tr>\n",
       "    <tr>\n",
       "      <th>4</th>\n",
       "      <td>554</td>\n",
       "      <td>6</td>\n",
       "      <td>6</td>\n",
       "      <td>0</td>\n",
       "      <td>6</td>\n",
       "      <td>6</td>\n",
       "      <td>0</td>\n",
       "      <td>24</td>\n",
       "      <td>17.076</td>\n",
       "      <td>715.0</td>\n",
       "      <td>414.0</td>\n",
       "      <td>0</td>\n",
       "      <td>346.0</td>\n",
       "      <td>301.0</td>\n",
       "    </tr>\n",
       "  </tbody>\n",
       "</table>\n",
       "</div>"
      ],
      "text/plain": [
       "   session  count_mouseover  count_mouseout  count_click  count_blur  \\\n",
       "0      515               32              32           14          26   \n",
       "1      519                1               0            0           1   \n",
       "2      524               42              42            8          17   \n",
       "3      528                4               3            0           6   \n",
       "4      554                6               6            0           6   \n",
       "\n",
       "   count_focus  count_keydown  count_all  duration  height   width  siteName  \\\n",
       "0           28             27        159   136.831  1312.0  1479.0         1   \n",
       "1            1              0          3    33.249   669.0   390.0         1   \n",
       "2           16              5        130   230.175   878.0  1920.0         1   \n",
       "3            6              0         19    20.563  1217.0  1440.0         0   \n",
       "4            6              0         24    17.076   715.0   414.0         0   \n",
       "\n",
       "   clientX  clientY  \n",
       "0    359.0    320.0  \n",
       "1    266.0    282.0  \n",
       "2    674.0    468.0  \n",
       "3    397.0    469.0  \n",
       "4    346.0    301.0  "
      ]
     },
     "execution_count": 393,
     "metadata": {},
     "output_type": "execute_result"
    }
   ],
   "source": [
    "df_sessions.head()"
   ]
  },
  {
   "cell_type": "code",
   "execution_count": 394,
   "metadata": {},
   "outputs": [],
   "source": [
    "X_session = df_sessions[['count_all', 'duration']]\n",
    "Y_session = df_sessions['siteName']\n",
    "\n",
    "X_session = StandardScaler().fit_transform(X_session)\n",
    "\n",
    "X_session_Train, X_session_Test, Y_session_Train, Y_session_Test = train_test_split(X_session, Y_session, test_size = 0.30, \n",
    "                                                    random_state = 101)"
   ]
  },
  {
   "cell_type": "markdown",
   "metadata": {},
   "source": [
    "#### Random Forest Session\n",
    "\n",
    "Accuracy: 0.8974358974358975\n",
    "\n",
    "With Hyperparameter: Accuracy: 0.9230769230769231\n"
   ]
  },
  {
   "cell_type": "code",
   "execution_count": 395,
   "metadata": {},
   "outputs": [],
   "source": [
    "#Import Random Forest Model\n",
    "from sklearn.ensemble import RandomForestClassifier\n",
    "\n",
    "# evaluate random forest algorithm for classification\n",
    "from numpy import mean\n",
    "from numpy import std\n",
    "from sklearn.datasets import make_classification\n",
    "from sklearn.model_selection import cross_val_score\n",
    "from sklearn.model_selection import RepeatedStratifiedKFold\n",
    "\n",
    "#Create a Gaussian Classifier\n",
    "forest_model=RandomForestClassifier(n_estimators=1000, random_state=101)\n",
    "\n",
    "#Train the model using the training sets y_pred=clf.predict(X_test)\n",
    "forest_model.fit(X_session_Train,Y_session_Train)\n",
    "\n",
    "y_session_pred=forest_model.predict(X_session_Test)"
   ]
  },
  {
   "cell_type": "code",
   "execution_count": 396,
   "metadata": {},
   "outputs": [
    {
     "name": "stdout",
     "output_type": "stream",
     "text": [
      "Accuracy: 0.972\n",
      "Precision: 0.955\n",
      "Recall: 1.000\n",
      "Confusion Matrix: [[14  1]\n",
      " [ 0 21]]\n",
      "AUC Score: 0.967\n",
      "MCC Score: 0.944\n",
      "F1 Score: 0.977\n"
     ]
    }
   ],
   "source": [
    "from sklearn.metrics import precision_score, recall_score, f1_score, accuracy_score, matthews_corrcoef\n",
    "print('Accuracy: %.3f' % accuracy_score(Y_session_Test, y_session_pred))\n",
    "print('Precision: %.3f' % precision_score(Y_session_Test, y_session_pred))\n",
    "print('Recall: %.3f' % recall_score(Y_session_Test, y_session_pred))\n",
    "print('Confusion Matrix:', confusion_matrix(Y_session_Test, y_session_pred))\n",
    "print('AUC Score: %.3f' % metrics.roc_auc_score(Y_session_Test, y_session_pred))\n",
    "print('MCC Score: %.3f' % matthews_corrcoef(Y_session_Test, y_session_pred))\n",
    "print('F1 Score: %.3f' % f1_score(Y_session_Test, y_session_pred))\n"
   ]
  },
  {
   "cell_type": "code",
   "execution_count": 363,
   "metadata": {},
   "outputs": [],
   "source": [
    "from sklearn.neighbors import KNeighborsClassifier\n",
    "\n",
    "knn_model = KNeighborsClassifier(n_neighbors=3)\n",
    "\n",
    "knn_model.fit(X_session_Train, Y_session_Train)\n",
    "\n",
    "y_knn_pred = knn_model.predict(X_session_Test) # 0:Overcast, 2:Mild"
   ]
  },
  {
   "cell_type": "code",
   "execution_count": 364,
   "metadata": {},
   "outputs": [
    {
     "name": "stdout",
     "output_type": "stream",
     "text": [
      "Accuracy: 0.750\n",
      "Precision: 0.875\n",
      "Recall: 0.667\n",
      "Confusion Matrix: [[13  2]\n",
      " [ 7 14]]\n",
      "AUC Score: 0.767\n",
      "MCC Score: 0.529\n",
      "F1 Score: 0.757\n"
     ]
    }
   ],
   "source": [
    "from sklearn.metrics import precision_score, recall_score, f1_score, accuracy_score, matthews_corrcoef\n",
    "print('Accuracy: %.3f' % accuracy_score(Y_session_Test, y_knn_pred))\n",
    "print('Precision: %.3f' % precision_score(Y_session_Test, y_knn_pred))\n",
    "print('Recall: %.3f' % recall_score(Y_session_Test, y_knn_pred))\n",
    "print('Confusion Matrix:', confusion_matrix(Y_session_Test, y_knn_pred))\n",
    "print('AUC Score: %.3f' % metrics.roc_auc_score(Y_session_Test, y_knn_pred))\n",
    "print('MCC Score: %.3f' % matthews_corrcoef(Y_session_Test, y_knn_pred))\n",
    "print('F1 Score: %.3f' % f1_score(Y_session_Test, y_knn_pred))"
   ]
  },
  {
   "cell_type": "code",
   "execution_count": 325,
   "metadata": {},
   "outputs": [
    {
     "name": "stderr",
     "output_type": "stream",
     "text": [
      "/Users/ingaglotzbach/opt/anaconda3/lib/python3.8/site-packages/sklearn/utils/deprecation.py:87: FutureWarning: Function plot_roc_curve is deprecated; Function :func:`plot_roc_curve` is deprecated in 1.0 and will be removed in 1.2. Use one of the class methods: :meth:`sklearn.metrics.RocCurveDisplay.from_predictions` or :meth:`sklearn.metrics.RocCurveDisplay.from_estimator`.\n",
      "  warnings.warn(msg, category=FutureWarning)\n"
     ]
    },
    {
     "data": {
      "image/png": "[encoded data removed]",
      "text/plain": [
       "<Figure size 432x288 with 1 Axes>"
      ]
     },
     "metadata": {
      "needs_background": "light"
     },
     "output_type": "display_data"
    }
   ],
   "source": [
    "metrics.plot_roc_curve(forest_model, X_session_Test, Y_session_Test)\n",
    "plt.show()"
   ]
  },
  {
   "cell_type": "markdown",
   "metadata": {},
   "source": [
    "#### Improve Random Forest with Hyperparameter"
   ]
  },
  {
   "cell_type": "code",
   "execution_count": null,
   "metadata": {},
   "outputs": [],
   "source": [
    "rfc_model = RandomForestClassifier()\n",
    "\n",
    "parameters = {\n",
    "    \"n_estimators\":[5,10,50,100,250],\n",
    "    \"max_depth\":[2,4,8,16,32,None]\n",
    "    \n",
    "}"
   ]
  },
  {
   "cell_type": "code",
   "execution_count": null,
   "metadata": {},
   "outputs": [
    {
     "data": {
      "text/html": [
       "<style>#sk-container-id-1 {color: black;background-color: white;}#sk-container-id-1 pre{padding: 0;}#sk-container-id-1 div.sk-toggleable {background-color: white;}#sk-container-id-1 label.sk-toggleable__label {cursor: pointer;display: block;width: 100%;margin-bottom: 0;padding: 0.3em;box-sizing: border-box;text-align: center;}#sk-container-id-1 label.sk-toggleable__label-arrow:before {content: \"▸\";float: left;margin-right: 0.25em;color: #696969;}#sk-container-id-1 label.sk-toggleable__label-arrow:hover:before {color: black;}#sk-container-id-1 div.sk-estimator:hover label.sk-toggleable__label-arrow:before {color: black;}#sk-container-id-1 div.sk-toggleable__content {max-height: 0;max-width: 0;overflow: hidden;text-align: left;background-color: #f0f8ff;}#sk-container-id-1 div.sk-toggleable__content pre {margin: 0.2em;color: black;border-radius: 0.25em;background-color: #f0f8ff;}#sk-container-id-1 input.sk-toggleable__control:checked~div.sk-toggleable__content {max-height: 200px;max-width: 100%;overflow: auto;}#sk-container-id-1 input.sk-toggleable__control:checked~label.sk-toggleable__label-arrow:before {content: \"▾\";}#sk-container-id-1 div.sk-estimator input.sk-toggleable__control:checked~label.sk-toggleable__label {background-color: #d4ebff;}#sk-container-id-1 div.sk-label input.sk-toggleable__control:checked~label.sk-toggleable__label {background-color: #d4ebff;}#sk-container-id-1 input.sk-hidden--visually {border: 0;clip: rect(1px 1px 1px 1px);clip: rect(1px, 1px, 1px, 1px);height: 1px;margin: -1px;overflow: hidden;padding: 0;position: absolute;width: 1px;}#sk-container-id-1 div.sk-estimator {font-family: monospace;background-color: #f0f8ff;border: 1px dotted black;border-radius: 0.25em;box-sizing: border-box;margin-bottom: 0.5em;}#sk-container-id-1 div.sk-estimator:hover {background-color: #d4ebff;}#sk-container-id-1 div.sk-parallel-item::after {content: \"\";width: 100%;border-bottom: 1px solid gray;flex-grow: 1;}#sk-container-id-1 div.sk-label:hover label.sk-toggleable__label {background-color: #d4ebff;}#sk-container-id-1 div.sk-serial::before {content: \"\";position: absolute;border-left: 1px solid gray;box-sizing: border-box;top: 0;bottom: 0;left: 50%;z-index: 0;}#sk-container-id-1 div.sk-serial {display: flex;flex-direction: column;align-items: center;background-color: white;padding-right: 0.2em;padding-left: 0.2em;position: relative;}#sk-container-id-1 div.sk-item {position: relative;z-index: 1;}#sk-container-id-1 div.sk-parallel {display: flex;align-items: stretch;justify-content: center;background-color: white;position: relative;}#sk-container-id-1 div.sk-item::before, #sk-container-id-1 div.sk-parallel-item::before {content: \"\";position: absolute;border-left: 1px solid gray;box-sizing: border-box;top: 0;bottom: 0;left: 50%;z-index: -1;}#sk-container-id-1 div.sk-parallel-item {display: flex;flex-direction: column;z-index: 1;position: relative;background-color: white;}#sk-container-id-1 div.sk-parallel-item:first-child::after {align-self: flex-end;width: 50%;}#sk-container-id-1 div.sk-parallel-item:last-child::after {align-self: flex-start;width: 50%;}#sk-container-id-1 div.sk-parallel-item:only-child::after {width: 0;}#sk-container-id-1 div.sk-dashed-wrapped {border: 1px dashed gray;margin: 0 0.4em 0.5em 0.4em;box-sizing: border-box;padding-bottom: 0.4em;background-color: white;}#sk-container-id-1 div.sk-label label {font-family: monospace;font-weight: bold;display: inline-block;line-height: 1.2em;}#sk-container-id-1 div.sk-label-container {text-align: center;}#sk-container-id-1 div.sk-container {/* jupyter's `normalize.less` sets `[hidden] { display: none; }` but bootstrap.min.css set `[hidden] { display: none !important; }` so we also need the `!important` here to be able to override the default hidden behavior on the sphinx rendered scikit-learn.org. See: https://github.com/scikit-learn/scikit-learn/issues/21755 */display: inline-block !important;position: relative;}#sk-container-id-1 div.sk-text-repr-fallback {display: none;}</style><div id=\"sk-container-id-1\" class=\"sk-top-container\"><div class=\"sk-text-repr-fallback\"><pre>GridSearchCV(cv=5, estimator=RandomForestClassifier(),\n",
       "             param_grid={&#x27;max_depth&#x27;: [2, 4, 8, 16, 32, None],\n",
       "                         &#x27;n_estimators&#x27;: [5, 10, 50, 100, 250]})</pre><b>In a Jupyter environment, please rerun this cell to show the HTML representation or trust the notebook. <br />On GitHub, the HTML representation is unable to render, please try loading this page with nbviewer.org.</b></div><div class=\"sk-container\" hidden><div class=\"sk-item sk-dashed-wrapped\"><div class=\"sk-label-container\"><div class=\"sk-label sk-toggleable\"><input class=\"sk-toggleable__control sk-hidden--visually\" id=\"sk-estimator-id-1\" type=\"checkbox\" ><label for=\"sk-estimator-id-1\" class=\"sk-toggleable__label sk-toggleable__label-arrow\">GridSearchCV</label><div class=\"sk-toggleable__content\"><pre>GridSearchCV(cv=5, estimator=RandomForestClassifier(),\n",
       "             param_grid={&#x27;max_depth&#x27;: [2, 4, 8, 16, 32, None],\n",
       "                         &#x27;n_estimators&#x27;: [5, 10, 50, 100, 250]})</pre></div></div></div><div class=\"sk-parallel\"><div class=\"sk-parallel-item\"><div class=\"sk-item\"><div class=\"sk-label-container\"><div class=\"sk-label sk-toggleable\"><input class=\"sk-toggleable__control sk-hidden--visually\" id=\"sk-estimator-id-2\" type=\"checkbox\" ><label for=\"sk-estimator-id-2\" class=\"sk-toggleable__label sk-toggleable__label-arrow\">estimator: RandomForestClassifier</label><div class=\"sk-toggleable__content\"><pre>RandomForestClassifier()</pre></div></div></div><div class=\"sk-serial\"><div class=\"sk-item\"><div class=\"sk-estimator sk-toggleable\"><input class=\"sk-toggleable__control sk-hidden--visually\" id=\"sk-estimator-id-3\" type=\"checkbox\" ><label for=\"sk-estimator-id-3\" class=\"sk-toggleable__label sk-toggleable__label-arrow\">RandomForestClassifier</label><div class=\"sk-toggleable__content\"><pre>RandomForestClassifier()</pre></div></div></div></div></div></div></div></div></div></div>"
      ],
      "text/plain": [
       "GridSearchCV(cv=5, estimator=RandomForestClassifier(),\n",
       "             param_grid={'max_depth': [2, 4, 8, 16, 32, None],\n",
       "                         'n_estimators': [5, 10, 50, 100, 250]})"
      ]
     },
     "execution_count": 11,
     "metadata": {},
     "output_type": "execute_result"
    }
   ],
   "source": [
    "from sklearn.model_selection import GridSearchCV\n",
    "cv_grid = GridSearchCV(rfc_model,parameters,cv=5)\n",
    "cv_grid.fit(X_session, Y_session.values.ravel())"
   ]
  },
  {
   "cell_type": "code",
   "execution_count": null,
   "metadata": {},
   "outputs": [],
   "source": [
    "def display(results):\n",
    "    print(f'Best parameters are: {results.best_params_}')\n",
    "    print(\"\\n\")\n",
    "    mean_score = results.cv_results_['mean_test_score']\n",
    "    std_score = results.cv_results_['std_test_score']\n",
    "    params = results.cv_results_['params']\n",
    "    for mean,std,params in zip(mean_score,std_score,params):\n",
    "        print(f'{round(mean,3)} + or -{round(std,3)} for the {params}')"
   ]
  },
  {
   "cell_type": "code",
   "execution_count": null,
   "metadata": {},
   "outputs": [
    {
     "name": "stdout",
     "output_type": "stream",
     "text": [
      "Best parameters are: {'max_depth': 8, 'n_estimators': 250}\n",
      "\n",
      "\n",
      "0.933 + or -0.033 for the {'max_depth': 2, 'n_estimators': 5}\n",
      "0.908 + or -0.031 for the {'max_depth': 2, 'n_estimators': 10}\n",
      "0.933 + or -0.02 for the {'max_depth': 2, 'n_estimators': 50}\n",
      "0.908 + or -0.017 for the {'max_depth': 2, 'n_estimators': 100}\n",
      "0.908 + or -0.017 for the {'max_depth': 2, 'n_estimators': 250}\n",
      "0.917 + or -0.046 for the {'max_depth': 4, 'n_estimators': 5}\n",
      "0.925 + or -0.017 for the {'max_depth': 4, 'n_estimators': 10}\n",
      "0.942 + or -0.02 for the {'max_depth': 4, 'n_estimators': 50}\n",
      "0.942 + or -0.02 for the {'max_depth': 4, 'n_estimators': 100}\n",
      "0.95 + or -0.017 for the {'max_depth': 4, 'n_estimators': 250}\n",
      "0.925 + or -0.076 for the {'max_depth': 8, 'n_estimators': 5}\n",
      "0.958 + or -0.026 for the {'max_depth': 8, 'n_estimators': 10}\n",
      "0.958 + or -0.026 for the {'max_depth': 8, 'n_estimators': 50}\n",
      "0.95 + or -0.017 for the {'max_depth': 8, 'n_estimators': 100}\n",
      "0.967 + or -0.017 for the {'max_depth': 8, 'n_estimators': 250}\n",
      "0.917 + or -0.059 for the {'max_depth': 16, 'n_estimators': 5}\n",
      "0.942 + or -0.033 for the {'max_depth': 16, 'n_estimators': 10}\n",
      "0.958 + or -0.0 for the {'max_depth': 16, 'n_estimators': 50}\n",
      "0.967 + or -0.017 for the {'max_depth': 16, 'n_estimators': 100}\n",
      "0.967 + or -0.017 for the {'max_depth': 16, 'n_estimators': 250}\n",
      "0.942 + or -0.042 for the {'max_depth': 32, 'n_estimators': 5}\n",
      "0.95 + or -0.031 for the {'max_depth': 32, 'n_estimators': 10}\n",
      "0.958 + or -0.026 for the {'max_depth': 32, 'n_estimators': 50}\n",
      "0.967 + or -0.017 for the {'max_depth': 32, 'n_estimators': 100}\n",
      "0.967 + or -0.017 for the {'max_depth': 32, 'n_estimators': 250}\n",
      "0.942 + or -0.042 for the {'max_depth': None, 'n_estimators': 5}\n",
      "0.942 + or -0.02 for the {'max_depth': None, 'n_estimators': 10}\n",
      "0.958 + or -0.0 for the {'max_depth': None, 'n_estimators': 50}\n",
      "0.967 + or -0.017 for the {'max_depth': None, 'n_estimators': 100}\n",
      "0.967 + or -0.017 for the {'max_depth': None, 'n_estimators': 250}\n"
     ]
    }
   ],
   "source": [
    "display(cv_grid)"
   ]
  },
  {
   "cell_type": "markdown",
   "metadata": {},
   "source": [
    "#### KNN"
   ]
  },
  {
   "cell_type": "code",
   "execution_count": 326,
   "metadata": {},
   "outputs": [],
   "source": [
    "from sklearn.neighbors import KNeighborsClassifier\n",
    "\n",
    "knn_model = KNeighborsClassifier(n_neighbors=3)\n",
    "\n",
    "knn_model.fit(X_session_Train, Y_session_Train)\n",
    "\n",
    "y_knn_pred = knn_model.predict(X_session_Test) # 0:Overcast, 2:Mild\n"
   ]
  },
  {
   "cell_type": "code",
   "execution_count": 327,
   "metadata": {},
   "outputs": [
    {
     "name": "stdout",
     "output_type": "stream",
     "text": [
      "Accuracy: 0.778\n",
      "Precision: 0.810\n",
      "Recall: 0.810\n",
      "Confusion Matrix: [[11  4]\n",
      " [ 4 17]]\n",
      "AUC Score: 0.771\n",
      "MCC Score: 0.543\n",
      "F1 Score: 0.810\n"
     ]
    }
   ],
   "source": [
    "from sklearn.metrics import precision_score, recall_score, f1_score, accuracy_score, matthews_corrcoef\n",
    "print('Accuracy: %.3f' % accuracy_score(Y_session_Test, y_knn_pred))\n",
    "print('Precision: %.3f' % precision_score(Y_session_Test, y_knn_pred))\n",
    "print('Recall: %.3f' % recall_score(Y_session_Test, y_knn_pred))\n",
    "print('Confusion Matrix:', confusion_matrix(Y_session_Test, y_knn_pred))\n",
    "print('AUC Score: %.3f' % metrics.roc_auc_score(Y_session_Test, y_knn_pred))\n",
    "print('MCC Score: %.3f' % matthews_corrcoef(Y_session_Test, y_knn_pred))\n",
    "print('F1 Score: %.3f' % f1_score(Y_session_Test, y_knn_pred))"
   ]
  },
  {
   "cell_type": "markdown",
   "metadata": {},
   "source": [
    "Robust Scaling to improve KNN --> Accuracy: 0.8717948717948718\n",
    "\n",
    "MinMax Scaling to improve KNN --> Accuracy: 0.8461538461538461"
   ]
  },
  {
   "cell_type": "code",
   "execution_count": null,
   "metadata": {},
   "outputs": [
    {
     "name": "stdout",
     "output_type": "stream",
     "text": [
      "Accuracy: 0.972\n",
      "Precision: 1.000\n",
      "Recall: 0.952\n",
      "Confusion Matrix: [[15  0]\n",
      " [ 1 20]]\n",
      "AUC Score: 0.976\n",
      "MCC Score: 0.945\n",
      "F1 Score: 0.976\n"
     ]
    }
   ],
   "source": [
    "from sklearn.preprocessing import RobustScaler\n",
    "from sklearn.preprocessing import MinMaxScaler\n",
    "\n",
    "scaler = MinMaxScaler()\n",
    "\n",
    "X_session_robust = df_sessions[['count_mouseover', 'count_mouseout','count_click','count_blur','count_keydown','count_focus','duration']]\n",
    "Y_session_robust = df_sessions['siteName']\n",
    "\n",
    "X_session_robust = scaler.fit_transform(X_session_robust)\n",
    "\n",
    "X_session_robust_Train, X_session_robust_Test, Y_session_robust_Train, Y_session_robust_Test = train_test_split(X_session_robust, Y_session_robust, test_size = 0.30, random_state = 101)\n",
    "\n",
    "#Create KNN Object\n",
    "knn_robust = KNeighborsClassifier()\n",
    "\n",
    "knn_robust.fit(X_session_robust_Train, Y_session_robust_Train)\n",
    "\n",
    "y_knn_pred_robust = knn_robust.predict(X_session_robust_Test)\n",
    "\n",
    "from sklearn.metrics import precision_score, recall_score, f1_score, accuracy_score, matthews_corrcoef\n",
    "print('Accuracy: %.3f' % accuracy_score(Y_session_Test, y_knn_pred_robust))\n",
    "print('Precision: %.3f' % precision_score(Y_session_Test, y_knn_pred_robust))\n",
    "print('Recall: %.3f' % recall_score(Y_session_Test, y_knn_pred_robust))\n",
    "print('Confusion Matrix:', confusion_matrix(Y_session_Test, y_knn_pred_robust))\n",
    "print('AUC Score: %.3f' % metrics.roc_auc_score(Y_session_Test, y_knn_pred_robust))\n",
    "print('MCC Score: %.3f' % matthews_corrcoef(Y_session_Test, y_knn_pred_robust))\n",
    "print('F1 Score: %.3f' % f1_score(Y_session_Test, y_knn_pred_robust))"
   ]
  },
  {
   "cell_type": "markdown",
   "metadata": {},
   "source": [
    "Use Hyperparameter"
   ]
  },
  {
   "cell_type": "code",
   "execution_count": null,
   "metadata": {},
   "outputs": [
    {
     "name": "stdout",
     "output_type": "stream",
     "text": [
      "Best leaf_size: 1\n",
      "Best p: 2\n",
      "Best n_neighbors: 5\n"
     ]
    }
   ],
   "source": [
    "from sklearn.model_selection import GridSearchCV\n",
    "from sklearn.metrics import roc_auc_score\n",
    "\n",
    "leaf_size = list(range(1,50))\n",
    "n_neighbors = list(range(1,30))\n",
    "p=[1,2]\n",
    "\n",
    "hyperparameters = dict(leaf_size=leaf_size, n_neighbors=n_neighbors, p=p)\n",
    "\n",
    "hyper_model = GridSearchCV(knn_model, hyperparameters, cv=10)\n",
    "best_model = hyper_model.fit(X_session_Train,Y_session_Train)\n",
    "\n",
    "print('Best leaf_size:', best_model.best_estimator_.get_params()['leaf_size'])\n",
    "print('Best p:', best_model.best_estimator_.get_params()['p'])\n",
    "print('Best n_neighbors:', best_model.best_estimator_.get_params()['n_neighbors'])\n"
   ]
  },
  {
   "cell_type": "code",
   "execution_count": null,
   "metadata": {},
   "outputs": [
    {
     "name": "stdout",
     "output_type": "stream",
     "text": [
      "Accuracy: 1.0\n"
     ]
    }
   ],
   "source": [
    "y_hyper_pred = best_model.predict(X_session_Test)\n",
    "print(\"Accuracy:\",metrics.accuracy_score(Y_session_Test, y_hyper_pred))"
   ]
  },
  {
   "cell_type": "markdown",
   "metadata": {},
   "source": [
    "#### Linear Discriminat Analysis"
   ]
  },
  {
   "cell_type": "code",
   "execution_count": null,
   "metadata": {},
   "outputs": [
    {
     "data": {
      "text/html": [
       "<style>#sk-container-id-2 {color: black;background-color: white;}#sk-container-id-2 pre{padding: 0;}#sk-container-id-2 div.sk-toggleable {background-color: white;}#sk-container-id-2 label.sk-toggleable__label {cursor: pointer;display: block;width: 100%;margin-bottom: 0;padding: 0.3em;box-sizing: border-box;text-align: center;}#sk-container-id-2 label.sk-toggleable__label-arrow:before {content: \"▸\";float: left;margin-right: 0.25em;color: #696969;}#sk-container-id-2 label.sk-toggleable__label-arrow:hover:before {color: black;}#sk-container-id-2 div.sk-estimator:hover label.sk-toggleable__label-arrow:before {color: black;}#sk-container-id-2 div.sk-toggleable__content {max-height: 0;max-width: 0;overflow: hidden;text-align: left;background-color: #f0f8ff;}#sk-container-id-2 div.sk-toggleable__content pre {margin: 0.2em;color: black;border-radius: 0.25em;background-color: #f0f8ff;}#sk-container-id-2 input.sk-toggleable__control:checked~div.sk-toggleable__content {max-height: 200px;max-width: 100%;overflow: auto;}#sk-container-id-2 input.sk-toggleable__control:checked~label.sk-toggleable__label-arrow:before {content: \"▾\";}#sk-container-id-2 div.sk-estimator input.sk-toggleable__control:checked~label.sk-toggleable__label {background-color: #d4ebff;}#sk-container-id-2 div.sk-label input.sk-toggleable__control:checked~label.sk-toggleable__label {background-color: #d4ebff;}#sk-container-id-2 input.sk-hidden--visually {border: 0;clip: rect(1px 1px 1px 1px);clip: rect(1px, 1px, 1px, 1px);height: 1px;margin: -1px;overflow: hidden;padding: 0;position: absolute;width: 1px;}#sk-container-id-2 div.sk-estimator {font-family: monospace;background-color: #f0f8ff;border: 1px dotted black;border-radius: 0.25em;box-sizing: border-box;margin-bottom: 0.5em;}#sk-container-id-2 div.sk-estimator:hover {background-color: #d4ebff;}#sk-container-id-2 div.sk-parallel-item::after {content: \"\";width: 100%;border-bottom: 1px solid gray;flex-grow: 1;}#sk-container-id-2 div.sk-label:hover label.sk-toggleable__label {background-color: #d4ebff;}#sk-container-id-2 div.sk-serial::before {content: \"\";position: absolute;border-left: 1px solid gray;box-sizing: border-box;top: 0;bottom: 0;left: 50%;z-index: 0;}#sk-container-id-2 div.sk-serial {display: flex;flex-direction: column;align-items: center;background-color: white;padding-right: 0.2em;padding-left: 0.2em;position: relative;}#sk-container-id-2 div.sk-item {position: relative;z-index: 1;}#sk-container-id-2 div.sk-parallel {display: flex;align-items: stretch;justify-content: center;background-color: white;position: relative;}#sk-container-id-2 div.sk-item::before, #sk-container-id-2 div.sk-parallel-item::before {content: \"\";position: absolute;border-left: 1px solid gray;box-sizing: border-box;top: 0;bottom: 0;left: 50%;z-index: -1;}#sk-container-id-2 div.sk-parallel-item {display: flex;flex-direction: column;z-index: 1;position: relative;background-color: white;}#sk-container-id-2 div.sk-parallel-item:first-child::after {align-self: flex-end;width: 50%;}#sk-container-id-2 div.sk-parallel-item:last-child::after {align-self: flex-start;width: 50%;}#sk-container-id-2 div.sk-parallel-item:only-child::after {width: 0;}#sk-container-id-2 div.sk-dashed-wrapped {border: 1px dashed gray;margin: 0 0.4em 0.5em 0.4em;box-sizing: border-box;padding-bottom: 0.4em;background-color: white;}#sk-container-id-2 div.sk-label label {font-family: monospace;font-weight: bold;display: inline-block;line-height: 1.2em;}#sk-container-id-2 div.sk-label-container {text-align: center;}#sk-container-id-2 div.sk-container {/* jupyter's `normalize.less` sets `[hidden] { display: none; }` but bootstrap.min.css set `[hidden] { display: none !important; }` so we also need the `!important` here to be able to override the default hidden behavior on the sphinx rendered scikit-learn.org. See: https://github.com/scikit-learn/scikit-learn/issues/21755 */display: inline-block !important;position: relative;}#sk-container-id-2 div.sk-text-repr-fallback {display: none;}</style><div id=\"sk-container-id-2\" class=\"sk-top-container\"><div class=\"sk-text-repr-fallback\"><pre>LinearDiscriminantAnalysis()</pre><b>In a Jupyter environment, please rerun this cell to show the HTML representation or trust the notebook. <br />On GitHub, the HTML representation is unable to render, please try loading this page with nbviewer.org.</b></div><div class=\"sk-container\" hidden><div class=\"sk-item\"><div class=\"sk-estimator sk-toggleable\"><input class=\"sk-toggleable__control sk-hidden--visually\" id=\"sk-estimator-id-4\" type=\"checkbox\" checked><label for=\"sk-estimator-id-4\" class=\"sk-toggleable__label sk-toggleable__label-arrow\">LinearDiscriminantAnalysis</label><div class=\"sk-toggleable__content\"><pre>LinearDiscriminantAnalysis()</pre></div></div></div></div></div>"
      ],
      "text/plain": [
       "LinearDiscriminantAnalysis()"
      ]
     },
     "execution_count": 19,
     "metadata": {},
     "output_type": "execute_result"
    }
   ],
   "source": [
    "from sklearn.datasets import make_classification\n",
    "from sklearn.discriminant_analysis import LinearDiscriminantAnalysis\n",
    "\n",
    "lda_model = LinearDiscriminantAnalysis()\n",
    "lda_model.fit(X_session_Train, Y_session_Train)"
   ]
  },
  {
   "cell_type": "code",
   "execution_count": null,
   "metadata": {},
   "outputs": [
    {
     "name": "stdout",
     "output_type": "stream",
     "text": [
      "0.8444444444444443\n"
     ]
    }
   ],
   "source": [
    "from sklearn.model_selection import RepeatedStratifiedKFold\n",
    "from sklearn.model_selection import cross_val_score\n",
    "\n",
    "cv = RepeatedStratifiedKFold(n_splits=10, n_repeats=3, random_state=1)\n",
    "\n",
    "scores = cross_val_score(lda_model, X_session, Y_session, scoring='accuracy', cv=cv, n_jobs=-1)\n",
    "print(np.mean(scores))   \n"
   ]
  },
  {
   "cell_type": "markdown",
   "metadata": {},
   "source": [
    "#### Logistic Regression"
   ]
  },
  {
   "cell_type": "code",
   "execution_count": 313,
   "metadata": {},
   "outputs": [],
   "source": [
    "# import the class\n",
    "from sklearn.linear_model import LogisticRegression\n",
    "\n",
    "# instantiate the model (using the default parameters)\n",
    "logreg_model = LogisticRegression(random_state=16)\n",
    "\n",
    "# fit the model with data\n",
    "logreg_model.fit(X_session_Train, Y_session_Train)\n",
    "\n",
    "y_logreg_pred = logreg_model.predict(X_session_Test)"
   ]
  },
  {
   "cell_type": "code",
   "execution_count": 314,
   "metadata": {},
   "outputs": [
    {
     "name": "stdout",
     "output_type": "stream",
     "text": [
      "Accuracy: 0.861\n",
      "Precision: 1.000\n",
      "Recall: 0.762\n",
      "Confusion Matrix: [[15  0]\n",
      " [ 5 16]]\n",
      "AUC Score: 0.881\n",
      "MCC Score: 0.756\n",
      "F1 Score: 0.865\n"
     ]
    }
   ],
   "source": [
    "print('Accuracy: %.3f' % accuracy_score(Y_session_Test, y_logreg_pred))\n",
    "print('Precision: %.3f' % precision_score(Y_session_Test, y_logreg_pred))\n",
    "print('Recall: %.3f' % recall_score(Y_session_Test, y_logreg_pred))\n",
    "print('Confusion Matrix:', confusion_matrix(Y_session_Test, y_logreg_pred))\n",
    "print('AUC Score: %.3f' % metrics.roc_auc_score(Y_session_Test, y_logreg_pred))\n",
    "print('MCC Score: %.3f' % matthews_corrcoef(Y_session_Test, y_logreg_pred))\n",
    "print('F1 Score: %.3f' % f1_score(Y_session_Test, y_logreg_pred))"
   ]
  },
  {
   "cell_type": "markdown",
   "metadata": {},
   "source": [
    "#### Naive Bayes"
   ]
  },
  {
   "cell_type": "code",
   "execution_count": null,
   "metadata": {},
   "outputs": [],
   "source": [
    "#Import Gaussian Naive Bayes model\n",
    "from sklearn.naive_bayes import GaussianNB\n",
    "\n",
    "#Create a Gaussian Classifier\n",
    "gnb_model = GaussianNB()\n",
    "\n",
    "#Train the model using the training sets\n",
    "gnb_model.fit(X_session_Train, Y_session_Train)\n",
    "\n",
    "#Predict the response for test dataset\n",
    "y_gnb_pred = gnb_model.predict(X_session_Test)"
   ]
  },
  {
   "cell_type": "code",
   "execution_count": null,
   "metadata": {},
   "outputs": [
    {
     "name": "stdout",
     "output_type": "stream",
     "text": [
      "Accuracy: 0.861\n",
      "Precision: 0.944\n",
      "Recall: 0.810\n",
      "Confusion Matrix: [[14  1]\n",
      " [ 4 17]]\n",
      "AUC Score: 0.871\n",
      "MCC Score: 0.732\n",
      "F1 Score: 0.872\n"
     ]
    }
   ],
   "source": [
    "print('Accuracy: %.3f' % accuracy_score(Y_session_Test, y_gnb_pred))\n",
    "print('Precision: %.3f' % precision_score(Y_session_Test, y_gnb_pred))\n",
    "print('Recall: %.3f' % recall_score(Y_session_Test, y_gnb_pred))\n",
    "print('Confusion Matrix:', confusion_matrix(Y_session_Test, y_gnb_pred))\n",
    "print('AUC Score: %.3f' % metrics.roc_auc_score(Y_session_Test, y_gnb_pred))\n",
    "print('MCC Score: %.3f' % matthews_corrcoef(Y_session_Test, y_gnb_pred))\n",
    "print('F1 Score: %.3f' % f1_score(Y_session_Test, y_gnb_pred))"
   ]
  },
  {
   "cell_type": "markdown",
   "metadata": {},
   "source": [
    "#### SVM"
   ]
  },
  {
   "cell_type": "code",
   "execution_count": 315,
   "metadata": {},
   "outputs": [],
   "source": [
    "from sklearn import svm\n",
    "#Create a svm Classifier\n",
    "svm_model = svm.SVC(kernel='linear') # Linear Kernel\n",
    "\n",
    "#Train the model using the training sets\n",
    "svm_model.fit(X_session_Train, Y_session_Train)\n",
    "\n",
    "#Predict the response for test dataset\n",
    "y_svm_pred = svm_model.predict(X_session_Test)"
   ]
  },
  {
   "cell_type": "code",
   "execution_count": 316,
   "metadata": {},
   "outputs": [
    {
     "name": "stdout",
     "output_type": "stream",
     "text": [
      "Accuracy: 0.861\n",
      "Precision: 1.000\n",
      "Recall: 0.762\n",
      "Confusion Matrix: [[15  0]\n",
      " [ 5 16]]\n",
      "AUC Score: 0.881\n",
      "MCC Score: 0.756\n",
      "F1 Score: 0.865\n"
     ]
    }
   ],
   "source": [
    "print('Accuracy: %.3f' % accuracy_score(Y_session_Test, y_svm_pred))\n",
    "print('Precision: %.3f' % precision_score(Y_session_Test, y_svm_pred))\n",
    "print('Recall: %.3f' % recall_score(Y_session_Test, y_svm_pred))\n",
    "print('Confusion Matrix:', confusion_matrix(Y_session_Test, y_svm_pred))\n",
    "print('AUC Score: %.3f' % metrics.roc_auc_score(Y_session_Test, y_svm_pred))\n",
    "print('MCC Score: %.3f' % matthews_corrcoef(Y_session_Test, y_svm_pred))\n",
    "print('F1 Score: %.3f' % f1_score(Y_session_Test, y_svm_pred))"
   ]
  },
  {
   "cell_type": "markdown",
   "metadata": {},
   "source": [
    "#### Gradient Boosting"
   ]
  },
  {
   "cell_type": "code",
   "execution_count": null,
   "metadata": {},
   "outputs": [],
   "source": [
    "from sklearn.ensemble import GradientBoostingClassifier\n",
    "\n",
    "gradient_booster_model = GradientBoostingClassifier(learning_rate=0.1)\n",
    "gradient_booster_model.fit(X_session_Train,Y_session_Train)\n",
    "\n",
    "y_gradient_pred = gradient_booster_model.predict(X_session_Test)\n"
   ]
  },
  {
   "cell_type": "code",
   "execution_count": null,
   "metadata": {},
   "outputs": [
    {
     "name": "stdout",
     "output_type": "stream",
     "text": [
      "Accuracy: 0.944\n",
      "Precision: 0.952\n",
      "Recall: 0.952\n",
      "Confusion Matrix: [[14  1]\n",
      " [ 1 20]]\n",
      "AUC Score: 0.943\n",
      "MCC Score: 0.886\n",
      "F1 Score: 0.952\n"
     ]
    }
   ],
   "source": [
    "print('Accuracy: %.3f' % accuracy_score(Y_session_Test, y_gradient_pred))\n",
    "print('Precision: %.3f' % precision_score(Y_session_Test, y_gradient_pred))\n",
    "print('Recall: %.3f' % recall_score(Y_session_Test, y_gradient_pred))\n",
    "print('Confusion Matrix:', confusion_matrix(Y_session_Test, y_gradient_pred))\n",
    "print('AUC Score: %.3f' % metrics.roc_auc_score(Y_session_Test, y_gradient_pred))\n",
    "print('MCC Score: %.3f' % matthews_corrcoef(Y_session_Test, y_gradient_pred))\n",
    "print('F1 Score: %.3f' % f1_score(Y_session_Test, y_gradient_pred))"
   ]
  },
  {
   "cell_type": "markdown",
   "metadata": {},
   "source": [
    "#### ANN / Multi-Layer-Perceptron\n",
    "Batch-Size: 32 loss: 0.6364 - accuracy: 0.7333\n",
    "\n",
    "Batch-Size: 16 loss: 0.5102 - accuracy: 0.8444\n",
    "\n",
    "Batch-Size: 8  loss: 0.3590 - accuracy: 0.8556\n",
    "\n",
    "Batch-Size: 32 and epochs: 100 loss: 0.6783 - accuracy: 0.7333\n"
   ]
  },
  {
   "cell_type": "code",
   "execution_count": 317,
   "metadata": {},
   "outputs": [],
   "source": [
    "from sklearn.neural_network import MLPClassifier\n",
    "from sklearn.neural_network import MLPRegressor\n",
    "from sklearn.metrics import mean_squared_error\n",
    "from math import sqrt\n",
    "from sklearn.metrics import r2_score\n",
    "import tensorflow as tf"
   ]
  },
  {
   "cell_type": "code",
   "execution_count": 318,
   "metadata": {},
   "outputs": [
    {
     "name": "stdout",
     "output_type": "stream",
     "text": [
      "Epoch 1/50\n",
      "3/3 [==============================] - 1s 3ms/step - loss: 0.2301 - accuracy: 0.8333\n",
      "Epoch 2/50\n",
      "3/3 [==============================] - 0s 2ms/step - loss: 0.2279 - accuracy: 0.8333\n",
      "Epoch 3/50\n",
      "3/3 [==============================] - 0s 2ms/step - loss: 0.2257 - accuracy: 0.8571\n",
      "Epoch 4/50\n",
      "3/3 [==============================] - 0s 2ms/step - loss: 0.2238 - accuracy: 0.8929\n",
      "Epoch 5/50\n",
      "3/3 [==============================] - 0s 2ms/step - loss: 0.2219 - accuracy: 0.8929\n",
      "Epoch 6/50\n",
      "3/3 [==============================] - 0s 3ms/step - loss: 0.2203 - accuracy: 0.8929\n",
      "Epoch 7/50\n",
      "3/3 [==============================] - 0s 2ms/step - loss: 0.2187 - accuracy: 0.8810\n",
      "Epoch 8/50\n",
      "3/3 [==============================] - 0s 4ms/step - loss: 0.2173 - accuracy: 0.8810\n",
      "Epoch 9/50\n",
      "3/3 [==============================] - 0s 3ms/step - loss: 0.2159 - accuracy: 0.8810\n",
      "Epoch 10/50\n",
      "3/3 [==============================] - 0s 2ms/step - loss: 0.2144 - accuracy: 0.8810\n",
      "Epoch 11/50\n",
      "3/3 [==============================] - 0s 3ms/step - loss: 0.2131 - accuracy: 0.8810\n",
      "Epoch 12/50\n",
      "3/3 [==============================] - 0s 3ms/step - loss: 0.2117 - accuracy: 0.9048\n",
      "Epoch 13/50\n",
      "3/3 [==============================] - 0s 2ms/step - loss: 0.2106 - accuracy: 0.9048\n",
      "Epoch 14/50\n",
      "3/3 [==============================] - 0s 3ms/step - loss: 0.2094 - accuracy: 0.9048\n",
      "Epoch 15/50\n",
      "3/3 [==============================] - 0s 2ms/step - loss: 0.2083 - accuracy: 0.9048\n",
      "Epoch 16/50\n",
      "3/3 [==============================] - 0s 3ms/step - loss: 0.2071 - accuracy: 0.9048\n",
      "Epoch 17/50\n",
      "3/3 [==============================] - 0s 2ms/step - loss: 0.2060 - accuracy: 0.9048\n",
      "Epoch 18/50\n",
      "3/3 [==============================] - 0s 3ms/step - loss: 0.2050 - accuracy: 0.8929\n",
      "Epoch 19/50\n",
      "3/3 [==============================] - 0s 2ms/step - loss: 0.2040 - accuracy: 0.8690\n",
      "Epoch 20/50\n",
      "3/3 [==============================] - 0s 2ms/step - loss: 0.2030 - accuracy: 0.8690\n",
      "Epoch 21/50\n",
      "3/3 [==============================] - 0s 3ms/step - loss: 0.2020 - accuracy: 0.8690\n",
      "Epoch 22/50\n",
      "3/3 [==============================] - 0s 2ms/step - loss: 0.2011 - accuracy: 0.8690\n",
      "Epoch 23/50\n",
      "3/3 [==============================] - 0s 3ms/step - loss: 0.2001 - accuracy: 0.8690\n",
      "Epoch 24/50\n",
      "3/3 [==============================] - 0s 2ms/step - loss: 0.1992 - accuracy: 0.8571\n",
      "Epoch 25/50\n",
      "3/3 [==============================] - 0s 3ms/step - loss: 0.1984 - accuracy: 0.8571\n",
      "Epoch 26/50\n",
      "3/3 [==============================] - 0s 2ms/step - loss: 0.1975 - accuracy: 0.8571\n",
      "Epoch 27/50\n",
      "3/3 [==============================] - 0s 2ms/step - loss: 0.1966 - accuracy: 0.8452\n",
      "Epoch 28/50\n",
      "3/3 [==============================] - 0s 3ms/step - loss: 0.1958 - accuracy: 0.8452\n",
      "Epoch 29/50\n",
      "3/3 [==============================] - 0s 2ms/step - loss: 0.1949 - accuracy: 0.8452\n",
      "Epoch 30/50\n",
      "3/3 [==============================] - 0s 2ms/step - loss: 0.1940 - accuracy: 0.8571\n",
      "Epoch 31/50\n",
      "3/3 [==============================] - 0s 2ms/step - loss: 0.1932 - accuracy: 0.8571\n",
      "Epoch 32/50\n",
      "3/3 [==============================] - 0s 7ms/step - loss: 0.1924 - accuracy: 0.8571\n",
      "Epoch 33/50\n",
      "3/3 [==============================] - 0s 2ms/step - loss: 0.1915 - accuracy: 0.8690\n",
      "Epoch 34/50\n",
      "3/3 [==============================] - 0s 2ms/step - loss: 0.1908 - accuracy: 0.8690\n",
      "Epoch 35/50\n",
      "3/3 [==============================] - 0s 2ms/step - loss: 0.1900 - accuracy: 0.8690\n",
      "Epoch 36/50\n",
      "3/3 [==============================] - 0s 2ms/step - loss: 0.1891 - accuracy: 0.8690\n",
      "Epoch 37/50\n",
      "3/3 [==============================] - 0s 2ms/step - loss: 0.1883 - accuracy: 0.8690\n",
      "Epoch 38/50\n",
      "3/3 [==============================] - 0s 2ms/step - loss: 0.1875 - accuracy: 0.8690\n",
      "Epoch 39/50\n",
      "3/3 [==============================] - 0s 2ms/step - loss: 0.1867 - accuracy: 0.8690\n",
      "Epoch 40/50\n",
      "3/3 [==============================] - 0s 2ms/step - loss: 0.1859 - accuracy: 0.8690\n",
      "Epoch 41/50\n",
      "3/3 [==============================] - 0s 2ms/step - loss: 0.1851 - accuracy: 0.8571\n",
      "Epoch 42/50\n",
      "3/3 [==============================] - 0s 2ms/step - loss: 0.1843 - accuracy: 0.8571\n",
      "Epoch 43/50\n",
      "3/3 [==============================] - 0s 6ms/step - loss: 0.1834 - accuracy: 0.8571\n",
      "Epoch 44/50\n",
      "3/3 [==============================] - 0s 2ms/step - loss: 0.1826 - accuracy: 0.8452\n",
      "Epoch 45/50\n",
      "3/3 [==============================] - 0s 2ms/step - loss: 0.1818 - accuracy: 0.8452\n",
      "Epoch 46/50\n",
      "3/3 [==============================] - 0s 2ms/step - loss: 0.1810 - accuracy: 0.8452\n",
      "Epoch 47/50\n",
      "3/3 [==============================] - 0s 2ms/step - loss: 0.1801 - accuracy: 0.8452\n",
      "Epoch 48/50\n",
      "3/3 [==============================] - 0s 2ms/step - loss: 0.1792 - accuracy: 0.8452\n",
      "Epoch 49/50\n",
      "3/3 [==============================] - 0s 2ms/step - loss: 0.1784 - accuracy: 0.8452\n",
      "Epoch 50/50\n",
      "3/3 [==============================] - 0s 2ms/step - loss: 0.1776 - accuracy: 0.8452\n",
      "2/2 [==============================] - 0s 2ms/step\n"
     ]
    }
   ],
   "source": [
    "ann_model = tf.keras.models.Sequential()\n",
    "ann_model.add(tf.keras.layers.Dense(units=4,activation=\"relu\"))\n",
    "ann_model.add(tf.keras.layers.Dense(units=4,activation=\"relu\"))\n",
    "ann_model.add(tf.keras.layers.Dense(units=1,activation=\"sigmoid\"))\n",
    "ann_model.compile(optimizer=\"adam\",loss=\"mean_squared_error\",metrics=['accuracy'])\n",
    "ann_model.fit(X_session_Train,Y_session_Train,batch_size=32,epochs = 50)\n",
    "\n",
    "y_ann_pred=ann_model.predict(X_session_Test)"
   ]
  },
  {
   "cell_type": "markdown",
   "metadata": {},
   "source": [
    "# Sessions only mousedynamics"
   ]
  },
  {
   "cell_type": "code",
   "execution_count": null,
   "metadata": {},
   "outputs": [],
   "source": [
    "df_mouse = pd.read_pickle('CleanedDataWithIds.pkl') "
   ]
  },
  {
   "cell_type": "code",
   "execution_count": null,
   "metadata": {},
   "outputs": [
    {
     "data": {
      "text/html": [
       "<div>\n",
       "<style scoped>\n",
       "    .dataframe tbody tr th:only-of-type {\n",
       "        vertical-align: middle;\n",
       "    }\n",
       "\n",
       "    .dataframe tbody tr th {\n",
       "        vertical-align: top;\n",
       "    }\n",
       "\n",
       "    .dataframe thead th {\n",
       "        text-align: right;\n",
       "    }\n",
       "</style>\n",
       "<table border=\"1\" class=\"dataframe\">\n",
       "  <thead>\n",
       "    <tr style=\"text-align: right;\">\n",
       "      <th></th>\n",
       "      <th>timeStamp</th>\n",
       "      <th>type</th>\n",
       "      <th>siteName</th>\n",
       "      <th>clientX</th>\n",
       "      <th>clientY</th>\n",
       "      <th>session</th>\n",
       "    </tr>\n",
       "  </thead>\n",
       "  <tbody>\n",
       "    <tr>\n",
       "      <th>339</th>\n",
       "      <td>824.3</td>\n",
       "      <td>mouseover</td>\n",
       "      <td>0</td>\n",
       "      <td>673.000000</td>\n",
       "      <td>363.000000</td>\n",
       "      <td>243</td>\n",
       "    </tr>\n",
       "    <tr>\n",
       "      <th>340</th>\n",
       "      <td>858.3</td>\n",
       "      <td>mouseout</td>\n",
       "      <td>0</td>\n",
       "      <td>772.000000</td>\n",
       "      <td>333.000000</td>\n",
       "      <td>243</td>\n",
       "    </tr>\n",
       "    <tr>\n",
       "      <th>341</th>\n",
       "      <td>2005.3</td>\n",
       "      <td>mouseover</td>\n",
       "      <td>0</td>\n",
       "      <td>796.000000</td>\n",
       "      <td>266.000000</td>\n",
       "      <td>243</td>\n",
       "    </tr>\n",
       "    <tr>\n",
       "      <th>342</th>\n",
       "      <td>2296.5</td>\n",
       "      <td>focus</td>\n",
       "      <td>0</td>\n",
       "      <td>526.105402</td>\n",
       "      <td>333.262187</td>\n",
       "      <td>243</td>\n",
       "    </tr>\n",
       "    <tr>\n",
       "      <th>343</th>\n",
       "      <td>2875.3</td>\n",
       "      <td>mouseover</td>\n",
       "      <td>0</td>\n",
       "      <td>995.000000</td>\n",
       "      <td>264.000000</td>\n",
       "      <td>243</td>\n",
       "    </tr>\n",
       "  </tbody>\n",
       "</table>\n",
       "</div>"
      ],
      "text/plain": [
       "     timeStamp       type  siteName     clientX     clientY  session\n",
       "339      824.3  mouseover         0  673.000000  363.000000      243\n",
       "340      858.3   mouseout         0  772.000000  333.000000      243\n",
       "341     2005.3  mouseover         0  796.000000  266.000000      243\n",
       "342     2296.5      focus         0  526.105402  333.262187      243\n",
       "343     2875.3  mouseover         0  995.000000  264.000000      243"
      ]
     },
     "execution_count": 242,
     "metadata": {},
     "output_type": "execute_result"
    }
   ],
   "source": [
    "df_mouse = df_mouse.drop(['date', 'elementId', 'height', 'width' ], axis=1)\n",
    "df_mouse.head()"
   ]
  },
  {
   "cell_type": "code",
   "execution_count": null,
   "metadata": {},
   "outputs": [
    {
     "data": {
      "text/html": [
       "<div>\n",
       "<style scoped>\n",
       "    .dataframe tbody tr th:only-of-type {\n",
       "        vertical-align: middle;\n",
       "    }\n",
       "\n",
       "    .dataframe tbody tr th {\n",
       "        vertical-align: top;\n",
       "    }\n",
       "\n",
       "    .dataframe thead th {\n",
       "        text-align: right;\n",
       "    }\n",
       "</style>\n",
       "<table border=\"1\" class=\"dataframe\">\n",
       "  <thead>\n",
       "    <tr style=\"text-align: right;\">\n",
       "      <th></th>\n",
       "      <th>timeStamp</th>\n",
       "      <th>type</th>\n",
       "      <th>siteName</th>\n",
       "      <th>clientX</th>\n",
       "      <th>clientY</th>\n",
       "      <th>session</th>\n",
       "    </tr>\n",
       "  </thead>\n",
       "  <tbody>\n",
       "    <tr>\n",
       "      <th>339</th>\n",
       "      <td>824.3</td>\n",
       "      <td>2</td>\n",
       "      <td>0</td>\n",
       "      <td>673.0</td>\n",
       "      <td>363.0</td>\n",
       "      <td>243</td>\n",
       "    </tr>\n",
       "    <tr>\n",
       "      <th>341</th>\n",
       "      <td>2005.3</td>\n",
       "      <td>2</td>\n",
       "      <td>0</td>\n",
       "      <td>796.0</td>\n",
       "      <td>266.0</td>\n",
       "      <td>243</td>\n",
       "    </tr>\n",
       "    <tr>\n",
       "      <th>343</th>\n",
       "      <td>2875.3</td>\n",
       "      <td>2</td>\n",
       "      <td>0</td>\n",
       "      <td>995.0</td>\n",
       "      <td>264.0</td>\n",
       "      <td>243</td>\n",
       "    </tr>\n",
       "    <tr>\n",
       "      <th>346</th>\n",
       "      <td>3258.3</td>\n",
       "      <td>2</td>\n",
       "      <td>0</td>\n",
       "      <td>880.0</td>\n",
       "      <td>267.0</td>\n",
       "      <td>243</td>\n",
       "    </tr>\n",
       "    <tr>\n",
       "      <th>359</th>\n",
       "      <td>18308.3</td>\n",
       "      <td>2</td>\n",
       "      <td>0</td>\n",
       "      <td>771.0</td>\n",
       "      <td>342.0</td>\n",
       "      <td>243</td>\n",
       "    </tr>\n",
       "  </tbody>\n",
       "</table>\n",
       "</div>"
      ],
      "text/plain": [
       "     timeStamp  type  siteName  clientX  clientY  session\n",
       "339      824.3     2         0    673.0    363.0      243\n",
       "341     2005.3     2         0    796.0    266.0      243\n",
       "343     2875.3     2         0    995.0    264.0      243\n",
       "346     3258.3     2         0    880.0    267.0      243\n",
       "359    18308.3     2         0    771.0    342.0      243"
      ]
     },
     "execution_count": 243,
     "metadata": {},
     "output_type": "execute_result"
    }
   ],
   "source": [
    "df_mouseover = df_mouse.loc[df_mouse['type']=='mouseover']\n",
    "df_mouseout = df_mouse.loc[df_mouse['type']=='mouseout']\n",
    "df_mouse = pd.concat([df_mouseover, df_mouseout])\n",
    "\n",
    "df_mouse['type'] = df_mouse['type'].replace('mouseover', 2)\n",
    "df_mouse['type'] = df_mouse['type'].replace('mouseout', 3)\n",
    "\n",
    "df_mouse.head()"
   ]
  },
  {
   "cell_type": "code",
   "execution_count": null,
   "metadata": {},
   "outputs": [],
   "source": [
    "X_mouse = df_mouse[['timeStamp', 'type','clientX', 'clientY']]\n",
    "Y_mouse = df_mouse['siteName']\n",
    "\n",
    "X_mouse = StandardScaler().fit_transform(X_mouse)\n",
    "\n",
    "X_mouse_Train, X_mouse_Test, Y_mouse_Train, Y_mouse_Test = train_test_split(X_mouse, Y_mouse, test_size = 0.30, \n",
    "                                                    random_state = 101)"
   ]
  },
  {
   "cell_type": "code",
   "execution_count": null,
   "metadata": {},
   "outputs": [],
   "source": [
    "#Import Random Forest Model\n",
    "from sklearn.ensemble import RandomForestClassifier\n",
    "\n",
    "#Create a Gaussian Classifier\n",
    "forest_model_mouse=RandomForestClassifier(n_estimators=250)\n",
    "\n",
    "#Train the model using the training sets y_pred=clf.predict(X_test)\n",
    "forest_model_mouse.fit(X_mouse_Train,Y_mouse_Train)\n",
    "\n",
    "y_mouse_pred=forest_model_mouse.predict(X_mouse_Test)"
   ]
  },
  {
   "cell_type": "code",
   "execution_count": null,
   "metadata": {},
   "outputs": [
    {
     "name": "stdout",
     "output_type": "stream",
     "text": [
      "Accuracy: 0.925\n",
      "Precision: 0.955\n",
      "Recall: 0.954\n",
      "Confusion Matrix: [[180  46]\n",
      " [ 47 971]]\n",
      "AUC Score: 0.875\n",
      "MCC Score: 0.749\n",
      "F1 Score: 0.954\n"
     ]
    }
   ],
   "source": [
    "print('Accuracy: %.3f' % accuracy_score(Y_mouse_Test, y_mouse_pred))\n",
    "print('Precision: %.3f' % precision_score(Y_mouse_Test, y_mouse_pred))\n",
    "print('Recall: %.3f' % recall_score(Y_mouse_Test, y_mouse_pred))\n",
    "print('Confusion Matrix:', confusion_matrix(Y_mouse_Test, y_mouse_pred))\n",
    "print('AUC Score: %.3f' % metrics.roc_auc_score(Y_mouse_Test, y_mouse_pred))\n",
    "print('MCC Score: %.3f' % matthews_corrcoef(Y_mouse_Test, y_mouse_pred))\n",
    "print('F1 Score: %.3f' % f1_score(Y_mouse_Test, y_mouse_pred))"
   ]
  },
  {
   "cell_type": "markdown",
   "metadata": {},
   "source": [
    "# CNN Sequential Data Model"
   ]
  },
  {
   "cell_type": "code",
   "execution_count": 1073,
   "metadata": {},
   "outputs": [],
   "source": [
    "df_seq = pd.read_pickle('CleanedDataWithIds.pkl') \n",
    "df_seq['date'] = df_seq['date'].astype('datetime64[ns]')"
   ]
  },
  {
   "cell_type": "code",
   "execution_count": 1074,
   "metadata": {},
   "outputs": [
    {
     "data": {
      "text/html": [
       "<div>\n",
       "<style scoped>\n",
       "    .dataframe tbody tr th:only-of-type {\n",
       "        vertical-align: middle;\n",
       "    }\n",
       "\n",
       "    .dataframe tbody tr th {\n",
       "        vertical-align: top;\n",
       "    }\n",
       "\n",
       "    .dataframe thead th {\n",
       "        text-align: right;\n",
       "    }\n",
       "</style>\n",
       "<table border=\"1\" class=\"dataframe\">\n",
       "  <thead>\n",
       "    <tr style=\"text-align: right;\">\n",
       "      <th></th>\n",
       "      <th>elementId</th>\n",
       "      <th>timeStamp</th>\n",
       "      <th>type</th>\n",
       "      <th>siteName</th>\n",
       "      <th>date</th>\n",
       "      <th>clientX</th>\n",
       "      <th>clientY</th>\n",
       "      <th>session</th>\n",
       "      <th>height</th>\n",
       "      <th>width</th>\n",
       "    </tr>\n",
       "  </thead>\n",
       "  <tbody>\n",
       "    <tr>\n",
       "      <th>339</th>\n",
       "      <td>inputPet</td>\n",
       "      <td>824.3</td>\n",
       "      <td>mouseover</td>\n",
       "      <td>0</td>\n",
       "      <td>2022-10-17 13:35:24.171</td>\n",
       "      <td>673.000000</td>\n",
       "      <td>363.000000</td>\n",
       "      <td>243</td>\n",
       "      <td>944.0</td>\n",
       "      <td>1920.0</td>\n",
       "    </tr>\n",
       "    <tr>\n",
       "      <th>340</th>\n",
       "      <td>inputPet</td>\n",
       "      <td>858.3</td>\n",
       "      <td>mouseout</td>\n",
       "      <td>0</td>\n",
       "      <td>2022-10-17 13:35:24.205</td>\n",
       "      <td>772.000000</td>\n",
       "      <td>333.000000</td>\n",
       "      <td>243</td>\n",
       "      <td>944.0</td>\n",
       "      <td>1920.0</td>\n",
       "    </tr>\n",
       "    <tr>\n",
       "      <th>341</th>\n",
       "      <td>inputCountry</td>\n",
       "      <td>2005.3</td>\n",
       "      <td>mouseover</td>\n",
       "      <td>0</td>\n",
       "      <td>2022-10-17 13:35:25.361</td>\n",
       "      <td>796.000000</td>\n",
       "      <td>266.000000</td>\n",
       "      <td>243</td>\n",
       "      <td>944.0</td>\n",
       "      <td>1920.0</td>\n",
       "    </tr>\n",
       "    <tr>\n",
       "      <th>342</th>\n",
       "      <td>inputCountry</td>\n",
       "      <td>2296.5</td>\n",
       "      <td>focus</td>\n",
       "      <td>0</td>\n",
       "      <td>2022-10-17 13:35:25.652</td>\n",
       "      <td>526.105402</td>\n",
       "      <td>333.262187</td>\n",
       "      <td>243</td>\n",
       "      <td>944.0</td>\n",
       "      <td>1920.0</td>\n",
       "    </tr>\n",
       "    <tr>\n",
       "      <th>344</th>\n",
       "      <td>inputCountry</td>\n",
       "      <td>2875.3</td>\n",
       "      <td>mouseout</td>\n",
       "      <td>0</td>\n",
       "      <td>2022-10-17 13:35:26.229</td>\n",
       "      <td>995.000000</td>\n",
       "      <td>264.000000</td>\n",
       "      <td>243</td>\n",
       "      <td>944.0</td>\n",
       "      <td>1920.0</td>\n",
       "    </tr>\n",
       "  </tbody>\n",
       "</table>\n",
       "</div>"
      ],
      "text/plain": [
       "        elementId  timeStamp       type  siteName                    date  \\\n",
       "339      inputPet      824.3  mouseover         0 2022-10-17 13:35:24.171   \n",
       "340      inputPet      858.3   mouseout         0 2022-10-17 13:35:24.205   \n",
       "341  inputCountry     2005.3  mouseover         0 2022-10-17 13:35:25.361   \n",
       "342  inputCountry     2296.5      focus         0 2022-10-17 13:35:25.652   \n",
       "344  inputCountry     2875.3   mouseout         0 2022-10-17 13:35:26.229   \n",
       "\n",
       "        clientX     clientY  session  height   width  \n",
       "339  673.000000  363.000000      243   944.0  1920.0  \n",
       "340  772.000000  333.000000      243   944.0  1920.0  \n",
       "341  796.000000  266.000000      243   944.0  1920.0  \n",
       "342  526.105402  333.262187      243   944.0  1920.0  \n",
       "344  995.000000  264.000000      243   944.0  1920.0  "
      ]
     },
     "execution_count": 1074,
     "metadata": {},
     "output_type": "execute_result"
    }
   ],
   "source": [
    "df_seq= df_seq.sort_values(by=['date', 'session'], ascending=[True, False])\n",
    "df_seq.head()"
   ]
  },
  {
   "cell_type": "code",
   "execution_count": 1075,
   "metadata": {},
   "outputs": [],
   "source": [
    "df_seq=df_seq.drop(['elementId', 'date'], axis=1)"
   ]
  },
  {
   "cell_type": "code",
   "execution_count": 1076,
   "metadata": {},
   "outputs": [
    {
     "data": {
      "text/html": [
       "<div>\n",
       "<style scoped>\n",
       "    .dataframe tbody tr th:only-of-type {\n",
       "        vertical-align: middle;\n",
       "    }\n",
       "\n",
       "    .dataframe tbody tr th {\n",
       "        vertical-align: top;\n",
       "    }\n",
       "\n",
       "    .dataframe thead th {\n",
       "        text-align: right;\n",
       "    }\n",
       "</style>\n",
       "<table border=\"1\" class=\"dataframe\">\n",
       "  <thead>\n",
       "    <tr style=\"text-align: right;\">\n",
       "      <th></th>\n",
       "      <th>timeStamp</th>\n",
       "      <th>type</th>\n",
       "      <th>siteName</th>\n",
       "      <th>clientX</th>\n",
       "      <th>clientY</th>\n",
       "      <th>session</th>\n",
       "      <th>height</th>\n",
       "      <th>width</th>\n",
       "    </tr>\n",
       "  </thead>\n",
       "  <tbody>\n",
       "    <tr>\n",
       "      <th>339</th>\n",
       "      <td>824.3</td>\n",
       "      <td>mouseover</td>\n",
       "      <td>0</td>\n",
       "      <td>673.000000</td>\n",
       "      <td>363.000000</td>\n",
       "      <td>243</td>\n",
       "      <td>944.0</td>\n",
       "      <td>1920.0</td>\n",
       "    </tr>\n",
       "    <tr>\n",
       "      <th>340</th>\n",
       "      <td>858.3</td>\n",
       "      <td>mouseout</td>\n",
       "      <td>0</td>\n",
       "      <td>772.000000</td>\n",
       "      <td>333.000000</td>\n",
       "      <td>243</td>\n",
       "      <td>944.0</td>\n",
       "      <td>1920.0</td>\n",
       "    </tr>\n",
       "    <tr>\n",
       "      <th>341</th>\n",
       "      <td>2005.3</td>\n",
       "      <td>mouseover</td>\n",
       "      <td>0</td>\n",
       "      <td>796.000000</td>\n",
       "      <td>266.000000</td>\n",
       "      <td>243</td>\n",
       "      <td>944.0</td>\n",
       "      <td>1920.0</td>\n",
       "    </tr>\n",
       "    <tr>\n",
       "      <th>342</th>\n",
       "      <td>2296.5</td>\n",
       "      <td>focus</td>\n",
       "      <td>0</td>\n",
       "      <td>526.105402</td>\n",
       "      <td>333.262187</td>\n",
       "      <td>243</td>\n",
       "      <td>944.0</td>\n",
       "      <td>1920.0</td>\n",
       "    </tr>\n",
       "    <tr>\n",
       "      <th>344</th>\n",
       "      <td>2875.3</td>\n",
       "      <td>mouseout</td>\n",
       "      <td>0</td>\n",
       "      <td>995.000000</td>\n",
       "      <td>264.000000</td>\n",
       "      <td>243</td>\n",
       "      <td>944.0</td>\n",
       "      <td>1920.0</td>\n",
       "    </tr>\n",
       "  </tbody>\n",
       "</table>\n",
       "</div>"
      ],
      "text/plain": [
       "     timeStamp       type  siteName     clientX     clientY  session  height  \\\n",
       "339      824.3  mouseover         0  673.000000  363.000000      243   944.0   \n",
       "340      858.3   mouseout         0  772.000000  333.000000      243   944.0   \n",
       "341     2005.3  mouseover         0  796.000000  266.000000      243   944.0   \n",
       "342     2296.5      focus         0  526.105402  333.262187      243   944.0   \n",
       "344     2875.3   mouseout         0  995.000000  264.000000      243   944.0   \n",
       "\n",
       "      width  \n",
       "339  1920.0  \n",
       "340  1920.0  \n",
       "341  1920.0  \n",
       "342  1920.0  \n",
       "344  1920.0  "
      ]
     },
     "execution_count": 1076,
     "metadata": {},
     "output_type": "execute_result"
    }
   ],
   "source": [
    "df_seq.head()"
   ]
  },
  {
   "cell_type": "code",
   "execution_count": 1077,
   "metadata": {},
   "outputs": [],
   "source": [
    "from keras.models import Sequential\n",
    "from keras.layers import LSTM, Dense, Dropout\n",
    "\n",
    "df_encoded = df_seq.sort_values(by=['session', 'timeStamp'])"
   ]
  },
  {
   "cell_type": "code",
   "execution_count": 1078,
   "metadata": {},
   "outputs": [],
   "source": [
    "from sklearn.preprocessing import LabelEncoder\n",
    "from sklearn.model_selection import train_test_split\n",
    "from keras.models import Sequential\n",
    "from keras.layers import LSTM, Dense\n",
    "\n",
    "le = LabelEncoder()\n",
    "df_encoded['siteName'] = le.fit_transform(df_encoded['siteName'])\n"
   ]
  },
  {
   "cell_type": "code",
   "execution_count": 1079,
   "metadata": {},
   "outputs": [],
   "source": [
    "df_encoded = pd.get_dummies(df_encoded, columns=['type'])"
   ]
  },
  {
   "cell_type": "code",
   "execution_count": 1080,
   "metadata": {},
   "outputs": [
    {
     "data": {
      "text/html": [
       "<div>\n",
       "<style scoped>\n",
       "    .dataframe tbody tr th:only-of-type {\n",
       "        vertical-align: middle;\n",
       "    }\n",
       "\n",
       "    .dataframe tbody tr th {\n",
       "        vertical-align: top;\n",
       "    }\n",
       "\n",
       "    .dataframe thead th {\n",
       "        text-align: right;\n",
       "    }\n",
       "</style>\n",
       "<table border=\"1\" class=\"dataframe\">\n",
       "  <thead>\n",
       "    <tr style=\"text-align: right;\">\n",
       "      <th></th>\n",
       "      <th>timeStamp</th>\n",
       "      <th>siteName</th>\n",
       "      <th>clientX</th>\n",
       "      <th>clientY</th>\n",
       "      <th>session</th>\n",
       "      <th>height</th>\n",
       "      <th>width</th>\n",
       "      <th>type_blur</th>\n",
       "      <th>type_click</th>\n",
       "      <th>type_focus</th>\n",
       "      <th>type_keydown</th>\n",
       "      <th>type_mouseout</th>\n",
       "      <th>type_mouseover</th>\n",
       "    </tr>\n",
       "  </thead>\n",
       "  <tbody>\n",
       "    <tr>\n",
       "      <th>18052</th>\n",
       "      <td>587.0</td>\n",
       "      <td>1</td>\n",
       "      <td>1389.0</td>\n",
       "      <td>465.0</td>\n",
       "      <td>102</td>\n",
       "      <td>1279.0</td>\n",
       "      <td>3440.0</td>\n",
       "      <td>0</td>\n",
       "      <td>0</td>\n",
       "      <td>0</td>\n",
       "      <td>0</td>\n",
       "      <td>0</td>\n",
       "      <td>1</td>\n",
       "    </tr>\n",
       "    <tr>\n",
       "      <th>18051</th>\n",
       "      <td>605.0</td>\n",
       "      <td>1</td>\n",
       "      <td>1385.0</td>\n",
       "      <td>428.0</td>\n",
       "      <td>102</td>\n",
       "      <td>1279.0</td>\n",
       "      <td>3440.0</td>\n",
       "      <td>0</td>\n",
       "      <td>0</td>\n",
       "      <td>0</td>\n",
       "      <td>0</td>\n",
       "      <td>1</td>\n",
       "      <td>0</td>\n",
       "    </tr>\n",
       "    <tr>\n",
       "      <th>18054</th>\n",
       "      <td>704.0</td>\n",
       "      <td>1</td>\n",
       "      <td>1395.0</td>\n",
       "      <td>316.0</td>\n",
       "      <td>102</td>\n",
       "      <td>1279.0</td>\n",
       "      <td>3440.0</td>\n",
       "      <td>0</td>\n",
       "      <td>0</td>\n",
       "      <td>0</td>\n",
       "      <td>0</td>\n",
       "      <td>0</td>\n",
       "      <td>1</td>\n",
       "    </tr>\n",
       "    <tr>\n",
       "      <th>18053</th>\n",
       "      <td>755.0</td>\n",
       "      <td>1</td>\n",
       "      <td>1416.0</td>\n",
       "      <td>285.0</td>\n",
       "      <td>102</td>\n",
       "      <td>1279.0</td>\n",
       "      <td>3440.0</td>\n",
       "      <td>0</td>\n",
       "      <td>0</td>\n",
       "      <td>0</td>\n",
       "      <td>0</td>\n",
       "      <td>1</td>\n",
       "      <td>0</td>\n",
       "    </tr>\n",
       "    <tr>\n",
       "      <th>18055</th>\n",
       "      <td>1057.0</td>\n",
       "      <td>1</td>\n",
       "      <td>1416.0</td>\n",
       "      <td>286.0</td>\n",
       "      <td>102</td>\n",
       "      <td>1279.0</td>\n",
       "      <td>3440.0</td>\n",
       "      <td>0</td>\n",
       "      <td>0</td>\n",
       "      <td>0</td>\n",
       "      <td>0</td>\n",
       "      <td>0</td>\n",
       "      <td>1</td>\n",
       "    </tr>\n",
       "  </tbody>\n",
       "</table>\n",
       "</div>"
      ],
      "text/plain": [
       "       timeStamp  siteName  clientX  clientY  session  height   width  \\\n",
       "18052      587.0         1   1389.0    465.0      102  1279.0  3440.0   \n",
       "18051      605.0         1   1385.0    428.0      102  1279.0  3440.0   \n",
       "18054      704.0         1   1395.0    316.0      102  1279.0  3440.0   \n",
       "18053      755.0         1   1416.0    285.0      102  1279.0  3440.0   \n",
       "18055     1057.0         1   1416.0    286.0      102  1279.0  3440.0   \n",
       "\n",
       "       type_blur  type_click  type_focus  type_keydown  type_mouseout  \\\n",
       "18052          0           0           0             0              0   \n",
       "18051          0           0           0             0              1   \n",
       "18054          0           0           0             0              0   \n",
       "18053          0           0           0             0              1   \n",
       "18055          0           0           0             0              0   \n",
       "\n",
       "       type_mouseover  \n",
       "18052               1  \n",
       "18051               0  \n",
       "18054               1  \n",
       "18053               0  \n",
       "18055               1  "
      ]
     },
     "execution_count": 1080,
     "metadata": {},
     "output_type": "execute_result"
    }
   ],
   "source": [
    "df_encoded.head()"
   ]
  },
  {
   "cell_type": "code",
   "execution_count": 1081,
   "metadata": {},
   "outputs": [],
   "source": [
    "X = df_encoded.drop(['siteName'], axis=1)\n",
    "y = df_encoded['siteName']"
   ]
  },
  {
   "cell_type": "code",
   "execution_count": 1100,
   "metadata": {},
   "outputs": [
    {
     "name": "stdout",
     "output_type": "stream",
     "text": [
      "Epoch 1/20\n",
      "222/222 [==============================] - 4s 4ms/step - loss: 4.2238 - accuracy: 0.8198\n",
      "Epoch 2/20\n",
      "222/222 [==============================] - 1s 3ms/step - loss: 3.3692 - accuracy: 0.8198\n",
      "Epoch 3/20\n",
      "222/222 [==============================] - 1s 3ms/step - loss: 3.0990 - accuracy: 0.8198\n",
      "Epoch 4/20\n",
      "222/222 [==============================] - 1s 3ms/step - loss: 2.9312 - accuracy: 0.8198\n",
      "Epoch 5/20\n",
      "222/222 [==============================] - 1s 3ms/step - loss: 2.8348 - accuracy: 0.8198\n",
      "Epoch 6/20\n",
      "222/222 [==============================] - 1s 3ms/step - loss: 2.7845 - accuracy: 0.8198\n",
      "Epoch 7/20\n",
      "222/222 [==============================] - 1s 3ms/step - loss: 2.7612 - accuracy: 0.8198\n",
      "Epoch 8/20\n",
      "222/222 [==============================] - 1s 3ms/step - loss: 2.7518 - accuracy: 0.8198\n",
      "Epoch 9/20\n",
      "222/222 [==============================] - 1s 3ms/step - loss: 2.7486 - accuracy: 0.8198\n",
      "Epoch 10/20\n",
      "222/222 [==============================] - 1s 3ms/step - loss: 2.7476 - accuracy: 0.8198\n",
      "Epoch 11/20\n",
      "222/222 [==============================] - 1s 3ms/step - loss: 2.7474 - accuracy: 0.8198\n",
      "Epoch 12/20\n",
      "222/222 [==============================] - 1s 3ms/step - loss: 2.7473 - accuracy: 0.8198\n",
      "Epoch 13/20\n",
      "222/222 [==============================] - 1s 3ms/step - loss: 2.7473 - accuracy: 0.8198\n",
      "Epoch 14/20\n",
      "222/222 [==============================] - 1s 3ms/step - loss: 2.7473 - accuracy: 0.8198\n",
      "Epoch 15/20\n",
      "222/222 [==============================] - 1s 3ms/step - loss: 2.7473 - accuracy: 0.8198\n",
      "Epoch 16/20\n",
      "222/222 [==============================] - 1s 3ms/step - loss: 2.7473 - accuracy: 0.8198\n",
      "Epoch 17/20\n",
      "222/222 [==============================] - 1s 3ms/step - loss: 2.7473 - accuracy: 0.8198\n",
      "Epoch 18/20\n",
      "222/222 [==============================] - 1s 3ms/step - loss: 2.7473 - accuracy: 0.8198\n",
      "Epoch 19/20\n",
      "222/222 [==============================] - 1s 3ms/step - loss: 2.7473 - accuracy: 0.8198\n",
      "Epoch 20/20\n",
      "222/222 [==============================] - 1s 3ms/step - loss: 2.7473 - accuracy: 0.8198\n"
     ]
    },
    {
     "data": {
      "text/plain": [
       "<keras.callbacks.History at 0x7fe54e30fd00>"
      ]
     },
     "execution_count": 1100,
     "metadata": {},
     "output_type": "execute_result"
    }
   ],
   "source": [
    "from keras.optimizers import Adam\n",
    "from sklearn.model_selection import KFold\n",
    "# define and fit model\n",
    "from keras import regularizers\n",
    "\n",
    "# split into train and test sets\n",
    "X_train, X_test, y_train, y_test = train_test_split(X, y, test_size=0.2, random_state=0)\n",
    "\n",
    "# reshape data for LSTM\n",
    "X_train = np.reshape(X_train.values, (X_train.shape[0], 1, X_train.shape[1]))\n",
    "X_test = np.reshape(X_test.values, (X_test.shape[0], 1, X_test.shape[1]))\n",
    "\n",
    "\n",
    "model = Sequential()\n",
    "model.add(LSTM(64, return_sequences=True, kernel_regularizer=regularizers.l2(0.01), recurrent_regularizer=regularizers.l2(0.01), bias_regularizer=regularizers.l2(0.01), input_shape=(X_train.shape[1], X_train.shape[2])))\n",
    "model.add(Dropout(0.5))\n",
    "model.add(LSTM(64, return_sequences=True, kernel_regularizer=regularizers.l2(0.01), recurrent_regularizer=regularizers.l2(0.01), bias_regularizer=regularizers.l2(0.01), input_shape=(X_train.shape[1], X_train.shape[2])))\n",
    "model.add(Dropout(0.5))\n",
    "model.add(Dense(1, activation='softmax'))\n",
    "model.compile(loss='binary_crossentropy', optimizer='adam', metrics=['accuracy'])\n",
    "\n",
    "# Train the model with increased number of epochs\n",
    "model.fit(X_train, y_train, epochs=20, shuffle=False)"
   ]
  },
  {
   "cell_type": "code",
   "execution_count": 1012,
   "metadata": {},
   "outputs": [
    {
     "name": "stdout",
     "output_type": "stream",
     "text": [
      "Test loss: 0.0016635657520964742\n",
      "Test accuracy: 0.8327683806419373\n"
     ]
    }
   ],
   "source": [
    "# evaluate the model\n",
    "score = model.evaluate(X_test, y_test, verbose=0)\n",
    "print(\"Test loss:\", score[0])\n",
    "print(\"Test accuracy:\", score[1])\n"
   ]
  },
  {
   "cell_type": "code",
   "execution_count": 1070,
   "metadata": {},
   "outputs": [
    {
     "data": {
      "text/html": [
       "<div>\n",
       "<style scoped>\n",
       "    .dataframe tbody tr th:only-of-type {\n",
       "        vertical-align: middle;\n",
       "    }\n",
       "\n",
       "    .dataframe tbody tr th {\n",
       "        vertical-align: top;\n",
       "    }\n",
       "\n",
       "    .dataframe thead th {\n",
       "        text-align: right;\n",
       "    }\n",
       "</style>\n",
       "<table border=\"1\" class=\"dataframe\">\n",
       "  <thead>\n",
       "    <tr style=\"text-align: right;\">\n",
       "      <th></th>\n",
       "      <th>timeStamp</th>\n",
       "      <th>siteName</th>\n",
       "      <th>clientX</th>\n",
       "      <th>clientY</th>\n",
       "      <th>session</th>\n",
       "      <th>height</th>\n",
       "      <th>width</th>\n",
       "      <th>type_blur</th>\n",
       "      <th>type_click</th>\n",
       "      <th>type_focus</th>\n",
       "      <th>type_keydown</th>\n",
       "      <th>type_mouseout</th>\n",
       "      <th>type_mouseover</th>\n",
       "    </tr>\n",
       "  </thead>\n",
       "  <tbody>\n",
       "    <tr>\n",
       "      <th>18052</th>\n",
       "      <td>587.0</td>\n",
       "      <td>1</td>\n",
       "      <td>1389.0</td>\n",
       "      <td>465.0</td>\n",
       "      <td>102</td>\n",
       "      <td>1279.0</td>\n",
       "      <td>3440.0</td>\n",
       "      <td>0</td>\n",
       "      <td>0</td>\n",
       "      <td>0</td>\n",
       "      <td>0</td>\n",
       "      <td>0</td>\n",
       "      <td>1</td>\n",
       "    </tr>\n",
       "    <tr>\n",
       "      <th>18051</th>\n",
       "      <td>605.0</td>\n",
       "      <td>1</td>\n",
       "      <td>1385.0</td>\n",
       "      <td>428.0</td>\n",
       "      <td>102</td>\n",
       "      <td>1279.0</td>\n",
       "      <td>3440.0</td>\n",
       "      <td>0</td>\n",
       "      <td>0</td>\n",
       "      <td>0</td>\n",
       "      <td>0</td>\n",
       "      <td>1</td>\n",
       "      <td>0</td>\n",
       "    </tr>\n",
       "    <tr>\n",
       "      <th>18054</th>\n",
       "      <td>704.0</td>\n",
       "      <td>1</td>\n",
       "      <td>1395.0</td>\n",
       "      <td>316.0</td>\n",
       "      <td>102</td>\n",
       "      <td>1279.0</td>\n",
       "      <td>3440.0</td>\n",
       "      <td>0</td>\n",
       "      <td>0</td>\n",
       "      <td>0</td>\n",
       "      <td>0</td>\n",
       "      <td>0</td>\n",
       "      <td>1</td>\n",
       "    </tr>\n",
       "    <tr>\n",
       "      <th>18053</th>\n",
       "      <td>755.0</td>\n",
       "      <td>1</td>\n",
       "      <td>1416.0</td>\n",
       "      <td>285.0</td>\n",
       "      <td>102</td>\n",
       "      <td>1279.0</td>\n",
       "      <td>3440.0</td>\n",
       "      <td>0</td>\n",
       "      <td>0</td>\n",
       "      <td>0</td>\n",
       "      <td>0</td>\n",
       "      <td>1</td>\n",
       "      <td>0</td>\n",
       "    </tr>\n",
       "    <tr>\n",
       "      <th>18055</th>\n",
       "      <td>1057.0</td>\n",
       "      <td>1</td>\n",
       "      <td>1416.0</td>\n",
       "      <td>286.0</td>\n",
       "      <td>102</td>\n",
       "      <td>1279.0</td>\n",
       "      <td>3440.0</td>\n",
       "      <td>0</td>\n",
       "      <td>0</td>\n",
       "      <td>0</td>\n",
       "      <td>0</td>\n",
       "      <td>0</td>\n",
       "      <td>1</td>\n",
       "    </tr>\n",
       "  </tbody>\n",
       "</table>\n",
       "</div>"
      ],
      "text/plain": [
       "       timeStamp  siteName  clientX  clientY  session  height   width  \\\n",
       "18052      587.0         1   1389.0    465.0      102  1279.0  3440.0   \n",
       "18051      605.0         1   1385.0    428.0      102  1279.0  3440.0   \n",
       "18054      704.0         1   1395.0    316.0      102  1279.0  3440.0   \n",
       "18053      755.0         1   1416.0    285.0      102  1279.0  3440.0   \n",
       "18055     1057.0         1   1416.0    286.0      102  1279.0  3440.0   \n",
       "\n",
       "       type_blur  type_click  type_focus  type_keydown  type_mouseout  \\\n",
       "18052          0           0           0             0              0   \n",
       "18051          0           0           0             0              1   \n",
       "18054          0           0           0             0              0   \n",
       "18053          0           0           0             0              1   \n",
       "18055          0           0           0             0              0   \n",
       "\n",
       "       type_mouseover  \n",
       "18052               1  \n",
       "18051               0  \n",
       "18054               1  \n",
       "18053               0  \n",
       "18055               1  "
      ]
     },
     "execution_count": 1070,
     "metadata": {},
     "output_type": "execute_result"
    }
   ],
   "source": [
    "df_encoded.head()"
   ]
  },
  {
   "cell_type": "code",
   "execution_count": 1072,
   "metadata": {},
   "outputs": [
    {
     "ename": "ValueError",
     "evalue": "Must pass 2-d input. shape=(7077, 1, 12)",
     "output_type": "error",
     "traceback": [
      "\u001b[0;31m---------------------------------------------------------------------------\u001b[0m",
      "\u001b[0;31mValueError\u001b[0m                                Traceback (most recent call last)",
      "\u001b[0;32m<ipython-input-1072-63ebf0909c98>\u001b[0m in \u001b[0;36m<module>\u001b[0;34m\u001b[0m\n\u001b[1;32m     10\u001b[0m \u001b[0;31m# reshape data for LSTM\u001b[0m\u001b[0;34m\u001b[0m\u001b[0;34m\u001b[0m\u001b[0;34m\u001b[0m\u001b[0m\n\u001b[1;32m     11\u001b[0m \u001b[0;31m# reshape input for compatibility with model\u001b[0m\u001b[0;34m\u001b[0m\u001b[0;34m\u001b[0m\u001b[0;34m\u001b[0m\u001b[0m\n\u001b[0;32m---> 12\u001b[0;31m \u001b[0mX_train\u001b[0m \u001b[0;34m=\u001b[0m \u001b[0mnp\u001b[0m\u001b[0;34m.\u001b[0m\u001b[0mreshape\u001b[0m\u001b[0;34m(\u001b[0m\u001b[0mX_train\u001b[0m\u001b[0;34m,\u001b[0m \u001b[0;34m(\u001b[0m\u001b[0mX_train\u001b[0m\u001b[0;34m.\u001b[0m\u001b[0mshape\u001b[0m\u001b[0;34m[\u001b[0m\u001b[0;36m0\u001b[0m\u001b[0;34m]\u001b[0m\u001b[0;34m,\u001b[0m \u001b[0;36m1\u001b[0m\u001b[0;34m,\u001b[0m \u001b[0mX_train\u001b[0m\u001b[0;34m.\u001b[0m\u001b[0mshape\u001b[0m\u001b[0;34m[\u001b[0m\u001b[0;36m1\u001b[0m\u001b[0;34m]\u001b[0m\u001b[0;34m)\u001b[0m\u001b[0;34m)\u001b[0m\u001b[0;34m.\u001b[0m\u001b[0mvalues\u001b[0m\u001b[0;34m\u001b[0m\u001b[0;34m\u001b[0m\u001b[0m\n\u001b[0m\u001b[1;32m     13\u001b[0m \u001b[0mX_test\u001b[0m \u001b[0;34m=\u001b[0m \u001b[0mnp\u001b[0m\u001b[0;34m.\u001b[0m\u001b[0mreshape\u001b[0m\u001b[0;34m(\u001b[0m\u001b[0mX_test\u001b[0m\u001b[0;34m,\u001b[0m \u001b[0;34m(\u001b[0m\u001b[0mX_test\u001b[0m\u001b[0;34m.\u001b[0m\u001b[0mshape\u001b[0m\u001b[0;34m[\u001b[0m\u001b[0;36m0\u001b[0m\u001b[0;34m]\u001b[0m\u001b[0;34m,\u001b[0m \u001b[0;36m1\u001b[0m\u001b[0;34m,\u001b[0m \u001b[0mX_test\u001b[0m\u001b[0;34m.\u001b[0m\u001b[0mshape\u001b[0m\u001b[0;34m[\u001b[0m\u001b[0;36m1\u001b[0m\u001b[0;34m]\u001b[0m\u001b[0;34m)\u001b[0m\u001b[0;34m)\u001b[0m\u001b[0;34m.\u001b[0m\u001b[0mvalues\u001b[0m\u001b[0;34m\u001b[0m\u001b[0;34m\u001b[0m\u001b[0m\n\u001b[1;32m     14\u001b[0m \u001b[0my_train\u001b[0m \u001b[0;34m=\u001b[0m \u001b[0mto_categorical\u001b[0m\u001b[0;34m(\u001b[0m\u001b[0my_train\u001b[0m\u001b[0;34m)\u001b[0m\u001b[0;34m\u001b[0m\u001b[0;34m\u001b[0m\u001b[0m\n",
      "\u001b[0;32m~/opt/anaconda3/lib/python3.8/site-packages/numpy/core/overrides.py\u001b[0m in \u001b[0;36mreshape\u001b[0;34m(*args, **kwargs)\u001b[0m\n",
      "\u001b[0;32m~/opt/anaconda3/lib/python3.8/site-packages/numpy/core/fromnumeric.py\u001b[0m in \u001b[0;36mreshape\u001b[0;34m(a, newshape, order)\u001b[0m\n\u001b[1;32m    296\u001b[0m            [5, 6]])\n\u001b[1;32m    297\u001b[0m     \"\"\"\n\u001b[0;32m--> 298\u001b[0;31m     \u001b[0;32mreturn\u001b[0m \u001b[0m_wrapfunc\u001b[0m\u001b[0;34m(\u001b[0m\u001b[0ma\u001b[0m\u001b[0;34m,\u001b[0m \u001b[0;34m'reshape'\u001b[0m\u001b[0;34m,\u001b[0m \u001b[0mnewshape\u001b[0m\u001b[0;34m,\u001b[0m \u001b[0morder\u001b[0m\u001b[0;34m=\u001b[0m\u001b[0morder\u001b[0m\u001b[0;34m)\u001b[0m\u001b[0;34m\u001b[0m\u001b[0;34m\u001b[0m\u001b[0m\n\u001b[0m\u001b[1;32m    299\u001b[0m \u001b[0;34m\u001b[0m\u001b[0m\n\u001b[1;32m    300\u001b[0m \u001b[0;34m\u001b[0m\u001b[0m\n",
      "\u001b[0;32m~/opt/anaconda3/lib/python3.8/site-packages/numpy/core/fromnumeric.py\u001b[0m in \u001b[0;36m_wrapfunc\u001b[0;34m(obj, method, *args, **kwds)\u001b[0m\n\u001b[1;32m     52\u001b[0m     \u001b[0mbound\u001b[0m \u001b[0;34m=\u001b[0m \u001b[0mgetattr\u001b[0m\u001b[0;34m(\u001b[0m\u001b[0mobj\u001b[0m\u001b[0;34m,\u001b[0m \u001b[0mmethod\u001b[0m\u001b[0;34m,\u001b[0m \u001b[0;32mNone\u001b[0m\u001b[0;34m)\u001b[0m\u001b[0;34m\u001b[0m\u001b[0;34m\u001b[0m\u001b[0m\n\u001b[1;32m     53\u001b[0m     \u001b[0;32mif\u001b[0m \u001b[0mbound\u001b[0m \u001b[0;32mis\u001b[0m \u001b[0;32mNone\u001b[0m\u001b[0;34m:\u001b[0m\u001b[0;34m\u001b[0m\u001b[0;34m\u001b[0m\u001b[0m\n\u001b[0;32m---> 54\u001b[0;31m         \u001b[0;32mreturn\u001b[0m \u001b[0m_wrapit\u001b[0m\u001b[0;34m(\u001b[0m\u001b[0mobj\u001b[0m\u001b[0;34m,\u001b[0m \u001b[0mmethod\u001b[0m\u001b[0;34m,\u001b[0m \u001b[0;34m*\u001b[0m\u001b[0margs\u001b[0m\u001b[0;34m,\u001b[0m \u001b[0;34m**\u001b[0m\u001b[0mkwds\u001b[0m\u001b[0;34m)\u001b[0m\u001b[0;34m\u001b[0m\u001b[0;34m\u001b[0m\u001b[0m\n\u001b[0m\u001b[1;32m     55\u001b[0m \u001b[0;34m\u001b[0m\u001b[0m\n\u001b[1;32m     56\u001b[0m     \u001b[0;32mtry\u001b[0m\u001b[0;34m:\u001b[0m\u001b[0;34m\u001b[0m\u001b[0;34m\u001b[0m\u001b[0m\n",
      "\u001b[0;32m~/opt/anaconda3/lib/python3.8/site-packages/numpy/core/fromnumeric.py\u001b[0m in \u001b[0;36m_wrapit\u001b[0;34m(obj, method, *args, **kwds)\u001b[0m\n\u001b[1;32m     45\u001b[0m         \u001b[0;32mif\u001b[0m \u001b[0;32mnot\u001b[0m \u001b[0misinstance\u001b[0m\u001b[0;34m(\u001b[0m\u001b[0mresult\u001b[0m\u001b[0;34m,\u001b[0m \u001b[0mmu\u001b[0m\u001b[0;34m.\u001b[0m\u001b[0mndarray\u001b[0m\u001b[0;34m)\u001b[0m\u001b[0;34m:\u001b[0m\u001b[0;34m\u001b[0m\u001b[0;34m\u001b[0m\u001b[0m\n\u001b[1;32m     46\u001b[0m             \u001b[0mresult\u001b[0m \u001b[0;34m=\u001b[0m \u001b[0masarray\u001b[0m\u001b[0;34m(\u001b[0m\u001b[0mresult\u001b[0m\u001b[0;34m)\u001b[0m\u001b[0;34m\u001b[0m\u001b[0;34m\u001b[0m\u001b[0m\n\u001b[0;32m---> 47\u001b[0;31m         \u001b[0mresult\u001b[0m \u001b[0;34m=\u001b[0m \u001b[0mwrap\u001b[0m\u001b[0;34m(\u001b[0m\u001b[0mresult\u001b[0m\u001b[0;34m)\u001b[0m\u001b[0;34m\u001b[0m\u001b[0;34m\u001b[0m\u001b[0m\n\u001b[0m\u001b[1;32m     48\u001b[0m     \u001b[0;32mreturn\u001b[0m \u001b[0mresult\u001b[0m\u001b[0;34m\u001b[0m\u001b[0;34m\u001b[0m\u001b[0m\n\u001b[1;32m     49\u001b[0m \u001b[0;34m\u001b[0m\u001b[0m\n",
      "\u001b[0;32m~/opt/anaconda3/lib/python3.8/site-packages/pandas/core/generic.py\u001b[0m in \u001b[0;36m__array_wrap__\u001b[0;34m(self, result, context)\u001b[0m\n\u001b[1;32m   2105\u001b[0m             \u001b[0;32mreturn\u001b[0m \u001b[0mres\u001b[0m\u001b[0;34m\u001b[0m\u001b[0;34m\u001b[0m\u001b[0m\n\u001b[1;32m   2106\u001b[0m         \u001b[0md\u001b[0m \u001b[0;34m=\u001b[0m \u001b[0mself\u001b[0m\u001b[0;34m.\u001b[0m\u001b[0m_construct_axes_dict\u001b[0m\u001b[0;34m(\u001b[0m\u001b[0mself\u001b[0m\u001b[0;34m.\u001b[0m\u001b[0m_AXIS_ORDERS\u001b[0m\u001b[0;34m,\u001b[0m \u001b[0mcopy\u001b[0m\u001b[0;34m=\u001b[0m\u001b[0;32mFalse\u001b[0m\u001b[0;34m)\u001b[0m\u001b[0;34m\u001b[0m\u001b[0;34m\u001b[0m\u001b[0m\n\u001b[0;32m-> 2107\u001b[0;31m         \u001b[0;32mreturn\u001b[0m \u001b[0mself\u001b[0m\u001b[0;34m.\u001b[0m\u001b[0m_constructor\u001b[0m\u001b[0;34m(\u001b[0m\u001b[0mres\u001b[0m\u001b[0;34m,\u001b[0m \u001b[0;34m**\u001b[0m\u001b[0md\u001b[0m\u001b[0;34m)\u001b[0m\u001b[0;34m.\u001b[0m\u001b[0m__finalize__\u001b[0m\u001b[0;34m(\u001b[0m\u001b[0mself\u001b[0m\u001b[0;34m,\u001b[0m \u001b[0mmethod\u001b[0m\u001b[0;34m=\u001b[0m\u001b[0;34m\"__array_wrap__\"\u001b[0m\u001b[0;34m)\u001b[0m\u001b[0;34m\u001b[0m\u001b[0;34m\u001b[0m\u001b[0m\n\u001b[0m\u001b[1;32m   2108\u001b[0m \u001b[0;34m\u001b[0m\u001b[0m\n\u001b[1;32m   2109\u001b[0m     \u001b[0;34m@\u001b[0m\u001b[0mfinal\u001b[0m\u001b[0;34m\u001b[0m\u001b[0;34m\u001b[0m\u001b[0m\n",
      "\u001b[0;32m~/opt/anaconda3/lib/python3.8/site-packages/pandas/core/frame.py\u001b[0m in \u001b[0;36m__init__\u001b[0;34m(self, data, index, columns, dtype, copy)\u001b[0m\n\u001b[1;32m    719\u001b[0m                 )\n\u001b[1;32m    720\u001b[0m             \u001b[0;32melse\u001b[0m\u001b[0;34m:\u001b[0m\u001b[0;34m\u001b[0m\u001b[0;34m\u001b[0m\u001b[0m\n\u001b[0;32m--> 721\u001b[0;31m                 mgr = ndarray_to_mgr(\n\u001b[0m\u001b[1;32m    722\u001b[0m                     \u001b[0mdata\u001b[0m\u001b[0;34m,\u001b[0m\u001b[0;34m\u001b[0m\u001b[0;34m\u001b[0m\u001b[0m\n\u001b[1;32m    723\u001b[0m                     \u001b[0mindex\u001b[0m\u001b[0;34m,\u001b[0m\u001b[0;34m\u001b[0m\u001b[0;34m\u001b[0m\u001b[0m\n",
      "\u001b[0;32m~/opt/anaconda3/lib/python3.8/site-packages/pandas/core/internals/construction.py\u001b[0m in \u001b[0;36mndarray_to_mgr\u001b[0;34m(values, index, columns, dtype, copy, typ)\u001b[0m\n\u001b[1;32m    327\u001b[0m         \u001b[0;31m# by definition an array here\u001b[0m\u001b[0;34m\u001b[0m\u001b[0;34m\u001b[0m\u001b[0;34m\u001b[0m\u001b[0m\n\u001b[1;32m    328\u001b[0m         \u001b[0;31m# the dtypes will be coerced to a single dtype\u001b[0m\u001b[0;34m\u001b[0m\u001b[0;34m\u001b[0m\u001b[0;34m\u001b[0m\u001b[0m\n\u001b[0;32m--> 329\u001b[0;31m         \u001b[0mvalues\u001b[0m \u001b[0;34m=\u001b[0m \u001b[0m_prep_ndarraylike\u001b[0m\u001b[0;34m(\u001b[0m\u001b[0mvalues\u001b[0m\u001b[0;34m,\u001b[0m \u001b[0mcopy\u001b[0m\u001b[0;34m=\u001b[0m\u001b[0mcopy_on_sanitize\u001b[0m\u001b[0;34m)\u001b[0m\u001b[0;34m\u001b[0m\u001b[0;34m\u001b[0m\u001b[0m\n\u001b[0m\u001b[1;32m    330\u001b[0m \u001b[0;34m\u001b[0m\u001b[0m\n\u001b[1;32m    331\u001b[0m     \u001b[0;32mif\u001b[0m \u001b[0mdtype\u001b[0m \u001b[0;32mis\u001b[0m \u001b[0;32mnot\u001b[0m \u001b[0;32mNone\u001b[0m \u001b[0;32mand\u001b[0m \u001b[0;32mnot\u001b[0m \u001b[0mis_dtype_equal\u001b[0m\u001b[0;34m(\u001b[0m\u001b[0mvalues\u001b[0m\u001b[0;34m.\u001b[0m\u001b[0mdtype\u001b[0m\u001b[0;34m,\u001b[0m \u001b[0mdtype\u001b[0m\u001b[0;34m)\u001b[0m\u001b[0;34m:\u001b[0m\u001b[0;34m\u001b[0m\u001b[0;34m\u001b[0m\u001b[0m\n",
      "\u001b[0;32m~/opt/anaconda3/lib/python3.8/site-packages/pandas/core/internals/construction.py\u001b[0m in \u001b[0;36m_prep_ndarraylike\u001b[0;34m(values, copy)\u001b[0m\n\u001b[1;32m    581\u001b[0m         \u001b[0mvalues\u001b[0m \u001b[0;34m=\u001b[0m \u001b[0mvalues\u001b[0m\u001b[0;34m.\u001b[0m\u001b[0mreshape\u001b[0m\u001b[0;34m(\u001b[0m\u001b[0;34m(\u001b[0m\u001b[0mvalues\u001b[0m\u001b[0;34m.\u001b[0m\u001b[0mshape\u001b[0m\u001b[0;34m[\u001b[0m\u001b[0;36m0\u001b[0m\u001b[0;34m]\u001b[0m\u001b[0;34m,\u001b[0m \u001b[0;36m1\u001b[0m\u001b[0;34m)\u001b[0m\u001b[0;34m)\u001b[0m\u001b[0;34m\u001b[0m\u001b[0;34m\u001b[0m\u001b[0m\n\u001b[1;32m    582\u001b[0m     \u001b[0;32melif\u001b[0m \u001b[0mvalues\u001b[0m\u001b[0;34m.\u001b[0m\u001b[0mndim\u001b[0m \u001b[0;34m!=\u001b[0m \u001b[0;36m2\u001b[0m\u001b[0;34m:\u001b[0m\u001b[0;34m\u001b[0m\u001b[0;34m\u001b[0m\u001b[0m\n\u001b[0;32m--> 583\u001b[0;31m         \u001b[0;32mraise\u001b[0m \u001b[0mValueError\u001b[0m\u001b[0;34m(\u001b[0m\u001b[0;34mf\"Must pass 2-d input. shape={values.shape}\"\u001b[0m\u001b[0;34m)\u001b[0m\u001b[0;34m\u001b[0m\u001b[0;34m\u001b[0m\u001b[0m\n\u001b[0m\u001b[1;32m    584\u001b[0m \u001b[0;34m\u001b[0m\u001b[0m\n\u001b[1;32m    585\u001b[0m     \u001b[0;32mreturn\u001b[0m \u001b[0mvalues\u001b[0m\u001b[0;34m\u001b[0m\u001b[0;34m\u001b[0m\u001b[0m\n",
      "\u001b[0;31mValueError\u001b[0m: Must pass 2-d input. shape=(7077, 1, 12)"
     ]
    }
   ],
   "source": [
    "# Eingabevektoren in ein Array umwandeln\n",
    "X = df_encoded.drop(['siteName'], axis=1).values\n",
    "y = df_encoded['siteName'].values\n",
    "\n",
    "# Daten in train und test sets splitten\n",
    "X_train, X_test, y_train, y_test = train_test_split(X, y, test_size=0.2, random_state=2)\n",
    "\n",
    "# reshape data for LSTM\n",
    "X_train = np.reshape(X_train, (X_train.shape[0], X_train.shape[1], 1))\n",
    "X_test = np.reshape(X_test, (X_test.shape[0], X_test.shape[1], 1))\n",
    "y_train = to_categorical(y_train)\n",
    "y_test = to_categorical(y_test)\n",
    "\n"
   ]
  },
  {
   "attachments": {},
   "cell_type": "markdown",
   "metadata": {},
   "source": [
    "# CNN\n"
   ]
  },
  {
   "cell_type": "code",
   "execution_count": 1068,
   "metadata": {},
   "outputs": [
    {
     "name": "stdout",
     "output_type": "stream",
     "text": [
      "Epoch 1/10\n",
      "WARNING:tensorflow:Model was constructed with shape (None, 1) for input KerasTensor(type_spec=TensorSpec(shape=(None, 1), dtype=tf.float32, name='embedding_33_input'), name='embedding_33_input', description=\"created by layer 'embedding_33_input'\"), but it was called on an input with incompatible shape (None, 12).\n"
     ]
    },
    {
     "ename": "ValueError",
     "evalue": "in user code:\n\n    File \"/Users/ingaglotzbach/opt/anaconda3/lib/python3.8/site-packages/keras/engine/training.py\", line 1160, in train_function  *\n        return step_function(self, iterator)\n    File \"/Users/ingaglotzbach/opt/anaconda3/lib/python3.8/site-packages/keras/engine/training.py\", line 1146, in step_function  **\n        outputs = model.distribute_strategy.run(run_step, args=(data,))\n    File \"/Users/ingaglotzbach/opt/anaconda3/lib/python3.8/site-packages/keras/engine/training.py\", line 1135, in run_step  **\n        outputs = model.train_step(data)\n    File \"/Users/ingaglotzbach/opt/anaconda3/lib/python3.8/site-packages/keras/engine/training.py\", line 993, in train_step\n        y_pred = self(x, training=True)\n    File \"/Users/ingaglotzbach/opt/anaconda3/lib/python3.8/site-packages/keras/utils/traceback_utils.py\", line 70, in error_handler\n        raise e.with_traceback(filtered_tb) from None\n    File \"/Users/ingaglotzbach/opt/anaconda3/lib/python3.8/site-packages/keras/engine/input_spec.py\", line 277, in assert_input_compatibility\n        raise ValueError(\n\n    ValueError: Exception encountered when calling layer \"sequential_109\" \"                 f\"(type Sequential).\n    \n    Input 0 of layer \"dense_142\" is incompatible with the layer: expected axis -1 of input shape to have value 12, but received input with shape (None, 144)\n    \n    Call arguments received by layer \"sequential_109\" \"                 f\"(type Sequential):\n      • inputs=tf.Tensor(shape=(None, 12), dtype=float32)\n      • training=True\n      • mask=None\n",
     "output_type": "error",
     "traceback": [
      "\u001b[0;31m---------------------------------------------------------------------------\u001b[0m",
      "\u001b[0;31mValueError\u001b[0m                                Traceback (most recent call last)",
      "\u001b[0;32m<ipython-input-1068-f4be73ce543f>\u001b[0m in \u001b[0;36m<module>\u001b[0;34m\u001b[0m\n\u001b[1;32m      8\u001b[0m \u001b[0mmodel2\u001b[0m\u001b[0;34m.\u001b[0m\u001b[0mcompile\u001b[0m\u001b[0;34m(\u001b[0m\u001b[0mloss\u001b[0m\u001b[0;34m=\u001b[0m\u001b[0;34m'categorical_crossentropy'\u001b[0m\u001b[0;34m,\u001b[0m \u001b[0moptimizer\u001b[0m\u001b[0;34m=\u001b[0m\u001b[0;34m'adam'\u001b[0m\u001b[0;34m,\u001b[0m \u001b[0mmetrics\u001b[0m\u001b[0;34m=\u001b[0m\u001b[0;34m[\u001b[0m\u001b[0;34m'accuracy'\u001b[0m\u001b[0;34m]\u001b[0m\u001b[0;34m)\u001b[0m\u001b[0;34m\u001b[0m\u001b[0;34m\u001b[0m\u001b[0m\n\u001b[1;32m      9\u001b[0m \u001b[0;34m\u001b[0m\u001b[0m\n\u001b[0;32m---> 10\u001b[0;31m \u001b[0mhistory\u001b[0m \u001b[0;34m=\u001b[0m \u001b[0mmodel2\u001b[0m\u001b[0;34m.\u001b[0m\u001b[0mfit\u001b[0m\u001b[0;34m(\u001b[0m\u001b[0mX_train\u001b[0m\u001b[0;34m,\u001b[0m \u001b[0my_train\u001b[0m\u001b[0;34m,\u001b[0m \u001b[0mbatch_size\u001b[0m\u001b[0;34m=\u001b[0m\u001b[0;36m32\u001b[0m\u001b[0;34m,\u001b[0m \u001b[0mepochs\u001b[0m\u001b[0;34m=\u001b[0m\u001b[0;36m10\u001b[0m\u001b[0;34m,\u001b[0m \u001b[0mvalidation_data\u001b[0m\u001b[0;34m=\u001b[0m\u001b[0;34m(\u001b[0m\u001b[0mX_test\u001b[0m\u001b[0;34m,\u001b[0m \u001b[0my_test\u001b[0m\u001b[0;34m)\u001b[0m\u001b[0;34m)\u001b[0m\u001b[0;34m\u001b[0m\u001b[0;34m\u001b[0m\u001b[0m\n\u001b[0m",
      "\u001b[0;32m~/opt/anaconda3/lib/python3.8/site-packages/keras/utils/traceback_utils.py\u001b[0m in \u001b[0;36merror_handler\u001b[0;34m(*args, **kwargs)\u001b[0m\n\u001b[1;32m     68\u001b[0m             \u001b[0;31m# To get the full stack trace, call:\u001b[0m\u001b[0;34m\u001b[0m\u001b[0;34m\u001b[0m\u001b[0;34m\u001b[0m\u001b[0m\n\u001b[1;32m     69\u001b[0m             \u001b[0;31m# `tf.debugging.disable_traceback_filtering()`\u001b[0m\u001b[0;34m\u001b[0m\u001b[0;34m\u001b[0m\u001b[0;34m\u001b[0m\u001b[0m\n\u001b[0;32m---> 70\u001b[0;31m             \u001b[0;32mraise\u001b[0m \u001b[0me\u001b[0m\u001b[0;34m.\u001b[0m\u001b[0mwith_traceback\u001b[0m\u001b[0;34m(\u001b[0m\u001b[0mfiltered_tb\u001b[0m\u001b[0;34m)\u001b[0m \u001b[0;32mfrom\u001b[0m \u001b[0;32mNone\u001b[0m\u001b[0;34m\u001b[0m\u001b[0;34m\u001b[0m\u001b[0m\n\u001b[0m\u001b[1;32m     71\u001b[0m         \u001b[0;32mfinally\u001b[0m\u001b[0;34m:\u001b[0m\u001b[0;34m\u001b[0m\u001b[0;34m\u001b[0m\u001b[0m\n\u001b[1;32m     72\u001b[0m             \u001b[0;32mdel\u001b[0m \u001b[0mfiltered_tb\u001b[0m\u001b[0;34m\u001b[0m\u001b[0;34m\u001b[0m\u001b[0m\n",
      "\u001b[0;32m~/opt/anaconda3/lib/python3.8/site-packages/keras/engine/training.py\u001b[0m in \u001b[0;36mtf__train_function\u001b[0;34m(iterator)\u001b[0m\n\u001b[1;32m     13\u001b[0m \u001b[0;31m# limitations under the License.\u001b[0m\u001b[0;34m\u001b[0m\u001b[0;34m\u001b[0m\u001b[0;34m\u001b[0m\u001b[0m\n\u001b[1;32m     14\u001b[0m \u001b[0;31m# ==============================================================================\u001b[0m\u001b[0;34m\u001b[0m\u001b[0;34m\u001b[0m\u001b[0;34m\u001b[0m\u001b[0m\n\u001b[0;32m---> 15\u001b[0;31m \u001b[0;34m\"\"\"Training-related part of the Keras engine.\"\"\"\u001b[0m\u001b[0;34m\u001b[0m\u001b[0;34m\u001b[0m\u001b[0m\n\u001b[0m\u001b[1;32m     16\u001b[0m \u001b[0;34m\u001b[0m\u001b[0m\n\u001b[1;32m     17\u001b[0m \u001b[0;32mimport\u001b[0m \u001b[0mcopy\u001b[0m\u001b[0;34m\u001b[0m\u001b[0;34m\u001b[0m\u001b[0m\n",
      "\u001b[0;31mValueError\u001b[0m: in user code:\n\n    File \"/Users/ingaglotzbach/opt/anaconda3/lib/python3.8/site-packages/keras/engine/training.py\", line 1160, in train_function  *\n        return step_function(self, iterator)\n    File \"/Users/ingaglotzbach/opt/anaconda3/lib/python3.8/site-packages/keras/engine/training.py\", line 1146, in step_function  **\n        outputs = model.distribute_strategy.run(run_step, args=(data,))\n    File \"/Users/ingaglotzbach/opt/anaconda3/lib/python3.8/site-packages/keras/engine/training.py\", line 1135, in run_step  **\n        outputs = model.train_step(data)\n    File \"/Users/ingaglotzbach/opt/anaconda3/lib/python3.8/site-packages/keras/engine/training.py\", line 993, in train_step\n        y_pred = self(x, training=True)\n    File \"/Users/ingaglotzbach/opt/anaconda3/lib/python3.8/site-packages/keras/utils/traceback_utils.py\", line 70, in error_handler\n        raise e.with_traceback(filtered_tb) from None\n    File \"/Users/ingaglotzbach/opt/anaconda3/lib/python3.8/site-packages/keras/engine/input_spec.py\", line 277, in assert_input_compatibility\n        raise ValueError(\n\n    ValueError: Exception encountered when calling layer \"sequential_109\" \"                 f\"(type Sequential).\n    \n    Input 0 of layer \"dense_142\" is incompatible with the layer: expected axis -1 of input shape to have value 12, but received input with shape (None, 144)\n    \n    Call arguments received by layer \"sequential_109\" \"                 f\"(type Sequential):\n      • inputs=tf.Tensor(shape=(None, 12), dtype=float32)\n      • training=True\n      • mask=None\n"
     ]
    }
   ],
   "source": [
    "from keras.layers import Conv1D, MaxPooling1D, Flatten, Embedding\n",
    "\n",
    "model2 = Sequential()\n",
    "model2.add(Embedding(input_dim=X_train.shape[1], output_dim=12, input_length=1))\n",
    "model2.add(Flatten())\n",
    "model2.add(Dense(32, activation='relu'))\n",
    "model2.add(Dense(2, activation='sigmoid'))\n",
    "model2.compile(loss='categorical_crossentropy', optimizer='adam', metrics=['accuracy'])\n",
    "\n",
    "history = model2.fit(X_train, y_train, batch_size=32, epochs=10, validation_data=(X_test, y_test))\n"
   ]
  },
  {
   "cell_type": "markdown",
   "metadata": {},
   "source": [
    "### LSTM"
   ]
  },
  {
   "cell_type": "markdown",
   "metadata": {},
   "source": []
  },
  {
   "cell_type": "code",
   "execution_count": null,
   "metadata": {},
   "outputs": [],
   "source": [
    "X_time_series = df_seq[['timeStamp', 'session']]\n",
    "Y_time_series = df_seq['siteName']\n",
    "\n",
    "X_time_series = StandardScaler().fit_transform(X_time_series)\n",
    "\n",
    "X_time_Train, X_time_Test, Y_time_Train, Y_time_Test = train_test_split(X_time_series, Y_time_series, test_size = 0.30, \n",
    "                                                    random_state = 101)"
   ]
  },
  {
   "cell_type": "code",
   "execution_count": null,
   "metadata": {},
   "outputs": [
    {
     "ename": "ValueError",
     "evalue": "Input 0 of layer \"lstm\" is incompatible with the layer: expected ndim=3, found ndim=2. Full shape received: (None, None)",
     "output_type": "error",
     "traceback": [
      "\u001b[0;31m---------------------------------------------------------------------------\u001b[0m",
      "\u001b[0;31mValueError\u001b[0m                                Traceback (most recent call last)",
      "\u001b[0;32m<ipython-input-27-198834100bda>\u001b[0m in \u001b[0;36m<module>\u001b[0;34m\u001b[0m\n\u001b[1;32m      7\u001b[0m \u001b[0;34m\u001b[0m\u001b[0m\n\u001b[1;32m      8\u001b[0m \u001b[0;31m# Definition der RNN-Schicht\u001b[0m\u001b[0;34m\u001b[0m\u001b[0;34m\u001b[0m\u001b[0;34m\u001b[0m\u001b[0m\n\u001b[0;32m----> 9\u001b[0;31m \u001b[0mrnn\u001b[0m \u001b[0;34m=\u001b[0m \u001b[0mtf\u001b[0m\u001b[0;34m.\u001b[0m\u001b[0mkeras\u001b[0m\u001b[0;34m.\u001b[0m\u001b[0mlayers\u001b[0m\u001b[0;34m.\u001b[0m\u001b[0mLSTM\u001b[0m\u001b[0;34m(\u001b[0m\u001b[0;36m64\u001b[0m\u001b[0;34m)\u001b[0m\u001b[0;34m(\u001b[0m\u001b[0minputs\u001b[0m\u001b[0;34m)\u001b[0m  \u001b[0;31m# Verwenden Sie eine LSTM-Schicht mit 64 Neuronen\u001b[0m\u001b[0;34m\u001b[0m\u001b[0;34m\u001b[0m\u001b[0m\n\u001b[0m\u001b[1;32m     10\u001b[0m \u001b[0;34m\u001b[0m\u001b[0m\n\u001b[1;32m     11\u001b[0m \u001b[0;31m# Definition der Ausgabeschicht\u001b[0m\u001b[0;34m\u001b[0m\u001b[0;34m\u001b[0m\u001b[0;34m\u001b[0m\u001b[0m\n",
      "\u001b[0;32m~/opt/anaconda3/lib/python3.8/site-packages/keras/layers/rnn/base_rnn.py\u001b[0m in \u001b[0;36m__call__\u001b[0;34m(self, inputs, initial_state, constants, **kwargs)\u001b[0m\n\u001b[1;32m    551\u001b[0m \u001b[0;34m\u001b[0m\u001b[0m\n\u001b[1;32m    552\u001b[0m         \u001b[0;32mif\u001b[0m \u001b[0minitial_state\u001b[0m \u001b[0;32mis\u001b[0m \u001b[0;32mNone\u001b[0m \u001b[0;32mand\u001b[0m \u001b[0mconstants\u001b[0m \u001b[0;32mis\u001b[0m \u001b[0;32mNone\u001b[0m\u001b[0;34m:\u001b[0m\u001b[0;34m\u001b[0m\u001b[0;34m\u001b[0m\u001b[0m\n\u001b[0;32m--> 553\u001b[0;31m             \u001b[0;32mreturn\u001b[0m \u001b[0msuper\u001b[0m\u001b[0;34m(\u001b[0m\u001b[0;34m)\u001b[0m\u001b[0;34m.\u001b[0m\u001b[0m__call__\u001b[0m\u001b[0;34m(\u001b[0m\u001b[0minputs\u001b[0m\u001b[0;34m,\u001b[0m \u001b[0;34m**\u001b[0m\u001b[0mkwargs\u001b[0m\u001b[0;34m)\u001b[0m\u001b[0;34m\u001b[0m\u001b[0;34m\u001b[0m\u001b[0m\n\u001b[0m\u001b[1;32m    554\u001b[0m \u001b[0;34m\u001b[0m\u001b[0m\n\u001b[1;32m    555\u001b[0m         \u001b[0;31m# If any of `initial_state` or `constants` are specified and are Keras\u001b[0m\u001b[0;34m\u001b[0m\u001b[0;34m\u001b[0m\u001b[0;34m\u001b[0m\u001b[0m\n",
      "\u001b[0;32m~/opt/anaconda3/lib/python3.8/site-packages/keras/utils/traceback_utils.py\u001b[0m in \u001b[0;36merror_handler\u001b[0;34m(*args, **kwargs)\u001b[0m\n\u001b[1;32m     68\u001b[0m             \u001b[0;31m# To get the full stack trace, call:\u001b[0m\u001b[0;34m\u001b[0m\u001b[0;34m\u001b[0m\u001b[0;34m\u001b[0m\u001b[0m\n\u001b[1;32m     69\u001b[0m             \u001b[0;31m# `tf.debugging.disable_traceback_filtering()`\u001b[0m\u001b[0;34m\u001b[0m\u001b[0;34m\u001b[0m\u001b[0;34m\u001b[0m\u001b[0m\n\u001b[0;32m---> 70\u001b[0;31m             \u001b[0;32mraise\u001b[0m \u001b[0me\u001b[0m\u001b[0;34m.\u001b[0m\u001b[0mwith_traceback\u001b[0m\u001b[0;34m(\u001b[0m\u001b[0mfiltered_tb\u001b[0m\u001b[0;34m)\u001b[0m \u001b[0;32mfrom\u001b[0m \u001b[0;32mNone\u001b[0m\u001b[0;34m\u001b[0m\u001b[0;34m\u001b[0m\u001b[0m\n\u001b[0m\u001b[1;32m     71\u001b[0m         \u001b[0;32mfinally\u001b[0m\u001b[0;34m:\u001b[0m\u001b[0;34m\u001b[0m\u001b[0;34m\u001b[0m\u001b[0m\n\u001b[1;32m     72\u001b[0m             \u001b[0;32mdel\u001b[0m \u001b[0mfiltered_tb\u001b[0m\u001b[0;34m\u001b[0m\u001b[0;34m\u001b[0m\u001b[0m\n",
      "\u001b[0;32m~/opt/anaconda3/lib/python3.8/site-packages/keras/engine/input_spec.py\u001b[0m in \u001b[0;36massert_input_compatibility\u001b[0;34m(input_spec, inputs, layer_name)\u001b[0m\n\u001b[1;32m    230\u001b[0m             \u001b[0mndim\u001b[0m \u001b[0;34m=\u001b[0m \u001b[0mshape\u001b[0m\u001b[0;34m.\u001b[0m\u001b[0mrank\u001b[0m\u001b[0;34m\u001b[0m\u001b[0;34m\u001b[0m\u001b[0m\n\u001b[1;32m    231\u001b[0m             \u001b[0;32mif\u001b[0m \u001b[0mndim\u001b[0m \u001b[0;34m!=\u001b[0m \u001b[0mspec\u001b[0m\u001b[0;34m.\u001b[0m\u001b[0mndim\u001b[0m\u001b[0;34m:\u001b[0m\u001b[0;34m\u001b[0m\u001b[0;34m\u001b[0m\u001b[0m\n\u001b[0;32m--> 232\u001b[0;31m                 raise ValueError(\n\u001b[0m\u001b[1;32m    233\u001b[0m                     \u001b[0;34mf'Input {input_index} of layer \"{layer_name}\" '\u001b[0m\u001b[0;34m\u001b[0m\u001b[0;34m\u001b[0m\u001b[0m\n\u001b[1;32m    234\u001b[0m                     \u001b[0;34m\"is incompatible with the layer: \"\u001b[0m\u001b[0;34m\u001b[0m\u001b[0;34m\u001b[0m\u001b[0m\n",
      "\u001b[0;31mValueError\u001b[0m: Input 0 of layer \"lstm\" is incompatible with the layer: expected ndim=3, found ndim=2. Full shape received: (None, None)"
     ]
    }
   ],
   "source": [
    "import tensorflow as tf\n",
    "\n",
    "# Definition der Eingabeschicht\n",
    "inputs = tf.keras.layers.Input(shape=(None,))  # Die Eingabeschicht erwartet sequentielle Daten mit variabler Länge\n",
    "\n",
    "# Fügen Sie hier weitere Schichten hinzu, z.B. Embedding- oder Convolution-Schichten\n",
    "\n",
    "# Definition der RNN-Schicht\n",
    "rnn = tf.keras.layers.LSTM(64)(inputs)  # Verwenden Sie eine LSTM-Schicht mit 64 Neuronen\n",
    "\n",
    "# Definition der Ausgabeschicht\n",
    "outputs = tf.keras.layers.Dense(1, activation='sigmoid')(rnn)  # Fügen Sie eine Dense-Schicht mit einer sigmoid-Aktivierungsfunktion hinzu\n",
    "\n",
    "# Erstellen Sie das Modell mit den definierten Schichten\n",
    "rnn_model = tf.keras.Model(inputs=inputs, outputs=outputs)\n",
    "\n",
    "# Kompilieren Sie das Modell mit einer Loss-Funktion und einem Optimierer\n",
    "rnn_model.compile(loss='binary_crossentropy', optimizer='adam', metrics=['accuracy'])\n",
    "\n",
    "# Trainieren Sie das Modell anhand Ihrer Trainingsdaten\n",
    "rnn_model.fit(X_time_Train, Y_time_Train, epochs=10)\n",
    "\n",
    "# Verwenden Sie das Modell, um Vorhersagen anhand Ihrer Testdaten zu treffen\n",
    "predictions = rnn_model.predict(X_time_Test)"
   ]
  }
 ],
 "metadata": {
  "kernelspec": {
   "display_name": "Python 3.8.5 ('base')",
   "language": "python",
   "name": "python3"
  },
  "language_info": {
   "codemirror_mode": {
    "name": "ipython",
    "version": 3
   },
   "file_extension": ".py",
   "mimetype": "text/x-python",
   "name": "python",
   "nbconvert_exporter": "python",
   "pygments_lexer": "ipython3",
   "version": "3.8.5"
  },
  "orig_nbformat": 4,
  "vscode": {
   "interpreter": {
    "hash": "72affea882e652da3862626e8de1ded8e3db67911e489535711f40448414c376"
   }
  }
 },
 "nbformat": 4,
 "nbformat_minor": 2
}

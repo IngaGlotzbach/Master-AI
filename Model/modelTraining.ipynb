{
 "cells": [
  {
   "cell_type": "code",
   "execution_count": 28,
   "metadata": {},
   "outputs": [],
   "source": [
    "## for data\n",
    "import pandas as pd\n",
    "import numpy as np\n",
    "## for plotting\n",
    "import matplotlib.pyplot as plt\n",
    "import seaborn as sns\n",
    "## for statistical tests\n",
    "import scipy\n",
    "import statsmodels.formula.api as smf\n",
    "## for machine learning\n",
    "from sklearn import model_selection, preprocessing, feature_selection, ensemble, linear_model\n",
    "from sklearn.ensemble import GradientBoostingClassifier\n",
    "## for explainer\n",
    "from lime import lime_tabular\n",
    "from sklearn.utils import shuffle\n",
    "from sklearn.preprocessing import StandardScaler\n",
    "from sklearn.model_selection import train_test_split\n"
   ]
  },
  {
   "cell_type": "code",
   "execution_count": 9,
   "metadata": {},
   "outputs": [],
   "source": [
    "df_data = pd.read_pickle('fullCleanedData.pkl')"
   ]
  },
  {
   "cell_type": "code",
   "execution_count": 10,
   "metadata": {},
   "outputs": [],
   "source": [
    "pd.set_option('display.max_columns', None)\n",
    "pd.set_option('display.max_rows', None)"
   ]
  },
  {
   "cell_type": "code",
   "execution_count": 11,
   "metadata": {},
   "outputs": [
    {
     "data": {
      "text/html": [
       "<div>\n",
       "<style scoped>\n",
       "    .dataframe tbody tr th:only-of-type {\n",
       "        vertical-align: middle;\n",
       "    }\n",
       "\n",
       "    .dataframe tbody tr th {\n",
       "        vertical-align: top;\n",
       "    }\n",
       "\n",
       "    .dataframe thead th {\n",
       "        text-align: right;\n",
       "    }\n",
       "</style>\n",
       "<table border=\"1\" class=\"dataframe\">\n",
       "  <thead>\n",
       "    <tr style=\"text-align: right;\">\n",
       "      <th></th>\n",
       "      <th>elementId</th>\n",
       "      <th>timeStamp</th>\n",
       "      <th>type</th>\n",
       "      <th>siteName</th>\n",
       "      <th>clientX</th>\n",
       "      <th>clientY</th>\n",
       "      <th>session</th>\n",
       "      <th>height</th>\n",
       "      <th>width</th>\n",
       "      <th>browser</th>\n",
       "      <th>key</th>\n",
       "      <th>sitename</th>\n",
       "      <th>real_date</th>\n",
       "    </tr>\n",
       "  </thead>\n",
       "  <tbody>\n",
       "    <tr>\n",
       "      <th>31206</th>\n",
       "      <td>12</td>\n",
       "      <td>0.0</td>\n",
       "      <td>514</td>\n",
       "      <td>TestEinfach</td>\n",
       "      <td>614.857006</td>\n",
       "      <td>614.857006</td>\n",
       "      <td>f8b87dd1-ee10-f939-8561-a8622504f872</td>\n",
       "      <td>635.0</td>\n",
       "      <td>375</td>\n",
       "      <td>NaN</td>\n",
       "      <td>Backspace</td>\n",
       "      <td>NaN</td>\n",
       "      <td>4.783890</td>\n",
       "    </tr>\n",
       "    <tr>\n",
       "      <th>26125</th>\n",
       "      <td>11</td>\n",
       "      <td>424832.5</td>\n",
       "      <td>510</td>\n",
       "      <td>TestSchwer</td>\n",
       "      <td>194.000000</td>\n",
       "      <td>194.000000</td>\n",
       "      <td>41f22727-0a74-d41b-d6c2-29936806a037</td>\n",
       "      <td>358.0</td>\n",
       "      <td>360</td>\n",
       "      <td>NaN</td>\n",
       "      <td>NaN</td>\n",
       "      <td>NaN</td>\n",
       "      <td>4.755718</td>\n",
       "    </tr>\n",
       "    <tr>\n",
       "      <th>8443</th>\n",
       "      <td>11</td>\n",
       "      <td>219164.7</td>\n",
       "      <td>514</td>\n",
       "      <td>TestEinfach</td>\n",
       "      <td>614.857006</td>\n",
       "      <td>614.857006</td>\n",
       "      <td>67cc623a-295c-f6e0-67bc-c6f312d942ce</td>\n",
       "      <td>1304.0</td>\n",
       "      <td>2117</td>\n",
       "      <td>NaN</td>\n",
       "      <td>Backspace</td>\n",
       "      <td>NaN</td>\n",
       "      <td>1.701700</td>\n",
       "    </tr>\n",
       "    <tr>\n",
       "      <th>14138</th>\n",
       "      <td>17</td>\n",
       "      <td>94014.0</td>\n",
       "      <td>512</td>\n",
       "      <td>TestSchwer</td>\n",
       "      <td>614.857006</td>\n",
       "      <td>614.857006</td>\n",
       "      <td>36e6c57d-0872-8c05-e643-b2491fe5c9cd</td>\n",
       "      <td>1217.0</td>\n",
       "      <td>1440</td>\n",
       "      <td>Chrome</td>\n",
       "      <td>NaN</td>\n",
       "      <td>TestSchwer</td>\n",
       "      <td>1.937664</td>\n",
       "    </tr>\n",
       "    <tr>\n",
       "      <th>10550</th>\n",
       "      <td>12</td>\n",
       "      <td>976685.0</td>\n",
       "      <td>511</td>\n",
       "      <td>TestSchwer</td>\n",
       "      <td>418.000000</td>\n",
       "      <td>418.000000</td>\n",
       "      <td>90ab4d9b-1f2b-12d8-0607-da60d299f472</td>\n",
       "      <td>866.0</td>\n",
       "      <td>1439</td>\n",
       "      <td>NaN</td>\n",
       "      <td>NaN</td>\n",
       "      <td>NaN</td>\n",
       "      <td>1.714962</td>\n",
       "    </tr>\n",
       "  </tbody>\n",
       "</table>\n",
       "</div>"
      ],
      "text/plain": [
       "       elementId  timeStamp  type     siteName     clientX     clientY  \\\n",
       "31206         12        0.0   514  TestEinfach  614.857006  614.857006   \n",
       "26125         11   424832.5   510   TestSchwer  194.000000  194.000000   \n",
       "8443          11   219164.7   514  TestEinfach  614.857006  614.857006   \n",
       "14138         17    94014.0   512   TestSchwer  614.857006  614.857006   \n",
       "10550         12   976685.0   511   TestSchwer  418.000000  418.000000   \n",
       "\n",
       "                                    session  height width browser        key  \\\n",
       "31206  f8b87dd1-ee10-f939-8561-a8622504f872   635.0   375     NaN  Backspace   \n",
       "26125  41f22727-0a74-d41b-d6c2-29936806a037   358.0   360     NaN        NaN   \n",
       "8443   67cc623a-295c-f6e0-67bc-c6f312d942ce  1304.0  2117     NaN  Backspace   \n",
       "14138  36e6c57d-0872-8c05-e643-b2491fe5c9cd  1217.0  1440  Chrome        NaN   \n",
       "10550  90ab4d9b-1f2b-12d8-0607-da60d299f472   866.0  1439     NaN        NaN   \n",
       "\n",
       "         sitename  real_date  \n",
       "31206         NaN   4.783890  \n",
       "26125         NaN   4.755718  \n",
       "8443          NaN   1.701700  \n",
       "14138  TestSchwer   1.937664  \n",
       "10550         NaN   1.714962  "
      ]
     },
     "execution_count": 11,
     "metadata": {},
     "output_type": "execute_result"
    }
   ],
   "source": [
    "#remove scroll\n",
    "df_data_without_scroll = df_data.loc[df_data[\"type\"] !=\"scroll\"]\n",
    "df_data_without_scroll.head()"
   ]
  },
  {
   "cell_type": "code",
   "execution_count": 12,
   "metadata": {},
   "outputs": [],
   "source": [
    "df_einfach = pd.DataFrame(df_data_without_scroll.loc[df_data_without_scroll['siteName']=='TestEinfach'])\n",
    "df_schwer = pd.DataFrame(df_data_without_scroll.loc[df_data_without_scroll['siteName']=='TestSchwer'])"
   ]
  },
  {
   "cell_type": "code",
   "execution_count": 13,
   "metadata": {},
   "outputs": [
    {
     "data": {
      "text/html": [
       "<div>\n",
       "<style scoped>\n",
       "    .dataframe tbody tr th:only-of-type {\n",
       "        vertical-align: middle;\n",
       "    }\n",
       "\n",
       "    .dataframe tbody tr th {\n",
       "        vertical-align: top;\n",
       "    }\n",
       "\n",
       "    .dataframe thead th {\n",
       "        text-align: right;\n",
       "    }\n",
       "</style>\n",
       "<table border=\"1\" class=\"dataframe\">\n",
       "  <thead>\n",
       "    <tr style=\"text-align: right;\">\n",
       "      <th></th>\n",
       "      <th>elementId</th>\n",
       "      <th>timeStamp</th>\n",
       "      <th>type</th>\n",
       "      <th>siteName</th>\n",
       "      <th>clientX</th>\n",
       "      <th>clientY</th>\n",
       "      <th>session</th>\n",
       "      <th>height</th>\n",
       "      <th>width</th>\n",
       "      <th>browser</th>\n",
       "      <th>key</th>\n",
       "      <th>sitename</th>\n",
       "      <th>real_date</th>\n",
       "    </tr>\n",
       "  </thead>\n",
       "  <tbody>\n",
       "    <tr>\n",
       "      <th>31206</th>\n",
       "      <td>12</td>\n",
       "      <td>0.0</td>\n",
       "      <td>514</td>\n",
       "      <td>TestEinfach</td>\n",
       "      <td>614.857006</td>\n",
       "      <td>614.857006</td>\n",
       "      <td>f8b87dd1-ee10-f939-8561-a8622504f872</td>\n",
       "      <td>635.0</td>\n",
       "      <td>375</td>\n",
       "      <td>NaN</td>\n",
       "      <td>Backspace</td>\n",
       "      <td>NaN</td>\n",
       "      <td>4.783890</td>\n",
       "    </tr>\n",
       "    <tr>\n",
       "      <th>8443</th>\n",
       "      <td>11</td>\n",
       "      <td>219164.7</td>\n",
       "      <td>514</td>\n",
       "      <td>TestEinfach</td>\n",
       "      <td>614.857006</td>\n",
       "      <td>614.857006</td>\n",
       "      <td>67cc623a-295c-f6e0-67bc-c6f312d942ce</td>\n",
       "      <td>1304.0</td>\n",
       "      <td>2117</td>\n",
       "      <td>NaN</td>\n",
       "      <td>Backspace</td>\n",
       "      <td>NaN</td>\n",
       "      <td>1.701700</td>\n",
       "    </tr>\n",
       "    <tr>\n",
       "      <th>14701</th>\n",
       "      <td>11</td>\n",
       "      <td>96130.5</td>\n",
       "      <td>514</td>\n",
       "      <td>TestEinfach</td>\n",
       "      <td>614.857006</td>\n",
       "      <td>614.857006</td>\n",
       "      <td>d5c86034-0991-2594-ca59-fa08c4fb3112</td>\n",
       "      <td>1304.0</td>\n",
       "      <td>3440</td>\n",
       "      <td>NaN</td>\n",
       "      <td>Backspace</td>\n",
       "      <td>NaN</td>\n",
       "      <td>1.960783</td>\n",
       "    </tr>\n",
       "    <tr>\n",
       "      <th>9132</th>\n",
       "      <td>12</td>\n",
       "      <td>39193.6</td>\n",
       "      <td>514</td>\n",
       "      <td>TestEinfach</td>\n",
       "      <td>614.857006</td>\n",
       "      <td>614.857006</td>\n",
       "      <td>b0c22fd2-b15b-4344-eaa2-634377cb1ff9</td>\n",
       "      <td>1295.0</td>\n",
       "      <td>2171</td>\n",
       "      <td>NaN</td>\n",
       "      <td>Backspace</td>\n",
       "      <td>NaN</td>\n",
       "      <td>1.705816</td>\n",
       "    </tr>\n",
       "    <tr>\n",
       "      <th>7436</th>\n",
       "      <td>19</td>\n",
       "      <td>994045.5</td>\n",
       "      <td>514</td>\n",
       "      <td>TestEinfach</td>\n",
       "      <td>614.857006</td>\n",
       "      <td>614.857006</td>\n",
       "      <td>69e4a6b4-0c82-f9be-c9d2-ea959fb5ac90</td>\n",
       "      <td>962.0</td>\n",
       "      <td>1724</td>\n",
       "      <td>NaN</td>\n",
       "      <td>Backspace</td>\n",
       "      <td>NaN</td>\n",
       "      <td>1.050133</td>\n",
       "    </tr>\n",
       "  </tbody>\n",
       "</table>\n",
       "</div>"
      ],
      "text/plain": [
       "       elementId  timeStamp  type     siteName     clientX     clientY  \\\n",
       "31206         12        0.0   514  TestEinfach  614.857006  614.857006   \n",
       "8443          11   219164.7   514  TestEinfach  614.857006  614.857006   \n",
       "14701         11    96130.5   514  TestEinfach  614.857006  614.857006   \n",
       "9132          12    39193.6   514  TestEinfach  614.857006  614.857006   \n",
       "7436          19   994045.5   514  TestEinfach  614.857006  614.857006   \n",
       "\n",
       "                                    session  height width browser        key  \\\n",
       "31206  f8b87dd1-ee10-f939-8561-a8622504f872   635.0   375     NaN  Backspace   \n",
       "8443   67cc623a-295c-f6e0-67bc-c6f312d942ce  1304.0  2117     NaN  Backspace   \n",
       "14701  d5c86034-0991-2594-ca59-fa08c4fb3112  1304.0  3440     NaN  Backspace   \n",
       "9132   b0c22fd2-b15b-4344-eaa2-634377cb1ff9  1295.0  2171     NaN  Backspace   \n",
       "7436   69e4a6b4-0c82-f9be-c9d2-ea959fb5ac90   962.0  1724     NaN  Backspace   \n",
       "\n",
       "      sitename  real_date  \n",
       "31206      NaN   4.783890  \n",
       "8443       NaN   1.701700  \n",
       "14701      NaN   1.960783  \n",
       "9132       NaN   1.705816  \n",
       "7436       NaN   1.050133  "
      ]
     },
     "execution_count": 13,
     "metadata": {},
     "output_type": "execute_result"
    }
   ],
   "source": [
    "df_einfach.head()"
   ]
  },
  {
   "cell_type": "code",
   "execution_count": 14,
   "metadata": {},
   "outputs": [
    {
     "name": "stdout",
     "output_type": "stream",
     "text": [
      "[423]\n"
     ]
    }
   ],
   "source": [
    "# new sessionId \n",
    "import random\n",
    "from random import choice\n",
    "import collections\n",
    "\n",
    "array_of_ids_einfach = df_einfach['session'].value_counts().index.tolist()\n",
    "array_of_ids_schwer = df_schwer['session'].value_counts().index.tolist()\n",
    "numbers_schwer = []\n",
    "\n",
    "random_numbers_ids_einfach = random.sample(range(101,1000), len(array_of_ids_einfach))\n",
    "for i in range(len(random_numbers_ids_einfach)):\n",
    "    random_numbers_ids_schwer = random.choice([i for i in range(101, 1000) if i not in random_numbers_ids_einfach])\n",
    "    numbers_schwer.append(random_numbers_ids_schwer)\n",
    "\n",
    "numbers = random_numbers_ids_einfach + numbers_schwer\n",
    "\n",
    "df_einfach['session'] = df_einfach['session'].replace(array_of_ids_einfach, random_numbers_ids_einfach)\n",
    "df_schwer['session'] = df_schwer['session'].replace(array_of_ids_schwer, numbers_schwer)\n",
    "\n",
    "print([item for item, count in collections.Counter(numbers).items() if count > 1])"
   ]
  },
  {
   "cell_type": "code",
   "execution_count": 15,
   "metadata": {},
   "outputs": [],
   "source": [
    "df_data = pd.concat([df_einfach, df_schwer])"
   ]
  },
  {
   "cell_type": "code",
   "execution_count": 16,
   "metadata": {},
   "outputs": [],
   "source": [
    "df_data['siteName'] = df_data['siteName'].replace('TestEinfach', 0)\n",
    "df_data['siteName'] = df_data['siteName'].replace('TestSchwer', 1)"
   ]
  },
  {
   "cell_type": "code",
   "execution_count": 17,
   "metadata": {},
   "outputs": [],
   "source": [
    "df_data = df_data.drop(['sitename', 'key', 'browser', 'elementId'], axis=1)"
   ]
  },
  {
   "cell_type": "code",
   "execution_count": 18,
   "metadata": {},
   "outputs": [],
   "source": [
    "from sklearn.utils import shuffle\n",
    "df_data = shuffle(df_data)"
   ]
  },
  {
   "cell_type": "code",
   "execution_count": 19,
   "metadata": {},
   "outputs": [],
   "source": [
    "df_data.reset_index(inplace=True)"
   ]
  },
  {
   "cell_type": "code",
   "execution_count": 20,
   "metadata": {},
   "outputs": [
    {
     "data": {
      "text/html": [
       "<div>\n",
       "<style scoped>\n",
       "    .dataframe tbody tr th:only-of-type {\n",
       "        vertical-align: middle;\n",
       "    }\n",
       "\n",
       "    .dataframe tbody tr th {\n",
       "        vertical-align: top;\n",
       "    }\n",
       "\n",
       "    .dataframe thead th {\n",
       "        text-align: right;\n",
       "    }\n",
       "</style>\n",
       "<table border=\"1\" class=\"dataframe\">\n",
       "  <thead>\n",
       "    <tr style=\"text-align: right;\">\n",
       "      <th></th>\n",
       "      <th>index</th>\n",
       "      <th>timeStamp</th>\n",
       "      <th>type</th>\n",
       "      <th>siteName</th>\n",
       "      <th>clientX</th>\n",
       "      <th>clientY</th>\n",
       "      <th>session</th>\n",
       "      <th>height</th>\n",
       "      <th>width</th>\n",
       "      <th>real_date</th>\n",
       "    </tr>\n",
       "  </thead>\n",
       "  <tbody>\n",
       "    <tr>\n",
       "      <th>0</th>\n",
       "      <td>5040</td>\n",
       "      <td>214803.7</td>\n",
       "      <td>515</td>\n",
       "      <td>1</td>\n",
       "      <td>614.857006</td>\n",
       "      <td>614.857006</td>\n",
       "      <td>791</td>\n",
       "      <td>664.0</td>\n",
       "      <td>360</td>\n",
       "      <td>1.008412</td>\n",
       "    </tr>\n",
       "    <tr>\n",
       "      <th>1</th>\n",
       "      <td>19714</td>\n",
       "      <td>0.0</td>\n",
       "      <td>514</td>\n",
       "      <td>0</td>\n",
       "      <td>614.857006</td>\n",
       "      <td>614.857006</td>\n",
       "      <td>676</td>\n",
       "      <td>780.0</td>\n",
       "      <td>390</td>\n",
       "      <td>4.739677</td>\n",
       "    </tr>\n",
       "    <tr>\n",
       "      <th>2</th>\n",
       "      <td>9611</td>\n",
       "      <td>252729.1</td>\n",
       "      <td>511</td>\n",
       "      <td>1</td>\n",
       "      <td>635.000000</td>\n",
       "      <td>635.000000</td>\n",
       "      <td>889</td>\n",
       "      <td>667.0</td>\n",
       "      <td>1440</td>\n",
       "      <td>1.708154</td>\n",
       "    </tr>\n",
       "    <tr>\n",
       "      <th>3</th>\n",
       "      <td>6257</td>\n",
       "      <td>389144.7</td>\n",
       "      <td>511</td>\n",
       "      <td>1</td>\n",
       "      <td>1179.000000</td>\n",
       "      <td>1179.000000</td>\n",
       "      <td>342</td>\n",
       "      <td>1328.0</td>\n",
       "      <td>2560</td>\n",
       "      <td>1.028025</td>\n",
       "    </tr>\n",
       "    <tr>\n",
       "      <th>4</th>\n",
       "      <td>10480</td>\n",
       "      <td>845409.0</td>\n",
       "      <td>514</td>\n",
       "      <td>0</td>\n",
       "      <td>614.857006</td>\n",
       "      <td>614.857006</td>\n",
       "      <td>230</td>\n",
       "      <td>866.0</td>\n",
       "      <td>1439</td>\n",
       "      <td>1.713443</td>\n",
       "    </tr>\n",
       "  </tbody>\n",
       "</table>\n",
       "</div>"
      ],
      "text/plain": [
       "   index  timeStamp  type  siteName      clientX      clientY  session  \\\n",
       "0   5040   214803.7   515         1   614.857006   614.857006      791   \n",
       "1  19714        0.0   514         0   614.857006   614.857006      676   \n",
       "2   9611   252729.1   511         1   635.000000   635.000000      889   \n",
       "3   6257   389144.7   511         1  1179.000000  1179.000000      342   \n",
       "4  10480   845409.0   514         0   614.857006   614.857006      230   \n",
       "\n",
       "   height width  real_date  \n",
       "0   664.0   360   1.008412  \n",
       "1   780.0   390   4.739677  \n",
       "2   667.0  1440   1.708154  \n",
       "3  1328.0  2560   1.028025  \n",
       "4   866.0  1439   1.713443  "
      ]
     },
     "execution_count": 20,
     "metadata": {},
     "output_type": "execute_result"
    }
   ],
   "source": [
    "df_data.head()\n",
    "# Das Ding ist, wir können nicht auf elementId predichten bzw. denen unterschiedliche Nummern geben, weil wir ja schon wissen ob ein Element auf der einen oder anderen Seite ist. Das heißt wir müssen alle elementIds entfernen "
   ]
  },
  {
   "cell_type": "code",
   "execution_count": 21,
   "metadata": {},
   "outputs": [],
   "source": [
    "df_data.to_pickle('modelTrainingDataSet.pkl')"
   ]
  },
  {
   "cell_type": "code",
   "execution_count": 22,
   "metadata": {},
   "outputs": [],
   "source": [
    "dataset = pd.read_pickle('modelTrainingDataSet.pkl')"
   ]
  },
  {
   "cell_type": "code",
   "execution_count": 23,
   "metadata": {},
   "outputs": [],
   "source": [
    "siteName = 'siteName'"
   ]
  },
  {
   "cell_type": "code",
   "execution_count": 24,
   "metadata": {},
   "outputs": [
    {
     "ename": "KeyError",
     "evalue": "\"['elementId'] not found in axis\"",
     "output_type": "error",
     "traceback": [
      "\u001b[0;31m---------------------------------------------------------------------------\u001b[0m",
      "\u001b[0;31mKeyError\u001b[0m                                  Traceback (most recent call last)",
      "\u001b[0;32m<ipython-input-24-bad2ed98f048>\u001b[0m in \u001b[0;36m<module>\u001b[0;34m\u001b[0m\n\u001b[0;32m----> 1\u001b[0;31m \u001b[0mdataset\u001b[0m \u001b[0;34m=\u001b[0m \u001b[0mdataset\u001b[0m\u001b[0;34m.\u001b[0m\u001b[0mdrop\u001b[0m\u001b[0;34m(\u001b[0m\u001b[0;34m[\u001b[0m\u001b[0;34m'elementId'\u001b[0m\u001b[0;34m]\u001b[0m\u001b[0;34m,\u001b[0m \u001b[0maxis\u001b[0m\u001b[0;34m=\u001b[0m\u001b[0;36m1\u001b[0m\u001b[0;34m)\u001b[0m\u001b[0;34m\u001b[0m\u001b[0;34m\u001b[0m\u001b[0m\n\u001b[0m",
      "\u001b[0;32m~/opt/anaconda3/lib/python3.8/site-packages/pandas/util/_decorators.py\u001b[0m in \u001b[0;36mwrapper\u001b[0;34m(*args, **kwargs)\u001b[0m\n\u001b[1;32m    329\u001b[0m                     \u001b[0mstacklevel\u001b[0m\u001b[0;34m=\u001b[0m\u001b[0mfind_stack_level\u001b[0m\u001b[0;34m(\u001b[0m\u001b[0;34m)\u001b[0m\u001b[0;34m,\u001b[0m\u001b[0;34m\u001b[0m\u001b[0;34m\u001b[0m\u001b[0m\n\u001b[1;32m    330\u001b[0m                 )\n\u001b[0;32m--> 331\u001b[0;31m             \u001b[0;32mreturn\u001b[0m \u001b[0mfunc\u001b[0m\u001b[0;34m(\u001b[0m\u001b[0;34m*\u001b[0m\u001b[0margs\u001b[0m\u001b[0;34m,\u001b[0m \u001b[0;34m**\u001b[0m\u001b[0mkwargs\u001b[0m\u001b[0;34m)\u001b[0m\u001b[0;34m\u001b[0m\u001b[0;34m\u001b[0m\u001b[0m\n\u001b[0m\u001b[1;32m    332\u001b[0m \u001b[0;34m\u001b[0m\u001b[0m\n\u001b[1;32m    333\u001b[0m         \u001b[0;31m# error: \"Callable[[VarArg(Any), KwArg(Any)], Any]\" has no\u001b[0m\u001b[0;34m\u001b[0m\u001b[0;34m\u001b[0m\u001b[0;34m\u001b[0m\u001b[0m\n",
      "\u001b[0;32m~/opt/anaconda3/lib/python3.8/site-packages/pandas/core/frame.py\u001b[0m in \u001b[0;36mdrop\u001b[0;34m(self, labels, axis, index, columns, level, inplace, errors)\u001b[0m\n\u001b[1;32m   5394\u001b[0m                 \u001b[0mweight\u001b[0m  \u001b[0;36m1.0\u001b[0m     \u001b[0;36m0.8\u001b[0m\u001b[0;34m\u001b[0m\u001b[0;34m\u001b[0m\u001b[0m\n\u001b[1;32m   5395\u001b[0m         \"\"\"\n\u001b[0;32m-> 5396\u001b[0;31m         return super().drop(\n\u001b[0m\u001b[1;32m   5397\u001b[0m             \u001b[0mlabels\u001b[0m\u001b[0;34m=\u001b[0m\u001b[0mlabels\u001b[0m\u001b[0;34m,\u001b[0m\u001b[0;34m\u001b[0m\u001b[0;34m\u001b[0m\u001b[0m\n\u001b[1;32m   5398\u001b[0m             \u001b[0maxis\u001b[0m\u001b[0;34m=\u001b[0m\u001b[0maxis\u001b[0m\u001b[0;34m,\u001b[0m\u001b[0;34m\u001b[0m\u001b[0;34m\u001b[0m\u001b[0m\n",
      "\u001b[0;32m~/opt/anaconda3/lib/python3.8/site-packages/pandas/util/_decorators.py\u001b[0m in \u001b[0;36mwrapper\u001b[0;34m(*args, **kwargs)\u001b[0m\n\u001b[1;32m    329\u001b[0m                     \u001b[0mstacklevel\u001b[0m\u001b[0;34m=\u001b[0m\u001b[0mfind_stack_level\u001b[0m\u001b[0;34m(\u001b[0m\u001b[0;34m)\u001b[0m\u001b[0;34m,\u001b[0m\u001b[0;34m\u001b[0m\u001b[0;34m\u001b[0m\u001b[0m\n\u001b[1;32m    330\u001b[0m                 )\n\u001b[0;32m--> 331\u001b[0;31m             \u001b[0;32mreturn\u001b[0m \u001b[0mfunc\u001b[0m\u001b[0;34m(\u001b[0m\u001b[0;34m*\u001b[0m\u001b[0margs\u001b[0m\u001b[0;34m,\u001b[0m \u001b[0;34m**\u001b[0m\u001b[0mkwargs\u001b[0m\u001b[0;34m)\u001b[0m\u001b[0;34m\u001b[0m\u001b[0;34m\u001b[0m\u001b[0m\n\u001b[0m\u001b[1;32m    332\u001b[0m \u001b[0;34m\u001b[0m\u001b[0m\n\u001b[1;32m    333\u001b[0m         \u001b[0;31m# error: \"Callable[[VarArg(Any), KwArg(Any)], Any]\" has no\u001b[0m\u001b[0;34m\u001b[0m\u001b[0;34m\u001b[0m\u001b[0;34m\u001b[0m\u001b[0m\n",
      "\u001b[0;32m~/opt/anaconda3/lib/python3.8/site-packages/pandas/core/generic.py\u001b[0m in \u001b[0;36mdrop\u001b[0;34m(self, labels, axis, index, columns, level, inplace, errors)\u001b[0m\n\u001b[1;32m   4503\u001b[0m         \u001b[0;32mfor\u001b[0m \u001b[0maxis\u001b[0m\u001b[0;34m,\u001b[0m \u001b[0mlabels\u001b[0m \u001b[0;32min\u001b[0m \u001b[0maxes\u001b[0m\u001b[0;34m.\u001b[0m\u001b[0mitems\u001b[0m\u001b[0;34m(\u001b[0m\u001b[0;34m)\u001b[0m\u001b[0;34m:\u001b[0m\u001b[0;34m\u001b[0m\u001b[0;34m\u001b[0m\u001b[0m\n\u001b[1;32m   4504\u001b[0m             \u001b[0;32mif\u001b[0m \u001b[0mlabels\u001b[0m \u001b[0;32mis\u001b[0m \u001b[0;32mnot\u001b[0m \u001b[0;32mNone\u001b[0m\u001b[0;34m:\u001b[0m\u001b[0;34m\u001b[0m\u001b[0;34m\u001b[0m\u001b[0m\n\u001b[0;32m-> 4505\u001b[0;31m                 \u001b[0mobj\u001b[0m \u001b[0;34m=\u001b[0m \u001b[0mobj\u001b[0m\u001b[0;34m.\u001b[0m\u001b[0m_drop_axis\u001b[0m\u001b[0;34m(\u001b[0m\u001b[0mlabels\u001b[0m\u001b[0;34m,\u001b[0m \u001b[0maxis\u001b[0m\u001b[0;34m,\u001b[0m \u001b[0mlevel\u001b[0m\u001b[0;34m=\u001b[0m\u001b[0mlevel\u001b[0m\u001b[0;34m,\u001b[0m \u001b[0merrors\u001b[0m\u001b[0;34m=\u001b[0m\u001b[0merrors\u001b[0m\u001b[0;34m)\u001b[0m\u001b[0;34m\u001b[0m\u001b[0;34m\u001b[0m\u001b[0m\n\u001b[0m\u001b[1;32m   4506\u001b[0m \u001b[0;34m\u001b[0m\u001b[0m\n\u001b[1;32m   4507\u001b[0m         \u001b[0;32mif\u001b[0m \u001b[0minplace\u001b[0m\u001b[0;34m:\u001b[0m\u001b[0;34m\u001b[0m\u001b[0;34m\u001b[0m\u001b[0m\n",
      "\u001b[0;32m~/opt/anaconda3/lib/python3.8/site-packages/pandas/core/generic.py\u001b[0m in \u001b[0;36m_drop_axis\u001b[0;34m(self, labels, axis, level, errors, only_slice)\u001b[0m\n\u001b[1;32m   4544\u001b[0m                 \u001b[0mnew_axis\u001b[0m \u001b[0;34m=\u001b[0m \u001b[0maxis\u001b[0m\u001b[0;34m.\u001b[0m\u001b[0mdrop\u001b[0m\u001b[0;34m(\u001b[0m\u001b[0mlabels\u001b[0m\u001b[0;34m,\u001b[0m \u001b[0mlevel\u001b[0m\u001b[0;34m=\u001b[0m\u001b[0mlevel\u001b[0m\u001b[0;34m,\u001b[0m \u001b[0merrors\u001b[0m\u001b[0;34m=\u001b[0m\u001b[0merrors\u001b[0m\u001b[0;34m)\u001b[0m\u001b[0;34m\u001b[0m\u001b[0;34m\u001b[0m\u001b[0m\n\u001b[1;32m   4545\u001b[0m             \u001b[0;32melse\u001b[0m\u001b[0;34m:\u001b[0m\u001b[0;34m\u001b[0m\u001b[0;34m\u001b[0m\u001b[0m\n\u001b[0;32m-> 4546\u001b[0;31m                 \u001b[0mnew_axis\u001b[0m \u001b[0;34m=\u001b[0m \u001b[0maxis\u001b[0m\u001b[0;34m.\u001b[0m\u001b[0mdrop\u001b[0m\u001b[0;34m(\u001b[0m\u001b[0mlabels\u001b[0m\u001b[0;34m,\u001b[0m \u001b[0merrors\u001b[0m\u001b[0;34m=\u001b[0m\u001b[0merrors\u001b[0m\u001b[0;34m)\u001b[0m\u001b[0;34m\u001b[0m\u001b[0;34m\u001b[0m\u001b[0m\n\u001b[0m\u001b[1;32m   4547\u001b[0m             \u001b[0mindexer\u001b[0m \u001b[0;34m=\u001b[0m \u001b[0maxis\u001b[0m\u001b[0;34m.\u001b[0m\u001b[0mget_indexer\u001b[0m\u001b[0;34m(\u001b[0m\u001b[0mnew_axis\u001b[0m\u001b[0;34m)\u001b[0m\u001b[0;34m\u001b[0m\u001b[0;34m\u001b[0m\u001b[0m\n\u001b[1;32m   4548\u001b[0m \u001b[0;34m\u001b[0m\u001b[0m\n",
      "\u001b[0;32m~/opt/anaconda3/lib/python3.8/site-packages/pandas/core/indexes/base.py\u001b[0m in \u001b[0;36mdrop\u001b[0;34m(self, labels, errors)\u001b[0m\n\u001b[1;32m   6975\u001b[0m         \u001b[0;32mif\u001b[0m \u001b[0mmask\u001b[0m\u001b[0;34m.\u001b[0m\u001b[0many\u001b[0m\u001b[0;34m(\u001b[0m\u001b[0;34m)\u001b[0m\u001b[0;34m:\u001b[0m\u001b[0;34m\u001b[0m\u001b[0;34m\u001b[0m\u001b[0m\n\u001b[1;32m   6976\u001b[0m             \u001b[0;32mif\u001b[0m \u001b[0merrors\u001b[0m \u001b[0;34m!=\u001b[0m \u001b[0;34m\"ignore\"\u001b[0m\u001b[0;34m:\u001b[0m\u001b[0;34m\u001b[0m\u001b[0;34m\u001b[0m\u001b[0m\n\u001b[0;32m-> 6977\u001b[0;31m                 \u001b[0;32mraise\u001b[0m \u001b[0mKeyError\u001b[0m\u001b[0;34m(\u001b[0m\u001b[0;34mf\"{list(labels[mask])} not found in axis\"\u001b[0m\u001b[0;34m)\u001b[0m\u001b[0;34m\u001b[0m\u001b[0;34m\u001b[0m\u001b[0m\n\u001b[0m\u001b[1;32m   6978\u001b[0m             \u001b[0mindexer\u001b[0m \u001b[0;34m=\u001b[0m \u001b[0mindexer\u001b[0m\u001b[0;34m[\u001b[0m\u001b[0;34m~\u001b[0m\u001b[0mmask\u001b[0m\u001b[0;34m]\u001b[0m\u001b[0;34m\u001b[0m\u001b[0;34m\u001b[0m\u001b[0m\n\u001b[1;32m   6979\u001b[0m         \u001b[0;32mreturn\u001b[0m \u001b[0mself\u001b[0m\u001b[0;34m.\u001b[0m\u001b[0mdelete\u001b[0m\u001b[0;34m(\u001b[0m\u001b[0mindexer\u001b[0m\u001b[0;34m)\u001b[0m\u001b[0;34m\u001b[0m\u001b[0;34m\u001b[0m\u001b[0m\n",
      "\u001b[0;31mKeyError\u001b[0m: \"['elementId'] not found in axis\""
     ]
    }
   ],
   "source": [
    "dataset = dataset.drop(['elementId'], axis=1)"
   ]
  },
  {
   "cell_type": "code",
   "execution_count": null,
   "metadata": {},
   "outputs": [
    {
     "name": "stdout",
     "output_type": "stream",
     "text": [
      "X_train shape: (6217, 9) | X_test shape: (2665, 9)\n",
      "y_train mean: 0.68 | y_test mean: 0.68\n",
      "10 features: ['index', 'timeStamp', 'type', 'clientX', 'clientY', 'session', 'height', 'width', 'real_date']\n"
     ]
    }
   ],
   "source": [
    "dtf_train, dtf_test = model_selection.train_test_split(dataset,test_size=0.3)## print info\n",
    "print(\"X_train shape:\", dtf_train.drop(\"siteName\",axis=1).shape, \"| X_test shape:\", dtf_test.drop(\"siteName\",axis=1).shape)\n",
    "print(\"y_train mean:\", round(np.mean(dtf_train[\"siteName\"]),2), \"| y_test mean:\", round(np.mean(dtf_test[\"siteName\"]),2))\n",
    "print(dtf_train.shape[1], \"features:\", dtf_train.drop(\"siteName\",axis=1).columns.to_list())\n"
   ]
  },
  {
   "cell_type": "code",
   "execution_count": null,
   "metadata": {},
   "outputs": [],
   "source": [
    "from numpy import array\n",
    "type_array = dtf_train['type']\n",
    "values = array(type_array)"
   ]
  },
  {
   "cell_type": "code",
   "execution_count": null,
   "metadata": {},
   "outputs": [
    {
     "name": "stdout",
     "output_type": "stream",
     "text": [
      "      type  type_511  type_512  type_513  type_514  type_515\n",
      "3121   511         1         0         0         0         0\n",
      "6868   514         0         0         0         1         0\n",
      "3832   510         0         0         0         0         0\n",
      "216    512         0         1         0         0         0\n",
      "6890   514         0         0         0         1         0\n"
     ]
    }
   ],
   "source": [
    "dummy = pd.get_dummies(dtf_train[\"type\"], prefix=\"type\",drop_first=True)\n",
    "dtf_train= pd.concat([dtf_train, dummy], axis=1)\n",
    "print( dtf_train.filter(like=\"type\", axis=1).head())\n",
    "columndtf = dtf_train.drop(\"type\", axis=1)"
   ]
  },
  {
   "cell_type": "code",
   "execution_count": null,
   "metadata": {},
   "outputs": [
    {
     "data": {
      "text/html": [
       "<div>\n",
       "<style scoped>\n",
       "    .dataframe tbody tr th:only-of-type {\n",
       "        vertical-align: middle;\n",
       "    }\n",
       "\n",
       "    .dataframe tbody tr th {\n",
       "        vertical-align: top;\n",
       "    }\n",
       "\n",
       "    .dataframe thead th {\n",
       "        text-align: right;\n",
       "    }\n",
       "</style>\n",
       "<table border=\"1\" class=\"dataframe\">\n",
       "  <thead>\n",
       "    <tr style=\"text-align: right;\">\n",
       "      <th></th>\n",
       "      <th>index</th>\n",
       "      <th>timeStamp</th>\n",
       "      <th>type</th>\n",
       "      <th>clientX</th>\n",
       "      <th>clientY</th>\n",
       "      <th>session</th>\n",
       "      <th>height</th>\n",
       "      <th>width</th>\n",
       "      <th>real_date</th>\n",
       "      <th>type_511</th>\n",
       "      <th>type_512</th>\n",
       "      <th>type_513</th>\n",
       "      <th>type_514</th>\n",
       "      <th>type_515</th>\n",
       "      <th>siteName</th>\n",
       "    </tr>\n",
       "  </thead>\n",
       "  <tbody>\n",
       "    <tr>\n",
       "      <th>3121</th>\n",
       "      <td>0.351351</td>\n",
       "      <td>0.001158</td>\n",
       "      <td>0.2</td>\n",
       "      <td>0.493112</td>\n",
       "      <td>0.493112</td>\n",
       "      <td>0.650901</td>\n",
       "      <td>0.660920</td>\n",
       "      <td>0.363312</td>\n",
       "      <td>0.094016</td>\n",
       "      <td>1.0</td>\n",
       "      <td>0.0</td>\n",
       "      <td>0.0</td>\n",
       "      <td>0.0</td>\n",
       "      <td>0.0</td>\n",
       "      <td>1</td>\n",
       "    </tr>\n",
       "    <tr>\n",
       "      <th>6868</th>\n",
       "      <td>0.773311</td>\n",
       "      <td>0.123893</td>\n",
       "      <td>0.8</td>\n",
       "      <td>0.275467</td>\n",
       "      <td>0.275467</td>\n",
       "      <td>0.331081</td>\n",
       "      <td>0.097701</td>\n",
       "      <td>0.016883</td>\n",
       "      <td>0.460007</td>\n",
       "      <td>0.0</td>\n",
       "      <td>0.0</td>\n",
       "      <td>0.0</td>\n",
       "      <td>1.0</td>\n",
       "      <td>0.0</td>\n",
       "      <td>0</td>\n",
       "    </tr>\n",
       "    <tr>\n",
       "      <th>3832</th>\n",
       "      <td>0.431419</td>\n",
       "      <td>0.013095</td>\n",
       "      <td>0.0</td>\n",
       "      <td>0.265558</td>\n",
       "      <td>0.265558</td>\n",
       "      <td>0.650901</td>\n",
       "      <td>0.660920</td>\n",
       "      <td>0.363312</td>\n",
       "      <td>0.093990</td>\n",
       "      <td>0.0</td>\n",
       "      <td>0.0</td>\n",
       "      <td>0.0</td>\n",
       "      <td>0.0</td>\n",
       "      <td>0.0</td>\n",
       "      <td>1</td>\n",
       "    </tr>\n",
       "    <tr>\n",
       "      <th>216</th>\n",
       "      <td>0.024212</td>\n",
       "      <td>0.004652</td>\n",
       "      <td>0.4</td>\n",
       "      <td>0.275467</td>\n",
       "      <td>0.275467</td>\n",
       "      <td>0.862613</td>\n",
       "      <td>0.383780</td>\n",
       "      <td>0.506494</td>\n",
       "      <td>0.193710</td>\n",
       "      <td>0.0</td>\n",
       "      <td>1.0</td>\n",
       "      <td>0.0</td>\n",
       "      <td>0.0</td>\n",
       "      <td>0.0</td>\n",
       "      <td>1</td>\n",
       "    </tr>\n",
       "    <tr>\n",
       "      <th>6890</th>\n",
       "      <td>0.775788</td>\n",
       "      <td>0.029595</td>\n",
       "      <td>0.8</td>\n",
       "      <td>0.275467</td>\n",
       "      <td>0.275467</td>\n",
       "      <td>0.147523</td>\n",
       "      <td>0.650064</td>\n",
       "      <td>0.587987</td>\n",
       "      <td>0.165234</td>\n",
       "      <td>0.0</td>\n",
       "      <td>0.0</td>\n",
       "      <td>0.0</td>\n",
       "      <td>1.0</td>\n",
       "      <td>0.0</td>\n",
       "      <td>0</td>\n",
       "    </tr>\n",
       "  </tbody>\n",
       "</table>\n",
       "</div>"
      ],
      "text/plain": [
       "         index  timeStamp  type   clientX   clientY   session    height  \\\n",
       "3121  0.351351   0.001158   0.2  0.493112  0.493112  0.650901  0.660920   \n",
       "6868  0.773311   0.123893   0.8  0.275467  0.275467  0.331081  0.097701   \n",
       "3832  0.431419   0.013095   0.0  0.265558  0.265558  0.650901  0.660920   \n",
       "216   0.024212   0.004652   0.4  0.275467  0.275467  0.862613  0.383780   \n",
       "6890  0.775788   0.029595   0.8  0.275467  0.275467  0.147523  0.650064   \n",
       "\n",
       "         width  real_date  type_511  type_512  type_513  type_514  type_515  \\\n",
       "3121  0.363312   0.094016       1.0       0.0       0.0       0.0       0.0   \n",
       "6868  0.016883   0.460007       0.0       0.0       0.0       1.0       0.0   \n",
       "3832  0.363312   0.093990       0.0       0.0       0.0       0.0       0.0   \n",
       "216   0.506494   0.193710       0.0       1.0       0.0       0.0       0.0   \n",
       "6890  0.587987   0.165234       0.0       0.0       0.0       1.0       0.0   \n",
       "\n",
       "      siteName  \n",
       "3121         1  \n",
       "6868         0  \n",
       "3832         1  \n",
       "216          1  \n",
       "6890         0  "
      ]
     },
     "execution_count": 12,
     "metadata": {},
     "output_type": "execute_result"
    }
   ],
   "source": [
    "#die features skalieren bessere Verteilung\n",
    "scaler = preprocessing.MinMaxScaler(feature_range=(0,1))\n",
    "X = scaler.fit_transform(dtf_train.drop(\"siteName\", axis=1))\n",
    "dtf_scaled= pd.DataFrame(X, columns=dtf_train.drop(\"siteName\", axis=1).columns, index=dtf_train.index)\n",
    "dtf_scaled[\"siteName\"] = dtf_train[\"siteName\"]\n",
    "dtf_scaled.head()\n"
   ]
  },
  {
   "cell_type": "code",
   "execution_count": null,
   "metadata": {},
   "outputs": [
    {
     "data": {
      "image/png": "[encoded data removed]",
      "text/plain": [
       "<Figure size 432x288 with 2 Axes>"
      ]
     },
     "metadata": {
      "needs_background": "light"
     },
     "output_type": "display_data"
    }
   ],
   "source": [
    "#die helleren Stellen können interessant sein, da der Pearson Wert recht niedrig ist\n",
    "corr_matrix = dataset.copy()\n",
    "for col in corr_matrix.columns:    \n",
    "    if corr_matrix[col].dtype == \"O\":         \n",
    "        corr_matrix[col] = corr_matrix[col].factorize(sort=True)[0]\n",
    "        corr_matrix = corr_matrix.corr(method=\"pearson\")\n",
    "        sns.heatmap(corr_matrix, vmin=-1., vmax=1., annot=True, fmt='.2f', cmap=\"YlGnBu\", cbar=True, linewidths=0.5)\n",
    "        plt.title(\"pearson correlation\")"
   ]
  },
  {
   "cell_type": "code",
   "execution_count": null,
   "metadata": {},
   "outputs": [],
   "source": [
    "X = dtf_train.drop(\"Y\", axis=1).valuesy = dtf_train[\"Y\"].valuesfeature_names = dtf_train.drop(\"Y\", axis=1).columns.tolist()## Importancemodel = ensemble.RandomForestClassifier(n_estimators=100,                      criterion=\"entropy\", random_state=0)model.fit(X,y)importances = model.feature_importances_## Put in a pandas dtfdtf_importances = pd.DataFrame({\"IMPORTANCE\":importances,             \"VARIABLE\":feature_names}).sort_values(\"IMPORTANCE\",             ascending=False)dtf_importances['cumsum'] =              dtf_importances['IMPORTANCE'].cumsum(axis=0)dtf_importances = dtf_importances.set_index(\"VARIABLE\")    ## Plotfig, ax = plt.subplots(nrows=1, ncols=2, sharex=False, sharey=False)fig.suptitle(\"Features Importance\", fontsize=20)ax[0].title.set_text('variables')    dtf_importances[[\"IMPORTANCE\"]].sort_values(by=\"IMPORTANCE\").plot(                kind=\"barh\", legend=False, ax=ax[0]).grid(axis=\"x\")ax[0].set(ylabel=\"\")ax[1].title.set_text('cumulative')dtf_importances[[\"cumsum\"]].plot(kind=\"line\", linewidth=4,                                  legend=False, ax=ax[1])ax[1].set(xlabel=\"\", xticks=np.arange(len(dtf_importances)),           xticklabels=dtf_importances.index)plt.xticks(rotation=70)plt.grid(axis='both')plt.show()\n"
   ]
  },
  {
   "cell_type": "markdown",
   "metadata": {},
   "source": [
    "### Random Forest"
   ]
  },
  {
   "cell_type": "code",
   "execution_count": null,
   "metadata": {},
   "outputs": [],
   "source": [
    "import pandas as pd\n",
    "from sklearn.preprocessing import StandardScaler\n",
    "from sklearn.model_selection import train_test_split\n",
    "\n",
    "X = dataset[['type', 'timeStamp','height', 'width']]\n",
    "Y = dataset['siteName']\n",
    "\n",
    "X = StandardScaler().fit_transform(X)\n",
    "\n",
    "X_Train, X_Test, Y_Train, Y_Test = train_test_split(X, Y, test_size = 0.30, \n",
    "                                                    random_state = 101)"
   ]
  },
  {
   "cell_type": "code",
   "execution_count": null,
   "metadata": {},
   "outputs": [],
   "source": [
    "#Import Random Forest Model\n",
    "from sklearn.ensemble import RandomForestClassifier\n",
    "\n",
    "#Create a Gaussian Classifier\n",
    "clf=RandomForestClassifier(n_estimators=100)\n",
    "\n",
    "#Train the model using the training sets y_pred=clf.predict(X_test)\n",
    "clf.fit(X_Train,Y_Train)\n",
    "\n",
    "y_pred=clf.predict(X_Test)"
   ]
  },
  {
   "cell_type": "code",
   "execution_count": null,
   "metadata": {},
   "outputs": [
    {
     "name": "stdout",
     "output_type": "stream",
     "text": [
      "Accuracy: 0.9369606003752345\n"
     ]
    }
   ],
   "source": [
    "#Import scikit-learn metrics module for accuracy calculation\n",
    "from sklearn import metrics\n",
    "# Model Accuracy, how often is the classifier correct?\n",
    "print(\"Accuracy:\",metrics.accuracy_score(Y_Test, y_pred))"
   ]
  },
  {
   "cell_type": "code",
   "execution_count": null,
   "metadata": {},
   "outputs": [
    {
     "data": {
      "text/plain": [
       "array([1])"
      ]
     },
     "execution_count": 18,
     "metadata": {},
     "output_type": "execute_result"
    }
   ],
   "source": [
    "# das ist ja dann eigentlich nur ein Event, das wollen wir ja nicht predicten sondern eine Session\n",
    "clf.predict([[510, 0, 920, 200]])"
   ]
  },
  {
   "cell_type": "markdown",
   "metadata": {},
   "source": []
  },
  {
   "cell_type": "markdown",
   "metadata": {},
   "source": [
    "### SVM"
   ]
  },
  {
   "cell_type": "code",
   "execution_count": null,
   "metadata": {},
   "outputs": [],
   "source": [
    "#Import svm model\n",
    "from sklearn import svm\n",
    "\n",
    "#Create a svm Classifier\n",
    "clf = svm.SVC(kernel='linear') # Linear Kernel\n",
    "\n",
    "#Train the model using the training sets\n",
    "clf.fit(X_Train, Y_Train)\n",
    "\n",
    "#Predict the response for test dataset\n",
    "y_pred = clf.predict(X_Test)"
   ]
  },
  {
   "cell_type": "code",
   "execution_count": null,
   "metadata": {},
   "outputs": [
    {
     "ename": "NameError",
     "evalue": "name 'X_Train' is not defined",
     "output_type": "error",
     "traceback": [
      "\u001b[0;31m---------------------------------------------------------------------------\u001b[0m",
      "\u001b[0;31mNameError\u001b[0m                                 Traceback (most recent call last)",
      "\u001b[0;32m<ipython-input-1-738f2355583d>\u001b[0m in \u001b[0;36m<module>\u001b[0;34m\u001b[0m\n\u001b[1;32m      3\u001b[0m \u001b[0mclf2\u001b[0m \u001b[0;34m=\u001b[0m \u001b[0mLinearSVC\u001b[0m\u001b[0;34m(\u001b[0m\u001b[0mC\u001b[0m\u001b[0;34m=\u001b[0m\u001b[0;36m1.0\u001b[0m\u001b[0;34m,\u001b[0m \u001b[0mloss\u001b[0m\u001b[0;34m=\u001b[0m\u001b[0;34m'hinge'\u001b[0m\u001b[0;34m,\u001b[0m \u001b[0mclass_weight\u001b[0m\u001b[0;34m=\u001b[0m\u001b[0;34m'balanced'\u001b[0m\u001b[0;34m)\u001b[0m\u001b[0;34m\u001b[0m\u001b[0;34m\u001b[0m\u001b[0m\n\u001b[1;32m      4\u001b[0m \u001b[0;34m\u001b[0m\u001b[0m\n\u001b[0;32m----> 5\u001b[0;31m \u001b[0mclf2\u001b[0m\u001b[0;34m.\u001b[0m\u001b[0mfit\u001b[0m\u001b[0;34m(\u001b[0m\u001b[0mX_Train\u001b[0m\u001b[0;34m,\u001b[0m \u001b[0mY_Train\u001b[0m\u001b[0;34m)\u001b[0m\u001b[0;34m\u001b[0m\u001b[0;34m\u001b[0m\u001b[0m\n\u001b[0m\u001b[1;32m      6\u001b[0m \u001b[0;34m\u001b[0m\u001b[0m\n\u001b[1;32m      7\u001b[0m \u001b[0mprint\u001b[0m\u001b[0;34m(\u001b[0m\u001b[0;34m'Done'\u001b[0m\u001b[0;34m)\u001b[0m\u001b[0;34m\u001b[0m\u001b[0;34m\u001b[0m\u001b[0m\n",
      "\u001b[0;31mNameError\u001b[0m: name 'X_Train' is not defined"
     ]
    }
   ],
   "source": [
    "from sklearn.svm import LinearSVC\n",
    "\n",
    "clf2 = LinearSVC(C=1.0, loss='hinge', class_weight='balanced')\n",
    "\n",
    "clf2.fit(X_Train, Y_Train)\n",
    "\n",
    "print('Done')"
   ]
  },
  {
   "cell_type": "code",
   "execution_count": null,
   "metadata": {},
   "outputs": [],
   "source": [
    "from sklearn.metrics import accuracy_score\n",
    "\n",
    "y_test_pred = clf.predict(X_Test)\n",
    "y_train_pred = clf.predict(X_Train)\n",
    "\n",
    "print(f'Classifier: {clf.__class__}\\n')\n",
    "\n",
    "print('Accuracy Summary')\n",
    "print('================')\n",
    "\n",
    "print(f'Test:    {accuracy_score(Y_Test, y_test_pred)*100:6.2f}%')\n",
    "print(f'Train:   {accuracy_score(Y_Train, y_train_pred)*100:6.2f}%')"
   ]
  },
  {
   "cell_type": "code",
   "execution_count": null,
   "metadata": {},
   "outputs": [
    {
     "name": "stdout",
     "output_type": "stream",
     "text": [
      "Accuracy: 0.7215759849906191\n"
     ]
    }
   ],
   "source": [
    "#Import scikit-learn metrics module for accuracy calculation\n",
    "from sklearn import metrics\n",
    "\n",
    "# Model Accuracy: how often is the classifier correct?\n",
    "print(\"Accuracy:\",metrics.accuracy_score(Y_Test, y_pred))"
   ]
  },
  {
   "cell_type": "code",
   "execution_count": null,
   "metadata": {},
   "outputs": [
    {
     "name": "stdout",
     "output_type": "stream",
     "text": [
      "Precision: 0.77947932618683\n",
      "Recall: 0.8312465977136636\n"
     ]
    }
   ],
   "source": [
    "# Model Precision: what percentage of positive tuples are labeled as such?\n",
    "print(\"Precision:\",metrics.precision_score(Y_Test, y_pred))\n",
    "\n",
    "# Model Recall: what percentage of positive tuples are labelled as such?\n",
    "print(\"Recall:\",metrics.recall_score(Y_Test, y_pred))"
   ]
  },
  {
   "cell_type": "markdown",
   "metadata": {},
   "source": [
    "# Sessions"
   ]
  },
  {
   "cell_type": "code",
   "execution_count": 245,
   "metadata": {},
   "outputs": [],
   "source": [
    "df_sessions = pd.read_pickle('SortedBySessions.pkl')"
   ]
  },
  {
   "cell_type": "code",
   "execution_count": 246,
   "metadata": {},
   "outputs": [
    {
     "data": {
      "text/html": [
       "<div>\n",
       "<style scoped>\n",
       "    .dataframe tbody tr th:only-of-type {\n",
       "        vertical-align: middle;\n",
       "    }\n",
       "\n",
       "    .dataframe tbody tr th {\n",
       "        vertical-align: top;\n",
       "    }\n",
       "\n",
       "    .dataframe thead th {\n",
       "        text-align: right;\n",
       "    }\n",
       "</style>\n",
       "<table border=\"1\" class=\"dataframe\">\n",
       "  <thead>\n",
       "    <tr style=\"text-align: right;\">\n",
       "      <th></th>\n",
       "      <th>session</th>\n",
       "      <th>count_mouseover</th>\n",
       "      <th>count_mouseout</th>\n",
       "      <th>count_click</th>\n",
       "      <th>count_blur</th>\n",
       "      <th>count_focus</th>\n",
       "      <th>count_keydown</th>\n",
       "      <th>duration</th>\n",
       "      <th>height</th>\n",
       "      <th>width</th>\n",
       "      <th>siteName</th>\n",
       "    </tr>\n",
       "  </thead>\n",
       "  <tbody>\n",
       "    <tr>\n",
       "      <th>0</th>\n",
       "      <td>512</td>\n",
       "      <td>7</td>\n",
       "      <td>7</td>\n",
       "      <td>0</td>\n",
       "      <td>7</td>\n",
       "      <td>7</td>\n",
       "      <td>4</td>\n",
       "      <td>18.157</td>\n",
       "      <td>664</td>\n",
       "      <td>390</td>\n",
       "      <td>0</td>\n",
       "    </tr>\n",
       "    <tr>\n",
       "      <th>1</th>\n",
       "      <td>518</td>\n",
       "      <td>70</td>\n",
       "      <td>70</td>\n",
       "      <td>25</td>\n",
       "      <td>31</td>\n",
       "      <td>32</td>\n",
       "      <td>13</td>\n",
       "      <td>459.177</td>\n",
       "      <td>667</td>\n",
       "      <td>1440</td>\n",
       "      <td>1</td>\n",
       "    </tr>\n",
       "    <tr>\n",
       "      <th>2</th>\n",
       "      <td>519</td>\n",
       "      <td>6</td>\n",
       "      <td>6</td>\n",
       "      <td>0</td>\n",
       "      <td>7</td>\n",
       "      <td>7</td>\n",
       "      <td>0</td>\n",
       "      <td>18.090</td>\n",
       "      <td>775</td>\n",
       "      <td>412</td>\n",
       "      <td>0</td>\n",
       "    </tr>\n",
       "    <tr>\n",
       "      <th>3</th>\n",
       "      <td>520</td>\n",
       "      <td>39</td>\n",
       "      <td>39</td>\n",
       "      <td>3</td>\n",
       "      <td>14</td>\n",
       "      <td>13</td>\n",
       "      <td>29</td>\n",
       "      <td>232.459</td>\n",
       "      <td>1217</td>\n",
       "      <td>1440</td>\n",
       "      <td>1</td>\n",
       "    </tr>\n",
       "    <tr>\n",
       "      <th>4</th>\n",
       "      <td>538</td>\n",
       "      <td>8</td>\n",
       "      <td>8</td>\n",
       "      <td>4</td>\n",
       "      <td>17</td>\n",
       "      <td>15</td>\n",
       "      <td>20</td>\n",
       "      <td>213.904</td>\n",
       "      <td>664</td>\n",
       "      <td>390</td>\n",
       "      <td>1</td>\n",
       "    </tr>\n",
       "  </tbody>\n",
       "</table>\n",
       "</div>"
      ],
      "text/plain": [
       "   session  count_mouseover  count_mouseout  count_click  count_blur  \\\n",
       "0      512                7               7            0           7   \n",
       "1      518               70              70           25          31   \n",
       "2      519                6               6            0           7   \n",
       "3      520               39              39            3          14   \n",
       "4      538                8               8            4          17   \n",
       "\n",
       "   count_focus  count_keydown  duration height width  siteName  \n",
       "0            7              4    18.157    664   390         0  \n",
       "1           32             13   459.177    667  1440         1  \n",
       "2            7              0    18.090    775   412         0  \n",
       "3           13             29   232.459   1217  1440         1  \n",
       "4           15             20   213.904    664   390         1  "
      ]
     },
     "execution_count": 246,
     "metadata": {},
     "output_type": "execute_result"
    }
   ],
   "source": [
    "df_sessions.head()"
   ]
  },
  {
   "cell_type": "code",
   "execution_count": 247,
   "metadata": {},
   "outputs": [],
   "source": [
    "X_session = df_sessions[['count_mouseover', 'count_mouseout','count_click','count_blur','count_keydown','count_focus','duration']]\n",
    "Y_session = df_sessions['siteName']\n",
    "\n",
    "X_session = StandardScaler().fit_transform(X_session)\n",
    "\n",
    "X_session_Train, X_session_Test, Y_session_Train, Y_session_Test = train_test_split(X_session, Y_session, test_size = 0.30, \n",
    "                                                    random_state = 101)"
   ]
  },
  {
   "cell_type": "markdown",
   "metadata": {},
   "source": [
    "#### Random Forest Session\n",
    "\n",
    "Accuracy: 0.8974358974358975\n",
    "\n",
    "With Hyperparameter: Accuracy: 0.9230769230769231\n"
   ]
  },
  {
   "cell_type": "code",
   "execution_count": 253,
   "metadata": {},
   "outputs": [],
   "source": [
    "#Import Random Forest Model\n",
    "from sklearn.ensemble import RandomForestClassifier\n",
    "\n",
    "#Create a Gaussian Classifier\n",
    "forest_model=RandomForestClassifier(n_estimators=250)\n",
    "\n",
    "#Train the model using the training sets y_pred=clf.predict(X_test)\n",
    "forest_model.fit(X_session_Train,Y_session_Train)\n",
    "\n",
    "y_session_pred=forest_model.predict(X_session_Test)"
   ]
  },
  {
   "cell_type": "code",
   "execution_count": 254,
   "metadata": {},
   "outputs": [
    {
     "name": "stdout",
     "output_type": "stream",
     "text": [
      "Accuracy: 0.8974358974358975\n"
     ]
    }
   ],
   "source": [
    "#Import scikit-learn metrics module for accuracy calculation\n",
    "from sklearn import metrics\n",
    "# Model Accuracy, how often is the classifier correct?\n",
    "print(\"Accuracy:\",metrics.accuracy_score(Y_session_Test, y_session_pred))"
   ]
  },
  {
   "cell_type": "markdown",
   "metadata": {},
   "source": [
    "#### Improve Random Forest with Hyperparameter"
   ]
  },
  {
   "cell_type": "code",
   "execution_count": 107,
   "metadata": {},
   "outputs": [],
   "source": [
    "rfc_model = RandomForestClassifier()\n",
    "\n",
    "parameters = {\n",
    "    \"n_estimators\":[5,10,50,100,250],\n",
    "    \"max_depth\":[2,4,8,16,32,None]\n",
    "    \n",
    "}"
   ]
  },
  {
   "cell_type": "code",
   "execution_count": 108,
   "metadata": {},
   "outputs": [
    {
     "data": {
      "text/html": [
       "<style>#sk-container-id-3 {color: black;background-color: white;}#sk-container-id-3 pre{padding: 0;}#sk-container-id-3 div.sk-toggleable {background-color: white;}#sk-container-id-3 label.sk-toggleable__label {cursor: pointer;display: block;width: 100%;margin-bottom: 0;padding: 0.3em;box-sizing: border-box;text-align: center;}#sk-container-id-3 label.sk-toggleable__label-arrow:before {content: \"▸\";float: left;margin-right: 0.25em;color: #696969;}#sk-container-id-3 label.sk-toggleable__label-arrow:hover:before {color: black;}#sk-container-id-3 div.sk-estimator:hover label.sk-toggleable__label-arrow:before {color: black;}#sk-container-id-3 div.sk-toggleable__content {max-height: 0;max-width: 0;overflow: hidden;text-align: left;background-color: #f0f8ff;}#sk-container-id-3 div.sk-toggleable__content pre {margin: 0.2em;color: black;border-radius: 0.25em;background-color: #f0f8ff;}#sk-container-id-3 input.sk-toggleable__control:checked~div.sk-toggleable__content {max-height: 200px;max-width: 100%;overflow: auto;}#sk-container-id-3 input.sk-toggleable__control:checked~label.sk-toggleable__label-arrow:before {content: \"▾\";}#sk-container-id-3 div.sk-estimator input.sk-toggleable__control:checked~label.sk-toggleable__label {background-color: #d4ebff;}#sk-container-id-3 div.sk-label input.sk-toggleable__control:checked~label.sk-toggleable__label {background-color: #d4ebff;}#sk-container-id-3 input.sk-hidden--visually {border: 0;clip: rect(1px 1px 1px 1px);clip: rect(1px, 1px, 1px, 1px);height: 1px;margin: -1px;overflow: hidden;padding: 0;position: absolute;width: 1px;}#sk-container-id-3 div.sk-estimator {font-family: monospace;background-color: #f0f8ff;border: 1px dotted black;border-radius: 0.25em;box-sizing: border-box;margin-bottom: 0.5em;}#sk-container-id-3 div.sk-estimator:hover {background-color: #d4ebff;}#sk-container-id-3 div.sk-parallel-item::after {content: \"\";width: 100%;border-bottom: 1px solid gray;flex-grow: 1;}#sk-container-id-3 div.sk-label:hover label.sk-toggleable__label {background-color: #d4ebff;}#sk-container-id-3 div.sk-serial::before {content: \"\";position: absolute;border-left: 1px solid gray;box-sizing: border-box;top: 0;bottom: 0;left: 50%;z-index: 0;}#sk-container-id-3 div.sk-serial {display: flex;flex-direction: column;align-items: center;background-color: white;padding-right: 0.2em;padding-left: 0.2em;position: relative;}#sk-container-id-3 div.sk-item {position: relative;z-index: 1;}#sk-container-id-3 div.sk-parallel {display: flex;align-items: stretch;justify-content: center;background-color: white;position: relative;}#sk-container-id-3 div.sk-item::before, #sk-container-id-3 div.sk-parallel-item::before {content: \"\";position: absolute;border-left: 1px solid gray;box-sizing: border-box;top: 0;bottom: 0;left: 50%;z-index: -1;}#sk-container-id-3 div.sk-parallel-item {display: flex;flex-direction: column;z-index: 1;position: relative;background-color: white;}#sk-container-id-3 div.sk-parallel-item:first-child::after {align-self: flex-end;width: 50%;}#sk-container-id-3 div.sk-parallel-item:last-child::after {align-self: flex-start;width: 50%;}#sk-container-id-3 div.sk-parallel-item:only-child::after {width: 0;}#sk-container-id-3 div.sk-dashed-wrapped {border: 1px dashed gray;margin: 0 0.4em 0.5em 0.4em;box-sizing: border-box;padding-bottom: 0.4em;background-color: white;}#sk-container-id-3 div.sk-label label {font-family: monospace;font-weight: bold;display: inline-block;line-height: 1.2em;}#sk-container-id-3 div.sk-label-container {text-align: center;}#sk-container-id-3 div.sk-container {/* jupyter's `normalize.less` sets `[hidden] { display: none; }` but bootstrap.min.css set `[hidden] { display: none !important; }` so we also need the `!important` here to be able to override the default hidden behavior on the sphinx rendered scikit-learn.org. See: https://github.com/scikit-learn/scikit-learn/issues/21755 */display: inline-block !important;position: relative;}#sk-container-id-3 div.sk-text-repr-fallback {display: none;}</style><div id=\"sk-container-id-3\" class=\"sk-top-container\"><div class=\"sk-text-repr-fallback\"><pre>GridSearchCV(cv=5, estimator=RandomForestClassifier(),\n",
       "             param_grid={&#x27;max_depth&#x27;: [2, 4, 8, 16, 32, None],\n",
       "                         &#x27;n_estimators&#x27;: [5, 10, 50, 100, 250]})</pre><b>In a Jupyter environment, please rerun this cell to show the HTML representation or trust the notebook. <br />On GitHub, the HTML representation is unable to render, please try loading this page with nbviewer.org.</b></div><div class=\"sk-container\" hidden><div class=\"sk-item sk-dashed-wrapped\"><div class=\"sk-label-container\"><div class=\"sk-label sk-toggleable\"><input class=\"sk-toggleable__control sk-hidden--visually\" id=\"sk-estimator-id-5\" type=\"checkbox\" ><label for=\"sk-estimator-id-5\" class=\"sk-toggleable__label sk-toggleable__label-arrow\">GridSearchCV</label><div class=\"sk-toggleable__content\"><pre>GridSearchCV(cv=5, estimator=RandomForestClassifier(),\n",
       "             param_grid={&#x27;max_depth&#x27;: [2, 4, 8, 16, 32, None],\n",
       "                         &#x27;n_estimators&#x27;: [5, 10, 50, 100, 250]})</pre></div></div></div><div class=\"sk-parallel\"><div class=\"sk-parallel-item\"><div class=\"sk-item\"><div class=\"sk-label-container\"><div class=\"sk-label sk-toggleable\"><input class=\"sk-toggleable__control sk-hidden--visually\" id=\"sk-estimator-id-6\" type=\"checkbox\" ><label for=\"sk-estimator-id-6\" class=\"sk-toggleable__label sk-toggleable__label-arrow\">estimator: RandomForestClassifier</label><div class=\"sk-toggleable__content\"><pre>RandomForestClassifier()</pre></div></div></div><div class=\"sk-serial\"><div class=\"sk-item\"><div class=\"sk-estimator sk-toggleable\"><input class=\"sk-toggleable__control sk-hidden--visually\" id=\"sk-estimator-id-7\" type=\"checkbox\" ><label for=\"sk-estimator-id-7\" class=\"sk-toggleable__label sk-toggleable__label-arrow\">RandomForestClassifier</label><div class=\"sk-toggleable__content\"><pre>RandomForestClassifier()</pre></div></div></div></div></div></div></div></div></div></div>"
      ],
      "text/plain": [
       "GridSearchCV(cv=5, estimator=RandomForestClassifier(),\n",
       "             param_grid={'max_depth': [2, 4, 8, 16, 32, None],\n",
       "                         'n_estimators': [5, 10, 50, 100, 250]})"
      ]
     },
     "execution_count": 108,
     "metadata": {},
     "output_type": "execute_result"
    }
   ],
   "source": [
    "from sklearn.model_selection import GridSearchCV\n",
    "cv_grid = GridSearchCV(rfc_model,parameters,cv=5)\n",
    "cv_grid.fit(X_session, Y_session.values.ravel())"
   ]
  },
  {
   "cell_type": "code",
   "execution_count": 109,
   "metadata": {},
   "outputs": [],
   "source": [
    "def display(results):\n",
    "    print(f'Best parameters are: {results.best_params_}')\n",
    "    print(\"\\n\")\n",
    "    mean_score = results.cv_results_['mean_test_score']\n",
    "    std_score = results.cv_results_['std_test_score']\n",
    "    params = results.cv_results_['params']\n",
    "    for mean,std,params in zip(mean_score,std_score,params):\n",
    "        print(f'{round(mean,3)} + or -{round(std,3)} for the {params}')"
   ]
  },
  {
   "cell_type": "code",
   "execution_count": 110,
   "metadata": {},
   "outputs": [
    {
     "name": "stdout",
     "output_type": "stream",
     "text": [
      "Best parameters are: {'max_depth': 16, 'n_estimators': 10}\n",
      "\n",
      "\n",
      "0.836 + or -0.078 for the {'max_depth': 2, 'n_estimators': 5}\n",
      "0.899 + or -0.039 for the {'max_depth': 2, 'n_estimators': 10}\n",
      "0.899 + or -0.048 for the {'max_depth': 2, 'n_estimators': 50}\n",
      "0.867 + or -0.082 for the {'max_depth': 2, 'n_estimators': 100}\n",
      "0.868 + or -0.059 for the {'max_depth': 2, 'n_estimators': 250}\n",
      "0.875 + or -0.041 for the {'max_depth': 4, 'n_estimators': 5}\n",
      "0.93 + or -0.015 for the {'max_depth': 4, 'n_estimators': 10}\n",
      "0.899 + or -0.052 for the {'max_depth': 4, 'n_estimators': 50}\n",
      "0.915 + or -0.015 for the {'max_depth': 4, 'n_estimators': 100}\n",
      "0.915 + or -0.015 for the {'max_depth': 4, 'n_estimators': 250}\n",
      "0.922 + or -0.034 for the {'max_depth': 8, 'n_estimators': 5}\n",
      "0.922 + or -0.024 for the {'max_depth': 8, 'n_estimators': 10}\n",
      "0.915 + or -0.038 for the {'max_depth': 8, 'n_estimators': 50}\n",
      "0.915 + or -0.038 for the {'max_depth': 8, 'n_estimators': 100}\n",
      "0.915 + or -0.038 for the {'max_depth': 8, 'n_estimators': 250}\n",
      "0.891 + or -0.048 for the {'max_depth': 16, 'n_estimators': 5}\n",
      "0.946 + or -0.046 for the {'max_depth': 16, 'n_estimators': 10}\n",
      "0.923 + or -0.059 for the {'max_depth': 16, 'n_estimators': 50}\n",
      "0.915 + or -0.056 for the {'max_depth': 16, 'n_estimators': 100}\n",
      "0.915 + or -0.038 for the {'max_depth': 16, 'n_estimators': 250}\n",
      "0.899 + or -0.041 for the {'max_depth': 32, 'n_estimators': 5}\n",
      "0.876 + or -0.052 for the {'max_depth': 32, 'n_estimators': 10}\n",
      "0.907 + or -0.052 for the {'max_depth': 32, 'n_estimators': 50}\n",
      "0.93 + or -0.045 for the {'max_depth': 32, 'n_estimators': 100}\n",
      "0.93 + or -0.016 for the {'max_depth': 32, 'n_estimators': 250}\n",
      "0.922 + or -0.024 for the {'max_depth': None, 'n_estimators': 5}\n",
      "0.938 + or -0.039 for the {'max_depth': None, 'n_estimators': 10}\n",
      "0.915 + or -0.056 for the {'max_depth': None, 'n_estimators': 50}\n",
      "0.915 + or -0.038 for the {'max_depth': None, 'n_estimators': 100}\n",
      "0.922 + or -0.024 for the {'max_depth': None, 'n_estimators': 250}\n"
     ]
    }
   ],
   "source": [
    "display(cv_grid)"
   ]
  },
  {
   "cell_type": "markdown",
   "metadata": {},
   "source": [
    "#### KNN"
   ]
  },
  {
   "cell_type": "code",
   "execution_count": 75,
   "metadata": {},
   "outputs": [],
   "source": [
    "from sklearn.neighbors import KNeighborsClassifier\n",
    "\n",
    "knn_model = KNeighborsClassifier(n_neighbors=3)\n",
    "\n",
    "knn_model.fit(X_session_Train, Y_session_Train)\n",
    "\n",
    "y_knn_pred = knn_model.predict(X_session_Test) # 0:Overcast, 2:Mild\n"
   ]
  },
  {
   "cell_type": "code",
   "execution_count": 76,
   "metadata": {},
   "outputs": [
    {
     "name": "stdout",
     "output_type": "stream",
     "text": [
      "Accuracy: 0.8717948717948718\n"
     ]
    }
   ],
   "source": [
    "# Model Accuracy, how often is the classifier correct?\n",
    "print(\"Accuracy:\",metrics.accuracy_score(Y_session_Test, y_knn_pred))"
   ]
  },
  {
   "cell_type": "markdown",
   "metadata": {},
   "source": [
    "Robust Scaling to improve KNN --> Accuracy: 0.8717948717948718\n",
    "\n",
    "MinMax Scaling to improve KNN --> Accuracy: 0.8461538461538461"
   ]
  },
  {
   "cell_type": "code",
   "execution_count": 90,
   "metadata": {},
   "outputs": [
    {
     "name": "stdout",
     "output_type": "stream",
     "text": [
      "Accuracy: 0.8461538461538461\n"
     ]
    }
   ],
   "source": [
    "from sklearn.preprocessing import RobustScaler\n",
    "from sklearn.preprocessing import MinMaxScaler\n",
    "\n",
    "scaler = MinMaxScaler()\n",
    "\n",
    "X_session_robust = df_sessions[['count_mouseover', 'count_mouseout','count_click','count_blur','count_keydown','count_focus','duration','height', 'width']]\n",
    "Y_session_robust = df_sessions['siteName']\n",
    "\n",
    "X_session_robust = scaler.fit_transform(X_session_robust)\n",
    "\n",
    "X_session_robust_Train, X_session_robust_Test, Y_session_robust_Train, Y_session_robust_Test = train_test_split(X_session_robust, Y_session_robust, test_size = 0.30, random_state = 101)\n",
    "\n",
    "#Create KNN Object\n",
    "knn_robust = KNeighborsClassifier()\n",
    "\n",
    "knn_robust.fit(X_session_robust_Train, Y_session_robust_Train)\n",
    "\n",
    "y_knn_pred_robust = knn_robust.predict(X_session_robust_Test)\n",
    "\n",
    "print(\"Accuracy:\",metrics.accuracy_score(Y_session_robust_Test, y_knn_pred_robust))"
   ]
  },
  {
   "cell_type": "markdown",
   "metadata": {},
   "source": [
    "Use Hyperparameter"
   ]
  },
  {
   "cell_type": "code",
   "execution_count": 91,
   "metadata": {},
   "outputs": [
    {
     "name": "stdout",
     "output_type": "stream",
     "text": [
      "Best leaf_size: 1\n",
      "Best p: 1\n",
      "Best n_neighbors: 1\n"
     ]
    }
   ],
   "source": [
    "from sklearn.model_selection import GridSearchCV\n",
    "from sklearn.metrics import roc_auc_score\n",
    "\n",
    "leaf_size = list(range(1,50))\n",
    "n_neighbors = list(range(1,30))\n",
    "p=[1,2]\n",
    "\n",
    "hyperparameters = dict(leaf_size=leaf_size, n_neighbors=n_neighbors, p=p)\n",
    "\n",
    "hyper_model = GridSearchCV(knn_model, hyperparameters, cv=10)\n",
    "best_model = hyper_model.fit(X_session_Train,Y_session_Train)\n",
    "\n",
    "print('Best leaf_size:', best_model.best_estimator_.get_params()['leaf_size'])\n",
    "print('Best p:', best_model.best_estimator_.get_params()['p'])\n",
    "print('Best n_neighbors:', best_model.best_estimator_.get_params()['n_neighbors'])\n"
   ]
  },
  {
   "cell_type": "code",
   "execution_count": 93,
   "metadata": {},
   "outputs": [
    {
     "name": "stdout",
     "output_type": "stream",
     "text": [
      "Accuracy: 0.7948717948717948\n"
     ]
    }
   ],
   "source": [
    "y_hyper_pred = best_model.predict(X_session_Test)\n",
    "print(\"Accuracy:\",metrics.accuracy_score(Y_session_Test, y_hyper_pred))"
   ]
  },
  {
   "cell_type": "markdown",
   "metadata": {},
   "source": [
    "#### Linear Discriminat Analysis"
   ]
  },
  {
   "cell_type": "code",
   "execution_count": 48,
   "metadata": {},
   "outputs": [
    {
     "data": {
      "text/html": [
       "<style>#sk-container-id-1 {color: black;background-color: white;}#sk-container-id-1 pre{padding: 0;}#sk-container-id-1 div.sk-toggleable {background-color: white;}#sk-container-id-1 label.sk-toggleable__label {cursor: pointer;display: block;width: 100%;margin-bottom: 0;padding: 0.3em;box-sizing: border-box;text-align: center;}#sk-container-id-1 label.sk-toggleable__label-arrow:before {content: \"▸\";float: left;margin-right: 0.25em;color: #696969;}#sk-container-id-1 label.sk-toggleable__label-arrow:hover:before {color: black;}#sk-container-id-1 div.sk-estimator:hover label.sk-toggleable__label-arrow:before {color: black;}#sk-container-id-1 div.sk-toggleable__content {max-height: 0;max-width: 0;overflow: hidden;text-align: left;background-color: #f0f8ff;}#sk-container-id-1 div.sk-toggleable__content pre {margin: 0.2em;color: black;border-radius: 0.25em;background-color: #f0f8ff;}#sk-container-id-1 input.sk-toggleable__control:checked~div.sk-toggleable__content {max-height: 200px;max-width: 100%;overflow: auto;}#sk-container-id-1 input.sk-toggleable__control:checked~label.sk-toggleable__label-arrow:before {content: \"▾\";}#sk-container-id-1 div.sk-estimator input.sk-toggleable__control:checked~label.sk-toggleable__label {background-color: #d4ebff;}#sk-container-id-1 div.sk-label input.sk-toggleable__control:checked~label.sk-toggleable__label {background-color: #d4ebff;}#sk-container-id-1 input.sk-hidden--visually {border: 0;clip: rect(1px 1px 1px 1px);clip: rect(1px, 1px, 1px, 1px);height: 1px;margin: -1px;overflow: hidden;padding: 0;position: absolute;width: 1px;}#sk-container-id-1 div.sk-estimator {font-family: monospace;background-color: #f0f8ff;border: 1px dotted black;border-radius: 0.25em;box-sizing: border-box;margin-bottom: 0.5em;}#sk-container-id-1 div.sk-estimator:hover {background-color: #d4ebff;}#sk-container-id-1 div.sk-parallel-item::after {content: \"\";width: 100%;border-bottom: 1px solid gray;flex-grow: 1;}#sk-container-id-1 div.sk-label:hover label.sk-toggleable__label {background-color: #d4ebff;}#sk-container-id-1 div.sk-serial::before {content: \"\";position: absolute;border-left: 1px solid gray;box-sizing: border-box;top: 0;bottom: 0;left: 50%;z-index: 0;}#sk-container-id-1 div.sk-serial {display: flex;flex-direction: column;align-items: center;background-color: white;padding-right: 0.2em;padding-left: 0.2em;position: relative;}#sk-container-id-1 div.sk-item {position: relative;z-index: 1;}#sk-container-id-1 div.sk-parallel {display: flex;align-items: stretch;justify-content: center;background-color: white;position: relative;}#sk-container-id-1 div.sk-item::before, #sk-container-id-1 div.sk-parallel-item::before {content: \"\";position: absolute;border-left: 1px solid gray;box-sizing: border-box;top: 0;bottom: 0;left: 50%;z-index: -1;}#sk-container-id-1 div.sk-parallel-item {display: flex;flex-direction: column;z-index: 1;position: relative;background-color: white;}#sk-container-id-1 div.sk-parallel-item:first-child::after {align-self: flex-end;width: 50%;}#sk-container-id-1 div.sk-parallel-item:last-child::after {align-self: flex-start;width: 50%;}#sk-container-id-1 div.sk-parallel-item:only-child::after {width: 0;}#sk-container-id-1 div.sk-dashed-wrapped {border: 1px dashed gray;margin: 0 0.4em 0.5em 0.4em;box-sizing: border-box;padding-bottom: 0.4em;background-color: white;}#sk-container-id-1 div.sk-label label {font-family: monospace;font-weight: bold;display: inline-block;line-height: 1.2em;}#sk-container-id-1 div.sk-label-container {text-align: center;}#sk-container-id-1 div.sk-container {/* jupyter's `normalize.less` sets `[hidden] { display: none; }` but bootstrap.min.css set `[hidden] { display: none !important; }` so we also need the `!important` here to be able to override the default hidden behavior on the sphinx rendered scikit-learn.org. See: https://github.com/scikit-learn/scikit-learn/issues/21755 */display: inline-block !important;position: relative;}#sk-container-id-1 div.sk-text-repr-fallback {display: none;}</style><div id=\"sk-container-id-1\" class=\"sk-top-container\"><div class=\"sk-text-repr-fallback\"><pre>LinearDiscriminantAnalysis()</pre><b>In a Jupyter environment, please rerun this cell to show the HTML representation or trust the notebook. <br />On GitHub, the HTML representation is unable to render, please try loading this page with nbviewer.org.</b></div><div class=\"sk-container\" hidden><div class=\"sk-item\"><div class=\"sk-estimator sk-toggleable\"><input class=\"sk-toggleable__control sk-hidden--visually\" id=\"sk-estimator-id-1\" type=\"checkbox\" checked><label for=\"sk-estimator-id-1\" class=\"sk-toggleable__label sk-toggleable__label-arrow\">LinearDiscriminantAnalysis</label><div class=\"sk-toggleable__content\"><pre>LinearDiscriminantAnalysis()</pre></div></div></div></div></div>"
      ],
      "text/plain": [
       "LinearDiscriminantAnalysis()"
      ]
     },
     "execution_count": 48,
     "metadata": {},
     "output_type": "execute_result"
    }
   ],
   "source": [
    "from sklearn.datasets import make_classification\n",
    "from sklearn.discriminant_analysis import LinearDiscriminantAnalysis\n",
    "\n",
    "lda_model = LinearDiscriminantAnalysis()\n",
    "lda_model.fit(X_session_Train, Y_session_Train)"
   ]
  },
  {
   "cell_type": "code",
   "execution_count": 49,
   "metadata": {},
   "outputs": [
    {
     "name": "stdout",
     "output_type": "stream",
     "text": [
      "0.8502136752136753\n"
     ]
    }
   ],
   "source": [
    "from sklearn.model_selection import RepeatedStratifiedKFold\n",
    "from sklearn.model_selection import cross_val_score\n",
    "\n",
    "cv = RepeatedStratifiedKFold(n_splits=10, n_repeats=3, random_state=1)\n",
    "\n",
    "scores = cross_val_score(lda_model, X_session, Y_session, scoring='accuracy', cv=cv, n_jobs=-1)\n",
    "print(np.mean(scores))   \n"
   ]
  },
  {
   "cell_type": "markdown",
   "metadata": {},
   "source": [
    "#### Logistic Regression"
   ]
  },
  {
   "cell_type": "code",
   "execution_count": 51,
   "metadata": {},
   "outputs": [],
   "source": [
    "# import the class\n",
    "from sklearn.linear_model import LogisticRegression\n",
    "\n",
    "# instantiate the model (using the default parameters)\n",
    "logreg_model = LogisticRegression(random_state=16)\n",
    "\n",
    "# fit the model with data\n",
    "logreg_model.fit(X_session_Train, Y_session_Train)\n",
    "\n",
    "y_logreg_pred = logreg_model.predict(X_session_Test)"
   ]
  },
  {
   "cell_type": "code",
   "execution_count": 52,
   "metadata": {},
   "outputs": [
    {
     "name": "stdout",
     "output_type": "stream",
     "text": [
      "Accuracy: 0.8205128205128205\n"
     ]
    }
   ],
   "source": [
    "print(\"Accuracy:\",metrics.accuracy_score(Y_session_Test, y_logreg_pred))"
   ]
  },
  {
   "cell_type": "markdown",
   "metadata": {},
   "source": [
    "#### Naive Bayes"
   ]
  },
  {
   "cell_type": "code",
   "execution_count": 77,
   "metadata": {},
   "outputs": [],
   "source": [
    "#Import Gaussian Naive Bayes model\n",
    "from sklearn.naive_bayes import GaussianNB\n",
    "\n",
    "#Create a Gaussian Classifier\n",
    "gnb_model = GaussianNB()\n",
    "\n",
    "#Train the model using the training sets\n",
    "gnb_model.fit(X_session_Train, Y_session_Train)\n",
    "\n",
    "#Predict the response for test dataset\n",
    "y_gnb_pred = gnb_model.predict(X_session_Test)"
   ]
  },
  {
   "cell_type": "code",
   "execution_count": 78,
   "metadata": {},
   "outputs": [
    {
     "name": "stdout",
     "output_type": "stream",
     "text": [
      "Accuracy: 0.7435897435897436\n"
     ]
    }
   ],
   "source": [
    "print(\"Accuracy:\",metrics.accuracy_score(Y_session_Test, y_gnb_pred))"
   ]
  },
  {
   "cell_type": "markdown",
   "metadata": {},
   "source": [
    "#### SVM"
   ]
  },
  {
   "cell_type": "code",
   "execution_count": 80,
   "metadata": {},
   "outputs": [],
   "source": [
    "from sklearn import svm\n",
    "#Create a svm Classifier\n",
    "svm_model = svm.SVC(kernel='linear') # Linear Kernel\n",
    "\n",
    "#Train the model using the training sets\n",
    "svm_model.fit(X_session_Train, Y_session_Train)\n",
    "\n",
    "#Predict the response for test dataset\n",
    "y_svm_pred = svm_model.predict(X_session_Test)"
   ]
  },
  {
   "cell_type": "code",
   "execution_count": 81,
   "metadata": {},
   "outputs": [
    {
     "name": "stdout",
     "output_type": "stream",
     "text": [
      "Accuracy: 0.8205128205128205\n"
     ]
    }
   ],
   "source": [
    "print(\"Accuracy:\",metrics.accuracy_score(Y_session_Test, y_svm_pred))"
   ]
  },
  {
   "cell_type": "markdown",
   "metadata": {},
   "source": [
    "#### Gradient Boosting"
   ]
  },
  {
   "cell_type": "code",
   "execution_count": 82,
   "metadata": {},
   "outputs": [],
   "source": [
    "from sklearn.ensemble import GradientBoostingClassifier\n",
    "\n",
    "gradient_booster_model = GradientBoostingClassifier(learning_rate=0.1)\n",
    "gradient_booster_model.fit(X_session_Train,Y_session_Train)\n",
    "\n",
    "y_gradient_pred = gradient_booster_model.predict(X_session_Test)\n"
   ]
  },
  {
   "cell_type": "code",
   "execution_count": 83,
   "metadata": {},
   "outputs": [
    {
     "name": "stdout",
     "output_type": "stream",
     "text": [
      "Accuracy: 0.8461538461538461\n"
     ]
    }
   ],
   "source": [
    "print(\"Accuracy:\",metrics.accuracy_score(Y_session_Test, y_gradient_pred))"
   ]
  },
  {
   "cell_type": "markdown",
   "metadata": {},
   "source": [
    "#### ANN / Multi-Layer-Perceptron\n",
    "Batch-Size: 32 loss: 0.6364 - accuracy: 0.7333\n",
    "\n",
    "Batch-Size: 16 loss: 0.5102 - accuracy: 0.8444\n",
    "\n",
    "Batch-Size: 8  loss: 0.3590 - accuracy: 0.8556\n",
    "\n",
    "Batch-Size: 32 and epochs: 100 loss: 0.6783 - accuracy: 0.7333\n"
   ]
  },
  {
   "cell_type": "code",
   "execution_count": 179,
   "metadata": {},
   "outputs": [],
   "source": [
    "from sklearn.neural_network import MLPClassifier\n",
    "from sklearn.neural_network import MLPRegressor\n",
    "from sklearn.metrics import mean_squared_error\n",
    "from math import sqrt\n",
    "from sklearn.metrics import r2_score\n",
    "import tensorflow as tf"
   ]
  },
  {
   "cell_type": "code",
   "execution_count": 187,
   "metadata": {},
   "outputs": [
    {
     "name": "stdout",
     "output_type": "stream",
     "text": [
      "Epoch 1/50\n",
      "3/3 [==============================] - 0s 2ms/step - loss: 0.2319 - accuracy: 0.6667\n",
      "Epoch 2/50\n",
      "3/3 [==============================] - 0s 2ms/step - loss: 0.2309 - accuracy: 0.6667\n",
      "Epoch 3/50\n",
      "3/3 [==============================] - 0s 3ms/step - loss: 0.2298 - accuracy: 0.6556\n",
      "Epoch 4/50\n",
      "3/3 [==============================] - 0s 13ms/step - loss: 0.2288 - accuracy: 0.6889\n",
      "Epoch 5/50\n",
      "3/3 [==============================] - 0s 3ms/step - loss: 0.2276 - accuracy: 0.7222\n",
      "Epoch 6/50\n",
      "3/3 [==============================] - 0s 3ms/step - loss: 0.2265 - accuracy: 0.7556\n",
      "Epoch 7/50\n",
      "3/3 [==============================] - 0s 3ms/step - loss: 0.2254 - accuracy: 0.7667\n",
      "Epoch 8/50\n",
      "3/3 [==============================] - 0s 2ms/step - loss: 0.2242 - accuracy: 0.7667\n",
      "Epoch 9/50\n",
      "3/3 [==============================] - 0s 3ms/step - loss: 0.2232 - accuracy: 0.7667\n",
      "Epoch 10/50\n",
      "3/3 [==============================] - 0s 4ms/step - loss: 0.2219 - accuracy: 0.7667\n",
      "Epoch 11/50\n",
      "3/3 [==============================] - 0s 3ms/step - loss: 0.2208 - accuracy: 0.7667\n",
      "Epoch 12/50\n",
      "3/3 [==============================] - 0s 2ms/step - loss: 0.2196 - accuracy: 0.7667\n",
      "Epoch 13/50\n",
      "3/3 [==============================] - 0s 3ms/step - loss: 0.2184 - accuracy: 0.7667\n",
      "Epoch 14/50\n",
      "3/3 [==============================] - 0s 2ms/step - loss: 0.2172 - accuracy: 0.7667\n",
      "Epoch 15/50\n",
      "3/3 [==============================] - 0s 2ms/step - loss: 0.2159 - accuracy: 0.7667\n",
      "Epoch 16/50\n",
      "3/3 [==============================] - 0s 3ms/step - loss: 0.2146 - accuracy: 0.7667\n",
      "Epoch 17/50\n",
      "3/3 [==============================] - 0s 2ms/step - loss: 0.2134 - accuracy: 0.7667\n",
      "Epoch 18/50\n",
      "3/3 [==============================] - 0s 3ms/step - loss: 0.2121 - accuracy: 0.7667\n",
      "Epoch 19/50\n",
      "3/3 [==============================] - 0s 3ms/step - loss: 0.2108 - accuracy: 0.7667\n",
      "Epoch 20/50\n",
      "3/3 [==============================] - 0s 2ms/step - loss: 0.2095 - accuracy: 0.7667\n",
      "Epoch 21/50\n",
      "3/3 [==============================] - 0s 3ms/step - loss: 0.2081 - accuracy: 0.7667\n",
      "Epoch 22/50\n",
      "3/3 [==============================] - 0s 2ms/step - loss: 0.2067 - accuracy: 0.7667\n",
      "Epoch 23/50\n",
      "3/3 [==============================] - 0s 3ms/step - loss: 0.2054 - accuracy: 0.7667\n",
      "Epoch 24/50\n",
      "3/3 [==============================] - 0s 2ms/step - loss: 0.2040 - accuracy: 0.7667\n",
      "Epoch 25/50\n",
      "3/3 [==============================] - 0s 2ms/step - loss: 0.2026 - accuracy: 0.7667\n",
      "Epoch 26/50\n",
      "3/3 [==============================] - 0s 2ms/step - loss: 0.2013 - accuracy: 0.7667\n",
      "Epoch 27/50\n",
      "3/3 [==============================] - 0s 2ms/step - loss: 0.2000 - accuracy: 0.7667\n",
      "Epoch 28/50\n",
      "3/3 [==============================] - 0s 2ms/step - loss: 0.1985 - accuracy: 0.7778\n",
      "Epoch 29/50\n",
      "3/3 [==============================] - 0s 2ms/step - loss: 0.1972 - accuracy: 0.7778\n",
      "Epoch 30/50\n",
      "3/3 [==============================] - 0s 2ms/step - loss: 0.1957 - accuracy: 0.7778\n",
      "Epoch 31/50\n",
      "3/3 [==============================] - 0s 2ms/step - loss: 0.1943 - accuracy: 0.7778\n",
      "Epoch 32/50\n",
      "3/3 [==============================] - 0s 3ms/step - loss: 0.1929 - accuracy: 0.7778\n",
      "Epoch 33/50\n",
      "3/3 [==============================] - 0s 2ms/step - loss: 0.1914 - accuracy: 0.7778\n",
      "Epoch 34/50\n",
      "3/3 [==============================] - 0s 2ms/step - loss: 0.1901 - accuracy: 0.7778\n",
      "Epoch 35/50\n",
      "3/3 [==============================] - 0s 2ms/step - loss: 0.1887 - accuracy: 0.7778\n",
      "Epoch 36/50\n",
      "3/3 [==============================] - 0s 2ms/step - loss: 0.1873 - accuracy: 0.7889\n",
      "Epoch 37/50\n",
      "3/3 [==============================] - 0s 3ms/step - loss: 0.1860 - accuracy: 0.7889\n",
      "Epoch 38/50\n",
      "3/3 [==============================] - 0s 2ms/step - loss: 0.1846 - accuracy: 0.7889\n",
      "Epoch 39/50\n",
      "3/3 [==============================] - 0s 2ms/step - loss: 0.1833 - accuracy: 0.7889\n",
      "Epoch 40/50\n",
      "3/3 [==============================] - 0s 3ms/step - loss: 0.1820 - accuracy: 0.7889\n",
      "Epoch 41/50\n",
      "3/3 [==============================] - 0s 2ms/step - loss: 0.1807 - accuracy: 0.7889\n",
      "Epoch 42/50\n",
      "3/3 [==============================] - 0s 2ms/step - loss: 0.1796 - accuracy: 0.8000\n",
      "Epoch 43/50\n",
      "3/3 [==============================] - 0s 2ms/step - loss: 0.1783 - accuracy: 0.8000\n",
      "Epoch 44/50\n",
      "3/3 [==============================] - 0s 2ms/step - loss: 0.1772 - accuracy: 0.8000\n",
      "Epoch 45/50\n",
      "3/3 [==============================] - 0s 2ms/step - loss: 0.1759 - accuracy: 0.8000\n",
      "Epoch 46/50\n",
      "3/3 [==============================] - 0s 2ms/step - loss: 0.1748 - accuracy: 0.8000\n",
      "Epoch 47/50\n",
      "3/3 [==============================] - 0s 2ms/step - loss: 0.1736 - accuracy: 0.8000\n",
      "Epoch 48/50\n",
      "3/3 [==============================] - 0s 2ms/step - loss: 0.1725 - accuracy: 0.8000\n",
      "Epoch 49/50\n",
      "3/3 [==============================] - 0s 2ms/step - loss: 0.1715 - accuracy: 0.8000\n",
      "Epoch 50/50\n",
      "3/3 [==============================] - 0s 2ms/step - loss: 0.1704 - accuracy: 0.8000\n",
      "2/2 [==============================] - 0s 2ms/step\n"
     ]
    }
   ],
   "source": [
    "ann_model = tf.keras.models.Sequential()\n",
    "ann_model.add(tf.keras.layers.Dense(units=4,activation=\"relu\"))\n",
    "ann_model.add(tf.keras.layers.Dense(units=4,activation=\"relu\"))\n",
    "ann_model.add(tf.keras.layers.Dense(units=1,activation=\"sigmoid\"))\n",
    "ann_model.compile(optimizer=\"adam\",loss=\"mean_squared_error\",metrics=['accuracy'])\n",
    "ann_model.fit(X_session_Train,Y_session_Train,batch_size=32,epochs = 50)\n",
    "\n",
    "y_ann_pred=ann_model.predict(X_session_Test)"
   ]
  },
  {
   "cell_type": "markdown",
   "metadata": {},
   "source": [
    "# Sessions only mousedynamics"
   ]
  },
  {
   "cell_type": "code",
   "execution_count": 223,
   "metadata": {},
   "outputs": [],
   "source": [
    "df_mouse = pd.read_pickle('CleanedDataWithIds.pkl') "
   ]
  },
  {
   "cell_type": "code",
   "execution_count": 224,
   "metadata": {},
   "outputs": [
    {
     "data": {
      "text/html": [
       "<div>\n",
       "<style scoped>\n",
       "    .dataframe tbody tr th:only-of-type {\n",
       "        vertical-align: middle;\n",
       "    }\n",
       "\n",
       "    .dataframe tbody tr th {\n",
       "        vertical-align: top;\n",
       "    }\n",
       "\n",
       "    .dataframe thead th {\n",
       "        text-align: right;\n",
       "    }\n",
       "</style>\n",
       "<table border=\"1\" class=\"dataframe\">\n",
       "  <thead>\n",
       "    <tr style=\"text-align: right;\">\n",
       "      <th></th>\n",
       "      <th>timeStamp</th>\n",
       "      <th>type</th>\n",
       "      <th>siteName</th>\n",
       "      <th>clientX</th>\n",
       "      <th>clientY</th>\n",
       "      <th>session</th>\n",
       "    </tr>\n",
       "  </thead>\n",
       "  <tbody>\n",
       "    <tr>\n",
       "      <th>339</th>\n",
       "      <td>824.2999999988824</td>\n",
       "      <td>mouseover</td>\n",
       "      <td>0</td>\n",
       "      <td>673</td>\n",
       "      <td>363</td>\n",
       "      <td>898</td>\n",
       "    </tr>\n",
       "    <tr>\n",
       "      <th>340</th>\n",
       "      <td>858.2999999988824</td>\n",
       "      <td>mouseout</td>\n",
       "      <td>0</td>\n",
       "      <td>772</td>\n",
       "      <td>333</td>\n",
       "      <td>898</td>\n",
       "    </tr>\n",
       "    <tr>\n",
       "      <th>341</th>\n",
       "      <td>2005.2999999988824</td>\n",
       "      <td>mouseover</td>\n",
       "      <td>0</td>\n",
       "      <td>796</td>\n",
       "      <td>266</td>\n",
       "      <td>898</td>\n",
       "    </tr>\n",
       "    <tr>\n",
       "      <th>342</th>\n",
       "      <td>2296.5</td>\n",
       "      <td>focus</td>\n",
       "      <td>0</td>\n",
       "      <td>NaN</td>\n",
       "      <td>NaN</td>\n",
       "      <td>898</td>\n",
       "    </tr>\n",
       "    <tr>\n",
       "      <th>343</th>\n",
       "      <td>2875.2999999988824</td>\n",
       "      <td>mouseover</td>\n",
       "      <td>0</td>\n",
       "      <td>995</td>\n",
       "      <td>264</td>\n",
       "      <td>898</td>\n",
       "    </tr>\n",
       "  </tbody>\n",
       "</table>\n",
       "</div>"
      ],
      "text/plain": [
       "              timeStamp       type  siteName clientX clientY  session\n",
       "339   824.2999999988824  mouseover         0     673     363      898\n",
       "340   858.2999999988824   mouseout         0     772     333      898\n",
       "341  2005.2999999988824  mouseover         0     796     266      898\n",
       "342              2296.5      focus         0     NaN     NaN      898\n",
       "343  2875.2999999988824  mouseover         0     995     264      898"
      ]
     },
     "execution_count": 224,
     "metadata": {},
     "output_type": "execute_result"
    }
   ],
   "source": [
    "df_mouse = df_mouse.drop(['date', 'sitename', 'key', 'elementId', 'height', 'width', 'browser', ], axis=1)\n",
    "df_mouse.head()"
   ]
  },
  {
   "cell_type": "code",
   "execution_count": 228,
   "metadata": {},
   "outputs": [
    {
     "data": {
      "text/html": [
       "<div>\n",
       "<style scoped>\n",
       "    .dataframe tbody tr th:only-of-type {\n",
       "        vertical-align: middle;\n",
       "    }\n",
       "\n",
       "    .dataframe tbody tr th {\n",
       "        vertical-align: top;\n",
       "    }\n",
       "\n",
       "    .dataframe thead th {\n",
       "        text-align: right;\n",
       "    }\n",
       "</style>\n",
       "<table border=\"1\" class=\"dataframe\">\n",
       "  <thead>\n",
       "    <tr style=\"text-align: right;\">\n",
       "      <th></th>\n",
       "      <th>timeStamp</th>\n",
       "      <th>type</th>\n",
       "      <th>siteName</th>\n",
       "      <th>clientX</th>\n",
       "      <th>clientY</th>\n",
       "      <th>session</th>\n",
       "      <th>array</th>\n",
       "    </tr>\n",
       "  </thead>\n",
       "  <tbody>\n",
       "    <tr>\n",
       "      <th>0</th>\n",
       "      <td>NaN</td>\n",
       "      <td>NaN</td>\n",
       "      <td>NaN</td>\n",
       "      <td>NaN</td>\n",
       "      <td>NaN</td>\n",
       "      <td>NaN</td>\n",
       "      <td>640</td>\n",
       "    </tr>\n",
       "    <tr>\n",
       "      <th>1</th>\n",
       "      <td>NaN</td>\n",
       "      <td>NaN</td>\n",
       "      <td>NaN</td>\n",
       "      <td>NaN</td>\n",
       "      <td>NaN</td>\n",
       "      <td>NaN</td>\n",
       "      <td>336</td>\n",
       "    </tr>\n",
       "  </tbody>\n",
       "</table>\n",
       "</div>"
      ],
      "text/plain": [
       "  timeStamp  type  siteName clientX clientY  session  array\n",
       "0       NaN   NaN       NaN     NaN     NaN      NaN    640\n",
       "1       NaN   NaN       NaN     NaN     NaN      NaN    336"
      ]
     },
     "execution_count": 228,
     "metadata": {},
     "output_type": "execute_result"
    }
   ],
   "source": [
    "df_mouseover = df_mouse.loc[df_mouse['type']=='mouseover']\n",
    "df_mouseout = df_mouse.loc[df_mouse['type']=='mouseout']\n",
    "df_mouse = pd.concat([df_mouseover, df_mouseout])\n",
    "\n",
    "df_mouse['type'] = df_mouse['type'].replace('mouseover', 2)\n",
    "df_mouse['type'] = df_mouse['type'].replace('mouseout', 3)\n",
    "df_mouse['array'] = (640, 336)\n",
    "\n",
    "df_mouse.head()"
   ]
  },
  {
   "cell_type": "code",
   "execution_count": 220,
   "metadata": {},
   "outputs": [],
   "source": [
    "X_mouse = df_mouse[['timeStamp', 'type','clientX', 'clientY', 'session', 'array']]\n",
    "Y_mouse = df_mouse['siteName']\n",
    "\n",
    "X_mouse = StandardScaler().fit_transform(X_mouse)\n",
    "\n",
    "X_mouse_Train, X_mouse_Test, Y_mouse_Train, Y_mouse_Test = train_test_split(X_mouse, Y_mouse, test_size = 0.30, \n",
    "                                                    random_state = 101)"
   ]
  },
  {
   "cell_type": "code",
   "execution_count": 221,
   "metadata": {},
   "outputs": [],
   "source": [
    "#Import Random Forest Model\n",
    "from sklearn.ensemble import RandomForestClassifier\n",
    "\n",
    "#Create a Gaussian Classifier\n",
    "forest_model_mouse=RandomForestClassifier(n_estimators=250)\n",
    "\n",
    "#Train the model using the training sets y_pred=clf.predict(X_test)\n",
    "forest_model_mouse.fit(X_mouse_Train,Y_mouse_Train)\n",
    "\n",
    "y_mouse_pred=forest_model_mouse.predict(X_mouse_Test)"
   ]
  },
  {
   "cell_type": "code",
   "execution_count": 222,
   "metadata": {},
   "outputs": [
    {
     "name": "stdout",
     "output_type": "stream",
     "text": [
      "Accuracy: 0.967173738991193\n"
     ]
    }
   ],
   "source": [
    "#Import scikit-learn metrics module for accuracy calculation\n",
    "from sklearn import metrics\n",
    "# Model Accuracy, how often is the classifier correct?\n",
    "print(\"Accuracy:\",metrics.accuracy_score(Y_mouse_Test, y_mouse_pred))"
   ]
  },
  {
   "cell_type": "markdown",
   "metadata": {},
   "source": [
    "# CNN Sequential Data Model"
   ]
  },
  {
   "cell_type": "code",
   "execution_count": 234,
   "metadata": {},
   "outputs": [],
   "source": [
    "df_seq = pd.read_pickle('CleanedDataWithIds.pkl') \n",
    "df_seq['date'] = df_seq['date'].astype('datetime64[ns]')"
   ]
  },
  {
   "cell_type": "code",
   "execution_count": 236,
   "metadata": {},
   "outputs": [
    {
     "data": {
      "text/html": [
       "<div>\n",
       "<style scoped>\n",
       "    .dataframe tbody tr th:only-of-type {\n",
       "        vertical-align: middle;\n",
       "    }\n",
       "\n",
       "    .dataframe tbody tr th {\n",
       "        vertical-align: top;\n",
       "    }\n",
       "\n",
       "    .dataframe thead th {\n",
       "        text-align: right;\n",
       "    }\n",
       "</style>\n",
       "<table border=\"1\" class=\"dataframe\">\n",
       "  <thead>\n",
       "    <tr style=\"text-align: right;\">\n",
       "      <th></th>\n",
       "      <th>elementId</th>\n",
       "      <th>timeStamp</th>\n",
       "      <th>type</th>\n",
       "      <th>siteName</th>\n",
       "      <th>date</th>\n",
       "      <th>clientX</th>\n",
       "      <th>clientY</th>\n",
       "      <th>session</th>\n",
       "      <th>height</th>\n",
       "      <th>width</th>\n",
       "      <th>browser</th>\n",
       "      <th>key</th>\n",
       "      <th>sitename</th>\n",
       "    </tr>\n",
       "  </thead>\n",
       "  <tbody>\n",
       "    <tr>\n",
       "      <th>2388</th>\n",
       "      <td>inputHobby</td>\n",
       "      <td>2224.899999976158</td>\n",
       "      <td>mouseover</td>\n",
       "      <td>1</td>\n",
       "      <td>2022-10-18 12:41:25.264</td>\n",
       "      <td>233</td>\n",
       "      <td>286</td>\n",
       "      <td>997</td>\n",
       "      <td>520</td>\n",
       "      <td>360</td>\n",
       "      <td>NaN</td>\n",
       "      <td>NaN</td>\n",
       "      <td>NaN</td>\n",
       "    </tr>\n",
       "    <tr>\n",
       "      <th>2389</th>\n",
       "      <td>inputHobby</td>\n",
       "      <td>2241.699999988079</td>\n",
       "      <td>focus</td>\n",
       "      <td>1</td>\n",
       "      <td>2022-10-18 12:41:25.273</td>\n",
       "      <td>NaN</td>\n",
       "      <td>NaN</td>\n",
       "      <td>997</td>\n",
       "      <td>520</td>\n",
       "      <td>360</td>\n",
       "      <td>Chrome</td>\n",
       "      <td>NaN</td>\n",
       "      <td>NaN</td>\n",
       "    </tr>\n",
       "    <tr>\n",
       "      <th>2392</th>\n",
       "      <td>inputHobby</td>\n",
       "      <td>7932.899999976158</td>\n",
       "      <td>mouseout</td>\n",
       "      <td>1</td>\n",
       "      <td>2022-10-18 12:41:30.975</td>\n",
       "      <td>307</td>\n",
       "      <td>192</td>\n",
       "      <td>997</td>\n",
       "      <td>277</td>\n",
       "      <td>360</td>\n",
       "      <td>NaN</td>\n",
       "      <td>NaN</td>\n",
       "      <td>NaN</td>\n",
       "    </tr>\n",
       "    <tr>\n",
       "      <th>2393</th>\n",
       "      <td>inputHobby</td>\n",
       "      <td>7951.699999988079</td>\n",
       "      <td>blur</td>\n",
       "      <td>1</td>\n",
       "      <td>2022-10-18 12:41:30.979</td>\n",
       "      <td>NaN</td>\n",
       "      <td>NaN</td>\n",
       "      <td>997</td>\n",
       "      <td>277</td>\n",
       "      <td>360</td>\n",
       "      <td>Chrome</td>\n",
       "      <td>NaN</td>\n",
       "      <td>NaN</td>\n",
       "    </tr>\n",
       "    <tr>\n",
       "      <th>2398</th>\n",
       "      <td>window</td>\n",
       "      <td>10974.799999952316</td>\n",
       "      <td>blur</td>\n",
       "      <td>1</td>\n",
       "      <td>2022-10-18 12:41:34.000</td>\n",
       "      <td>NaN</td>\n",
       "      <td>NaN</td>\n",
       "      <td>997</td>\n",
       "      <td>520</td>\n",
       "      <td>360</td>\n",
       "      <td>Chrome</td>\n",
       "      <td>NaN</td>\n",
       "      <td>TestSchwer</td>\n",
       "    </tr>\n",
       "  </tbody>\n",
       "</table>\n",
       "</div>"
      ],
      "text/plain": [
       "       elementId           timeStamp       type  siteName  \\\n",
       "2388  inputHobby   2224.899999976158  mouseover         1   \n",
       "2389  inputHobby   2241.699999988079      focus         1   \n",
       "2392  inputHobby   7932.899999976158   mouseout         1   \n",
       "2393  inputHobby   7951.699999988079       blur         1   \n",
       "2398      window  10974.799999952316       blur         1   \n",
       "\n",
       "                        date clientX clientY  session height width browser  \\\n",
       "2388 2022-10-18 12:41:25.264     233     286      997    520   360     NaN   \n",
       "2389 2022-10-18 12:41:25.273     NaN     NaN      997    520   360  Chrome   \n",
       "2392 2022-10-18 12:41:30.975     307     192      997    277   360     NaN   \n",
       "2393 2022-10-18 12:41:30.979     NaN     NaN      997    277   360  Chrome   \n",
       "2398 2022-10-18 12:41:34.000     NaN     NaN      997    520   360  Chrome   \n",
       "\n",
       "      key    sitename  \n",
       "2388  NaN         NaN  \n",
       "2389  NaN         NaN  \n",
       "2392  NaN         NaN  \n",
       "2393  NaN         NaN  \n",
       "2398  NaN  TestSchwer  "
      ]
     },
     "execution_count": 236,
     "metadata": {},
     "output_type": "execute_result"
    }
   ],
   "source": [
    "df_seq= df_seq.sort_values(by=['session','date'], ascending=[False, True])\n",
    "df_seq.head()\n"
   ]
  },
  {
   "cell_type": "code",
   "execution_count": 237,
   "metadata": {},
   "outputs": [
    {
     "name": "stderr",
     "output_type": "stream",
     "text": [
      "<ipython-input-237-3f96c344a557>:1: FutureWarning: pivot_table dropped a column because it failed to aggregate. This behavior is deprecated and will raise in a future version of pandas. Select only the columns that can be aggregated.\n",
      "  df_cpu_pivot = pd.pivot_table(df_seq, values='type',\n"
     ]
    }
   ],
   "source": [
    "df_cpu_pivot = pd.pivot_table(df_seq, values='type', \n",
    " index=['date'], columns=['session'])"
   ]
  },
  {
   "cell_type": "code",
   "execution_count": 238,
   "metadata": {},
   "outputs": [],
   "source": [
    "for i in range(0, len(df_cpu_pivot.columns)):\n",
    " df_cpu_pivot.iloc[:,i].interpolate(inplace = True)"
   ]
  },
  {
   "cell_type": "code",
   "execution_count": 239,
   "metadata": {},
   "outputs": [
    {
     "name": "stdout",
     "output_type": "stream",
     "text": [
      "Empty DataFrame\n",
      "Columns: []\n",
      "Index: [2022-10-17 13:35:24.171000, 2022-10-17 13:35:24.205000, 2022-10-17 13:35:25.361000, 2022-10-17 13:35:25.652000, 2022-10-17 13:35:26.229000, 2022-10-17 13:35:26.230000, 2022-10-17 13:35:26.493000, 2022-10-17 13:35:26.607000, 2022-10-17 13:35:29.320000, 2022-10-17 13:35:29.322000, 2022-10-17 13:35:32.451000, 2022-10-17 13:35:32.453000, 2022-10-17 13:35:33.747000, 2022-10-17 13:35:34.676000, 2022-10-17 13:35:34.677000, 2022-10-17 13:35:36.483000, 2022-10-17 13:35:36.484000, 2022-10-17 13:35:39.220000, 2022-10-17 13:35:39.222000, 2022-10-17 13:35:41.562000, 2022-10-17 13:35:41.655000, 2022-10-17 13:35:41.788000, 2022-10-17 13:35:41.838000, 2022-10-17 13:35:41.855000, 2022-10-17 13:35:42.128000, 2022-10-17 13:35:42.223000, 2022-10-17 13:38:09.616000, 2022-10-17 13:38:18.235000, 2022-10-17 13:38:21.381000, 2022-10-17 13:38:21.398000, 2022-10-17 13:38:21.480000, 2022-10-17 13:38:22.075000, 2022-10-17 13:38:29.102000, 2022-10-17 13:38:29.104000, 2022-10-17 13:38:32.157000, 2022-10-17 13:38:32.159000, 2022-10-17 13:38:36.335000, 2022-10-17 13:38:37.228000, 2022-10-17 13:38:40.663000, 2022-10-17 13:38:45.796000, 2022-10-17 13:38:46.527000, 2022-10-17 13:38:46.528000, 2022-10-17 13:38:48.104000, 2022-10-17 13:38:48.106000, 2022-10-17 13:38:50.100000, 2022-10-17 13:38:50.148000, 2022-10-17 13:38:50.165000, 2022-10-17 13:38:50.200000, 2022-10-17 13:38:50.249000, 2022-10-17 13:38:50.709000, 2022-10-17 13:38:50.803000, 2022-10-17 13:38:53.772000, 2022-10-17 13:38:53.833000, 2022-10-17 13:38:54.116000, 2022-10-17 13:38:54.150000, 2022-10-17 13:38:54.506000, 2022-10-17 13:38:54.766000, 2022-10-17 13:38:55.139000, 2022-10-17 13:38:55.182000, 2022-10-17 13:38:55.282000, 2022-10-17 13:38:55.299000, 2022-10-17 13:38:56.465000, 2022-10-17 13:38:56.482000, 2022-10-17 13:38:56.749000, 2022-10-17 13:38:56.766000, 2022-10-17 13:38:58.515000, 2022-10-17 13:38:58.987000, 2022-10-17 13:38:59.199000, 2022-10-17 13:38:59.332000, 2022-10-17 13:38:59.498000, 2022-10-17 13:38:59.500000, 2022-10-17 13:38:59.867000, 2022-10-17 13:39:00.191000, 2022-10-17 13:39:00.522000, 2022-10-17 13:39:00.565000, 2022-10-17 13:39:00.683000, 2022-10-17 13:39:00.733000, 2022-10-17 13:39:00.749000, 2022-10-17 13:39:00.766000, 2022-10-17 13:39:01.721000, 2022-10-17 13:39:01.727000, 2022-10-17 13:39:02.339000, 2022-10-17 13:39:02.627000, 2022-10-17 13:39:06.016000, 2022-10-17 13:39:07.652000, 2022-10-17 13:39:07.740000, 2022-10-17 13:39:10.422000, 2022-10-17 13:39:10.664000, 2022-10-17 13:39:11.689000, 2022-10-17 13:39:12.356000, 2022-10-17 13:39:13.150000, 2022-10-17 13:39:13.233000, 2022-10-17 13:39:13.527000, 2022-10-17 13:39:13.529000, 2022-10-17 13:39:13.791000, 2022-10-17 13:39:14.623000, 2022-10-17 13:39:18.893000, 2022-10-17 13:39:19.964000, 2022-10-17 13:39:20.129000, 2022-10-17 13:40:43.851000, ...]\n"
     ]
    }
   ],
   "source": [
    "print(df_cpu_pivot)"
   ]
  }
 ],
 "metadata": {
  "kernelspec": {
   "display_name": "Python 3.8.5 ('base')",
   "language": "python",
   "name": "python3"
  },
  "language_info": {
   "codemirror_mode": {
    "name": "ipython",
    "version": 3
   },
   "file_extension": ".py",
   "mimetype": "text/x-python",
   "name": "python",
   "nbconvert_exporter": "python",
   "pygments_lexer": "ipython3",
   "version": "3.8.5"
  },
  "orig_nbformat": 4,
  "vscode": {
   "interpreter": {
    "hash": "72affea882e652da3862626e8de1ded8e3db67911e489535711f40448414c376"
   }
  }
 },
 "nbformat": 4,
 "nbformat_minor": 2
}

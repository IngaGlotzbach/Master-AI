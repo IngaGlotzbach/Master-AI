{
 "cells": [
  {
   "cell_type": "code",
   "execution_count": 386,
   "metadata": {},
   "outputs": [],
   "source": [
    "## for data\n",
    "import pandas as pd\n",
    "import numpy as np\n",
    "## for plotting\n",
    "import matplotlib.pyplot as plt\n",
    "import seaborn as sns\n",
    "## for statistical tests\n",
    "import scipy\n",
    "import statsmodels.formula.api as smf\n",
    "## for machine learning\n",
    "from sklearn import model_selection, preprocessing, feature_selection, ensemble, linear_model\n",
    "from sklearn.ensemble import GradientBoostingClassifier\n",
    "## for explainer\n",
    "from lime import lime_tabular\n",
    "from sklearn.utils import shuffle\n",
    "from sklearn.preprocessing import StandardScaler\n",
    "from sklearn.model_selection import train_test_split\n"
   ]
  },
  {
   "attachments": {},
   "cell_type": "markdown",
   "metadata": {},
   "source": [
    "## 1.1 Duration und alle Events"
   ]
  },
  {
   "cell_type": "code",
   "execution_count": 452,
   "metadata": {},
   "outputs": [],
   "source": [
    "df_count = pd.read_pickle('SortedBySessions.pkl')"
   ]
  },
  {
   "cell_type": "code",
   "execution_count": 453,
   "metadata": {},
   "outputs": [
    {
     "data": {
      "text/html": [
       "<div>\n",
       "<style scoped>\n",
       "    .dataframe tbody tr th:only-of-type {\n",
       "        vertical-align: middle;\n",
       "    }\n",
       "\n",
       "    .dataframe tbody tr th {\n",
       "        vertical-align: top;\n",
       "    }\n",
       "\n",
       "    .dataframe thead th {\n",
       "        text-align: right;\n",
       "    }\n",
       "</style>\n",
       "<table border=\"1\" class=\"dataframe\">\n",
       "  <thead>\n",
       "    <tr style=\"text-align: right;\">\n",
       "      <th></th>\n",
       "      <th>duration</th>\n",
       "      <th>siteName</th>\n",
       "      <th>total_counts</th>\n",
       "    </tr>\n",
       "  </thead>\n",
       "  <tbody>\n",
       "    <tr>\n",
       "      <th>0</th>\n",
       "      <td>136.831</td>\n",
       "      <td>1</td>\n",
       "      <td>159</td>\n",
       "    </tr>\n",
       "    <tr>\n",
       "      <th>1</th>\n",
       "      <td>33.249</td>\n",
       "      <td>1</td>\n",
       "      <td>3</td>\n",
       "    </tr>\n",
       "    <tr>\n",
       "      <th>2</th>\n",
       "      <td>230.175</td>\n",
       "      <td>1</td>\n",
       "      <td>130</td>\n",
       "    </tr>\n",
       "    <tr>\n",
       "      <th>3</th>\n",
       "      <td>20.563</td>\n",
       "      <td>0</td>\n",
       "      <td>19</td>\n",
       "    </tr>\n",
       "    <tr>\n",
       "      <th>4</th>\n",
       "      <td>17.076</td>\n",
       "      <td>0</td>\n",
       "      <td>24</td>\n",
       "    </tr>\n",
       "  </tbody>\n",
       "</table>\n",
       "</div>"
      ],
      "text/plain": [
       "   duration  siteName  total_counts\n",
       "0   136.831         1           159\n",
       "1    33.249         1             3\n",
       "2   230.175         1           130\n",
       "3    20.563         0            19\n",
       "4    17.076         0            24"
      ]
     },
     "execution_count": 453,
     "metadata": {},
     "output_type": "execute_result"
    }
   ],
   "source": [
    "columns_of_interest = [\"count_mouseover\", \"count_mouseout\", \"count_click\", \"count_blur\", \"count_focus\", \"count_keydown\"]\n",
    "df_count[\"total_counts\"] = df_count[columns_of_interest].sum(axis=1)\n",
    "df_count=df_count.drop([\"count_mouseover\", \"count_mouseout\", \"count_click\", \"count_blur\", \"count_focus\", \"count_keydown\", 'height', 'width', 'session'], axis=1)\n",
    "\n",
    "df_count.head()"
   ]
  },
  {
   "cell_type": "code",
   "execution_count": 454,
   "metadata": {},
   "outputs": [],
   "source": [
    "X_count = df_count[['duration', 'total_counts']]\n",
    "Y_count = df_count['siteName']\n",
    "\n",
    "X_count = StandardScaler().fit_transform(X_count)\n",
    "\n",
    "X_count_Train, X_count_Test, Y_count_Train, Y_count_Test = train_test_split(X_count, Y_count, test_size = 0.30, \n",
    "                                                    random_state = 101)"
   ]
  },
  {
   "attachments": {},
   "cell_type": "markdown",
   "metadata": {},
   "source": [
    "##### 1.2 Random Forest"
   ]
  },
  {
   "cell_type": "code",
   "execution_count": 480,
   "metadata": {},
   "outputs": [],
   "source": [
    "#Import Random Forest Model\n",
    "from sklearn.ensemble import RandomForestClassifier\n",
    "\n",
    "# evaluate random forest algorithm for classification\n",
    "from numpy import mean\n",
    "from numpy import std\n",
    "from sklearn.datasets import make_classification\n",
    "from sklearn.model_selection import cross_val_score\n",
    "from sklearn.model_selection import RepeatedStratifiedKFold\n",
    "\n",
    "forest_model_count= RandomForestClassifier(n_estimators=1000, random_state=101)\n",
    "forest_model_count.fit(X_count_Train,Y_count_Train)\n",
    "y_count_forest_pred=forest_model_count.predict(X_count_Test)"
   ]
  },
  {
   "cell_type": "code",
   "execution_count": 481,
   "metadata": {},
   "outputs": [
    {
     "name": "stdout",
     "output_type": "stream",
     "text": [
      "Accuracy: 1.000\n",
      "Precision: 1.000\n",
      "Recall: 1.000\n",
      "Confusion Matrix: [[15  0]\n",
      " [ 0 21]]\n",
      "AUC Score: 1.000\n",
      "MCC Score: 1.000\n",
      "F1 Score: 1.000\n"
     ]
    }
   ],
   "source": [
    "from sklearn.metrics import precision_score, recall_score, f1_score, accuracy_score, matthews_corrcoef, confusion_matrix, roc_auc_score\n",
    "\n",
    "def printEvaluation(Y_session_Test, y_session_pred): \n",
    "    print('Accuracy: %.3f' % accuracy_score(Y_session_Test, y_session_pred))\n",
    "    print('Precision: %.3f' % precision_score(Y_session_Test, y_session_pred))\n",
    "    print('Recall: %.3f' % recall_score(Y_session_Test, y_session_pred))\n",
    "    print('Confusion Matrix:', confusion_matrix(Y_session_Test, y_session_pred))\n",
    "    print('AUC Score: %.3f' % roc_auc_score(Y_session_Test, y_session_pred))\n",
    "    print('MCC Score: %.3f' % matthews_corrcoef(Y_session_Test, y_session_pred))\n",
    "    print('F1 Score: %.3f' % f1_score(Y_session_Test, y_session_pred))\n",
    "\n",
    "printEvaluation(Y_count_Test, y_count_forest_pred)"
   ]
  },
  {
   "attachments": {},
   "cell_type": "markdown",
   "metadata": {},
   "source": [
    "### knn "
   ]
  },
  {
   "cell_type": "code",
   "execution_count": 482,
   "metadata": {},
   "outputs": [
    {
     "name": "stdout",
     "output_type": "stream",
     "text": [
      "Accuracy: 1.000\n",
      "Precision: 1.000\n",
      "Recall: 1.000\n",
      "Confusion Matrix: [[15  0]\n",
      " [ 0 21]]\n",
      "AUC Score: 1.000\n",
      "MCC Score: 1.000\n",
      "F1 Score: 1.000\n"
     ]
    }
   ],
   "source": [
    "from sklearn.neighbors import KNeighborsClassifier\n",
    "\n",
    "knn_model_count = KNeighborsClassifier(n_neighbors=3)\n",
    "knn_model_count.fit(X_count_Train, Y_count_Train)\n",
    "y_knn_count_pred = knn_model_count.predict(X_count_Test) \n",
    "printEvaluation(Y_count_Test, y_count_forest_pred)"
   ]
  },
  {
   "attachments": {},
   "cell_type": "markdown",
   "metadata": {},
   "source": [
    "### Logistic Regression\n"
   ]
  },
  {
   "cell_type": "code",
   "execution_count": 483,
   "metadata": {},
   "outputs": [
    {
     "name": "stdout",
     "output_type": "stream",
     "text": [
      "Accuracy: 0.833\n",
      "Precision: 1.000\n",
      "Recall: 0.714\n",
      "Confusion Matrix: [[15  0]\n",
      " [ 6 15]]\n",
      "AUC Score: 0.857\n",
      "MCC Score: 0.714\n",
      "F1 Score: 0.833\n"
     ]
    }
   ],
   "source": [
    "# import the class\n",
    "from sklearn.linear_model import LogisticRegression\n",
    "\n",
    "# instantiate the model (using the default parameters)\n",
    "logreg_model_count = LogisticRegression(random_state=16)\n",
    "\n",
    "# fit the model with data\n",
    "logreg_model_count.fit(X_count_Train, Y_count_Train)\n",
    "y_logreg_pred_count = logreg_model_count.predict(X_count_Test)\n",
    "printEvaluation(Y_count_Test, y_logreg_pred_count)"
   ]
  },
  {
   "attachments": {},
   "cell_type": "markdown",
   "metadata": {},
   "source": [
    "#### SVM"
   ]
  },
  {
   "cell_type": "code",
   "execution_count": null,
   "metadata": {},
   "outputs": [],
   "source": [
    "from sklearn import svm\n",
    "#Create a svm Classifier\n",
    "svm_model_count = svm.SVC(kernel='linear') # Linear Kernel\n",
    "\n",
    "#Train the model using the training sets\n",
    "svm_model_count.fit(X_count_Train, Y_count_Train)\n",
    "\n",
    "#Predict the response for test dataset\n",
    "y_svm_pred_count = svm_model_count.predict(X_count_Test)"
   ]
  },
  {
   "cell_type": "markdown",
   "metadata": {},
   "source": [
    "# Sessions"
   ]
  },
  {
   "cell_type": "code",
   "execution_count": 457,
   "metadata": {},
   "outputs": [],
   "source": [
    "df_sessions = pd.read_pickle('SortedBySessions.pkl')"
   ]
  },
  {
   "cell_type": "code",
   "execution_count": 458,
   "metadata": {},
   "outputs": [
    {
     "data": {
      "text/html": [
       "<div>\n",
       "<style scoped>\n",
       "    .dataframe tbody tr th:only-of-type {\n",
       "        vertical-align: middle;\n",
       "    }\n",
       "\n",
       "    .dataframe tbody tr th {\n",
       "        vertical-align: top;\n",
       "    }\n",
       "\n",
       "    .dataframe thead th {\n",
       "        text-align: right;\n",
       "    }\n",
       "</style>\n",
       "<table border=\"1\" class=\"dataframe\">\n",
       "  <thead>\n",
       "    <tr style=\"text-align: right;\">\n",
       "      <th></th>\n",
       "      <th>session</th>\n",
       "      <th>count_mouseover</th>\n",
       "      <th>count_mouseout</th>\n",
       "      <th>count_click</th>\n",
       "      <th>count_blur</th>\n",
       "      <th>count_focus</th>\n",
       "      <th>count_keydown</th>\n",
       "      <th>duration</th>\n",
       "      <th>height</th>\n",
       "      <th>width</th>\n",
       "      <th>siteName</th>\n",
       "    </tr>\n",
       "  </thead>\n",
       "  <tbody>\n",
       "    <tr>\n",
       "      <th>0</th>\n",
       "      <td>515</td>\n",
       "      <td>32</td>\n",
       "      <td>32</td>\n",
       "      <td>14</td>\n",
       "      <td>26</td>\n",
       "      <td>28</td>\n",
       "      <td>27</td>\n",
       "      <td>136.831</td>\n",
       "      <td>1312.0</td>\n",
       "      <td>1479.0</td>\n",
       "      <td>1</td>\n",
       "    </tr>\n",
       "    <tr>\n",
       "      <th>1</th>\n",
       "      <td>519</td>\n",
       "      <td>1</td>\n",
       "      <td>0</td>\n",
       "      <td>0</td>\n",
       "      <td>1</td>\n",
       "      <td>1</td>\n",
       "      <td>0</td>\n",
       "      <td>33.249</td>\n",
       "      <td>669.0</td>\n",
       "      <td>390.0</td>\n",
       "      <td>1</td>\n",
       "    </tr>\n",
       "    <tr>\n",
       "      <th>2</th>\n",
       "      <td>524</td>\n",
       "      <td>42</td>\n",
       "      <td>42</td>\n",
       "      <td>8</td>\n",
       "      <td>17</td>\n",
       "      <td>16</td>\n",
       "      <td>5</td>\n",
       "      <td>230.175</td>\n",
       "      <td>878.0</td>\n",
       "      <td>1920.0</td>\n",
       "      <td>1</td>\n",
       "    </tr>\n",
       "    <tr>\n",
       "      <th>3</th>\n",
       "      <td>528</td>\n",
       "      <td>4</td>\n",
       "      <td>3</td>\n",
       "      <td>0</td>\n",
       "      <td>6</td>\n",
       "      <td>6</td>\n",
       "      <td>0</td>\n",
       "      <td>20.563</td>\n",
       "      <td>1217.0</td>\n",
       "      <td>1440.0</td>\n",
       "      <td>0</td>\n",
       "    </tr>\n",
       "    <tr>\n",
       "      <th>4</th>\n",
       "      <td>554</td>\n",
       "      <td>6</td>\n",
       "      <td>6</td>\n",
       "      <td>0</td>\n",
       "      <td>6</td>\n",
       "      <td>6</td>\n",
       "      <td>0</td>\n",
       "      <td>17.076</td>\n",
       "      <td>715.0</td>\n",
       "      <td>414.0</td>\n",
       "      <td>0</td>\n",
       "    </tr>\n",
       "  </tbody>\n",
       "</table>\n",
       "</div>"
      ],
      "text/plain": [
       "   session  count_mouseover  count_mouseout  count_click  count_blur  \\\n",
       "0      515               32              32           14          26   \n",
       "1      519                1               0            0           1   \n",
       "2      524               42              42            8          17   \n",
       "3      528                4               3            0           6   \n",
       "4      554                6               6            0           6   \n",
       "\n",
       "   count_focus  count_keydown  duration  height   width  siteName  \n",
       "0           28             27   136.831  1312.0  1479.0         1  \n",
       "1            1              0    33.249   669.0   390.0         1  \n",
       "2           16              5   230.175   878.0  1920.0         1  \n",
       "3            6              0    20.563  1217.0  1440.0         0  \n",
       "4            6              0    17.076   715.0   414.0         0  "
      ]
     },
     "execution_count": 458,
     "metadata": {},
     "output_type": "execute_result"
    }
   ],
   "source": [
    "df_sessions.head()"
   ]
  },
  {
   "cell_type": "code",
   "execution_count": 459,
   "metadata": {},
   "outputs": [],
   "source": [
    "X_session = df_sessions[['count_mouseover','count_mouseout','count_focus','count_blur', 'count_click','count_keydown', 'duration']]\n",
    "Y_session = df_sessions['siteName']\n",
    "\n",
    "X_session = StandardScaler().fit_transform(X_session)\n",
    "\n",
    "X_session_Train, X_session_Test, Y_session_Train, Y_session_Test = train_test_split(X_session, Y_session, test_size = 0.30, \n",
    "                                                    random_state = 101)"
   ]
  },
  {
   "cell_type": "markdown",
   "metadata": {},
   "source": [
    "#### Random Forest Session\n",
    "\n",
    "Accuracy: 0.8974358974358975\n",
    "\n",
    "With Hyperparameter: Accuracy: 0.9230769230769231\n"
   ]
  },
  {
   "cell_type": "code",
   "execution_count": 460,
   "metadata": {},
   "outputs": [],
   "source": [
    "#Import Random Forest Model\n",
    "from sklearn.ensemble import RandomForestClassifier\n",
    "\n",
    "# evaluate random forest algorithm for classification\n",
    "from numpy import mean\n",
    "from numpy import std\n",
    "from sklearn.datasets import make_classification\n",
    "from sklearn.model_selection import cross_val_score\n",
    "from sklearn.model_selection import RepeatedStratifiedKFold\n",
    "\n",
    "#Create a Gaussian Classifier\n",
    "forest_model=RandomForestClassifier(n_estimators=1000, random_state=101)\n",
    "\n",
    "#Train the model using the training sets y_pred=clf.predict(X_test)\n",
    "forest_model.fit(X_session_Train,Y_session_Train)\n",
    "\n",
    "y_session_pred=forest_model.predict(X_session_Test)"
   ]
  },
  {
   "cell_type": "code",
   "execution_count": 461,
   "metadata": {},
   "outputs": [
    {
     "name": "stdout",
     "output_type": "stream",
     "text": [
      "Accuracy: 0.972\n",
      "Precision: 1.000\n",
      "Recall: 0.952\n",
      "Confusion Matrix: [[15  0]\n",
      " [ 1 20]]\n",
      "AUC Score: 0.976\n",
      "MCC Score: 0.945\n",
      "F1 Score: 0.976\n"
     ]
    }
   ],
   "source": [
    "from sklearn.metrics import precision_score, recall_score, f1_score, accuracy_score, matthews_corrcoef, roc_auc_score\n",
    "print('Accuracy: %.3f' % accuracy_score(Y_session_Test, y_session_pred))\n",
    "print('Precision: %.3f' % precision_score(Y_session_Test, y_session_pred))\n",
    "print('Recall: %.3f' % recall_score(Y_session_Test, y_session_pred))\n",
    "print('Confusion Matrix:', confusion_matrix(Y_session_Test, y_session_pred))\n",
    "print('AUC Score: %.3f' % roc_auc_score(Y_session_Test, y_session_pred))\n",
    "print('MCC Score: %.3f' % matthews_corrcoef(Y_session_Test, y_session_pred))\n",
    "print('F1 Score: %.3f' % f1_score(Y_session_Test, y_session_pred))\n"
   ]
  },
  {
   "cell_type": "code",
   "execution_count": null,
   "metadata": {},
   "outputs": [],
   "source": [
    "from sklearn.neighbors import KNeighborsClassifier\n",
    "\n",
    "knn_model = KNeighborsClassifier(n_neighbors=3)\n",
    "\n",
    "knn_model.fit(X_session_Train, Y_session_Train)\n",
    "\n",
    "y_knn_pred = knn_model.predict(X_session_Test) # 0:Overcast, 2:Mild"
   ]
  },
  {
   "cell_type": "code",
   "execution_count": null,
   "metadata": {},
   "outputs": [
    {
     "name": "stdout",
     "output_type": "stream",
     "text": [
      "Accuracy: 0.750\n",
      "Precision: 0.875\n",
      "Recall: 0.667\n",
      "Confusion Matrix: [[13  2]\n",
      " [ 7 14]]\n",
      "AUC Score: 0.767\n",
      "MCC Score: 0.529\n",
      "F1 Score: 0.757\n"
     ]
    }
   ],
   "source": [
    "from sklearn.metrics import precision_score, recall_score, f1_score, accuracy_score, matthews_corrcoef\n",
    "print('Accuracy: %.3f' % accuracy_score(Y_session_Test, y_knn_pred))\n",
    "print('Precision: %.3f' % precision_score(Y_session_Test, y_knn_pred))\n",
    "print('Recall: %.3f' % recall_score(Y_session_Test, y_knn_pred))\n",
    "print('Confusion Matrix:', confusion_matrix(Y_session_Test, y_knn_pred))\n",
    "print('AUC Score: %.3f' % metrics.roc_auc_score(Y_session_Test, y_knn_pred))\n",
    "print('MCC Score: %.3f' % matthews_corrcoef(Y_session_Test, y_knn_pred))\n",
    "print('F1 Score: %.3f' % f1_score(Y_session_Test, y_knn_pred))"
   ]
  },
  {
   "cell_type": "code",
   "execution_count": null,
   "metadata": {},
   "outputs": [
    {
     "name": "stderr",
     "output_type": "stream",
     "text": [
      "/Users/ingaglotzbach/opt/anaconda3/lib/python3.8/site-packages/sklearn/utils/deprecation.py:87: FutureWarning: Function plot_roc_curve is deprecated; Function :func:`plot_roc_curve` is deprecated in 1.0 and will be removed in 1.2. Use one of the class methods: :meth:`sklearn.metrics.RocCurveDisplay.from_predictions` or :meth:`sklearn.metrics.RocCurveDisplay.from_estimator`.\n",
      "  warnings.warn(msg, category=FutureWarning)\n"
     ]
    },
    {
     "data": {
      "image/png": "[encoded data removed]",
      "text/plain": [
       "<Figure size 432x288 with 1 Axes>"
      ]
     },
     "metadata": {
      "needs_background": "light"
     },
     "output_type": "display_data"
    }
   ],
   "source": [
    "metrics.plot_roc_curve(forest_model, X_session_Test, Y_session_Test)\n",
    "plt.show()"
   ]
  },
  {
   "cell_type": "markdown",
   "metadata": {},
   "source": [
    "#### Improve Random Forest with Hyperparameter"
   ]
  },
  {
   "cell_type": "code",
   "execution_count": null,
   "metadata": {},
   "outputs": [],
   "source": [
    "rfc_model = RandomForestClassifier()\n",
    "\n",
    "parameters = {\n",
    "    \"n_estimators\":[5,10,50,100,250],\n",
    "    \"max_depth\":[2,4,8,16,32,None]\n",
    "    \n",
    "}"
   ]
  },
  {
   "cell_type": "code",
   "execution_count": null,
   "metadata": {},
   "outputs": [
    {
     "data": {
      "text/html": [
       "<style>#sk-container-id-1 {color: black;background-color: white;}#sk-container-id-1 pre{padding: 0;}#sk-container-id-1 div.sk-toggleable {background-color: white;}#sk-container-id-1 label.sk-toggleable__label {cursor: pointer;display: block;width: 100%;margin-bottom: 0;padding: 0.3em;box-sizing: border-box;text-align: center;}#sk-container-id-1 label.sk-toggleable__label-arrow:before {content: \"▸\";float: left;margin-right: 0.25em;color: #696969;}#sk-container-id-1 label.sk-toggleable__label-arrow:hover:before {color: black;}#sk-container-id-1 div.sk-estimator:hover label.sk-toggleable__label-arrow:before {color: black;}#sk-container-id-1 div.sk-toggleable__content {max-height: 0;max-width: 0;overflow: hidden;text-align: left;background-color: #f0f8ff;}#sk-container-id-1 div.sk-toggleable__content pre {margin: 0.2em;color: black;border-radius: 0.25em;background-color: #f0f8ff;}#sk-container-id-1 input.sk-toggleable__control:checked~div.sk-toggleable__content {max-height: 200px;max-width: 100%;overflow: auto;}#sk-container-id-1 input.sk-toggleable__control:checked~label.sk-toggleable__label-arrow:before {content: \"▾\";}#sk-container-id-1 div.sk-estimator input.sk-toggleable__control:checked~label.sk-toggleable__label {background-color: #d4ebff;}#sk-container-id-1 div.sk-label input.sk-toggleable__control:checked~label.sk-toggleable__label {background-color: #d4ebff;}#sk-container-id-1 input.sk-hidden--visually {border: 0;clip: rect(1px 1px 1px 1px);clip: rect(1px, 1px, 1px, 1px);height: 1px;margin: -1px;overflow: hidden;padding: 0;position: absolute;width: 1px;}#sk-container-id-1 div.sk-estimator {font-family: monospace;background-color: #f0f8ff;border: 1px dotted black;border-radius: 0.25em;box-sizing: border-box;margin-bottom: 0.5em;}#sk-container-id-1 div.sk-estimator:hover {background-color: #d4ebff;}#sk-container-id-1 div.sk-parallel-item::after {content: \"\";width: 100%;border-bottom: 1px solid gray;flex-grow: 1;}#sk-container-id-1 div.sk-label:hover label.sk-toggleable__label {background-color: #d4ebff;}#sk-container-id-1 div.sk-serial::before {content: \"\";position: absolute;border-left: 1px solid gray;box-sizing: border-box;top: 0;bottom: 0;left: 50%;z-index: 0;}#sk-container-id-1 div.sk-serial {display: flex;flex-direction: column;align-items: center;background-color: white;padding-right: 0.2em;padding-left: 0.2em;position: relative;}#sk-container-id-1 div.sk-item {position: relative;z-index: 1;}#sk-container-id-1 div.sk-parallel {display: flex;align-items: stretch;justify-content: center;background-color: white;position: relative;}#sk-container-id-1 div.sk-item::before, #sk-container-id-1 div.sk-parallel-item::before {content: \"\";position: absolute;border-left: 1px solid gray;box-sizing: border-box;top: 0;bottom: 0;left: 50%;z-index: -1;}#sk-container-id-1 div.sk-parallel-item {display: flex;flex-direction: column;z-index: 1;position: relative;background-color: white;}#sk-container-id-1 div.sk-parallel-item:first-child::after {align-self: flex-end;width: 50%;}#sk-container-id-1 div.sk-parallel-item:last-child::after {align-self: flex-start;width: 50%;}#sk-container-id-1 div.sk-parallel-item:only-child::after {width: 0;}#sk-container-id-1 div.sk-dashed-wrapped {border: 1px dashed gray;margin: 0 0.4em 0.5em 0.4em;box-sizing: border-box;padding-bottom: 0.4em;background-color: white;}#sk-container-id-1 div.sk-label label {font-family: monospace;font-weight: bold;display: inline-block;line-height: 1.2em;}#sk-container-id-1 div.sk-label-container {text-align: center;}#sk-container-id-1 div.sk-container {/* jupyter's `normalize.less` sets `[hidden] { display: none; }` but bootstrap.min.css set `[hidden] { display: none !important; }` so we also need the `!important` here to be able to override the default hidden behavior on the sphinx rendered scikit-learn.org. See: https://github.com/scikit-learn/scikit-learn/issues/21755 */display: inline-block !important;position: relative;}#sk-container-id-1 div.sk-text-repr-fallback {display: none;}</style><div id=\"sk-container-id-1\" class=\"sk-top-container\"><div class=\"sk-text-repr-fallback\"><pre>GridSearchCV(cv=5, estimator=RandomForestClassifier(),\n",
       "             param_grid={&#x27;max_depth&#x27;: [2, 4, 8, 16, 32, None],\n",
       "                         &#x27;n_estimators&#x27;: [5, 10, 50, 100, 250]})</pre><b>In a Jupyter environment, please rerun this cell to show the HTML representation or trust the notebook. <br />On GitHub, the HTML representation is unable to render, please try loading this page with nbviewer.org.</b></div><div class=\"sk-container\" hidden><div class=\"sk-item sk-dashed-wrapped\"><div class=\"sk-label-container\"><div class=\"sk-label sk-toggleable\"><input class=\"sk-toggleable__control sk-hidden--visually\" id=\"sk-estimator-id-1\" type=\"checkbox\" ><label for=\"sk-estimator-id-1\" class=\"sk-toggleable__label sk-toggleable__label-arrow\">GridSearchCV</label><div class=\"sk-toggleable__content\"><pre>GridSearchCV(cv=5, estimator=RandomForestClassifier(),\n",
       "             param_grid={&#x27;max_depth&#x27;: [2, 4, 8, 16, 32, None],\n",
       "                         &#x27;n_estimators&#x27;: [5, 10, 50, 100, 250]})</pre></div></div></div><div class=\"sk-parallel\"><div class=\"sk-parallel-item\"><div class=\"sk-item\"><div class=\"sk-label-container\"><div class=\"sk-label sk-toggleable\"><input class=\"sk-toggleable__control sk-hidden--visually\" id=\"sk-estimator-id-2\" type=\"checkbox\" ><label for=\"sk-estimator-id-2\" class=\"sk-toggleable__label sk-toggleable__label-arrow\">estimator: RandomForestClassifier</label><div class=\"sk-toggleable__content\"><pre>RandomForestClassifier()</pre></div></div></div><div class=\"sk-serial\"><div class=\"sk-item\"><div class=\"sk-estimator sk-toggleable\"><input class=\"sk-toggleable__control sk-hidden--visually\" id=\"sk-estimator-id-3\" type=\"checkbox\" ><label for=\"sk-estimator-id-3\" class=\"sk-toggleable__label sk-toggleable__label-arrow\">RandomForestClassifier</label><div class=\"sk-toggleable__content\"><pre>RandomForestClassifier()</pre></div></div></div></div></div></div></div></div></div></div>"
      ],
      "text/plain": [
       "GridSearchCV(cv=5, estimator=RandomForestClassifier(),\n",
       "             param_grid={'max_depth': [2, 4, 8, 16, 32, None],\n",
       "                         'n_estimators': [5, 10, 50, 100, 250]})"
      ]
     },
     "execution_count": 11,
     "metadata": {},
     "output_type": "execute_result"
    }
   ],
   "source": [
    "from sklearn.model_selection import GridSearchCV\n",
    "cv_grid = GridSearchCV(rfc_model,parameters,cv=5)\n",
    "cv_grid.fit(X_session, Y_session.values.ravel())"
   ]
  },
  {
   "cell_type": "code",
   "execution_count": null,
   "metadata": {},
   "outputs": [],
   "source": [
    "def display(results):\n",
    "    print(f'Best parameters are: {results.best_params_}')\n",
    "    print(\"\\n\")\n",
    "    mean_score = results.cv_results_['mean_test_score']\n",
    "    std_score = results.cv_results_['std_test_score']\n",
    "    params = results.cv_results_['params']\n",
    "    for mean,std,params in zip(mean_score,std_score,params):\n",
    "        print(f'{round(mean,3)} + or -{round(std,3)} for the {params}')"
   ]
  },
  {
   "cell_type": "code",
   "execution_count": null,
   "metadata": {},
   "outputs": [
    {
     "name": "stdout",
     "output_type": "stream",
     "text": [
      "Best parameters are: {'max_depth': 8, 'n_estimators': 250}\n",
      "\n",
      "\n",
      "0.933 + or -0.033 for the {'max_depth': 2, 'n_estimators': 5}\n",
      "0.908 + or -0.031 for the {'max_depth': 2, 'n_estimators': 10}\n",
      "0.933 + or -0.02 for the {'max_depth': 2, 'n_estimators': 50}\n",
      "0.908 + or -0.017 for the {'max_depth': 2, 'n_estimators': 100}\n",
      "0.908 + or -0.017 for the {'max_depth': 2, 'n_estimators': 250}\n",
      "0.917 + or -0.046 for the {'max_depth': 4, 'n_estimators': 5}\n",
      "0.925 + or -0.017 for the {'max_depth': 4, 'n_estimators': 10}\n",
      "0.942 + or -0.02 for the {'max_depth': 4, 'n_estimators': 50}\n",
      "0.942 + or -0.02 for the {'max_depth': 4, 'n_estimators': 100}\n",
      "0.95 + or -0.017 for the {'max_depth': 4, 'n_estimators': 250}\n",
      "0.925 + or -0.076 for the {'max_depth': 8, 'n_estimators': 5}\n",
      "0.958 + or -0.026 for the {'max_depth': 8, 'n_estimators': 10}\n",
      "0.958 + or -0.026 for the {'max_depth': 8, 'n_estimators': 50}\n",
      "0.95 + or -0.017 for the {'max_depth': 8, 'n_estimators': 100}\n",
      "0.967 + or -0.017 for the {'max_depth': 8, 'n_estimators': 250}\n",
      "0.917 + or -0.059 for the {'max_depth': 16, 'n_estimators': 5}\n",
      "0.942 + or -0.033 for the {'max_depth': 16, 'n_estimators': 10}\n",
      "0.958 + or -0.0 for the {'max_depth': 16, 'n_estimators': 50}\n",
      "0.967 + or -0.017 for the {'max_depth': 16, 'n_estimators': 100}\n",
      "0.967 + or -0.017 for the {'max_depth': 16, 'n_estimators': 250}\n",
      "0.942 + or -0.042 for the {'max_depth': 32, 'n_estimators': 5}\n",
      "0.95 + or -0.031 for the {'max_depth': 32, 'n_estimators': 10}\n",
      "0.958 + or -0.026 for the {'max_depth': 32, 'n_estimators': 50}\n",
      "0.967 + or -0.017 for the {'max_depth': 32, 'n_estimators': 100}\n",
      "0.967 + or -0.017 for the {'max_depth': 32, 'n_estimators': 250}\n",
      "0.942 + or -0.042 for the {'max_depth': None, 'n_estimators': 5}\n",
      "0.942 + or -0.02 for the {'max_depth': None, 'n_estimators': 10}\n",
      "0.958 + or -0.0 for the {'max_depth': None, 'n_estimators': 50}\n",
      "0.967 + or -0.017 for the {'max_depth': None, 'n_estimators': 100}\n",
      "0.967 + or -0.017 for the {'max_depth': None, 'n_estimators': 250}\n"
     ]
    }
   ],
   "source": [
    "display(cv_grid)"
   ]
  },
  {
   "cell_type": "markdown",
   "metadata": {},
   "source": [
    "#### KNN"
   ]
  },
  {
   "cell_type": "code",
   "execution_count": null,
   "metadata": {},
   "outputs": [],
   "source": [
    "from sklearn.neighbors import KNeighborsClassifier\n",
    "\n",
    "knn_model = KNeighborsClassifier(n_neighbors=3)\n",
    "\n",
    "knn_model.fit(X_session_Train, Y_session_Train)\n",
    "\n",
    "y_knn_pred = knn_model.predict(X_session_Test) # 0:Overcast, 2:Mild\n"
   ]
  },
  {
   "cell_type": "code",
   "execution_count": null,
   "metadata": {},
   "outputs": [
    {
     "name": "stdout",
     "output_type": "stream",
     "text": [
      "Accuracy: 0.778\n",
      "Precision: 0.810\n",
      "Recall: 0.810\n",
      "Confusion Matrix: [[11  4]\n",
      " [ 4 17]]\n",
      "AUC Score: 0.771\n",
      "MCC Score: 0.543\n",
      "F1 Score: 0.810\n"
     ]
    }
   ],
   "source": [
    "from sklearn.metrics import precision_score, recall_score, f1_score, accuracy_score, matthews_corrcoef\n",
    "print('Accuracy: %.3f' % accuracy_score(Y_session_Test, y_knn_pred))\n",
    "print('Precision: %.3f' % precision_score(Y_session_Test, y_knn_pred))\n",
    "print('Recall: %.3f' % recall_score(Y_session_Test, y_knn_pred))\n",
    "print('Confusion Matrix:', confusion_matrix(Y_session_Test, y_knn_pred))\n",
    "print('AUC Score: %.3f' % metrics.roc_auc_score(Y_session_Test, y_knn_pred))\n",
    "print('MCC Score: %.3f' % matthews_corrcoef(Y_session_Test, y_knn_pred))\n",
    "print('F1 Score: %.3f' % f1_score(Y_session_Test, y_knn_pred))"
   ]
  },
  {
   "cell_type": "markdown",
   "metadata": {},
   "source": [
    "Robust Scaling to improve KNN --> Accuracy: 0.8717948717948718\n",
    "\n",
    "MinMax Scaling to improve KNN --> Accuracy: 0.8461538461538461"
   ]
  },
  {
   "cell_type": "code",
   "execution_count": null,
   "metadata": {},
   "outputs": [
    {
     "name": "stdout",
     "output_type": "stream",
     "text": [
      "Accuracy: 0.972\n",
      "Precision: 1.000\n",
      "Recall: 0.952\n",
      "Confusion Matrix: [[15  0]\n",
      " [ 1 20]]\n",
      "AUC Score: 0.976\n",
      "MCC Score: 0.945\n",
      "F1 Score: 0.976\n"
     ]
    }
   ],
   "source": [
    "from sklearn.preprocessing import RobustScaler\n",
    "from sklearn.preprocessing import MinMaxScaler\n",
    "\n",
    "scaler = MinMaxScaler()\n",
    "\n",
    "X_session_robust = df_sessions[['count_mouseover', 'count_mouseout','count_click','count_blur','count_keydown','count_focus','duration']]\n",
    "Y_session_robust = df_sessions['siteName']\n",
    "\n",
    "X_session_robust = scaler.fit_transform(X_session_robust)\n",
    "\n",
    "X_session_robust_Train, X_session_robust_Test, Y_session_robust_Train, Y_session_robust_Test = train_test_split(X_session_robust, Y_session_robust, test_size = 0.30, random_state = 101)\n",
    "\n",
    "#Create KNN Object\n",
    "knn_robust = KNeighborsClassifier()\n",
    "\n",
    "knn_robust.fit(X_session_robust_Train, Y_session_robust_Train)\n",
    "\n",
    "y_knn_pred_robust = knn_robust.predict(X_session_robust_Test)\n",
    "\n",
    "from sklearn.metrics import precision_score, recall_score, f1_score, accuracy_score, matthews_corrcoef\n",
    "print('Accuracy: %.3f' % accuracy_score(Y_session_Test, y_knn_pred_robust))\n",
    "print('Precision: %.3f' % precision_score(Y_session_Test, y_knn_pred_robust))\n",
    "print('Recall: %.3f' % recall_score(Y_session_Test, y_knn_pred_robust))\n",
    "print('Confusion Matrix:', confusion_matrix(Y_session_Test, y_knn_pred_robust))\n",
    "print('AUC Score: %.3f' % metrics.roc_auc_score(Y_session_Test, y_knn_pred_robust))\n",
    "print('MCC Score: %.3f' % matthews_corrcoef(Y_session_Test, y_knn_pred_robust))\n",
    "print('F1 Score: %.3f' % f1_score(Y_session_Test, y_knn_pred_robust))"
   ]
  },
  {
   "cell_type": "markdown",
   "metadata": {},
   "source": [
    "Use Hyperparameter"
   ]
  },
  {
   "cell_type": "code",
   "execution_count": null,
   "metadata": {},
   "outputs": [
    {
     "name": "stdout",
     "output_type": "stream",
     "text": [
      "Best leaf_size: 1\n",
      "Best p: 2\n",
      "Best n_neighbors: 5\n"
     ]
    }
   ],
   "source": [
    "from sklearn.model_selection import GridSearchCV\n",
    "from sklearn.metrics import roc_auc_score\n",
    "\n",
    "leaf_size = list(range(1,50))\n",
    "n_neighbors = list(range(1,30))\n",
    "p=[1,2]\n",
    "\n",
    "hyperparameters = dict(leaf_size=leaf_size, n_neighbors=n_neighbors, p=p)\n",
    "\n",
    "hyper_model = GridSearchCV(knn_model, hyperparameters, cv=10)\n",
    "best_model = hyper_model.fit(X_session_Train,Y_session_Train)\n",
    "\n",
    "print('Best leaf_size:', best_model.best_estimator_.get_params()['leaf_size'])\n",
    "print('Best p:', best_model.best_estimator_.get_params()['p'])\n",
    "print('Best n_neighbors:', best_model.best_estimator_.get_params()['n_neighbors'])\n"
   ]
  },
  {
   "cell_type": "code",
   "execution_count": null,
   "metadata": {},
   "outputs": [
    {
     "name": "stdout",
     "output_type": "stream",
     "text": [
      "Accuracy: 1.0\n"
     ]
    }
   ],
   "source": [
    "y_hyper_pred = best_model.predict(X_session_Test)\n",
    "print(\"Accuracy:\",metrics.accuracy_score(Y_session_Test, y_hyper_pred))"
   ]
  },
  {
   "cell_type": "markdown",
   "metadata": {},
   "source": [
    "#### Linear Discriminat Analysis"
   ]
  },
  {
   "cell_type": "code",
   "execution_count": null,
   "metadata": {},
   "outputs": [
    {
     "data": {
      "text/html": [
       "<style>#sk-container-id-2 {color: black;background-color: white;}#sk-container-id-2 pre{padding: 0;}#sk-container-id-2 div.sk-toggleable {background-color: white;}#sk-container-id-2 label.sk-toggleable__label {cursor: pointer;display: block;width: 100%;margin-bottom: 0;padding: 0.3em;box-sizing: border-box;text-align: center;}#sk-container-id-2 label.sk-toggleable__label-arrow:before {content: \"▸\";float: left;margin-right: 0.25em;color: #696969;}#sk-container-id-2 label.sk-toggleable__label-arrow:hover:before {color: black;}#sk-container-id-2 div.sk-estimator:hover label.sk-toggleable__label-arrow:before {color: black;}#sk-container-id-2 div.sk-toggleable__content {max-height: 0;max-width: 0;overflow: hidden;text-align: left;background-color: #f0f8ff;}#sk-container-id-2 div.sk-toggleable__content pre {margin: 0.2em;color: black;border-radius: 0.25em;background-color: #f0f8ff;}#sk-container-id-2 input.sk-toggleable__control:checked~div.sk-toggleable__content {max-height: 200px;max-width: 100%;overflow: auto;}#sk-container-id-2 input.sk-toggleable__control:checked~label.sk-toggleable__label-arrow:before {content: \"▾\";}#sk-container-id-2 div.sk-estimator input.sk-toggleable__control:checked~label.sk-toggleable__label {background-color: #d4ebff;}#sk-container-id-2 div.sk-label input.sk-toggleable__control:checked~label.sk-toggleable__label {background-color: #d4ebff;}#sk-container-id-2 input.sk-hidden--visually {border: 0;clip: rect(1px 1px 1px 1px);clip: rect(1px, 1px, 1px, 1px);height: 1px;margin: -1px;overflow: hidden;padding: 0;position: absolute;width: 1px;}#sk-container-id-2 div.sk-estimator {font-family: monospace;background-color: #f0f8ff;border: 1px dotted black;border-radius: 0.25em;box-sizing: border-box;margin-bottom: 0.5em;}#sk-container-id-2 div.sk-estimator:hover {background-color: #d4ebff;}#sk-container-id-2 div.sk-parallel-item::after {content: \"\";width: 100%;border-bottom: 1px solid gray;flex-grow: 1;}#sk-container-id-2 div.sk-label:hover label.sk-toggleable__label {background-color: #d4ebff;}#sk-container-id-2 div.sk-serial::before {content: \"\";position: absolute;border-left: 1px solid gray;box-sizing: border-box;top: 0;bottom: 0;left: 50%;z-index: 0;}#sk-container-id-2 div.sk-serial {display: flex;flex-direction: column;align-items: center;background-color: white;padding-right: 0.2em;padding-left: 0.2em;position: relative;}#sk-container-id-2 div.sk-item {position: relative;z-index: 1;}#sk-container-id-2 div.sk-parallel {display: flex;align-items: stretch;justify-content: center;background-color: white;position: relative;}#sk-container-id-2 div.sk-item::before, #sk-container-id-2 div.sk-parallel-item::before {content: \"\";position: absolute;border-left: 1px solid gray;box-sizing: border-box;top: 0;bottom: 0;left: 50%;z-index: -1;}#sk-container-id-2 div.sk-parallel-item {display: flex;flex-direction: column;z-index: 1;position: relative;background-color: white;}#sk-container-id-2 div.sk-parallel-item:first-child::after {align-self: flex-end;width: 50%;}#sk-container-id-2 div.sk-parallel-item:last-child::after {align-self: flex-start;width: 50%;}#sk-container-id-2 div.sk-parallel-item:only-child::after {width: 0;}#sk-container-id-2 div.sk-dashed-wrapped {border: 1px dashed gray;margin: 0 0.4em 0.5em 0.4em;box-sizing: border-box;padding-bottom: 0.4em;background-color: white;}#sk-container-id-2 div.sk-label label {font-family: monospace;font-weight: bold;display: inline-block;line-height: 1.2em;}#sk-container-id-2 div.sk-label-container {text-align: center;}#sk-container-id-2 div.sk-container {/* jupyter's `normalize.less` sets `[hidden] { display: none; }` but bootstrap.min.css set `[hidden] { display: none !important; }` so we also need the `!important` here to be able to override the default hidden behavior on the sphinx rendered scikit-learn.org. See: https://github.com/scikit-learn/scikit-learn/issues/21755 */display: inline-block !important;position: relative;}#sk-container-id-2 div.sk-text-repr-fallback {display: none;}</style><div id=\"sk-container-id-2\" class=\"sk-top-container\"><div class=\"sk-text-repr-fallback\"><pre>LinearDiscriminantAnalysis()</pre><b>In a Jupyter environment, please rerun this cell to show the HTML representation or trust the notebook. <br />On GitHub, the HTML representation is unable to render, please try loading this page with nbviewer.org.</b></div><div class=\"sk-container\" hidden><div class=\"sk-item\"><div class=\"sk-estimator sk-toggleable\"><input class=\"sk-toggleable__control sk-hidden--visually\" id=\"sk-estimator-id-4\" type=\"checkbox\" checked><label for=\"sk-estimator-id-4\" class=\"sk-toggleable__label sk-toggleable__label-arrow\">LinearDiscriminantAnalysis</label><div class=\"sk-toggleable__content\"><pre>LinearDiscriminantAnalysis()</pre></div></div></div></div></div>"
      ],
      "text/plain": [
       "LinearDiscriminantAnalysis()"
      ]
     },
     "execution_count": 19,
     "metadata": {},
     "output_type": "execute_result"
    }
   ],
   "source": [
    "from sklearn.datasets import make_classification\n",
    "from sklearn.discriminant_analysis import LinearDiscriminantAnalysis\n",
    "\n",
    "lda_model = LinearDiscriminantAnalysis()\n",
    "lda_model.fit(X_session_Train, Y_session_Train)"
   ]
  },
  {
   "cell_type": "code",
   "execution_count": null,
   "metadata": {},
   "outputs": [
    {
     "name": "stdout",
     "output_type": "stream",
     "text": [
      "0.8444444444444443\n"
     ]
    }
   ],
   "source": [
    "from sklearn.model_selection import RepeatedStratifiedKFold\n",
    "from sklearn.model_selection import cross_val_score\n",
    "\n",
    "cv = RepeatedStratifiedKFold(n_splits=10, n_repeats=3, random_state=1)\n",
    "\n",
    "scores = cross_val_score(lda_model, X_session, Y_session, scoring='accuracy', cv=cv, n_jobs=-1)\n",
    "print(np.mean(scores))   \n"
   ]
  },
  {
   "cell_type": "markdown",
   "metadata": {},
   "source": [
    "#### Logistic Regression"
   ]
  },
  {
   "cell_type": "code",
   "execution_count": null,
   "metadata": {},
   "outputs": [],
   "source": [
    "# import the class\n",
    "from sklearn.linear_model import LogisticRegression\n",
    "\n",
    "# instantiate the model (using the default parameters)\n",
    "logreg_model = LogisticRegression(random_state=16)\n",
    "\n",
    "# fit the model with data\n",
    "logreg_model.fit(X_session_Train, Y_session_Train)\n",
    "\n",
    "y_logreg_pred = logreg_model.predict(X_session_Test)"
   ]
  },
  {
   "cell_type": "code",
   "execution_count": null,
   "metadata": {},
   "outputs": [
    {
     "name": "stdout",
     "output_type": "stream",
     "text": [
      "Accuracy: 0.861\n",
      "Precision: 1.000\n",
      "Recall: 0.762\n",
      "Confusion Matrix: [[15  0]\n",
      " [ 5 16]]\n",
      "AUC Score: 0.881\n",
      "MCC Score: 0.756\n",
      "F1 Score: 0.865\n"
     ]
    }
   ],
   "source": [
    "print('Accuracy: %.3f' % accuracy_score(Y_session_Test, y_logreg_pred))\n",
    "print('Precision: %.3f' % precision_score(Y_session_Test, y_logreg_pred))\n",
    "print('Recall: %.3f' % recall_score(Y_session_Test, y_logreg_pred))\n",
    "print('Confusion Matrix:', confusion_matrix(Y_session_Test, y_logreg_pred))\n",
    "print('AUC Score: %.3f' % metrics.roc_auc_score(Y_session_Test, y_logreg_pred))\n",
    "print('MCC Score: %.3f' % matthews_corrcoef(Y_session_Test, y_logreg_pred))\n",
    "print('F1 Score: %.3f' % f1_score(Y_session_Test, y_logreg_pred))"
   ]
  },
  {
   "cell_type": "markdown",
   "metadata": {},
   "source": [
    "#### Naive Bayes"
   ]
  },
  {
   "cell_type": "code",
   "execution_count": null,
   "metadata": {},
   "outputs": [],
   "source": [
    "#Import Gaussian Naive Bayes model\n",
    "from sklearn.naive_bayes import GaussianNB\n",
    "\n",
    "#Create a Gaussian Classifier\n",
    "gnb_model = GaussianNB()\n",
    "\n",
    "#Train the model using the training sets\n",
    "gnb_model.fit(X_session_Train, Y_session_Train)\n",
    "\n",
    "#Predict the response for test dataset\n",
    "y_gnb_pred = gnb_model.predict(X_session_Test)"
   ]
  },
  {
   "cell_type": "code",
   "execution_count": null,
   "metadata": {},
   "outputs": [
    {
     "name": "stdout",
     "output_type": "stream",
     "text": [
      "Accuracy: 0.861\n",
      "Precision: 0.944\n",
      "Recall: 0.810\n",
      "Confusion Matrix: [[14  1]\n",
      " [ 4 17]]\n",
      "AUC Score: 0.871\n",
      "MCC Score: 0.732\n",
      "F1 Score: 0.872\n"
     ]
    }
   ],
   "source": [
    "print('Accuracy: %.3f' % accuracy_score(Y_session_Test, y_gnb_pred))\n",
    "print('Precision: %.3f' % precision_score(Y_session_Test, y_gnb_pred))\n",
    "print('Recall: %.3f' % recall_score(Y_session_Test, y_gnb_pred))\n",
    "print('Confusion Matrix:', confusion_matrix(Y_session_Test, y_gnb_pred))\n",
    "print('AUC Score: %.3f' % metrics.roc_auc_score(Y_session_Test, y_gnb_pred))\n",
    "print('MCC Score: %.3f' % matthews_corrcoef(Y_session_Test, y_gnb_pred))\n",
    "print('F1 Score: %.3f' % f1_score(Y_session_Test, y_gnb_pred))"
   ]
  },
  {
   "cell_type": "markdown",
   "metadata": {},
   "source": [
    "#### SVM"
   ]
  },
  {
   "cell_type": "code",
   "execution_count": null,
   "metadata": {},
   "outputs": [],
   "source": [
    "from sklearn import svm\n",
    "#Create a svm Classifier\n",
    "svm_model = svm.SVC(kernel='linear') # Linear Kernel\n",
    "\n",
    "#Train the model using the training sets\n",
    "svm_model.fit(X_session_Train, Y_session_Train)\n",
    "\n",
    "#Predict the response for test dataset\n",
    "y_svm_pred = svm_model.predict(X_session_Test)"
   ]
  },
  {
   "cell_type": "code",
   "execution_count": null,
   "metadata": {},
   "outputs": [
    {
     "name": "stdout",
     "output_type": "stream",
     "text": [
      "Accuracy: 0.861\n",
      "Precision: 1.000\n",
      "Recall: 0.762\n",
      "Confusion Matrix: [[15  0]\n",
      " [ 5 16]]\n",
      "AUC Score: 0.881\n",
      "MCC Score: 0.756\n",
      "F1 Score: 0.865\n"
     ]
    }
   ],
   "source": [
    "print('Accuracy: %.3f' % accuracy_score(Y_session_Test, y_svm_pred))\n",
    "print('Precision: %.3f' % precision_score(Y_session_Test, y_svm_pred))\n",
    "print('Recall: %.3f' % recall_score(Y_session_Test, y_svm_pred))\n",
    "print('Confusion Matrix:', confusion_matrix(Y_session_Test, y_svm_pred))\n",
    "print('AUC Score: %.3f' % metrics.roc_auc_score(Y_session_Test, y_svm_pred))\n",
    "print('MCC Score: %.3f' % matthews_corrcoef(Y_session_Test, y_svm_pred))\n",
    "print('F1 Score: %.3f' % f1_score(Y_session_Test, y_svm_pred))"
   ]
  },
  {
   "cell_type": "markdown",
   "metadata": {},
   "source": [
    "#### Gradient Boosting"
   ]
  },
  {
   "cell_type": "code",
   "execution_count": null,
   "metadata": {},
   "outputs": [],
   "source": [
    "from sklearn.ensemble import GradientBoostingClassifier\n",
    "\n",
    "gradient_booster_model = GradientBoostingClassifier(learning_rate=0.1)\n",
    "gradient_booster_model.fit(X_session_Train,Y_session_Train)\n",
    "\n",
    "y_gradient_pred = gradient_booster_model.predict(X_session_Test)\n"
   ]
  },
  {
   "cell_type": "code",
   "execution_count": null,
   "metadata": {},
   "outputs": [
    {
     "name": "stdout",
     "output_type": "stream",
     "text": [
      "Accuracy: 0.944\n",
      "Precision: 0.952\n",
      "Recall: 0.952\n",
      "Confusion Matrix: [[14  1]\n",
      " [ 1 20]]\n",
      "AUC Score: 0.943\n",
      "MCC Score: 0.886\n",
      "F1 Score: 0.952\n"
     ]
    }
   ],
   "source": [
    "print('Accuracy: %.3f' % accuracy_score(Y_session_Test, y_gradient_pred))\n",
    "print('Precision: %.3f' % precision_score(Y_session_Test, y_gradient_pred))\n",
    "print('Recall: %.3f' % recall_score(Y_session_Test, y_gradient_pred))\n",
    "print('Confusion Matrix:', confusion_matrix(Y_session_Test, y_gradient_pred))\n",
    "print('AUC Score: %.3f' % metrics.roc_auc_score(Y_session_Test, y_gradient_pred))\n",
    "print('MCC Score: %.3f' % matthews_corrcoef(Y_session_Test, y_gradient_pred))\n",
    "print('F1 Score: %.3f' % f1_score(Y_session_Test, y_gradient_pred))"
   ]
  },
  {
   "cell_type": "markdown",
   "metadata": {},
   "source": [
    "#### ANN / Multi-Layer-Perceptron\n",
    "Batch-Size: 32 loss: 0.6364 - accuracy: 0.7333\n",
    "\n",
    "Batch-Size: 16 loss: 0.5102 - accuracy: 0.8444\n",
    "\n",
    "Batch-Size: 8  loss: 0.3590 - accuracy: 0.8556\n",
    "\n",
    "Batch-Size: 32 and epochs: 100 loss: 0.6783 - accuracy: 0.7333\n"
   ]
  },
  {
   "cell_type": "code",
   "execution_count": null,
   "metadata": {},
   "outputs": [],
   "source": [
    "from sklearn.neural_network import MLPClassifier\n",
    "from sklearn.neural_network import MLPRegressor\n",
    "from sklearn.metrics import mean_squared_error\n",
    "from math import sqrt\n",
    "from sklearn.metrics import r2_score\n",
    "import tensorflow as tf"
   ]
  },
  {
   "cell_type": "code",
   "execution_count": null,
   "metadata": {},
   "outputs": [
    {
     "name": "stdout",
     "output_type": "stream",
     "text": [
      "Epoch 1/50\n",
      "3/3 [==============================] - 1s 3ms/step - loss: 0.2301 - accuracy: 0.8333\n",
      "Epoch 2/50\n",
      "3/3 [==============================] - 0s 2ms/step - loss: 0.2279 - accuracy: 0.8333\n",
      "Epoch 3/50\n",
      "3/3 [==============================] - 0s 2ms/step - loss: 0.2257 - accuracy: 0.8571\n",
      "Epoch 4/50\n",
      "3/3 [==============================] - 0s 2ms/step - loss: 0.2238 - accuracy: 0.8929\n",
      "Epoch 5/50\n",
      "3/3 [==============================] - 0s 2ms/step - loss: 0.2219 - accuracy: 0.8929\n",
      "Epoch 6/50\n",
      "3/3 [==============================] - 0s 3ms/step - loss: 0.2203 - accuracy: 0.8929\n",
      "Epoch 7/50\n",
      "3/3 [==============================] - 0s 2ms/step - loss: 0.2187 - accuracy: 0.8810\n",
      "Epoch 8/50\n",
      "3/3 [==============================] - 0s 4ms/step - loss: 0.2173 - accuracy: 0.8810\n",
      "Epoch 9/50\n",
      "3/3 [==============================] - 0s 3ms/step - loss: 0.2159 - accuracy: 0.8810\n",
      "Epoch 10/50\n",
      "3/3 [==============================] - 0s 2ms/step - loss: 0.2144 - accuracy: 0.8810\n",
      "Epoch 11/50\n",
      "3/3 [==============================] - 0s 3ms/step - loss: 0.2131 - accuracy: 0.8810\n",
      "Epoch 12/50\n",
      "3/3 [==============================] - 0s 3ms/step - loss: 0.2117 - accuracy: 0.9048\n",
      "Epoch 13/50\n",
      "3/3 [==============================] - 0s 2ms/step - loss: 0.2106 - accuracy: 0.9048\n",
      "Epoch 14/50\n",
      "3/3 [==============================] - 0s 3ms/step - loss: 0.2094 - accuracy: 0.9048\n",
      "Epoch 15/50\n",
      "3/3 [==============================] - 0s 2ms/step - loss: 0.2083 - accuracy: 0.9048\n",
      "Epoch 16/50\n",
      "3/3 [==============================] - 0s 3ms/step - loss: 0.2071 - accuracy: 0.9048\n",
      "Epoch 17/50\n",
      "3/3 [==============================] - 0s 2ms/step - loss: 0.2060 - accuracy: 0.9048\n",
      "Epoch 18/50\n",
      "3/3 [==============================] - 0s 3ms/step - loss: 0.2050 - accuracy: 0.8929\n",
      "Epoch 19/50\n",
      "3/3 [==============================] - 0s 2ms/step - loss: 0.2040 - accuracy: 0.8690\n",
      "Epoch 20/50\n",
      "3/3 [==============================] - 0s 2ms/step - loss: 0.2030 - accuracy: 0.8690\n",
      "Epoch 21/50\n",
      "3/3 [==============================] - 0s 3ms/step - loss: 0.2020 - accuracy: 0.8690\n",
      "Epoch 22/50\n",
      "3/3 [==============================] - 0s 2ms/step - loss: 0.2011 - accuracy: 0.8690\n",
      "Epoch 23/50\n",
      "3/3 [==============================] - 0s 3ms/step - loss: 0.2001 - accuracy: 0.8690\n",
      "Epoch 24/50\n",
      "3/3 [==============================] - 0s 2ms/step - loss: 0.1992 - accuracy: 0.8571\n",
      "Epoch 25/50\n",
      "3/3 [==============================] - 0s 3ms/step - loss: 0.1984 - accuracy: 0.8571\n",
      "Epoch 26/50\n",
      "3/3 [==============================] - 0s 2ms/step - loss: 0.1975 - accuracy: 0.8571\n",
      "Epoch 27/50\n",
      "3/3 [==============================] - 0s 2ms/step - loss: 0.1966 - accuracy: 0.8452\n",
      "Epoch 28/50\n",
      "3/3 [==============================] - 0s 3ms/step - loss: 0.1958 - accuracy: 0.8452\n",
      "Epoch 29/50\n",
      "3/3 [==============================] - 0s 2ms/step - loss: 0.1949 - accuracy: 0.8452\n",
      "Epoch 30/50\n",
      "3/3 [==============================] - 0s 2ms/step - loss: 0.1940 - accuracy: 0.8571\n",
      "Epoch 31/50\n",
      "3/3 [==============================] - 0s 2ms/step - loss: 0.1932 - accuracy: 0.8571\n",
      "Epoch 32/50\n",
      "3/3 [==============================] - 0s 7ms/step - loss: 0.1924 - accuracy: 0.8571\n",
      "Epoch 33/50\n",
      "3/3 [==============================] - 0s 2ms/step - loss: 0.1915 - accuracy: 0.8690\n",
      "Epoch 34/50\n",
      "3/3 [==============================] - 0s 2ms/step - loss: 0.1908 - accuracy: 0.8690\n",
      "Epoch 35/50\n",
      "3/3 [==============================] - 0s 2ms/step - loss: 0.1900 - accuracy: 0.8690\n",
      "Epoch 36/50\n",
      "3/3 [==============================] - 0s 2ms/step - loss: 0.1891 - accuracy: 0.8690\n",
      "Epoch 37/50\n",
      "3/3 [==============================] - 0s 2ms/step - loss: 0.1883 - accuracy: 0.8690\n",
      "Epoch 38/50\n",
      "3/3 [==============================] - 0s 2ms/step - loss: 0.1875 - accuracy: 0.8690\n",
      "Epoch 39/50\n",
      "3/3 [==============================] - 0s 2ms/step - loss: 0.1867 - accuracy: 0.8690\n",
      "Epoch 40/50\n",
      "3/3 [==============================] - 0s 2ms/step - loss: 0.1859 - accuracy: 0.8690\n",
      "Epoch 41/50\n",
      "3/3 [==============================] - 0s 2ms/step - loss: 0.1851 - accuracy: 0.8571\n",
      "Epoch 42/50\n",
      "3/3 [==============================] - 0s 2ms/step - loss: 0.1843 - accuracy: 0.8571\n",
      "Epoch 43/50\n",
      "3/3 [==============================] - 0s 6ms/step - loss: 0.1834 - accuracy: 0.8571\n",
      "Epoch 44/50\n",
      "3/3 [==============================] - 0s 2ms/step - loss: 0.1826 - accuracy: 0.8452\n",
      "Epoch 45/50\n",
      "3/3 [==============================] - 0s 2ms/step - loss: 0.1818 - accuracy: 0.8452\n",
      "Epoch 46/50\n",
      "3/3 [==============================] - 0s 2ms/step - loss: 0.1810 - accuracy: 0.8452\n",
      "Epoch 47/50\n",
      "3/3 [==============================] - 0s 2ms/step - loss: 0.1801 - accuracy: 0.8452\n",
      "Epoch 48/50\n",
      "3/3 [==============================] - 0s 2ms/step - loss: 0.1792 - accuracy: 0.8452\n",
      "Epoch 49/50\n",
      "3/3 [==============================] - 0s 2ms/step - loss: 0.1784 - accuracy: 0.8452\n",
      "Epoch 50/50\n",
      "3/3 [==============================] - 0s 2ms/step - loss: 0.1776 - accuracy: 0.8452\n",
      "2/2 [==============================] - 0s 2ms/step\n"
     ]
    }
   ],
   "source": [
    "ann_model = tf.keras.models.Sequential()\n",
    "ann_model.add(tf.keras.layers.Dense(units=4,activation=\"relu\"))\n",
    "ann_model.add(tf.keras.layers.Dense(units=4,activation=\"relu\"))\n",
    "ann_model.add(tf.keras.layers.Dense(units=1,activation=\"sigmoid\"))\n",
    "ann_model.compile(optimizer=\"adam\",loss=\"mean_squared_error\",metrics=['accuracy'])\n",
    "ann_model.fit(X_session_Train,Y_session_Train,batch_size=32,epochs = 50)\n",
    "\n",
    "y_ann_pred=ann_model.predict(X_session_Test)"
   ]
  },
  {
   "cell_type": "markdown",
   "metadata": {},
   "source": [
    "# Sessions only mousedynamics"
   ]
  },
  {
   "cell_type": "code",
   "execution_count": null,
   "metadata": {},
   "outputs": [],
   "source": [
    "df_mouse = pd.read_pickle('CleanedDataWithIds.pkl') "
   ]
  },
  {
   "cell_type": "code",
   "execution_count": null,
   "metadata": {},
   "outputs": [
    {
     "data": {
      "text/html": [
       "<div>\n",
       "<style scoped>\n",
       "    .dataframe tbody tr th:only-of-type {\n",
       "        vertical-align: middle;\n",
       "    }\n",
       "\n",
       "    .dataframe tbody tr th {\n",
       "        vertical-align: top;\n",
       "    }\n",
       "\n",
       "    .dataframe thead th {\n",
       "        text-align: right;\n",
       "    }\n",
       "</style>\n",
       "<table border=\"1\" class=\"dataframe\">\n",
       "  <thead>\n",
       "    <tr style=\"text-align: right;\">\n",
       "      <th></th>\n",
       "      <th>timeStamp</th>\n",
       "      <th>type</th>\n",
       "      <th>siteName</th>\n",
       "      <th>clientX</th>\n",
       "      <th>clientY</th>\n",
       "      <th>session</th>\n",
       "    </tr>\n",
       "  </thead>\n",
       "  <tbody>\n",
       "    <tr>\n",
       "      <th>339</th>\n",
       "      <td>824.3</td>\n",
       "      <td>mouseover</td>\n",
       "      <td>0</td>\n",
       "      <td>673.000000</td>\n",
       "      <td>363.000000</td>\n",
       "      <td>243</td>\n",
       "    </tr>\n",
       "    <tr>\n",
       "      <th>340</th>\n",
       "      <td>858.3</td>\n",
       "      <td>mouseout</td>\n",
       "      <td>0</td>\n",
       "      <td>772.000000</td>\n",
       "      <td>333.000000</td>\n",
       "      <td>243</td>\n",
       "    </tr>\n",
       "    <tr>\n",
       "      <th>341</th>\n",
       "      <td>2005.3</td>\n",
       "      <td>mouseover</td>\n",
       "      <td>0</td>\n",
       "      <td>796.000000</td>\n",
       "      <td>266.000000</td>\n",
       "      <td>243</td>\n",
       "    </tr>\n",
       "    <tr>\n",
       "      <th>342</th>\n",
       "      <td>2296.5</td>\n",
       "      <td>focus</td>\n",
       "      <td>0</td>\n",
       "      <td>526.105402</td>\n",
       "      <td>333.262187</td>\n",
       "      <td>243</td>\n",
       "    </tr>\n",
       "    <tr>\n",
       "      <th>343</th>\n",
       "      <td>2875.3</td>\n",
       "      <td>mouseover</td>\n",
       "      <td>0</td>\n",
       "      <td>995.000000</td>\n",
       "      <td>264.000000</td>\n",
       "      <td>243</td>\n",
       "    </tr>\n",
       "  </tbody>\n",
       "</table>\n",
       "</div>"
      ],
      "text/plain": [
       "     timeStamp       type  siteName     clientX     clientY  session\n",
       "339      824.3  mouseover         0  673.000000  363.000000      243\n",
       "340      858.3   mouseout         0  772.000000  333.000000      243\n",
       "341     2005.3  mouseover         0  796.000000  266.000000      243\n",
       "342     2296.5      focus         0  526.105402  333.262187      243\n",
       "343     2875.3  mouseover         0  995.000000  264.000000      243"
      ]
     },
     "execution_count": 242,
     "metadata": {},
     "output_type": "execute_result"
    }
   ],
   "source": [
    "df_mouse = df_mouse.drop(['date', 'elementId', 'height', 'width' ], axis=1)\n",
    "df_mouse.head()"
   ]
  },
  {
   "cell_type": "code",
   "execution_count": null,
   "metadata": {},
   "outputs": [
    {
     "data": {
      "text/html": [
       "<div>\n",
       "<style scoped>\n",
       "    .dataframe tbody tr th:only-of-type {\n",
       "        vertical-align: middle;\n",
       "    }\n",
       "\n",
       "    .dataframe tbody tr th {\n",
       "        vertical-align: top;\n",
       "    }\n",
       "\n",
       "    .dataframe thead th {\n",
       "        text-align: right;\n",
       "    }\n",
       "</style>\n",
       "<table border=\"1\" class=\"dataframe\">\n",
       "  <thead>\n",
       "    <tr style=\"text-align: right;\">\n",
       "      <th></th>\n",
       "      <th>timeStamp</th>\n",
       "      <th>type</th>\n",
       "      <th>siteName</th>\n",
       "      <th>clientX</th>\n",
       "      <th>clientY</th>\n",
       "      <th>session</th>\n",
       "    </tr>\n",
       "  </thead>\n",
       "  <tbody>\n",
       "    <tr>\n",
       "      <th>339</th>\n",
       "      <td>824.3</td>\n",
       "      <td>2</td>\n",
       "      <td>0</td>\n",
       "      <td>673.0</td>\n",
       "      <td>363.0</td>\n",
       "      <td>243</td>\n",
       "    </tr>\n",
       "    <tr>\n",
       "      <th>341</th>\n",
       "      <td>2005.3</td>\n",
       "      <td>2</td>\n",
       "      <td>0</td>\n",
       "      <td>796.0</td>\n",
       "      <td>266.0</td>\n",
       "      <td>243</td>\n",
       "    </tr>\n",
       "    <tr>\n",
       "      <th>343</th>\n",
       "      <td>2875.3</td>\n",
       "      <td>2</td>\n",
       "      <td>0</td>\n",
       "      <td>995.0</td>\n",
       "      <td>264.0</td>\n",
       "      <td>243</td>\n",
       "    </tr>\n",
       "    <tr>\n",
       "      <th>346</th>\n",
       "      <td>3258.3</td>\n",
       "      <td>2</td>\n",
       "      <td>0</td>\n",
       "      <td>880.0</td>\n",
       "      <td>267.0</td>\n",
       "      <td>243</td>\n",
       "    </tr>\n",
       "    <tr>\n",
       "      <th>359</th>\n",
       "      <td>18308.3</td>\n",
       "      <td>2</td>\n",
       "      <td>0</td>\n",
       "      <td>771.0</td>\n",
       "      <td>342.0</td>\n",
       "      <td>243</td>\n",
       "    </tr>\n",
       "  </tbody>\n",
       "</table>\n",
       "</div>"
      ],
      "text/plain": [
       "     timeStamp  type  siteName  clientX  clientY  session\n",
       "339      824.3     2         0    673.0    363.0      243\n",
       "341     2005.3     2         0    796.0    266.0      243\n",
       "343     2875.3     2         0    995.0    264.0      243\n",
       "346     3258.3     2         0    880.0    267.0      243\n",
       "359    18308.3     2         0    771.0    342.0      243"
      ]
     },
     "execution_count": 243,
     "metadata": {},
     "output_type": "execute_result"
    }
   ],
   "source": [
    "df_mouseover = df_mouse.loc[df_mouse['type']=='mouseover']\n",
    "df_mouseout = df_mouse.loc[df_mouse['type']=='mouseout']\n",
    "df_mouse = pd.concat([df_mouseover, df_mouseout])\n",
    "\n",
    "df_mouse['type'] = df_mouse['type'].replace('mouseover', 2)\n",
    "df_mouse['type'] = df_mouse['type'].replace('mouseout', 3)\n",
    "\n",
    "df_mouse.head()"
   ]
  },
  {
   "cell_type": "code",
   "execution_count": null,
   "metadata": {},
   "outputs": [],
   "source": [
    "X_mouse = df_mouse[['timeStamp', 'type','clientX', 'clientY']]\n",
    "Y_mouse = df_mouse['siteName']\n",
    "\n",
    "X_mouse = StandardScaler().fit_transform(X_mouse)\n",
    "\n",
    "X_mouse_Train, X_mouse_Test, Y_mouse_Train, Y_mouse_Test = train_test_split(X_mouse, Y_mouse, test_size = 0.30, \n",
    "                                                    random_state = 101)"
   ]
  },
  {
   "cell_type": "code",
   "execution_count": null,
   "metadata": {},
   "outputs": [],
   "source": [
    "#Import Random Forest Model\n",
    "from sklearn.ensemble import RandomForestClassifier\n",
    "\n",
    "#Create a Gaussian Classifier\n",
    "forest_model_mouse=RandomForestClassifier(n_estimators=250)\n",
    "\n",
    "#Train the model using the training sets y_pred=clf.predict(X_test)\n",
    "forest_model_mouse.fit(X_mouse_Train,Y_mouse_Train)\n",
    "\n",
    "y_mouse_pred=forest_model_mouse.predict(X_mouse_Test)"
   ]
  },
  {
   "cell_type": "code",
   "execution_count": null,
   "metadata": {},
   "outputs": [
    {
     "name": "stdout",
     "output_type": "stream",
     "text": [
      "Accuracy: 0.925\n",
      "Precision: 0.955\n",
      "Recall: 0.954\n",
      "Confusion Matrix: [[180  46]\n",
      " [ 47 971]]\n",
      "AUC Score: 0.875\n",
      "MCC Score: 0.749\n",
      "F1 Score: 0.954\n"
     ]
    }
   ],
   "source": [
    "print('Accuracy: %.3f' % accuracy_score(Y_mouse_Test, y_mouse_pred))\n",
    "print('Precision: %.3f' % precision_score(Y_mouse_Test, y_mouse_pred))\n",
    "print('Recall: %.3f' % recall_score(Y_mouse_Test, y_mouse_pred))\n",
    "print('Confusion Matrix:', confusion_matrix(Y_mouse_Test, y_mouse_pred))\n",
    "print('AUC Score: %.3f' % metrics.roc_auc_score(Y_mouse_Test, y_mouse_pred))\n",
    "print('MCC Score: %.3f' % matthews_corrcoef(Y_mouse_Test, y_mouse_pred))\n",
    "print('F1 Score: %.3f' % f1_score(Y_mouse_Test, y_mouse_pred))"
   ]
  },
  {
   "cell_type": "markdown",
   "metadata": {},
   "source": [
    "# CNN Sequential Data Model"
   ]
  },
  {
   "cell_type": "code",
   "execution_count": null,
   "metadata": {},
   "outputs": [],
   "source": [
    "df_seq = pd.read_pickle('CleanedDataWithIds.pkl') \n",
    "df_seq['date'] = df_seq['date'].astype('datetime64[ns]')"
   ]
  },
  {
   "cell_type": "code",
   "execution_count": null,
   "metadata": {},
   "outputs": [
    {
     "data": {
      "text/html": [
       "<div>\n",
       "<style scoped>\n",
       "    .dataframe tbody tr th:only-of-type {\n",
       "        vertical-align: middle;\n",
       "    }\n",
       "\n",
       "    .dataframe tbody tr th {\n",
       "        vertical-align: top;\n",
       "    }\n",
       "\n",
       "    .dataframe thead th {\n",
       "        text-align: right;\n",
       "    }\n",
       "</style>\n",
       "<table border=\"1\" class=\"dataframe\">\n",
       "  <thead>\n",
       "    <tr style=\"text-align: right;\">\n",
       "      <th></th>\n",
       "      <th>elementId</th>\n",
       "      <th>timeStamp</th>\n",
       "      <th>type</th>\n",
       "      <th>siteName</th>\n",
       "      <th>date</th>\n",
       "      <th>clientX</th>\n",
       "      <th>clientY</th>\n",
       "      <th>session</th>\n",
       "      <th>height</th>\n",
       "      <th>width</th>\n",
       "    </tr>\n",
       "  </thead>\n",
       "  <tbody>\n",
       "    <tr>\n",
       "      <th>339</th>\n",
       "      <td>inputPet</td>\n",
       "      <td>824.3</td>\n",
       "      <td>mouseover</td>\n",
       "      <td>0</td>\n",
       "      <td>2022-10-17 13:35:24.171</td>\n",
       "      <td>673.000000</td>\n",
       "      <td>363.000000</td>\n",
       "      <td>243</td>\n",
       "      <td>944.0</td>\n",
       "      <td>1920.0</td>\n",
       "    </tr>\n",
       "    <tr>\n",
       "      <th>340</th>\n",
       "      <td>inputPet</td>\n",
       "      <td>858.3</td>\n",
       "      <td>mouseout</td>\n",
       "      <td>0</td>\n",
       "      <td>2022-10-17 13:35:24.205</td>\n",
       "      <td>772.000000</td>\n",
       "      <td>333.000000</td>\n",
       "      <td>243</td>\n",
       "      <td>944.0</td>\n",
       "      <td>1920.0</td>\n",
       "    </tr>\n",
       "    <tr>\n",
       "      <th>341</th>\n",
       "      <td>inputCountry</td>\n",
       "      <td>2005.3</td>\n",
       "      <td>mouseover</td>\n",
       "      <td>0</td>\n",
       "      <td>2022-10-17 13:35:25.361</td>\n",
       "      <td>796.000000</td>\n",
       "      <td>266.000000</td>\n",
       "      <td>243</td>\n",
       "      <td>944.0</td>\n",
       "      <td>1920.0</td>\n",
       "    </tr>\n",
       "    <tr>\n",
       "      <th>342</th>\n",
       "      <td>inputCountry</td>\n",
       "      <td>2296.5</td>\n",
       "      <td>focus</td>\n",
       "      <td>0</td>\n",
       "      <td>2022-10-17 13:35:25.652</td>\n",
       "      <td>526.105402</td>\n",
       "      <td>333.262187</td>\n",
       "      <td>243</td>\n",
       "      <td>944.0</td>\n",
       "      <td>1920.0</td>\n",
       "    </tr>\n",
       "    <tr>\n",
       "      <th>344</th>\n",
       "      <td>inputCountry</td>\n",
       "      <td>2875.3</td>\n",
       "      <td>mouseout</td>\n",
       "      <td>0</td>\n",
       "      <td>2022-10-17 13:35:26.229</td>\n",
       "      <td>995.000000</td>\n",
       "      <td>264.000000</td>\n",
       "      <td>243</td>\n",
       "      <td>944.0</td>\n",
       "      <td>1920.0</td>\n",
       "    </tr>\n",
       "  </tbody>\n",
       "</table>\n",
       "</div>"
      ],
      "text/plain": [
       "        elementId  timeStamp       type  siteName                    date  \\\n",
       "339      inputPet      824.3  mouseover         0 2022-10-17 13:35:24.171   \n",
       "340      inputPet      858.3   mouseout         0 2022-10-17 13:35:24.205   \n",
       "341  inputCountry     2005.3  mouseover         0 2022-10-17 13:35:25.361   \n",
       "342  inputCountry     2296.5      focus         0 2022-10-17 13:35:25.652   \n",
       "344  inputCountry     2875.3   mouseout         0 2022-10-17 13:35:26.229   \n",
       "\n",
       "        clientX     clientY  session  height   width  \n",
       "339  673.000000  363.000000      243   944.0  1920.0  \n",
       "340  772.000000  333.000000      243   944.0  1920.0  \n",
       "341  796.000000  266.000000      243   944.0  1920.0  \n",
       "342  526.105402  333.262187      243   944.0  1920.0  \n",
       "344  995.000000  264.000000      243   944.0  1920.0  "
      ]
     },
     "execution_count": 1074,
     "metadata": {},
     "output_type": "execute_result"
    }
   ],
   "source": [
    "df_seq= df_seq.sort_values(by=['date', 'session'], ascending=[True, False])\n",
    "df_seq.head()"
   ]
  },
  {
   "cell_type": "code",
   "execution_count": null,
   "metadata": {},
   "outputs": [],
   "source": [
    "df_seq=df_seq.drop(['elementId', 'date'], axis=1)"
   ]
  },
  {
   "cell_type": "code",
   "execution_count": null,
   "metadata": {},
   "outputs": [
    {
     "data": {
      "text/html": [
       "<div>\n",
       "<style scoped>\n",
       "    .dataframe tbody tr th:only-of-type {\n",
       "        vertical-align: middle;\n",
       "    }\n",
       "\n",
       "    .dataframe tbody tr th {\n",
       "        vertical-align: top;\n",
       "    }\n",
       "\n",
       "    .dataframe thead th {\n",
       "        text-align: right;\n",
       "    }\n",
       "</style>\n",
       "<table border=\"1\" class=\"dataframe\">\n",
       "  <thead>\n",
       "    <tr style=\"text-align: right;\">\n",
       "      <th></th>\n",
       "      <th>timeStamp</th>\n",
       "      <th>type</th>\n",
       "      <th>siteName</th>\n",
       "      <th>clientX</th>\n",
       "      <th>clientY</th>\n",
       "      <th>session</th>\n",
       "      <th>height</th>\n",
       "      <th>width</th>\n",
       "    </tr>\n",
       "  </thead>\n",
       "  <tbody>\n",
       "    <tr>\n",
       "      <th>339</th>\n",
       "      <td>824.3</td>\n",
       "      <td>mouseover</td>\n",
       "      <td>0</td>\n",
       "      <td>673.000000</td>\n",
       "      <td>363.000000</td>\n",
       "      <td>243</td>\n",
       "      <td>944.0</td>\n",
       "      <td>1920.0</td>\n",
       "    </tr>\n",
       "    <tr>\n",
       "      <th>340</th>\n",
       "      <td>858.3</td>\n",
       "      <td>mouseout</td>\n",
       "      <td>0</td>\n",
       "      <td>772.000000</td>\n",
       "      <td>333.000000</td>\n",
       "      <td>243</td>\n",
       "      <td>944.0</td>\n",
       "      <td>1920.0</td>\n",
       "    </tr>\n",
       "    <tr>\n",
       "      <th>341</th>\n",
       "      <td>2005.3</td>\n",
       "      <td>mouseover</td>\n",
       "      <td>0</td>\n",
       "      <td>796.000000</td>\n",
       "      <td>266.000000</td>\n",
       "      <td>243</td>\n",
       "      <td>944.0</td>\n",
       "      <td>1920.0</td>\n",
       "    </tr>\n",
       "    <tr>\n",
       "      <th>342</th>\n",
       "      <td>2296.5</td>\n",
       "      <td>focus</td>\n",
       "      <td>0</td>\n",
       "      <td>526.105402</td>\n",
       "      <td>333.262187</td>\n",
       "      <td>243</td>\n",
       "      <td>944.0</td>\n",
       "      <td>1920.0</td>\n",
       "    </tr>\n",
       "    <tr>\n",
       "      <th>344</th>\n",
       "      <td>2875.3</td>\n",
       "      <td>mouseout</td>\n",
       "      <td>0</td>\n",
       "      <td>995.000000</td>\n",
       "      <td>264.000000</td>\n",
       "      <td>243</td>\n",
       "      <td>944.0</td>\n",
       "      <td>1920.0</td>\n",
       "    </tr>\n",
       "  </tbody>\n",
       "</table>\n",
       "</div>"
      ],
      "text/plain": [
       "     timeStamp       type  siteName     clientX     clientY  session  height  \\\n",
       "339      824.3  mouseover         0  673.000000  363.000000      243   944.0   \n",
       "340      858.3   mouseout         0  772.000000  333.000000      243   944.0   \n",
       "341     2005.3  mouseover         0  796.000000  266.000000      243   944.0   \n",
       "342     2296.5      focus         0  526.105402  333.262187      243   944.0   \n",
       "344     2875.3   mouseout         0  995.000000  264.000000      243   944.0   \n",
       "\n",
       "      width  \n",
       "339  1920.0  \n",
       "340  1920.0  \n",
       "341  1920.0  \n",
       "342  1920.0  \n",
       "344  1920.0  "
      ]
     },
     "execution_count": 1076,
     "metadata": {},
     "output_type": "execute_result"
    }
   ],
   "source": [
    "df_seq.head()"
   ]
  },
  {
   "cell_type": "code",
   "execution_count": null,
   "metadata": {},
   "outputs": [],
   "source": [
    "from keras.models import Sequential\n",
    "from keras.layers import LSTM, Dense, Dropout\n",
    "\n",
    "df_encoded = df_seq.sort_values(by=['session', 'timeStamp'])"
   ]
  },
  {
   "cell_type": "code",
   "execution_count": null,
   "metadata": {},
   "outputs": [],
   "source": [
    "from sklearn.preprocessing import LabelEncoder\n",
    "from sklearn.model_selection import train_test_split\n",
    "from keras.models import Sequential\n",
    "from keras.layers import LSTM, Dense\n",
    "\n",
    "le = LabelEncoder()\n",
    "df_encoded['siteName'] = le.fit_transform(df_encoded['siteName'])\n"
   ]
  },
  {
   "cell_type": "code",
   "execution_count": null,
   "metadata": {},
   "outputs": [],
   "source": [
    "df_encoded = pd.get_dummies(df_encoded, columns=['type'])"
   ]
  },
  {
   "cell_type": "code",
   "execution_count": null,
   "metadata": {},
   "outputs": [
    {
     "data": {
      "text/html": [
       "<div>\n",
       "<style scoped>\n",
       "    .dataframe tbody tr th:only-of-type {\n",
       "        vertical-align: middle;\n",
       "    }\n",
       "\n",
       "    .dataframe tbody tr th {\n",
       "        vertical-align: top;\n",
       "    }\n",
       "\n",
       "    .dataframe thead th {\n",
       "        text-align: right;\n",
       "    }\n",
       "</style>\n",
       "<table border=\"1\" class=\"dataframe\">\n",
       "  <thead>\n",
       "    <tr style=\"text-align: right;\">\n",
       "      <th></th>\n",
       "      <th>timeStamp</th>\n",
       "      <th>siteName</th>\n",
       "      <th>clientX</th>\n",
       "      <th>clientY</th>\n",
       "      <th>session</th>\n",
       "      <th>height</th>\n",
       "      <th>width</th>\n",
       "      <th>type_blur</th>\n",
       "      <th>type_click</th>\n",
       "      <th>type_focus</th>\n",
       "      <th>type_keydown</th>\n",
       "      <th>type_mouseout</th>\n",
       "      <th>type_mouseover</th>\n",
       "    </tr>\n",
       "  </thead>\n",
       "  <tbody>\n",
       "    <tr>\n",
       "      <th>18052</th>\n",
       "      <td>587.0</td>\n",
       "      <td>1</td>\n",
       "      <td>1389.0</td>\n",
       "      <td>465.0</td>\n",
       "      <td>102</td>\n",
       "      <td>1279.0</td>\n",
       "      <td>3440.0</td>\n",
       "      <td>0</td>\n",
       "      <td>0</td>\n",
       "      <td>0</td>\n",
       "      <td>0</td>\n",
       "      <td>0</td>\n",
       "      <td>1</td>\n",
       "    </tr>\n",
       "    <tr>\n",
       "      <th>18051</th>\n",
       "      <td>605.0</td>\n",
       "      <td>1</td>\n",
       "      <td>1385.0</td>\n",
       "      <td>428.0</td>\n",
       "      <td>102</td>\n",
       "      <td>1279.0</td>\n",
       "      <td>3440.0</td>\n",
       "      <td>0</td>\n",
       "      <td>0</td>\n",
       "      <td>0</td>\n",
       "      <td>0</td>\n",
       "      <td>1</td>\n",
       "      <td>0</td>\n",
       "    </tr>\n",
       "    <tr>\n",
       "      <th>18054</th>\n",
       "      <td>704.0</td>\n",
       "      <td>1</td>\n",
       "      <td>1395.0</td>\n",
       "      <td>316.0</td>\n",
       "      <td>102</td>\n",
       "      <td>1279.0</td>\n",
       "      <td>3440.0</td>\n",
       "      <td>0</td>\n",
       "      <td>0</td>\n",
       "      <td>0</td>\n",
       "      <td>0</td>\n",
       "      <td>0</td>\n",
       "      <td>1</td>\n",
       "    </tr>\n",
       "    <tr>\n",
       "      <th>18053</th>\n",
       "      <td>755.0</td>\n",
       "      <td>1</td>\n",
       "      <td>1416.0</td>\n",
       "      <td>285.0</td>\n",
       "      <td>102</td>\n",
       "      <td>1279.0</td>\n",
       "      <td>3440.0</td>\n",
       "      <td>0</td>\n",
       "      <td>0</td>\n",
       "      <td>0</td>\n",
       "      <td>0</td>\n",
       "      <td>1</td>\n",
       "      <td>0</td>\n",
       "    </tr>\n",
       "    <tr>\n",
       "      <th>18055</th>\n",
       "      <td>1057.0</td>\n",
       "      <td>1</td>\n",
       "      <td>1416.0</td>\n",
       "      <td>286.0</td>\n",
       "      <td>102</td>\n",
       "      <td>1279.0</td>\n",
       "      <td>3440.0</td>\n",
       "      <td>0</td>\n",
       "      <td>0</td>\n",
       "      <td>0</td>\n",
       "      <td>0</td>\n",
       "      <td>0</td>\n",
       "      <td>1</td>\n",
       "    </tr>\n",
       "  </tbody>\n",
       "</table>\n",
       "</div>"
      ],
      "text/plain": [
       "       timeStamp  siteName  clientX  clientY  session  height   width  \\\n",
       "18052      587.0         1   1389.0    465.0      102  1279.0  3440.0   \n",
       "18051      605.0         1   1385.0    428.0      102  1279.0  3440.0   \n",
       "18054      704.0         1   1395.0    316.0      102  1279.0  3440.0   \n",
       "18053      755.0         1   1416.0    285.0      102  1279.0  3440.0   \n",
       "18055     1057.0         1   1416.0    286.0      102  1279.0  3440.0   \n",
       "\n",
       "       type_blur  type_click  type_focus  type_keydown  type_mouseout  \\\n",
       "18052          0           0           0             0              0   \n",
       "18051          0           0           0             0              1   \n",
       "18054          0           0           0             0              0   \n",
       "18053          0           0           0             0              1   \n",
       "18055          0           0           0             0              0   \n",
       "\n",
       "       type_mouseover  \n",
       "18052               1  \n",
       "18051               0  \n",
       "18054               1  \n",
       "18053               0  \n",
       "18055               1  "
      ]
     },
     "execution_count": 1080,
     "metadata": {},
     "output_type": "execute_result"
    }
   ],
   "source": [
    "df_encoded.head()"
   ]
  },
  {
   "cell_type": "code",
   "execution_count": null,
   "metadata": {},
   "outputs": [],
   "source": [
    "X = df_encoded.drop(['siteName'], axis=1)\n",
    "y = df_encoded['siteName']"
   ]
  },
  {
   "cell_type": "code",
   "execution_count": null,
   "metadata": {},
   "outputs": [
    {
     "name": "stdout",
     "output_type": "stream",
     "text": [
      "Epoch 1/20\n",
      "222/222 [==============================] - 4s 4ms/step - loss: 4.2238 - accuracy: 0.8198\n",
      "Epoch 2/20\n",
      "222/222 [==============================] - 1s 3ms/step - loss: 3.3692 - accuracy: 0.8198\n",
      "Epoch 3/20\n",
      "222/222 [==============================] - 1s 3ms/step - loss: 3.0990 - accuracy: 0.8198\n",
      "Epoch 4/20\n",
      "222/222 [==============================] - 1s 3ms/step - loss: 2.9312 - accuracy: 0.8198\n",
      "Epoch 5/20\n",
      "222/222 [==============================] - 1s 3ms/step - loss: 2.8348 - accuracy: 0.8198\n",
      "Epoch 6/20\n",
      "222/222 [==============================] - 1s 3ms/step - loss: 2.7845 - accuracy: 0.8198\n",
      "Epoch 7/20\n",
      "222/222 [==============================] - 1s 3ms/step - loss: 2.7612 - accuracy: 0.8198\n",
      "Epoch 8/20\n",
      "222/222 [==============================] - 1s 3ms/step - loss: 2.7518 - accuracy: 0.8198\n",
      "Epoch 9/20\n",
      "222/222 [==============================] - 1s 3ms/step - loss: 2.7486 - accuracy: 0.8198\n",
      "Epoch 10/20\n",
      "222/222 [==============================] - 1s 3ms/step - loss: 2.7476 - accuracy: 0.8198\n",
      "Epoch 11/20\n",
      "222/222 [==============================] - 1s 3ms/step - loss: 2.7474 - accuracy: 0.8198\n",
      "Epoch 12/20\n",
      "222/222 [==============================] - 1s 3ms/step - loss: 2.7473 - accuracy: 0.8198\n",
      "Epoch 13/20\n",
      "222/222 [==============================] - 1s 3ms/step - loss: 2.7473 - accuracy: 0.8198\n",
      "Epoch 14/20\n",
      "222/222 [==============================] - 1s 3ms/step - loss: 2.7473 - accuracy: 0.8198\n",
      "Epoch 15/20\n",
      "222/222 [==============================] - 1s 3ms/step - loss: 2.7473 - accuracy: 0.8198\n",
      "Epoch 16/20\n",
      "222/222 [==============================] - 1s 3ms/step - loss: 2.7473 - accuracy: 0.8198\n",
      "Epoch 17/20\n",
      "222/222 [==============================] - 1s 3ms/step - loss: 2.7473 - accuracy: 0.8198\n",
      "Epoch 18/20\n",
      "222/222 [==============================] - 1s 3ms/step - loss: 2.7473 - accuracy: 0.8198\n",
      "Epoch 19/20\n",
      "222/222 [==============================] - 1s 3ms/step - loss: 2.7473 - accuracy: 0.8198\n",
      "Epoch 20/20\n",
      "222/222 [==============================] - 1s 3ms/step - loss: 2.7473 - accuracy: 0.8198\n"
     ]
    },
    {
     "data": {
      "text/plain": [
       "<keras.callbacks.History at 0x7fe54e30fd00>"
      ]
     },
     "execution_count": 1100,
     "metadata": {},
     "output_type": "execute_result"
    }
   ],
   "source": [
    "from keras.optimizers import Adam\n",
    "from sklearn.model_selection import KFold\n",
    "# define and fit model\n",
    "from keras import regularizers\n",
    "\n",
    "# split into train and test sets\n",
    "X_train, X_test, y_train, y_test = train_test_split(X, y, test_size=0.2, random_state=0)\n",
    "\n",
    "# reshape data for LSTM\n",
    "X_train = np.reshape(X_train.values, (X_train.shape[0], 1, X_train.shape[1]))\n",
    "X_test = np.reshape(X_test.values, (X_test.shape[0], 1, X_test.shape[1]))\n",
    "\n",
    "\n",
    "model = Sequential()\n",
    "model.add(LSTM(64, return_sequences=True, kernel_regularizer=regularizers.l2(0.01), recurrent_regularizer=regularizers.l2(0.01), bias_regularizer=regularizers.l2(0.01), input_shape=(X_train.shape[1], X_train.shape[2])))\n",
    "model.add(Dropout(0.5))\n",
    "model.add(LSTM(64, return_sequences=True, kernel_regularizer=regularizers.l2(0.01), recurrent_regularizer=regularizers.l2(0.01), bias_regularizer=regularizers.l2(0.01), input_shape=(X_train.shape[1], X_train.shape[2])))\n",
    "model.add(Dropout(0.5))\n",
    "model.add(Dense(1, activation='softmax'))\n",
    "model.compile(loss='binary_crossentropy', optimizer='adam', metrics=['accuracy'])\n",
    "\n",
    "# Train the model with increased number of epochs\n",
    "model.fit(X_train, y_train, epochs=20, shuffle=False)"
   ]
  },
  {
   "cell_type": "code",
   "execution_count": null,
   "metadata": {},
   "outputs": [
    {
     "name": "stdout",
     "output_type": "stream",
     "text": [
      "Test loss: 0.0016635657520964742\n",
      "Test accuracy: 0.8327683806419373\n"
     ]
    }
   ],
   "source": [
    "# evaluate the model\n",
    "score = model.evaluate(X_test, y_test, verbose=0)\n",
    "print(\"Test loss:\", score[0])\n",
    "print(\"Test accuracy:\", score[1])\n"
   ]
  },
  {
   "cell_type": "code",
   "execution_count": null,
   "metadata": {},
   "outputs": [
    {
     "data": {
      "text/html": [
       "<div>\n",
       "<style scoped>\n",
       "    .dataframe tbody tr th:only-of-type {\n",
       "        vertical-align: middle;\n",
       "    }\n",
       "\n",
       "    .dataframe tbody tr th {\n",
       "        vertical-align: top;\n",
       "    }\n",
       "\n",
       "    .dataframe thead th {\n",
       "        text-align: right;\n",
       "    }\n",
       "</style>\n",
       "<table border=\"1\" class=\"dataframe\">\n",
       "  <thead>\n",
       "    <tr style=\"text-align: right;\">\n",
       "      <th></th>\n",
       "      <th>timeStamp</th>\n",
       "      <th>siteName</th>\n",
       "      <th>clientX</th>\n",
       "      <th>clientY</th>\n",
       "      <th>session</th>\n",
       "      <th>height</th>\n",
       "      <th>width</th>\n",
       "      <th>type_blur</th>\n",
       "      <th>type_click</th>\n",
       "      <th>type_focus</th>\n",
       "      <th>type_keydown</th>\n",
       "      <th>type_mouseout</th>\n",
       "      <th>type_mouseover</th>\n",
       "    </tr>\n",
       "  </thead>\n",
       "  <tbody>\n",
       "    <tr>\n",
       "      <th>18052</th>\n",
       "      <td>587.0</td>\n",
       "      <td>1</td>\n",
       "      <td>1389.0</td>\n",
       "      <td>465.0</td>\n",
       "      <td>102</td>\n",
       "      <td>1279.0</td>\n",
       "      <td>3440.0</td>\n",
       "      <td>0</td>\n",
       "      <td>0</td>\n",
       "      <td>0</td>\n",
       "      <td>0</td>\n",
       "      <td>0</td>\n",
       "      <td>1</td>\n",
       "    </tr>\n",
       "    <tr>\n",
       "      <th>18051</th>\n",
       "      <td>605.0</td>\n",
       "      <td>1</td>\n",
       "      <td>1385.0</td>\n",
       "      <td>428.0</td>\n",
       "      <td>102</td>\n",
       "      <td>1279.0</td>\n",
       "      <td>3440.0</td>\n",
       "      <td>0</td>\n",
       "      <td>0</td>\n",
       "      <td>0</td>\n",
       "      <td>0</td>\n",
       "      <td>1</td>\n",
       "      <td>0</td>\n",
       "    </tr>\n",
       "    <tr>\n",
       "      <th>18054</th>\n",
       "      <td>704.0</td>\n",
       "      <td>1</td>\n",
       "      <td>1395.0</td>\n",
       "      <td>316.0</td>\n",
       "      <td>102</td>\n",
       "      <td>1279.0</td>\n",
       "      <td>3440.0</td>\n",
       "      <td>0</td>\n",
       "      <td>0</td>\n",
       "      <td>0</td>\n",
       "      <td>0</td>\n",
       "      <td>0</td>\n",
       "      <td>1</td>\n",
       "    </tr>\n",
       "    <tr>\n",
       "      <th>18053</th>\n",
       "      <td>755.0</td>\n",
       "      <td>1</td>\n",
       "      <td>1416.0</td>\n",
       "      <td>285.0</td>\n",
       "      <td>102</td>\n",
       "      <td>1279.0</td>\n",
       "      <td>3440.0</td>\n",
       "      <td>0</td>\n",
       "      <td>0</td>\n",
       "      <td>0</td>\n",
       "      <td>0</td>\n",
       "      <td>1</td>\n",
       "      <td>0</td>\n",
       "    </tr>\n",
       "    <tr>\n",
       "      <th>18055</th>\n",
       "      <td>1057.0</td>\n",
       "      <td>1</td>\n",
       "      <td>1416.0</td>\n",
       "      <td>286.0</td>\n",
       "      <td>102</td>\n",
       "      <td>1279.0</td>\n",
       "      <td>3440.0</td>\n",
       "      <td>0</td>\n",
       "      <td>0</td>\n",
       "      <td>0</td>\n",
       "      <td>0</td>\n",
       "      <td>0</td>\n",
       "      <td>1</td>\n",
       "    </tr>\n",
       "  </tbody>\n",
       "</table>\n",
       "</div>"
      ],
      "text/plain": [
       "       timeStamp  siteName  clientX  clientY  session  height   width  \\\n",
       "18052      587.0         1   1389.0    465.0      102  1279.0  3440.0   \n",
       "18051      605.0         1   1385.0    428.0      102  1279.0  3440.0   \n",
       "18054      704.0         1   1395.0    316.0      102  1279.0  3440.0   \n",
       "18053      755.0         1   1416.0    285.0      102  1279.0  3440.0   \n",
       "18055     1057.0         1   1416.0    286.0      102  1279.0  3440.0   \n",
       "\n",
       "       type_blur  type_click  type_focus  type_keydown  type_mouseout  \\\n",
       "18052          0           0           0             0              0   \n",
       "18051          0           0           0             0              1   \n",
       "18054          0           0           0             0              0   \n",
       "18053          0           0           0             0              1   \n",
       "18055          0           0           0             0              0   \n",
       "\n",
       "       type_mouseover  \n",
       "18052               1  \n",
       "18051               0  \n",
       "18054               1  \n",
       "18053               0  \n",
       "18055               1  "
      ]
     },
     "execution_count": 1070,
     "metadata": {},
     "output_type": "execute_result"
    }
   ],
   "source": [
    "df_encoded.head()"
   ]
  },
  {
   "cell_type": "code",
   "execution_count": null,
   "metadata": {},
   "outputs": [
    {
     "ename": "ValueError",
     "evalue": "Must pass 2-d input. shape=(7077, 1, 12)",
     "output_type": "error",
     "traceback": [
      "\u001b[0;31m---------------------------------------------------------------------------\u001b[0m",
      "\u001b[0;31mValueError\u001b[0m                                Traceback (most recent call last)",
      "\u001b[0;32m<ipython-input-1072-63ebf0909c98>\u001b[0m in \u001b[0;36m<module>\u001b[0;34m\u001b[0m\n\u001b[1;32m     10\u001b[0m \u001b[0;31m# reshape data for LSTM\u001b[0m\u001b[0;34m\u001b[0m\u001b[0;34m\u001b[0m\u001b[0;34m\u001b[0m\u001b[0m\n\u001b[1;32m     11\u001b[0m \u001b[0;31m# reshape input for compatibility with model\u001b[0m\u001b[0;34m\u001b[0m\u001b[0;34m\u001b[0m\u001b[0;34m\u001b[0m\u001b[0m\n\u001b[0;32m---> 12\u001b[0;31m \u001b[0mX_train\u001b[0m \u001b[0;34m=\u001b[0m \u001b[0mnp\u001b[0m\u001b[0;34m.\u001b[0m\u001b[0mreshape\u001b[0m\u001b[0;34m(\u001b[0m\u001b[0mX_train\u001b[0m\u001b[0;34m,\u001b[0m \u001b[0;34m(\u001b[0m\u001b[0mX_train\u001b[0m\u001b[0;34m.\u001b[0m\u001b[0mshape\u001b[0m\u001b[0;34m[\u001b[0m\u001b[0;36m0\u001b[0m\u001b[0;34m]\u001b[0m\u001b[0;34m,\u001b[0m \u001b[0;36m1\u001b[0m\u001b[0;34m,\u001b[0m \u001b[0mX_train\u001b[0m\u001b[0;34m.\u001b[0m\u001b[0mshape\u001b[0m\u001b[0;34m[\u001b[0m\u001b[0;36m1\u001b[0m\u001b[0;34m]\u001b[0m\u001b[0;34m)\u001b[0m\u001b[0;34m)\u001b[0m\u001b[0;34m.\u001b[0m\u001b[0mvalues\u001b[0m\u001b[0;34m\u001b[0m\u001b[0;34m\u001b[0m\u001b[0m\n\u001b[0m\u001b[1;32m     13\u001b[0m \u001b[0mX_test\u001b[0m \u001b[0;34m=\u001b[0m \u001b[0mnp\u001b[0m\u001b[0;34m.\u001b[0m\u001b[0mreshape\u001b[0m\u001b[0;34m(\u001b[0m\u001b[0mX_test\u001b[0m\u001b[0;34m,\u001b[0m \u001b[0;34m(\u001b[0m\u001b[0mX_test\u001b[0m\u001b[0;34m.\u001b[0m\u001b[0mshape\u001b[0m\u001b[0;34m[\u001b[0m\u001b[0;36m0\u001b[0m\u001b[0;34m]\u001b[0m\u001b[0;34m,\u001b[0m \u001b[0;36m1\u001b[0m\u001b[0;34m,\u001b[0m \u001b[0mX_test\u001b[0m\u001b[0;34m.\u001b[0m\u001b[0mshape\u001b[0m\u001b[0;34m[\u001b[0m\u001b[0;36m1\u001b[0m\u001b[0;34m]\u001b[0m\u001b[0;34m)\u001b[0m\u001b[0;34m)\u001b[0m\u001b[0;34m.\u001b[0m\u001b[0mvalues\u001b[0m\u001b[0;34m\u001b[0m\u001b[0;34m\u001b[0m\u001b[0m\n\u001b[1;32m     14\u001b[0m \u001b[0my_train\u001b[0m \u001b[0;34m=\u001b[0m \u001b[0mto_categorical\u001b[0m\u001b[0;34m(\u001b[0m\u001b[0my_train\u001b[0m\u001b[0;34m)\u001b[0m\u001b[0;34m\u001b[0m\u001b[0;34m\u001b[0m\u001b[0m\n",
      "\u001b[0;32m~/opt/anaconda3/lib/python3.8/site-packages/numpy/core/overrides.py\u001b[0m in \u001b[0;36mreshape\u001b[0;34m(*args, **kwargs)\u001b[0m\n",
      "\u001b[0;32m~/opt/anaconda3/lib/python3.8/site-packages/numpy/core/fromnumeric.py\u001b[0m in \u001b[0;36mreshape\u001b[0;34m(a, newshape, order)\u001b[0m\n\u001b[1;32m    296\u001b[0m            [5, 6]])\n\u001b[1;32m    297\u001b[0m     \"\"\"\n\u001b[0;32m--> 298\u001b[0;31m     \u001b[0;32mreturn\u001b[0m \u001b[0m_wrapfunc\u001b[0m\u001b[0;34m(\u001b[0m\u001b[0ma\u001b[0m\u001b[0;34m,\u001b[0m \u001b[0;34m'reshape'\u001b[0m\u001b[0;34m,\u001b[0m \u001b[0mnewshape\u001b[0m\u001b[0;34m,\u001b[0m \u001b[0morder\u001b[0m\u001b[0;34m=\u001b[0m\u001b[0morder\u001b[0m\u001b[0;34m)\u001b[0m\u001b[0;34m\u001b[0m\u001b[0;34m\u001b[0m\u001b[0m\n\u001b[0m\u001b[1;32m    299\u001b[0m \u001b[0;34m\u001b[0m\u001b[0m\n\u001b[1;32m    300\u001b[0m \u001b[0;34m\u001b[0m\u001b[0m\n",
      "\u001b[0;32m~/opt/anaconda3/lib/python3.8/site-packages/numpy/core/fromnumeric.py\u001b[0m in \u001b[0;36m_wrapfunc\u001b[0;34m(obj, method, *args, **kwds)\u001b[0m\n\u001b[1;32m     52\u001b[0m     \u001b[0mbound\u001b[0m \u001b[0;34m=\u001b[0m \u001b[0mgetattr\u001b[0m\u001b[0;34m(\u001b[0m\u001b[0mobj\u001b[0m\u001b[0;34m,\u001b[0m \u001b[0mmethod\u001b[0m\u001b[0;34m,\u001b[0m \u001b[0;32mNone\u001b[0m\u001b[0;34m)\u001b[0m\u001b[0;34m\u001b[0m\u001b[0;34m\u001b[0m\u001b[0m\n\u001b[1;32m     53\u001b[0m     \u001b[0;32mif\u001b[0m \u001b[0mbound\u001b[0m \u001b[0;32mis\u001b[0m \u001b[0;32mNone\u001b[0m\u001b[0;34m:\u001b[0m\u001b[0;34m\u001b[0m\u001b[0;34m\u001b[0m\u001b[0m\n\u001b[0;32m---> 54\u001b[0;31m         \u001b[0;32mreturn\u001b[0m \u001b[0m_wrapit\u001b[0m\u001b[0;34m(\u001b[0m\u001b[0mobj\u001b[0m\u001b[0;34m,\u001b[0m \u001b[0mmethod\u001b[0m\u001b[0;34m,\u001b[0m \u001b[0;34m*\u001b[0m\u001b[0margs\u001b[0m\u001b[0;34m,\u001b[0m \u001b[0;34m**\u001b[0m\u001b[0mkwds\u001b[0m\u001b[0;34m)\u001b[0m\u001b[0;34m\u001b[0m\u001b[0;34m\u001b[0m\u001b[0m\n\u001b[0m\u001b[1;32m     55\u001b[0m \u001b[0;34m\u001b[0m\u001b[0m\n\u001b[1;32m     56\u001b[0m     \u001b[0;32mtry\u001b[0m\u001b[0;34m:\u001b[0m\u001b[0;34m\u001b[0m\u001b[0;34m\u001b[0m\u001b[0m\n",
      "\u001b[0;32m~/opt/anaconda3/lib/python3.8/site-packages/numpy/core/fromnumeric.py\u001b[0m in \u001b[0;36m_wrapit\u001b[0;34m(obj, method, *args, **kwds)\u001b[0m\n\u001b[1;32m     45\u001b[0m         \u001b[0;32mif\u001b[0m \u001b[0;32mnot\u001b[0m \u001b[0misinstance\u001b[0m\u001b[0;34m(\u001b[0m\u001b[0mresult\u001b[0m\u001b[0;34m,\u001b[0m \u001b[0mmu\u001b[0m\u001b[0;34m.\u001b[0m\u001b[0mndarray\u001b[0m\u001b[0;34m)\u001b[0m\u001b[0;34m:\u001b[0m\u001b[0;34m\u001b[0m\u001b[0;34m\u001b[0m\u001b[0m\n\u001b[1;32m     46\u001b[0m             \u001b[0mresult\u001b[0m \u001b[0;34m=\u001b[0m \u001b[0masarray\u001b[0m\u001b[0;34m(\u001b[0m\u001b[0mresult\u001b[0m\u001b[0;34m)\u001b[0m\u001b[0;34m\u001b[0m\u001b[0;34m\u001b[0m\u001b[0m\n\u001b[0;32m---> 47\u001b[0;31m         \u001b[0mresult\u001b[0m \u001b[0;34m=\u001b[0m \u001b[0mwrap\u001b[0m\u001b[0;34m(\u001b[0m\u001b[0mresult\u001b[0m\u001b[0;34m)\u001b[0m\u001b[0;34m\u001b[0m\u001b[0;34m\u001b[0m\u001b[0m\n\u001b[0m\u001b[1;32m     48\u001b[0m     \u001b[0;32mreturn\u001b[0m \u001b[0mresult\u001b[0m\u001b[0;34m\u001b[0m\u001b[0;34m\u001b[0m\u001b[0m\n\u001b[1;32m     49\u001b[0m \u001b[0;34m\u001b[0m\u001b[0m\n",
      "\u001b[0;32m~/opt/anaconda3/lib/python3.8/site-packages/pandas/core/generic.py\u001b[0m in \u001b[0;36m__array_wrap__\u001b[0;34m(self, result, context)\u001b[0m\n\u001b[1;32m   2105\u001b[0m             \u001b[0;32mreturn\u001b[0m \u001b[0mres\u001b[0m\u001b[0;34m\u001b[0m\u001b[0;34m\u001b[0m\u001b[0m\n\u001b[1;32m   2106\u001b[0m         \u001b[0md\u001b[0m \u001b[0;34m=\u001b[0m \u001b[0mself\u001b[0m\u001b[0;34m.\u001b[0m\u001b[0m_construct_axes_dict\u001b[0m\u001b[0;34m(\u001b[0m\u001b[0mself\u001b[0m\u001b[0;34m.\u001b[0m\u001b[0m_AXIS_ORDERS\u001b[0m\u001b[0;34m,\u001b[0m \u001b[0mcopy\u001b[0m\u001b[0;34m=\u001b[0m\u001b[0;32mFalse\u001b[0m\u001b[0;34m)\u001b[0m\u001b[0;34m\u001b[0m\u001b[0;34m\u001b[0m\u001b[0m\n\u001b[0;32m-> 2107\u001b[0;31m         \u001b[0;32mreturn\u001b[0m \u001b[0mself\u001b[0m\u001b[0;34m.\u001b[0m\u001b[0m_constructor\u001b[0m\u001b[0;34m(\u001b[0m\u001b[0mres\u001b[0m\u001b[0;34m,\u001b[0m \u001b[0;34m**\u001b[0m\u001b[0md\u001b[0m\u001b[0;34m)\u001b[0m\u001b[0;34m.\u001b[0m\u001b[0m__finalize__\u001b[0m\u001b[0;34m(\u001b[0m\u001b[0mself\u001b[0m\u001b[0;34m,\u001b[0m \u001b[0mmethod\u001b[0m\u001b[0;34m=\u001b[0m\u001b[0;34m\"__array_wrap__\"\u001b[0m\u001b[0;34m)\u001b[0m\u001b[0;34m\u001b[0m\u001b[0;34m\u001b[0m\u001b[0m\n\u001b[0m\u001b[1;32m   2108\u001b[0m \u001b[0;34m\u001b[0m\u001b[0m\n\u001b[1;32m   2109\u001b[0m     \u001b[0;34m@\u001b[0m\u001b[0mfinal\u001b[0m\u001b[0;34m\u001b[0m\u001b[0;34m\u001b[0m\u001b[0m\n",
      "\u001b[0;32m~/opt/anaconda3/lib/python3.8/site-packages/pandas/core/frame.py\u001b[0m in \u001b[0;36m__init__\u001b[0;34m(self, data, index, columns, dtype, copy)\u001b[0m\n\u001b[1;32m    719\u001b[0m                 )\n\u001b[1;32m    720\u001b[0m             \u001b[0;32melse\u001b[0m\u001b[0;34m:\u001b[0m\u001b[0;34m\u001b[0m\u001b[0;34m\u001b[0m\u001b[0m\n\u001b[0;32m--> 721\u001b[0;31m                 mgr = ndarray_to_mgr(\n\u001b[0m\u001b[1;32m    722\u001b[0m                     \u001b[0mdata\u001b[0m\u001b[0;34m,\u001b[0m\u001b[0;34m\u001b[0m\u001b[0;34m\u001b[0m\u001b[0m\n\u001b[1;32m    723\u001b[0m                     \u001b[0mindex\u001b[0m\u001b[0;34m,\u001b[0m\u001b[0;34m\u001b[0m\u001b[0;34m\u001b[0m\u001b[0m\n",
      "\u001b[0;32m~/opt/anaconda3/lib/python3.8/site-packages/pandas/core/internals/construction.py\u001b[0m in \u001b[0;36mndarray_to_mgr\u001b[0;34m(values, index, columns, dtype, copy, typ)\u001b[0m\n\u001b[1;32m    327\u001b[0m         \u001b[0;31m# by definition an array here\u001b[0m\u001b[0;34m\u001b[0m\u001b[0;34m\u001b[0m\u001b[0;34m\u001b[0m\u001b[0m\n\u001b[1;32m    328\u001b[0m         \u001b[0;31m# the dtypes will be coerced to a single dtype\u001b[0m\u001b[0;34m\u001b[0m\u001b[0;34m\u001b[0m\u001b[0;34m\u001b[0m\u001b[0m\n\u001b[0;32m--> 329\u001b[0;31m         \u001b[0mvalues\u001b[0m \u001b[0;34m=\u001b[0m \u001b[0m_prep_ndarraylike\u001b[0m\u001b[0;34m(\u001b[0m\u001b[0mvalues\u001b[0m\u001b[0;34m,\u001b[0m \u001b[0mcopy\u001b[0m\u001b[0;34m=\u001b[0m\u001b[0mcopy_on_sanitize\u001b[0m\u001b[0;34m)\u001b[0m\u001b[0;34m\u001b[0m\u001b[0;34m\u001b[0m\u001b[0m\n\u001b[0m\u001b[1;32m    330\u001b[0m \u001b[0;34m\u001b[0m\u001b[0m\n\u001b[1;32m    331\u001b[0m     \u001b[0;32mif\u001b[0m \u001b[0mdtype\u001b[0m \u001b[0;32mis\u001b[0m \u001b[0;32mnot\u001b[0m \u001b[0;32mNone\u001b[0m \u001b[0;32mand\u001b[0m \u001b[0;32mnot\u001b[0m \u001b[0mis_dtype_equal\u001b[0m\u001b[0;34m(\u001b[0m\u001b[0mvalues\u001b[0m\u001b[0;34m.\u001b[0m\u001b[0mdtype\u001b[0m\u001b[0;34m,\u001b[0m \u001b[0mdtype\u001b[0m\u001b[0;34m)\u001b[0m\u001b[0;34m:\u001b[0m\u001b[0;34m\u001b[0m\u001b[0;34m\u001b[0m\u001b[0m\n",
      "\u001b[0;32m~/opt/anaconda3/lib/python3.8/site-packages/pandas/core/internals/construction.py\u001b[0m in \u001b[0;36m_prep_ndarraylike\u001b[0;34m(values, copy)\u001b[0m\n\u001b[1;32m    581\u001b[0m         \u001b[0mvalues\u001b[0m \u001b[0;34m=\u001b[0m \u001b[0mvalues\u001b[0m\u001b[0;34m.\u001b[0m\u001b[0mreshape\u001b[0m\u001b[0;34m(\u001b[0m\u001b[0;34m(\u001b[0m\u001b[0mvalues\u001b[0m\u001b[0;34m.\u001b[0m\u001b[0mshape\u001b[0m\u001b[0;34m[\u001b[0m\u001b[0;36m0\u001b[0m\u001b[0;34m]\u001b[0m\u001b[0;34m,\u001b[0m \u001b[0;36m1\u001b[0m\u001b[0;34m)\u001b[0m\u001b[0;34m)\u001b[0m\u001b[0;34m\u001b[0m\u001b[0;34m\u001b[0m\u001b[0m\n\u001b[1;32m    582\u001b[0m     \u001b[0;32melif\u001b[0m \u001b[0mvalues\u001b[0m\u001b[0;34m.\u001b[0m\u001b[0mndim\u001b[0m \u001b[0;34m!=\u001b[0m \u001b[0;36m2\u001b[0m\u001b[0;34m:\u001b[0m\u001b[0;34m\u001b[0m\u001b[0;34m\u001b[0m\u001b[0m\n\u001b[0;32m--> 583\u001b[0;31m         \u001b[0;32mraise\u001b[0m \u001b[0mValueError\u001b[0m\u001b[0;34m(\u001b[0m\u001b[0;34mf\"Must pass 2-d input. shape={values.shape}\"\u001b[0m\u001b[0;34m)\u001b[0m\u001b[0;34m\u001b[0m\u001b[0;34m\u001b[0m\u001b[0m\n\u001b[0m\u001b[1;32m    584\u001b[0m \u001b[0;34m\u001b[0m\u001b[0m\n\u001b[1;32m    585\u001b[0m     \u001b[0;32mreturn\u001b[0m \u001b[0mvalues\u001b[0m\u001b[0;34m\u001b[0m\u001b[0;34m\u001b[0m\u001b[0m\n",
      "\u001b[0;31mValueError\u001b[0m: Must pass 2-d input. shape=(7077, 1, 12)"
     ]
    }
   ],
   "source": [
    "# Eingabevektoren in ein Array umwandeln\n",
    "X = df_encoded.drop(['siteName'], axis=1).values\n",
    "y = df_encoded['siteName'].values\n",
    "\n",
    "# Daten in train und test sets splitten\n",
    "X_train, X_test, y_train, y_test = train_test_split(X, y, test_size=0.2, random_state=2)\n",
    "\n",
    "# reshape data for LSTM\n",
    "X_train = np.reshape(X_train, (X_train.shape[0], X_train.shape[1], 1))\n",
    "X_test = np.reshape(X_test, (X_test.shape[0], X_test.shape[1], 1))\n",
    "y_train = to_categorical(y_train)\n",
    "y_test = to_categorical(y_test)\n",
    "\n"
   ]
  },
  {
   "attachments": {},
   "cell_type": "markdown",
   "metadata": {},
   "source": [
    "# CNN\n"
   ]
  },
  {
   "cell_type": "code",
   "execution_count": null,
   "metadata": {},
   "outputs": [
    {
     "name": "stdout",
     "output_type": "stream",
     "text": [
      "Epoch 1/10\n",
      "WARNING:tensorflow:Model was constructed with shape (None, 1) for input KerasTensor(type_spec=TensorSpec(shape=(None, 1), dtype=tf.float32, name='embedding_33_input'), name='embedding_33_input', description=\"created by layer 'embedding_33_input'\"), but it was called on an input with incompatible shape (None, 12).\n"
     ]
    },
    {
     "ename": "ValueError",
     "evalue": "in user code:\n\n    File \"/Users/ingaglotzbach/opt/anaconda3/lib/python3.8/site-packages/keras/engine/training.py\", line 1160, in train_function  *\n        return step_function(self, iterator)\n    File \"/Users/ingaglotzbach/opt/anaconda3/lib/python3.8/site-packages/keras/engine/training.py\", line 1146, in step_function  **\n        outputs = model.distribute_strategy.run(run_step, args=(data,))\n    File \"/Users/ingaglotzbach/opt/anaconda3/lib/python3.8/site-packages/keras/engine/training.py\", line 1135, in run_step  **\n        outputs = model.train_step(data)\n    File \"/Users/ingaglotzbach/opt/anaconda3/lib/python3.8/site-packages/keras/engine/training.py\", line 993, in train_step\n        y_pred = self(x, training=True)\n    File \"/Users/ingaglotzbach/opt/anaconda3/lib/python3.8/site-packages/keras/utils/traceback_utils.py\", line 70, in error_handler\n        raise e.with_traceback(filtered_tb) from None\n    File \"/Users/ingaglotzbach/opt/anaconda3/lib/python3.8/site-packages/keras/engine/input_spec.py\", line 277, in assert_input_compatibility\n        raise ValueError(\n\n    ValueError: Exception encountered when calling layer \"sequential_109\" \"                 f\"(type Sequential).\n    \n    Input 0 of layer \"dense_142\" is incompatible with the layer: expected axis -1 of input shape to have value 12, but received input with shape (None, 144)\n    \n    Call arguments received by layer \"sequential_109\" \"                 f\"(type Sequential):\n      • inputs=tf.Tensor(shape=(None, 12), dtype=float32)\n      • training=True\n      • mask=None\n",
     "output_type": "error",
     "traceback": [
      "\u001b[0;31m---------------------------------------------------------------------------\u001b[0m",
      "\u001b[0;31mValueError\u001b[0m                                Traceback (most recent call last)",
      "\u001b[0;32m<ipython-input-1068-f4be73ce543f>\u001b[0m in \u001b[0;36m<module>\u001b[0;34m\u001b[0m\n\u001b[1;32m      8\u001b[0m \u001b[0mmodel2\u001b[0m\u001b[0;34m.\u001b[0m\u001b[0mcompile\u001b[0m\u001b[0;34m(\u001b[0m\u001b[0mloss\u001b[0m\u001b[0;34m=\u001b[0m\u001b[0;34m'categorical_crossentropy'\u001b[0m\u001b[0;34m,\u001b[0m \u001b[0moptimizer\u001b[0m\u001b[0;34m=\u001b[0m\u001b[0;34m'adam'\u001b[0m\u001b[0;34m,\u001b[0m \u001b[0mmetrics\u001b[0m\u001b[0;34m=\u001b[0m\u001b[0;34m[\u001b[0m\u001b[0;34m'accuracy'\u001b[0m\u001b[0;34m]\u001b[0m\u001b[0;34m)\u001b[0m\u001b[0;34m\u001b[0m\u001b[0;34m\u001b[0m\u001b[0m\n\u001b[1;32m      9\u001b[0m \u001b[0;34m\u001b[0m\u001b[0m\n\u001b[0;32m---> 10\u001b[0;31m \u001b[0mhistory\u001b[0m \u001b[0;34m=\u001b[0m \u001b[0mmodel2\u001b[0m\u001b[0;34m.\u001b[0m\u001b[0mfit\u001b[0m\u001b[0;34m(\u001b[0m\u001b[0mX_train\u001b[0m\u001b[0;34m,\u001b[0m \u001b[0my_train\u001b[0m\u001b[0;34m,\u001b[0m \u001b[0mbatch_size\u001b[0m\u001b[0;34m=\u001b[0m\u001b[0;36m32\u001b[0m\u001b[0;34m,\u001b[0m \u001b[0mepochs\u001b[0m\u001b[0;34m=\u001b[0m\u001b[0;36m10\u001b[0m\u001b[0;34m,\u001b[0m \u001b[0mvalidation_data\u001b[0m\u001b[0;34m=\u001b[0m\u001b[0;34m(\u001b[0m\u001b[0mX_test\u001b[0m\u001b[0;34m,\u001b[0m \u001b[0my_test\u001b[0m\u001b[0;34m)\u001b[0m\u001b[0;34m)\u001b[0m\u001b[0;34m\u001b[0m\u001b[0;34m\u001b[0m\u001b[0m\n\u001b[0m",
      "\u001b[0;32m~/opt/anaconda3/lib/python3.8/site-packages/keras/utils/traceback_utils.py\u001b[0m in \u001b[0;36merror_handler\u001b[0;34m(*args, **kwargs)\u001b[0m\n\u001b[1;32m     68\u001b[0m             \u001b[0;31m# To get the full stack trace, call:\u001b[0m\u001b[0;34m\u001b[0m\u001b[0;34m\u001b[0m\u001b[0;34m\u001b[0m\u001b[0m\n\u001b[1;32m     69\u001b[0m             \u001b[0;31m# `tf.debugging.disable_traceback_filtering()`\u001b[0m\u001b[0;34m\u001b[0m\u001b[0;34m\u001b[0m\u001b[0;34m\u001b[0m\u001b[0m\n\u001b[0;32m---> 70\u001b[0;31m             \u001b[0;32mraise\u001b[0m \u001b[0me\u001b[0m\u001b[0;34m.\u001b[0m\u001b[0mwith_traceback\u001b[0m\u001b[0;34m(\u001b[0m\u001b[0mfiltered_tb\u001b[0m\u001b[0;34m)\u001b[0m \u001b[0;32mfrom\u001b[0m \u001b[0;32mNone\u001b[0m\u001b[0;34m\u001b[0m\u001b[0;34m\u001b[0m\u001b[0m\n\u001b[0m\u001b[1;32m     71\u001b[0m         \u001b[0;32mfinally\u001b[0m\u001b[0;34m:\u001b[0m\u001b[0;34m\u001b[0m\u001b[0;34m\u001b[0m\u001b[0m\n\u001b[1;32m     72\u001b[0m             \u001b[0;32mdel\u001b[0m \u001b[0mfiltered_tb\u001b[0m\u001b[0;34m\u001b[0m\u001b[0;34m\u001b[0m\u001b[0m\n",
      "\u001b[0;32m~/opt/anaconda3/lib/python3.8/site-packages/keras/engine/training.py\u001b[0m in \u001b[0;36mtf__train_function\u001b[0;34m(iterator)\u001b[0m\n\u001b[1;32m     13\u001b[0m \u001b[0;31m# limitations under the License.\u001b[0m\u001b[0;34m\u001b[0m\u001b[0;34m\u001b[0m\u001b[0;34m\u001b[0m\u001b[0m\n\u001b[1;32m     14\u001b[0m \u001b[0;31m# ==============================================================================\u001b[0m\u001b[0;34m\u001b[0m\u001b[0;34m\u001b[0m\u001b[0;34m\u001b[0m\u001b[0m\n\u001b[0;32m---> 15\u001b[0;31m \u001b[0;34m\"\"\"Training-related part of the Keras engine.\"\"\"\u001b[0m\u001b[0;34m\u001b[0m\u001b[0;34m\u001b[0m\u001b[0m\n\u001b[0m\u001b[1;32m     16\u001b[0m \u001b[0;34m\u001b[0m\u001b[0m\n\u001b[1;32m     17\u001b[0m \u001b[0;32mimport\u001b[0m \u001b[0mcopy\u001b[0m\u001b[0;34m\u001b[0m\u001b[0;34m\u001b[0m\u001b[0m\n",
      "\u001b[0;31mValueError\u001b[0m: in user code:\n\n    File \"/Users/ingaglotzbach/opt/anaconda3/lib/python3.8/site-packages/keras/engine/training.py\", line 1160, in train_function  *\n        return step_function(self, iterator)\n    File \"/Users/ingaglotzbach/opt/anaconda3/lib/python3.8/site-packages/keras/engine/training.py\", line 1146, in step_function  **\n        outputs = model.distribute_strategy.run(run_step, args=(data,))\n    File \"/Users/ingaglotzbach/opt/anaconda3/lib/python3.8/site-packages/keras/engine/training.py\", line 1135, in run_step  **\n        outputs = model.train_step(data)\n    File \"/Users/ingaglotzbach/opt/anaconda3/lib/python3.8/site-packages/keras/engine/training.py\", line 993, in train_step\n        y_pred = self(x, training=True)\n    File \"/Users/ingaglotzbach/opt/anaconda3/lib/python3.8/site-packages/keras/utils/traceback_utils.py\", line 70, in error_handler\n        raise e.with_traceback(filtered_tb) from None\n    File \"/Users/ingaglotzbach/opt/anaconda3/lib/python3.8/site-packages/keras/engine/input_spec.py\", line 277, in assert_input_compatibility\n        raise ValueError(\n\n    ValueError: Exception encountered when calling layer \"sequential_109\" \"                 f\"(type Sequential).\n    \n    Input 0 of layer \"dense_142\" is incompatible with the layer: expected axis -1 of input shape to have value 12, but received input with shape (None, 144)\n    \n    Call arguments received by layer \"sequential_109\" \"                 f\"(type Sequential):\n      • inputs=tf.Tensor(shape=(None, 12), dtype=float32)\n      • training=True\n      • mask=None\n"
     ]
    }
   ],
   "source": [
    "from keras.layers import Conv1D, MaxPooling1D, Flatten, Embedding\n",
    "\n",
    "model2 = Sequential()\n",
    "model2.add(Embedding(input_dim=X_train.shape[1], output_dim=12, input_length=1))\n",
    "model2.add(Flatten())\n",
    "model2.add(Dense(32, activation='relu'))\n",
    "model2.add(Dense(2, activation='sigmoid'))\n",
    "model2.compile(loss='categorical_crossentropy', optimizer='adam', metrics=['accuracy'])\n",
    "\n",
    "history = model2.fit(X_train, y_train, batch_size=32, epochs=10, validation_data=(X_test, y_test))\n"
   ]
  },
  {
   "cell_type": "markdown",
   "metadata": {},
   "source": [
    "### LSTM"
   ]
  },
  {
   "cell_type": "markdown",
   "metadata": {},
   "source": []
  },
  {
   "cell_type": "code",
   "execution_count": null,
   "metadata": {},
   "outputs": [],
   "source": [
    "X_time_series = df_seq[['timeStamp', 'session']]\n",
    "Y_time_series = df_seq['siteName']\n",
    "\n",
    "X_time_series = StandardScaler().fit_transform(X_time_series)\n",
    "\n",
    "X_time_Train, X_time_Test, Y_time_Train, Y_time_Test = train_test_split(X_time_series, Y_time_series, test_size = 0.30, \n",
    "                                                    random_state = 101)"
   ]
  },
  {
   "cell_type": "code",
   "execution_count": null,
   "metadata": {},
   "outputs": [
    {
     "ename": "ValueError",
     "evalue": "Input 0 of layer \"lstm\" is incompatible with the layer: expected ndim=3, found ndim=2. Full shape received: (None, None)",
     "output_type": "error",
     "traceback": [
      "\u001b[0;31m---------------------------------------------------------------------------\u001b[0m",
      "\u001b[0;31mValueError\u001b[0m                                Traceback (most recent call last)",
      "\u001b[0;32m<ipython-input-27-198834100bda>\u001b[0m in \u001b[0;36m<module>\u001b[0;34m\u001b[0m\n\u001b[1;32m      7\u001b[0m \u001b[0;34m\u001b[0m\u001b[0m\n\u001b[1;32m      8\u001b[0m \u001b[0;31m# Definition der RNN-Schicht\u001b[0m\u001b[0;34m\u001b[0m\u001b[0;34m\u001b[0m\u001b[0;34m\u001b[0m\u001b[0m\n\u001b[0;32m----> 9\u001b[0;31m \u001b[0mrnn\u001b[0m \u001b[0;34m=\u001b[0m \u001b[0mtf\u001b[0m\u001b[0;34m.\u001b[0m\u001b[0mkeras\u001b[0m\u001b[0;34m.\u001b[0m\u001b[0mlayers\u001b[0m\u001b[0;34m.\u001b[0m\u001b[0mLSTM\u001b[0m\u001b[0;34m(\u001b[0m\u001b[0;36m64\u001b[0m\u001b[0;34m)\u001b[0m\u001b[0;34m(\u001b[0m\u001b[0minputs\u001b[0m\u001b[0;34m)\u001b[0m  \u001b[0;31m# Verwenden Sie eine LSTM-Schicht mit 64 Neuronen\u001b[0m\u001b[0;34m\u001b[0m\u001b[0;34m\u001b[0m\u001b[0m\n\u001b[0m\u001b[1;32m     10\u001b[0m \u001b[0;34m\u001b[0m\u001b[0m\n\u001b[1;32m     11\u001b[0m \u001b[0;31m# Definition der Ausgabeschicht\u001b[0m\u001b[0;34m\u001b[0m\u001b[0;34m\u001b[0m\u001b[0;34m\u001b[0m\u001b[0m\n",
      "\u001b[0;32m~/opt/anaconda3/lib/python3.8/site-packages/keras/layers/rnn/base_rnn.py\u001b[0m in \u001b[0;36m__call__\u001b[0;34m(self, inputs, initial_state, constants, **kwargs)\u001b[0m\n\u001b[1;32m    551\u001b[0m \u001b[0;34m\u001b[0m\u001b[0m\n\u001b[1;32m    552\u001b[0m         \u001b[0;32mif\u001b[0m \u001b[0minitial_state\u001b[0m \u001b[0;32mis\u001b[0m \u001b[0;32mNone\u001b[0m \u001b[0;32mand\u001b[0m \u001b[0mconstants\u001b[0m \u001b[0;32mis\u001b[0m \u001b[0;32mNone\u001b[0m\u001b[0;34m:\u001b[0m\u001b[0;34m\u001b[0m\u001b[0;34m\u001b[0m\u001b[0m\n\u001b[0;32m--> 553\u001b[0;31m             \u001b[0;32mreturn\u001b[0m \u001b[0msuper\u001b[0m\u001b[0;34m(\u001b[0m\u001b[0;34m)\u001b[0m\u001b[0;34m.\u001b[0m\u001b[0m__call__\u001b[0m\u001b[0;34m(\u001b[0m\u001b[0minputs\u001b[0m\u001b[0;34m,\u001b[0m \u001b[0;34m**\u001b[0m\u001b[0mkwargs\u001b[0m\u001b[0;34m)\u001b[0m\u001b[0;34m\u001b[0m\u001b[0;34m\u001b[0m\u001b[0m\n\u001b[0m\u001b[1;32m    554\u001b[0m \u001b[0;34m\u001b[0m\u001b[0m\n\u001b[1;32m    555\u001b[0m         \u001b[0;31m# If any of `initial_state` or `constants` are specified and are Keras\u001b[0m\u001b[0;34m\u001b[0m\u001b[0;34m\u001b[0m\u001b[0;34m\u001b[0m\u001b[0m\n",
      "\u001b[0;32m~/opt/anaconda3/lib/python3.8/site-packages/keras/utils/traceback_utils.py\u001b[0m in \u001b[0;36merror_handler\u001b[0;34m(*args, **kwargs)\u001b[0m\n\u001b[1;32m     68\u001b[0m             \u001b[0;31m# To get the full stack trace, call:\u001b[0m\u001b[0;34m\u001b[0m\u001b[0;34m\u001b[0m\u001b[0;34m\u001b[0m\u001b[0m\n\u001b[1;32m     69\u001b[0m             \u001b[0;31m# `tf.debugging.disable_traceback_filtering()`\u001b[0m\u001b[0;34m\u001b[0m\u001b[0;34m\u001b[0m\u001b[0;34m\u001b[0m\u001b[0m\n\u001b[0;32m---> 70\u001b[0;31m             \u001b[0;32mraise\u001b[0m \u001b[0me\u001b[0m\u001b[0;34m.\u001b[0m\u001b[0mwith_traceback\u001b[0m\u001b[0;34m(\u001b[0m\u001b[0mfiltered_tb\u001b[0m\u001b[0;34m)\u001b[0m \u001b[0;32mfrom\u001b[0m \u001b[0;32mNone\u001b[0m\u001b[0;34m\u001b[0m\u001b[0;34m\u001b[0m\u001b[0m\n\u001b[0m\u001b[1;32m     71\u001b[0m         \u001b[0;32mfinally\u001b[0m\u001b[0;34m:\u001b[0m\u001b[0;34m\u001b[0m\u001b[0;34m\u001b[0m\u001b[0m\n\u001b[1;32m     72\u001b[0m             \u001b[0;32mdel\u001b[0m \u001b[0mfiltered_tb\u001b[0m\u001b[0;34m\u001b[0m\u001b[0;34m\u001b[0m\u001b[0m\n",
      "\u001b[0;32m~/opt/anaconda3/lib/python3.8/site-packages/keras/engine/input_spec.py\u001b[0m in \u001b[0;36massert_input_compatibility\u001b[0;34m(input_spec, inputs, layer_name)\u001b[0m\n\u001b[1;32m    230\u001b[0m             \u001b[0mndim\u001b[0m \u001b[0;34m=\u001b[0m \u001b[0mshape\u001b[0m\u001b[0;34m.\u001b[0m\u001b[0mrank\u001b[0m\u001b[0;34m\u001b[0m\u001b[0;34m\u001b[0m\u001b[0m\n\u001b[1;32m    231\u001b[0m             \u001b[0;32mif\u001b[0m \u001b[0mndim\u001b[0m \u001b[0;34m!=\u001b[0m \u001b[0mspec\u001b[0m\u001b[0;34m.\u001b[0m\u001b[0mndim\u001b[0m\u001b[0;34m:\u001b[0m\u001b[0;34m\u001b[0m\u001b[0;34m\u001b[0m\u001b[0m\n\u001b[0;32m--> 232\u001b[0;31m                 raise ValueError(\n\u001b[0m\u001b[1;32m    233\u001b[0m                     \u001b[0;34mf'Input {input_index} of layer \"{layer_name}\" '\u001b[0m\u001b[0;34m\u001b[0m\u001b[0;34m\u001b[0m\u001b[0m\n\u001b[1;32m    234\u001b[0m                     \u001b[0;34m\"is incompatible with the layer: \"\u001b[0m\u001b[0;34m\u001b[0m\u001b[0;34m\u001b[0m\u001b[0m\n",
      "\u001b[0;31mValueError\u001b[0m: Input 0 of layer \"lstm\" is incompatible with the layer: expected ndim=3, found ndim=2. Full shape received: (None, None)"
     ]
    }
   ],
   "source": [
    "import tensorflow as tf\n",
    "\n",
    "# Definition der Eingabeschicht\n",
    "inputs = tf.keras.layers.Input(shape=(None,))  # Die Eingabeschicht erwartet sequentielle Daten mit variabler Länge\n",
    "\n",
    "# Fügen Sie hier weitere Schichten hinzu, z.B. Embedding- oder Convolution-Schichten\n",
    "\n",
    "# Definition der RNN-Schicht\n",
    "rnn = tf.keras.layers.LSTM(64)(inputs)  # Verwenden Sie eine LSTM-Schicht mit 64 Neuronen\n",
    "\n",
    "# Definition der Ausgabeschicht\n",
    "outputs = tf.keras.layers.Dense(1, activation='sigmoid')(rnn)  # Fügen Sie eine Dense-Schicht mit einer sigmoid-Aktivierungsfunktion hinzu\n",
    "\n",
    "# Erstellen Sie das Modell mit den definierten Schichten\n",
    "rnn_model = tf.keras.Model(inputs=inputs, outputs=outputs)\n",
    "\n",
    "# Kompilieren Sie das Modell mit einer Loss-Funktion und einem Optimierer\n",
    "rnn_model.compile(loss='binary_crossentropy', optimizer='adam', metrics=['accuracy'])\n",
    "\n",
    "# Trainieren Sie das Modell anhand Ihrer Trainingsdaten\n",
    "rnn_model.fit(X_time_Train, Y_time_Train, epochs=10)\n",
    "\n",
    "# Verwenden Sie das Modell, um Vorhersagen anhand Ihrer Testdaten zu treffen\n",
    "predictions = rnn_model.predict(X_time_Test)"
   ]
  },
  {
   "attachments": {},
   "cell_type": "markdown",
   "metadata": {},
   "source": [
    "## Session by Focus/Blur"
   ]
  },
  {
   "cell_type": "code",
   "execution_count": 429,
   "metadata": {},
   "outputs": [],
   "source": [
    "df_focus = pd.read_pickle('CleanedDataWithIds.pkl') \n",
    "df_focus = df_focus.drop([ 'height', 'width', 'clientX', 'clientY', 'timeStamp' ], axis=1)\n",
    "df_focus= df_focus.sort_values(by=['date', 'session'], ascending=[True, False])\n",
    "df_focus = df_focus.loc[(df_focus['type'] == 'focus') | (df_focus['type'] == 'blur')]\n",
    "df_focus = df_focus.loc[(df_focus['elementId'] != 'window')]"
   ]
  },
  {
   "cell_type": "code",
   "execution_count": 430,
   "metadata": {},
   "outputs": [
    {
     "data": {
      "text/plain": [
       "focus    1205\n",
       "blur     1194\n",
       "Name: type, dtype: int64"
      ]
     },
     "execution_count": 430,
     "metadata": {},
     "output_type": "execute_result"
    }
   ],
   "source": [
    "helloo = df_focus['type'].value_counts()\n",
    "\n",
    "helloo.head()"
   ]
  },
  {
   "cell_type": "code",
   "execution_count": 428,
   "metadata": {},
   "outputs": [
    {
     "data": {
      "text/plain": [
       "focus    833\n",
       "blur     822\n",
       "Name: type, dtype: int64"
      ]
     },
     "execution_count": 428,
     "metadata": {},
     "output_type": "execute_result"
    }
   ],
   "source": [
    "hello = df_focus.loc[(df_focus['siteName'] == 1)]\n",
    "hello = hello['type'].value_counts()\n",
    "hello.head()"
   ]
  },
  {
   "cell_type": "code",
   "execution_count": 423,
   "metadata": {},
   "outputs": [
    {
     "data": {
      "text/plain": [
       "focus    372\n",
       "blur     372\n",
       "Name: type, dtype: int64"
      ]
     },
     "execution_count": 423,
     "metadata": {},
     "output_type": "execute_result"
    }
   ],
   "source": [
    "hello2 = df_focus.loc[(df_focus['siteName'] == 0) ]\n",
    "hello2 = hello2['type'].value_counts()\n",
    "hello2.head()"
   ]
  },
  {
   "cell_type": "code",
   "execution_count": null,
   "metadata": {},
   "outputs": [
    {
     "name": "stderr",
     "output_type": "stream",
     "text": [
      "<ipython-input-378-989b91c179d3>:4: FutureWarning: The default value of numeric_only in DataFrameGroupBy.sum is deprecated. In a future version, numeric_only will default to False. Either specify numeric_only or select only columns which should be valid for the function.\n",
      "  df_result = df_result.groupby(['siteName', 'session']).sum()\n"
     ]
    },
    {
     "data": {
      "text/html": [
       "<div>\n",
       "<style scoped>\n",
       "    .dataframe tbody tr th:only-of-type {\n",
       "        vertical-align: middle;\n",
       "    }\n",
       "\n",
       "    .dataframe tbody tr th {\n",
       "        vertical-align: top;\n",
       "    }\n",
       "\n",
       "    .dataframe thead th {\n",
       "        text-align: right;\n",
       "    }\n",
       "</style>\n",
       "<table border=\"1\" class=\"dataframe\">\n",
       "  <thead>\n",
       "    <tr style=\"text-align: right;\">\n",
       "      <th></th>\n",
       "      <th></th>\n",
       "      <th>event_count focus/blur</th>\n",
       "      <th>duration</th>\n",
       "    </tr>\n",
       "    <tr>\n",
       "      <th>siteName</th>\n",
       "      <th>session</th>\n",
       "      <th></th>\n",
       "      <th></th>\n",
       "    </tr>\n",
       "  </thead>\n",
       "  <tbody>\n",
       "    <tr>\n",
       "      <th rowspan=\"5\" valign=\"top\">0</th>\n",
       "      <th>110</th>\n",
       "      <td>14</td>\n",
       "      <td>45.536</td>\n",
       "    </tr>\n",
       "    <tr>\n",
       "      <th>116</th>\n",
       "      <td>2</td>\n",
       "      <td>3.896</td>\n",
       "    </tr>\n",
       "    <tr>\n",
       "      <th>120</th>\n",
       "      <td>6</td>\n",
       "      <td>7.034</td>\n",
       "    </tr>\n",
       "    <tr>\n",
       "      <th>127</th>\n",
       "      <td>14</td>\n",
       "      <td>22.744</td>\n",
       "    </tr>\n",
       "    <tr>\n",
       "      <th>138</th>\n",
       "      <td>12</td>\n",
       "      <td>38.160</td>\n",
       "    </tr>\n",
       "  </tbody>\n",
       "</table>\n",
       "</div>"
      ],
      "text/plain": [
       "                  event_count focus/blur  duration\n",
       "siteName session                                  \n",
       "0        110                          14    45.536\n",
       "         116                           2     3.896\n",
       "         120                           6     7.034\n",
       "         127                          14    22.744\n",
       "         138                          12    38.160"
      ]
     },
     "execution_count": 378,
     "metadata": {},
     "output_type": "execute_result"
    }
   ],
   "source": [
    "df_focus['date'] = pd.to_datetime(df_focus['date'])\n",
    "df_focus['duration'] = df_focus.groupby(['elementId', 'session'])['date'].diff().dt.total_seconds()\n",
    "df_result = df_focus.groupby(['siteName', 'session', 'type'])['duration'].agg(['sum', 'size']).reset_index()\n",
    "df_result = df_result.groupby(['siteName', 'session']).sum()\n",
    "df_result = df_result.rename(columns={'sum': 'duration', 'size': 'event_count focus/blur'})\n",
    "df_result = df_result[['event_count focus/blur', 'duration']]\n",
    "\n",
    "df_result.head()"
   ]
  },
  {
   "cell_type": "code",
   "execution_count": null,
   "metadata": {},
   "outputs": [],
   "source": [
    "#62 focus und blur Events in Input Feldern auf der einfachen Seite \n",
    "#36 \n",
    "df_result = df_result.reset_index()"
   ]
  },
  {
   "attachments": {},
   "cell_type": "markdown",
   "metadata": {},
   "source": [
    "## Sessions by mouseover"
   ]
  },
  {
   "cell_type": "code",
   "execution_count": null,
   "metadata": {},
   "outputs": [],
   "source": [
    "df_mouse = pd.read_pickle('CleanedDataWithIds.pkl') \n",
    "df_mouse = df_mouse.drop([ 'height', 'width', 'clientX', 'clientY', 'timeStamp' ], axis=1)\n",
    "df_mouse = df_mouse.sort_values(by=['date', 'session'], ascending=[True, False])\n",
    "df_mouse = df_mouse.loc[(df_mouse['type'] == 'mouseover') | (df_mouse['type'] == 'mouseout')]\n",
    "df_mouse = df_mouse.loc[(df_mouse['elementId'] != 'window')]"
   ]
  },
  {
   "cell_type": "code",
   "execution_count": null,
   "metadata": {},
   "outputs": [
    {
     "name": "stderr",
     "output_type": "stream",
     "text": [
      "<ipython-input-381-6e4a7f66efa7>:4: FutureWarning: The default value of numeric_only in DataFrameGroupBy.sum is deprecated. In a future version, numeric_only will default to False. Either specify numeric_only or select only columns which should be valid for the function.\n",
      "  df_result_mouse = df_result_mouse.groupby(['siteName', 'session']).sum()\n"
     ]
    }
   ],
   "source": [
    "df_mouse['date'] = pd.to_datetime(df_mouse['date'])\n",
    "df_mouse['duration'] = df_mouse.groupby(['elementId', 'session'])['date'].diff().dt.total_seconds()\n",
    "df_result_mouse = df_mouse.groupby(['siteName', 'session', 'type'])['duration'].agg(['sum', 'size']).reset_index()\n",
    "df_result_mouse = df_result_mouse.groupby(['siteName', 'session']).sum()\n",
    "df_result_mouse = df_result_mouse.rename(columns={'sum': 'duration', 'size': 'event_count mouseover/mouseout'})\n",
    "df_result_mouse = df_result_mouse[['event_count mouseover/mouseout', 'duration']]\n",
    "\n",
    "df_result_mouse = df_result_mouse.reset_index()"
   ]
  },
  {
   "cell_type": "code",
   "execution_count": 395,
   "metadata": {},
   "outputs": [],
   "source": [
    "X_mouse = df_result_mouse[['event_count mouseover/mouseout', 'duration']]\n",
    "Y_mouse = df_result_mouse['siteName']\n",
    "\n",
    "X_mouse = StandardScaler().fit_transform(X_mouse)\n",
    "\n",
    "X_mouse_Train, X_mouse_Test, Y_mouse_Train, Y_mouse_Test = train_test_split(X_mouse, Y_mouse, test_size = 0.30, \n",
    "                                                    random_state = 101)"
   ]
  },
  {
   "cell_type": "code",
   "execution_count": null,
   "metadata": {},
   "outputs": [],
   "source": [
    "X_focus = df_result[['event_count focus/blur', 'duration']]\n",
    "Y_focus = df_result['siteName']\n",
    "\n",
    "X_focus = StandardScaler().fit_transform(X_focus)\n",
    "\n",
    "X_focus_Train, X_focus_Test, Y_focus_Train, Y_focus_Test = train_test_split(X_focus, Y_focus, test_size = 0.30, \n",
    "                                                    random_state = 101)"
   ]
  },
  {
   "cell_type": "code",
   "execution_count": null,
   "metadata": {},
   "outputs": [],
   "source": [
    "#Import Random Forest Model\n",
    "from sklearn.ensemble import RandomForestClassifier\n",
    "\n",
    "# evaluate random forest algorithm for classification\n",
    "from numpy import mean\n",
    "from numpy import std\n",
    "from sklearn.datasets import make_classification\n",
    "from sklearn.model_selection import cross_val_score\n",
    "from sklearn.model_selection import RepeatedStratifiedKFold\n",
    "\n",
    "#Create a Gaussian Classifier\n",
    "forest_focus_model=RandomForestClassifier(n_estimators=1000, random_state=101)\n",
    "\n",
    "#Train the model using the training sets y_pred=clf.predict(X_test)\n",
    "forest_focus_model.fit(X_focus_Train,Y_focus_Train)\n",
    "\n",
    "y_focus_pred=forest_focus_model.predict(X_focus_Test)"
   ]
  },
  {
   "cell_type": "code",
   "execution_count": 393,
   "metadata": {},
   "outputs": [
    {
     "name": "stdout",
     "output_type": "stream",
     "text": [
      "Accuracy: 0.865\n",
      "Precision: 0.850\n",
      "Recall: 0.895\n",
      "Confusion Matrix: [[15  3]\n",
      " [ 2 17]]\n",
      "AUC Score: 0.864\n",
      "MCC Score: 0.730\n",
      "F1 Score: 0.872\n"
     ]
    }
   ],
   "source": [
    "from sklearn.metrics import precision_score, recall_score, f1_score, accuracy_score, matthews_corrcoef, confusion_matrix, roc_auc_score\n",
    "print('Accuracy: %.3f' % accuracy_score(Y_focus_Test, y_focus_pred))\n",
    "print('Precision: %.3f' % precision_score(Y_focus_Test, y_focus_pred))\n",
    "print('Recall: %.3f' % recall_score(Y_focus_Test, y_focus_pred))\n",
    "print('Confusion Matrix:', confusion_matrix(Y_focus_Test, y_focus_pred))\n",
    "print('AUC Score: %.3f' % roc_auc_score(Y_focus_Test, y_focus_pred))\n",
    "print('MCC Score: %.3f' % matthews_corrcoef(Y_focus_Test, y_focus_pred))\n",
    "print('F1 Score: %.3f' % f1_score(Y_focus_Test, y_focus_pred))"
   ]
  },
  {
   "cell_type": "code",
   "execution_count": 396,
   "metadata": {},
   "outputs": [],
   "source": [
    "#Create a Gaussian Classifier\n",
    "forest_mouse_model=RandomForestClassifier(n_estimators=1000, random_state=101)\n",
    "\n",
    "#Train the model using the training sets y_pred=clf.predict(X_test)\n",
    "forest_mouse_model.fit(X_mouse_Train,Y_mouse_Train)\n",
    "\n",
    "y_mouse_pred=forest_mouse_model.predict(X_mouse_Test)"
   ]
  },
  {
   "cell_type": "code",
   "execution_count": 397,
   "metadata": {},
   "outputs": [
    {
     "name": "stdout",
     "output_type": "stream",
     "text": [
      "Accuracy: 0.800\n",
      "Precision: 0.773\n",
      "Recall: 0.850\n",
      "Confusion Matrix: [[15  5]\n",
      " [ 3 17]]\n",
      "AUC Score: 0.800\n",
      "MCC Score: 0.603\n",
      "F1 Score: 0.810\n"
     ]
    }
   ],
   "source": [
    "print('Accuracy: %.3f' % accuracy_score(Y_mouse_Test, y_mouse_pred))\n",
    "print('Precision: %.3f' % precision_score(Y_mouse_Test, y_mouse_pred))\n",
    "print('Recall: %.3f' % recall_score(Y_mouse_Test, y_mouse_pred))\n",
    "print('Confusion Matrix:', confusion_matrix(Y_mouse_Test, y_mouse_pred))\n",
    "print('AUC Score: %.3f' % roc_auc_score(Y_mouse_Test, y_mouse_pred))\n",
    "print('MCC Score: %.3f' % matthews_corrcoef(Y_mouse_Test, y_mouse_pred))\n",
    "print('F1 Score: %.3f' % f1_score(Y_mouse_Test, y_mouse_pred))"
   ]
  }
 ],
 "metadata": {
  "kernelspec": {
   "display_name": "Python 3.8.5 ('base')",
   "language": "python",
   "name": "python3"
  },
  "language_info": {
   "codemirror_mode": {
    "name": "ipython",
    "version": 3
   },
   "file_extension": ".py",
   "mimetype": "text/x-python",
   "name": "python",
   "nbconvert_exporter": "python",
   "pygments_lexer": "ipython3",
   "version": "3.8.5 (default, Sep  4 2020, 02:22:02) \n[Clang 10.0.0 ]"
  },
  "orig_nbformat": 4,
  "vscode": {
   "interpreter": {
    "hash": "72affea882e652da3862626e8de1ded8e3db67911e489535711f40448414c376"
   }
  }
 },
 "nbformat": 4,
 "nbformat_minor": 2
}

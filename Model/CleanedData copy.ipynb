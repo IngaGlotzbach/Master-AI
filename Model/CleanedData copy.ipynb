{
 "cells": [
  {
   "cell_type": "code",
   "execution_count": 138,
   "metadata": {},
   "outputs": [],
   "source": [
    "import numpy as np\n",
    "import matplotlib.pyplot as plt\n",
    "import json\n",
    "import pandas as pd\n",
    "from pandas import read_csv\n",
    "from sklearn.utils import shuffle\n",
    "from datetime import datetime"
   ]
  },
  {
   "cell_type": "code",
   "execution_count": 139,
   "metadata": {},
   "outputs": [],
   "source": [
    "df_einfach = pd.read_pickle('einfach.pkl') \n",
    "df_schwer = pd.read_pickle('schwer.pkl') \n",
    "\n",
    "df_data = pd.concat([df_einfach, df_schwer])\n",
    "df = shuffle(df_data)\n",
    "\n",
    "pd.set_option('display.max_columns', None)\n",
    "pd.set_option('display.max_rows', None)"
   ]
  },
  {
   "cell_type": "code",
   "execution_count": 140,
   "metadata": {},
   "outputs": [
    {
     "name": "stdout",
     "output_type": "stream",
     "text": [
      "[]\n"
     ]
    }
   ],
   "source": [
    "# new sessionId \n",
    "import random\n",
    "from random import choice\n",
    "import collections\n",
    "\n",
    "array_of_ids_einfach = df_einfach['session'].value_counts().index.tolist()\n",
    "array_of_ids_schwer = df_schwer['session'].value_counts().index.tolist()\n",
    "numbers_schwer = []\n",
    "\n",
    "random_numbers_ids_einfach = random.sample(range(101,1000), len(array_of_ids_einfach))\n",
    "for i in range(len(random_numbers_ids_einfach)):\n",
    "    random_numbers_ids_schwer = random.choice([i for i in range(101, 1000) if i not in random_numbers_ids_einfach])\n",
    "    numbers_schwer.append(random_numbers_ids_schwer)\n",
    "\n",
    "numbers = random_numbers_ids_einfach + numbers_schwer\n",
    "\n",
    "df_einfach['session'] = df_einfach['session'].replace(array_of_ids_einfach, random_numbers_ids_einfach)\n",
    "df_schwer['session'] = df_schwer['session'].replace(array_of_ids_schwer, numbers_schwer)\n",
    "\n",
    "print([item for item, count in collections.Counter(numbers).items() if count > 1])"
   ]
  },
  {
   "cell_type": "code",
   "execution_count": 141,
   "metadata": {},
   "outputs": [],
   "source": [
    "df_replaced_together = pd.concat([df_einfach, df_schwer])\n",
    "df_replaced_together['siteName'] = df_replaced_together['siteName'].replace('TestEinfach', 0)\n",
    "df_replaced_together['siteName'] = df_replaced_together['siteName'].replace('TestSchwer', 1)"
   ]
  },
  {
   "cell_type": "markdown",
   "metadata": {},
   "source": [
    "# Hier kommt DataFrame sortiert nach Session"
   ]
  },
  {
   "cell_type": "code",
   "execution_count": 142,
   "metadata": {},
   "outputs": [],
   "source": [
    "df_replaced_together = df_replaced_together.sort_values(by=['session','date'], ascending=[False, True])"
   ]
  },
  {
   "cell_type": "code",
   "execution_count": 143,
   "metadata": {},
   "outputs": [],
   "source": [
    "df_replaced_together['real_date'] = df_replaced_together['date'].astype('datetime64[ns]')\n",
    "#df_replaced_together['real_date'] = (df_replaced_together['real_date'] - df_replaced_together['real_date'].min())  / np.timedelta64(1,'D')\n",
    "df_replaced_together = df_replaced_together.drop(['date', 'clientX', 'clientY', 'sitename', 'key', 'timeStamp'], axis=1)\n",
    "df_replaced_together = df_replaced_together.loc[df_replaced_together[\"type\"] !=\"scroll\"]"
   ]
  },
  {
   "cell_type": "code",
   "execution_count": 144,
   "metadata": {},
   "outputs": [],
   "source": [
    "hey = pd.DataFrame(numbers, columns=[\"session\"])\n",
    "arr1 = []\n",
    "arr2 = []\n",
    "arr3 = []\n",
    "arr4 = []\n",
    "arr5 = []\n",
    "arr6 = []\n",
    "arr7 = []\n",
    "arr8 = []\n",
    "arrDate = []\n",
    "arrHeight = []\n",
    "arrWidth = []\n",
    "arrSiteName = []\n",
    "\n",
    "for i in range(len(numbers)):\n",
    "    new = df_replaced_together.loc[df_replaced_together['session'] == numbers[i]]\n",
    "    #get first and last entry of new dataframe\n",
    "    #first = new['real_date'].iloc[0]\n",
    "    date = (new['real_date'].iloc[-1] - (new['real_date'].iloc[0])).total_seconds()\n",
    "    arrDate.append(date)\n",
    "    height = new['height'].iloc[0]\n",
    "    arrHeight.append(height)\n",
    "    width = new['width'].iloc[0]\n",
    "    arrWidth.append(width)\n",
    "    siteName = new['siteName'].iloc[0]\n",
    "    arrSiteName.append(siteName)\n",
    "    #print(new)\n",
    "    #print(date)\n",
    "    # last = new.iloc[-1]\n",
    "    new2 = (len(new.loc[new['type']=='mouseover']))\n",
    "    arr2.append(new2)\n",
    "    new3 = (len(new.loc[new['type'] =='mouseout']))\n",
    "    arr3.append(new3)\n",
    "    new4 = (len(new.loc[new['type'] =='click']))\n",
    "    arr4.append(new4)\n",
    "    new5 = (len(new.loc[new['type'] =='blur']))\n",
    "    arr5.append(new5)\n",
    "    new6 = (len(new.loc[new['type'] =='focus']))\n",
    "    arr6.append(new6)\n",
    "    new7 = (len(new.loc[new['type'] =='keydown']))\n",
    "    arr7.append(new7)\n",
    "\n",
    "hey['count_mouseover'] = arr2\n",
    "hey['count_mouseout'] = arr3\n",
    "hey['count_click'] = arr4\n",
    "hey['count_blur'] = arr5\n",
    "hey['count_focus'] = arr6\n",
    "hey['count_keydown'] = arr7\n",
    "hey['duration'] = arrDate\n",
    "hey['height'] = arrHeight\n",
    "hey['width'] = arrWidth\n",
    "hey['siteName'] = arrSiteName\n",
    "\n",
    "# for i in range(len(types)):\n",
    "#     hey['type_' + str(types[i])] = arr\n",
    "\n",
    "\n",
    "\n",
    "#hey['duration'] = df_replaced_together['date']\n"
   ]
  },
  {
   "cell_type": "code",
   "execution_count": 145,
   "metadata": {},
   "outputs": [],
   "source": [
    "hey = hey.loc[hey['duration'] < 2000]"
   ]
  },
  {
   "cell_type": "code",
   "execution_count": 146,
   "metadata": {},
   "outputs": [
    {
     "data": {
      "text/html": [
       "<div>\n",
       "<style scoped>\n",
       "    .dataframe tbody tr th:only-of-type {\n",
       "        vertical-align: middle;\n",
       "    }\n",
       "\n",
       "    .dataframe tbody tr th {\n",
       "        vertical-align: top;\n",
       "    }\n",
       "\n",
       "    .dataframe thead th {\n",
       "        text-align: right;\n",
       "    }\n",
       "</style>\n",
       "<table border=\"1\" class=\"dataframe\">\n",
       "  <thead>\n",
       "    <tr style=\"text-align: right;\">\n",
       "      <th></th>\n",
       "      <th>session</th>\n",
       "      <th>count_mouseover</th>\n",
       "      <th>count_mouseout</th>\n",
       "      <th>count_click</th>\n",
       "      <th>count_blur</th>\n",
       "      <th>count_focus</th>\n",
       "      <th>count_keydown</th>\n",
       "      <th>duration</th>\n",
       "      <th>height</th>\n",
       "      <th>width</th>\n",
       "      <th>siteName</th>\n",
       "    </tr>\n",
       "  </thead>\n",
       "  <tbody>\n",
       "    <tr>\n",
       "      <th>0</th>\n",
       "      <td>674</td>\n",
       "      <td>6</td>\n",
       "      <td>6</td>\n",
       "      <td>0</td>\n",
       "      <td>7</td>\n",
       "      <td>7</td>\n",
       "      <td>0</td>\n",
       "      <td>45.545</td>\n",
       "      <td>736</td>\n",
       "      <td>393</td>\n",
       "      <td>0</td>\n",
       "    </tr>\n",
       "    <tr>\n",
       "      <th>1</th>\n",
       "      <td>129</td>\n",
       "      <td>6</td>\n",
       "      <td>6</td>\n",
       "      <td>0</td>\n",
       "      <td>6</td>\n",
       "      <td>6</td>\n",
       "      <td>0</td>\n",
       "      <td>54.128</td>\n",
       "      <td>572</td>\n",
       "      <td>360</td>\n",
       "      <td>0</td>\n",
       "    </tr>\n",
       "    <tr>\n",
       "      <th>2</th>\n",
       "      <td>474</td>\n",
       "      <td>6</td>\n",
       "      <td>6</td>\n",
       "      <td>0</td>\n",
       "      <td>7</td>\n",
       "      <td>7</td>\n",
       "      <td>0</td>\n",
       "      <td>18.090</td>\n",
       "      <td>775</td>\n",
       "      <td>412</td>\n",
       "      <td>0</td>\n",
       "    </tr>\n",
       "    <tr>\n",
       "      <th>3</th>\n",
       "      <td>741</td>\n",
       "      <td>6</td>\n",
       "      <td>6</td>\n",
       "      <td>0</td>\n",
       "      <td>7</td>\n",
       "      <td>7</td>\n",
       "      <td>0</td>\n",
       "      <td>27.660</td>\n",
       "      <td>827</td>\n",
       "      <td>412</td>\n",
       "      <td>0</td>\n",
       "    </tr>\n",
       "    <tr>\n",
       "      <th>4</th>\n",
       "      <td>208</td>\n",
       "      <td>6</td>\n",
       "      <td>6</td>\n",
       "      <td>0</td>\n",
       "      <td>6</td>\n",
       "      <td>6</td>\n",
       "      <td>0</td>\n",
       "      <td>36.191</td>\n",
       "      <td>765</td>\n",
       "      <td>412</td>\n",
       "      <td>0</td>\n",
       "    </tr>\n",
       "  </tbody>\n",
       "</table>\n",
       "</div>"
      ],
      "text/plain": [
       "   session  count_mouseover  count_mouseout  count_click  count_blur  \\\n",
       "0      674                6               6            0           7   \n",
       "1      129                6               6            0           6   \n",
       "2      474                6               6            0           7   \n",
       "3      741                6               6            0           7   \n",
       "4      208                6               6            0           6   \n",
       "\n",
       "   count_focus  count_keydown  duration height width  siteName  \n",
       "0            7              0    45.545    736   393         0  \n",
       "1            6              0    54.128    572   360         0  \n",
       "2            7              0    18.090    775   412         0  \n",
       "3            7              0    27.660    827   412         0  \n",
       "4            6              0    36.191    765   412         0  "
      ]
     },
     "execution_count": 146,
     "metadata": {},
     "output_type": "execute_result"
    }
   ],
   "source": [
    "hey.head()"
   ]
  },
  {
   "cell_type": "code",
   "execution_count": 148,
   "metadata": {},
   "outputs": [],
   "source": [
    "hey.to_pickle('dataSessions.pkl')"
   ]
  }
 ],
 "metadata": {
  "kernelspec": {
   "display_name": "Python 3.8.5 ('base')",
   "language": "python",
   "name": "python3"
  },
  "language_info": {
   "codemirror_mode": {
    "name": "ipython",
    "version": 3
   },
   "file_extension": ".py",
   "mimetype": "text/x-python",
   "name": "python",
   "nbconvert_exporter": "python",
   "pygments_lexer": "ipython3",
   "version": "3.8.5"
  },
  "orig_nbformat": 4,
  "vscode": {
   "interpreter": {
    "hash": "72affea882e652da3862626e8de1ded8e3db67911e489535711f40448414c376"
   }
  }
 },
 "nbformat": 4,
 "nbformat_minor": 2
}

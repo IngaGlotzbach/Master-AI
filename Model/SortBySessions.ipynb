{
 "cells": [
  {
   "cell_type": "code",
   "execution_count": 28,
   "metadata": {},
   "outputs": [],
   "source": [
    "import numpy as np\n",
    "import matplotlib.pyplot as plt\n",
    "import json\n",
    "import pandas as pd\n",
    "from pandas import read_csv\n",
    "from sklearn.utils import shuffle\n",
    "from datetime import datetime"
   ]
  },
  {
   "cell_type": "code",
   "execution_count": 29,
   "metadata": {},
   "outputs": [],
   "source": [
    "df_data = pd.read_pickle('CleanedDataWithIds.pkl') \n",
    "df_data = shuffle(df_data)\n",
    "\n",
    "pd.set_option('display.max_columns', None)\n",
    "pd.set_option('display.max_rows', None)"
   ]
  },
  {
   "cell_type": "markdown",
   "metadata": {},
   "source": [
    "# Hier kommt DataFrame sortiert nach Session"
   ]
  },
  {
   "cell_type": "code",
   "execution_count": 30,
   "metadata": {},
   "outputs": [],
   "source": [
    "df_replaced_together = df_data.sort_values(by=['session','date'], ascending=[False, True])"
   ]
  },
  {
   "cell_type": "code",
   "execution_count": 31,
   "metadata": {},
   "outputs": [],
   "source": [
    "df_replaced_together['real_date'] = df_replaced_together['date'].astype('datetime64[ns]')\n",
    "#df_replaced_together['real_date'] = (df_replaced_together['real_date'] - df_replaced_together['real_date'].min())  / np.timedelta64(1,'D')\n",
    "df_replaced_together = df_replaced_together.drop(['date', 'clientX', 'clientY', 'sitename', 'key', 'timeStamp'], axis=1)\n",
    "df_replaced_together = df_replaced_together.loc[df_replaced_together[\"type\"] !=\"scroll\"]"
   ]
  },
  {
   "cell_type": "code",
   "execution_count": 32,
   "metadata": {},
   "outputs": [],
   "source": [
    "#remove'clickHere', 'buttonYes' 'alibiClick'\n",
    "df_replaced_together = df_replaced_together.loc[~(df_replaced_together['elementId'] =='clickHere')]\n",
    "df_replaced_together = df_replaced_together.loc[~(df_replaced_together['elementId'] =='alibiClick')]\n",
    "df_replaced_together = df_replaced_together.loc[~(df_replaced_together['elementId'] =='buttonYes')]"
   ]
  },
  {
   "cell_type": "code",
   "execution_count": 33,
   "metadata": {},
   "outputs": [
    {
     "name": "stdout",
     "output_type": "stream",
     "text": [
      "[517, 534, 542, 543, 544, 546, 553, 557, 560, 567, 570, 577, 579, 594, 597, 604, 613, 618, 109, 628, 116, 631, 633, 123, 640, 128, 134, 649, 650, 138, 142, 655, 656, 658, 146, 664, 665, 681, 682, 170, 685, 177, 691, 183, 187, 191, 200, 715, 205, 719, 721, 214, 730, 219, 222, 736, 739, 742, 231, 744, 230, 758, 765, 774, 263, 776, 781, 783, 786, 274, 277, 278, 288, 803, 292, 299, 303, 816, 822, 311, 314, 833, 838, 328, 847, 337, 853, 854, 855, 341, 857, 863, 872, 364, 877, 365, 884, 387, 389, 390, 904, 395, 910, 918, 921, 932, 424, 939, 944, 946, 434, 436, 950, 439, 954, 963, 451, 966, 456, 971, 973, 979, 468, 983, 985, 474, 991, 479, 998, 488, 495, 500]\n"
     ]
    }
   ],
   "source": [
    "#get all new id numbers \n",
    "sessionId = df_replaced_together['session']\n",
    "df_replaced_together['is_duplicated'] = df_replaced_together.duplicated('session')\n",
    "#86 ids auf Seite Einfach\n",
    "numbers1 = set(sessionId)\n",
    "numbers = list(numbers1)\n",
    "\n",
    "print(numbers)"
   ]
  },
  {
   "cell_type": "code",
   "execution_count": 34,
   "metadata": {},
   "outputs": [],
   "source": [
    "hey = pd.DataFrame(numbers, columns=[\"session\"])\n",
    "arr1 = []\n",
    "arr2 = []\n",
    "arr3 = []\n",
    "arr4 = []\n",
    "arr5 = []\n",
    "arr6 = []\n",
    "arr7 = []\n",
    "arr8 = []\n",
    "arrDate = []\n",
    "arrHeight = []\n",
    "arrWidth = []\n",
    "arrSiteName = []\n",
    "\n",
    "for i in range(len(numbers)):\n",
    "    new = df_replaced_together.loc[df_replaced_together['session'] == numbers[i]]\n",
    "    #get first and last entry of new dataframe\n",
    "    #first = new['real_date'].iloc[0]\n",
    "    date = (new['real_date'].iloc[-1] - (new['real_date'].iloc[0])).total_seconds()\n",
    "    arrDate.append(date)\n",
    "    height = new['height'].iloc[0]\n",
    "    arrHeight.append(height)\n",
    "    width = new['width'].iloc[0]\n",
    "    arrWidth.append(width)\n",
    "    siteName = new['siteName'].iloc[0]\n",
    "    arrSiteName.append(siteName)\n",
    "    #print(new)\n",
    "    #print(date)\n",
    "    # last = new.iloc[-1]\n",
    "    new2 = (len(new.loc[new['type']=='mouseover']))\n",
    "    arr2.append(new2)\n",
    "    new3 = (len(new.loc[new['type'] =='mouseout']))\n",
    "    arr3.append(new3)\n",
    "    new4 = (len(new.loc[new['type'] =='click']))\n",
    "    arr4.append(new4)\n",
    "    new5 = (len(new.loc[new['type'] =='blur']))\n",
    "    arr5.append(new5)\n",
    "    new6 = (len(new.loc[new['type'] =='focus']))\n",
    "    arr6.append(new6)\n",
    "    new7 = (len(new.loc[new['type'] =='keydown']))\n",
    "    arr7.append(new7)\n",
    "\n",
    "hey['count_mouseover'] = arr2\n",
    "hey['count_mouseout'] = arr3\n",
    "hey['count_click'] = arr4\n",
    "hey['count_blur'] = arr5\n",
    "hey['count_focus'] = arr6\n",
    "hey['count_keydown'] = arr7\n",
    "hey['duration'] = arrDate\n",
    "hey['height'] = arrHeight\n",
    "hey['width'] = arrWidth\n",
    "hey['siteName'] = arrSiteName\n",
    "\n",
    "# for i in range(len(types)):\n",
    "#     hey['type_' + str(types[i])] = arr\n",
    "\n",
    "\n",
    "\n",
    "#hey['duration'] = df_replaced_together['date']\n"
   ]
  },
  {
   "cell_type": "code",
   "execution_count": 48,
   "metadata": {},
   "outputs": [],
   "source": [
    "hey = hey.loc[(hey['duration'] < 2000) & (hey['duration'] > 5) & (hey['count_focus'] >= 1)]"
   ]
  },
  {
   "cell_type": "code",
   "execution_count": 49,
   "metadata": {},
   "outputs": [],
   "source": [
    "hey.to_pickle('SortedBySessions.pkl')"
   ]
  },
  {
   "cell_type": "markdown",
   "metadata": {},
   "source": [
    "Test"
   ]
  },
  {
   "cell_type": "code",
   "execution_count": 38,
   "metadata": {},
   "outputs": [
    {
     "name": "stdout",
     "output_type": "stream",
     "text": [
      "Empty DataFrame\n",
      "Columns: [elementId, type, siteName, clientX, clientY, session, height, width, browser, real_date]\n",
      "Index: []\n"
     ]
    }
   ],
   "source": [
    "#clientX und clientY (rot ist schwer, grün ist einfach)\n",
    "df_replaced_together2 = df_data.sort_values(by=['session','date'], ascending=[False, True])\n",
    "df_replaced_together2['real_date'] = df_replaced_together2['date'].astype('datetime64[ns]')\n",
    "df_replaced_together2 = df_replaced_together2.drop(['date', 'sitename', 'key', 'timeStamp'], axis=1)\n",
    "\n",
    "df_mouseover = df_replaced_together2.loc[df_replaced_together2['type']=='mouseover']\n",
    "df_mouseout = df_replaced_together2.loc[df_replaced_together2['type']=='mouseout']\n",
    "df_mouse = pd.concat([df_mouseover, df_mouseout])\n",
    "\n",
    "\n",
    "pd.set_option('display.max_columns', None)\n",
    "pd.set_option('display.max_rows', None)\n",
    "\n",
    "session = df_mouse.loc[df_mouse['session'] == 926]\n",
    "session = session.sort_values(by=['real_date'], ascending=[True])\n",
    "\n",
    "print(session)\n",
    "\n",
    "# plt.gca().invert_yaxis()\n",
    "\n",
    "# plt.scatter(x_schwer,y_schwer, c='red')\n",
    "# plt.scatter(x_einfach,y_einfach,c='green')"
   ]
  }
 ],
 "metadata": {
  "kernelspec": {
   "display_name": "Python 3.8.5 ('base')",
   "language": "python",
   "name": "python3"
  },
  "language_info": {
   "codemirror_mode": {
    "name": "ipython",
    "version": 3
   },
   "file_extension": ".py",
   "mimetype": "text/x-python",
   "name": "python",
   "nbconvert_exporter": "python",
   "pygments_lexer": "ipython3",
   "version": "3.8.5"
  },
  "orig_nbformat": 4,
  "vscode": {
   "interpreter": {
    "hash": "72affea882e652da3862626e8de1ded8e3db67911e489535711f40448414c376"
   }
  }
 },
 "nbformat": 4,
 "nbformat_minor": 2
}

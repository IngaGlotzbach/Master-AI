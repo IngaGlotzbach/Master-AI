{
 "cells": [
  {
   "cell_type": "code",
   "execution_count": 2,
   "metadata": {},
   "outputs": [
    {
     "name": "stderr",
     "output_type": "stream",
     "text": [
      "/Users/ingaglotzbach/opt/anaconda3/lib/python3.8/site-packages/pandas/core/computation/expressions.py:20: UserWarning: Pandas requires version '2.7.3' or newer of 'numexpr' (version '2.7.1' currently installed).\n",
      "  from pandas.core.computation.check import NUMEXPR_INSTALLED\n"
     ]
    }
   ],
   "source": [
    "import numpy as np\n",
    "import matplotlib.pyplot as plt\n",
    "import json\n",
    "import pandas as pd\n",
    "from pandas import read_csv\n",
    "from sklearn.utils import shuffle\n",
    "from datetime import datetime"
   ]
  },
  {
   "cell_type": "code",
   "execution_count": 3,
   "metadata": {},
   "outputs": [],
   "source": [
    "df_data = pd.read_pickle('CleanedDataWithIds.pkl') \n",
    "df_data = shuffle(df_data)\n",
    "\n",
    "pd.set_option('display.max_columns', None)\n",
    "pd.set_option('display.max_rows', None)"
   ]
  },
  {
   "cell_type": "markdown",
   "metadata": {},
   "source": [
    "# Hier kommt DataFrame sortiert nach Session"
   ]
  },
  {
   "cell_type": "code",
   "execution_count": 4,
   "metadata": {},
   "outputs": [],
   "source": [
    "df_replaced_together = df_data.sort_values(by=['session','date'], ascending=[False, True])"
   ]
  },
  {
   "cell_type": "code",
   "execution_count": 5,
   "metadata": {},
   "outputs": [],
   "source": [
    "#remove'clickHere', 'buttonYes' 'alibiClick'\n",
    "# df_replaced_together = df_replaced_together.loc[~(df_replaced_together['elementId'] =='clickHere')]\n",
    "# df_replaced_together = df_replaced_together.loc[~(df_replaced_together['elementId'] =='alibiClick')]\n",
    "# df_replaced_together = df_replaced_together.loc[~(df_replaced_together['elementId'] =='buttonYes')]"
   ]
  },
  {
   "cell_type": "code",
   "execution_count": 6,
   "metadata": {},
   "outputs": [
    {
     "name": "stdout",
     "output_type": "stream",
     "text": [
      "[515, 519, 524, 528, 554, 569, 571, 573, 574, 579, 583, 594, 595, 605, 608, 102, 618, 110, 623, 112, 626, 116, 120, 633, 634, 127, 640, 136, 650, 138, 141, 144, 657, 660, 157, 158, 161, 680, 691, 695, 698, 701, 190, 703, 194, 196, 199, 201, 205, 211, 728, 226, 227, 743, 749, 239, 242, 243, 245, 758, 759, 253, 254, 260, 782, 783, 273, 279, 797, 798, 286, 288, 285, 802, 290, 297, 813, 823, 313, 314, 833, 324, 837, 845, 338, 851, 852, 345, 867, 869, 359, 360, 368, 371, 889, 891, 896, 384, 898, 388, 389, 905, 395, 398, 408, 921, 922, 413, 927, 929, 419, 934, 423, 940, 428, 949, 438, 439, 440, 960, 454, 457, 461, 976, 472, 992, 480, 994, 995, 483, 504, 510]\n"
     ]
    }
   ],
   "source": [
    "#get all new id numbers \n",
    "sessionId = df_replaced_together['session']\n",
    "df_replaced_together['is_duplicated'] = df_replaced_together.duplicated('session')\n",
    "#86 ids auf Seite Einfach\n",
    "numbers1 = set(sessionId)\n",
    "numbers = list(numbers1)\n",
    "\n",
    "print(numbers)"
   ]
  },
  {
   "cell_type": "code",
   "execution_count": 7,
   "metadata": {},
   "outputs": [],
   "source": [
    "hey = pd.DataFrame(numbers, columns=[\"session\"])\n",
    "arr1 = []\n",
    "arr2 = []\n",
    "arr3 = []\n",
    "arr4 = []\n",
    "arr5 = []\n",
    "arr6 = []\n",
    "arr7 = []\n",
    "arr8 = []\n",
    "arrDate = []\n",
    "arrHeight = []\n",
    "arrWidth = []\n",
    "arrSiteName = []\n",
    "arrClientX = []\n",
    "arrClientY = []\n",
    "arrCount = []\n",
    "\n",
    "for i in range(len(numbers)):\n",
    "    new = df_replaced_together.loc[df_replaced_together['session'] == numbers[i]]\n",
    "    #get first and last entry of new dataframe\n",
    "    #first = new['real_date'].iloc[0]\n",
    "    date = (new['date'].iloc[-1] - (new['date'].iloc[0])).total_seconds()\n",
    "    arrDate.append(date)\n",
    "    height = new['height'].iloc[0]\n",
    "    arrHeight.append(height)\n",
    "    width = new['width'].iloc[0]\n",
    "    arrWidth.append(width)\n",
    "    siteName = new['siteName'].iloc[0]\n",
    "    arrSiteName.append(siteName)\n",
    "    clientX = new['clientX'].iloc[0]\n",
    "    arrClientX.append(clientX)\n",
    "    clientY = new['clientY'].iloc[0]\n",
    "    arrClientY.append(clientY)\n",
    "    #print(new)\n",
    "    #print(date)\n",
    "    # last = new.iloc[-1]\n",
    "    new2 = (len(new.loc[new['type']=='mouseover']))\n",
    "    arr2.append(new2)\n",
    "    new3 = (len(new.loc[new['type'] =='mouseout']))\n",
    "    arr3.append(new3)\n",
    "    new4 = (len(new.loc[new['type'] =='click']))\n",
    "    arr4.append(new4)\n",
    "    new5 = (len(new.loc[new['type'] =='blur']))\n",
    "    arr5.append(new5)\n",
    "    new6 = (len(new.loc[new['type'] =='focus']))\n",
    "    arr6.append(new6)\n",
    "    new7 = (len(new.loc[new['type'] =='keydown']))\n",
    "    arr7.append(new7)\n",
    "    counted = new2 + new3 + new4 + new5 + new6 + new7\n",
    "    count = arrCount.append(counted)\n",
    "\n",
    "hey['count_mouseover'] = arr2\n",
    "hey['count_mouseout'] = arr3\n",
    "hey['count_click'] = arr4\n",
    "hey['count_blur'] = arr5\n",
    "hey['count_focus'] = arr6\n",
    "hey['count_keydown'] = arr7\n",
    "hey['count_all'] = arrCount\n",
    "hey['duration'] = arrDate\n",
    "hey['height'] = arrHeight\n",
    "hey['width'] = arrWidth\n",
    "hey['siteName'] = arrSiteName\n",
    "hey['clientX'] = arrClientX\n",
    "hey['clientY'] = arrClientY\n",
    "\n",
    "# for i in range(len(types)):\n",
    "#     hey['type_' + str(types[i])] = arr\n",
    "\n",
    "\n",
    "\n",
    "#hey['duration'] = df_replaced_together['date']\n"
   ]
  },
  {
   "cell_type": "code",
   "execution_count": 8,
   "metadata": {},
   "outputs": [],
   "source": [
    "hey = hey.loc[(hey['duration'] < 2000) & (hey['duration'] > 5) & (hey['count_focus'] >= 1)]"
   ]
  },
  {
   "cell_type": "code",
   "execution_count": 9,
   "metadata": {},
   "outputs": [
    {
     "data": {
      "text/html": [
       "<div>\n",
       "<style scoped>\n",
       "    .dataframe tbody tr th:only-of-type {\n",
       "        vertical-align: middle;\n",
       "    }\n",
       "\n",
       "    .dataframe tbody tr th {\n",
       "        vertical-align: top;\n",
       "    }\n",
       "\n",
       "    .dataframe thead th {\n",
       "        text-align: right;\n",
       "    }\n",
       "</style>\n",
       "<table border=\"1\" class=\"dataframe\">\n",
       "  <thead>\n",
       "    <tr style=\"text-align: right;\">\n",
       "      <th></th>\n",
       "      <th>session</th>\n",
       "      <th>count_mouseover</th>\n",
       "      <th>count_mouseout</th>\n",
       "      <th>count_click</th>\n",
       "      <th>count_blur</th>\n",
       "      <th>count_focus</th>\n",
       "      <th>count_keydown</th>\n",
       "      <th>count_all</th>\n",
       "      <th>duration</th>\n",
       "      <th>height</th>\n",
       "      <th>width</th>\n",
       "      <th>siteName</th>\n",
       "      <th>clientX</th>\n",
       "      <th>clientY</th>\n",
       "    </tr>\n",
       "  </thead>\n",
       "  <tbody>\n",
       "    <tr>\n",
       "      <th>0</th>\n",
       "      <td>515</td>\n",
       "      <td>32</td>\n",
       "      <td>32</td>\n",
       "      <td>14</td>\n",
       "      <td>26</td>\n",
       "      <td>28</td>\n",
       "      <td>27</td>\n",
       "      <td>159</td>\n",
       "      <td>136.831</td>\n",
       "      <td>1312.0</td>\n",
       "      <td>1479.0</td>\n",
       "      <td>1</td>\n",
       "      <td>359.0</td>\n",
       "      <td>320.0</td>\n",
       "    </tr>\n",
       "    <tr>\n",
       "      <th>1</th>\n",
       "      <td>519</td>\n",
       "      <td>1</td>\n",
       "      <td>0</td>\n",
       "      <td>0</td>\n",
       "      <td>1</td>\n",
       "      <td>1</td>\n",
       "      <td>0</td>\n",
       "      <td>3</td>\n",
       "      <td>33.249</td>\n",
       "      <td>669.0</td>\n",
       "      <td>390.0</td>\n",
       "      <td>1</td>\n",
       "      <td>266.0</td>\n",
       "      <td>282.0</td>\n",
       "    </tr>\n",
       "    <tr>\n",
       "      <th>2</th>\n",
       "      <td>524</td>\n",
       "      <td>42</td>\n",
       "      <td>42</td>\n",
       "      <td>8</td>\n",
       "      <td>17</td>\n",
       "      <td>16</td>\n",
       "      <td>5</td>\n",
       "      <td>130</td>\n",
       "      <td>230.175</td>\n",
       "      <td>878.0</td>\n",
       "      <td>1920.0</td>\n",
       "      <td>1</td>\n",
       "      <td>674.0</td>\n",
       "      <td>468.0</td>\n",
       "    </tr>\n",
       "    <tr>\n",
       "      <th>3</th>\n",
       "      <td>528</td>\n",
       "      <td>4</td>\n",
       "      <td>3</td>\n",
       "      <td>0</td>\n",
       "      <td>6</td>\n",
       "      <td>6</td>\n",
       "      <td>0</td>\n",
       "      <td>19</td>\n",
       "      <td>20.563</td>\n",
       "      <td>1217.0</td>\n",
       "      <td>1440.0</td>\n",
       "      <td>0</td>\n",
       "      <td>397.0</td>\n",
       "      <td>469.0</td>\n",
       "    </tr>\n",
       "    <tr>\n",
       "      <th>4</th>\n",
       "      <td>554</td>\n",
       "      <td>6</td>\n",
       "      <td>6</td>\n",
       "      <td>0</td>\n",
       "      <td>6</td>\n",
       "      <td>6</td>\n",
       "      <td>0</td>\n",
       "      <td>24</td>\n",
       "      <td>17.076</td>\n",
       "      <td>715.0</td>\n",
       "      <td>414.0</td>\n",
       "      <td>0</td>\n",
       "      <td>346.0</td>\n",
       "      <td>301.0</td>\n",
       "    </tr>\n",
       "  </tbody>\n",
       "</table>\n",
       "</div>"
      ],
      "text/plain": [
       "   session  count_mouseover  count_mouseout  count_click  count_blur  \\\n",
       "0      515               32              32           14          26   \n",
       "1      519                1               0            0           1   \n",
       "2      524               42              42            8          17   \n",
       "3      528                4               3            0           6   \n",
       "4      554                6               6            0           6   \n",
       "\n",
       "   count_focus  count_keydown  count_all  duration  height   width  siteName  \\\n",
       "0           28             27        159   136.831  1312.0  1479.0         1   \n",
       "1            1              0          3    33.249   669.0   390.0         1   \n",
       "2           16              5        130   230.175   878.0  1920.0         1   \n",
       "3            6              0         19    20.563  1217.0  1440.0         0   \n",
       "4            6              0         24    17.076   715.0   414.0         0   \n",
       "\n",
       "   clientX  clientY  \n",
       "0    359.0    320.0  \n",
       "1    266.0    282.0  \n",
       "2    674.0    468.0  \n",
       "3    397.0    469.0  \n",
       "4    346.0    301.0  "
      ]
     },
     "execution_count": 9,
     "metadata": {},
     "output_type": "execute_result"
    }
   ],
   "source": [
    "hey.head()"
   ]
  },
  {
   "cell_type": "code",
   "execution_count": 10,
   "metadata": {},
   "outputs": [],
   "source": [
    "hey.to_pickle('SortedBySessions2.pkl')"
   ]
  },
  {
   "cell_type": "markdown",
   "metadata": {},
   "source": [
    "Test"
   ]
  },
  {
   "cell_type": "code",
   "execution_count": 11,
   "metadata": {},
   "outputs": [
    {
     "ename": "KeyError",
     "evalue": "\"['sitename', 'key'] not found in axis\"",
     "output_type": "error",
     "traceback": [
      "\u001b[0;31m---------------------------------------------------------------------------\u001b[0m",
      "\u001b[0;31mKeyError\u001b[0m                                  Traceback (most recent call last)",
      "\u001b[0;32m<ipython-input-11-c5fa56d8cb27>\u001b[0m in \u001b[0;36m<module>\u001b[0;34m\u001b[0m\n\u001b[1;32m      2\u001b[0m \u001b[0mdf_replaced_together2\u001b[0m \u001b[0;34m=\u001b[0m \u001b[0mdf_data\u001b[0m\u001b[0;34m.\u001b[0m\u001b[0msort_values\u001b[0m\u001b[0;34m(\u001b[0m\u001b[0mby\u001b[0m\u001b[0;34m=\u001b[0m\u001b[0;34m[\u001b[0m\u001b[0;34m'session'\u001b[0m\u001b[0;34m,\u001b[0m\u001b[0;34m'date'\u001b[0m\u001b[0;34m]\u001b[0m\u001b[0;34m,\u001b[0m \u001b[0mascending\u001b[0m\u001b[0;34m=\u001b[0m\u001b[0;34m[\u001b[0m\u001b[0;32mFalse\u001b[0m\u001b[0;34m,\u001b[0m \u001b[0;32mTrue\u001b[0m\u001b[0;34m]\u001b[0m\u001b[0;34m)\u001b[0m\u001b[0;34m\u001b[0m\u001b[0;34m\u001b[0m\u001b[0m\n\u001b[1;32m      3\u001b[0m \u001b[0mdf_replaced_together2\u001b[0m\u001b[0;34m[\u001b[0m\u001b[0;34m'real_date'\u001b[0m\u001b[0;34m]\u001b[0m \u001b[0;34m=\u001b[0m \u001b[0mdf_replaced_together2\u001b[0m\u001b[0;34m[\u001b[0m\u001b[0;34m'date'\u001b[0m\u001b[0;34m]\u001b[0m\u001b[0;34m.\u001b[0m\u001b[0mastype\u001b[0m\u001b[0;34m(\u001b[0m\u001b[0;34m'datetime64[ns]'\u001b[0m\u001b[0;34m)\u001b[0m\u001b[0;34m\u001b[0m\u001b[0;34m\u001b[0m\u001b[0m\n\u001b[0;32m----> 4\u001b[0;31m \u001b[0mdf_replaced_together2\u001b[0m \u001b[0;34m=\u001b[0m \u001b[0mdf_replaced_together2\u001b[0m\u001b[0;34m.\u001b[0m\u001b[0mdrop\u001b[0m\u001b[0;34m(\u001b[0m\u001b[0;34m[\u001b[0m\u001b[0;34m'date'\u001b[0m\u001b[0;34m,\u001b[0m \u001b[0;34m'sitename'\u001b[0m\u001b[0;34m,\u001b[0m \u001b[0;34m'key'\u001b[0m\u001b[0;34m,\u001b[0m \u001b[0;34m'timeStamp'\u001b[0m\u001b[0;34m]\u001b[0m\u001b[0;34m,\u001b[0m \u001b[0maxis\u001b[0m\u001b[0;34m=\u001b[0m\u001b[0;36m1\u001b[0m\u001b[0;34m)\u001b[0m\u001b[0;34m\u001b[0m\u001b[0;34m\u001b[0m\u001b[0m\n\u001b[0m\u001b[1;32m      5\u001b[0m \u001b[0;34m\u001b[0m\u001b[0m\n\u001b[1;32m      6\u001b[0m \u001b[0mdf_mouseover\u001b[0m \u001b[0;34m=\u001b[0m \u001b[0mdf_replaced_together2\u001b[0m\u001b[0;34m.\u001b[0m\u001b[0mloc\u001b[0m\u001b[0;34m[\u001b[0m\u001b[0mdf_replaced_together2\u001b[0m\u001b[0;34m[\u001b[0m\u001b[0;34m'type'\u001b[0m\u001b[0;34m]\u001b[0m\u001b[0;34m==\u001b[0m\u001b[0;34m'mouseover'\u001b[0m\u001b[0;34m]\u001b[0m\u001b[0;34m\u001b[0m\u001b[0;34m\u001b[0m\u001b[0m\n",
      "\u001b[0;32m~/opt/anaconda3/lib/python3.8/site-packages/pandas/util/_decorators.py\u001b[0m in \u001b[0;36mwrapper\u001b[0;34m(*args, **kwargs)\u001b[0m\n\u001b[1;32m    329\u001b[0m                     \u001b[0mstacklevel\u001b[0m\u001b[0;34m=\u001b[0m\u001b[0mfind_stack_level\u001b[0m\u001b[0;34m(\u001b[0m\u001b[0;34m)\u001b[0m\u001b[0;34m,\u001b[0m\u001b[0;34m\u001b[0m\u001b[0;34m\u001b[0m\u001b[0m\n\u001b[1;32m    330\u001b[0m                 )\n\u001b[0;32m--> 331\u001b[0;31m             \u001b[0;32mreturn\u001b[0m \u001b[0mfunc\u001b[0m\u001b[0;34m(\u001b[0m\u001b[0;34m*\u001b[0m\u001b[0margs\u001b[0m\u001b[0;34m,\u001b[0m \u001b[0;34m**\u001b[0m\u001b[0mkwargs\u001b[0m\u001b[0;34m)\u001b[0m\u001b[0;34m\u001b[0m\u001b[0;34m\u001b[0m\u001b[0m\n\u001b[0m\u001b[1;32m    332\u001b[0m \u001b[0;34m\u001b[0m\u001b[0m\n\u001b[1;32m    333\u001b[0m         \u001b[0;31m# error: \"Callable[[VarArg(Any), KwArg(Any)], Any]\" has no\u001b[0m\u001b[0;34m\u001b[0m\u001b[0;34m\u001b[0m\u001b[0;34m\u001b[0m\u001b[0m\n",
      "\u001b[0;32m~/opt/anaconda3/lib/python3.8/site-packages/pandas/core/frame.py\u001b[0m in \u001b[0;36mdrop\u001b[0;34m(self, labels, axis, index, columns, level, inplace, errors)\u001b[0m\n\u001b[1;32m   5394\u001b[0m                 \u001b[0mweight\u001b[0m  \u001b[0;36m1.0\u001b[0m     \u001b[0;36m0.8\u001b[0m\u001b[0;34m\u001b[0m\u001b[0;34m\u001b[0m\u001b[0m\n\u001b[1;32m   5395\u001b[0m         \"\"\"\n\u001b[0;32m-> 5396\u001b[0;31m         return super().drop(\n\u001b[0m\u001b[1;32m   5397\u001b[0m             \u001b[0mlabels\u001b[0m\u001b[0;34m=\u001b[0m\u001b[0mlabels\u001b[0m\u001b[0;34m,\u001b[0m\u001b[0;34m\u001b[0m\u001b[0;34m\u001b[0m\u001b[0m\n\u001b[1;32m   5398\u001b[0m             \u001b[0maxis\u001b[0m\u001b[0;34m=\u001b[0m\u001b[0maxis\u001b[0m\u001b[0;34m,\u001b[0m\u001b[0;34m\u001b[0m\u001b[0;34m\u001b[0m\u001b[0m\n",
      "\u001b[0;32m~/opt/anaconda3/lib/python3.8/site-packages/pandas/util/_decorators.py\u001b[0m in \u001b[0;36mwrapper\u001b[0;34m(*args, **kwargs)\u001b[0m\n\u001b[1;32m    329\u001b[0m                     \u001b[0mstacklevel\u001b[0m\u001b[0;34m=\u001b[0m\u001b[0mfind_stack_level\u001b[0m\u001b[0;34m(\u001b[0m\u001b[0;34m)\u001b[0m\u001b[0;34m,\u001b[0m\u001b[0;34m\u001b[0m\u001b[0;34m\u001b[0m\u001b[0m\n\u001b[1;32m    330\u001b[0m                 )\n\u001b[0;32m--> 331\u001b[0;31m             \u001b[0;32mreturn\u001b[0m \u001b[0mfunc\u001b[0m\u001b[0;34m(\u001b[0m\u001b[0;34m*\u001b[0m\u001b[0margs\u001b[0m\u001b[0;34m,\u001b[0m \u001b[0;34m**\u001b[0m\u001b[0mkwargs\u001b[0m\u001b[0;34m)\u001b[0m\u001b[0;34m\u001b[0m\u001b[0;34m\u001b[0m\u001b[0m\n\u001b[0m\u001b[1;32m    332\u001b[0m \u001b[0;34m\u001b[0m\u001b[0m\n\u001b[1;32m    333\u001b[0m         \u001b[0;31m# error: \"Callable[[VarArg(Any), KwArg(Any)], Any]\" has no\u001b[0m\u001b[0;34m\u001b[0m\u001b[0;34m\u001b[0m\u001b[0;34m\u001b[0m\u001b[0m\n",
      "\u001b[0;32m~/opt/anaconda3/lib/python3.8/site-packages/pandas/core/generic.py\u001b[0m in \u001b[0;36mdrop\u001b[0;34m(self, labels, axis, index, columns, level, inplace, errors)\u001b[0m\n\u001b[1;32m   4503\u001b[0m         \u001b[0;32mfor\u001b[0m \u001b[0maxis\u001b[0m\u001b[0;34m,\u001b[0m \u001b[0mlabels\u001b[0m \u001b[0;32min\u001b[0m \u001b[0maxes\u001b[0m\u001b[0;34m.\u001b[0m\u001b[0mitems\u001b[0m\u001b[0;34m(\u001b[0m\u001b[0;34m)\u001b[0m\u001b[0;34m:\u001b[0m\u001b[0;34m\u001b[0m\u001b[0;34m\u001b[0m\u001b[0m\n\u001b[1;32m   4504\u001b[0m             \u001b[0;32mif\u001b[0m \u001b[0mlabels\u001b[0m \u001b[0;32mis\u001b[0m \u001b[0;32mnot\u001b[0m \u001b[0;32mNone\u001b[0m\u001b[0;34m:\u001b[0m\u001b[0;34m\u001b[0m\u001b[0;34m\u001b[0m\u001b[0m\n\u001b[0;32m-> 4505\u001b[0;31m                 \u001b[0mobj\u001b[0m \u001b[0;34m=\u001b[0m \u001b[0mobj\u001b[0m\u001b[0;34m.\u001b[0m\u001b[0m_drop_axis\u001b[0m\u001b[0;34m(\u001b[0m\u001b[0mlabels\u001b[0m\u001b[0;34m,\u001b[0m \u001b[0maxis\u001b[0m\u001b[0;34m,\u001b[0m \u001b[0mlevel\u001b[0m\u001b[0;34m=\u001b[0m\u001b[0mlevel\u001b[0m\u001b[0;34m,\u001b[0m \u001b[0merrors\u001b[0m\u001b[0;34m=\u001b[0m\u001b[0merrors\u001b[0m\u001b[0;34m)\u001b[0m\u001b[0;34m\u001b[0m\u001b[0;34m\u001b[0m\u001b[0m\n\u001b[0m\u001b[1;32m   4506\u001b[0m \u001b[0;34m\u001b[0m\u001b[0m\n\u001b[1;32m   4507\u001b[0m         \u001b[0;32mif\u001b[0m \u001b[0minplace\u001b[0m\u001b[0;34m:\u001b[0m\u001b[0;34m\u001b[0m\u001b[0;34m\u001b[0m\u001b[0m\n",
      "\u001b[0;32m~/opt/anaconda3/lib/python3.8/site-packages/pandas/core/generic.py\u001b[0m in \u001b[0;36m_drop_axis\u001b[0;34m(self, labels, axis, level, errors, only_slice)\u001b[0m\n\u001b[1;32m   4544\u001b[0m                 \u001b[0mnew_axis\u001b[0m \u001b[0;34m=\u001b[0m \u001b[0maxis\u001b[0m\u001b[0;34m.\u001b[0m\u001b[0mdrop\u001b[0m\u001b[0;34m(\u001b[0m\u001b[0mlabels\u001b[0m\u001b[0;34m,\u001b[0m \u001b[0mlevel\u001b[0m\u001b[0;34m=\u001b[0m\u001b[0mlevel\u001b[0m\u001b[0;34m,\u001b[0m \u001b[0merrors\u001b[0m\u001b[0;34m=\u001b[0m\u001b[0merrors\u001b[0m\u001b[0;34m)\u001b[0m\u001b[0;34m\u001b[0m\u001b[0;34m\u001b[0m\u001b[0m\n\u001b[1;32m   4545\u001b[0m             \u001b[0;32melse\u001b[0m\u001b[0;34m:\u001b[0m\u001b[0;34m\u001b[0m\u001b[0;34m\u001b[0m\u001b[0m\n\u001b[0;32m-> 4546\u001b[0;31m                 \u001b[0mnew_axis\u001b[0m \u001b[0;34m=\u001b[0m \u001b[0maxis\u001b[0m\u001b[0;34m.\u001b[0m\u001b[0mdrop\u001b[0m\u001b[0;34m(\u001b[0m\u001b[0mlabels\u001b[0m\u001b[0;34m,\u001b[0m \u001b[0merrors\u001b[0m\u001b[0;34m=\u001b[0m\u001b[0merrors\u001b[0m\u001b[0;34m)\u001b[0m\u001b[0;34m\u001b[0m\u001b[0;34m\u001b[0m\u001b[0m\n\u001b[0m\u001b[1;32m   4547\u001b[0m             \u001b[0mindexer\u001b[0m \u001b[0;34m=\u001b[0m \u001b[0maxis\u001b[0m\u001b[0;34m.\u001b[0m\u001b[0mget_indexer\u001b[0m\u001b[0;34m(\u001b[0m\u001b[0mnew_axis\u001b[0m\u001b[0;34m)\u001b[0m\u001b[0;34m\u001b[0m\u001b[0;34m\u001b[0m\u001b[0m\n\u001b[1;32m   4548\u001b[0m \u001b[0;34m\u001b[0m\u001b[0m\n",
      "\u001b[0;32m~/opt/anaconda3/lib/python3.8/site-packages/pandas/core/indexes/base.py\u001b[0m in \u001b[0;36mdrop\u001b[0;34m(self, labels, errors)\u001b[0m\n\u001b[1;32m   6975\u001b[0m         \u001b[0;32mif\u001b[0m \u001b[0mmask\u001b[0m\u001b[0;34m.\u001b[0m\u001b[0many\u001b[0m\u001b[0;34m(\u001b[0m\u001b[0;34m)\u001b[0m\u001b[0;34m:\u001b[0m\u001b[0;34m\u001b[0m\u001b[0;34m\u001b[0m\u001b[0m\n\u001b[1;32m   6976\u001b[0m             \u001b[0;32mif\u001b[0m \u001b[0merrors\u001b[0m \u001b[0;34m!=\u001b[0m \u001b[0;34m\"ignore\"\u001b[0m\u001b[0;34m:\u001b[0m\u001b[0;34m\u001b[0m\u001b[0;34m\u001b[0m\u001b[0m\n\u001b[0;32m-> 6977\u001b[0;31m                 \u001b[0;32mraise\u001b[0m \u001b[0mKeyError\u001b[0m\u001b[0;34m(\u001b[0m\u001b[0;34mf\"{list(labels[mask])} not found in axis\"\u001b[0m\u001b[0;34m)\u001b[0m\u001b[0;34m\u001b[0m\u001b[0;34m\u001b[0m\u001b[0m\n\u001b[0m\u001b[1;32m   6978\u001b[0m             \u001b[0mindexer\u001b[0m \u001b[0;34m=\u001b[0m \u001b[0mindexer\u001b[0m\u001b[0;34m[\u001b[0m\u001b[0;34m~\u001b[0m\u001b[0mmask\u001b[0m\u001b[0;34m]\u001b[0m\u001b[0;34m\u001b[0m\u001b[0;34m\u001b[0m\u001b[0m\n\u001b[1;32m   6979\u001b[0m         \u001b[0;32mreturn\u001b[0m \u001b[0mself\u001b[0m\u001b[0;34m.\u001b[0m\u001b[0mdelete\u001b[0m\u001b[0;34m(\u001b[0m\u001b[0mindexer\u001b[0m\u001b[0;34m)\u001b[0m\u001b[0;34m\u001b[0m\u001b[0;34m\u001b[0m\u001b[0m\n",
      "\u001b[0;31mKeyError\u001b[0m: \"['sitename', 'key'] not found in axis\""
     ]
    }
   ],
   "source": [
    "#clientX und clientY (rot ist schwer, grün ist einfach)\n",
    "df_replaced_together2 = df_data.sort_values(by=['session','date'], ascending=[False, True])\n",
    "df_replaced_together2['real_date'] = df_replaced_together2['date'].astype('datetime64[ns]')\n",
    "df_replaced_together2 = df_replaced_together2.drop(['date', 'sitename', 'key', 'timeStamp'], axis=1)\n",
    "\n",
    "df_mouseover = df_replaced_together2.loc[df_replaced_together2['type']=='mouseover']\n",
    "df_mouseout = df_replaced_together2.loc[df_replaced_together2['type']=='mouseout']\n",
    "df_mouse = pd.concat([df_mouseover, df_mouseout])\n",
    "\n",
    "\n",
    "pd.set_option('display.max_columns', None)\n",
    "pd.set_option('display.max_rows', None)\n",
    "\n",
    "session = df_mouse.loc[df_mouse['session'] == 926]\n",
    "session = session.sort_values(by=['real_date'], ascending=[True])\n",
    "\n",
    "print(session)\n",
    "\n",
    "# plt.gca().invert_yaxis()\n",
    "\n",
    "# plt.scatter(x_schwer,y_schwer, c='red')\n",
    "# plt.scatter(x_einfach,y_einfach,c='green')"
   ]
  }
 ],
 "metadata": {
  "kernelspec": {
   "display_name": "Python 3.8.5 ('base')",
   "language": "python",
   "name": "python3"
  },
  "language_info": {
   "codemirror_mode": {
    "name": "ipython",
    "version": 3
   },
   "file_extension": ".py",
   "mimetype": "text/x-python",
   "name": "python",
   "nbconvert_exporter": "python",
   "pygments_lexer": "ipython3",
   "version": "3.8.5 (default, Sep  4 2020, 02:22:02) \n[Clang 10.0.0 ]"
  },
  "orig_nbformat": 4,
  "vscode": {
   "interpreter": {
    "hash": "72affea882e652da3862626e8de1ded8e3db67911e489535711f40448414c376"
   }
  }
 },
 "nbformat": 4,
 "nbformat_minor": 2
}

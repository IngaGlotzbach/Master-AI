{
 "cells": [
  {
   "cell_type": "code",
   "execution_count": 93,
   "metadata": {},
   "outputs": [],
   "source": [
    "## for data\n",
    "import pandas as pd\n",
    "import numpy as np\n",
    "## for plotting\n",
    "import matplotlib.pyplot as plt\n",
    "import seaborn as sns\n",
    "## for statistical tests\n",
    "import scipy\n",
    "import statsmodels.formula.api as smf\n",
    "import statsmodels.api as sm\n",
    "## for machine learning\n",
    "from sklearn import model_selection, preprocessing, feature_selection, ensemble, linear_model, metrics, decomposition\n",
    "## for explainer\n",
    "from lime import lime_tabular\n",
    "import json"
   ]
  },
  {
   "cell_type": "code",
   "execution_count": 94,
   "metadata": {},
   "outputs": [],
   "source": [
    "## for statistical tests\n",
    "import scipy\n",
    "import statsmodels.formula.api as smf\n",
    "import statsmodels.api as sm\n",
    "## for machine learning\n",
    "from sklearn import model_selection, preprocessing, feature_selection, ensemble, linear_model, metrics, decomposition\n",
    "## for explainer\n",
    "from lime import lime_tabular\n",
    "import json"
   ]
  },
  {
   "cell_type": "code",
   "execution_count": 95,
   "metadata": {},
   "outputs": [],
   "source": [
    "with open('testEinfach1.json') as einfachJson:\n",
    "    json_einfach_for_einfachData = json.load(einfachJson)\n",
    "\n",
    "#das sind alle Events mit Element id von einfach\n",
    "reduzed_json_einfach_for_einfachData = []\n",
    "\n",
    "#das sind alle Events mit Element id von einfach\n",
    "for index, item in enumerate(json_einfach_for_einfachData):\n",
    "    elementId = item.get('elementId')\n",
    "    if (elementId == 'inputCountry' or elementId == 'inputHouse' or elementId ==  'inputPet' or elementId ==  'inputHand' or elementId ==  'inputBundesland' or elementId == 'inputEasyQuestion' or (elementId == 'window' and item.get('siteName') == 'TestEinfach')):\n",
    "        reduzed_json_einfach_for_einfachData.append(item)"
   ]
  },
  {
   "cell_type": "code",
   "execution_count": 96,
   "metadata": {},
   "outputs": [],
   "source": [
    "with open('testEinfach1.json') as einfachJson:\n",
    "    json_einfach_for_missing_keys = json.load(einfachJson)\n",
    "\n",
    "#array mit allen Events die property key haben in TestEinfach\n",
    "array_with_keys_from_einfach = []\n",
    "\n",
    "#get all events with key \n",
    "for index, item in enumerate(json_einfach_for_missing_keys):\n",
    "    if(item.get('key')):\n",
    "        array_with_keys_from_einfach.append(item)\n",
    "\n",
    "#array mit allen Events die jetzt richtig zugeteilt wurden zu TestSchwer\n",
    "items_with_correct_keys = []\n",
    "\n",
    "#get all events which are actually in TestSchwer\n",
    "for index, item in enumerate(array_with_keys_from_einfach):\n",
    "    elementId = item.get('elementId')\n",
    "    if(elementId == 'inputHobby' or elementId =='inputCancelor' or elementId =='inputTemperature' or elementId =='inputDays' or elementId =='inputRivers' or elementId =='inputDifficultQuestion'):\n",
    "        item['siteName'] = 'TestSchwer'\n",
    "        items_with_correct_keys.append(item)"
   ]
  },
  {
   "cell_type": "code",
   "execution_count": 97,
   "metadata": {},
   "outputs": [],
   "source": [
    "with open('testSchwer1.json') as schwerJson: \n",
    "    json_schwer = json.load(schwerJson)\n",
    "\n",
    "#richtige schwer Events + array mit allen Events die jetzt richtig zugeteilt wurden zu TestSchwer\n",
    "extended_json_schwer = json_schwer + items_with_correct_keys"
   ]
  },
  {
   "cell_type": "code",
   "execution_count": 98,
   "metadata": {},
   "outputs": [],
   "source": [
    "from sklearn.utils import shuffle\n",
    "\n",
    "df_schwer = pd.DataFrame(extended_json_schwer)\n",
    "df_einfach = pd.DataFrame(reduzed_json_einfach_for_einfachData)"
   ]
  },
  {
   "cell_type": "code",
   "execution_count": 99,
   "metadata": {},
   "outputs": [],
   "source": [
    "# ohne 'key' Spalte\n",
    "df_schwer_without_key = df_schwer.drop(['key'], axis=1)\n",
    "#6470 Events ohne scroll\n",
    "df_schwer_without_scroll = df_schwer_without_key.loc[df_schwer_without_key[\"type\"] !=\"scroll\"]\n",
    "\n",
    "df_einfach_without_key = df_einfach.drop(['key'], axis=1)\n",
    "#1679 Events ohne scroll\n",
    "df_einfach_without_scroll = df_einfach_without_key.loc[df_einfach_without_key[\"type\"] !=\"scroll\"]"
   ]
  },
  {
   "cell_type": "code",
   "execution_count": 100,
   "metadata": {},
   "outputs": [],
   "source": [
    "df = pd.concat([df_einfach_without_scroll, df_schwer_without_scroll])\n",
    "result = shuffle(df)\n",
    "result_einfach = shuffle(df_einfach_without_scroll)\n",
    "result_schwer = shuffle(df_schwer_without_scroll)\n",
    "result_einfach['timeStamp'] = result_einfach['timeStamp'].astype(float)\n",
    "result_schwer['timeStamp'] = result_schwer['timeStamp'].astype(float)"
   ]
  },
  {
   "cell_type": "code",
   "execution_count": 101,
   "metadata": {},
   "outputs": [
    {
     "name": "stderr",
     "output_type": "stream",
     "text": [
      "<ipython-input-101-736e162c378e>:1: SettingWithCopyWarning: \n",
      "A value is trying to be set on a copy of a slice from a DataFrame.\n",
      "Try using .loc[row_indexer,col_indexer] = value instead\n",
      "\n",
      "See the caveats in the documentation: https://pandas.pydata.org/pandas-docs/stable/user_guide/indexing.html#returning-a-view-versus-a-copy\n",
      "  result['type_id'] = np.where(df['type']==\"click\", 510.0,\n",
      "<ipython-input-101-736e162c378e>:8: SettingWithCopyWarning: \n",
      "A value is trying to be set on a copy of a slice from a DataFrame.\n",
      "Try using .loc[row_indexer,col_indexer] = value instead\n",
      "\n",
      "See the caveats in the documentation: https://pandas.pydata.org/pandas-docs/stable/user_guide/indexing.html#returning-a-view-versus-a-copy\n",
      "  result['type_id'] = result['type_id'].astype(float)\n",
      "<ipython-input-101-736e162c378e>:9: SettingWithCopyWarning: \n",
      "A value is trying to be set on a copy of a slice from a DataFrame.\n",
      "Try using .loc[row_indexer,col_indexer] = value instead\n",
      "\n",
      "See the caveats in the documentation: https://pandas.pydata.org/pandas-docs/stable/user_guide/indexing.html#returning-a-view-versus-a-copy\n",
      "  result['timeStamp'] = result['timeStamp'].astype(float)\n"
     ]
    }
   ],
   "source": [
    "result['type_id'] = np.where(df['type']==\"click\", 510.0,\n",
    "                   np.where(df['type']==\"focus\", 511.0,\n",
    "                   np.where(df['type']==\"blur\", 512.0,\n",
    "                   np.where(df['type']==\"keydown\", 513.0,\n",
    "                   np.where(df['type']==\"mouseover\", 514.0,\n",
    "                   np.where(df['type']==\"mouseout\", 515.0, 'value4'))))))\n",
    "\n",
    "result['type_id'] = result['type_id'].astype(float)\n",
    "result['timeStamp'] = result['timeStamp'].astype(float)"
   ]
  },
  {
   "cell_type": "code",
   "execution_count": 102,
   "metadata": {},
   "outputs": [],
   "source": [
    "'''\n",
    "Recognize whether a column is numerical or categorical.\n",
    ":parameter\n",
    "    :param dtf: dataframe - input data\n",
    "    :param col: str - name of the column to analyze\n",
    "    :param max_cat: num - max number of unique values to recognize a column as categorical\n",
    ":return\n",
    "    \"cat\" if the column is categorical or \"num\" otherwise\n",
    "'''\n",
    "def utils_recognize_type(result, col, max_cat=20):\n",
    "    if (result[col].dtype == \"TestEinfach\") | (result[col].nunique() < max_cat):\n",
    "        return \"cat\"\n",
    "    else:\n",
    "        return \"num\""
   ]
  },
  {
   "cell_type": "code",
   "execution_count": 103,
   "metadata": {},
   "outputs": [
    {
     "data": {
      "image/png": "[encoded data removed]",
      "text/plain": [
       "<Figure size 432x288 with 1 Axes>"
      ]
     },
     "metadata": {
      "needs_background": "light"
     },
     "output_type": "display_data"
    },
    {
     "name": "stdout",
     "output_type": "stream",
     "text": [
      "\u001b[1;37;40m Categerocial  \u001b[1;30;41m Numeric  \u001b[1;30;47m NaN \n"
     ]
    }
   ],
   "source": [
    "dic_cols = {col:utils_recognize_type(result, col, max_cat=20) for col in result.columns}\n",
    "heatmap = result.isnull()\n",
    "for k,v in dic_cols.items():\n",
    " if v == \"num\":\n",
    "   heatmap[k] = heatmap[k].apply(lambda x: 0.5 if x is False else 1)\n",
    " else:\n",
    "   heatmap[k] = heatmap[k].apply(lambda x: 0 if x is False else 1)\n",
    "sns.heatmap(heatmap, cbar=False).set_title('Dataset Overview')\n",
    "plt.show()\n",
    "print(\"\\033[1;37;40m Categerocial \", \"\\033[1;30;41m Numeric \", \"\\033[1;30;47m NaN \")"
   ]
  },
  {
   "cell_type": "code",
   "execution_count": 104,
   "metadata": {},
   "outputs": [],
   "source": [
    "result = result.set_index(\"session\")\n",
    "result = result.rename(columns={\"siteName\":\"Y\"})"
   ]
  },
  {
   "cell_type": "code",
   "execution_count": 105,
   "metadata": {},
   "outputs": [
    {
     "data": {
      "image/png": "[encoded data removed]",
      "text/plain": [
       "<Figure size 432x288 with 1 Axes>"
      ]
     },
     "metadata": {
      "needs_background": "light"
     },
     "output_type": "display_data"
    }
   ],
   "source": [
    "y = \"Y\"\n",
    "ax = result[y].value_counts().sort_values().plot(kind=\"barh\")\n",
    "totals= []\n",
    "for i in ax.patches:\n",
    "    totals.append(i.get_width())\n",
    "total = sum(totals)\n",
    "for i in ax.patches:\n",
    "     ax.text(i.get_width()+.3, i.get_y()+.20, \n",
    "     str(round((i.get_width()/total)*100, 2))+'%', \n",
    "     fontsize=10, color='black')\n",
    "ax.grid(axis=\"x\")\n",
    "plt.suptitle(y, fontsize=20)\n",
    "plt.show()"
   ]
  },
  {
   "cell_type": "code",
   "execution_count": 106,
   "metadata": {},
   "outputs": [
    {
     "name": "stderr",
     "output_type": "stream",
     "text": [
      "/Users/ingaglotzbach/opt/anaconda3/lib/python3.8/site-packages/seaborn/distributions.py:2551: FutureWarning: `distplot` is a deprecated function and will be removed in a future version. Please adapt your code to use either `displot` (a figure-level function with similar flexibility) or `histplot` (an axes-level function for histograms).\n",
      "  warnings.warn(msg, FutureWarning)\n",
      "/Users/ingaglotzbach/opt/anaconda3/lib/python3.8/site-packages/pandas/core/series.py:726: RuntimeWarning: divide by zero encountered in log\n",
      "  result = getattr(ufunc, method)(*inputs, **kwargs)\n"
     ]
    },
    {
     "data": {
      "image/png": "[encoded data removed]",
      "text/plain": [
       "<Figure size 432x288 with 2 Axes>"
      ]
     },
     "metadata": {
      "needs_background": "light"
     },
     "output_type": "display_data"
    }
   ],
   "source": [
    "x = \"timeStamp\"\n",
    "fig, ax = plt.subplots(nrows=1, ncols=2,  sharex=False, sharey=False)\n",
    "fig.suptitle(x, fontsize=20)\n",
    "### distribution\n",
    "ax[0].title.set_text('distribution')\n",
    "variable = result[x].fillna(result[x].mean())\n",
    "breaks = np.quantile(variable, q=np.linspace(0, 1, 11))\n",
    "variable = variable[ (variable > breaks[0]) & (variable < \n",
    "                    breaks[10]) ]\n",
    "sns.distplot(variable, hist=True, kde=True, kde_kws={\"shade\": True}, ax=ax[0])\n",
    "des = result[x].describe()\n",
    "ax[0].axvline(des[\"25%\"], ls='--')\n",
    "ax[0].axvline(des[\"mean\"], ls='--')\n",
    "ax[0].axvline(des[\"75%\"], ls='--')\n",
    "ax[0].grid(True)\n",
    "des = round(des, 2).apply(lambda x: str(x))\n",
    "box = '\\n'.join((\"min: \"+des[\"min\"], \"25%: \"+des[\"25%\"], \"mean: \"+des[\"mean\"], \"75%: \"+des[\"75%\"], \"max: \"+des[\"max\"]))\n",
    "ax[0].text(0.95, 0.95, box, transform=ax[0].transAxes, fontsize=10, va='top', ha=\"right\", bbox=dict(boxstyle='round', facecolor='white', alpha=1))\n",
    "### boxplot \n",
    "ax[1].title.set_text('outliers (log scale)')\n",
    "tmp_dtf = pd.DataFrame(result[x])\n",
    "tmp_dtf[x] = np.log(tmp_dtf[x])\n",
    "tmp_dtf.boxplot(column=x, ax=ax[1])\n",
    "plt.show()\n",
    "#Plot and compare densities of the two samples, if the distributions are different then the variable is predictive because the two groups have different patterns."
   ]
  },
  {
   "cell_type": "code",
   "execution_count": 107,
   "metadata": {},
   "outputs": [
    {
     "name": "stdout",
     "output_type": "stream",
     "text": [
      "Anova F: the variables are Correlated (p-value: 0.0)\n"
     ]
    }
   ],
   "source": [
    "#category vs numberical\n",
    "#Annahme die Zeit beeinflusst das Ergebnis \n",
    "cat, num = \"Y\", \"timeStamp\"\n",
    "model = smf.ols(num+' ~ '+cat, data=result).fit()\n",
    "table = sm.stats.anova_lm(model)\n",
    "p = table[\"PR(>F)\"][0]\n",
    "coeff, p = None, round(p, 3)\n",
    "conclusion = \"Correlated\" if p < 0.05 else \"Non-Correlated\"\n",
    "print(\"Anova F: the variables are\", conclusion, \"(p-value: \"+str(p)+\")\")"
   ]
  },
  {
   "cell_type": "code",
   "execution_count": 120,
   "metadata": {},
   "outputs": [
    {
     "name": "stdout",
     "output_type": "stream",
     "text": [
      "Cramer Correlation: 0.983 Significant (p-value:0.0)\n"
     ]
    }
   ],
   "source": [
    "#category vs category -> Die typeId beeinflussen das Zeitergebnis\n",
    "x, y = \"elementId\", \"Y\"\n",
    "cont_table = pd.crosstab(index=result[x], columns=result[y])\n",
    "chi2_test = scipy.stats.chi2_contingency(cont_table)\n",
    "chi2, p = chi2_test[0], chi2_test[1]\n",
    "n = cont_table.sum().sum()\n",
    "phi2 = chi2/n\n",
    "r,k = cont_table.shape\n",
    "phi2corr = max(0, phi2-((k-1)*(r-1))/(n-1))\n",
    "rcorr = r-((r-1)**2)/(n-1)\n",
    "kcorr = k-((k-1)**2)/(n-1)\n",
    "coeff = np.sqrt(phi2corr/min((kcorr-1), (rcorr-1)))\n",
    "coeff, p = round(coeff, 3), round(p, 3)\n",
    "conclusion = \"Significant\" if p < 0.05 else \"Non-Significant\"\n",
    "print(\"Cramer Correlation:\", coeff, conclusion, \"(p-value:\"+str(p)+\")\")"
   ]
  }
 ],
 "metadata": {
  "kernelspec": {
   "display_name": "Python 3.8.5 ('base')",
   "language": "python",
   "name": "python3"
  },
  "language_info": {
   "codemirror_mode": {
    "name": "ipython",
    "version": 3
   },
   "file_extension": ".py",
   "mimetype": "text/x-python",
   "name": "python",
   "nbconvert_exporter": "python",
   "pygments_lexer": "ipython3",
   "version": "3.8.5"
  },
  "orig_nbformat": 4,
  "vscode": {
   "interpreter": {
    "hash": "72affea882e652da3862626e8de1ded8e3db67911e489535711f40448414c376"
   }
  }
 },
 "nbformat": 4,
 "nbformat_minor": 2
}

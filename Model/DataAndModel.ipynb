{
 "cells": [
  {
   "cell_type": "code",
   "execution_count": 2,
   "metadata": {},
   "outputs": [],
   "source": [
    "import numpy as np\n",
    "import matplotlib.pyplot as plt\n",
    "import os \n",
    "import cv2\n",
    "import json\n",
    "import pandas as pd\n",
    "from pandas import read_csv\n",
    "import json"
   ]
  },
  {
   "cell_type": "code",
   "execution_count": 3,
   "metadata": {},
   "outputs": [],
   "source": [
    "# 1. Wir müssen unsere Daten laden \n",
    "# 2. Daten prozessieren -> Daten alle kleinschreiben, und dann in Vektor umwandeln \n",
    "# 3. One hot encoding -> stellt bestimmten Wert als 1 der 0 dar "
   ]
  },
  {
   "cell_type": "code",
   "execution_count": 4,
   "metadata": {},
   "outputs": [],
   "source": [
    "#lade einfache Daten und wandle in einen Dataframe um\n",
    "with open('testEinfach1.json') as einfachJson:\n",
    "    json_einfach_for_einfachData = json.load(einfachJson)\n",
    "\n",
    "#das sind alle Events mit Element id von einfach\n",
    "reduzed_json_einfach_for_einfachData = []\n",
    "\n",
    "#das sind alle Events mit Element id von einfach\n",
    "for index, item in enumerate(json_einfach_for_einfachData):\n",
    "    elementId = item.get('elementId')\n",
    "    if (elementId == 'inputCountry' or elementId == 'inputHouse' or elementId ==  'inputPet' or elementId ==  'inputHand' or elementId ==  'inputBundesland' or elementId == 'inputEasyQuestion' or (elementId == 'window' and item.get('siteName') == 'TestEinfach')):\n",
    "        reduzed_json_einfach_for_einfachData.append(item)"
   ]
  },
  {
   "cell_type": "code",
   "execution_count": 5,
   "metadata": {},
   "outputs": [],
   "source": [
    "with open('testEinfach1.json') as einfachJson:\n",
    "    json_einfach_for_missing_keys = json.load(einfachJson)\n",
    "\n",
    "#array mit allen Events die property key haben in TestEinfach\n",
    "array_with_keys_from_einfach = []\n",
    "\n",
    "#get all events with key \n",
    "for index, item in enumerate(json_einfach_for_missing_keys):\n",
    "    if(item.get('key')):\n",
    "        array_with_keys_from_einfach.append(item)\n",
    "\n",
    "#array mit allen Events die jetzt richtig zugeteilt wurden zu TestSchwer\n",
    "items_with_correct_keys = []\n",
    "\n",
    "#get all events which are actually in TestSchwer\n",
    "for index, item in enumerate(array_with_keys_from_einfach):\n",
    "    elementId = item.get('elementId')\n",
    "    if(elementId == 'inputHobby' or elementId =='inputCancelor' or elementId =='inputTemperature' or elementId =='inputDays' or elementId =='inputRivers' or elementId =='inputDifficultQuestion'):\n",
    "        item['siteName'] = 'TestSchwer'\n",
    "        items_with_correct_keys.append(item)\n"
   ]
  },
  {
   "cell_type": "code",
   "execution_count": 6,
   "metadata": {},
   "outputs": [],
   "source": [
    "with open('testSchwer1.json') as schwerJson: \n",
    "    json_schwer = json.load(schwerJson)\n",
    "\n",
    "#richtige schwer Events + array mit allen Events die jetzt richtig zugeteilt wurden zu TestSchwer\n",
    "extended_json_schwer = json_schwer + items_with_correct_keys\n",
    "\n",
    "#extended_json_schwer => alle Schwer Events \n",
    "#reduzed_json_einfach_for_einfachData => alle Einfach Events"
   ]
  },
  {
   "cell_type": "code",
   "execution_count": 7,
   "metadata": {},
   "outputs": [],
   "source": [
    "# ohne 'key' Spalte\n",
    "df_schwer = pd.DataFrame(extended_json_schwer)\n",
    "df_schwer_without_key = df_schwer.drop(['key'], axis=1)\n",
    "#6470 Events ohne scroll\n",
    "df_schwer_without_scroll = df_schwer_without_key.loc[df_schwer_without_key[\"type\"] !=\"scroll\"]\n",
    "\n",
    "df_einfach = pd.DataFrame(reduzed_json_einfach_for_einfachData)\n",
    "df_einfach_without_key = df_einfach.drop(['key'], axis=1)\n",
    "#1679 Events ohne scroll\n",
    "df_einfach_without_scroll = df_einfach_without_key.loc[df_einfach_without_key[\"type\"] !=\"scroll\"]"
   ]
  },
  {
   "cell_type": "code",
   "execution_count": 8,
   "metadata": {},
   "outputs": [],
   "source": [
    "sessionIdSchwer = df_schwer['session']\n",
    "sessionIdEinfach = df_einfach['session']\n",
    "\n",
    "df_einfach['is_duplicated'] = df_einfach.duplicated('session')\n",
    "#86 ids auf Seite Einfach\n",
    "setEinfach = set(sessionIdEinfach)\n",
    "length = len(setEinfach)\n",
    "\n",
    "#59 ids auf Seite Schwer\n",
    "df_schwer['is_duplicated'] = df_schwer.duplicated('session')\n",
    "setSchwer = set(sessionIdSchwer)\n",
    "lengthSchwer = len(setSchwer)\n"
   ]
  },
  {
   "cell_type": "code",
   "execution_count": 9,
   "metadata": {},
   "outputs": [],
   "source": [
    "in_schwer_but_not_in_einfach = setSchwer - setEinfach\n",
    "in_einfach_but_not_in_schwer = setEinfach - setSchwer\n",
    "\n",
    "array_einfach = list(in_einfach_but_not_in_schwer)\n",
    "array_schwer = list(in_schwer_but_not_in_einfach)\n",
    "\n",
    "# Anzahl Events | sessionId | Klasse \n",
    "# 20 | 95 | 0\n",
    "# 30 | 113 | 0\n",
    "# 10 | 113 | 1\n"
   ]
  },
  {
   "cell_type": "code",
   "execution_count": 10,
   "metadata": {},
   "outputs": [],
   "source": [
    "#52 Teilnehmer bzw. Sessions\n",
    "df_einfach_without_ids = df_einfach_without_scroll[~df_einfach_without_scroll['session'].isin(array_einfach)]\n",
    "df_schwer_without_ids = df_schwer_without_scroll[~df_schwer_without_scroll['session'].isin(array_schwer)]"
   ]
  },
  {
   "cell_type": "code",
   "execution_count": 11,
   "metadata": {},
   "outputs": [],
   "source": [
    "#remove columns\n",
    "df_removed_columns_einfach = df_einfach_without_ids.drop(['timeStamp', 'type', 'date'], axis=1)\n",
    "df_removed_columns_schwer = df_schwer_without_ids.drop(['timeStamp', 'type', 'date'], axis=1)"
   ]
  },
  {
   "cell_type": "code",
   "execution_count": 12,
   "metadata": {},
   "outputs": [],
   "source": [
    "#replace values of columns \n",
    "df_new_siteName_einfach = df_removed_columns_einfach.replace('TestEinfach', 0)\n",
    "df_new_siteName_schwer = df_removed_columns_schwer.replace('TestSchwer', 1)\n",
    "\n",
    "arrayOfEvents = ['clickHere', 'buttonYes', 'nextButton', 'alibiClick']\n",
    "\n",
    "df_removed_inputFields_schwer = df_new_siteName_schwer[~df_new_siteName_schwer['elementId'].isin(arrayOfEvents)]"
   ]
  },
  {
   "cell_type": "code",
   "execution_count": 29,
   "metadata": {},
   "outputs": [
    {
     "name": "stdout",
     "output_type": "stream",
     "text": [
      "[422 405 962 538 997 277 376 173 430 644 281 418 508 776 334 475 825 957\n",
      " 194 828 890 811 892 837 366 889 385 761 316 164 579 574 866 218 598 919\n",
      " 791 341 864 350 685 426 882 110 549 715 847 765 540 607 646 963]\n",
      "[539 498 313 219 456 670 179 345 737 839 470 193 479 807 322 227 402 766\n",
      " 332 950 709 674 498 339 128 477 505 698 697 560 142 955 261 127 601 137\n",
      " 482 576 782 123 273 921 125 291 870 588 923 916 265 734 233 545]\n"
     ]
    }
   ],
   "source": [
    "from random import random\n",
    "from secrets import choice\n",
    "\n",
    "#df_merged_einfach_schwer = pd.concat([df_removed_inputFields_schwer, df_new_siteName_einfach])\n",
    "array_of_ids_einfach = df_new_siteName_einfach['session'].value_counts().index.tolist()\n",
    "array_of_ids_schwer = df_removed_inputFields_schwer['session'].value_counts().index.tolist()\n",
    "\n",
    "random_numbers_einfach = np.random.randint(101,1000,size=len(array_of_ids_einfach))\n",
    "random_numbers_schwer = np.random.choice([i for i in range(101,1000) if i not in random_numbers_einfach], size=len(array_of_ids_schwer))"
   ]
  },
  {
   "cell_type": "code",
   "execution_count": 34,
   "metadata": {},
   "outputs": [],
   "source": [
    "df_replaced_session_einfach = df_new_siteName_einfach.replace(array_of_ids_einfach, random_numbers_einfach)\n",
    "df_replaced_session_schwer = df_removed_inputFields_schwer.replace(array_of_ids_schwer, random_numbers_schwer)\n",
    "\n",
    "pd.set_option(\"display.max_rows\", None, \"display.max_columns\", None)\n",
    "\n",
    "#df_replaced_session_einfach['session'].value_counts()\n",
    "#df_replaced_session_schwer['session'].value_counts()\n"
   ]
  },
  {
   "cell_type": "code",
   "execution_count": 43,
   "metadata": {},
   "outputs": [
    {
     "name": "stdout",
     "output_type": "stream",
     "text": [
      "    session  eventCount class_num\n",
      "0       498          68         0\n",
      "1       539          50         0\n",
      "2       219          42         0\n",
      "3       313          42         0\n",
      "4       456          38         0\n",
      "5       670          37         0\n",
      "6       345          32         0\n",
      "7       179          32         0\n",
      "8       737          32         0\n",
      "9       839          31         0\n",
      "10      193          30         0\n",
      "11      479          30         0\n",
      "12      470          30         0\n",
      "13      807          28         0\n",
      "14      322          28         0\n",
      "15      227          27         0\n",
      "16      950          26         0\n",
      "17      402          26         0\n",
      "18      332          26         0\n",
      "19      709          26         0\n",
      "20      766          26         0\n",
      "21      674          25         0\n",
      "22      339          25         0\n",
      "23      261          24         0\n",
      "24      560          24         0\n",
      "25      697          24         0\n",
      "26      505          24         0\n",
      "27      698          24         0\n",
      "28      477          24         0\n",
      "29      142          24         0\n",
      "30      128          24         0\n",
      "31      127          24         0\n",
      "32      955          24         0\n",
      "33      137          22         0\n",
      "34      482          22         0\n",
      "35      601          22         0\n",
      "36      273          20         0\n",
      "37      576          20         0\n",
      "38      782          20         0\n",
      "39      123          20         0\n",
      "40      291          19         0\n",
      "41      588          19         0\n",
      "42      870          19         0\n",
      "43      921          19         0\n",
      "44      125          19         0\n",
      "45      265          18         0\n",
      "46      916          18         0\n",
      "47      923          18         0\n",
      "48      734          16         0\n",
      "49      233          14         0\n",
      "50      545           8         0\n",
      "    session  eventCount class_num\n",
      "0       422         942         1\n",
      "1       405         353         1\n",
      "2       962         347         1\n",
      "3       538         230         1\n",
      "4       997         216         1\n",
      "5       277         214         1\n",
      "6       376         208         1\n",
      "7       173         204         1\n",
      "8       430         159         1\n",
      "9       644         158         1\n",
      "10      281         156         1\n",
      "11      418         145         1\n",
      "12      508         143         1\n",
      "13      776         142         1\n",
      "14      334         138         1\n",
      "15      475         135         1\n",
      "16      957         128         1\n",
      "17      825         128         1\n",
      "18      194         122         1\n",
      "19      828         118         1\n",
      "20      890         114         1\n",
      "21      811         106         1\n",
      "22      892         105         1\n",
      "23      837          94         1\n",
      "24      366          80         1\n",
      "25      889          79         1\n",
      "26      385          75         1\n",
      "27      761          67         1\n",
      "28      316          65         1\n",
      "29      164          62         1\n",
      "30      579          61         1\n",
      "31      574          59         1\n",
      "32      866          51         1\n",
      "33      218          50         1\n",
      "34      598          49         1\n",
      "35      919          48         1\n",
      "36      791          48         1\n",
      "37      341          45         1\n",
      "38      864          38         1\n",
      "39      350          37         1\n",
      "40      685          27         1\n",
      "41      882          25         1\n",
      "42      426          25         1\n",
      "43      110          10         1\n",
      "44      549          10         1\n",
      "45      715           9         1\n",
      "46      847           8         1\n",
      "47      765           6         1\n",
      "48      540           6         1\n",
      "49      646           4         1\n",
      "50      607           4         1\n",
      "51      963           2         1\n"
     ]
    }
   ],
   "source": [
    "#create new Dataframe \n",
    "new_df_einfach = pd.DataFrame(df_replaced_session_einfach['session'].value_counts().reset_index().values, columns=[\"session\", \"eventCount\"])\n",
    "class_num_einfach = '0'\n",
    "df_final_einfach = new_df_einfach.assign(class_num=class_num_einfach)\n",
    "print(df_final_einfach)\n",
    "\n",
    "new_df_schwer = pd.DataFrame(df_replaced_session_schwer['session'].value_counts().reset_index().values, columns=[\"session\", \"eventCount\"])\n",
    "class_num_schwer = '1'\n",
    "df_final_schwer = new_df_schwer.assign(class_num=class_num_schwer)\n",
    "print(df_final_schwer)\n",
    "\n"
   ]
  },
  {
   "cell_type": "code",
   "execution_count": 15,
   "metadata": {},
   "outputs": [],
   "source": [
    "# #TestSchwer\n",
    "# timestampsSchwer = [i[\"timeStamp\"] for i in datasetSchwer[\"data\"]]\n",
    "# typesSchwer = [i['type'] for i in datasetSchwer['data']]\n",
    "\n",
    "# df = pd.DataFrame({'timestamp': timestampsSchwer, 'types': typesSchwer})\n",
    "\n",
    "# plt.bar(timestampsSchwer, typesSchwer)"
   ]
  },
  {
   "cell_type": "code",
   "execution_count": 16,
   "metadata": {},
   "outputs": [],
   "source": [
    "# from pandas import json_normalize\n",
    "\n",
    "# normalized_data = json_normalize(dataset['programs'])\n",
    "\n",
    "# normalized_data.drop('_id.$oid', inplace=True, axis=1)\n",
    "\n",
    "\n",
    "# normalized_data.head(10)\n",
    "\n",
    "\n"
   ]
  },
  {
   "cell_type": "code",
   "execution_count": 17,
   "metadata": {},
   "outputs": [
    {
     "ename": "NameError",
     "evalue": "name 'normalized_data' is not defined",
     "output_type": "error",
     "traceback": [
      "\u001b[0;31m---------------------------------------------------------------------------\u001b[0m",
      "\u001b[0;31mNameError\u001b[0m                                 Traceback (most recent call last)",
      "\u001b[0;32m<ipython-input-17-9842569e61c9>\u001b[0m in \u001b[0;36m<module>\u001b[0;34m\u001b[0m\n\u001b[0;32m----> 1\u001b[0;31m \u001b[0mnormalized_data\u001b[0m\u001b[0;34m.\u001b[0m\u001b[0mduplicated\u001b[0m\u001b[0;34m(\u001b[0m\u001b[0;34m)\u001b[0m\u001b[0;34m.\u001b[0m\u001b[0msum\u001b[0m\u001b[0;34m\u001b[0m\u001b[0;34m\u001b[0m\u001b[0m\n\u001b[0m",
      "\u001b[0;31mNameError\u001b[0m: name 'normalized_data' is not defined"
     ]
    }
   ],
   "source": [
    "normalized_data.duplicated().sum\n"
   ]
  },
  {
   "cell_type": "code",
   "execution_count": null,
   "metadata": {},
   "outputs": [
    {
     "name": "stdout",
     "output_type": "stream",
     "text": [
      "<class 'pandas.core.frame.DataFrame'>\n",
      "RangeIndex: 347 entries, 0 to 346\n",
      "Data columns (total 9 columns):\n",
      " #   Column     Non-Null Count  Dtype \n",
      "---  ------     --------------  ----- \n",
      " 0   clientId   347 non-null    object\n",
      " 1   elementId  347 non-null    object\n",
      " 2   timeStamp  347 non-null    object\n",
      " 3   type       347 non-null    object\n",
      " 4   siteName   347 non-null    object\n",
      " 5   date       347 non-null    object\n",
      " 6   clientX    133 non-null    object\n",
      " 7   clientY    133 non-null    object\n",
      " 8   browser    180 non-null    object\n",
      "dtypes: object(9)\n",
      "memory usage: 24.5+ KB\n"
     ]
    }
   ],
   "source": [
    "normalized_data.info()"
   ]
  }
 ],
 "metadata": {
  "kernelspec": {
   "display_name": "Python 3.8.5 ('base')",
   "language": "python",
   "name": "python3"
  },
  "language_info": {
   "codemirror_mode": {
    "name": "ipython",
    "version": 3
   },
   "file_extension": ".py",
   "mimetype": "text/x-python",
   "name": "python",
   "nbconvert_exporter": "python",
   "pygments_lexer": "ipython3",
   "version": "3.8.5"
  },
  "orig_nbformat": 4,
  "vscode": {
   "interpreter": {
    "hash": "72affea882e652da3862626e8de1ded8e3db67911e489535711f40448414c376"
   }
  }
 },
 "nbformat": 4,
 "nbformat_minor": 2
}
